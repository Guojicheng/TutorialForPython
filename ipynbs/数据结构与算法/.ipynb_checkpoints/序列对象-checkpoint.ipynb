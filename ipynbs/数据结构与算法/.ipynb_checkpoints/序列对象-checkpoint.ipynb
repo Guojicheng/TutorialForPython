{
 "cells": [
  {
   "cell_type": "markdown",
   "metadata": {
    "collapsed": true
   },
   "source": [
    "# 序列对象\n",
    "\n",
    "`Python`标准库用`C语言`实现了丰富的序列类型,列举如下.\n",
    "\n",
    "+ 容器序列\n",
    "\n",
    "`list`、`tuple` 和 `collections.deque`这些序列能存放异构(不同类型的)数据.\n",
    "\n",
    "+ 扁平序列\n",
    "\n",
    "`str`、`bytes`、`bytearray`、`memoryview` 和`array.array`,这类序列只能容纳同构(同一种类型的)数据."
   ]
  }
 ],
 "metadata": {
  "kernelspec": {
   "display_name": "Python 3",
   "language": "python",
   "name": "python3"
  },
  "language_info": {
   "codemirror_mode": {
    "name": "ipython",
    "version": 3
   },
   "file_extension": ".py",
   "mimetype": "text/x-python",
   "name": "python",
   "nbconvert_exporter": "python",
   "pygments_lexer": "ipython3",
   "version": "3.6.0"
  }
 },
 "nbformat": 4,
 "nbformat_minor": 2
}
