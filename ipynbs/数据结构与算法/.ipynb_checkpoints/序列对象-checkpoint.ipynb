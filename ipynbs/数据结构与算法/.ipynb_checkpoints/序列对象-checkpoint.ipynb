{
 "cells": [
  {
   "cell_type": "markdown",
   "metadata": {
    "collapsed": true
   },
   "source": [
    "# 序列对象概述\n",
    "\n",
    "`Python`标准库用`C语言`实现了丰富的序列类型,从底层实现的角度来分类,可以分为容器序列和扁平序列.列举如下.\n",
    "\n",
    "+ 容器序列\n",
    "\n",
    "`list`、`tuple` 和 `collections.deque`这些序列能存放异构(不同类型的)数据.本质上存储的内容是引用,关于引用,可以看[python数据模型](http://blog.hszofficial.site/TutorialForPython/Python%E7%9A%84%E6%95%B0%E6%8D%AE%E6%A8%A1%E5%9E%8B/%E5%8F%98%E9%87%8F%E5%BC%95%E7%94%A8%E4%B8%8E%E5%9E%83%E5%9C%BE%E5%9B%9E%E6%94%B6.html)部分的相关介绍.\n",
    "\n",
    "+ 扁平序列\n",
    "\n",
    "`str`、`bytes`、`bytearray`、`memoryview` ,`array.array` 以及准标准库`numpy.array`.这类序列只能容纳同构(同一种类型的)数据.\n",
    "\n",
    "\n",
    "容器序列存放的是它们所包含的任意类型的对象的引用,而扁平序列里存放的是值而不是引用.换句话说,扁平序列其实是一段连续的内存空间.\n",
    "由此可见扁平序列其实更加紧凑,但是它里面只能存放诸如字符、字节和数值这种基础类型.\n",
    "\n",
    "序列类型还能按照能否被修改来分类:\n",
    "\n",
    "+ 可变序列`MutableSequence`\n",
    "\n",
    "`list`、`bytearray`、`array.array`、`collections.deque`和`memoryview`.\n",
    "\n",
    "+ 不可变序列`Sequence`\n",
    "\n",
    "`tuple`、`str`、`bytes`和`numpy.ndarray`\n",
    "\n",
    "下图显示了可变序列和不可变序列的差异,同时也 能看出前者从后者那里继承了一些方法.虽然内置的序列类型并不是直接从`Sequence`和 `MutableSequence`这两个抽象基类继承而来的.但是了解这些基类可以帮助我们总结出那些完整的序列类型包含了哪些功能:\n",
    "\n",
    "![序列uml图](source/sqe.png)\n",
    "\n",
    "扁平序列内置类型相关的操作可以看[文本文件与字节序](http://blog.hszofficial.site/TutorialForPython/%E6%96%87%E6%9C%AC_%E6%96%87%E4%BB%B6%E4%B8%8E%E5%AD%97%E8%8A%82%E5%BA%8F/%E5%AD%97%E8%8A%82%E5%BA%8F%E5%88%97%E4%B8%8E%E5%86%85%E5%AD%98%E8%A7%86%E5%9B%BE.html)相关的内容.\n",
    "\n",
    "而numpy数组可以看我的[这篇文章](http://blog.hszofficial.site/TutorialForPythonDataAnalysis/numpy/narray_and_universal_function/narray_and_universal_function.html)"
   ]
  },
  {
   "cell_type": "markdown",
   "metadata": {
    "collapsed": true
   },
   "source": [
    "# 列表`list`\n",
    "\n",
    "最重要也最基础的序列类型应该就是列表(`list`)了.`list`是一个可变序列,并且能同时存放不同类型的元素.\n",
    "\n",
    "\n",
    "因此让我们直接开始讨论列表推导(list comprehension)吧。列表推导是一种构建列表的方法,它异常强大, 然而由于相关的句法比较晦涩,人们往往不愿意去用它。掌握列表推导还可以为我们打开 生成器表达式(generator expression)的大门,后者具有生成各种类型的元素并用它们来填 充序列的功能。下一节就来看看这两个概念。\n"
   ]
  },
  {
   "cell_type": "markdown",
   "metadata": {},
   "source": [
    "## 列表推导\n"
   ]
  },
  {
   "cell_type": "markdown",
   "metadata": {},
   "source": [
    "# 双向队列`deque`"
   ]
  },
  {
   "cell_type": "markdown",
   "metadata": {},
   "source": [
    "# 元组`tuple`"
   ]
  },
  {
   "cell_type": "markdown",
   "metadata": {},
   "source": [
    "# 序列操作"
   ]
  },
  {
   "cell_type": "markdown",
   "metadata": {},
   "source": [
    "## 切片操作"
   ]
  },
  {
   "cell_type": "markdown",
   "metadata": {},
   "source": [
    "## 对序列使用`+ `,`*`,`+=`,`*=`"
   ]
  },
  {
   "cell_type": "markdown",
   "metadata": {},
   "source": [
    "## 排序"
   ]
  }
 ],
 "metadata": {
  "kernelspec": {
   "display_name": "Python 3",
   "language": "python",
   "name": "python3"
  },
  "language_info": {
   "codemirror_mode": {
    "name": "ipython",
    "version": 3
   },
   "file_extension": ".py",
   "mimetype": "text/x-python",
   "name": "python",
   "nbconvert_exporter": "python",
   "pygments_lexer": "ipython3",
   "version": "3.6.0"
  }
 },
 "nbformat": 4,
 "nbformat_minor": 2
}
