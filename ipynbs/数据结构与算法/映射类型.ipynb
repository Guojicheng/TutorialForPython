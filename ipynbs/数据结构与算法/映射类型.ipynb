{
 "cells": [
  {
   "cell_type": "markdown",
   "metadata": {
    "collapsed": true
   },
   "source": [
    "# 映射类型的范畴\n",
    "\n",
    "python中的映射类型分为两类:\n",
    "\n",
    "+ \n",
    "\n",
    "`dict`类型不但在各种程序里广泛使用，它也是`Python`语言的基石。模块的命名空间、实例的属性和函数的关键字参数中都可以看到字典的身影。跟它有关的内置函数都在`__builtins__.__dict__`模块中.\n",
    "\n",
    "正是因为字典至关重要，`Python`对它的实现做了高度优化，而散列表则是字典类型性能出众的根本原因.\n",
    "\n",
    "集合(`set`)的实现其实也依赖于散列表,因此映射类型的关键就在于理解散列表的原理。"
   ]
  },
  {
   "cell_type": "markdown",
   "metadata": {},
   "source": [
    "# 可散列对象\n",
    "\n",
    "在Python 词汇表（https://docs.python.org/3/glossary.html#term-hashable）中，关于可散\n",
    "列类型的定义有这样一段话：\n",
    "如果一个对象是可散列的，那么在这个对象的生命周期中，它的散列值是不变\n",
    "的，而且这个对象需要实现__hash__() 方法。另外可散列对象还要有__qe__()\n",
    "方法， 这样才能跟其他键做比较。如果两个可散列对象是相等的，那么它们的\n",
    "散列值一定是一样的……\n",
    "原子不可变数据类型（str、bytes 和数值类型）都是可散列类型，frozenset 也是可散\n",
    "列的，因为根据其定义，frozenset 里只能容纳可散列类型。元组的话，只有当一个元\n",
    "组包含的所有元素都是可散列类型的情况下，它才是可散列的。来"
   ]
  },
  {
   "cell_type": "code",
   "execution_count": null,
   "metadata": {
    "collapsed": true
   },
   "outputs": [],
   "source": []
  },
  {
   "cell_type": "markdown",
   "metadata": {},
   "source": [
    "# 字典\n",
    "\n",
    "## 字典推导\n",
    "\n"
   ]
  },
  {
   "cell_type": "markdown",
   "metadata": {},
   "source": [
    "# 集合\n"
   ]
  },
  {
   "cell_type": "markdown",
   "metadata": {},
   "source": [
    "## 集合推导"
   ]
  },
  {
   "cell_type": "markdown",
   "metadata": {},
   "source": [
    "# 映射的弹性建查询"
   ]
  },
  {
   "cell_type": "markdown",
   "metadata": {},
   "source": [
    "# 不可变映射类型"
   ]
  }
 ],
 "metadata": {
  "kernelspec": {
   "display_name": "Python 3",
   "language": "python",
   "name": "python3"
  },
  "language_info": {
   "codemirror_mode": {
    "name": "ipython",
    "version": 3
   },
   "file_extension": ".py",
   "mimetype": "text/x-python",
   "name": "python",
   "nbconvert_exporter": "python",
   "pygments_lexer": "ipython3",
   "version": "3.6.0"
  }
 },
 "nbformat": 4,
 "nbformat_minor": 2
}
