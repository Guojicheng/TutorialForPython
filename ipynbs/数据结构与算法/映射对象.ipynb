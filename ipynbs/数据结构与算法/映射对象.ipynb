{
 "cells": [
  {
   "cell_type": "markdown",
   "metadata": {
    "collapsed": true
   },
   "source": [
    "# 映射对象的范畴\n",
    "\n",
    "python中的映射类型分为两类:\n",
    "\n",
    "+ 可变映射\n",
    "\n",
    "+ 不可变映射\n",
    "\n",
    "![映射对象的范畴](source/map.PNG)\n",
    "\n",
    "python目前的内建映射包括字典`dict`,`defaultdict` ,`OrderedDict`,和集合`set`和`frozenset`,其中除了`frozenset`其他都是可变映射\n",
    "\n",
    "字典类型不但在各种程序里广泛使用，它也是`Python`语言的基石。模块的命名空间、实例的属性和函数的关键字参数中都可以看到字典的身影。跟它有关的内置函数都在`__builtins__.__dict__`模块中.\n",
    "\n",
    "正是因为字典至关重要，`Python`对它的实现做了高度优化，而散列表则是字典类型性能出众的根本原因.\n",
    "\n",
    "集合(`set`)的实现其实也依赖于散列表,因此映射类型的关键就在于理解散列表的原理。"
   ]
  },
  {
   "cell_type": "markdown",
   "metadata": {},
   "source": [
    "# 可散列对象\n",
    "\n",
    "在[Python 词汇表](https://docs.python.org/3/glossary.html#term-hashable)中，关于可散列类型的定义有这样一段话:\n",
    "\n",
    "如果一个对象是可散列的，那么在这个对象的生命周期中，它的散列值是不变的，而且这个对象需要实现`__hash__()`方法。另外可散列对象还要有`__qe__()`\n",
    "方法,这样才能跟其他键做比较.如果两个可散列对象是相等的，那么它们的散列值一定是一样的.\n",
    "\n",
    "原子不可变数据类型(`str`、`bytes` 和数值类型)都是可散列类型,`frozenset`也是可散列的，因为根据其定义,`frozenset`里只能容纳可散列类型.元组的话,只有当一个元组包含的所有元素都是可散列类型的情况下,它才是可散列的.\n",
    "\n",
    "一般来讲用户自定义的类型的对象都是可散列的，散列值就是它们的`id()`函数的返回值，所以所有这些对象在比较的时候都是不相等的。如果一个对象实现了`__eq__`方法，并且在方法中用到了这个对象的内部状态的话，那么只有当所有这些内部状态都是不可变的情况下，这个对象才是可散列的."
   ]
  },
  {
   "cell_type": "markdown",
   "metadata": {
    "collapsed": true
   },
   "source": [
    "# 常见的映射方法\n",
    "\n",
    "从UML图中可以看出,与序列对象也是`Contaner`,也是`Sized`也是`Iterable`,而不同之处就是在于`Mapping`和`MutableMapping`.\n",
    "\n",
    "这些接口为字典对象带来了很多实用接口\n",
    "\n",
    "\n",
    "## 字典\n",
    "\n",
    "### 字典的方法:\n",
    "\n",
    "+ adict.clear() 删除字典中的所有项或元素；\n",
    "+ adict.copy() 返回一个字典浅拷贝的副本；\n",
    "+ adict.fromkeys(seq, val=None) 创建并返回一个新字典，以seq中的元素做该字典的键，val做该字典中所有键对应的初始值（默认为None）；\n",
    "+ adict.get(key, default = None) 返回字典中key对应的值，若key不存在字典中，则返回default的值（default默认为None）；\n",
    "+ adict.has_key(key) 如果key在字典中，返回True，否则返回False。 现在用 in 、 not in；\n",
    "+ adict.items() 返回一个包含所有（键，值）元祖的列表；\n",
    "+ adict.keys() 返回所有的keys形成的列表\n",
    "+ adict.pop(key[,default]) 和get方法相似。如果字典中存在key，删除并返回key对应的vuale；如果key不存在，且没有给出default的值，则引发keyerror异常；\n",
    "+ adict.popitem() 和pop类似,只是返回一个(key,value)的元组\n",
    "+ adict.setdefault(key, default=None) 和set()方法相似，但如果字典中不存在Key键，由 adict[key] = default 为它赋值；\n",
    "+ adict.update(bdict) 将字典bdict的键值对添加到字典adict中。\n",
    "+ adict.values() 返回一个包含字典所有value的列表；\n",
    "\n",
    "而`defaultdict`的额外接口为:\n",
    "\n",
    "+ adict.default_factory() 在`__missing__ `函数中被调用的函数，用以给未找到的元素设置值\n",
    "+ `d.__missing__(k)`  当`__getitem__ `找不到对应键的时候，这个方法会被调用.所有的映射类型在处理找不到的键的时候，都会牵扯到`__missing__`方法。这也是这个方法称作“missing”的原因。虽然基类`dict`并没有定义这个方法，但是`dict`是知道有这么个东西存在的.也就是说,如果有一个类继承了`dict`，然后这个继承类提供了`__missing__`方法，那么在`__getitem__`碰到找不到的键的时候，Python 就会自动调用它，而不是抛出一个`KeyError `异常。\n",
    "\n",
    "而`OrderedDict`与一般字典一样,只是它内部的元素有顺序\n",
    "\n"
   ]
  },
  {
   "cell_type": "markdown",
   "metadata": {},
   "source": [
    "### 字典推导"
   ]
  },
  {
   "cell_type": "markdown",
   "metadata": {},
   "source": [
    "### 字典的变种"
   ]
  },
  {
   "cell_type": "code",
   "execution_count": null,
   "metadata": {
    "collapsed": true
   },
   "outputs": [],
   "source": []
  },
  {
   "cell_type": "markdown",
   "metadata": {},
   "source": [
    "\n",
    "\n",
    "\n",
    "\n"
   ]
  },
  {
   "cell_type": "markdown",
   "metadata": {},
   "source": [
    "# 集合\n"
   ]
  },
  {
   "cell_type": "markdown",
   "metadata": {},
   "source": [
    "## 集合推导"
   ]
  },
  {
   "cell_type": "markdown",
   "metadata": {},
   "source": [
    "# 映射的弹性建查询"
   ]
  },
  {
   "cell_type": "markdown",
   "metadata": {},
   "source": [
    "# 不可变映射类型"
   ]
  }
 ],
 "metadata": {
  "kernelspec": {
   "display_name": "Python 3",
   "language": "python",
   "name": "python3"
  },
  "language_info": {
   "codemirror_mode": {
    "name": "ipython",
    "version": 3
   },
   "file_extension": ".py",
   "mimetype": "text/x-python",
   "name": "python",
   "nbconvert_exporter": "python",
   "pygments_lexer": "ipython3",
   "version": "3.6.0"
  }
 },
 "nbformat": 4,
 "nbformat_minor": 2
}
