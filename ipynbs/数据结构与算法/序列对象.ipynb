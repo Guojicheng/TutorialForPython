{
 "cells": [
  {
   "cell_type": "markdown",
   "metadata": {
    "collapsed": true
   },
   "source": [
    "# 序列对象\n",
    "\n",
    "`Python`标准库用`C语言`实现了丰富的序列类型,从底层实现的角度来分类,可以分为容器序列和扁平序列.列举如下.\n",
    "\n",
    "+ 容器序列\n",
    "\n",
    "`list`、`tuple` 和 `collections.deque`这些序列能存放异构(不同类型的)数据.本质上存储的内容是引用,关于引用,可以看[python数据模型](http://blog.hszofficial.site/TutorialForPython/Python%E7%9A%84%E6%95%B0%E6%8D%AE%E6%A8%A1%E5%9E%8B/%E5%8F%98%E9%87%8F%E5%BC%95%E7%94%A8%E4%B8%8E%E5%9E%83%E5%9C%BE%E5%9B%9E%E6%94%B6.html)部分的相关介绍.\n",
    "\n",
    "+ 扁平序列\n",
    "\n",
    "`str`、`bytes`、`bytearray`、`memoryview` ,`array.array` 以及准标准库`numpy.array`.这类序列只能容纳同构(同一种类型的)数据.他们本质上是一段内存.内置类型相关的操作可以看[文本文件与字节序](http://blog.hszofficial.site/TutorialForPython/%E6%96%87%E6%9C%AC_%E6%96%87%E4%BB%B6%E4%B8%8E%E5%AD%97%E8%8A%82%E5%BA%8F/%E5%AD%97%E8%8A%82%E5%BA%8F%E5%88%97%E4%B8%8E%E5%86%85%E5%AD%98%E8%A7%86%E5%9B%BE.html)相关的内容.\n"
   ]
  },
  {
   "cell_type": "code",
   "execution_count": null,
   "metadata": {
    "collapsed": true
   },
   "outputs": [],
   "source": []
  }
 ],
 "metadata": {
  "kernelspec": {
   "display_name": "Python 3",
   "language": "python",
   "name": "python3"
  },
  "language_info": {
   "codemirror_mode": {
    "name": "ipython",
    "version": 3
   },
   "file_extension": ".py",
   "mimetype": "text/x-python",
   "name": "python",
   "nbconvert_exporter": "python",
   "pygments_lexer": "ipython3",
   "version": "3.6.0"
  }
 },
 "nbformat": 4,
 "nbformat_minor": 2
}
