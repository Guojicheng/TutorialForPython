{
 "cells": [
  {
   "cell_type": "markdown",
   "metadata": {},
   "source": [
    "# 单例模式\n",
    "\n",
    "\n",
    "假设这边有这样一个场景:\n",
    "\n",
    "我们要描述一个现代家庭(丈夫,妻子,孩子),那就就应该是不管怎么样都只有一个丈夫,一个妻子,但是孩子可以数量不定.因此丈夫这个类型在这个系统中就是特指,妻子也是特指,而孩子就是泛指所有的孩子.\n",
    "\n",
    "使用面向对象的思想来看,丈夫妻子都既是类,又各特指一个固定的实例.因此应该是单例模式,而孩子是一个类型,是泛指一类对象.\n",
    "\n",
    "\n",
    "单例模式实际上可以类比全局变量,只是全局变量对应的是变量,而单例模式则是全局类特指固定的实例.\n",
    "\n",
    "\n",
    "说道底什么是单例模式呢?\n",
    "\n",
    "**确保类有且只有一个特定类型的对象,并提供全局的访问点.**\n",
    "\n",
    "可以看出单例模式是一个面向对象编程范式的扩展,它必须完全依托于面向对象编程.\n",
    "\n",
    "最常见的单例模式应用场景像日志记录,数据库操作,打印机后台,全局累加器等.\n",
    "\n",
    "\n",
    "## \n"
   ]
  }
 ],
 "metadata": {
  "kernelspec": {
   "display_name": "Python 3",
   "language": "python",
   "name": "python3"
  },
  "language_info": {
   "codemirror_mode": {
    "name": "ipython",
    "version": 3
   },
   "file_extension": ".py",
   "mimetype": "text/x-python",
   "name": "python",
   "nbconvert_exporter": "python",
   "pygments_lexer": "ipython3",
   "version": "3.6.4"
  }
 },
 "nbformat": 4,
 "nbformat_minor": 2
}
