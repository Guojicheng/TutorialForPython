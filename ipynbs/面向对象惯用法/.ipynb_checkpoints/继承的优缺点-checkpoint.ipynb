{
 "cells": [
  {
   "cell_type": "markdown",
   "metadata": {
    "collapsed": true
   },
   "source": [
    "# 继承\n",
    "\n",
    "推出继承的初衷是让新手顺利使用只有专家才能设计出来的框架.\n",
    "\n",
    "很多人觉得多重继承得不偿失。不支持多重继承的Java显然没有什么损失,`C++`对多重继 承的滥用伤害了很多人,这可能还坚定了使用Java的决心。\n",
    "\n",
    "然而,Java的巨大成功和广泛影响,也导致很多刚接触Python的程序员没怎么见过真实的代码使用多重继承.\n",
    "我们将首先分析子类化内置类型的问题.本章余下的内容则探讨多重继承,我们将分析案例,并讨论构建类层次结构方面好的做法和不好的做法.\n",
    "\n"
   ]
  },
  {
   "cell_type": "code",
   "execution_count": null,
   "metadata": {
    "collapsed": true
   },
   "outputs": [],
   "source": []
  },
  {
   "cell_type": "markdown",
   "metadata": {},
   "source": [
    "# 子类化内置类型的缺点"
   ]
  },
  {
   "cell_type": "markdown",
   "metadata": {},
   "source": [
    "# 多重继承和方法解析顺序"
   ]
  }
 ],
 "metadata": {
  "kernelspec": {
   "display_name": "Python 3",
   "language": "python",
   "name": "python3"
  },
  "language_info": {
   "codemirror_mode": {
    "name": "ipython",
    "version": 3
   },
   "file_extension": ".py",
   "mimetype": "text/x-python",
   "name": "python",
   "nbconvert_exporter": "python",
   "pygments_lexer": "ipython3",
   "version": "3.6.0"
  }
 },
 "nbformat": 4,
 "nbformat_minor": 2
}
