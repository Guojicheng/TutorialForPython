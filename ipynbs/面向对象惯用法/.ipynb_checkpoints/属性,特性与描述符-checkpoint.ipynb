{
 "cells": [
  {
   "cell_type": "markdown",
   "metadata": {
    "collapsed": true
   },
   "source": [
    "# 属性\n",
    "\n",
    "在`Python`中，数据的属性和处理数据的方法统称属性`attribute`.其实，方法只是可调用的属性.\n",
    "\n",
    "Python提供了丰富的API，用于控制属性的访问权限，以及实现动态属性.\n",
    "\n",
    "使用点号访问属性时(如`obj.attr`)，Python解释器会调用特殊的方法(如`__getattr__`和`__setattr__`)计算属性.用户自己定义的类可以通过`__getattr__`方法实现“虚拟属性”.当访问不存在的属性时（如`obj.no_such_attribute`），即时计算属性的值.\n",
    "\n",
    "动态创建属性照理说是一种元编程，框架的作者经常这么做.然而，在Python中，相关的基础技术十分简单，任何人都可以使用，甚至在日常的数据转换任务中也能用到.下面以这种任务开启本章的话题."
   ]
  },
  {
   "cell_type": "markdown",
   "metadata": {},
   "source": [
    "## 动态属性\n",
    "\n",
    "我们要使用动态属性处理O’Reilly 为OSCON 2014 大会提供的JSON 格式数据源.\n",
    "\n",
    "那个JSON源中有895条记录，整个数据集是一个JSON 对象，里面有一个键，名为\"Schedule\"；这个键对应的值也是一个映像，有4 个键：\"conferences\"、\"events\"、\"speakers\" 和\"venues\"。这4 个键对应的值都是一个记录列表。\n",
    "列表中有成百上千条记录。不过，\"conferences\" 键对应的列表中只有一条记录，如上述示例所示。这4 个列表中的每个元素都有一个名为\"serial\" 的字段，这是元素在各个列表中的唯一标识符.\n",
    "\n",
    "第一个脚本只用于下载那个OSCON 数据源.为了避免浪费流量，我会先检查本地有没有副本。这么做是合理的，因为OSCON 2014 大会已经结束，数据源不会再更新。\n",
    "第一个例子没用到元编程，几乎所有代码的作用可以用这一个表达式概括：`json.load(fp)`.\n",
    "不过，这样足以处理那个数据集了.osconfeed.load 函数会在后面几个示例中用到."
   ]
  },
  {
   "cell_type": "code",
   "execution_count": 1,
   "metadata": {
    "collapsed": true
   },
   "outputs": [],
   "source": [
    "import requests\n",
    "import warnings\n",
    "import os\n",
    "import json\n",
    "URL = 'http://www.oreilly.com/pub/sc/osconfeed'\n",
    "JSON = 'osconfeed.json'\n",
    "def load():\n",
    "    if not os.path.exists(JSON):\n",
    "        msg = 'downloading {} to {}'.format(URL, JSON)\n",
    "        warnings.warn(msg) \n",
    "        with open(JSON, 'w') as local:\n",
    "            remote = requests.get(URL)\n",
    "            json.dump(remote.json(),local)\n",
    "    with open(JSON) as fp:\n",
    "        return json.load(fp)"
   ]
  },
  {
   "cell_type": "code",
   "execution_count": 2,
   "metadata": {
    "collapsed": false
   },
   "outputs": [],
   "source": [
    "raw_feed = load()"
   ]
  },
  {
   "cell_type": "code",
   "execution_count": 3,
   "metadata": {
    "collapsed": false
   },
   "outputs": [
    {
     "data": {
      "text/plain": [
       "['conferences', 'events', 'speakers', 'venues']"
      ]
     },
     "execution_count": 3,
     "metadata": {},
     "output_type": "execute_result"
    }
   ],
   "source": [
    "sorted(raw_feed['Schedule'].keys())"
   ]
  },
  {
   "cell_type": "code",
   "execution_count": 4,
   "metadata": {
    "collapsed": false
   },
   "outputs": [
    {
     "name": "stdout",
     "output_type": "stream",
     "text": [
      "  1 conferences\n",
      "494 events\n",
      "357 speakers\n",
      " 53 venues\n"
     ]
    }
   ],
   "source": [
    "for key, value in sorted(raw_feed['Schedule'].items()):\n",
    "    print('{:3} {}'.format(len(value), key))"
   ]
  },
  {
   "cell_type": "code",
   "execution_count": 5,
   "metadata": {
    "collapsed": false
   },
   "outputs": [
    {
     "data": {
      "text/plain": [
       "'Carina C. Zona'"
      ]
     },
     "execution_count": 5,
     "metadata": {},
     "output_type": "execute_result"
    }
   ],
   "source": [
    "raw_feed['Schedule']['speakers'][-1]['name']"
   ]
  },
  {
   "cell_type": "code",
   "execution_count": 6,
   "metadata": {
    "collapsed": false
   },
   "outputs": [
    {
     "data": {
      "text/plain": [
       "141590"
      ]
     },
     "execution_count": 6,
     "metadata": {},
     "output_type": "execute_result"
    }
   ],
   "source": [
    "raw_feed['Schedule']['speakers'][-1]['serial']"
   ]
  },
  {
   "cell_type": "code",
   "execution_count": 7,
   "metadata": {
    "collapsed": false
   },
   "outputs": [
    {
     "data": {
      "text/plain": [
       "'There *Will* Be Bugs'"
      ]
     },
     "execution_count": 7,
     "metadata": {},
     "output_type": "execute_result"
    }
   ],
   "source": [
    "raw_feed['Schedule']['events'][40]['name']"
   ]
  },
  {
   "cell_type": "code",
   "execution_count": 8,
   "metadata": {
    "collapsed": false
   },
   "outputs": [
    {
     "data": {
      "text/plain": [
       "[3471, 5199]"
      ]
     },
     "execution_count": 8,
     "metadata": {},
     "output_type": "execute_result"
    }
   ],
   "source": [
    "raw_feed['Schedule']['events'][40]['speakers']"
   ]
  },
  {
   "cell_type": "markdown",
   "metadata": {},
   "source": [
    "### 使用动态属性访问JSON类数据\n",
    "\n",
    "`feed['Schedule']['events'][40]['name']` 这种句法很冗长.在JavaScript中，可以使用`feed.Schedule.events[40].name `获取那个值。在Python 中，可以实现一个近似字典的类（网上有大量实现），达到同样的效果。我自己实现了`FrozenJSON`类，比大多数实现都简单，因为只支持读取，即只能访问数据。不过，这个类能递归，自动处理嵌套的映射和列表\n"
   ]
  },
  {
   "cell_type": "code",
   "execution_count": 9,
   "metadata": {
    "collapsed": false
   },
   "outputs": [],
   "source": [
    "from collections import abc\n",
    "class FrozenJSON:\n",
    "    \"\"\"一个只读接口，使用属性表示法访问JSON类对象\n",
    "    \"\"\"\n",
    "    def __init__(self, mapping):\n",
    "        self.__data = dict(mapping) \n",
    "    def __getattr__(self, name): \n",
    "        # `__getattr__`特殊方法用于重载`.`符号获取值的行为\n",
    "        if hasattr(self.__data, name):\n",
    "            return getattr(self.__data, name) \n",
    "        else:\n",
    "            return FrozenJSON.build(self.__data[name])\n",
    "        \n",
    "    @classmethod\n",
    "    def build(cls, obj): \n",
    "        if isinstance(obj, abc.Mapping): \n",
    "            return cls(obj)\n",
    "        elif isinstance(obj, abc.MutableSequence): \n",
    "            return [cls.build(item) for item in obj]\n",
    "        else: \n",
    "            return obj"
   ]
  },
  {
   "cell_type": "code",
   "execution_count": 10,
   "metadata": {
    "collapsed": true
   },
   "outputs": [],
   "source": [
    "feed = FrozenJSON(raw_feed)"
   ]
  },
  {
   "cell_type": "code",
   "execution_count": 11,
   "metadata": {
    "collapsed": false
   },
   "outputs": [
    {
     "data": {
      "text/plain": [
       "357"
      ]
     },
     "execution_count": 11,
     "metadata": {},
     "output_type": "execute_result"
    }
   ],
   "source": [
    "len(feed.Schedule.speakers)"
   ]
  },
  {
   "cell_type": "code",
   "execution_count": 12,
   "metadata": {
    "collapsed": false
   },
   "outputs": [
    {
     "data": {
      "text/plain": [
       "['conferences', 'events', 'speakers', 'venues']"
      ]
     },
     "execution_count": 12,
     "metadata": {},
     "output_type": "execute_result"
    }
   ],
   "source": [
    "sorted(feed.Schedule.keys())"
   ]
  },
  {
   "cell_type": "code",
   "execution_count": 13,
   "metadata": {
    "collapsed": false
   },
   "outputs": [
    {
     "data": {
      "text/plain": [
       "'Carina C. Zona'"
      ]
     },
     "execution_count": 13,
     "metadata": {},
     "output_type": "execute_result"
    }
   ],
   "source": [
    "feed.Schedule.speakers[-1].name"
   ]
  },
  {
   "cell_type": "code",
   "execution_count": 14,
   "metadata": {
    "collapsed": true
   },
   "outputs": [],
   "source": [
    "talk = feed.Schedule.events[40]"
   ]
  },
  {
   "cell_type": "code",
   "execution_count": 15,
   "metadata": {
    "collapsed": false
   },
   "outputs": [
    {
     "data": {
      "text/plain": [
       "__main__.FrozenJSON"
      ]
     },
     "execution_count": 15,
     "metadata": {},
     "output_type": "execute_result"
    }
   ],
   "source": [
    "type(talk)"
   ]
  },
  {
   "cell_type": "code",
   "execution_count": 16,
   "metadata": {
    "collapsed": false
   },
   "outputs": [
    {
     "data": {
      "text/plain": [
       "'There *Will* Be Bugs'"
      ]
     },
     "execution_count": 16,
     "metadata": {},
     "output_type": "execute_result"
    }
   ],
   "source": [
    "talk.name"
   ]
  },
  {
   "cell_type": "code",
   "execution_count": 17,
   "metadata": {
    "collapsed": false
   },
   "outputs": [
    {
     "data": {
      "text/plain": [
       "[3471, 5199]"
      ]
     },
     "execution_count": 17,
     "metadata": {},
     "output_type": "execute_result"
    }
   ],
   "source": [
    "talk.speakers"
   ]
  },
  {
   "cell_type": "code",
   "execution_count": 18,
   "metadata": {
    "collapsed": false
   },
   "outputs": [
    {
     "ename": "KeyError",
     "evalue": "'flavor'",
     "output_type": "error",
     "traceback": [
      "\u001b[0;31m---------------------------------------------------------------------------\u001b[0m",
      "\u001b[0;31mKeyError\u001b[0m                                  Traceback (most recent call last)",
      "\u001b[0;32m<ipython-input-18-0ce41df2377c>\u001b[0m in \u001b[0;36m<module>\u001b[0;34m()\u001b[0m\n\u001b[0;32m----> 1\u001b[0;31m \u001b[0mtalk\u001b[0m\u001b[1;33m.\u001b[0m\u001b[0mflavor\u001b[0m\u001b[1;33m\u001b[0m\u001b[0m\n\u001b[0m",
      "\u001b[0;32m<ipython-input-9-5b20d0df8972>\u001b[0m in \u001b[0;36m__getattr__\u001b[0;34m(self, name)\u001b[0m\n\u001b[1;32m      9\u001b[0m             \u001b[1;32mreturn\u001b[0m \u001b[0mgetattr\u001b[0m\u001b[1;33m(\u001b[0m\u001b[0mself\u001b[0m\u001b[1;33m.\u001b[0m\u001b[0m__data\u001b[0m\u001b[1;33m,\u001b[0m \u001b[0mname\u001b[0m\u001b[1;33m)\u001b[0m\u001b[1;33m\u001b[0m\u001b[0m\n\u001b[1;32m     10\u001b[0m         \u001b[1;32melse\u001b[0m\u001b[1;33m:\u001b[0m\u001b[1;33m\u001b[0m\u001b[0m\n\u001b[0;32m---> 11\u001b[0;31m             \u001b[1;32mreturn\u001b[0m \u001b[0mFrozenJSON\u001b[0m\u001b[1;33m.\u001b[0m\u001b[0mbuild\u001b[0m\u001b[1;33m(\u001b[0m\u001b[0mself\u001b[0m\u001b[1;33m.\u001b[0m\u001b[0m__data\u001b[0m\u001b[1;33m[\u001b[0m\u001b[0mname\u001b[0m\u001b[1;33m]\u001b[0m\u001b[1;33m)\u001b[0m\u001b[1;33m\u001b[0m\u001b[0m\n\u001b[0m\u001b[1;32m     12\u001b[0m \u001b[1;33m\u001b[0m\u001b[0m\n\u001b[1;32m     13\u001b[0m     \u001b[1;33m@\u001b[0m\u001b[0mclassmethod\u001b[0m\u001b[1;33m\u001b[0m\u001b[0m\n",
      "\u001b[0;31mKeyError\u001b[0m: 'flavor'"
     ]
    }
   ],
   "source": [
    "talk.flavor"
   ]
  },
  {
   "cell_type": "markdown",
   "metadata": {},
   "source": [
    "### 处理无效属性名\n",
    "\n",
    "FrozenJSON 类有个缺陷：没有对名称为Python 关键字的属性做特殊处理。比如说像下面这\n",
    "样构建一个对象"
   ]
  },
  {
   "cell_type": "code",
   "execution_count": 19,
   "metadata": {
    "collapsed": true
   },
   "outputs": [],
   "source": [
    "grad = FrozenJSON({'name': 'Jim Bo', 'class': 1982})"
   ]
  },
  {
   "cell_type": "markdown",
   "metadata": {},
   "source": [
    "此时无法读取`grad.class`的值，因为在Python中class是保留字:"
   ]
  },
  {
   "cell_type": "code",
   "execution_count": 20,
   "metadata": {
    "collapsed": false
   },
   "outputs": [
    {
     "ename": "SyntaxError",
     "evalue": "invalid syntax (<ipython-input-20-ce4327ea3f6c>, line 1)",
     "output_type": "error",
     "traceback": [
      "\u001b[0;36m  File \u001b[0;32m\"<ipython-input-20-ce4327ea3f6c>\"\u001b[0;36m, line \u001b[0;32m1\u001b[0m\n\u001b[0;31m    grad.class\u001b[0m\n\u001b[0m             ^\u001b[0m\n\u001b[0;31mSyntaxError\u001b[0m\u001b[0;31m:\u001b[0m invalid syntax\n"
     ]
    }
   ],
   "source": [
    "grad.class"
   ]
  },
  {
   "cell_type": "markdown",
   "metadata": {},
   "source": [
    "但是，FrozenJSON 类的目的是为了便于访问数据，因此更好的方法是检查传给`Frozen-JSON.__init__` 方法的映射中是否有键的名称为关键字，如果有，那么在键名后加上`_`.\n",
    "\n",
    "这种有问题的键在Python 3中易于检测，因为str类提供的`s.isidentifier()`方法能根据语言的语法判断`s`是否为有效的Python标识符.但是，把无效的标识符变成有效的属性名却不容易.对此，有两个简单的解决方法:\n",
    "\n",
    "+ 一个是抛出异常\n",
    "+ 另一个是把无效的键换成通用名称，例如`attr_0`、`attr_1`，等等.\n",
    "\n",
    "为了简单起见，我将忽略这个问题.\n",
    "\n",
    "对动态属性的名称做了一些处理之后，我们要分析`FrozenJSON`类的另一个重要功能——类方法`build`的逻辑。这个方法把嵌套结构转换成`FrozenJSON`实例或`FrozenJSON`实例列表，因此`__getattr__` 方法使用这个方法访问属性时，能为不同的值返回不同类型的对象."
   ]
  },
  {
   "cell_type": "code",
   "execution_count": 23,
   "metadata": {
    "collapsed": true
   },
   "outputs": [],
   "source": [
    "import keyword\n",
    "from collections import abc\n",
    "class FrozenJSON:\n",
    "    \"\"\"一个只读接口，使用属性表示法访问JSON类对象\n",
    "    \"\"\"\n",
    "    def __init__(self, mapping):\n",
    "        self.__data = {}\n",
    "        for key, value in mapping.items():\n",
    "            if keyword.iskeyword(key):\n",
    "                key += '_'\n",
    "            self.__data[key] = value\n",
    "            \n",
    "    def __getattr__(self, name): \n",
    "        # `__getattr__`特殊方法用于重载`.`符号获取值的行为\n",
    "        if hasattr(self.__data, name):\n",
    "            return getattr(self.__data, name) \n",
    "        else:\n",
    "            return FrozenJSON.build(self.__data[name])\n",
    "        \n",
    "    @classmethod\n",
    "    def build(cls, obj): \n",
    "        if isinstance(obj, abc.Mapping): \n",
    "            return cls(obj)\n",
    "        elif isinstance(obj, abc.MutableSequence): \n",
    "            return [cls.build(item) for item in obj]\n",
    "        else: \n",
    "            return obj"
   ]
  },
  {
   "cell_type": "code",
   "execution_count": 24,
   "metadata": {
    "collapsed": false
   },
   "outputs": [],
   "source": [
    "grad = FrozenJSON({'name': 'Jim Bo', 'class': 1982})"
   ]
  },
  {
   "cell_type": "code",
   "execution_count": 26,
   "metadata": {
    "collapsed": false
   },
   "outputs": [
    {
     "data": {
      "text/plain": [
       "1982"
      ]
     },
     "execution_count": 26,
     "metadata": {},
     "output_type": "execute_result"
    }
   ],
   "source": [
    "grad.class_"
   ]
  },
  {
   "cell_type": "markdown",
   "metadata": {},
   "source": [
    "### 使用`__new__`方法以灵活的方式创建对象\n",
    "\n",
    "除了在类方法中实现这样的逻辑之外，还可以在特殊的`__new__`方法中实现.\n",
    "\n",
    "我们通常把`__init__`称为构造方法，这是从其他语言借鉴过来的术语.其实，用于构建实例的是特殊方法`__new__`--这是个类方法(使用特殊方式处理，因此不必使用`@classmethod`装饰器)，必须返回一个实例。返回的实例会作为第一个参数（即`self`）传给`__init__`方法。因为调用`__init__`方法时要传入实例，而且禁止返回任何值，所以`__init__` 方法其实是“初始化方法”.真正的构造方法是`__new__`。我们几乎不需要自己编写`__new__`方法，因为从`object`类继承的实现已经足够了。\n",
    "\n",
    "刚才说明的过程，即从`__new__ `方法到`__init__ `方法，是最常见的，但不是唯一的.\n",
    "\n",
    "`__new__`方法也可以返回其他类的实例，此时，解释器不会调用`__init__`方法.\n",
    "\n",
    "下面是FrozenJSON 类的另一个版本，把之前在类方法build 中的逻辑移到了`__new__`方法中."
   ]
  },
  {
   "cell_type": "code",
   "execution_count": null,
   "metadata": {
    "collapsed": true
   },
   "outputs": [],
   "source": [
    "import keyword\n",
    "from collections import abc\n",
    "class FrozenJSON:\n",
    "    \"\"\"一个只读接口，使用属性表示法访问JSON类对象\n",
    "    \"\"\"\n",
    "    def __new__(cls, arg): \n",
    "        if isinstance(arg, abc.Mapping):\n",
    "            return super().__new__(cls)\n",
    "        elif isinstance(arg, abc.MutableSequence): \n",
    "            return [cls(item) for item in arg]\n",
    "        else:\n",
    "            return arg\n",
    "    def __init__(self, mapping):\n",
    "        self.__data = {}\n",
    "        for key, value in mapping.items():\n",
    "            if keyword.iskeyword(key):\n",
    "                key += '_'\n",
    "            self.__data[key] = value\n",
    "            \n",
    "    def __getattr__(self, name): \n",
    "        # `__getattr__`特殊方法用于重载`.`符号获取值的行为\n",
    "        if hasattr(self.__data, name):\n",
    "            return getattr(self.__data, name) \n",
    "        else:\n",
    "            return FrozenJSON.build(self.__data[name])\n",
    "        "
   ]
  },
  {
   "cell_type": "markdown",
   "metadata": {},
   "source": [
    "`__new__`方法的第一个参数是类,因为创建的对象通常是那个类的实例.所以,在`FrozenJSON.__new__`方法中,`super().__new__(cls)`表达式会调`object.__new__(FrozenJSON)`，\n",
    "而`object`类构建的实例其实是`FrozenJSON`实例，即那个实例的`__class__`属性存储的是\n",
    "`FrozenJSON`类的引用.不过，真正的构建操作由解释器调用`C`语言实现的`object.__new__`方法执行.\n",
    "\n",
    "OSCON的JSON数据源有一个明显的缺点：索引为40的事件，即名为`There *Will* Be Bugs`的那个,有两位演讲者，3471 和5199，但却不容易找到他们，因为提供的是编号，\n",
    "而`Schedule.speakers`列表没有使用编号建立索引。此外，每条事件记录中都有`venue_serial` 字段，存储的值也是编号，但是如果想找到对应的记录，那就要线性搜索`Schedule.venues`列表.接下来的任务是，调整数据结构，以便自动获取所链接的记录."
   ]
  },
  {
   "cell_type": "markdown",
   "metadata": {},
   "source": [
    "### 使用shelve模块调整OSCON数据源的结构\n",
    "\n",
    "标准库中有个`shelve`(架子)模块，这名字听起来怪怪的，可是如果知道`pickle`(泡菜)是Python 对象序列化格式的名字，还是在那个格式与对象之间相互转换的某个模块的名字，就会觉得以`shelve` 命名是合理的。泡菜坛子摆放在架子上，因此shelve模块提供了pickle存储方式.\n",
    "\n",
    "`shelve.open` 高阶函数返回一个shelve.Shelf 实例，这是简单的键值对象数据库，背后由`dbm`模块支持，具有下述特点:\n",
    "\n",
    "+ shelve.Shelf 是abc.MutableMapping 的子类，因此提供了处理映射类型的重要方法。\n",
    "+ 此外，shelve.Shelf 类还提供了几个管理I/O 的方法，如sync 和close；它也是一个上\n",
    "下文管理器。\n",
    "+ 只要把新值赋予键，就会保存键和值。\n",
    "+ 键必须是字符串。\n",
    "+ 值必须是pickle 模块能处理的对象。\n",
    "\n",
    "shelve 模块为识别OSCON 的日程数据提供了一种简单有效的方式.我们将从JSON 文件中读取所有记录，将其存在一个shelve.Shelf 对象中，键由记录类型和编号组成（例如，`event.33950` 或`speaker.3471`），而值是我们即将定义的Record 类的实例.\n"
   ]
  },
  {
   "cell_type": "code",
   "execution_count": 36,
   "metadata": {
    "collapsed": false
   },
   "outputs": [],
   "source": [
    "import warnings\n",
    "\n",
    "DB_NAME = 'schedule1_db'\n",
    "CONFERENCE = 'conference.115'\n",
    "class Record:\n",
    "    def __init__(self, **kwargs):\n",
    "        self.__dict__.update(kwargs) \n",
    "def load_db(db):\n",
    "    raw_data = load()\n",
    "    warnings.warn('loading ' + DB_NAME)\n",
    "    for collection, rec_list in raw_data['Schedule'].items():\n",
    "        record_type = collection[:-1]\n",
    "        for record in rec_list:\n",
    "            key = '{}.{}'.format(record_type, record['serial'])\n",
    "            record['serial'] = key\n",
    "            db[key] = Record(**record)"
   ]
  },
  {
   "cell_type": "code",
   "execution_count": 37,
   "metadata": {
    "collapsed": true
   },
   "outputs": [],
   "source": [
    "import shelve"
   ]
  },
  {
   "cell_type": "code",
   "execution_count": 38,
   "metadata": {
    "collapsed": false
   },
   "outputs": [],
   "source": [
    "db = shelve.open(DB_NAME) "
   ]
  },
  {
   "cell_type": "code",
   "execution_count": 39,
   "metadata": {
    "collapsed": false
   },
   "outputs": [
    {
     "name": "stderr",
     "output_type": "stream",
     "text": [
      "C:\\Users\\87\\Anaconda3\\lib\\site-packages\\ipykernel\\__main__.py:10: UserWarning: loading schedule1_db\n"
     ]
    }
   ],
   "source": [
    "if CONFERENCE not in db:\n",
    "    load_db(db)"
   ]
  },
  {
   "cell_type": "code",
   "execution_count": 41,
   "metadata": {
    "collapsed": false
   },
   "outputs": [],
   "source": [
    "speaker = db['speaker.3471']"
   ]
  },
  {
   "cell_type": "code",
   "execution_count": 42,
   "metadata": {
    "collapsed": false
   },
   "outputs": [
    {
     "data": {
      "text/plain": [
       "__main__.Record"
      ]
     },
     "execution_count": 42,
     "metadata": {},
     "output_type": "execute_result"
    }
   ],
   "source": [
    "type(speaker)"
   ]
  },
  {
   "cell_type": "code",
   "execution_count": 43,
   "metadata": {
    "collapsed": false
   },
   "outputs": [
    {
     "data": {
      "text/plain": [
       "('Anna Martelli Ravenscroft', 'annaraven')"
      ]
     },
     "execution_count": 43,
     "metadata": {},
     "output_type": "execute_result"
    }
   ],
   "source": [
    "speaker.name, speaker.twitter"
   ]
  },
  {
   "cell_type": "code",
   "execution_count": 44,
   "metadata": {
    "collapsed": true
   },
   "outputs": [],
   "source": [
    "db.close()"
   ]
  },
  {
   "cell_type": "markdown",
   "metadata": {},
   "source": [
    "`Record.__init__`方法展示了一个流行的Python 技巧。我们知道，对象的`__dict__` 属性中存储着对象的属性——前提是类中没有声明`__slots__` 属性.因此，更新实例的`__dict__`属性，把值设为一个映射，能快速地在那个实例中创建一堆属性.\n",
    "\n",
    "\n",
    "示例中定义的`Record`类太简单了，因此你可能会问，为什么之前没用，而是使用更复杂的`FrozenJSON`类。原因有两个:\n",
    "\n",
    "+ 第一，`FrozenJSON`类要递归转换嵌套的映射和列表；而Record 类不需要这么做，因为转换好的数据集中没有嵌套的映射和列表，记录中只有字符串、整数、字符串列表和整数列表.\n",
    "+ 第二，FrozenJSON 类要访问内嵌的`__data `属性（值是字典，用于调用`keys`等方法），而现在我们也不需要这么做\n",
    "\n",
    "像上面那样调整日程数据集之后，我们可以扩展`Record`类，让它提供一个有用的服务--自动获取`event`记录引用的`venue` 和`speaker`记录。这与`Django ORM` 访问`models.ForeignKey` 字段时所做的事类似--得到的不是键，而是链接的模型对象."
   ]
  },
  {
   "cell_type": "markdown",
   "metadata": {},
   "source": [
    "# 特性\n",
    "\n",
    "除了属性之外，我们还可以创建特性(property)，在不改变类接口的前提下，使用存取方法(即读值方法和设值方法)修改数据属性.这与统一访问原则相符--不管服务是由存储还是计算实现的，一个模块提供的所有服务都应该通过统一的方式使用.\n",
    "\n",
    "\n",
    "## 使用特性获取链接的记录\n",
    "\n",
    "下图是用到的几个类\n",
    "![]()"
   ]
  }
 ],
 "metadata": {
  "kernelspec": {
   "display_name": "Python 3",
   "language": "python",
   "name": "python3"
  },
  "language_info": {
   "codemirror_mode": {
    "name": "ipython",
    "version": 3
   },
   "file_extension": ".py",
   "mimetype": "text/x-python",
   "name": "python",
   "nbconvert_exporter": "python",
   "pygments_lexer": "ipython3",
   "version": "3.6.0"
  }
 },
 "nbformat": 4,
 "nbformat_minor": 2
}
