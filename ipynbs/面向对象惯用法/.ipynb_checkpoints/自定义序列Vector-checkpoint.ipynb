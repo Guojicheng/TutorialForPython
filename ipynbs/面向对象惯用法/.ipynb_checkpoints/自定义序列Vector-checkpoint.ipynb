{
 "cells": [
  {
   "cell_type": "markdown",
   "metadata": {
    "collapsed": true
   },
   "source": [
    "# 自定义序列Vector\n",
    "\n",
    "本篇通过自定义Vector来看如何使用组合模式实现`Vector`类,而不使用继承.向量的分量存储在浮点数数组中,而且还将实现不可变扁平序列所需的方法.\n",
    "\n",
    "不过,在实现序列方法之前,我们要确保`Vector`类与之前定义的`Vector2D`类兼容,除非有些地方让二者兼容没有什么意义.\n",
    "\n",
    "# 第一版--与Vector2D兼容"
   ]
  },
  {
   "cell_type": "code",
   "execution_count": 1,
   "metadata": {
    "collapsed": true
   },
   "outputs": [],
   "source": [
    "from array import array\n",
    "import reprlib\n",
    "import math\n",
    "class Vector:\n",
    "    typecode = 'd'\n",
    "    def __init__(self, components):\n",
    "        self._components = array(self.typecode, components)\n",
    "    def __iter__(self):\n",
    "        return iter(self._components)\n",
    "    def __repr__(self):\n",
    "        \"\"\"\n",
    "        如果 Vector 实例的分量超过 6 个,`repr()` 生成的字符串就会使用 ... 省略一 部分,\n",
    "        包含大量元素的集合类型一定要这么做,因为字符串表示形式是用于调试的\n",
    "        (因此不想让大型对象在控制台或日 志中输出几千行内容).\n",
    "        使用 reprlib 模块可以生成长度有限的表示形式.\n",
    "        \"\"\"\n",
    "        components = reprlib.repr(self._components)\n",
    "        components = components[components.find('['):-1]\n",
    "        return 'Vector({})'.format(components)\n",
    "    def __str__(self):\n",
    "        return str(tuple(self))\n",
    "    def __bytes__(self):\n",
    "        return (bytes([ord(self.typecode)]) + bytes(self._components))\n",
    "    def __eq__(self, other):\n",
    "        return tuple(self) == tuple(other)\n",
    "    def __abs__(self):\n",
    "        return math.sqrt(sum(x * x for x in self))\n",
    "    def __bool__(self):\n",
    "        return bool(abs(self))\n",
    "    @classmethod\n",
    "    def frombytes(cls, octets):\n",
    "        typecode = chr(octets[0])\n",
    "        memv = memoryview(octets[1:]).cast(typecode) \n",
    "        return cls(memv)"
   ]
  },
  {
   "cell_type": "code",
   "execution_count": 2,
   "metadata": {},
   "outputs": [
    {
     "data": {
      "text/plain": [
       "Vector([3.1, 4.2])"
      ]
     },
     "execution_count": 2,
     "metadata": {},
     "output_type": "execute_result"
    }
   ],
   "source": [
    "Vector([3.1, 4.2])"
   ]
  },
  {
   "cell_type": "code",
   "execution_count": 3,
   "metadata": {},
   "outputs": [
    {
     "data": {
      "text/plain": [
       "Vector([3.0, 4.0, 5.0])"
      ]
     },
     "execution_count": 3,
     "metadata": {},
     "output_type": "execute_result"
    }
   ],
   "source": [
    "Vector((3, 4, 5))"
   ]
  },
  {
   "cell_type": "code",
   "execution_count": 4,
   "metadata": {},
   "outputs": [
    {
     "data": {
      "text/plain": [
       "Vector([0.0, 1.0, 2.0, 3.0, 4.0, ...])"
      ]
     },
     "execution_count": 4,
     "metadata": {},
     "output_type": "execute_result"
    }
   ],
   "source": [
    "Vector(range(10))"
   ]
  },
  {
   "cell_type": "markdown",
   "metadata": {},
   "source": [
    "# 第二版--实现可切片的序列"
   ]
  },
  {
   "cell_type": "code",
   "execution_count": null,
   "metadata": {
    "collapsed": true
   },
   "outputs": [],
   "source": []
  }
 ],
 "metadata": {
  "kernelspec": {
   "display_name": "Python 3",
   "language": "python",
   "name": "python3"
  },
  "language_info": {
   "codemirror_mode": {
    "name": "ipython",
    "version": 3
   },
   "file_extension": ".py",
   "mimetype": "text/x-python",
   "name": "python",
   "nbconvert_exporter": "python",
   "pygments_lexer": "ipython3",
   "version": "3.6.0"
  }
 },
 "nbformat": 4,
 "nbformat_minor": 2
}
