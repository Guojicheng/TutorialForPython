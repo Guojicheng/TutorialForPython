{
 "cells": [
  {
   "cell_type": "markdown",
   "metadata": {
    "collapsed": true
   },
   "source": [
    "# 多重继承\n",
    "\n"
   ]
  },
  {
   "cell_type": "markdown",
   "metadata": {},
   "source": [
    "# Mixin\n",
    "\n",
    "我们知道多重继承是危险的,很容易造成继承混乱,如何解决这个问题呢,就是使用mixin.原则上,应该只在使用Mixin组件制作工具时进行多重继承.\n",
    "\n",
    "\n",
    "mixin是一个行为的集合,是受限制的多重继承.mixin定义的这个行为可以被加到任意class里，然而在一些情况下，使用mix-in的类，可以要求宿主满足一些协议(contract),这个协议可以是属性也可以是方法. 如果有协议要求的话，协议应该是被声明在mixin内的.这样更容易复用.\n",
    "\n",
    "\n",
    "Mixin是一种非常谨慎的多重继承用法,它的特点是:\n",
    "\n",
    "+ Mixin 类是单一职责的\n",
    "+ Mixin 类对宿主类一无所知\n",
    "+ 不存在超类方法调用（super）以避免引入 MRO 查找顺序问题\n",
    "\n",
    "## 例:把内存中的python对象转换为字典形式"
   ]
  },
  {
   "cell_type": "code",
   "execution_count": 12,
   "metadata": {
    "collapsed": false
   },
   "outputs": [],
   "source": [
    "class ToDictMixin:\n",
    "    def to_dict(self):\n",
    "        return self._traverse_dict(self.__dict__)\n",
    "    def _traverse_dict(self,instance_dict):\n",
    "        output = {}\n",
    "        for key,value in instance_dict.items():\n",
    "            output[key] = self._traverse(key,value)\n",
    "        return output\n",
    "    def _traverse(self,key,value):\n",
    "        \"\"\"递归的将对象转化为字典形式\"\"\"\n",
    "        if isinstance(value,ToDictMixin):\n",
    "            return value.to_dict()\n",
    "        elif isinstance(value,dict):\n",
    "            return self._traverse_dict(value)\n",
    "        elif isinstance(value,list):\n",
    "            return [self._traverse(key,i) for i in value]\n",
    "        elif hasattr(value,'__dict__'):\n",
    "            return self._traverse_dict(value.__dict__)\n",
    "        else:\n",
    "            return value"
   ]
  },
  {
   "cell_type": "code",
   "execution_count": 13,
   "metadata": {
    "collapsed": true
   },
   "outputs": [],
   "source": [
    "class BinaryTree(ToDictMixin):\n",
    "    def __init__(self,value,left=None,right=None):\n",
    "        self.value = value\n",
    "        self.left = left\n",
    "        self.right = right"
   ]
  },
  {
   "cell_type": "code",
   "execution_count": 14,
   "metadata": {
    "collapsed": true
   },
   "outputs": [],
   "source": [
    "tree = BinaryTree(10,\n",
    "                  left=BinaryTree(7,\n",
    "                                  right = BinaryTree(9)),\n",
    "                  right = BinaryTree(13,\n",
    "                                  left = BinaryTree(11))\n",
    "                 )"
   ]
  },
  {
   "cell_type": "code",
   "execution_count": 15,
   "metadata": {
    "collapsed": false
   },
   "outputs": [
    {
     "data": {
      "text/plain": [
       "{'left': {'left': None,\n",
       "  'right': {'left': None, 'right': None, 'value': 9},\n",
       "  'value': 7},\n",
       " 'right': {'left': {'left': None, 'right': None, 'value': 11},\n",
       "  'right': None,\n",
       "  'value': 13},\n",
       " 'value': 10}"
      ]
     },
     "execution_count": 15,
     "metadata": {},
     "output_type": "execute_result"
    }
   ],
   "source": [
    "tree.to_dict()"
   ]
  },
  {
   "cell_type": "markdown",
   "metadata": {},
   "source": [
    "Mixin最大的优势是使用者可以随时安插这些功能,并且可以在必要的时候覆写他们,比如二叉树中节点也要求有指向父节点的引用,那么上面的树就会陷入死循环,可以在其中覆写`_traverse`方法以避免这个问题"
   ]
  },
  {
   "cell_type": "code",
   "execution_count": null,
   "metadata": {
    "collapsed": true
   },
   "outputs": [],
   "source": [
    "class BinaryTreeWithParent(BinaryTree):\n",
    "    def __init__(self,value,left,right,partent = )"
   ]
  }
 ],
 "metadata": {
  "kernelspec": {
   "display_name": "Python 3",
   "language": "python",
   "name": "python3"
  },
  "language_info": {
   "codemirror_mode": {
    "name": "ipython",
    "version": 3
   },
   "file_extension": ".py",
   "mimetype": "text/x-python",
   "name": "python",
   "nbconvert_exporter": "python",
   "pygments_lexer": "ipython3",
   "version": "3.6.0"
  }
 },
 "nbformat": 4,
 "nbformat_minor": 2
}
