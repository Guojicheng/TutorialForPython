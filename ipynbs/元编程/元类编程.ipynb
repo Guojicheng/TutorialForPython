{
 "cells": [
  {
   "cell_type": "markdown",
   "metadata": {
    "collapsed": true
   },
   "source": [
    "# type--类工厂\n",
    "\n",
    "有时，我觉得应该有类似`nametuple`的工厂函数，用于创建可变对象.假设我在编写一个宠物店应用程序，我想把狗的数据当作简单的记录处理.编写下面的样板代码让人厌烦："
   ]
  },
  {
   "cell_type": "code",
   "execution_count": 1,
   "metadata": {
    "collapsed": true
   },
   "outputs": [],
   "source": [
    "class Dog:\n",
    "    def __init__(self, name, weight, owner):\n",
    "        self.name = name\n",
    "        self.weight = weight\n",
    "        self.owner = owner"
   ]
  },
  {
   "cell_type": "code",
   "execution_count": 2,
   "metadata": {
    "collapsed": false
   },
   "outputs": [
    {
     "data": {
      "text/plain": [
       "<__main__.Dog at 0x4d33a90>"
      ]
     },
     "execution_count": 2,
     "metadata": {},
     "output_type": "execute_result"
    }
   ],
   "source": [
    "rex = Dog('Rex', 30, 'Bob')\n",
    "rex"
   ]
  },
  {
   "cell_type": "markdown",
   "metadata": {},
   "source": [
    "各个字段名称出现了三次。写了这么多样板代码，甚至字符串表示形式都不友好.\n",
    "\n",
    "参考`namedtuple`,下面我们创建一个`record_factory`函数，即时创建简单的类"
   ]
  },
  {
   "cell_type": "code",
   "execution_count": 4,
   "metadata": {
    "collapsed": false
   },
   "outputs": [],
   "source": [
    "def record_factory(cls_name, field_names):\n",
    "    try:\n",
    "        field_names = field_names.replace(',', ' ').split()\n",
    "    except AttributeError: # 不能调用.replace或.split方法\n",
    "        pass # 假定field_names本就是标识符组成的序列\n",
    "    field_names = tuple(field_names) \n",
    "    \n",
    "    def __init__(self, *args, **kwargs): \n",
    "        attrs = dict(zip(self.__slots__, args))\n",
    "        attrs.update(kwargs)\n",
    "        for name, value in attrs.items():\n",
    "            setattr(self, name, value)\n",
    "    \n",
    "    def __iter__(self): \n",
    "        for name in self.__slots__:\n",
    "            yield getattr(self, name)\n",
    "    def __repr__(self): \n",
    "        values = ', '.join('{}={!r}'.format(*i) for i in zip(self.__slots__, self))\n",
    "        return '{}({})'.format(self.__class__.__name__, values)\n",
    "    \n",
    "    cls_attrs = dict(__slots__ = field_names, __init__ = __init__,__iter__ = __iter__,__repr__ = __repr__)\n",
    "    return type(cls_name, (object,), cls_attrs)"
   ]
  },
  {
   "cell_type": "code",
   "execution_count": 14,
   "metadata": {
    "collapsed": true
   },
   "outputs": [],
   "source": [
    "Cat = record_factory('Cat', 'name weight owner') "
   ]
  },
  {
   "cell_type": "code",
   "execution_count": 15,
   "metadata": {
    "collapsed": false
   },
   "outputs": [
    {
     "data": {
      "text/plain": [
       "Cat(name='Rex', weight=30, owner='Bob')"
      ]
     },
     "execution_count": 15,
     "metadata": {},
     "output_type": "execute_result"
    }
   ],
   "source": [
    "rex = Cat('Rex', 30, 'Bob')\n",
    "rex"
   ]
  },
  {
   "cell_type": "code",
   "execution_count": 16,
   "metadata": {
    "collapsed": true
   },
   "outputs": [],
   "source": [
    "name, weight, _ = rex"
   ]
  },
  {
   "cell_type": "code",
   "execution_count": 17,
   "metadata": {
    "collapsed": false
   },
   "outputs": [
    {
     "data": {
      "text/plain": [
       "('Rex', 30)"
      ]
     },
     "execution_count": 17,
     "metadata": {},
     "output_type": "execute_result"
    }
   ],
   "source": [
    "name, weight"
   ]
  },
  {
   "cell_type": "code",
   "execution_count": 18,
   "metadata": {
    "collapsed": false
   },
   "outputs": [
    {
     "data": {
      "text/plain": [
       "\"Bob's dog weighs 30kg\""
      ]
     },
     "execution_count": 18,
     "metadata": {},
     "output_type": "execute_result"
    }
   ],
   "source": [
    "\"{2}'s dog weighs {1}kg\".format(*rex)"
   ]
  },
  {
   "cell_type": "code",
   "execution_count": 19,
   "metadata": {
    "collapsed": false
   },
   "outputs": [
    {
     "data": {
      "text/plain": [
       "Cat(name='Rex', weight=32, owner='Bob')"
      ]
     },
     "execution_count": 19,
     "metadata": {},
     "output_type": "execute_result"
    }
   ],
   "source": [
    "rex.weight = 32\n",
    "rex"
   ]
  },
  {
   "cell_type": "code",
   "execution_count": 20,
   "metadata": {
    "collapsed": false
   },
   "outputs": [
    {
     "data": {
      "text/plain": [
       "(__main__.Cat, object)"
      ]
     },
     "execution_count": 20,
     "metadata": {},
     "output_type": "execute_result"
    }
   ],
   "source": [
    "Cat.__mro__"
   ]
  },
  {
   "cell_type": "markdown",
   "metadata": {},
   "source": [
    "可以看出上面的工厂函数核心就在于`type()`的使用.通常，我们把`type`视作函数，因为我们像函数那样使用它，例如，调用`type(my_object)`\n",
    "获取对象所属的类——作用与`my_object.__class__`相同.\n",
    "\n",
    "然而，`type`是一个类。当成类使用时，传入三个参数可以新建一个类：\n",
    "\n",
    "```python\n",
    "MyClass = type('MyClass', (MySuperClass, MyMixin),{'x': 42, 'x2': lambda self: self.x * 2})\n",
    "```\n",
    "type的三个参数分别是`name`、`bases` 和`dict`.最后一个参数是一个映射，指定新类的属性名和值."
   ]
  },
  {
   "cell_type": "markdown",
   "metadata": {},
   "source": [
    "# 元类\n",
    "\n",
    "元类是制造类的工厂，不过不是函数而是类.\n",
    "\n",
    "根据Python对象模型，类是对象，因此类肯定是另外某个类的实例.默认情况下，Python\n",
    "中的类是type类的实例.也就是说，type 是大多数内置的类和用户定义的类的元类"
   ]
  },
  {
   "cell_type": "code",
   "execution_count": 21,
   "metadata": {
    "collapsed": false
   },
   "outputs": [
    {
     "data": {
      "text/plain": [
       "str"
      ]
     },
     "execution_count": 21,
     "metadata": {},
     "output_type": "execute_result"
    }
   ],
   "source": [
    "'spam'.__class__"
   ]
  },
  {
   "cell_type": "code",
   "execution_count": 22,
   "metadata": {
    "collapsed": false
   },
   "outputs": [
    {
     "data": {
      "text/plain": [
       "type"
      ]
     },
     "execution_count": 22,
     "metadata": {},
     "output_type": "execute_result"
    }
   ],
   "source": [
    "str.__class__"
   ]
  },
  {
   "cell_type": "code",
   "execution_count": 23,
   "metadata": {
    "collapsed": false
   },
   "outputs": [
    {
     "data": {
      "text/plain": [
       "type"
      ]
     },
     "execution_count": 23,
     "metadata": {},
     "output_type": "execute_result"
    }
   ],
   "source": [
    "type.__class__"
   ]
  },
  {
   "cell_type": "markdown",
   "metadata": {},
   "source": [
    "为了避免无限回溯，type 是其自身的实例，如最后一行所示。\n",
    "注意，我没有说str 或其他对象继承自type.我的意思是，str 和其他对象是type 的实例。这两个类是object的子类。下图是他们的关系\n",
    "![](source/type.PNG)\n",
    "两个示意图都是正确的。左边的示意图强调`str`、`type` 和`LineItem` 是`object` 的子类。右\n",
    "边的示意图则清楚地表明`str`、`object` 和`LineItem` 是`type` 的实例，因为它们都是类."
   ]
  },
  {
   "cell_type": "markdown",
   "metadata": {},
   "source": [
    "除了type，标准库中还有一些别的元类，例如`ABCMeta` 和`Enum`。如下述代码片段所示，`collections.Iterable` 所属的类是`abc.ABCMeta`.`Iterable`是抽象类，而`ABCMeta`不是——\n",
    "不管怎样，`Iterable` 是`ABCMeta`的实例"
   ]
  },
  {
   "cell_type": "code",
   "execution_count": 24,
   "metadata": {
    "collapsed": true
   },
   "outputs": [],
   "source": [
    "import collections"
   ]
  },
  {
   "cell_type": "code",
   "execution_count": 25,
   "metadata": {
    "collapsed": false
   },
   "outputs": [
    {
     "data": {
      "text/plain": [
       "abc.ABCMeta"
      ]
     },
     "execution_count": 25,
     "metadata": {},
     "output_type": "execute_result"
    }
   ],
   "source": [
    "collections.Iterable.__class__"
   ]
  },
  {
   "cell_type": "code",
   "execution_count": 26,
   "metadata": {
    "collapsed": true
   },
   "outputs": [],
   "source": [
    "import abc"
   ]
  },
  {
   "cell_type": "code",
   "execution_count": 27,
   "metadata": {
    "collapsed": false
   },
   "outputs": [
    {
     "data": {
      "text/plain": [
       "type"
      ]
     },
     "execution_count": 27,
     "metadata": {},
     "output_type": "execute_result"
    }
   ],
   "source": [
    "abc.ABCMeta.__class__"
   ]
  },
  {
   "cell_type": "code",
   "execution_count": 28,
   "metadata": {
    "collapsed": false
   },
   "outputs": [
    {
     "data": {
      "text/plain": [
       "(abc.ABCMeta, type, object)"
      ]
     },
     "execution_count": 28,
     "metadata": {},
     "output_type": "execute_result"
    }
   ],
   "source": [
    "abc.ABCMeta.__mro__"
   ]
  },
  {
   "cell_type": "markdown",
   "metadata": {},
   "source": [
    "向上追溯，`ABCMeta`最终所属的类也是`type`。所有类都直接或间接地是`type` 的实例，不过只有元类同时也是`type` 的子类。若想理解元类，一定要知道这种关系：元类（如`ABCMeta`）从`type` 类继承了构建类的能力.\n",
    "![](source/abc.PNG)"
   ]
  },
  {
   "cell_type": "markdown",
   "metadata": {},
   "source": [
    "我们要抓住的重点是，所有类都是type 的实例，但是元类还是type 的子类，因此可以作\n",
    "为制造类的工厂。具体来说，元类可以通过实现__init__ 方法定制实例。元类的__init__\n",
    "方法可以做到类装饰器能做的任何事情，但是作用更大."
   ]
  },
  {
   "cell_type": "code",
   "execution_count": 31,
   "metadata": {
    "collapsed": false
   },
   "outputs": [
    {
     "name": "stdout",
     "output_type": "stream",
     "text": [
      "Overwriting evaltime_meta.py\n"
     ]
    }
   ],
   "source": [
    "%%writefile evaltime_meta.py\n",
    "from evalsupport import deco_alpha\n",
    "from evalsupport import MetaAleph\n",
    "print('<[1]> evaltime_meta module start')\n",
    "\n",
    "@deco_alpha\n",
    "class ClassThree():\n",
    "    print('<[2]> ClassThree body')\n",
    "    def method_y(self):\n",
    "        print('<[3]> ClassThree.method_y')\n",
    "        \n",
    "class ClassFour(ClassThree):\n",
    "    print('<[4]> ClassFour body')\n",
    "    def method_y(self):\n",
    "        print('<[5]> ClassFour.method_y')\n",
    "class ClassFive(metaclass=MetaAleph):\n",
    "    print('<[6]> ClassFive body')\n",
    "    def __init__(self):\n",
    "        print('<[7]> ClassFive.__init__')\n",
    "    def method_z(self):\n",
    "        print('<[8]> ClassFive.method_z')\n",
    "class ClassSix(ClassFive):\n",
    "    print('<[9]> ClassSix body')\n",
    "    def method_z(self):\n",
    "        print('<[10]> ClassSix.method_z')\n",
    "        \n",
    "if __name__ == '__main__':\n",
    "    print('<[11]> ClassThree tests', 30 * '.')\n",
    "    three = ClassThree()\n",
    "    three.method_y()\n",
    "    print('<[12]> ClassFour tests', 30 * '.')\n",
    "    four = ClassFour()\n",
    "    four.method_y()\n",
    "    print('<[13]> ClassFive tests', 30 * '.')\n",
    "    five = ClassFive()\n",
    "    five.method_z()\n",
    "    print('<[14]> ClassSix tests', 30 * '.')\n",
    "    six = ClassSix()\n",
    "    six.method_z()\n",
    "print('<[15]> evaltime_meta module end')"
   ]
  },
  {
   "cell_type": "code",
   "execution_count": 33,
   "metadata": {
    "collapsed": false
   },
   "outputs": [
    {
     "name": "stdout",
     "output_type": "stream",
     "text": [
      "<[100]> evalsupport module start\n",
      "<[400]> MetaAleph body\n",
      "<[700]> evalsupport module end\n",
      "<[1]> evaltime_meta module start\n",
      "<[2]> ClassThree body\n",
      "<[200]> deco_alpha\n",
      "<[4]> ClassFour body\n",
      "<[6]> ClassFive body\n",
      "<[500]> MetaAleph.__init__\n",
      "<[9]> ClassSix body\n",
      "<[500]> MetaAleph.__init__\n",
      "<[15]> evaltime_meta module end\n"
     ]
    }
   ],
   "source": [
    "import evaltime_meta"
   ]
  },
  {
   "cell_type": "code",
   "execution_count": 32,
   "metadata": {
    "collapsed": false
   },
   "outputs": [
    {
     "name": "stdout",
     "output_type": "stream",
     "text": [
      "<[100]> evalsupport module start\n",
      "<[400]> MetaAleph body\n",
      "<[700]> evalsupport module end\n",
      "<[1]> evaltime_meta module start\n",
      "<[2]> ClassThree body\n",
      "<[200]> deco_alpha\n",
      "<[4]> ClassFour body\n",
      "<[6]> ClassFive body\n",
      "<[500]> MetaAleph.__init__\n",
      "<[9]> ClassSix body\n",
      "<[500]> MetaAleph.__init__\n",
      "<[11]> ClassThree tests ..............................\n",
      "<[300]> deco_alpha:inner_1\n",
      "<[12]> ClassFour tests ..............................\n",
      "<[5]> ClassFour.method_y\n",
      "<[13]> ClassFive tests ..............................\n",
      "<[7]> ClassFive.__init__\n",
      "<[600]> MetaAleph.__init__:inner_2\n",
      "<[14]> ClassSix tests ..............................\n",
      "<[7]> ClassFive.__init__\n",
      "<[600]> MetaAleph.__init__:inner_2\n",
      "<[15]> evaltime_meta module end\n"
     ]
    }
   ],
   "source": [
    "!python evaltime_meta.py"
   ]
  },
  {
   "cell_type": "code",
   "execution_count": null,
   "metadata": {
    "collapsed": true
   },
   "outputs": [],
   "source": []
  }
 ],
 "metadata": {
  "kernelspec": {
   "display_name": "Python 3",
   "language": "python",
   "name": "python3"
  },
  "language_info": {
   "codemirror_mode": {
    "name": "ipython",
    "version": 3
   },
   "file_extension": ".py",
   "mimetype": "text/x-python",
   "name": "python",
   "nbconvert_exporter": "python",
   "pygments_lexer": "ipython3",
   "version": "3.6.0"
  }
 },
 "nbformat": 4,
 "nbformat_minor": 2
}
