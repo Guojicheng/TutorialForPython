{
 "cells": [
  {
   "cell_type": "markdown",
   "metadata": {},
   "source": [
    "# 装饰器\n",
    "\n",
    "函数装饰器用于在源码中“标记”函数,以某种方式增强函数的行为.严格来说装饰器这种形式是一种语法糖.\n",
    "\n",
    "装饰器的特点有两个:\n",
    "\n",
    "1. 装饰器是可调用的对象,其参数是另一个可调用对象。\n",
    "2. 装饰器可能会处理被装饰的可调用对象,然后把它返回,或者将其替换成另一个可调用对象\n",
    "3. 装饰器在加载模块时立即执行\n",
    "\n",
    "装饰器的形式如下:\n",
    "\n",
    "```python\n",
    "@decorator\n",
    "def call(args):\n",
    "    pass\n",
    "    \n",
    "```\n",
    "\n",
    "它等价于\n",
    "call(args) = decorator(call(args))"
   ]
  },
  {
   "cell_type": "markdown",
   "metadata": {},
   "source": [
    "# Python何时执行装饰器\n",
    "\n",
    "装饰器的一个关键特性是,它们在被装饰的函数定义之后立即运行。这通常是在导入时.装饰器在导入模块时立即执行,而被装饰的函数只在明确调用时运行.这突出了 Python 程序员所说的导入时和运行时之间的区别."
   ]
  }
 ],
 "metadata": {
  "kernelspec": {
   "display_name": "Python 3",
   "language": "python",
   "name": "python3"
  },
  "language_info": {
   "codemirror_mode": {
    "name": "ipython",
    "version": 3
   },
   "file_extension": ".py",
   "mimetype": "text/x-python",
   "name": "python",
   "nbconvert_exporter": "python",
   "pygments_lexer": "ipython3",
   "version": "3.6.0"
  }
 },
 "nbformat": 4,
 "nbformat_minor": 2
}
