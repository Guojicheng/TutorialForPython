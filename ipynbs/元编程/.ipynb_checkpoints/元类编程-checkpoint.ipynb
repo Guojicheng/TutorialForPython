{
 "cells": [
  {
   "cell_type": "markdown",
   "metadata": {
    "collapsed": true
   },
   "source": [
    "# 元类--类工厂\n",
    "\n",
    "有时，我觉得应该有类似`nametuple`的工厂函数，用于创建可变对象.假设我在编写一个宠物店应用\n",
    "程序，我想把狗的数据当作简单的记录处理。编写下面的样板代码让人厌烦：\n",
    "class Dog:\n",
    "def __init__(self, name, weight, owner):\n",
    "self.name = name\n",
    "self.weight = weight\n",
    "self.owner = owner\n",
    "无趣……各个字段名称出现了三次。写了这么多样板代码，甚至字符串表示形式都不友好："
   ]
  }
 ],
 "metadata": {
  "kernelspec": {
   "display_name": "Python 3",
   "language": "python",
   "name": "python3"
  },
  "language_info": {
   "codemirror_mode": {
    "name": "ipython",
    "version": 3
   },
   "file_extension": ".py",
   "mimetype": "text/x-python",
   "name": "python",
   "nbconvert_exporter": "python",
   "pygments_lexer": "ipython3",
   "version": "3.6.0"
  }
 },
 "nbformat": 4,
 "nbformat_minor": 2
}
