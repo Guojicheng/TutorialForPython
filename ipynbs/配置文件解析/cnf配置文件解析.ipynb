{
 "cells": [
  {
   "cell_type": "markdown",
   "metadata": {},
   "source": [
    "# 配置文件解析\n",
    "\n",
    "项目通常会将一些全部局配置放在配置文件中.常见的配置文件格式有`.ini`,和`.yml`,有时候我们也会使用`.json`来作为配置文件.\n",
    "\n",
    "python中,json前面已经讲过,而标准库的`ConfigParser`模块可以解析配置`.conf`,文件.`.yml`则需要使用第三方包`pyyaml`"
   ]
  },
  {
   "cell_type": "markdown",
   "metadata": {},
   "source": [
    "## `.ini`文件解析\n",
    "\n",
    "`.ini`文件形如下面\n",
    "\n",
    "```ini\n",
    "[DEFAULT]\n",
    "serveraliveinterval = 45\n",
    "compression = yes\n",
    "compressionlevel = 9\n",
    "forwardx11 = yes\n",
    "\n",
    "[bitbucket.org]\n",
    "user = hg\n",
    "\n",
    "[topsecret.server.com]\n",
    "port = 50022\n",
    "forwardx11 = no\n",
    "```\n",
    "\n",
    "可以分为几个部分:\n",
    "\n",
    "+ Sections 节,每个节代表一项配置系列\n",
    "\n",
    "+ Case insensitivity 参数字段,具体要配置的字段对应的值\n",
    "\n",
    "可以理解成一个两层的字典\n",
    "\n",
    "### 写\n",
    "\n",
    "`ConfigParser()`用于初始化一个解析器,这个解析器可以像字典一样使用"
   ]
  },
  {
   "cell_type": "code",
   "execution_count": 2,
   "metadata": {
    "collapsed": true
   },
   "outputs": [],
   "source": [
    "import configparser\n",
    "config = configparser.ConfigParser()\n",
    "config['DEFAULT'] = {'ServerAliveInterval': '45',\n",
    "                    'Compression': 'yes',\n",
    "                    'CompressionLevel': '9'}\n",
    "config['bitbucket.org'] = {}\n",
    "config['bitbucket.org']['User'] = 'hg'\n",
    "config['topsecret.server.com'] = {}\n",
    "topsecret = config['topsecret.server.com']\n",
    "topsecret['Port'] = '50022'     # mutates the parser\n",
    "topsecret['ForwardX11'] = 'no'  # same here\n",
    "config['DEFAULT']['ForwardX11'] = 'yes'\n",
    "with open('example.ini', 'w') as configfile:\n",
    "    config.write(configfile)"
   ]
  },
  {
   "cell_type": "markdown",
   "metadata": {},
   "source": [
    "### 读\n",
    "\n",
    "初始化一个空的解析器后可以通过`.read`方法来读入一个已有的配置."
   ]
  },
  {
   "cell_type": "code",
   "execution_count": 4,
   "metadata": {
    "collapsed": false
   },
   "outputs": [
    {
     "data": {
      "text/plain": [
       "[]"
      ]
     },
     "execution_count": 4,
     "metadata": {},
     "output_type": "execute_result"
    }
   ],
   "source": [
    "config = configparser.ConfigParser()\n",
    "config.sections()"
   ]
  },
  {
   "cell_type": "code",
   "execution_count": 5,
   "metadata": {
    "collapsed": false
   },
   "outputs": [
    {
     "data": {
      "text/plain": [
       "['example.ini']"
      ]
     },
     "execution_count": 5,
     "metadata": {},
     "output_type": "execute_result"
    }
   ],
   "source": [
    "config.read('example.ini')"
   ]
  },
  {
   "cell_type": "markdown",
   "metadata": {},
   "source": [
    "可以通过`sections`方法获取所有节"
   ]
  },
  {
   "cell_type": "code",
   "execution_count": 6,
   "metadata": {
    "collapsed": false
   },
   "outputs": [
    {
     "data": {
      "text/plain": [
       "['bitbucket.org', 'topsecret.server.com']"
      ]
     },
     "execution_count": 6,
     "metadata": {},
     "output_type": "execute_result"
    }
   ],
   "source": [
    "config.sections()"
   ]
  },
  {
   "cell_type": "code",
   "execution_count": 7,
   "metadata": {
    "collapsed": false
   },
   "outputs": [
    {
     "data": {
      "text/plain": [
       "True"
      ]
     },
     "execution_count": 7,
     "metadata": {},
     "output_type": "execute_result"
    }
   ],
   "source": [
    "'bitbucket.org' in config"
   ]
  },
  {
   "cell_type": "code",
   "execution_count": 8,
   "metadata": {
    "collapsed": false
   },
   "outputs": [
    {
     "data": {
      "text/plain": [
       "False"
      ]
     },
     "execution_count": 8,
     "metadata": {},
     "output_type": "execute_result"
    }
   ],
   "source": [
    "'bytebong.com' in config"
   ]
  },
  {
   "cell_type": "markdown",
   "metadata": {},
   "source": [
    "获取到节后,就可以像操作字典一样操作这个节内的内容了"
   ]
  },
  {
   "cell_type": "code",
   "execution_count": 17,
   "metadata": {
    "collapsed": false
   },
   "outputs": [
    {
     "name": "stdout",
     "output_type": "stream",
     "text": [
      "user hg\n",
      "serveraliveinterval 45\n",
      "compression yes\n",
      "compressionlevel 9\n",
      "forwardx11 yes\n"
     ]
    }
   ],
   "source": [
    "for k,v in config['bitbucket.org'].items():\n",
    "    print(k,v)"
   ]
  },
  {
   "cell_type": "code",
   "execution_count": 9,
   "metadata": {
    "collapsed": false
   },
   "outputs": [
    {
     "data": {
      "text/plain": [
       "'hg'"
      ]
     },
     "execution_count": 9,
     "metadata": {},
     "output_type": "execute_result"
    }
   ],
   "source": [
    "config['bitbucket.org']['User']"
   ]
  },
  {
   "cell_type": "code",
   "execution_count": 10,
   "metadata": {
    "collapsed": false
   },
   "outputs": [
    {
     "data": {
      "text/plain": [
       "'yes'"
      ]
     },
     "execution_count": 10,
     "metadata": {},
     "output_type": "execute_result"
    }
   ],
   "source": [
    "config['DEFAULT']['Compression']"
   ]
  },
  {
   "cell_type": "code",
   "execution_count": 11,
   "metadata": {
    "collapsed": false
   },
   "outputs": [
    {
     "data": {
      "text/plain": [
       "'no'"
      ]
     },
     "execution_count": 11,
     "metadata": {},
     "output_type": "execute_result"
    }
   ],
   "source": [
    "topsecret = config['topsecret.server.com']\n",
    "topsecret['ForwardX11']"
   ]
  },
  {
   "cell_type": "code",
   "execution_count": 12,
   "metadata": {
    "collapsed": false
   },
   "outputs": [
    {
     "data": {
      "text/plain": [
       "'50022'"
      ]
     },
     "execution_count": 12,
     "metadata": {},
     "output_type": "execute_result"
    }
   ],
   "source": [
    "topsecret['Port']"
   ]
  },
  {
   "cell_type": "code",
   "execution_count": 13,
   "metadata": {
    "collapsed": false
   },
   "outputs": [
    {
     "name": "stdout",
     "output_type": "stream",
     "text": [
      "user\n",
      "serveraliveinterval\n",
      "compression\n",
      "compressionlevel\n",
      "forwardx11\n"
     ]
    }
   ],
   "source": [
    "for key in config['bitbucket.org']: print(key)"
   ]
  },
  {
   "cell_type": "markdown",
   "metadata": {},
   "source": [
    "## `.yml`文件解析\n",
    "\n",
    "`.yml`文件需要使用第三方包`pyyaml`来解析,据说效率很高.\n",
    "\n",
    "`.yml`文件形如:\n",
    "\n",
    "```yml\n",
    "name: Silenthand Olleander\n",
    "race: Human\n",
    "traits: [ONE_HAND, ONE_EYE]\n",
    "```\n",
    "\n",
    "是很多现代项目的标准配置格式.比如gitpage默认的静态页面生成框架`jekyll`就是使用这种格式配置项目"
   ]
  },
  {
   "cell_type": "markdown",
   "metadata": {},
   "source": [
    "### 写\n",
    "\n",
    "pyyml可以像json一样直接将字典写成配置文件,甚至可以将pyhton对象写成配置文件"
   ]
  },
  {
   "cell_type": "code",
   "execution_count": 20,
   "metadata": {
    "collapsed": true
   },
   "outputs": [],
   "source": [
    "import yaml"
   ]
  },
  {
   "cell_type": "code",
   "execution_count": 18,
   "metadata": {
    "collapsed": true
   },
   "outputs": [],
   "source": [
    "so = {'name': 'Silenthand Olleander', \n",
    "      'race': 'Human',\n",
    "      'traits': ['ONE_HAND', 'ONE_EYE']\n",
    "     }"
   ]
  },
  {
   "cell_type": "code",
   "execution_count": 19,
   "metadata": {
    "collapsed": false,
    "scrolled": true
   },
   "outputs": [
    {
     "data": {
      "text/plain": [
       "{'name': 'Silenthand Olleander',\n",
       " 'race': 'Human',\n",
       " 'traits': ['ONE_HAND', 'ONE_EYE']}"
      ]
     },
     "execution_count": 19,
     "metadata": {},
     "output_type": "execute_result"
    }
   ],
   "source": [
    "so"
   ]
  },
  {
   "cell_type": "code",
   "execution_count": 30,
   "metadata": {
    "collapsed": false
   },
   "outputs": [
    {
     "name": "stdout",
     "output_type": "stream",
     "text": [
      "name: Silenthand Olleander\n",
      "race: Human\n",
      "traits: [ONE_HAND, ONE_EYE]\n",
      "\n"
     ]
    }
   ],
   "source": [
    "print(yaml.dump(so))"
   ]
  },
  {
   "cell_type": "code",
   "execution_count": 37,
   "metadata": {
    "collapsed": true
   },
   "outputs": [],
   "source": [
    "with open(\"exsample.yml\",'w') as f:\n",
    "    f.write(yaml.dump(so))"
   ]
  },
  {
   "cell_type": "code",
   "execution_count": 31,
   "metadata": {
    "collapsed": true
   },
   "outputs": [],
   "source": [
    "class Hero:\n",
    "    def __init__(self, name, hp, sp):\n",
    "        self.name = name\n",
    "        self.hp = hp\n",
    "        self.sp = sp\n",
    "    def __repr__(self):\n",
    "        return \"%s(name=%r, hp=%r, sp=%r)\" % (self.__class__.__name__, self.name, self.hp, self.sp)\n"
   ]
  },
  {
   "cell_type": "code",
   "execution_count": 35,
   "metadata": {
    "collapsed": true
   },
   "outputs": [],
   "source": [
    "h= Hero(\"Galain Ysseleg\", hp=-3, sp=2)"
   ]
  },
  {
   "cell_type": "code",
   "execution_count": 36,
   "metadata": {
    "collapsed": false
   },
   "outputs": [
    {
     "name": "stdout",
     "output_type": "stream",
     "text": [
      "!!python/object:__main__.Hero {hp: -3, name: Galain Ysseleg, sp: 2}\n",
      "\n"
     ]
    }
   ],
   "source": [
    "print(yaml.dump(h))"
   ]
  },
  {
   "cell_type": "markdown",
   "metadata": {},
   "source": [
    "### 读"
   ]
  },
  {
   "cell_type": "code",
   "execution_count": 38,
   "metadata": {
    "collapsed": true
   },
   "outputs": [],
   "source": [
    "with open(\"exsample.yml\") as f:\n",
    "    result = yaml.load(f)"
   ]
  },
  {
   "cell_type": "code",
   "execution_count": 39,
   "metadata": {
    "collapsed": false
   },
   "outputs": [
    {
     "data": {
      "text/plain": [
       "{'name': 'Silenthand Olleander',\n",
       " 'race': 'Human',\n",
       " 'traits': ['ONE_HAND', 'ONE_EYE']}"
      ]
     },
     "execution_count": 39,
     "metadata": {},
     "output_type": "execute_result"
    }
   ],
   "source": [
    "result"
   ]
  }
 ],
 "metadata": {
  "kernelspec": {
   "display_name": "Python 3",
   "language": "python",
   "name": "python3"
  },
  "language_info": {
   "codemirror_mode": {
    "name": "ipython",
    "version": 3
   },
   "file_extension": ".py",
   "mimetype": "text/x-python",
   "name": "python",
   "nbconvert_exporter": "python",
   "pygments_lexer": "ipython3",
   "version": "3.6.0"
  }
 },
 "nbformat": 4,
 "nbformat_minor": 2
}
