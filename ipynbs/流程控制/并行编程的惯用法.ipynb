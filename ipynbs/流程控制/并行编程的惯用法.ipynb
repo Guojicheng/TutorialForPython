{
 "cells": [
  {
   "cell_type": "markdown",
   "metadata": {},
   "source": [
    "# 并行方式如何选择\n",
    "\n",
    "看起来多进程,多线程,协程都是以并行的方式运行的,那么我们该如何选择使用什么技术呢?\n",
    "\n",
    "+ 首先我们可以简单的通过分析目标功能来选择,如果我们的项目主要是计算密集型的,比如是并行计算多个数据是否是质数这类,那么没得选,只有多进程才可以做到最大化利用cpu资源,另外两个都只能跑满一个cpu核心.\n",
    "\n",
    "+ 接着就是主要是io操作的任务了,io密集型任务首选当然是协程,也只有协程可以搞定[10k](http://www.kegel.com/c10k.html)问题,但python的默认I/O多是同步I/O,因此在所需依赖无法满足的情况下只能使用多线程方式替代.\n",
    "\n"
   ]
  },
  {
   "cell_type": "markdown",
   "metadata": {},
   "source": [
    "# 并行编程的常用同步机制\n",
    "\n",
    "python包含多种同步机制,这些工具使用思路上是一致的,因此无论是协程,线程还是进程都可以使用,只是使用的模块会有些许不同,用途也会有写不同"
   ]
  },
  {
   "cell_type": "markdown",
   "metadata": {},
   "source": [
    "## 信号量 Semaphore\n",
    "\n",
    "在并行编程中，为了防止不同的过程(线程/进程/协程)同时对一个公用的资源进行修改，需要进行同时访问的数量（通常是1）。信号量同步基于内部计数器，每调用一次acquire()，计数器减1；每调用一次release()，计数器加1.当计数器为0时，acquire()调用被阻塞。\n",
    "\n",
    "Semaphore的接口有两个:\n",
    "\n",
    "+ acquire() 获取一个信号量,协程中这个方法是一个协程\n",
    "+ release() 释放一个信号量\n",
    "+ `*`locked() 协程中独有,用来判断是否被锁定\n",
    "\n",
    "信号量通常是在上下文中使用,利用with来实现,实际上信号量在不同的并行方式下用处并不相同,\n",
    "\n",
    "+ 在协程中我们用它来限制并行流程的数量\n",
    "+ 在多线程中我们用他来限制同时访问资源的数量\n",
    "+ 在多进程中我们将它作为一个有上限可锁定的跨进程共有变量来使用\n",
    "\n",
    "信号量在线程,进程,协程中的使用的模块并不一样:\n",
    "\n",
    "+ 协程--`asynico.Semaphore(value=1, *, loop=None)`\n",
    "\n",
    "+ 线程--`threading.Semaphore(value=1)`\n",
    "\n",
    "+ 进程--`multiprocessing.Semaphore([value])`"
   ]
  },
  {
   "cell_type": "markdown",
   "metadata": {},
   "source": [
    "协程版本"
   ]
  },
  {
   "cell_type": "code",
   "execution_count": 17,
   "metadata": {
    "collapsed": false
   },
   "outputs": [
    {
     "name": "stdout",
     "output_type": "stream",
     "text": [
      "fetch(6) = 6\n",
      "fetch(8) = 8\n",
      "fetch(2) = 2\n",
      "fetch(3) = 3\n",
      "fetch(5) = 5\n",
      "fetch(4) = 4\n",
      "fetch(11) = 11\n",
      "fetch(0) = 0\n",
      "fetch(10) = 10\n",
      "fetch(9) = 9\n",
      "fetch(1) = 1\n",
      "fetch(7) = 7\n"
     ]
    },
    {
     "data": {
      "text/plain": [
       "({<Task finished coro=<print_result() done, defined at <ipython-input-17-27696bcf1a1e>:11> result=None>,\n",
       "  <Task finished coro=<print_result() done, defined at <ipython-input-17-27696bcf1a1e>:11> result=None>,\n",
       "  <Task finished coro=<print_result() done, defined at <ipython-input-17-27696bcf1a1e>:11> result=None>,\n",
       "  <Task finished coro=<print_result() done, defined at <ipython-input-17-27696bcf1a1e>:11> result=None>,\n",
       "  <Task finished coro=<print_result() done, defined at <ipython-input-17-27696bcf1a1e>:11> result=None>,\n",
       "  <Task finished coro=<print_result() done, defined at <ipython-input-17-27696bcf1a1e>:11> result=None>,\n",
       "  <Task finished coro=<print_result() done, defined at <ipython-input-17-27696bcf1a1e>:11> result=None>,\n",
       "  <Task finished coro=<print_result() done, defined at <ipython-input-17-27696bcf1a1e>:11> result=None>,\n",
       "  <Task finished coro=<print_result() done, defined at <ipython-input-17-27696bcf1a1e>:11> result=None>,\n",
       "  <Task finished coro=<print_result() done, defined at <ipython-input-17-27696bcf1a1e>:11> result=None>,\n",
       "  <Task finished coro=<print_result() done, defined at <ipython-input-17-27696bcf1a1e>:11> result=None>,\n",
       "  <Task finished coro=<print_result() done, defined at <ipython-input-17-27696bcf1a1e>:11> result=None>},\n",
       " set())"
      ]
     },
     "execution_count": 17,
     "metadata": {},
     "output_type": "execute_result"
    }
   ],
   "source": [
    "import aiohttp\n",
    "import asyncio\n",
    "NUMBERS = range(12)\n",
    "URL = 'http://httpbin.org/get?a={}'\n",
    "sema = asyncio.Semaphore(3)\n",
    "async def fetch_async(a):\n",
    "    async with aiohttp.request('GET', URL.format(a)) as r:\n",
    "        data = await r.json()\n",
    "    return data['args']['a']\n",
    "\n",
    "async def print_result(a):\n",
    "    async with sema:\n",
    "        r = await fetch_async(a)\n",
    "        print('fetch({}) = {}'.format(a, r))\n",
    "#loop = asyncio.new_event_loop()\n",
    "#asyncio.set_event_loop(loop)\n",
    "loop = asyncio.get_event_loop()\n",
    "f = asyncio.wait([print_result(num) for num in NUMBERS])\n",
    "loop.run_until_complete(f)\n"
   ]
  },
  {
   "cell_type": "markdown",
   "metadata": {},
   "source": [
    "多线程版本"
   ]
  },
  {
   "cell_type": "code",
   "execution_count": 2,
   "metadata": {
    "collapsed": false
   },
   "outputs": [
    {
     "name": "stdout",
     "output_type": "stream",
     "text": [
      "0 acquire sema\n",
      "1 acquire sema\n",
      "2 acquire sema\n",
      "0 release sema3 acquire sema\n",
      "\n",
      "3 release sema\n",
      "4 acquire sema\n",
      "2 release sema\n",
      "1 release sema\n",
      "4 release sema\n"
     ]
    }
   ],
   "source": [
    "import time\n",
    "from random import random\n",
    "from threading import Thread, Semaphore\n",
    "sema = Semaphore(3)\n",
    "def foo(tid):\n",
    "    with sema:\n",
    "        print('{} acquire sema'.format(tid))\n",
    "        wt = random() * 2\n",
    "        time.sleep(wt)\n",
    "    print('{} release sema'.format(tid))\n",
    "threads = []\n",
    "for i in range(5):\n",
    "    t = Thread(target=foo, args=(i,))\n",
    "    threads.append(t)\n",
    "    t.start()\n",
    "for t in threads:\n",
    "    t.join()\n"
   ]
  },
  {
   "cell_type": "markdown",
   "metadata": {},
   "source": [
    "多进程"
   ]
  },
  {
   "cell_type": "code",
   "execution_count": 32,
   "metadata": {
    "collapsed": false
   },
   "outputs": [
    {
     "name": "stdout",
     "output_type": "stream",
     "text": [
      "Writing semaphore.py\n"
     ]
    }
   ],
   "source": [
    "%%writefile semaphore.py\n",
    "from multiprocessing import Process, Semaphore\n",
    "\n",
    "def foo(tid,sema):\n",
    "    import time\n",
    "    from random import random\n",
    "    with sema:\n",
    "        print('{} acquire sema'.format(tid))\n",
    "        wt = random() * 2\n",
    "        time.sleep(wt)\n",
    "    print('{} release sema'.format(tid))\n",
    "    \n",
    "if __name__ == \"__main__\":\n",
    "    sema = Semaphore(3)\n",
    "    processes = []\n",
    "    for i in range(5):\n",
    "        t = Process(target=foo, args=(i,sema))\n",
    "        processes.append(t)\n",
    "\n",
    "    for t in processes:     \n",
    "        t.start()\n",
    "    for t in processes:\n",
    "        t.join()\n"
   ]
  },
  {
   "cell_type": "code",
   "execution_count": 33,
   "metadata": {
    "collapsed": false
   },
   "outputs": [
    {
     "name": "stdout",
     "output_type": "stream",
     "text": [
      "4 acquire sema\n",
      "4 release sema\n",
      "1 acquire sema\n",
      "1 release sema\n",
      "0 acquire sema\n",
      "0 release sema\n",
      "2 acquire sema\n",
      "2 release sema\n",
      "3 acquire sema\n",
      "3 release sema\n"
     ]
    }
   ],
   "source": [
    "!python semaphore.py"
   ]
  },
  {
   "cell_type": "markdown",
   "metadata": {},
   "source": [
    "## 锁Lock\n",
    "\n",
    "Lock也可以叫做互斥锁，其实相当于信号量为1。\n",
    "\n",
    "在多线程中锁的作用是用于锁定读写,以确认同一个资源同一时间只能被一个操作访问.我们先看一个不加锁的例子:"
   ]
  },
  {
   "cell_type": "code",
   "execution_count": 5,
   "metadata": {
    "collapsed": false
   },
   "outputs": [
    {
     "name": "stdout",
     "output_type": "stream",
     "text": [
      "24\n"
     ]
    }
   ],
   "source": [
    "import time\n",
    "from threading import Thread\n",
    "value = 0\n",
    "def getlock():\n",
    "    global value\n",
    "    new = value + 1\n",
    "    time.sleep(0.001)  # 使用sleep让线程有机会切换\n",
    "    value = new\n",
    "threads = []\n",
    "for i in range(100):\n",
    "    t = Thread(target=getlock)\n",
    "    t.start()\n",
    "    threads.append(t)\n",
    "for t in threads:\n",
    "    t.join()\n",
    "print(value)\n"
   ]
  },
  {
   "cell_type": "markdown",
   "metadata": {},
   "source": [
    "不加锁的情况下，结果会远远的小于100。那我们加上互斥锁看看"
   ]
  },
  {
   "cell_type": "code",
   "execution_count": 7,
   "metadata": {
    "collapsed": false,
    "scrolled": true
   },
   "outputs": [
    {
     "name": "stdout",
     "output_type": "stream",
     "text": [
      "100\n"
     ]
    }
   ],
   "source": [
    "import time\n",
    "from threading import Thread, Lock\n",
    "value = 0\n",
    "lock = Lock()\n",
    "def getlock():\n",
    "    global value\n",
    "    with lock:\n",
    "        new = value + 1\n",
    "        time.sleep(0.001)\n",
    "        value = new\n",
    "threads = []\n",
    "for i in range(100):\n",
    "    t = Thread(target=getlock)\n",
    "    t.start()\n",
    "    threads.append(t)\n",
    "for t in threads:\n",
    "    t.join()\n",
    "print(value)"
   ]
  },
  {
   "cell_type": "markdown",
   "metadata": {},
   "source": [
    "锁作为一种特殊信号量,它的接口与Semaphore一致.在线程,进程,协程中的使用的模块分别为:\n",
    "\n",
    "+ 协程--`asynico.Lock(*,loop=None)`\n",
    "\n",
    "+ 线程--`threading.Lock(value=1)`\n",
    "\n",
    "+ 进程--`multiprocessing.Lock([value])`"
   ]
  },
  {
   "cell_type": "markdown",
   "metadata": {},
   "source": [
    "在协程中,实际上协程并没有抢占资源的情况,因此此处的锁更多的是用来作为一个全局的变量锁定一些流程用"
   ]
  },
  {
   "cell_type": "code",
   "execution_count": 12,
   "metadata": {
    "collapsed": false
   },
   "outputs": [
    {
     "name": "stdout",
     "output_type": "stream",
     "text": [
      "l1 waiting for the lock\n",
      "l2 waiting for the lock\n",
      "callback releasing lock\n",
      "l1 acquired lock\n",
      "l1 released lock\n",
      "l2 acquired lock\n",
      "l2 released lock\n"
     ]
    }
   ],
   "source": [
    "import asyncio\n",
    "import functools\n",
    "def unlock(lock):\n",
    "    print('callback releasing lock')\n",
    "    lock.release()\n",
    "async def test(locker, lock):\n",
    "    print('{} waiting for the lock'.format(locker))\n",
    "    with await lock:\n",
    "        print('{} acquired lock'.format(locker))\n",
    "    print('{} released lock'.format(locker))\n",
    "async def main(loop):\n",
    "    lock = asyncio.Lock()\n",
    "    await lock.acquire()\n",
    "    loop.call_later(0.1, functools.partial(unlock, lock))\n",
    "    await asyncio.wait([test('l1', lock), test('l2', lock)])\n",
    "\n",
    "loop = asyncio.new_event_loop()\n",
    "asyncio.set_event_loop(loop)\n",
    "loop.run_until_complete(main(loop))\n",
    "loop.close()"
   ]
  },
  {
   "cell_type": "markdown",
   "metadata": {},
   "source": [
    "而针对于多进程,锁同样起到一个全局信号的作用,比如多个进程处理同一个文件,就需要加锁来限制"
   ]
  },
  {
   "cell_type": "code",
   "execution_count": 30,
   "metadata": {
    "collapsed": false
   },
   "outputs": [
    {
     "name": "stdout",
     "output_type": "stream",
     "text": [
      "Overwriting lock.py\n"
     ]
    }
   ],
   "source": [
    "%%writefile lock.py\n",
    "import multiprocessing  \n",
    "import sys  \n",
    "  \n",
    "def worker_with(lock, f):  \n",
    "    with lock:  \n",
    "        with open(f,\"a+\") as fs:\n",
    "            fs.write('Lock acquired via with\\n')  \n",
    "\n",
    "if __name__ == '__main__':\n",
    "    f = \"source/file.txt\"  \n",
    "    lock = multiprocessing.Lock()  \n",
    "    w = multiprocessing.Process(target=worker_with, args=(lock, f))  \n",
    "    w.start()  \n",
    "    w.join()"
   ]
  },
  {
   "cell_type": "code",
   "execution_count": 31,
   "metadata": {
    "collapsed": false
   },
   "outputs": [],
   "source": [
    "!python lock.py"
   ]
  },
  {
   "cell_type": "markdown",
   "metadata": {},
   "source": [
    "## 事件\n",
    "\n",
    "一个过程发送/传递事件，所谓事件是指的一个保存标记状态的对象,如果内部标记为True则表示事件发生了,反之就是没发生\n",
    "\n",
    "事件的接口包括:\n",
    "\n",
    "+ clear()\n",
    "\n",
    "事件内部标记为False\n",
    "\n",
    "+ is_set()\n",
    "返回事件的内部标记\n",
    "\n",
    "+ set()\n",
    "\n",
    "调用则设置内部标记为True\n",
    "\n",
    "+ wait()\n",
    "\n",
    "等待事件被标记为True,协程中该接口为协程\n",
    "\n",
    "另外的过程等待事件的触发。我们用「生产者/消费者」模型的例子.\n",
    "\n"
   ]
  },
  {
   "cell_type": "markdown",
   "metadata": {},
   "source": [
    "线程"
   ]
  },
  {
   "cell_type": "code",
   "execution_count": null,
   "metadata": {
    "collapsed": false
   },
   "outputs": [
    {
     "name": "stdout",
     "output_type": "stream",
     "text": [
      "16 appended to list by producer1\n",
      "16 popped from list by consumer2\n",
      "86 appended to list by producer186 popped from list by consumer2\n",
      "\n",
      "91 appended to list by producer191 popped from list by consumer2\n",
      "\n",
      "88 appended to list by producer188 popped from list by consumer2\n",
      "\n",
      "31 appended to list by producer131 popped from list by consumer2\n",
      "\n",
      "30 appended to list by producer130 popped from list by consumer2\n",
      "\n",
      "95 appended to list by producer195 popped from list by consumer1\n",
      "\n",
      "71 appended to list by producer1\n",
      "71 popped from list by consumer1\n",
      "19 appended to list by producer119 popped from list by consumer2\n",
      "\n",
      "59 appended to list by producer159 popped from list by consumer2\n",
      "\n",
      "33 appended to list by producer133 popped from list by consumer2\n",
      "\n",
      "18 appended to list by producer118 popped from list by consumer2\n",
      "\n",
      "19 appended to list by producer119 popped from list by consumer2\n",
      "\n",
      "97 appended to list by producer197 popped from list by consumer2\n",
      "\n",
      "19 appended to list by producer119 popped from list by consumer2\n",
      "\n",
      "30 appended to list by producer130 popped from list by consumer1\n",
      "\n",
      "38 appended to list by producer1\n",
      "38 popped from list by consumer2\n",
      "56 appended to list by producer156 popped from list by consumer2\n",
      "\n",
      "84 appended to list by producer1\n",
      "84 popped from list by consumer1\n",
      "81 appended to list by producer1\n",
      "81 popped from list by consumer2\n"
     ]
    }
   ],
   "source": [
    "import time\n",
    "import threading\n",
    "from random import randint\n",
    "\n",
    "TIMEOUT = 2\n",
    "def consumer(event, l):\n",
    "    t = threading.currentThread()\n",
    "    while 1:\n",
    "        try:\n",
    "            event_is_set = event.wait(TIMEOUT)\n",
    "        except:\n",
    "            break\n",
    "        if event_is_set:\n",
    "            try:\n",
    "                integer = l.pop()\n",
    "                print('{} popped from list by {}'.format(integer, t.name))\n",
    "                event.clear()  # 重置事件状态\n",
    "            except IndexError:  # 为了让刚启动时容错\n",
    "                pass\n",
    "def producer(event, l):\n",
    "    t = threading.currentThread()\n",
    "    for i in range(20):\n",
    "        integer = randint(10, 100)\n",
    "        l.append(integer)\n",
    "        print('{} appended to list by {}'.format(integer, t.name))\n",
    "        event.set() # 设置事件\n",
    "        time.sleep(1)\n",
    "event = threading.Event()\n",
    "l = []\n",
    "threads = []\n",
    "for name in ('consumer1', 'consumer2'):\n",
    "    t = threading.Thread(name=name, target=consumer, args=(event, l))\n",
    "    t.start()\n",
    "    threads.append(t)\n",
    "p = threading.Thread(name='producer1', target=producer, args=(event, l))\n",
    "p.start()\n",
    "threads.append(p)\n",
    "for t in threads:\n",
    "    t.join()"
   ]
  },
  {
   "cell_type": "markdown",
   "metadata": {},
   "source": [
    "## 条件Condition\n",
    "\n",
    "条件用于信号通信,它的除了拥有锁的所有接口外,还有接口:\n",
    "\n",
    "\n",
    "+ notify(n=1)\n",
    "\n",
    "    释放出通知,让使用相同Condition对象的几个过程知道这个条件已被激活\n",
    "\n",
    "+ notify_all()\n",
    "\n",
    "    释放出通知,让使用相同Condition对象的所有过程知道这个条件已被激活\n",
    "\n",
    "+ wait()\n",
    "\n",
    "    等待使用相同Condition对象的过程的通知.\n",
    "\n",
    "+ wait_for(predicate)\n",
    "    \n",
    "    相当于\n",
    "    ```python\n",
    "    while not predicate():\n",
    "        cv.wait()\n",
    "    ```\n",
    "\n",
    "一个过程等待特定条件，而另一个过程发出特定条件满足的信号。最好说明的例子就是「生产者/消费者」模型："
   ]
  },
  {
   "cell_type": "markdown",
   "metadata": {},
   "source": [
    "协程方式"
   ]
  },
  {
   "cell_type": "code",
   "execution_count": 34,
   "metadata": {
    "collapsed": false,
    "scrolled": true
   },
   "outputs": [
    {
     "name": "stdout",
     "output_type": "stream",
     "text": [
      "Making resource available\n",
      "c1: Resource is available to consumer\n",
      "c2: Resource is available to consumer\n"
     ]
    }
   ],
   "source": [
    "import asyncio\n",
    "import functools\n",
    "async def consumer(cond, name, second):\n",
    "    await asyncio.sleep(second)\n",
    "    async with cond:\n",
    "        await cond.wait()\n",
    "        print('{}: Resource is available to consumer'.format(name))\n",
    "        \n",
    "async def producer(cond):\n",
    "    await asyncio.sleep(2)\n",
    "    async with cond:\n",
    "        print('Making resource available')\n",
    "        cond.notify_all()\n",
    "        \n",
    "        \n",
    "async def main(loop):\n",
    "    condition = asyncio.Condition()\n",
    "    task = loop.create_task(producer(condition))\n",
    "    consumers = [consumer(condition, name, index)\n",
    "                 for index, name in enumerate(('c1', 'c2'))]\n",
    "    await asyncio.wait(consumers)\n",
    "    task.cancel()\n",
    "    \n",
    "    \n",
    "loop = asyncio.new_event_loop()\n",
    "asyncio.set_event_loop(loop)\n",
    "loop.run_until_complete(main(loop))\n",
    "loop.close()"
   ]
  },
  {
   "cell_type": "markdown",
   "metadata": {},
   "source": [
    "线程方式"
   ]
  },
  {
   "cell_type": "code",
   "execution_count": 38,
   "metadata": {
    "collapsed": false
   },
   "outputs": [
    {
     "name": "stdout",
     "output_type": "stream",
     "text": [
      "p: Making resource availablec2: Resource is available to consumerc1: Resource is available to consumer\n",
      "\n",
      "\n"
     ]
    }
   ],
   "source": [
    "\n",
    "import time\n",
    "import threading\n",
    "def consumer(cond):\n",
    "    t = threading.currentThread()\n",
    "    with cond:\n",
    "        cond.wait()  # wait()方法创建了一个名为waiter的锁，并且设置锁的状态为locked。这个waiter锁用于线程间的通讯\n",
    "        print('{}: Resource is available to consumer'.format(t.name))\n",
    "def producer(cond):\n",
    "    t = threading.currentThread()\n",
    "    with cond:\n",
    "        print('{}: Making resource available'.format(t.name))\n",
    "        cond.notify_all()  # 释放waiter锁，唤醒消费者\n",
    "condition = threading.Condition()\n",
    "c1 = threading.Thread(name='c1', target=consumer, args=(condition,))\n",
    "c2 = threading.Thread(name='c2', target=consumer, args=(condition,))\n",
    "p = threading.Thread(name='p', target=producer, args=(condition,))\n",
    "c1.start()\n",
    "time.sleep(1)\n",
    "c2.start()\n",
    "time.sleep(1)\n",
    "p.start()"
   ]
  },
  {
   "cell_type": "markdown",
   "metadata": {},
   "source": [
    "进程方式"
   ]
  },
  {
   "cell_type": "code",
   "execution_count": 39,
   "metadata": {
    "collapsed": false
   },
   "outputs": [
    {
     "name": "stdout",
     "output_type": "stream",
     "text": [
      "Writing cond.py\n"
     ]
    }
   ],
   "source": [
    "%%writefile cond.py\n",
    "import time\n",
    "import multiprocessing\n",
    "def consumer(cond):\n",
    "    t = multiprocessing.current_process()\n",
    "    with cond:\n",
    "        cond.wait()  # wait()方法创建了一个名为waiter的锁，并且设置锁的状态为locked。这个waiter锁用于线程间的通讯\n",
    "        print('{}: Resource is available to consumer'.format(t.name))\n",
    "def producer(cond):\n",
    "    t = multiprocessing.current_process()\n",
    "    with cond:\n",
    "        print('{}: Making resource available'.format(t.name))\n",
    "        cond.notify_all()  # 释放waiter锁，唤醒消费者\n",
    "        \n",
    "if __name__=='__main__':\n",
    "    condition = multiprocessing.Condition()\n",
    "    c1 = multiprocessing.Process(name='c1', target=consumer, args=(condition,))\n",
    "    c2 = multiprocessing.Process(name='c2', target=consumer, args=(condition,))\n",
    "    p = multiprocessing.Process(name='p', target=producer, args=(condition,))\n",
    "    c1.start()\n",
    "    time.sleep(1)\n",
    "    c2.start()\n",
    "    time.sleep(1)\n",
    "    p.start()"
   ]
  },
  {
   "cell_type": "code",
   "execution_count": 40,
   "metadata": {
    "collapsed": false
   },
   "outputs": [
    {
     "name": "stdout",
     "output_type": "stream",
     "text": [
      "p: Making resource available\n",
      "c1: Resource is available to consumer\n",
      "c2: Resource is available to consumer\n"
     ]
    }
   ],
   "source": [
    "!python cond.py"
   ]
  },
  {
   "cell_type": "markdown",
   "metadata": {},
   "source": [
    "## 队列"
   ]
  },
  {
   "cell_type": "code",
   "execution_count": null,
   "metadata": {
    "collapsed": true
   },
   "outputs": [],
   "source": []
  }
 ],
 "metadata": {
  "kernelspec": {
   "display_name": "Python 3",
   "language": "python",
   "name": "python3"
  },
  "language_info": {
   "codemirror_mode": {
    "name": "ipython",
    "version": 3
   },
   "file_extension": ".py",
   "mimetype": "text/x-python",
   "name": "python",
   "nbconvert_exporter": "python",
   "pygments_lexer": "ipython3",
   "version": "3.6.0"
  }
 },
 "nbformat": 4,
 "nbformat_minor": 2
}
