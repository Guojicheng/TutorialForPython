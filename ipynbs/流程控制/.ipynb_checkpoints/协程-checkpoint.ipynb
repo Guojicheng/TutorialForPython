{
 "cells": [
  {
   "cell_type": "markdown",
   "metadata": {},
   "source": [
    "# 协程\n",
    "\n",
    "协程是一种单线程通过调度事件循环从而实现的异步解决方案.\n",
    "\n",
    "协程是实现高并发的方案中开销最小的方案.在io密集型任务中往往是最高效的方案.python3.5以后协程语法已经基本定型.\n",
    "\n",
    "python的协程模型可以分为如下几个部分:\n",
    "\n",
    "+ event_loop 事件循环:程序开启一个无限的循环,程序员会把一些函数注册到事件循环上.当满足事件发生的时候,调用相应的协程函数.\n",
    "\n",
    "+ coroutine 协程:协程对象,指一个使用async关键字定义的函数,它的调用不会立即执行函数,而是会返回一个协程对象.协程对象需要注册到事件循环,由事件循环调用.\n",
    "\n",
    "+ task/future 期物或者用js中的说法promise:一个协程对象就是一个原生可以挂起的函数,任务则是对协程进一步封装,其中包含任务的各种状态.future则代表将来执行或没有执行的任务的结果.它和task上没有本质的区别,实际使用时,我们大多数时候都不需要自己创建task或者future"
   ]
  },
  {
   "cell_type": "markdown",
   "metadata": {},
   "source": [
    "## 协程的基本用法\n",
    "\n",
    "使用协程需要使用python的标准库[asyncio](https://docs.python.org/3/library/asyncio-eventloops.html)\n",
    "\n",
    "使用协程基本上步骤如下:\n",
    "\n",
    "1. 创建一个事件循环\n",
    "2. 创建协程并理顺协程间的相互关系\n",
    "3. 将协程作为任务注册到时间循环"
   ]
  },
  {
   "cell_type": "code",
   "execution_count": 1,
   "metadata": {
    "collapsed": false
   },
   "outputs": [
    {
     "name": "stdout",
     "output_type": "stream",
     "text": [
      "Waiting:  2\n",
      "TIME:  0.01700115203857422\n"
     ]
    }
   ],
   "source": [
    "import time\n",
    "import asyncio\n",
    "\n",
    "now = lambda : time.time()\n",
    "\n",
    "async def do_some_work(x):\n",
    "    print('Waiting: ', x)\n",
    "\n",
    "start = now()\n",
    "\n",
    "coroutine = do_some_work(2)\n",
    "\n",
    "loop = asyncio.new_event_loop()\n",
    "asyncio.set_event_loop(loop)\n",
    "loop.run_until_complete(coroutine)\n",
    "print('TIME: ', now() - start)"
   ]
  },
  {
   "cell_type": "markdown",
   "metadata": {},
   "source": [
    "## 事件循环\n",
    "\n",
    "事件循环是一个无限的的循环,用来监控触发事件.一般我们用`loop = asyncio.new_event_loop()`来创建一个事件循环的实例,然后将其使用`asyncio.set_event_loop(loop)`来将循环实例定义为当前的事件循环.如果程序并不需要考虑使用多个循环的话我们也可以直接使用`asyncio.get_event_loop()`来获取当前事件循环的实例\n",
    "\n",
    "\n",
    "事实上python原生的事件循环并不高效,[uvloop](https://github.com/MagicStack/uvloop)是一个高效的事件循环,它使用cython编写,并使用libuv,就是node.js用的那个高性能事件驱动的程序库.我们在生产环境可以使用它来运行协程.(windows下无法使用)"
   ]
  },
  {
   "cell_type": "code",
   "execution_count": 2,
   "metadata": {
    "collapsed": false
   },
   "outputs": [
    {
     "ename": "ModuleNotFoundError",
     "evalue": "No module named 'uvloop'",
     "output_type": "error",
     "traceback": [
      "\u001b[0;31m---------------------------------------------------------------------------\u001b[0m",
      "\u001b[0;31mModuleNotFoundError\u001b[0m                       Traceback (most recent call last)",
      "\u001b[0;32m<ipython-input-2-858fead80a5c>\u001b[0m in \u001b[0;36m<module>\u001b[0;34m()\u001b[0m\n\u001b[1;32m      1\u001b[0m \u001b[1;32mimport\u001b[0m \u001b[0mtime\u001b[0m\u001b[1;33m\u001b[0m\u001b[0m\n\u001b[1;32m      2\u001b[0m \u001b[1;32mimport\u001b[0m \u001b[0masyncio\u001b[0m\u001b[1;33m\u001b[0m\u001b[0m\n\u001b[0;32m----> 3\u001b[0;31m \u001b[1;32mimport\u001b[0m \u001b[0muvloop\u001b[0m\u001b[1;33m\u001b[0m\u001b[0m\n\u001b[0m\u001b[1;32m      4\u001b[0m \u001b[1;33m\u001b[0m\u001b[0m\n\u001b[1;32m      5\u001b[0m \u001b[0mnow\u001b[0m \u001b[1;33m=\u001b[0m \u001b[1;32mlambda\u001b[0m \u001b[1;33m:\u001b[0m \u001b[0mtime\u001b[0m\u001b[1;33m.\u001b[0m\u001b[0mtime\u001b[0m\u001b[1;33m(\u001b[0m\u001b[1;33m)\u001b[0m\u001b[1;33m\u001b[0m\u001b[0m\n",
      "\u001b[0;31mModuleNotFoundError\u001b[0m: No module named 'uvloop'"
     ]
    }
   ],
   "source": [
    "import time\n",
    "import asyncio\n",
    "import uvloop\n",
    "\n",
    "now = lambda : time.time()\n",
    "\n",
    "async def do_some_work(x):\n",
    "    print('Waiting: ', x)\n",
    "\n",
    "start = now()\n",
    "\n",
    "coroutine = do_some_work(2)\n",
    "\n",
    "loop = uvloop.new_event_loop()\n",
    "asyncio.set_event_loop(loop)\n",
    "loop.run_until_complete(coroutine)\n",
    "print('TIME: ', now() - start)"
   ]
  },
  {
   "cell_type": "markdown",
   "metadata": {},
   "source": [
    "## 协程及其语法\n",
    "\n",
    "协程语法可以说是函数的一个超集,它的特征是使用`async def`来定义,并且可以在其内部使用`await`关键字等待另一个协程完成.协程对象的抽象基类为`collections.abc.Coroutine`，实现`send(value)`，`throw(type, exc, tb)`，`close()`和`__await__()`接口。\n",
    "\n",
    "可以看出协程与生成器接口相似,就是多了个`__await__()`少了迭代器相关的`__next__()和__iter__()`事实上,在3.7版本之前,协程都是使用生成器来实现的.\n",
    "\n",
    "\n",
    "协程对象内部需要实现`Awaitable`协议,也就是要实现`__await__`接口,这个接口必须返回一个迭代器,带有这一接口的对象我们称之为`Future-like`对象,有它的就可以被程序用`await`关键字挂起等待,`Future-like`类的抽象基类为`collections.abc.Awaitable`\n",
    "\n",
    "### await语法\n",
    "\n",
    "await就是用来挂起等待任务结束的关键字它只能在协程中使用.\n",
    "\n",
    "有效用法：\n",
    "\n",
    "表达式|\t被解析为\n",
    "---|---\n",
    "`if await fut: pass`\t|`if (await fut): pass`\n",
    "`if await fut + 1: pass`\t|`if (await fut) + 1: pass`\n",
    "`pair = await fut, 'spam'`\t|`pair = (await fut), 'spam'`\n",
    "`with await fut, open(): pass`\t|`with (await fut), open(): pass`\n",
    "`await foo()['spam'].baz()()`|\t`await ( foo()['spam'].baz()() )`\n",
    "`return await coro()`\t|`return ( await coro() )`\n",
    "`res = await coro() ** 2`|\t`res = (await coro()) ** 2`\n",
    "`func(a1=await coro(), a2=0)`\t|`func(a1=(await coro()), a2=0)`\n",
    "`await foo() + await bar()`|`(await foo()) + (await bar())`\n",
    "`-await foo()`|\t`-(await foo())`\n",
    "\n",
    "无效用法：\n",
    "\n",
    "表达式|\t应该写为\n",
    "---|---\n",
    "`await await coro()`|\t`await (await coro())`\n",
    "`await -coro()`|\t`await (-coro())`\n",
    "\n",
    "\n",
    "一般来说await会挂起直到它下面的一串`Future-like`对象都运行结束才会继续向下."
   ]
  },
  {
   "cell_type": "markdown",
   "metadata": {},
   "source": [
    "### async 语法\n",
    "\n",
    "除了用`async def`创建协程,`async`还有其他几个用法"
   ]
  },
  {
   "cell_type": "markdown",
   "metadata": {},
   "source": [
    "#### 异步迭代器和async for\n",
    "\n",
    "\n",
    "异步迭代器可以在它的iter实现里挂起、调用异步代码，也可以在它的`__next__`方法里挂起、调用异步代码。要支持异步迭代，需要：\n",
    "\n",
    "+ 对象必须实现一个`__aiter__`接口,返回一个异步迭代器对象，这个异步迭代器对象在每次迭代时会返回一个`Future-like`对象\n",
    "+ 一个异步迭代器必须实现一个`__anext__`方法,在每次迭代时返回一个`Future-like`对象\n",
    "+ 要停止迭代，`__anext__`必须抛出一个`StopAsyncIteration`异常。\n",
    "\n",
    "python的buildin方法中有`aiter()`和`anext()`可以直接调用异步迭代器的对应接口实现.\n",
    "\n",
    "例子:"
   ]
  },
  {
   "cell_type": "code",
   "execution_count": 3,
   "metadata": {
    "collapsed": false
   },
   "outputs": [
    {
     "name": "stdout",
     "output_type": "stream",
     "text": [
      "0\n",
      "1\n",
      "2\n",
      "3\n",
      "4\n"
     ]
    }
   ],
   "source": [
    "import asyncio\n",
    "class Ticker:\n",
    "    \"\"\"Yield numbers from 0 to `to` every `delay` seconds.\"\"\"\n",
    "\n",
    "    def __init__(self, delay, to):\n",
    "        self.delay = delay\n",
    "        self.i = 0\n",
    "        self.to = to\n",
    "\n",
    "    def __aiter__(self):\n",
    "        return self\n",
    "\n",
    "    async def __anext__(self):\n",
    "        i = self.i\n",
    "        if i >= self.to:\n",
    "            raise StopAsyncIteration\n",
    "        self.i += 1\n",
    "        if i:\n",
    "            await asyncio.sleep(self.delay)\n",
    "        return i\n",
    "\n",
    "\n",
    "        \n",
    "\n",
    "async def main():\n",
    "    async for i in Ticker(1,5):\n",
    "        print(i)\n",
    "\n",
    "        \n",
    "loop = asyncio.new_event_loop()\n",
    "asyncio.set_event_loop(loop)\n",
    "loop.run_until_complete(main())"
   ]
  },
  {
   "cell_type": "markdown",
   "metadata": {},
   "source": [
    "##### 异步列表解析(3.6)\n",
    "\n",
    "列表解析中可以使用`await`来等待`Future-like`对象的结果,如:\n",
    "\n",
    "`result = [await fun() for fun in funcs if await condition()]`\n",
    "\n",
    "\n",
    "在列表中允许使用`async for`来做迭代,它的形式如下:\n",
    "\n",
    "`[i async for i in Ticker(1,5) if i % 2]`"
   ]
  },
  {
   "cell_type": "code",
   "execution_count": 4,
   "metadata": {
    "collapsed": false
   },
   "outputs": [
    {
     "name": "stdout",
     "output_type": "stream",
     "text": [
      "[1, 3]\n"
     ]
    }
   ],
   "source": [
    "import asyncio\n",
    "class Ticker:\n",
    "    \"\"\"Yield numbers from 0 to `to` every `delay` seconds.\"\"\"\n",
    "\n",
    "    def __init__(self, delay, to):\n",
    "        self.delay = delay\n",
    "        self.i = 0\n",
    "        self.to = to\n",
    "\n",
    "    def __aiter__(self):\n",
    "        return self\n",
    "\n",
    "    async def __anext__(self):\n",
    "        i = self.i\n",
    "        if i >= self.to:\n",
    "            raise StopAsyncIteration\n",
    "        self.i += 1\n",
    "        if i:\n",
    "            await asyncio.sleep(self.delay)\n",
    "        return i\n",
    "\n",
    "async def main():\n",
    "    result = [i async for i in Ticker(1,5) if i % 2]\n",
    "    print(result)\n",
    "        \n",
    "loop = asyncio.new_event_loop()\n",
    "asyncio.set_event_loop(loop)\n",
    "loop.run_until_complete(main())"
   ]
  },
  {
   "cell_type": "markdown",
   "metadata": {},
   "source": [
    "#### 异步上下文管理器和`async with`\n",
    "\n",
    "异步上下文管理器类似普通的上下文管理器，可以让程序在进入上下文和离开上下文之间挂起状态,调用异步代码.\n",
    "\n",
    "异步上下文管理器需要实现两个接口\n",
    "\n",
    "+ `__aenter__`处理进入上下文时的操作,如果有返回值,则可以使用`as`标定上下文中的变量名\n",
    "+ `__aexit__`处理离开上下文时的操作,和`__exit__`的参数一样,它的参数必须是`self`,`exc_type`, `exc`, `tb`,分别代表对象自身对象,exception_type , exception_value , 和 traceback,如果正常退出,`exc_type`, `exc`, `tb`将会是 None.\n",
    "\n",
    "`__aenter__`和`__aexit__`，它们必须返回一个`Future-like`对象\n",
    "\n",
    "和普通的with语句一样，可以在单个async with语句里指定多个上下文管理器。\n",
    "\n",
    "异步上下文管理器的一个示例："
   ]
  },
  {
   "cell_type": "code",
   "execution_count": 5,
   "metadata": {
    "collapsed": false
   },
   "outputs": [
    {
     "name": "stdout",
     "output_type": "stream",
     "text": [
      "entering context\n",
      "0\n",
      "1\n",
      "2\n",
      "3\n",
      "4\n",
      "exit context\n"
     ]
    }
   ],
   "source": [
    "import asyncio\n",
    "class Ticker:\n",
    "    \"\"\"Yield numbers from 0 to `to` every `delay` seconds.\"\"\"\n",
    "\n",
    "    def __init__(self, delay, to):\n",
    "        self.delay = delay\n",
    "        self.i = 0\n",
    "        self.to = to\n",
    "\n",
    "    def __aiter__(self):\n",
    "        return self\n",
    "\n",
    "    async def __anext__(self):\n",
    "        i = self.i\n",
    "        if i >= self.to:\n",
    "            raise StopAsyncIteration\n",
    "        self.i += 1\n",
    "        if i:\n",
    "            await asyncio.sleep(self.delay)\n",
    "        return i\n",
    "class AsyncContextTicker:\n",
    "    def __init__(self,delay, to):\n",
    "        self.data = Ticker(delay, to)\n",
    "        \n",
    "    async def __aenter__(self):\n",
    "        print('entering context')\n",
    "        await asyncio.sleep(1)\n",
    "        return self.data\n",
    "        \n",
    "    async def __aexit__(self, exc_type, exc, tb):\n",
    "        await asyncio.sleep(1)\n",
    "        print('exit context')\n",
    "        \n",
    "\n",
    "async def main():\n",
    "    async with AsyncContextTicker(1,5) as ticker:\n",
    "        async for i in ticker:\n",
    "            print(i)\n",
    "        \n",
    "loop = asyncio.new_event_loop()\n",
    "asyncio.set_event_loop(loop)\n",
    "loop.run_until_complete(main())"
   ]
  },
  {
   "cell_type": "markdown",
   "metadata": {},
   "source": [
    "### 异步生成器(3.6)\n",
    "\n",
    "带`yield`关键字的函数是生成器,带`yield`关键字的协程就是异步生成器,从效果上看异步生成器效果和异步迭代器效果差不多,它需要实现协议:\n",
    "\n",
    "+ PyAsyncGenASend : `__anext__`和`asend()`接口 ,对应一般生成器中的`__next__`和`send()`,用于在异步生成器间交互信息\n",
    "+ PyAsyncGenAThrow :  `athrow()` and `aclose()`接口,对应一般生成器的`throw()`和`close()`,用于关闭异步生成器或者抛出错误\n",
    "+ `StopAsyncIteration`用于标注结束\n"
   ]
  },
  {
   "cell_type": "code",
   "execution_count": 6,
   "metadata": {
    "collapsed": false
   },
   "outputs": [
    {
     "name": "stdout",
     "output_type": "stream",
     "text": [
      "0\n",
      "1\n",
      "2\n",
      "3\n",
      "4\n"
     ]
    }
   ],
   "source": [
    "import asyncio\n",
    "async def ticker(delay, to):\n",
    "    \"\"\"Yield numbers from 0 to *to* every *delay* seconds.\"\"\"\n",
    "    for i in range(0,to):\n",
    "        yield i\n",
    "        await asyncio.sleep(delay)\n",
    "        \n",
    "async def main():\n",
    "    async for i in ticker(1,5):\n",
    "        print(i)\n",
    "        \n",
    "loop = asyncio.new_event_loop()\n",
    "asyncio.set_event_loop(loop)\n",
    "loop.run_until_complete(main())"
   ]
  },
  {
   "cell_type": "markdown",
   "metadata": {},
   "source": [
    "#### 关于`yield from`\n",
    "\n",
    "因为异步步生成器本质上是异步迭代器的子类,我们可以利用这一点使用`async for`语句代替`yield from`的语义."
   ]
  },
  {
   "cell_type": "code",
   "execution_count": 7,
   "metadata": {
    "collapsed": false
   },
   "outputs": [
    {
     "name": "stdout",
     "output_type": "stream",
     "text": [
      "0\n",
      "1\n",
      "2\n",
      "3\n",
      "4\n"
     ]
    }
   ],
   "source": [
    "import asyncio\n",
    "async def g1(x):\n",
    "    for i in range(x):\n",
    "        yield i\n",
    "\n",
    "async def g2():\n",
    "    async for v in g1(5):\n",
    "        yield v\n",
    "        \n",
    "async def main():\n",
    "    async for i in g2():\n",
    "        print(i)\n",
    "        \n",
    "loop = asyncio.new_event_loop()\n",
    "asyncio.set_event_loop(loop)\n",
    "loop.run_until_complete(main())"
   ]
  },
  {
   "cell_type": "markdown",
   "metadata": {},
   "source": [
    "### 协程的状态\n",
    "\n",
    "协程可以有4种状态,可以是用python的反射模块`inspect.getcoroutinestate(coroutine)`来查看\n",
    "\n",
    "\n",
    "+ CORO_CREATED: 等待被使用\n",
    "+ CORO_RUNNING: 目前执行中\n",
    "+ CORO_SUSPENDED: 目前在`await`处暂停等待信号中\n",
    "+ CORO_CLOSED: 执行结束\n"
   ]
  },
  {
   "cell_type": "markdown",
   "metadata": {},
   "source": [
    "### 实用例子\n",
    "\n",
    "协程有三种不同的代码编写风格:\n",
    "\n",
    "+ 拉取式\n",
    "\n",
    "    典型的异步生成器和异步迭代器使用场景\n",
    "\n",
    "+ 推送式\n",
    "\n",
    "    通过将数据推送给协程让协程一步一步的计算返回数据\n",
    "\n",
    "+ 任务式\n",
    "\n",
    "    根据状态来排定运行顺序\n",
    "    \n",
    "#### 推送式\n",
    "\n",
    "我们用一个计算移动平均值的异步生成器来看看协程是如何工作的."
   ]
  },
  {
   "cell_type": "code",
   "execution_count": 33,
   "metadata": {
    "collapsed": false
   },
   "outputs": [
    {
     "name": "stdout",
     "output_type": "stream",
     "text": [
      "0.0\n",
      "0.5\n",
      "1.0\n",
      "1.5\n",
      "2.0\n",
      "2.5\n",
      "3.0\n",
      "3.5\n",
      "4.0\n",
      "4.5\n",
      "5.0\n"
     ]
    }
   ],
   "source": [
    "async def averager():\n",
    "    total = 0.0\n",
    "    count = 0\n",
    "    average = None\n",
    "    while True: \n",
    "        term = yield average\n",
    "        total += term\n",
    "        count += 1\n",
    "        average = total/count\n",
    "        \n",
    "async def grouper():\n",
    "    aver = averager()\n",
    "    await aver.__anext__()\n",
    "    for i in range(11):\n",
    "        j = await aver.asend(i)\n",
    "        print(j)\n",
    "loop = asyncio.new_event_loop()\n",
    "asyncio.set_event_loop(loop)\n",
    "loop.run_until_complete(grouper())"
   ]
  },
  {
   "cell_type": "markdown",
   "metadata": {},
   "source": [
    "#### 任务式\n",
    "\n",
    "一个简单的离散事件仿真类--出租车队运营仿真"
   ]
  },
  {
   "cell_type": "code",
   "execution_count": 34,
   "metadata": {
    "collapsed": true
   },
   "outputs": [],
   "source": [
    "import random\n",
    "from collections import namedtuple\n",
    "import queue\n",
    "import argparse\n",
    "import time"
   ]
  },
  {
   "cell_type": "code",
   "execution_count": 36,
   "metadata": {
    "collapsed": false
   },
   "outputs": [],
   "source": [
    "Event = namedtuple('Event',[ 'time', 'proc', 'action'])#定义事件"
   ]
  },
  {
   "cell_type": "code",
   "execution_count": 37,
   "metadata": {
    "collapsed": true
   },
   "outputs": [],
   "source": [
    "DEFAULT_NUMBER_OF_TAXIS = 3#出租车数量\n",
    "DEFAULT_END_TIME = 180#运行时间默认180\n",
    "SEARCH_DURATION = 5 #找乘客时间默认为5\n",
    "TRIP_DURATION = 20 #载客时间默认为20\n",
    "DEPARTURE_INTERVAL = 5#出库间隔默认5"
   ]
  },
  {
   "cell_type": "code",
   "execution_count": 40,
   "metadata": {
    "collapsed": false
   },
   "outputs": [],
   "source": [
    "async def taxi_process(ident, trips, start_time=0):\n",
    "    \"\"\"每次改变状态时创建事件，把控制权让给仿真器\"\"\"\n",
    "    # 定义一个异步生成器,用于描述process\n",
    "    time = yield Event(start_time, ident, 'leave garage') \n",
    "    for i in range(trips):\n",
    "        time = yield Event(time, ident, 'pick up passenger')\n",
    "        time = yield Event(time, ident, 'drop off passenger') \n",
    "    yield Event(time, ident, 'going home')"
   ]
  },
  {
   "cell_type": "code",
   "execution_count": 48,
   "metadata": {
    "collapsed": true
   },
   "outputs": [],
   "source": [
    "def compute_duration(previous_action):\n",
    "    \"\"\"Compute action duration using exponential distribution\"\"\"\n",
    "    if previous_action in ['leave garage', 'drop off passenger']:\n",
    "        # new state is prowling\n",
    "        interval = SEARCH_DURATION\n",
    "    elif previous_action == 'pick up passenger':\n",
    "        # new state is trip\n",
    "        interval = TRIP_DURATION\n",
    "    elif previous_action == 'going home':\n",
    "        interval = 1\n",
    "    else:\n",
    "        raise ValueError('Unknown previous_action: %s' % previous_action)\n",
    "    return int(random.expovariate(1/interval)) + 1"
   ]
  },
  {
   "cell_type": "code",
   "execution_count": 49,
   "metadata": {
    "collapsed": true
   },
   "outputs": [],
   "source": [
    "class Simulator:\n",
    "    def __init__(self, procs_map):\n",
    "        self.events = queue.PriorityQueue()\n",
    "        self.procs = dict(procs_map)\n",
    "\n",
    "    async def run(self, end_time): \n",
    "        \"\"\"排定并显示事件，直到时间结束\"\"\"\n",
    "        for _, proc in sorted(self.procs.items()):\n",
    "            first_event = await proc.__anext__()\n",
    "            self.events.put(first_event)\n",
    "        sim_time = 0\n",
    "        while sim_time < end_time:\n",
    "            if self.events.empty():\n",
    "                print('*** end of events ***')\n",
    "                break\n",
    "            \n",
    "            current_event = self.events.get()\n",
    "            sim_time, proc_id, previous_action = current_event\n",
    "            print('taxi:', proc_id, proc_id * ' ', current_event)\n",
    "            active_proc = self.procs[proc_id]\n",
    "            next_time = sim_time + compute_duration(previous_action)\n",
    "            try:\n",
    "                next_event = await active_proc.asend(next_time)\n",
    "            except StopAsyncIteration:\n",
    "                del self.procs[proc_id]\n",
    "            else:\n",
    "                self.events.put(next_event)\n",
    "        else:\n",
    "            msg = '*** end of simulation time: {} events pending ***'\n",
    "            print(msg.format(self.events.qsize()))"
   ]
  },
  {
   "cell_type": "code",
   "execution_count": 50,
   "metadata": {
    "collapsed": false,
    "scrolled": true
   },
   "outputs": [],
   "source": [
    "taxis = {i: taxi_process(i, (i + 1) * 2, i * DEPARTURE_INTERVAL) for i in range(DEFAULT_NUMBER_OF_TAXIS)}"
   ]
  },
  {
   "cell_type": "code",
   "execution_count": 51,
   "metadata": {
    "collapsed": true
   },
   "outputs": [],
   "source": [
    "sim = Simulator(taxis)"
   ]
  },
  {
   "cell_type": "code",
   "execution_count": 52,
   "metadata": {
    "collapsed": false
   },
   "outputs": [
    {
     "name": "stdout",
     "output_type": "stream",
     "text": [
      "taxi: 0  Event(time=0, proc=0, action='leave garage')\n",
      "taxi: 0  Event(time=2, proc=0, action='pick up passenger')\n",
      "taxi: 1   Event(time=5, proc=1, action='leave garage')\n",
      "taxi: 2    Event(time=10, proc=2, action='leave garage')\n",
      "taxi: 1   Event(time=11, proc=1, action='pick up passenger')\n",
      "taxi: 2    Event(time=11, proc=2, action='pick up passenger')\n",
      "taxi: 1   Event(time=12, proc=1, action='drop off passenger')\n",
      "taxi: 1   Event(time=20, proc=1, action='pick up passenger')\n",
      "taxi: 0  Event(time=43, proc=0, action='drop off passenger')\n",
      "taxi: 2    Event(time=46, proc=2, action='drop off passenger')\n",
      "taxi: 1   Event(time=47, proc=1, action='drop off passenger')\n",
      "taxi: 0  Event(time=48, proc=0, action='pick up passenger')\n",
      "taxi: 2    Event(time=49, proc=2, action='pick up passenger')\n",
      "taxi: 1   Event(time=53, proc=1, action='pick up passenger')\n",
      "taxi: 1   Event(time=54, proc=1, action='drop off passenger')\n",
      "taxi: 0  Event(time=59, proc=0, action='drop off passenger')\n",
      "taxi: 1   Event(time=59, proc=1, action='pick up passenger')\n",
      "taxi: 0  Event(time=68, proc=0, action='going home')\n",
      "taxi: 2    Event(time=74, proc=2, action='drop off passenger')\n",
      "taxi: 1   Event(time=75, proc=1, action='drop off passenger')\n",
      "taxi: 2    Event(time=75, proc=2, action='pick up passenger')\n",
      "taxi: 1   Event(time=78, proc=1, action='going home')\n",
      "taxi: 2    Event(time=81, proc=2, action='drop off passenger')\n",
      "taxi: 2    Event(time=86, proc=2, action='pick up passenger')\n",
      "taxi: 2    Event(time=88, proc=2, action='drop off passenger')\n",
      "taxi: 2    Event(time=116, proc=2, action='pick up passenger')\n",
      "taxi: 2    Event(time=133, proc=2, action='drop off passenger')\n",
      "taxi: 2    Event(time=136, proc=2, action='pick up passenger')\n",
      "taxi: 2    Event(time=149, proc=2, action='drop off passenger')\n",
      "taxi: 2    Event(time=175, proc=2, action='going home')\n",
      "*** end of events ***\n"
     ]
    }
   ],
   "source": [
    "loop = asyncio.new_event_loop()\n",
    "asyncio.set_event_loop(loop)\n",
    "loop.run_until_complete(sim.run(DEFAULT_END_TIME))"
   ]
  },
  {
   "cell_type": "markdown",
   "metadata": {},
   "source": [
    "## 期物\n",
    "\n",
    "Future类似js中的Promise,它是一个占位符，其值会在将来被计算出来。它可以带一个回调函数在值倍计算出来之后执行.\n",
    "Task 对象是 Future 的子类，它将 coroutine 和 Future 联系在一起，将 coroutine 封装到一个 Future 对象。无论是task还是\n",
    "\n",
    "我们的事件循环实际上执行的是task,而我们看到coroutine可以直接被执行也是在`loop.run_until_complete()`中被先创建成了task.\n",
    "\n",
    "\n",
    "Future可以直接被创建,它可以被设置结果或者异常.也可以设置回调函数"
   ]
  },
  {
   "cell_type": "code",
   "execution_count": 8,
   "metadata": {
    "collapsed": false
   },
   "outputs": [
    {
     "name": "stdout",
     "output_type": "stream",
     "text": [
      "12\n"
     ]
    }
   ],
   "source": [
    "import asyncio\n",
    "def got_result(future):\n",
    "    print(future.result())\n",
    "    \n",
    "async def g1():\n",
    "    future = asyncio.Future()\n",
    "    future.add_done_callback(got_result)\n",
    "    future.set_result(12)\n",
    "\n",
    "async def g2():\n",
    "    async for v in g1(5):\n",
    "        yield v\n",
    "        \n",
    "\n",
    "        \n",
    "loop = asyncio.new_event_loop()\n",
    "asyncio.set_event_loop(loop)\n",
    "loop.run_until_complete(g1())"
   ]
  },
  {
   "cell_type": "markdown",
   "metadata": {},
   "source": [
    "`asyncio.ensure_future`和`loop.create_task`都可以用一个协程创建一个task."
   ]
  },
  {
   "cell_type": "code",
   "execution_count": 9,
   "metadata": {
    "collapsed": false
   },
   "outputs": [
    {
     "name": "stdout",
     "output_type": "stream",
     "text": [
      "<class '_asyncio.Task'>\n"
     ]
    }
   ],
   "source": [
    "task = asyncio.ensure_future(do_some_work(1))\n",
    "print(type(task))"
   ]
  },
  {
   "cell_type": "code",
   "execution_count": 10,
   "metadata": {
    "collapsed": false
   },
   "outputs": [
    {
     "name": "stdout",
     "output_type": "stream",
     "text": [
      "<class '_asyncio.Task'>\n"
     ]
    }
   ],
   "source": [
    "task = loop.create_task(do_some_work(1))\n",
    "print(type(task))"
   ]
  },
  {
   "cell_type": "markdown",
   "metadata": {},
   "source": [
    "### 绑定回调函数\n",
    "\n",
    "task允许绑定成功或者报错后的回调函数"
   ]
  },
  {
   "cell_type": "code",
   "execution_count": null,
   "metadata": {
    "collapsed": true
   },
   "outputs": [],
   "source": []
  }
 ],
 "metadata": {
  "anaconda-cloud": {},
  "kernelspec": {
   "display_name": "Python 3",
   "language": "python",
   "name": "python3"
  },
  "language_info": {
   "codemirror_mode": {
    "name": "ipython",
    "version": 3
   },
   "file_extension": ".py",
   "mimetype": "text/x-python",
   "name": "python",
   "nbconvert_exporter": "python",
   "pygments_lexer": "ipython3",
   "version": "3.6.0"
  }
 },
 "nbformat": 4,
 "nbformat_minor": 2
}
