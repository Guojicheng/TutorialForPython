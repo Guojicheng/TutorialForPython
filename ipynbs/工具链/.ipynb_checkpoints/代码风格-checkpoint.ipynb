{
 "cells": [
  {
   "cell_type": "markdown",
   "metadata": {},
   "source": [
    "# 代码风格规定\n",
    "\n",
    "python社区有一套成文的代码规范,就是有名的pep 8规范.而google也有一套成文的风格规范,他们都很不错,但更加推荐使用`pep8`标准,并且在一些细节上使用google的规范.当然了,python的代码风格并不是强制性的,只是使用这套规则会更加便于团队合作.是否使用还是看使用者个人\n",
    "\n",
    "## 代码编排\n",
    "\n",
    "1. 缩进。4个空格的缩进（编辑器都可以完成此功能），不使用Tap，更不能混合使用Tap和空格。\n",
    "2. 每行最大长度79，换行可以使用反斜杠，最好使用圆括号。换行点要在操作符的后边敲回车。\n",
    "3. 类和top-level函数定义之间空两行；类中的方法定义之间空一行；函数内逻辑无关段落之间空一行；其他地方尽量不要再空行。\n",
    "\n",
    "## 文档编排\n",
    "\n",
    "1. 模块内容的顺序：模块说明和docstring—import—globals&constants—其他定义。其中import部分，又按标准、三方和自己编写顺序依次排放，之间空一行。\n",
    "2. 不要在一句import中多个库，比如import os, sys不推荐。\n",
    "3. 如果采用from XX import XX引用库，可以省略‘module.’，都是可能出现命名冲突，这时就要采用import XX。\n",
    "\n",
    "## 空格的使用\n",
    "\n",
    "总体原则，避免不必要的空格。\n",
    "        \n",
    "        \n",
    "1. 各种右括号前不要加空格。\n",
    "2. 逗号、冒号、分号前不要加空格。\n",
    "3. 函数的左括号前不要加空格。如Func(1)。\n",
    "4. 序列的左括号前不要加空格。如list[2]。\n",
    "5. 操作符左右各加一个空格，不要为了对齐增加空格。\n",
    "6. 函数默认参数使用的赋值符左右省略空格。\n",
    "7. 不要将多句语句写在同一行，尽管使用‘；’允许。\n",
    "8. if/for/while语句中，即使执行语句只有一句，也必须另起一行。\n",
    "\n",
    "## 注释\n",
    "\n",
    "总体原则，错误的注释不如没有注释。所以当一段代码发生变化时，第一件事就是要修改注释！\n",
    "        \n",
    "注释必须使用英文，最好是完整的句子，首字母大写，句后要有结束符，结束符后跟两个空格，开始下一句。如果是短语，可以省略结束符。\n",
    "\n",
    "1. 块注释，在一段代码前增加的注释。在‘#’后加一空格。段落之间以只有‘#’的行间隔。比如：\n",
    "\n",
    "    ```python\n",
    "    # Description : Module config.\n",
    "    # \n",
    "    # Input : None\n",
    "    #\n",
    "    # Output : None\n",
    "\n",
    "    ```\n",
    "\n",
    "2. 行注释，在一句代码后加注释。比如：`x = x + 1\t\t\t# Increment x`\n",
    "    但是这种方式尽量少使用。\n",
    "\n",
    "3. 避免无谓的注释。\n",
    "\n",
    "## 文档描述\n",
    "\n",
    "1. 为所有的共有模块、函数、类、方法写docstrings；非共有的没有必要，但是可以写注释（在def的下一行）。\n",
    "2. 如果docstring要换行，参考如下例子,详见PEP 257\n",
    "\n",
    "    ```python\n",
    "    \"\"\"Return a foobang\n",
    "\n",
    "    Optional plotz says to frobnicate the bizbaz first.\n",
    "\n",
    "    \"\"\"\n",
    "```\n",
    "\n",
    "## Shebang\n",
    "\n",
    "大部分.py文件不必以`#!`作为文件的开始. 根据 PEP-394 , 程序的main文件应该以` #!/usr/bin/python2`或者 `#!/usr/bin/python3`开始.但其实更好的方式是使用`#! /usr/bin/env/python2`或者 `#!/usr/bin/env python3`\n",
    "\n",
    "在计算机科学中, Shebang (也称为Hashbang)是一个由井号和叹号构成的字符串行(#!), 其出现在文本文件的第一行的前两个字符. 在文件中存在Shebang的情况下, 类Unix操作系统的程序载入器会分析Shebang后的内容, 将这些内容作为解释器指令, 并调用该指令, 并将载有Shebang的文件路径作为该解释器的参数. 例如, 以指令`#!/bin/sh`开头的文件在执行时会实际调用`/bin/sh`程序.\n",
    "\n",
    "`#!`先用于帮助内核找到Python解释器, 但是在导入模块时, 将会被忽略. 因此只有被直接执行的文件中才有必要加入`#!`.\n",
    "\n",
    "## TODO注释\n",
    "\n",
    "为临时代码使用TODO注释, 它是一种短期解决方案. 不算完美, 但够好了.\n",
    "\n",
    "TODO注释应该在所有开头处包含`TODO`字符串, 紧跟着是用括号括起来的你的名字, email地址或其它标识符. 然后是一个可选的冒号. 接着必须有一行注释, 解释要做什么. 主要目的是为了有一个统一的TODO格式, 这样添加注释的人就可以搜索到(并可以按需提供更多细节). 写了TODO注释并不保证写的人会亲自解决问题. 当你写了一个`TODO`, 请注上你的名字.\n",
    "\n",
    "```python\n",
    "# TODO(kl@gmail.com): Use a \"*\" here for string repetition.\n",
    "# TODO(Zeke) Change this to use relations.\n",
    "```\n",
    "如果你的TODO是”将来做某事”的形式, 那么请确保你包含了一个指定的日期(“2009年11月解决”)或者一个特定的事件(“等到所有的客户都可以处理XML请求就移除这些代码”).\n",
    "\n",
    "\n",
    "## 命名规范\n",
    "        \n",
    "总体原则，新编代码必须按下面命名风格进行，现有库的编码尽量保持风格。\n",
    "\n",
    "1. 尽量单独使用小写字母`l`，大写字母`O`等容易混淆的字母。\n",
    "2. 模块命名尽量短小，使用全部小写的方式，可以使用下划线。\n",
    "3. 包命名尽量短小，使用全部小写的方式，不可以使用下划线。\n",
    "4. 类的命名使用CapWords的方式，模块内部使用的类采用`_CapWords`的方式。\n",
    "5. 异常命名使用CapWords+Error后缀的方式。\n",
    "6. 全局变量尽量只在模块内有效，类似C语言中的static。实现方法有两种，一是`__all__`机制;二是前缀一个下划线。\n",
    "7. 函数命名使用全部小写的方式，可以使用下划线。\n",
    "8. 常量命名使用全部大写的方式，可以使用下划线。\n",
    "9. 类的属性（方法和变量）命名使用全部小写的方式，可以使用下划线。\n",
    "10. 类的属性有3种作用域`public`、`non-public`和`subclass API`，可以理解成C++中的`public`、`private`、`protected`，`subclass API`属性前缀一条下划线,这样使用import * from时不会包含,`non-public`属性前缀两条下划线,这样不使用`__dir__`无法被查看到.\n",
    "11. 类的属性若与关键字名字冲突，后缀一下划线，尽量不要使用缩略等其他方式。\n",
    "12. 为避免与子类属性命名冲突，在类的一些属性前，前缀两条下划线。比如：类Foo中声明`__a`,访问时，只能通过`Foo._Foo__a`，避免歧义。如果子类也叫`Foo`，那就无能为力了。\n",
    "13. 类的方法第一个参数必须是`self`，而静态方法第一个参数必须是`cls`。\n",
    "\n",
    "## 编码建议\n",
    "\n",
    "1. 编码中考虑到其他python实现的效率等问题，比如运算符‘+’在CPython（Python）中效率很高，但是Jython中却非常低，所以应该采用.join()的方式。\n",
    "2. 尽可能使用`is`,`is not`取代`==`，比如`if x is not None` 要优于`if x`。\n",
    "3. 使用基于类的异常，每个模块或包都有自己的异常类，此异常类继承自Exception。\n",
    "4. 异常中不要使用裸露的except，except后跟具体的exceptions。\n",
    "5. 异常中try的代码尽可能少。比如：\n",
    "\n",
    "    ```python\n",
    "    try:\n",
    "        value = collection[key]\n",
    "    except KeyError:\n",
    "        return key_not_found(key)\n",
    "    else:\n",
    "        return handle_value(value)\n",
    "    ```\n",
    "    \n",
    "    要优于\n",
    "    ```python\n",
    "    try:\n",
    "        # Too broad!\n",
    "        return handle_value(collection[key])\n",
    "    except KeyError:\n",
    "        # Will also catch KeyError raised by handle_value()\n",
    "        return key_not_found(key)\n",
    "    ```\n",
    "       \n",
    "6. 使用startswith() and endswith()代替切片进行序列前缀或后缀的检查。比如：\n",
    "\n",
    "    ```python\n",
    "    if foo.startswith('bar'):\n",
    "    ```\n",
    "    优于\n",
    "    ```python\n",
    "    if foo[:3] == 'bar':\n",
    "    ```    \n",
    "    \n",
    "7. 使用isinstance()比较对象的类型。比如\n",
    "\n",
    "    ```python\n",
    "    if isinstance(obj, int):\n",
    "    ```\n",
    "    优于\n",
    "    ```python\n",
    "    if type(obj) is type(1):\n",
    "    ```\n",
    "\n",
    "8. 判断序列空或不空，有如下规则\n",
    "\n",
    "    ```python\n",
    "    if not seq:\n",
    "        pass\n",
    "    if seq:\n",
    "        pass\n",
    "    ```\n",
    "    优于\n",
    "    ```python\n",
    "    \n",
    "    if len(seq):\n",
    "        pass\n",
    "    if not len(seq):\n",
    "        pass\n",
    "    ```\n",
    "    \n",
    "9. 字符串不要以空格收尾。\n",
    "\n",
    "10. 二进制数据判断使用`if boolvalue`的方式。\n",
    "\n",
    "## 导入格式\n",
    "\n",
    "每个导入应该独占一行\n",
    "Yes: \n",
    "\n",
    "```python\n",
    "import os\n",
    "import sys\n",
    "```\n",
    "No:  \n",
    "```python\n",
    "import os, sys\n",
    "```\n",
    "\n",
    "导入总应该放在文件顶部, 位于模块注释和文档字符串之后, 模块全局变量和常量之前. 导入应该按照从最通用到最不通用的顺序分组:\n",
    "\n",
    "1. 标准库导入\n",
    "2. 第三方库导入\n",
    "3. 应用程序指定导入\n",
    "\n",
    "每种分组中, 应该根据每个模块的完整包路径按字典序排序, 忽略大小写.\n",
    "\n",
    "```python\n",
    "import foo\n",
    "from foo import bar\n",
    "from foo.bar import baz\n",
    "from foo.bar import Quux\n",
    "from Foob import ar\n",
    "```\n",
    "\n",
    "## Main\n",
    "\n",
    "即使是一个打算被用作脚本的文件, 也应该是可导入的. 并且简单的导入不应该导致这个脚本的主功能(main functionality)被执行, 这是一种副作用. 主功能应该放在一个`main()`函数中.\n",
    "在Python中, `pydoc`以及单元测试要求模块必须是可导入的. 你的代码应该在执行主程序前总是检查 if` __name__ == '__main__'` , 这样当模块被导入时主程序就不会被执行.\n",
    "```python\n",
    "def main():\n",
    "    pass\n",
    "\n",
    "if __name__ == '__main__':\n",
    "    main()\n",
    "```\n",
    "\n",
    "所有的顶级代码在模块导入时都会被执行. 要小心不要去调用函数, 创建对象, 或者执行那些不应该在使用pydoc时执行的操作.\n",
    "\n",
    "\n",
    "## docstrings注释风格\n",
    "\n",
    "python文件中每个对象(模块,函数,方法,类)的开头部分可以使用`\"\"\"`或者`'''`包裹起来作为注释,这种注释被称作`docstrings`.python解释器会将器存放在对应对象的`__doc__`属性上.\n",
    "\n",
    "docstrings注释是可以被`help()`内置函数读出打印,也可以被pydoc读出生成文档的注释,使用一对连续3个引号来构建.\n",
    "\n",
    "我们的docstrings注释要简洁明了,并且最好符合大多数人的阅读习惯,这样才便于维护,这边推荐谷歌风格的注释规范.\n",
    "\n",
    "\n",
    "\n",
    "### 模块\n",
    "\n",
    "每个文件应该包含一个许可样板. 根据项目[使用的许可](http://blog.hszofficial.site/blog/2016/06/11/%E5%85%B3%E4%BA%8E%E5%BC%80%E6%BA%90%E5%8D%8F%E8%AE%AE%E7%9A%84%E9%80%89%E6%8B%A9/), 选择合适的样板.\n",
    "\n",
    "### 函数\n",
    "\n",
    "一个函数必须要有文档字符串, 除非它满足以下条件:\n",
    "\n",
    "外部不可见\n",
    "非常短小\n",
    "简单明了\n",
    "文档字符串应该包含函数做什么, 以及输入和输出的详细描述. 通常, 不应该描述”怎么做”, 除非是一些复杂的算法. 文档字符串应该提供足够的信息, 当别人编写代码调用该函数时, 他不需要看一行代码, 只要看文档字符串就可以了. 对于复杂的代码, 在代码旁边加注释会比使用文档字符串更有意义.\n",
    "\n",
    "关于函数的几个方面应该在特定的小节中进行描述记录， 这几个方面如下文所述. 每节应该以一个标题行开始. 标题行以冒号结尾. 除标题行外, 节的其他内容应被缩进2个空格.\n",
    "\n",
    "\n",
    "+ Args:\n",
    "    列出每个参数的名字, 并在名字后使用一个冒号和一个空格, 分隔对该参数的描述.如果描述太长超过了单行80字符,使用2或者4个空格的悬挂缩进(与文件其他部分保持一致). 描述应该包括所需的类型和含义. 如果一个函数接受`*foo`(可变长度参数列表)或者`**bar` (任意关键字参数), 应该详细列出`*foo和**bar`.\n",
    "+ Returns: (或者 Yields: 用于生成器)\n",
    "    描述返回值的类型和语义. 如果函数返回None, 这一部分可以省略.\n",
    "+ Raises:\n",
    "    列出与接口有关的所有异常.\n",
    "    \n",
    "我们看一个例子:\n",
    "\n",
    "```python\n",
    "def flatten(items):\n",
    "    u\"\"\"压扁序列,将多层结构的序列压为一列.\n",
    "\n",
    "    \n",
    "    Parameters:\n",
    "        items (Iterable): - 复杂的多层序列\n",
    "    Returns:\n",
    "        Iterable: - 压扁后的单层序列\n",
    "    \"\"\"\n",
    "    for item in items:\n",
    "        is_iterable = isinstance(item, Iterable)\n",
    "        is_string_or_bytes = isinstance(item, (str, bytes, bytearray))\n",
    "        if is_iterable and not is_string_or_bytes:\n",
    "            for i in flatten(item):\n",
    "                yield i\n",
    "        else:\n",
    "            yield item\n",
    "\n",
    "```\n",
    "    \n",
    "### 类\n",
    "\n",
    "类应该在其定义下有一个用于描述该类的文档字符串. 如果你的类有公共属性(Attributes), 那么文档中应该有一个属性(Attributes)段. 并且应该遵守和函数参数相同的格式.\n",
    "\n",
    "+ Attributes:\n",
    "    成员属性\n",
    "    \n",
    "我们看一个例子:\n",
    "\n",
    "```python\n",
    "class SampleClass(object):\n",
    "    u\"\"\"一个简单的类例子\n",
    "\n",
    "    Attributes:\n",
    "        likes_spam: 布尔型参数\n",
    "        eggs: int型参数\n",
    "    \"\"\"\n",
    "\n",
    "    def __init__(self, likes_spam=False):\n",
    "        \"\"\"Inits SampleClass with blah.\"\"\"\n",
    "        self.likes_spam = likes_spam\n",
    "        self.eggs = 0\n",
    "\n",
    "    def public_method(self):\n",
    "        \"\"\"Performs operation blah.\"\"\"\n",
    "        \n",
    "```"
   ]
  },
  {
   "cell_type": "markdown",
   "metadata": {},
   "source": [
    "# 代码美化\n",
    "\n",
    "要完全符合规范是很作孽繁琐的一件事,我们同样可以使用工具简化这个工作,这就是[autopep8](https://github.com/hhatto/autopep8).\n",
    "\n",
    "安装:\n",
    "\n",
    "```shell\n",
    "pip install --upgrade autopep8\n",
    "```\n",
    "\n",
    "如果使用atom的话则可以安装[Atom Beautify](https://atom.io/packages/atom-beautify)插件,它的python代码美化也是基于autopep8的.\n"
   ]
  },
  {
   "cell_type": "markdown",
   "metadata": {},
   "source": [
    "# `*`类型注释和检验\n",
    "\n",
    "python3.5起就支持函数的类型注释(pep 484),它的结构如下:\n",
    "\n"
   ]
  },
  {
   "cell_type": "code",
   "execution_count": 1,
   "metadata": {
    "collapsed": true
   },
   "outputs": [],
   "source": [
    "def func(arg:int)->int:\n",
    "    pass"
   ]
  },
  {
   "cell_type": "markdown",
   "metadata": {},
   "source": [
    "类型注释只是注释,python解释器并不会处理它,要让它有类型检验的功能还要有其他工具配合.\n",
    "\n",
    "函数的参数类型保存在它的`__annotations__`属性上"
   ]
  },
  {
   "cell_type": "code",
   "execution_count": 2,
   "metadata": {
    "collapsed": false
   },
   "outputs": [
    {
     "data": {
      "text/plain": [
       "{'arg': int, 'return': int}"
      ]
     },
     "execution_count": 2,
     "metadata": {},
     "output_type": "execute_result"
    }
   ],
   "source": [
    "func.__annotations__"
   ]
  },
  {
   "cell_type": "markdown",
   "metadata": {},
   "source": [
    "## `*`自定义泛型注解\n",
    "\n",
    "\n",
    "类型注释可以直接使用系统自带的类和自己定义的类,但对于泛型注解就力不从心了,对于这种需求,python内置了typing模块来帮助泛型注释"
   ]
  },
  {
   "cell_type": "markdown",
   "metadata": {},
   "source": [
    "### 协程注释"
   ]
  },
  {
   "cell_type": "code",
   "execution_count": 3,
   "metadata": {
    "collapsed": true
   },
   "outputs": [],
   "source": [
    "async def spam(ignored: int) -> str:\n",
    "    return 'spam'\n",
    "\n",
    "async def foo() -> None:\n",
    "    bar = await spam(42)  # type: str"
   ]
  },
  {
   "cell_type": "markdown",
   "metadata": {},
   "source": [
    "### 类型别名"
   ]
  },
  {
   "cell_type": "code",
   "execution_count": 4,
   "metadata": {
    "collapsed": true
   },
   "outputs": [],
   "source": [
    "Url = str\n",
    "\n",
    "def retry(url: Url, retry_count: int) -> None:\n",
    "    pass"
   ]
  },
  {
   "cell_type": "markdown",
   "metadata": {},
   "source": [
    "### 可调用类型"
   ]
  },
  {
   "cell_type": "code",
   "execution_count": 5,
   "metadata": {
    "collapsed": true
   },
   "outputs": [],
   "source": [
    "from typing import Callable\n",
    "\n",
    "def feeder(get_next_item: Callable[[], str]) -> None:\n",
    "    pass\n",
    "\n",
    "def async_query(on_success: Callable[[int], None],\n",
    "                on_error: Callable[[int, Exception], None]) -> None:\n",
    "    pass"
   ]
  },
  {
   "cell_type": "markdown",
   "metadata": {},
   "source": [
    "### 生成器类型"
   ]
  },
  {
   "cell_type": "code",
   "execution_count": 6,
   "metadata": {
    "collapsed": false
   },
   "outputs": [],
   "source": [
    "from typing import Generator\n",
    "def echo_round() -> Generator[int, float, str]:\n",
    "    res = yield\n",
    "    while res:\n",
    "        res = yield round(res)\n",
    "    return 'OK'"
   ]
  },
  {
   "cell_type": "markdown",
   "metadata": {},
   "source": [
    "### 容器中的类型"
   ]
  },
  {
   "cell_type": "code",
   "execution_count": 7,
   "metadata": {
    "collapsed": false
   },
   "outputs": [],
   "source": [
    "from typing import Mapping, Set\n",
    "\n",
    "def notify_by_email(employees: Set[int], overrides: Mapping[str, str]) -> None:\n",
    "    pass"
   ]
  },
  {
   "cell_type": "markdown",
   "metadata": {},
   "source": [
    "### 泛型"
   ]
  },
  {
   "cell_type": "code",
   "execution_count": 8,
   "metadata": {
    "collapsed": true
   },
   "outputs": [],
   "source": [
    "from typing import Sequence, TypeVar\n",
    "\n",
    "T = TypeVar('T')      # Declare type variable\n",
    "\n",
    "def first(l: Sequence[T]) -> T:   # Generic function\n",
    "    return l[0]"
   ]
  },
  {
   "cell_type": "markdown",
   "metadata": {},
   "source": [
    "### 受限泛型"
   ]
  },
  {
   "cell_type": "code",
   "execution_count": 9,
   "metadata": {
    "collapsed": true
   },
   "outputs": [],
   "source": [
    "from typing import TypeVar\n",
    "\n",
    "AnyStr = TypeVar('AnyStr', str, bytes)#必须是str或者bytes\n",
    "\n",
    "def concat(x: AnyStr, y: AnyStr) -> AnyStr:\n",
    "    return x + y"
   ]
  },
  {
   "cell_type": "markdown",
   "metadata": {},
   "source": [
    "###  Union类型\n",
    "\n",
    "Union类型常用于可选类型,最常见的用法就是和`None`一起使用"
   ]
  },
  {
   "cell_type": "code",
   "execution_count": 10,
   "metadata": {
    "collapsed": true
   },
   "outputs": [],
   "source": [
    "from typing import Union"
   ]
  },
  {
   "cell_type": "code",
   "execution_count": 11,
   "metadata": {
    "collapsed": false
   },
   "outputs": [],
   "source": [
    "def handle_employees(e: Union[int, Sequence[int]]) -> None:\n",
    "    if isinstance(e, Employee):\n",
    "        e = [e]"
   ]
  },
  {
   "cell_type": "markdown",
   "metadata": {},
   "source": [
    "### 用户自定义泛型"
   ]
  },
  {
   "cell_type": "code",
   "execution_count": 12,
   "metadata": {
    "collapsed": false
   },
   "outputs": [],
   "source": [
    "from typing import TypeVar, Generic\n",
    "class Logger:\n",
    "    pass\n",
    "\n",
    "T = TypeVar('T')\n",
    "\n",
    "class LoggedVar(Generic[T]):\n",
    "    def __init__(self, value: T, name: str, logger: Logger) -> None:\n",
    "        self.name = name\n",
    "        self.logger = logger\n",
    "        self.value = value\n",
    "\n",
    "    def set(self, new: T) -> None:\n",
    "        self.log('Set ' + repr(self.value))\n",
    "        self.value = new\n",
    "\n",
    "    def get(self) -> T:\n",
    "        self.log('Get ' + repr(self.value))\n",
    "        return self.value\n",
    "\n",
    "    def log(self, message: str) -> None:\n",
    "        self.logger.info('{}: {}'.format(self.name,message))"
   ]
  },
  {
   "cell_type": "code",
   "execution_count": 13,
   "metadata": {
    "collapsed": true
   },
   "outputs": [],
   "source": [
    "from typing import Iterable\n",
    "\n",
    "def zero_all_vars(vars: Iterable[LoggedVar[int]]) -> None:\n",
    "    for var in vars:\n",
    "        var.set(0)"
   ]
  },
  {
   "cell_type": "markdown",
   "metadata": {},
   "source": [
    "老实说这么注释类型有点画蛇添足"
   ]
  },
  {
   "cell_type": "markdown",
   "metadata": {},
   "source": [
    "### any类型\n",
    "\n",
    "any类型和ts中一样,代表任意类型都可以"
   ]
  },
  {
   "cell_type": "markdown",
   "metadata": {},
   "source": [
    "### 方法重载"
   ]
  },
  {
   "cell_type": "code",
   "execution_count": 14,
   "metadata": {
    "collapsed": true
   },
   "outputs": [],
   "source": [
    "from typing import overload\n",
    "\n",
    "class bytes:\n",
    "    @overload\n",
    "    def __getitem__(self, i: int) -> int: ...\n",
    "    @overload\n",
    "    def __getitem__(self, s: slice) -> bytes: ..."
   ]
  },
  {
   "cell_type": "markdown",
   "metadata": {},
   "source": [
    "## `*`静态类型检验\n",
    "\n",
    "python解释器并不会做静态类型检验,我们可以利用[mypy](http://mypy-lang.org/)来实现"
   ]
  },
  {
   "cell_type": "code",
   "execution_count": 15,
   "metadata": {
    "collapsed": false
   },
   "outputs": [
    {
     "name": "stdout",
     "output_type": "stream",
     "text": [
      "Overwriting src/C2/mypytest.py\n"
     ]
    }
   ],
   "source": [
    "%%writefile src/C2/mypytest.py\n",
    "\n",
    "from typing import Callable\n",
    "\n",
    "def twice(i: int, next: Callable[[int], int]) -> int:\n",
    "    return next(next(i))\n",
    "\n",
    "def add(i: int) -> str:#写成返回str,这样就会报错!\n",
    "    return i + 1\n",
    "\n",
    "print(twice(3, add))   # 5"
   ]
  },
  {
   "cell_type": "code",
   "execution_count": 16,
   "metadata": {
    "collapsed": false
   },
   "outputs": [
    {
     "name": "stdout",
     "output_type": "stream",
     "text": [
      "src/C2/mypytest.py:8: error: Incompatible return value type (got \"int\", expected \"str\")\r\n",
      "src/C2/mypytest.py:10: error: Argument 2 to \"twice\" has incompatible type Callable[[int], str]; expected Callable[[int], int]\r\n"
     ]
    }
   ],
   "source": [
    "!mypy src/C2/mypytest.py"
   ]
  },
  {
   "cell_type": "markdown",
   "metadata": {},
   "source": [
    "## `*`变量注解(3.6)\n",
    "\n",
    "3.6版本起变量类型也可以注释了(pep 526),这看起来就像c语言一样,然而它依然还是注释"
   ]
  },
  {
   "cell_type": "code",
   "execution_count": 17,
   "metadata": {
    "collapsed": false
   },
   "outputs": [],
   "source": [
    "from typing import Optional,List\n",
    "foo: Optional[int]\n",
    "bar: List[str] = []"
   ]
  },
  {
   "cell_type": "code",
   "execution_count": 18,
   "metadata": {
    "collapsed": true
   },
   "outputs": [],
   "source": [
    "from typing import ClassVar\n",
    "\n",
    "class C:\n",
    "    x: int  # instance variable\n",
    "    y: ClassVar[int]  # class variable\n",
    "    z = None  # type: ClassVar[int]\n",
    "\n",
    "    def foo(self) -> None:\n",
    "        self.x = 0  # OK\n",
    "        self.y = 0  # Error: Cannot assign to class variable \"y\" via instance\n",
    "\n",
    "C.y = 0  # This is OK"
   ]
  },
  {
   "cell_type": "markdown",
   "metadata": {},
   "source": [
    "模块,类中的的变量注解同样保存在`__annotations__`中"
   ]
  },
  {
   "cell_type": "code",
   "execution_count": 19,
   "metadata": {
    "collapsed": false
   },
   "outputs": [
    {
     "data": {
      "text/plain": [
       "{'x': int, 'y': typing.ClassVar[int]}"
      ]
     },
     "execution_count": 19,
     "metadata": {},
     "output_type": "execute_result"
    }
   ],
   "source": [
    "C.__annotations__"
   ]
  },
  {
   "cell_type": "code",
   "execution_count": 20,
   "metadata": {
    "collapsed": true
   },
   "outputs": [],
   "source": [
    "c = C()"
   ]
  },
  {
   "cell_type": "code",
   "execution_count": 21,
   "metadata": {
    "collapsed": false
   },
   "outputs": [
    {
     "data": {
      "text/plain": [
       "{'x': int, 'y': typing.ClassVar[int]}"
      ]
     },
     "execution_count": 21,
     "metadata": {},
     "output_type": "execute_result"
    }
   ],
   "source": [
    "c.__annotations__"
   ]
  },
  {
   "cell_type": "code",
   "execution_count": 22,
   "metadata": {
    "collapsed": false
   },
   "outputs": [
    {
     "data": {
      "text/plain": [
       "{'bar': typing.List[str], 'foo': typing.Union[int, NoneType]}"
      ]
     },
     "execution_count": 22,
     "metadata": {},
     "output_type": "execute_result"
    }
   ],
   "source": [
    "__annotations__"
   ]
  },
  {
   "cell_type": "markdown",
   "metadata": {},
   "source": [
    "## *运行时类型检测\n",
    "\n",
    "标准库自带的typing只能用于静态检测,当我们需要运行时检测时可以借助[enforce](https://github.com/RussBaz/enforce)来实现.enforce使用装饰器语法,\n",
    "它提供了装饰器 `@runtime_validation` 用于运行时进行类型检测.同时提供了工具`is_type_of_type`来对类型和申明类型进行比较.\n",
    "\n",
    "\n",
    "需要注意的是`is_type_of_type`对通过cloudpickle的对象无效\n"
   ]
  },
  {
   "cell_type": "code",
   "execution_count": 1,
   "metadata": {
    "collapsed": true
   },
   "outputs": [],
   "source": [
    "import enforce\n",
    "\n",
    "@enforce.runtime_validation \n",
    "class A:\n",
    "    test:str\n",
    "    def __init__(self,text:str)->None:\n",
    "        self.text = text\n",
    "        \n",
    "@enforce.runtime_validation\n",
    "def foo(text: str) -> A:\n",
    "    return A(text)"
   ]
  },
  {
   "cell_type": "code",
   "execution_count": 2,
   "metadata": {
    "collapsed": true
   },
   "outputs": [],
   "source": [
    "a = foo(\"asd\")"
   ]
  },
  {
   "cell_type": "code",
   "execution_count": 3,
   "metadata": {
    "collapsed": false
   },
   "outputs": [
    {
     "ename": "RuntimeTypeError",
     "evalue": "\n  The following runtime type errors were encountered:\n       Argument 'text' was not of type <class 'str'>. Actual type was int.",
     "output_type": "error",
     "traceback": [
      "\u001b[0;31m---------------------------------------------------------------------------\u001b[0m",
      "\u001b[0;31mRuntimeTypeError\u001b[0m                          Traceback (most recent call last)",
      "\u001b[0;32m<ipython-input-3-60b66add0a80>\u001b[0m in \u001b[0;36m<module>\u001b[0;34m()\u001b[0m\n\u001b[0;32m----> 1\u001b[0;31m \u001b[0mb\u001b[0m \u001b[1;33m=\u001b[0m \u001b[0mfoo\u001b[0m\u001b[1;33m(\u001b[0m\u001b[1;36m123\u001b[0m\u001b[1;33m)\u001b[0m\u001b[1;33m\u001b[0m\u001b[0m\n\u001b[0m",
      "\u001b[0;32mC:\\Users\\87\\Anaconda3\\lib\\site-packages\\enforce\\decorators.py\u001b[0m in \u001b[0;36muniversal\u001b[0;34m(wrapped, instance, args, kwargs)\u001b[0m\n\u001b[1;32m    102\u001b[0m \u001b[1;33m\u001b[0m\u001b[0m\n\u001b[1;32m    103\u001b[0m             \u001b[1;31m# First, check argument types (every key not labelled 'return')\u001b[0m\u001b[1;33m\u001b[0m\u001b[1;33m\u001b[0m\u001b[0m\n\u001b[0;32m--> 104\u001b[0;31m             \u001b[0m_args\u001b[0m\u001b[1;33m,\u001b[0m \u001b[0m_kwargs\u001b[0m\u001b[1;33m,\u001b[0m \u001b[0m_\u001b[0m \u001b[1;33m=\u001b[0m \u001b[0menforcer\u001b[0m\u001b[1;33m.\u001b[0m\u001b[0mvalidate_inputs\u001b[0m\u001b[1;33m(\u001b[0m\u001b[0mparameters\u001b[0m\u001b[1;33m)\u001b[0m\u001b[1;33m\u001b[0m\u001b[0m\n\u001b[0m\u001b[1;32m    105\u001b[0m \u001b[1;33m\u001b[0m\u001b[0m\n\u001b[1;32m    106\u001b[0m             \u001b[1;32mif\u001b[0m \u001b[0minstance_method\u001b[0m\u001b[1;33m:\u001b[0m\u001b[1;33m\u001b[0m\u001b[0m\n",
      "\u001b[0;32mC:\\Users\\87\\Anaconda3\\lib\\site-packages\\enforce\\enforcers.py\u001b[0m in \u001b[0;36mvalidate_inputs\u001b[0;34m(self, input_data)\u001b[0m\n\u001b[1;32m     84\u001b[0m \u001b[1;33m\u001b[0m\u001b[0m\n\u001b[1;32m     85\u001b[0m         \u001b[0mexception_text\u001b[0m \u001b[1;33m=\u001b[0m \u001b[0mparse_errors\u001b[0m\u001b[1;33m(\u001b[0m\u001b[0mself\u001b[0m\u001b[1;33m.\u001b[0m\u001b[0mvalidator\u001b[0m\u001b[1;33m.\u001b[0m\u001b[0merrors\u001b[0m\u001b[1;33m,\u001b[0m \u001b[0mself\u001b[0m\u001b[1;33m.\u001b[0m\u001b[0mhints\u001b[0m\u001b[1;33m)\u001b[0m\u001b[1;33m\u001b[0m\u001b[0m\n\u001b[0;32m---> 86\u001b[0;31m         \u001b[1;32mraise\u001b[0m \u001b[0mRuntimeTypeError\u001b[0m\u001b[1;33m(\u001b[0m\u001b[0mexception_text\u001b[0m\u001b[1;33m)\u001b[0m\u001b[1;33m\u001b[0m\u001b[0m\n\u001b[0m\u001b[1;32m     87\u001b[0m \u001b[1;33m\u001b[0m\u001b[0m\n\u001b[1;32m     88\u001b[0m     \u001b[1;32mdef\u001b[0m \u001b[0mvalidate_outputs\u001b[0m\u001b[1;33m(\u001b[0m\u001b[0mself\u001b[0m\u001b[1;33m,\u001b[0m \u001b[0moutput_data\u001b[0m\u001b[1;33m:\u001b[0m \u001b[0mT\u001b[0m\u001b[1;33m)\u001b[0m \u001b[1;33m->\u001b[0m \u001b[0mT\u001b[0m\u001b[1;33m:\u001b[0m\u001b[1;33m\u001b[0m\u001b[0m\n",
      "\u001b[0;31mRuntimeTypeError\u001b[0m: \n  The following runtime type errors were encountered:\n       Argument 'text' was not of type <class 'str'>. Actual type was int."
     ]
    }
   ],
   "source": [
    "b = foo(123)"
   ]
  },
  {
   "cell_type": "markdown",
   "metadata": {},
   "source": [
    "## 文档生成\n",
    "\n",
    "无论代码写的如何,如果没有一个详细清晰的文档会让使用和维护变得非常困难,负责任的开发者应该尽量为自己的代码维护一份文档.python可以使用自带的文档生成器`pydoc`,它可以读取代码中的`docstring`,自动的生成文档.\n",
    "\n",
    "它的使用方式非常简单\n",
    "\n",
    "```shell\n",
    "!python -m pydoc <packagename>\n",
    "```\n",
    "\n",
    "+ -k 查找关键字\n",
    "+ -p 用localhost打开网页版,后面填端口号\n",
    "+ -g GUI版\n",
    "+ -w 生成html文件\n",
    "\n",
    "## `*`sphinx-autodoc\n",
    "\n",
    "pydoc虽然方便,但实话说样式比较老旧,而且可定制性不强,现在的python包一般都用sphinx做文档,sphinx其实也是利用autodoc,结合docstring和规范化的文档格式,可以实现非常美观的项目文档.具体可以看[我的这篇博文](http://blog.hszofficial.site/blog/2016/11/29/%E4%BD%BF%E7%94%A8sphinx%E7%BB%93%E5%90%88markdown%E5%86%99%E9%A1%B9%E7%9B%AE%E6%96%87%E6%A1%A3/)"
   ]
  }
 ],
 "metadata": {
  "anaconda-cloud": {},
  "kernelspec": {
   "display_name": "Python 3",
   "language": "python",
   "name": "python3"
  },
  "language_info": {
   "codemirror_mode": {
    "name": "ipython",
    "version": 3
   },
   "file_extension": ".py",
   "mimetype": "text/x-python",
   "name": "python",
   "nbconvert_exporter": "python",
   "pygments_lexer": "ipython3",
   "version": "3.6.0"
  }
 },
 "nbformat": 4,
 "nbformat_minor": 2
}
