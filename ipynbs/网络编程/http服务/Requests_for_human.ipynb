{
 "cells": [
  {
   "cell_type": "markdown",
   "metadata": {},
   "source": [
    "# 易用的http库(Requests)\n",
    "\n",
    "\n",
    "http协议,每次数据传送,一般都包含这样几个部分:\n",
    "\n",
    "+ 访问方法,包括,get,post等\n",
    "+ header,http头,包含一些设置和声明,比如内容形式`content-type`,cookie,等\n",
    "+ 内容部分,这部分可以没有,一般是二进制数据\n",
    "\n",
    "[Requests](http://www.python-requests.org/en/master/)正如它的简介所说\"HTTP for Humans\",是一个接口非常人性化的http工具.它可以方便的只用一条语句构建一个访问,并且可以方便的获取返回信息\n"
   ]
  },
  {
   "cell_type": "markdown",
   "metadata": {},
   "source": [
    "## 安装"
   ]
  },
  {
   "cell_type": "markdown",
   "metadata": {
    "collapsed": false
   },
   "source": [
    "pip install requests"
   ]
  },
  {
   "cell_type": "markdown",
   "metadata": {},
   "source": [
    "## 简单应用"
   ]
  },
  {
   "cell_type": "code",
   "execution_count": 1,
   "metadata": {
    "collapsed": true
   },
   "outputs": [],
   "source": [
    "import requests"
   ]
  },
  {
   "cell_type": "code",
   "execution_count": 8,
   "metadata": {
    "collapsed": true
   },
   "outputs": [],
   "source": [
    "r = requests.get('https://api.github.com/user', auth=('hsz1273327@gmail.com', pass))"
   ]
  },
  {
   "cell_type": "code",
   "execution_count": 9,
   "metadata": {
    "collapsed": false
   },
   "outputs": [
    {
     "data": {
      "text/plain": [
       "200"
      ]
     },
     "execution_count": 9,
     "metadata": {},
     "output_type": "execute_result"
    }
   ],
   "source": [
    "r.status_code"
   ]
  },
  {
   "cell_type": "code",
   "execution_count": 10,
   "metadata": {
    "collapsed": false
   },
   "outputs": [
    {
     "data": {
      "text/plain": [
       "'application/json; charset=utf-8'"
      ]
     },
     "execution_count": 10,
     "metadata": {},
     "output_type": "execute_result"
    }
   ],
   "source": [
    "r.headers['content-type']"
   ]
  },
  {
   "cell_type": "code",
   "execution_count": 11,
   "metadata": {
    "collapsed": false
   },
   "outputs": [
    {
     "data": {
      "text/plain": [
       "'utf-8'"
      ]
     },
     "execution_count": 11,
     "metadata": {},
     "output_type": "execute_result"
    }
   ],
   "source": [
    "r.encoding"
   ]
  },
  {
   "cell_type": "code",
   "execution_count": 12,
   "metadata": {
    "collapsed": false
   },
   "outputs": [
    {
     "data": {
      "text/plain": [
       "u'{\"login\":\"hsz1273327\",\"id\":7850148,\"avatar_url\":\"https://avatars.githubusercontent.com/u/7850148?v=3\",\"gravatar_id\":\"\",\"url\":\"https://api.github.com/users/hsz1273327\",\"html_url\":\"https://github.com/hsz1273327\",\"followers_url\":\"https://api.github.com/users/hsz1273327/followers\",\"following_url\":\"https://api.github.com/users/hsz1273327/following{/other_user}\",\"gists_url\":\"https://api.github.com/users/hsz1273327/gists{/gist_id}\",\"starred_url\":\"https://api.github.com/users/hsz1273327/starred{/owner}{/repo}\",\"subscriptions_url\":\"https://api.github.com/users/hsz1273327/subscriptions\",\"organizations_url\":\"https://api.github.com/users/hsz1273327/orgs\",\"repos_url\":\"https://api.github.com/users/hsz1273327/repos\",\"events_url\":\"https://api.github.com/users/hsz1273327/events{/privacy}\",\"received_events_url\":\"https://api.github.com/users/hsz1273327/received_events\",\"type\":\"User\",\"site_admin\":false,\"name\":\"HUANG SIZHE\",\"company\":null,\"blog\":null,\"location\":\"NANTONG,JIANGSU,CHINA \",\"email\":\"hsz1273327@gmail.com\",\"hireable\":true,\"bio\":null,\"public_repos\":37,\"public_gists\":0,\"followers\":2,\"following\":3,\"created_at\":\"2014-06-10T14:21:37Z\",\"updated_at\":\"2016-12-11T02:54:09Z\",\"private_gists\":0,\"total_private_repos\":0,\"owned_private_repos\":0,\"disk_usage\":136475,\"collaborators\":0,\"plan\":{\"name\":\"free\",\"space\":976562499,\"collaborators\":0,\"private_repos\":0}}'"
      ]
     },
     "execution_count": 12,
     "metadata": {},
     "output_type": "execute_result"
    }
   ],
   "source": [
    " r.text"
   ]
  },
  {
   "cell_type": "code",
   "execution_count": 13,
   "metadata": {
    "collapsed": false
   },
   "outputs": [
    {
     "data": {
      "text/plain": [
       "{u'avatar_url': u'https://avatars.githubusercontent.com/u/7850148?v=3',\n",
       " u'bio': None,\n",
       " u'blog': None,\n",
       " u'collaborators': 0,\n",
       " u'company': None,\n",
       " u'created_at': u'2014-06-10T14:21:37Z',\n",
       " u'disk_usage': 136475,\n",
       " u'email': u'hsz1273327@gmail.com',\n",
       " u'events_url': u'https://api.github.com/users/hsz1273327/events{/privacy}',\n",
       " u'followers': 2,\n",
       " u'followers_url': u'https://api.github.com/users/hsz1273327/followers',\n",
       " u'following': 3,\n",
       " u'following_url': u'https://api.github.com/users/hsz1273327/following{/other_user}',\n",
       " u'gists_url': u'https://api.github.com/users/hsz1273327/gists{/gist_id}',\n",
       " u'gravatar_id': u'',\n",
       " u'hireable': True,\n",
       " u'html_url': u'https://github.com/hsz1273327',\n",
       " u'id': 7850148,\n",
       " u'location': u'NANTONG,JIANGSU,CHINA ',\n",
       " u'login': u'hsz1273327',\n",
       " u'name': u'HUANG SIZHE',\n",
       " u'organizations_url': u'https://api.github.com/users/hsz1273327/orgs',\n",
       " u'owned_private_repos': 0,\n",
       " u'plan': {u'collaborators': 0,\n",
       "  u'name': u'free',\n",
       "  u'private_repos': 0,\n",
       "  u'space': 976562499},\n",
       " u'private_gists': 0,\n",
       " u'public_gists': 0,\n",
       " u'public_repos': 37,\n",
       " u'received_events_url': u'https://api.github.com/users/hsz1273327/received_events',\n",
       " u'repos_url': u'https://api.github.com/users/hsz1273327/repos',\n",
       " u'site_admin': False,\n",
       " u'starred_url': u'https://api.github.com/users/hsz1273327/starred{/owner}{/repo}',\n",
       " u'subscriptions_url': u'https://api.github.com/users/hsz1273327/subscriptions',\n",
       " u'total_private_repos': 0,\n",
       " u'type': u'User',\n",
       " u'updated_at': u'2016-12-11T02:54:09Z',\n",
       " u'url': u'https://api.github.com/users/hsz1273327'}"
      ]
     },
     "execution_count": 13,
     "metadata": {},
     "output_type": "execute_result"
    }
   ],
   "source": [
    "r.json()"
   ]
  },
  {
   "cell_type": "markdown",
   "metadata": {},
   "source": [
    "Requests 支持 HTTP 连接保持和连接池，支持使用 cookie 保持会话，支持文件上传，支持自动确定响应内容的编码，支持国际化的 URL 和 POST 数据自动编码。现代、国际化、人性化.他有全面的中文文档\n",
    "具体的可以看它的[官方文档](http://cn.python-requests.org/zh_CN/latest/user/quickstart.html),[认证相关](http://cn.python-requests.org/zh_CN/latest/user/authentication.html)和[高级用法](http://cn.python-requests.org/zh_CN/latest/user/advanced.html#advanced)"
   ]
  },
  {
   "cell_type": "markdown",
   "metadata": {},
   "source": [
    "## 结合gevent的异步requests\n",
    "\n",
    "[grequests](https://github.com/kennethreitz/grequests)利用gevent实现了异步的requests,他可以同时建立多个连接,可以方便的构建爬虫"
   ]
  },
  {
   "cell_type": "code",
   "execution_count": 6,
   "metadata": {
    "collapsed": false
   },
   "outputs": [],
   "source": [
    "import grequests\n",
    "\n",
    "urls = [\n",
    "    'http://www.baidu.com',\n",
    "    'https://www.zhihu.com/',\n",
    "    'http://www.bilibili.com',\n",
    "    'http://python-requests.org',\n",
    "    'http://kennethreitz.com'\n",
    "]\n"
   ]
  },
  {
   "cell_type": "code",
   "execution_count": 7,
   "metadata": {
    "collapsed": true
   },
   "outputs": [],
   "source": [
    "rs = (grequests.get(u) for u in urls)"
   ]
  },
  {
   "cell_type": "code",
   "execution_count": 8,
   "metadata": {
    "collapsed": false
   },
   "outputs": [
    {
     "data": {
      "text/plain": [
       "[<Response [200]>,\n",
       " <Response [500]>,\n",
       " <Response [200]>,\n",
       " <Response [200]>,\n",
       " <Response [200]>]"
      ]
     },
     "execution_count": 8,
     "metadata": {},
     "output_type": "execute_result"
    }
   ],
   "source": [
    "grequests.map(rs)"
   ]
  },
  {
   "cell_type": "markdown",
   "metadata": {},
   "source": [
    "也可以定义错误处理"
   ]
  },
  {
   "cell_type": "code",
   "execution_count": 9,
   "metadata": {
    "collapsed": false
   },
   "outputs": [
    {
     "name": "stdout",
     "output_type": "stream",
     "text": [
      "Request failed\n",
      "Request failed\n"
     ]
    },
    {
     "data": {
      "text/plain": [
       "[None,\n",
       " <Response [500]>,\n",
       " <Response [200]>,\n",
       " <Response [200]>,\n",
       " <Response [200]>,\n",
       " None]"
      ]
     },
     "execution_count": 9,
     "metadata": {},
     "output_type": "execute_result"
    }
   ],
   "source": [
    "def exception_handler(request, exception):\n",
    "    print \"Request failed\"\n",
    "urls = [\n",
    "    ('http://www.baidu.com',{\"timeout\":0.001}),\n",
    "    ('https://www.zhihu.com/',{}),\n",
    "    ('http://www.bilibili.com',{}),\n",
    "    ('http://python-requests.org',{}),\n",
    "    ('http://kennethreitz.com',{}),\n",
    "    ('http://httpbin.org/delay/1',{\"timeout\":0.001})\n",
    "]\n",
    "    \n",
    "    \n",
    "reqs = (grequests.get(u,**kargs) for u,kargs in urls)\n",
    "grequests.map(reqs, exception_handler=exception_handler)"
   ]
  }
 ],
 "metadata": {
  "anaconda-cloud": {},
  "kernelspec": {
   "display_name": "Python [default]",
   "language": "python",
   "name": "python2"
  },
  "language_info": {
   "codemirror_mode": {
    "name": "ipython",
    "version": 2
   },
   "file_extension": ".py",
   "mimetype": "text/x-python",
   "name": "python",
   "nbconvert_exporter": "python",
   "pygments_lexer": "ipython2",
   "version": "2.7.12"
  }
 },
 "nbformat": 4,
 "nbformat_minor": 0
}
