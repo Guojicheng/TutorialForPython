{
 "cells": [
  {
   "cell_type": "markdown",
   "metadata": {},
   "source": [
    "# 最快的消息队列zmq的python接口\n",
    "\n",
    "zmq是linux的准标准之一,号称最快的消息队列,pyzmq是它的python语言接口.\n",
    "\n",
    "消息队列是在消息的传输过程中保存消息的容器。而zmq看起来却和保存扯不上关系,首先他是去中心化的,没有一个中间人实现调度和信息保存.这点就和kafka,redis差别巨大,而更奇怪的是zmq表面上看就向一个套接字框架,整个代码写下来似乎只有消息传递,似乎就和什么set,save,这些关键字没啥关系.\n",
    "\n",
    "\n",
    "实际上zmq是典型的面\"向模式编程\".他将消息存储,多线程以及通讯都做好了封装,而只保留了对其调用的模式.其内在哲学是将所有使用场景抽象为几种模式的组合,通过实现这些模式来实现在这些场景下的应用.\n",
    "\n",
    "下面将介绍他的基本用法并根据使用场景给出例子"
   ]
  },
  {
   "cell_type": "code",
   "execution_count": 1,
   "metadata": {
    "collapsed": false
   },
   "outputs": [
    {
     "name": "stdout",
     "output_type": "stream",
     "text": [
      "16.0.2\n"
     ]
    }
   ],
   "source": [
    "import zmq\n",
    "print(zmq.pyzmq_version())"
   ]
  },
  {
   "cell_type": "markdown",
   "metadata": {},
   "source": [
    "## 上下文"
   ]
  },
  {
   "cell_type": "code",
   "execution_count": 2,
   "metadata": {
    "collapsed": true
   },
   "outputs": [],
   "source": [
    "import time\n",
    "context = zmq.Context()"
   ]
  },
  {
   "cell_type": "markdown",
   "metadata": {},
   "source": [
    "## 套接字\n",
    "\n",
    "套接字从上下文中创建\n",
    "\n",
    "zmq的套接字常见使用形式有:\n",
    "\n",
    "+ 1对1通信(单播通信)\n",
    "+ 多对一(多客户端单服务器)\n",
    "+ 单对多(组播)"
   ]
  },
  {
   "cell_type": "code",
   "execution_count": 3,
   "metadata": {
    "collapsed": true
   },
   "outputs": [],
   "source": [
    "socket = context.socket(zmq.REP)"
   ]
  },
  {
   "cell_type": "markdown",
   "metadata": {},
   "source": [
    "## 消息模式"
   ]
  },
  {
   "cell_type": "markdown",
   "metadata": {},
   "source": [
    "> 点对点通信:\n",
    "\n",
    "\n",
    "zmq支持点对点通信模式,它的特点是:\n",
    "\n",
    "+ 双向通信\n",
    "+ 套接字无状态\n",
    "+ 只能有一个被连接的端\n",
    "+ 服务器监听一个特定的端口,并且自由一个客户端连接它\n"
   ]
  },
  {
   "cell_type": "markdown",
   "metadata": {},
   "source": [
    "### 同步版"
   ]
  },
  {
   "cell_type": "markdown",
   "metadata": {},
   "source": [
    "服务器:"
   ]
  },
  {
   "cell_type": "code",
   "execution_count": 11,
   "metadata": {
    "collapsed": false,
    "scrolled": true
   },
   "outputs": [
    {
     "name": "stdout",
     "output_type": "stream",
     "text": [
      "Overwriting codes/C_zmq/pairServer.py\n"
     ]
    }
   ],
   "source": [
    "%%writefile codes/C_zmq/pairServer.py\n",
    "import zmq\n",
    "import random\n",
    "import sys\n",
    "import time\n",
    "\n",
    "port = \"5556\"\n",
    "context = zmq.Context()\n",
    "socket = context.socket(zmq.PAIR)\n",
    "addr = \"tcp://0.0.0.0:{port}\".format(port=port) \n",
    "socket.bind(addr)\n",
    "print(\"sever is running on {addr}\".format(addr=addr))\n",
    "while True:\n",
    "    socket.send(b\"Server message to client\")\n",
    "    msg = socket.recv()\n",
    "    print(msg)\n",
    "    time.sleep(1)"
   ]
  },
  {
   "cell_type": "markdown",
   "metadata": {},
   "source": [
    "客户端:"
   ]
  },
  {
   "cell_type": "code",
   "execution_count": 12,
   "metadata": {
    "collapsed": false
   },
   "outputs": [
    {
     "name": "stdout",
     "output_type": "stream",
     "text": [
      "Overwriting codes/C_zmq/pairClient.py\n"
     ]
    }
   ],
   "source": [
    "%%writefile codes/C_zmq/pairClient.py\n",
    "import zmq\n",
    "import random\n",
    "import sys\n",
    "import time\n",
    "\n",
    "port = \"5556\"\n",
    "context = zmq.Context()\n",
    "socket = context.socket(zmq.PAIR)\n",
    "socket.connect(\"tcp://localhost:%s\" % port)\n",
    "\n",
    "while True:\n",
    "    msg = socket.recv()\n",
    "    print(msg)\n",
    "    socket.send(b\"client message to server\")\n",
    "    socket.send(b\"client message to server\")\n",
    "    time.sleep(1)"
   ]
  },
  {
   "cell_type": "markdown",
   "metadata": {},
   "source": [
    "用法:\n",
    "\n",
    "    python pairServer.py\n",
    "    python pairClient.py"
   ]
  },
  {
   "cell_type": "markdown",
   "metadata": {},
   "source": [
    "### 异步版\n",
    "\n",
    "异步版本可以使用aiozmq来实现,虽然官方有asyncio支持,但必须使用zmq自己定义的loop,无法与多数用uvloop的框架集成."
   ]
  },
  {
   "cell_type": "markdown",
   "metadata": {},
   "source": [
    "服务器:"
   ]
  },
  {
   "cell_type": "code",
   "execution_count": 19,
   "metadata": {
    "collapsed": false
   },
   "outputs": [
    {
     "name": "stdout",
     "output_type": "stream",
     "text": [
      "Overwriting codes/aio_zmq/pairServer.py\n"
     ]
    }
   ],
   "source": [
    "%%writefile codes/aio_zmq/pairServer.py\n",
    "\n",
    "import asyncio\n",
    "import aiozmq\n",
    "import zmq\n",
    "\n",
    "port = \"5556\"\n",
    "addr = \"tcp://0.0.0.0:{port}\".format(port=port)\n",
    "async def main():\n",
    "    server = await aiozmq.create_zmq_stream(\n",
    "        zmq.PAIR,\n",
    "        bind=addr)\n",
    "    print(list(server.transport.bindings())[0])\n",
    "    while True:\n",
    "        server.write(\"Server message to client\".encode(\"utf-8\").split())\n",
    "        try:\n",
    "            data = await server.read()\n",
    "        except asyncio.CancelledError:\n",
    "            break\n",
    "        print(\"Async server read: {data}\".format(data=data))\n",
    "        asyncio.sleep(1)\n",
    "    server.close()\n",
    "\n",
    "if __name__==\"__main__\":\n",
    "    print(\"sever is running on {addr}\".format(addr=addr))\n",
    "    asyncio.get_event_loop().run_until_complete(main())\n"
   ]
  },
  {
   "cell_type": "markdown",
   "metadata": {},
   "source": [
    "客户端:"
   ]
  },
  {
   "cell_type": "code",
   "execution_count": 20,
   "metadata": {
    "collapsed": false
   },
   "outputs": [
    {
     "name": "stdout",
     "output_type": "stream",
     "text": [
      "Overwriting codes/aio_zmq/pairClient.py\n"
     ]
    }
   ],
   "source": [
    "%%writefile codes/aio_zmq/pairClient.py\n",
    "import asyncio\n",
    "import aiozmq\n",
    "import zmq\n",
    "import time\n",
    "port = \"5556\"\n",
    "addr = \"tcp://0.0.0.0:{port}\".format(port=port)\n",
    "#addr = \"tcp://0.0.0.0:*\"\n",
    "async def main():\n",
    "    client = await aiozmq.create_zmq_stream(zmq.PAIR)\n",
    "    \n",
    "    await client.transport.connect(addr)\n",
    "    #await asyncio.sleep(1)\n",
    "    msg = await  client.read()\n",
    "    print(\"Async client read: {msg}\".format(msg=msg))\n",
    "    server.write(\"client message to server\".encode(\"utf-8\").split())\n",
    "    server.write(\"client message to server\".encode(\"utf-8\").split())\n",
    "    asyncio.sleep(1)\n",
    "    client.close()\n",
    "\n",
    "if __name__==\"__main__\":\n",
    "    asyncio.get_event_loop().run_until_complete(main())"
   ]
  },
  {
   "cell_type": "markdown",
   "metadata": {},
   "source": [
    "> C/S模型(请求响应模型)\n",
    "\n",
    "![pair](imgs/C_zmq/c-s.png)\n",
    "\n",
    "最常见的消息模式就是客户端服务器模式了,zmq使用`zmq.REQ`作为请求端的标志,使用`zmq.REP`来作为接收端的标志"
   ]
  },
  {
   "cell_type": "markdown",
   "metadata": {},
   "source": [
    "服务器:"
   ]
  },
  {
   "cell_type": "code",
   "execution_count": 9,
   "metadata": {
    "collapsed": false
   },
   "outputs": [
    {
     "name": "stdout",
     "output_type": "stream",
     "text": [
      "Overwriting codes/C_zmq/reqrep_server.py\n"
     ]
    }
   ],
   "source": [
    "%%writefile codes/C_zmq/reqrep_server.py\n",
    "import zmq\n",
    "import time\n",
    "import sys\n",
    "\n",
    "port = \"5556\"\n",
    "if len(sys.argv) > 1:\n",
    "    port =  sys.argv[1]\n",
    "    int(port)\n",
    "    \n",
    "context = zmq.Context()\n",
    "socket = context.socket(zmq.REP)\n",
    "\n",
    "socket.bind(\"tcp://*:%s\" % port)\n",
    "\n",
    "while True:\n",
    "    #  Wait for next request from client\n",
    "    message = socket.recv()\n",
    "    print \"Received request: \", message\n",
    "    time.sleep (1)  \n",
    "    socket.send(\"World from %s\" % port)"
   ]
  },
  {
   "cell_type": "markdown",
   "metadata": {},
   "source": [
    "客户端:"
   ]
  },
  {
   "cell_type": "code",
   "execution_count": 10,
   "metadata": {
    "collapsed": false
   },
   "outputs": [
    {
     "name": "stdout",
     "output_type": "stream",
     "text": [
      "Writing codes/C_zmq/reqrep_client.py\n"
     ]
    }
   ],
   "source": [
    "%%writefile codes/C_zmq/reqrep_client.py\n",
    "\n",
    "import zmq\n",
    "import sys\n",
    "\n",
    "port = \"5556\"\n",
    "if len(sys.argv) > 1:\n",
    "    port =  sys.argv[1]\n",
    "    int(port)\n",
    "\n",
    "if len(sys.argv) > 2:\n",
    "    port1 =  sys.argv[2]\n",
    "    int(port1)\n",
    "    \n",
    "context = zmq.Context()\n",
    "print \"Connecting to server...\"\n",
    "socket = context.socket(zmq.REQ)\n",
    "socket.connect (\"tcp://localhost:%s\" % port)\n",
    "if len(sys.argv) > 2:\n",
    "    socket.connect (\"tcp://localhost:%s\" % port1)\n",
    "\n",
    "#  Do 10 requests, waiting each time for a response\n",
    "for request in range (1,10):\n",
    "    print \"Sending request \", request,\"...\"\n",
    "    socket.send (\"Hello\")\n",
    "    #  Get the reply.\n",
    "    message = socket.recv()\n",
    "    print \"Received reply \", request, \"[\", message, \"]\""
   ]
  },
  {
   "cell_type": "markdown",
   "metadata": {},
   "source": [
    "    python reqrep_server.py 5546\n",
    "    python reqrep_server.py 5556\n",
    "    python reqrep_client.py 5546 5556"
   ]
  },
  {
   "cell_type": "markdown",
   "metadata": {},
   "source": [
    "> 广播模型\n",
    "\n",
    "![pair](imgs/C_zmq/Pub-Sub.png)\n",
    "\n",
    "广播模式也是常见模式之一,消息推送就是最典型的应用下面的例子广播服务器将随机的将9999到100005之间的一个整数作为标题,1到215间的一个随机数-80作为消息数据,并将其用空格分隔作为广播内容\n",
    "\n",
    "而接受者接收广播内容,用\n",
    "    socket.setsockopt(zmq.SUBSCRIBE, topicfilter)\n",
    "   \n",
    "来过滤topic,最后接收5个这个topic的数据计算出均值"
   ]
  },
  {
   "cell_type": "markdown",
   "metadata": {},
   "source": [
    "广播服务器:"
   ]
  },
  {
   "cell_type": "code",
   "execution_count": 56,
   "metadata": {
    "collapsed": false
   },
   "outputs": [
    {
     "name": "stdout",
     "output_type": "stream",
     "text": [
      "Writing codes/C_zmq/pub_server.py\n"
     ]
    }
   ],
   "source": [
    "%%writefile codes/C_zmq/pub_server.py\n",
    "\n",
    "import zmq\n",
    "import random\n",
    "import sys\n",
    "import time\n",
    "\n",
    "port = \"5556\"\n",
    "if len(sys.argv) > 1:\n",
    "    port =  sys.argv[1]\n",
    "    int(port)\n",
    "\n",
    "context = zmq.Context()\n",
    "socket = context.socket(zmq.PUB)\n",
    "socket.bind(\"tcp://*:%s\" % port)\n",
    "\n",
    "while True:\n",
    "    topic = random.randrange(9999,10005)\n",
    "    messagedata = random.randrange(1,215) - 80\n",
    "    print \"%d %d\" % (topic, messagedata)\n",
    "    socket.send(\"%d %d\" % (topic, messagedata))\n",
    "    time.sleep(1)"
   ]
  },
  {
   "cell_type": "markdown",
   "metadata": {},
   "source": [
    "收听客户端:"
   ]
  },
  {
   "cell_type": "code",
   "execution_count": 58,
   "metadata": {
    "collapsed": false
   },
   "outputs": [
    {
     "name": "stdout",
     "output_type": "stream",
     "text": [
      "Writing codes/C_zmq/sub_client.py\n"
     ]
    }
   ],
   "source": [
    "%%writefile codes/C_zmq/sub_client.py\n",
    "import sys\n",
    "import zmq\n",
    "\n",
    "port = \"5556\"\n",
    "if len(sys.argv) > 1:\n",
    "    port =  sys.argv[1]\n",
    "    int(port)\n",
    "    \n",
    "if len(sys.argv) > 2:\n",
    "    port1 =  sys.argv[2]\n",
    "    int(port1)\n",
    "\n",
    "# Socket to talk to server\n",
    "context = zmq.Context()\n",
    "socket = context.socket(zmq.SUB)\n",
    "\n",
    "print \"Collecting updates from weather server...\"\n",
    "socket.connect (\"tcp://localhost:%s\" % port)\n",
    "\n",
    "if len(sys.argv) > 2:\n",
    "    socket.connect (\"tcp://localhost:%s\" % port1)\n",
    "    \n",
    "# Subscribe to zipcode, default is NYC, 10001\n",
    "topicfilter = \"10001\"\n",
    "socket.setsockopt(zmq.SUBSCRIBE, topicfilter)#设置可以被接收的\n",
    "\n",
    "# Process 5 updates\n",
    "total_value = 0\n",
    "for update_nbr in range (5):\n",
    "    string = socket.recv()\n",
    "    topic, messagedata = string.split()\n",
    "    total_value += int(messagedata)\n",
    "    print topic, messagedata\n",
    "\n",
    "print \"Average messagedata value for topic '%s' was %dF\" % (topicfilter, total_value / update_nbr)\n",
    "      "
   ]
  },
  {
   "cell_type": "markdown",
   "metadata": {},
   "source": [
    "    python pub_server.py 5556\n",
    "    python pub_server.py 5546\n",
    "    python sub_client.py 5556 5546"
   ]
  },
  {
   "cell_type": "markdown",
   "metadata": {},
   "source": [
    "> 生产者消费者模型\n",
    "\n",
    "![pair](imgs/C_zmq/p-c.png)\n",
    "\n",
    "生产者消费者模式也是很常见的模型,下面的例子是一个生产者消费者的例子\n",
    "\n",
    "生产者生产1到20000作为数据每次发送一个去消费者那边\n",
    "\n",
    "消费者跳出其中的偶数发送给最后的收集者\n",
    "\n",
    "收集者则计数各个消费者发送来了几次"
   ]
  },
  {
   "cell_type": "markdown",
   "metadata": {},
   "source": [
    "生产者:"
   ]
  },
  {
   "cell_type": "code",
   "execution_count": 59,
   "metadata": {
    "collapsed": false
   },
   "outputs": [
    {
     "name": "stdout",
     "output_type": "stream",
     "text": [
      "Writing codes/C_zmq/producer.py\n"
     ]
    }
   ],
   "source": [
    "%%writefile codes/C_zmq/producer.py\n",
    "\n",
    "import time\n",
    "import zmq\n",
    "\n",
    "def producer():\n",
    "    context = zmq.Context()\n",
    "    zmq_socket = context.socket(zmq.PUSH)\n",
    "    zmq_socket.bind(\"tcp://127.0.0.1:5557\")\n",
    "    # Start your result manager and workers before you start your producers\n",
    "    for num in xrange(20000):\n",
    "        work_message = { 'num' : num }\n",
    "        zmq_socket.send_json(work_message)\n",
    "\n",
    "producer()"
   ]
  },
  {
   "cell_type": "markdown",
   "metadata": {},
   "source": [
    "消费者:"
   ]
  },
  {
   "cell_type": "code",
   "execution_count": 60,
   "metadata": {
    "collapsed": false
   },
   "outputs": [
    {
     "name": "stdout",
     "output_type": "stream",
     "text": [
      "Writing codes/C_zmq/consumer.py\n"
     ]
    }
   ],
   "source": [
    "%%writefile codes/C_zmq/consumer.py\n",
    "import time\n",
    "import zmq\n",
    "import random\n",
    "\n",
    "def consumer():\n",
    "    consumer_id = random.randrange(1,10005)\n",
    "    print \"I am consumer #%s\" % (consumer_id)\n",
    "    context = zmq.Context()\n",
    "    # recieve work\n",
    "    consumer_receiver = context.socket(zmq.PULL)\n",
    "    consumer_receiver.connect(\"tcp://127.0.0.1:5557\")\n",
    "    # send work\n",
    "    consumer_sender = context.socket(zmq.PUSH)\n",
    "    consumer_sender.connect(\"tcp://127.0.0.1:5558\")\n",
    "    \n",
    "    while True:\n",
    "        work = consumer_receiver.recv_json()\n",
    "        data = work['num']\n",
    "        result = { 'consumer' : consumer_id, 'num' : data}\n",
    "        if data%2 == 0: \n",
    "            consumer_sender.send_json(result)\n",
    "\n",
    "consumer()"
   ]
  },
  {
   "cell_type": "markdown",
   "metadata": {},
   "source": [
    "收集者:"
   ]
  },
  {
   "cell_type": "code",
   "execution_count": 61,
   "metadata": {
    "collapsed": false
   },
   "outputs": [
    {
     "name": "stdout",
     "output_type": "stream",
     "text": [
      "Writing codes/C_zmq/resultcollector.py\n"
     ]
    }
   ],
   "source": [
    "%%writefile codes/C_zmq/resultcollector.py\n",
    "\n",
    "import time\n",
    "import zmq\n",
    "import pprint\n",
    "\n",
    "def result_collector():\n",
    "    context = zmq.Context()\n",
    "    results_receiver = context.socket(zmq.PULL)\n",
    "    results_receiver.bind(\"tcp://127.0.0.1:5558\")\n",
    "    collecter_data = {}\n",
    "    for x in xrange(1000):\n",
    "        result = results_receiver.recv_json()\n",
    "        if collecter_data.has_key(result['consumer']):\n",
    "            collecter_data[result['consumer']] = collecter_data[result['consumer']] + 1\n",
    "        else:\n",
    "            collecter_data[result['consumer']] = 1\n",
    "        if x == 999:\n",
    "            pprint.pprint(collecter_data)\n",
    "\n",
    "result_collector()"
   ]
  },
  {
   "cell_type": "markdown",
   "metadata": {},
   "source": [
    "    python resultcollector.py\n",
    "    python consumer.py\n",
    "    python consumer.py\n",
    "    python producer.py\n"
   ]
  },
  {
   "cell_type": "markdown",
   "metadata": {},
   "source": [
    "## 中间人装置\n",
    "\n",
    "在单对单模式中两端都是固定的,而实际使用中我们往往希望客户端与服务器都是可拆卸的,这种时候我们就需要ZMQ的装置了\n",
    "\n",
    "![pair](imgs/C_zmq/devices.png)\n",
    "\n",
    "zmq常用的装置有:\n",
    "\n",
    "+ Queue\n",
    "+ Forwarder\n",
    "+ Streamer"
   ]
  },
  {
   "cell_type": "markdown",
   "metadata": {},
   "source": [
    "> Queue\n",
    "\n",
    "zmq使用ZMQ.QUEUE指定使用QUEUE作为中间人装置,它适用于客户端服务器结构\n",
    "\n",
    "![pair](imgs/C_zmq/queue.png)"
   ]
  },
  {
   "cell_type": "markdown",
   "metadata": {},
   "source": [
    "中间人:"
   ]
  },
  {
   "cell_type": "code",
   "execution_count": 71,
   "metadata": {
    "collapsed": false
   },
   "outputs": [
    {
     "name": "stdout",
     "output_type": "stream",
     "text": [
      "Writing codes/C_zmq/queue_device.py\n"
     ]
    }
   ],
   "source": [
    "%%writefile codes/C_zmq/queue_device.py\n",
    "\n",
    "import zmq\n",
    "\n",
    "def main():\n",
    "\n",
    "    try:\n",
    "        context = zmq.Context(1)\n",
    "        # Socket facing clients\n",
    "        frontend = context.socket(zmq.XREP)\n",
    "        frontend.bind(\"tcp://*:5559\")\n",
    "        # Socket facing services\n",
    "        backend = context.socket(zmq.XREQ)\n",
    "        backend.bind(\"tcp://*:5560\")\n",
    "\n",
    "        zmq.device(zmq.QUEUE, frontend, backend)\n",
    "    except Exception, e:\n",
    "        print e\n",
    "        print \"bringing down zmq device\"\n",
    "    finally:\n",
    "        pass\n",
    "        frontend.close()\n",
    "        backend.close()\n",
    "        context.term()\n",
    "\n",
    "if __name__ == \"__main__\":\n",
    "    main()"
   ]
  },
  {
   "cell_type": "markdown",
   "metadata": {},
   "source": [
    "客户端:"
   ]
  },
  {
   "cell_type": "code",
   "execution_count": 72,
   "metadata": {
    "collapsed": false
   },
   "outputs": [
    {
     "name": "stdout",
     "output_type": "stream",
     "text": [
      "Writing codes/C_zmq/queue_client.py\n"
     ]
    }
   ],
   "source": [
    "%%writefile codes/C_zmq/queue_client.py\n",
    "import zmq\n",
    "import sys\n",
    "import random\n",
    "\n",
    "port = \"5559\"\n",
    "context = zmq.Context()\n",
    "print \"Connecting to server...\"\n",
    "socket = context.socket(zmq.REQ)\n",
    "socket.connect (\"tcp://localhost:%s\" % port)\n",
    "client_id = random.randrange(1,10005)\n",
    "#  Do 10 requests, waiting each time for a response\n",
    "for request in range (1,10):\n",
    "    print \"Sending request \", request,\"...\"    \n",
    "    socket.send (\"Hello from %s\" % client_id)\n",
    "    #  Get the reply.\n",
    "    message = socket.recv()\n",
    "    print \"Received reply \", request, \"[\", message, \"]\""
   ]
  },
  {
   "cell_type": "markdown",
   "metadata": {},
   "source": [
    "服务器:"
   ]
  },
  {
   "cell_type": "code",
   "execution_count": 73,
   "metadata": {
    "collapsed": false
   },
   "outputs": [
    {
     "name": "stdout",
     "output_type": "stream",
     "text": [
      "Writing codes/C_zmq/queue_server.py\n"
     ]
    }
   ],
   "source": [
    "%%writefile codes/C_zmq/queue_server.py\n",
    "import zmq\n",
    "import time\n",
    "import sys\n",
    "import random\n",
    "\n",
    "port = \"5560\"\n",
    "context = zmq.Context()\n",
    "socket = context.socket(zmq.REP)\n",
    "socket.connect(\"tcp://localhost:%s\" % port)\n",
    "server_id = random.randrange(1,10005)\n",
    "while True:\n",
    "    #  Wait for next request from client\n",
    "    message = socket.recv()\n",
    "    print \"Received request: \", message\n",
    "    time.sleep (1)  \n",
    "    socket.send(\"World from server %s\" % server_id)"
   ]
  },
  {
   "cell_type": "markdown",
   "metadata": {},
   "source": [
    "    python queue_device.py\n",
    "    python queue_server.py\n",
    "    python queue_server.py\n",
    "    python queue_client.py\n",
    "    python queue_client.py"
   ]
  },
  {
   "cell_type": "markdown",
   "metadata": {},
   "source": [
    "> Forwarder\n",
    "\n",
    "Forwarder是作为广播的中间人工具的\n",
    "\n",
    "![pair](imgs/C_zmq/forwarder.png)\n"
   ]
  },
  {
   "cell_type": "markdown",
   "metadata": {},
   "source": [
    "中间人"
   ]
  },
  {
   "cell_type": "code",
   "execution_count": 74,
   "metadata": {
    "collapsed": false
   },
   "outputs": [
    {
     "name": "stdout",
     "output_type": "stream",
     "text": [
      "Writing codes/C_zmq/forwarder_device.py\n"
     ]
    }
   ],
   "source": [
    "%%writefile codes/C_zmq/forwarder_device.py\n",
    "\n",
    "import zmq\n",
    "\n",
    "def main():\n",
    "\n",
    "    try:\n",
    "        context = zmq.Context(1)\n",
    "        # Socket facing clients\n",
    "        frontend = context.socket(zmq.SUB)\n",
    "        frontend.bind(\"tcp://*:5559\")\n",
    "        \n",
    "        frontend.setsockopt(zmq.SUBSCRIBE, \"\")\n",
    "        \n",
    "        # Socket facing services\n",
    "        backend = context.socket(zmq.PUB)\n",
    "        backend.bind(\"tcp://*:5560\")\n",
    "\n",
    "        zmq.device(zmq.FORWARDER, frontend, backend)\n",
    "    except Exception, e:\n",
    "        print e\n",
    "        print \"bringing down zmq device\"\n",
    "    finally:\n",
    "        pass\n",
    "        frontend.close()\n",
    "        backend.close()\n",
    "        context.term()\n",
    "\n",
    "if __name__ == \"__main__\":\n",
    "    main()"
   ]
  },
  {
   "cell_type": "markdown",
   "metadata": {},
   "source": [
    "广播服务器"
   ]
  },
  {
   "cell_type": "code",
   "execution_count": 75,
   "metadata": {
    "collapsed": false,
    "scrolled": true
   },
   "outputs": [
    {
     "name": "stdout",
     "output_type": "stream",
     "text": [
      "Writing codes/C_zmq/forwarder_server.py\n"
     ]
    }
   ],
   "source": [
    "%%writefile codes/C_zmq/forwarder_server.py\n",
    "\n",
    "import zmq\n",
    "import random\n",
    "import sys\n",
    "import time\n",
    "\n",
    "port = \"5559\"\n",
    "context = zmq.Context()\n",
    "socket = context.socket(zmq.PUB)\n",
    "socket.connect(\"tcp://localhost:%s\" % port)\n",
    "publisher_id = random.randrange(0,9999)\n",
    "while True:\n",
    "    topic = random.randrange(1,10)\n",
    "    messagedata = \"server#%s\" % publisher_id\n",
    "    print \"%s %s\" % (topic, messagedata)\n",
    "    socket.send(\"%d %s\" % (topic, messagedata))\n",
    "    time.sleep(1)"
   ]
  },
  {
   "cell_type": "markdown",
   "metadata": {},
   "source": [
    "收听客户端"
   ]
  },
  {
   "cell_type": "code",
   "execution_count": 76,
   "metadata": {
    "collapsed": false
   },
   "outputs": [
    {
     "name": "stdout",
     "output_type": "stream",
     "text": [
      "Writing codes/C_zmq/forwarder_subscriber.py\n"
     ]
    }
   ],
   "source": [
    "%%writefile codes/C_zmq/forwarder_subscriber.py\n",
    "\n",
    "import sys\n",
    "import zmq\n",
    "\n",
    "port = \"5560\"\n",
    "# Socket to talk to server\n",
    "context = zmq.Context()\n",
    "socket = context.socket(zmq.SUB)\n",
    "print \"Collecting updates from server...\"\n",
    "socket.connect (\"tcp://localhost:%s\" % port)\n",
    "topicfilter = \"9\"\n",
    "socket.setsockopt(zmq.SUBSCRIBE, topicfilter)\n",
    "for update_nbr in range(10):\n",
    "    string = socket.recv()\n",
    "    topic, messagedata = string.split()\n",
    "    print topic, messagedata\n"
   ]
  },
  {
   "cell_type": "markdown",
   "metadata": {},
   "source": [
    "    python forwarder_device.py\n",
    "    python forwarder_subscriber.py\n",
    "    python forwarder_server.py\n",
    "    python forwarder_server.py\n"
   ]
  },
  {
   "cell_type": "markdown",
   "metadata": {},
   "source": [
    "> Streamer\n",
    "\n",
    "Streamer是给生产者消费者模式用的中间人组件,通过它可以制作一个简单的分布式运算系统\n",
    "\n",
    "![pair](imgs/C_zmq/Streamer.png)"
   ]
  },
  {
   "cell_type": "markdown",
   "metadata": {},
   "source": [
    "中间人"
   ]
  },
  {
   "cell_type": "code",
   "execution_count": 77,
   "metadata": {
    "collapsed": false
   },
   "outputs": [
    {
     "name": "stdout",
     "output_type": "stream",
     "text": [
      "Writing codes/C_zmq/streamer_device.py\n"
     ]
    }
   ],
   "source": [
    "%%writefile codes/C_zmq/streamer_device.py\n",
    "\n",
    "import zmq\n",
    "\n",
    "def main():\n",
    "\n",
    "    try:\n",
    "        context = zmq.Context(1)\n",
    "        # Socket facing clients\n",
    "        frontend = context.socket(zmq.PULL)\n",
    "        frontend.bind(\"tcp://*:5559\")\n",
    "        \n",
    "        # Socket facing services\n",
    "        backend = context.socket(zmq.PUSH)\n",
    "        backend.bind(\"tcp://*:5560\")\n",
    "\n",
    "        zmq.device(zmq.STREAMER, frontend, backend)\n",
    "    except Exception, e:\n",
    "        print e\n",
    "        print \"bringing down zmq device\"\n",
    "    finally:\n",
    "        pass\n",
    "        frontend.close()\n",
    "        backend.close()\n",
    "        context.term()\n",
    "\n",
    "if __name__ == \"__main__\":\n",
    "    main()"
   ]
  },
  {
   "cell_type": "markdown",
   "metadata": {},
   "source": [
    "生产者"
   ]
  },
  {
   "cell_type": "code",
   "execution_count": 78,
   "metadata": {
    "collapsed": false
   },
   "outputs": [
    {
     "name": "stdout",
     "output_type": "stream",
     "text": [
      "Writing codes/C_zmq/task_feeder.py\n"
     ]
    }
   ],
   "source": [
    "%%writefile codes/C_zmq/task_feeder.py\n",
    "\n",
    "import time\n",
    "import zmq\n",
    "\n",
    "def producer():\n",
    "    context = zmq.Context()\n",
    "    zmq_socket = context.socket(zmq.PUSH)\n",
    "    zmq_socket.connect(\"tcp://127.0.0.1:5559\")\n",
    "    # Start your result manager and workers before you start your producers\n",
    "    for num in xrange(20000):\n",
    "        work_message = { 'num' : num }\n",
    "        zmq_socket.send_json(work_message)\n",
    "        time.sleep(1)\n"
   ]
  },
  {
   "cell_type": "code",
   "execution_count": 79,
   "metadata": {
    "collapsed": false
   },
   "outputs": [
    {
     "name": "stdout",
     "output_type": "stream",
     "text": [
      "Writing codes/C_zmq/task_worker.py\n"
     ]
    }
   ],
   "source": [
    "%%writefile codes/C_zmq/task_worker.py\n",
    "\n",
    "import sys\n",
    "import time\n",
    "import zmq\n",
    "import random\n",
    "\n",
    "def consumer():\n",
    "    consumer_id = random.randrange(1,10005)\n",
    "    print \"I am consumer #%s\" % (consumer_id)\n",
    "    context = zmq.Context()\n",
    "    # recieve work\n",
    "    consumer_receiver = context.socket(zmq.PULL)\n",
    "    consumer_receiver.connect(\"tcp://127.0.0.1:5560\")\n",
    "    while True:\n",
    "        work = consumer_receiver.recv_json()\n",
    "        data = work['num']\n",
    "        result = { 'consumer' : consumer_id, 'num' : data}\n",
    "        print result\n",
    "consumer()"
   ]
  },
  {
   "cell_type": "markdown",
   "metadata": {},
   "source": [
    "    python streamer_device.py\n",
    "    python task_feeder.py\n",
    "    python task_worker.py\n",
    "    python task_worker.py\n"
   ]
  },
  {
   "cell_type": "markdown",
   "metadata": {},
   "source": [
    "# 用法示例"
   ]
  },
  {
   "cell_type": "markdown",
   "metadata": {},
   "source": [
    "## 用子进程结合pyzmq\n",
    "\n",
    "我们可以通过子进程来实现客户端服务器放在一个文件中,这种方式在做一些桌面工具时非常有用,是拆分前后端的方法之一\n"
   ]
  },
  {
   "cell_type": "code",
   "execution_count": 80,
   "metadata": {
    "collapsed": false
   },
   "outputs": [
    {
     "name": "stdout",
     "output_type": "stream",
     "text": [
      "Writing codes/C_zmq/request_reply_processes.py\n"
     ]
    }
   ],
   "source": [
    "%%writefile codes/C_zmq/request_reply_processes.py\n",
    "\n",
    "import zmq\n",
    "import time\n",
    "import sys\n",
    "from  multiprocessing import Process\n",
    "\n",
    "def server(port=\"5556\"):\n",
    "    context = zmq.Context()\n",
    "    socket = context.socket(zmq.REP)\n",
    "    socket.bind(\"tcp://*:%s\" % port)\n",
    "    print \"Running server on port: \", port\n",
    "    # serves only 5 request and dies\n",
    "    for reqnum in range(5):\n",
    "        # Wait for next request from client\n",
    "        message = socket.recv()\n",
    "        print \"Received request #%s: %s\" % (reqnum, message)\n",
    "        socket.send(\"World from %s\" % port)\n",
    "         \n",
    "def client(ports=[\"5556\"]):\n",
    "\n",
    "    context = zmq.Context()\n",
    "    print \"Connecting to server with ports %s\" % ports\n",
    "    socket = context.socket(zmq.REQ)\n",
    "    for port in ports:\n",
    "        socket.connect (\"tcp://localhost:%s\" % port)\n",
    "    for request in range (20):\n",
    "        print \"Sending request \", request,\"...\"\n",
    "        socket.send (\"Hello\")\n",
    "        message = socket.recv()\n",
    "        print \"Received reply \", request, \"[\", message, \"]\"\n",
    "        time.sleep (1) \n",
    "\n",
    "\n",
    "if __name__ == \"__main__\":\n",
    "    # Now we can run a few servers \n",
    "    server_ports = range(5550,5558,2)\n",
    "    for server_port in server_ports:\n",
    "        Process(target=server, args=(server_port,)).start()\n",
    "        \n",
    "    # Now we can connect a client to all these servers\n",
    "    Process(target=client, args=(server_ports,)).start()"
   ]
  },
  {
   "cell_type": "markdown",
   "metadata": {},
   "source": [
    "## 轮训器\n",
    "\n",
    "下面的例子是一个轮训器的例子,使用的是广播模式结合生产消费模式,代码如下"
   ]
  },
  {
   "cell_type": "code",
   "execution_count": 82,
   "metadata": {
    "collapsed": false
   },
   "outputs": [
    {
     "name": "stdout",
     "output_type": "stream",
     "text": [
      "Overwriting codes/C_zmq/zmqpolling.py\n"
     ]
    }
   ],
   "source": [
    "%%writefile codes/C_zmq/zmqpolling.py\n",
    "\n",
    "import zmq\n",
    "import time\n",
    "import sys\n",
    "import random\n",
    "from  multiprocessing import Process\n",
    "\n",
    "def server_push(port=\"5556\"):\n",
    "    \"\"\"\n",
    "    生产者,负责生产消息,端口5556\n",
    "    \"\"\"\n",
    "    context = zmq.Context()\n",
    "    socket = context.socket(zmq.PUSH)\n",
    "    socket.bind(\"tcp://*:%s\" % port)\n",
    "    print \"Running server on port: \", port\n",
    "    # serves only 5 request and dies\n",
    "    for reqnum in range(10):\n",
    "        if reqnum < 6:\n",
    "            socket.send(\"Continue\")\n",
    "        else:\n",
    "            socket.send(\"Exit\")\n",
    "            break\n",
    "        time.sleep (1) \n",
    "        \n",
    "def server_pub(port=\"5558\"):\n",
    "    \"\"\"广播服务:一直发送8到10间的一个数作为topic,publisher_id作为消息,发送10次\n",
    "    端口5558\n",
    "    \"\"\"\n",
    "    context = zmq.Context()\n",
    "    socket = context.socket(zmq.PUB)\n",
    "    socket.bind(\"tcp://*:%s\" % port)\n",
    "    publisher_id = random.randrange(0,9999)\n",
    "    print \"Running server on port: \", port\n",
    "    # serves only 5 request and dies\n",
    "    for reqnum in range(10):\n",
    "        # Wait for next request from client\n",
    "        topic = random.randrange(8,10)\n",
    "        messagedata = \"server#%s\" % publisher_id\n",
    "        print \"%s %s\" % (topic, messagedata)\n",
    "        socket.send(\"%d %s\" % (topic, messagedata))\n",
    "        time.sleep(1)    \n",
    "         \n",
    "def client(port_push, port_sub):\n",
    "    \"\"\"客户端,轮询这两个服务器端口,不断打印广播的信息,如果消费者接受的message等于\"exit\"就不再轮询\n",
    "    \"\"\"\n",
    "    context = zmq.Context()\n",
    "    socket_pull = context.socket(zmq.PULL)\n",
    "    socket_pull.connect (\"tcp://localhost:%s\" % port_push)\n",
    "    print \"Connected to server with port %s\" % port_push\n",
    "    socket_sub = context.socket(zmq.SUB)\n",
    "    socket_sub.connect (\"tcp://localhost:%s\" % port_sub)\n",
    "    socket_sub.setsockopt(zmq.SUBSCRIBE, \"9\")\n",
    "    print \"Connected to publisher with port %s\" % port_sub\n",
    "    # Initialize poll set\n",
    "    poller = zmq.Poller()\n",
    "    poller.register(socket_pull, zmq.POLLIN)\n",
    "    poller.register(socket_sub, zmq.POLLIN)\n",
    "    \n",
    "    should_continue = True\n",
    "    while should_continue:\n",
    "        socks = dict(poller.poll())\n",
    "        if socket_pull in socks and socks[socket_pull] == zmq.POLLIN:\n",
    "            message = socket_pull.recv()\n",
    "            print \"Recieved control command: %s\" % message\n",
    "            if message == \"Exit\": \n",
    "                print \"Recieved exit command, client will stop recieving messages\"\n",
    "                should_continue = False\n",
    "\n",
    "        if socket_sub in socks and socks[socket_sub] == zmq.POLLIN:\n",
    "            string = socket_sub.recv()\n",
    "            topic, messagedata = string.split()\n",
    "            print \"Processing ... \", topic, messagedata\n",
    "     \n",
    "    \n",
    "if __name__ == \"__main__\":\n",
    "    # Now we can run a few servers \n",
    "    server_push_port = \"5556\"\n",
    "    server_pub_port = \"5558\"\n",
    "    Process(target=server_push, args=(server_push_port,)).start()\n",
    "    Process(target=server_pub, args=(server_pub_port,)).start()\n",
    "    Process(target=client, args=(server_push_port,server_pub_port,)).start()"
   ]
  },
  {
   "cell_type": "markdown",
   "metadata": {
    "collapsed": true
   },
   "source": [
    "## Streamer示例\n",
    "\n",
    "用streamer可以配合多进程实现server/worker的配合"
   ]
  },
  {
   "cell_type": "code",
   "execution_count": 1,
   "metadata": {
    "collapsed": false
   },
   "outputs": [
    {
     "name": "stdout",
     "output_type": "stream",
     "text": [
      "Writing codes/C_zmq/streamerdevice.py\n"
     ]
    }
   ],
   "source": [
    "%%writefile codes/C_zmq/streamerdevice.py\n",
    "\n",
    "import time\n",
    "import zmq\n",
    "from zmq.devices.basedevice import ProcessDevice\n",
    "from multiprocessing import Process\n",
    "\n",
    "frontend_port = 5559\n",
    "backend_port = 5560\n",
    "number_of_workers = 2\n",
    "\n",
    "streamerdevice  = ProcessDevice(zmq.STREAMER, zmq.PULL, zmq.PUSH)\n",
    "\n",
    "streamerdevice.bind_in(\"tcp://127.0.0.1:%d\" % frontend_port )\n",
    "streamerdevice.bind_out(\"tcp://127.0.0.1:%d\" % backend_port)\n",
    "streamerdevice.setsockopt_in(zmq.IDENTITY, 'PULL')\n",
    "streamerdevice.setsockopt_out(zmq.IDENTITY, 'PUSH')\n",
    "\n",
    "streamerdevice.start()\n",
    "\n",
    "def server():\n",
    "    context = zmq.Context()\n",
    "    socket = context.socket(zmq.PUSH)\n",
    "    socket.connect(\"tcp://127.0.0.1:%d\" % frontend_port)\n",
    "\n",
    "    for i in xrange(0,10):\n",
    "        socket.send('#%s' % i)\n",
    "def worker(work_num):\n",
    "    context = zmq.Context()\n",
    "    socket = context.socket(zmq.PULL)\n",
    "    socket.connect(\"tcp://127.0.0.1:%d\" % backend_port)\n",
    "    \n",
    "    while True:\n",
    "        message = socket.recv()\n",
    "        print \"Worker #%s got message! %s\" % (work_num, message)\n",
    "        time.sleep(1)\n",
    "\n",
    "for work_num in range(number_of_workers):\n",
    "    Process(target=worker, args=(work_num,)).start()\n",
    "time.sleep(1)\n",
    "\n",
    "server()"
   ]
  },
  {
   "cell_type": "markdown",
   "metadata": {},
   "source": [
    "## 队列\n",
    "\n",
    "使用队列与多进程"
   ]
  },
  {
   "cell_type": "code",
   "execution_count": 2,
   "metadata": {
    "collapsed": false
   },
   "outputs": [
    {
     "name": "stdout",
     "output_type": "stream",
     "text": [
      "Writing codes/C_zmq/queuedevice.py\n"
     ]
    }
   ],
   "source": [
    "%%writefile codes/C_zmq/queuedevice.py\n",
    "\n",
    "import time\n",
    "import zmq\n",
    "from zmq.devices.basedevice import ProcessDevice\n",
    "from multiprocessing import Process\n",
    "import random\n",
    "\n",
    "frontend_port = 5559\n",
    "backend_port = 5560\n",
    "number_of_workers = 2\n",
    "\n",
    "queuedevice = ProcessDevice(zmq.QUEUE, zmq.XREP, zmq.XREQ)\n",
    "queuedevice.bind_in(\"tcp://127.0.0.1:%d\" % frontend_port)\n",
    "queuedevice.bind_out(\"tcp://127.0.0.1:%d\" % backend_port)\n",
    "queuedevice.setsockopt_in(zmq.HWM, 1)\n",
    "queuedevice.setsockopt_out(zmq.HWM, 1)\n",
    "queuedevice.start()\n",
    "time.sleep (2)  \n",
    "\n",
    "def server(backend_port):\n",
    "    print \"Connecting a server to queue device\"\n",
    "    context = zmq.Context()\n",
    "    socket = context.socket(zmq.REP)\n",
    "    socket.connect(\"tcp://127.0.0.1:%s\" % backend_port)\n",
    "    server_id = random.randrange(1,10005)\n",
    "    while True:\n",
    "        message = socket.recv()\n",
    "        print \"Received request: \", message  \n",
    "        socket.send(\"Response from %s\" % server_id)\n",
    "        \n",
    "        \n",
    "def client(frontend_port, client_id):\n",
    "    print \"Connecting a worker #%s to queue device\" % client_id\n",
    "    context = zmq.Context()\n",
    "    socket = context.socket(zmq.REQ)\n",
    "    socket.connect(\"tcp://127.0.0.1:%s\" % frontend_port)\n",
    "    #  Do 10 requests, waiting each time for a response\n",
    "    for request in range (1,5):\n",
    "        print \"Sending request #%s\" % request\n",
    "        socket.send (\"Request fron client: %s\" % client_id)\n",
    "        #  Get the reply.\n",
    "        message = socket.recv()\n",
    "        print \"Received reply \", request, \"[\", message, \"]\"\n",
    "        \n",
    "        \n",
    "Process(target=server, args=(backend_port,)).start()  \n",
    "\n",
    "time.sleep(2)\n",
    "    \n",
    "for client_id in range(number_of_workers):\n",
    "    Process(target=client, args=(frontend_port, client_id,)).start()"
   ]
  },
  {
   "cell_type": "markdown",
   "metadata": {},
   "source": [
    "## 可监控的队列"
   ]
  },
  {
   "cell_type": "code",
   "execution_count": 3,
   "metadata": {
    "collapsed": false
   },
   "outputs": [
    {
     "name": "stdout",
     "output_type": "stream",
     "text": [
      "Writing codes/C_zmq/monitoredqueue.py\n"
     ]
    }
   ],
   "source": [
    "%%writefile codes/C_zmq/monitoredqueue.py\n",
    "\n",
    "import time\n",
    "import zmq\n",
    "from zmq.devices.basedevice import ProcessDevice\n",
    "from zmq.devices.monitoredqueuedevice import MonitoredQueue\n",
    "from zmq.utils.strtypes import asbytes\n",
    "from multiprocessing import Process\n",
    "import random\n",
    "\n",
    "frontend_port = 5559\n",
    "backend_port = 5560\n",
    "monitor_port = 5562\n",
    "number_of_workers = 2\n",
    "\n",
    "def monitordevice():\n",
    "    in_prefix=asbytes('in')\n",
    "    out_prefix=asbytes('out')\n",
    "    monitoringdevice = MonitoredQueue(zmq.XREP, zmq.XREQ, zmq.PUB, in_prefix, out_prefix)\n",
    "    \n",
    "    monitoringdevice.bind_in(\"tcp://127.0.0.1:%d\" % frontend_port)\n",
    "    monitoringdevice.bind_out(\"tcp://127.0.0.1:%d\" % backend_port)\n",
    "    monitoringdevice.bind_mon(\"tcp://127.0.0.1:%d\" % monitor_port)\n",
    "    \n",
    "    monitoringdevice.setsockopt_in(zmq.HWM, 1)\n",
    "    monitoringdevice.setsockopt_out(zmq.HWM, 1)\n",
    "    monitoringdevice.start()  \n",
    "    print \"Program: Monitoring device has started\"\n",
    "    \n",
    "def server(backend_port):\n",
    "    print \"Program: Server connecting to device\"\n",
    "    context = zmq.Context()\n",
    "    socket = context.socket(zmq.REP)\n",
    "    socket.connect(\"tcp://127.0.0.1:%s\" % backend_port)\n",
    "    server_id = random.randrange(1,10005)\n",
    "    while True:\n",
    "        message = socket.recv()\n",
    "        print \"Server: Received - %s\" % message  \n",
    "        socket.send(\"Response from server #%s\" % server_id)\n",
    "        \n",
    "def client(frontend_port, client_id):\n",
    "    print \"Program: Worker #%s connecting to device\" % client_id\n",
    "    context = zmq.Context()\n",
    "    socket = context.socket(zmq.REQ)\n",
    "    socket.connect(\"tcp://127.0.0.1:%s\" % frontend_port)\n",
    "    request_num = 1\n",
    "    socket.send (\"Request #%s from client#%s\" % (request_num, client_id))\n",
    "    #  Get the reply.\n",
    "    message = socket.recv_multipart()\n",
    "    print \"Client: Received - %s\" % message\n",
    "    \n",
    "def monitor():\n",
    "    print \"Starting monitoring process\"\n",
    "    context = zmq.Context()\n",
    "    socket = context.socket(zmq.SUB)\n",
    "    print \"Collecting updates from server...\"\n",
    "    socket.connect (\"tcp://127.0.0.1:%s\" % monitor_port)\n",
    "    socket.setsockopt(zmq.SUBSCRIBE, \"\")\n",
    "    while True:\n",
    "        string = socket.recv_multipart()\n",
    "        print \"Monitoring Client: %s\" % string\n",
    "        \n",
    "        \n",
    "monitoring_p = Process(target=monitordevice)\n",
    "monitoring_p.start()  \n",
    "server_p = Process(target=server, args=(backend_port,))\n",
    "server_p.start()  \n",
    "monitorclient_p = Process(target=monitor)\n",
    "monitorclient_p.start()  \n",
    "time.sleep(2)   \n",
    "\n",
    "for client_id in range(number_of_workers):\n",
    "    Process(target=client, args=(frontend_port, client_id,)).start()\n",
    "\n",
    "time.sleep(10)\n",
    "server_p.terminate()\n",
    "monitorclient_p.terminate()\n",
    "monitoring_p.terminate()\n"
   ]
  }
 ],
 "metadata": {
  "anaconda-cloud": {},
  "kernelspec": {
   "display_name": "Python 3",
   "language": "python",
   "name": "python3"
  },
  "language_info": {
   "codemirror_mode": {
    "name": "ipython",
    "version": 3
   },
   "file_extension": ".py",
   "mimetype": "text/x-python",
   "name": "python",
   "nbconvert_exporter": "python",
   "pygments_lexer": "ipython3",
   "version": "3.6.0"
  }
 },
 "nbformat": 4,
 "nbformat_minor": 0
}
