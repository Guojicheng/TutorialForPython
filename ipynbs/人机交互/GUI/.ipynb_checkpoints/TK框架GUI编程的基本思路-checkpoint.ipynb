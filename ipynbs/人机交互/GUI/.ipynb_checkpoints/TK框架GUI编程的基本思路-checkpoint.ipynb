{
 "cells": [
  {
   "cell_type": "markdown",
   "metadata": {
    "collapsed": true
   },
   "source": [
    "# TK框架GUI编程的基本思路\n",
    "\n",
    "\n",
    "首先我们来明确几个单词以明确Gui编程语境下的基本上下文环境.\n",
    "\n",
    "+ `窗口(window)`\n",
    "    \n",
    "    就是在屏幕上打开一个窗口,GUI的最上层单元,实际上GUI程序就是一个循环,平时一直空转等待`事件`,当发生事件后就由`回调函数`执行对应操作.\n",
    "    窗口打开程序执行,窗口关闭程序退出.\n",
    "\n",
    "+ `帧(Frame)`\n",
    "    \n",
    "    就是屏幕上的一块矩形区域,多是用来作为容器(container)来布局窗口\n",
    "\n",
    "+ `控件(widget)`\n",
    "\n",
    "    就是具体的可操作可交互块,比如按钮,文本框,包括窗口,帧等都是.\n",
    "    \n",
    "+ `事件(event)`\n",
    "\n",
    "    指的是一个用于改变控件/帧/窗口等对象状态的触发信号\n",
    "    \n",
    "+ `回调函数(callback)`\n",
    "\n",
    "    指的是在外部定义好的控件/帧/窗口等在接收到事件后处理事件的方法.\n",
    "    \n",
    "+ `网格(grid)`\n",
    "    \n",
    "    指的是堆放控件的一种常用方式,控件可摆放的位置按从上到下,从左到右的顺序获得一个二维的编号,组件按照编号放置在网格对应的位置上.\n",
    "    \n",
    "+ `像素(pixel)`\n",
    "    \n",
    "    显示设备上用于显示图像的最小单位,每个像素就是一个发光点,GUI的图形本质上就是这些点的组合."
   ]
  },
  {
   "cell_type": "markdown",
   "metadata": {},
   "source": [
    "## GUI编程的基本架构模式\n",
    "\n",
    "通常gui编程就是将模块的接口使用gui组合包装起来,在不同的情况下调用不同的接口从而达到方便用户使用的目的.因此GUI编程基本可以使用`mvc`结构进行分解,即:\n",
    "\n",
    "+ Model 模型,也就是业务模型,实际业务的内容\n",
    "+ View 视图,也就是GUI中的图形组合\n",
    "+ Controller 控制器,也就是连接视图与模型的组件,通常使用事件模型传递控制信息.\n",
    "\n",
    "这3层相互独立,通过接口进行交互,\n",
    "\n",
    "对MVC结构更多的理解可以看一些其他的书籍,推荐[阮一峰先生的这篇博客](http://www.ruanyifeng.com/blog/2007/11/mvc.html),讲的浅显易懂,每次看都可以有新的收获"
   ]
  },
  {
   "cell_type": "markdown",
   "metadata": {},
   "source": [
    "## Tk的基本布局思路\n"
   ]
  }
 ],
 "metadata": {
  "kernelspec": {
   "display_name": "Python 3",
   "language": "python",
   "name": "python3"
  },
  "language_info": {
   "codemirror_mode": {
    "name": "ipython",
    "version": 3
   },
   "file_extension": ".py",
   "mimetype": "text/x-python",
   "name": "python",
   "nbconvert_exporter": "python",
   "pygments_lexer": "ipython3",
   "version": "3.6.4"
  }
 },
 "nbformat": 4,
 "nbformat_minor": 2
}
