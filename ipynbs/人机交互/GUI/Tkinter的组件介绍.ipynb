{
 "cells": [
  {
   "cell_type": "markdown",
   "metadata": {
    "collapsed": true
   },
   "source": [
    "# Tkinter的组件介绍\n",
    "\n",
    "上文中我们已经罗列过tk支持的所有组件,本文将详细介绍这些组件和常用的组合方式.\n",
    "\n",
    "\n",
    "控件名类型|意义\n",
    "---|---\n",
    "Toplevel|顶层框架\n",
    "Frame|框架\n",
    "LabelFrame|标签框架\n",
    "Button|按钮\n",
    "Canvas|画板\n",
    "Checkbutton|复选框\n",
    "Entry|输入框\n",
    "Label|标签\n",
    "Listbox|列表框\n",
    "Menu|菜单栏\n",
    "Menubutton|菜单按钮\n",
    "Message|信息栏\n",
    "OptionMenu|选项菜单\n",
    "PanedWindow|中分栏窗口\n",
    "Radiobutton|单选框\n",
    "Scale|滑块\n",
    "Scrollbar|滚动条\n",
    "Spinbox|指定输入范围值的输入框\n",
    "Text|文本框\n",
    "Combobox|组合框,包含文本字段和一个包含可选值的下拉列表\n",
    "Notebook|标签页,形式参见chrome中的标签页\n",
    "Progressbar|进度条\n",
    "Separator|分离器,显示一个水平或垂直分隔条\n",
    "Sizegrip|控制TopLevel的窗口大小\n",
    "Treeview|TreeView控件显示一个项目的树状分层集合"
   ]
  },
  {
   "cell_type": "markdown",
   "metadata": {},
   "source": [
    "## 窗口的构建,Toplevel和常用操作\n",
    "\n",
    "\n",
    "使用`tkinter`中窗口是一个隐含的对象,最低一层实际上是帧.构建窗口就是实例化一个`Tk`对象,一个`Tk`对象,一个`Tk`对象会实例化一个`Toplevel`控件,也就是一个包含窗口的帧.\n",
    "\n",
    "`Tk`实例可以有如下常用的属性和方法\n",
    "\n",
    "+ title(str) 窗口的标题\n",
    "\n",
    "+ iconbitmap(path_str) 设置窗口的标题图标\n",
    "\n",
    "+ geometry 定义窗口的长宽和出现位置,单位是像素,使用形如`\"600x400+100+400\"`的字符串设定表示长x宽+左上角x像素位+左上角y像素位\n",
    "\n",
    "+ mainloop() 主循环,执行则相当于启动窗口\n",
    "    \n",
    "+ attributes()设置window,这个参数的调用方式略奇葩,使用的是形如`attributes('-alpha',0.5)`的键值对式的格式,可选的参数包括\n",
    "\n",
    "字段|平台|意义\n",
    "---|---|---\n",
    "`alpha`|win,mac|透明度,范围是0~1之间,0代表完全透明年\n",
    "`disabled`|win|如果设置,则禁用这个窗口\n",
    "`modified`|mac|标记窗口为已修改\n",
    "`titlepath`|mac|窗口代理图标的路径\n",
    "`toolwindow`|win|设置窗口样式为工具窗口\n",
    "`topmost`|win|设置窗口总是在其他窗口前\n",
    "\n",
    "+ configure() 设置`Toplevel`控件,可以设置的内容主要包括\n",
    "\n",
    "字段|意义\n",
    "---|---\n",
    "`bd/borderwidth`|边框宽,默认是`o`\n",
    "`menu`|设置菜单`Menu`对象\n",
    "`relief`|边框样式,可选的`FLAT,SUNKEN,RAISED,GROOVE,RIDGE`默认为`FLAT`\n",
    "`background/bg`|背景色,可以是[这里](http://www.tcl.tk/man/tcl8.5/TkCmd/colors.htm)定义的字符串,也可以是`#FFFFFF`这样的RGB\n",
    "`colormap`|设置需要是`Colormap`的实例,\n",
    "`container`|设置需要是`Container`的实例\n",
    "`cursor`|鼠标光标在其中的位置\n",
    "`height`|高度\n",
    "`width`|宽度\n",
    "`highlightbackground`|要高亮的背景色\n",
    "`highlightcolor`|要高亮的颜色\n",
    "`highlightthickness`|高亮的宽度\n",
    "`padx`|水平padding\n",
    "`pady`|垂直padding\n",
    "`takefocus`|指示用户可以使用tab键移动到这个部件"
   ]
  },
  {
   "cell_type": "code",
   "execution_count": 5,
   "metadata": {
    "collapsed": false
   },
   "outputs": [
    {
     "name": "stdout",
     "output_type": "stream",
     "text": [
      "Overwriting src/first_toplevel.py\n"
     ]
    }
   ],
   "source": [
    "%%writefile src/first_toplevel.py\n",
    "from tkinter import Tk\n",
    "\n",
    "win = Tk()\n",
    "win.title(\"first window\")\n",
    "win.iconbitmap(r\"C:\\Users\\87\\Documents\\GitHub\\my\\TutorialForPython\\ipynbs\\人机交互\\GUI\\src\\myredis.ico\")\n",
    "win.geometry(\"600x400+100+400\")\n",
    "win.configure(background=\"Blue\")\n",
    "win.attributes('-alpha',0.5)\n",
    "win.mainloop()"
   ]
  },
  {
   "cell_type": "code",
   "execution_count": 6,
   "metadata": {
    "collapsed": true
   },
   "outputs": [],
   "source": [
    "%exec_py src/first_toplevel.py"
   ]
  },
  {
   "cell_type": "markdown",
   "metadata": {},
   "source": [
    "通常我们并不会直接实例化`Tk()`来显示地创建窗口,而是通过继承的方式来构建应用."
   ]
  },
  {
   "cell_type": "markdown",
   "metadata": {},
   "source": [
    "### 多窗口\n",
    "\n",
    "像gimp这种工具,一起动就是几个窗口各司其职,这种就需要利用toplevel构造多窗口了.\n",
    "\n",
    "虽然是构造了多个窗口,但主循环还是只执行主窗口的.其他窗口则更多的是作为辅助."
   ]
  },
  {
   "cell_type": "code",
   "execution_count": 11,
   "metadata": {
    "collapsed": false
   },
   "outputs": [
    {
     "name": "stdout",
     "output_type": "stream",
     "text": [
      "Overwriting src/toplevel.py\n"
     ]
    }
   ],
   "source": [
    "%%writefile src/toplevel.py\n",
    "from tkinter import Frame,Label,Button,Toplevel\n",
    "\n",
    "    \n",
    "class Application(Frame):\n",
    "    def __init__(self, master=None):\n",
    "        Frame.__init__(self, master)\n",
    "        #窗口大小位置\n",
    "        self.pack()\n",
    "        self.createWidgets()\n",
    "\n",
    "    def createWidgets(self):\n",
    "        self.helloLabel = Label(self, text='Hello, world1!')\n",
    "\n",
    "        self.helloLabel.pack()\n",
    "class App2(Toplevel):\n",
    "    def __init__(self, master=None):\n",
    "        Toplevel.__init__(self, master)\n",
    "        self.createWidgets()\n",
    "\n",
    "    def createWidgets(self):\n",
    "        self.helloLabel = Label(self, text='Hello, world2!')\n",
    "        self.helloLabel.pack()\n",
    "\n",
    "if __name__ ==\"__main__\":\n",
    "    app1 = Application()\n",
    "    # 设置窗口标题:\n",
    "    app1.master.title('Hello World1')\n",
    "    app1.master.geometry(\"600x400+100+400\")#长x宽+x+y\n",
    "    # 主消息循环:\n",
    "    app2 = App2()\n",
    "    app2.title(\"helloword2\")\n",
    "    app2.geometry(\"200x200+0+0\")#长x宽+x+y\n",
    "    app1.mainloop()"
   ]
  },
  {
   "cell_type": "code",
   "execution_count": 12,
   "metadata": {
    "collapsed": true
   },
   "outputs": [],
   "source": [
    "%exec_py src/toplevel.py"
   ]
  },
  {
   "cell_type": "markdown",
   "metadata": {},
   "source": [
    "## 帧的构建和常用操作\n",
    "\n",
    "tk中的帧有两种:\n",
    "\n",
    "+ Frame\n",
    "\n",
    "    最基本的框架\n",
    "    \n",
    "+ LabelFrame\n",
    "\n",
    "    基本的帧的变体,它在它的子窗口周围绘制一个边框，并且它也可以显示标题\n",
    "    \n",
    "而ttk中也有`Frame`对象,Frame对象实例化需要传入一个`master`参数,这`master`可以是`None`或者一个它的父组件(通常是一个`Toplevel`对象).如果是空它则会自己实例化一个`Toplevel`作为其父组件.访问这个父组件可以使用`frame.master`.\n",
    "\n",
    "通常我们的app主体会继承一个`Frame`并以其为基本容器构建应用."
   ]
  },
  {
   "cell_type": "markdown",
   "metadata": {},
   "source": [
    "### 帧的例子\n",
    "\n",
    "我们来自己写个例子,体会下框架的用法."
   ]
  },
  {
   "cell_type": "code",
   "execution_count": 34,
   "metadata": {
    "collapsed": false
   },
   "outputs": [
    {
     "name": "stdout",
     "output_type": "stream",
     "text": [
      "Overwriting src/firstGUI.py\n"
     ]
    }
   ],
   "source": [
    "%%writefile src/firstGUI.py\n",
    "\n",
    "#coding:utf-8\n",
    "from tkinter import Frame,Label,Button\n",
    "\n",
    "\n",
    "class Application(Frame):\n",
    "    def __init__(self, master=None):\n",
    "        super().__init__(master)\n",
    "        #窗口大小位置\n",
    "        self.master.geometry(\"600x400+100+400\")#长x宽+x+y\n",
    "        self.pack()\n",
    "        self.createWidgets()\n",
    "\n",
    "    def createWidgets(self):\n",
    "        self.helloLabel = Label(self, text='Hello, world!')\n",
    "    \n",
    "        self.helloLabel.pack()\n",
    "        self.quitButton = Button(self, text='Quit',fg=\"red\", command=self.quit)\n",
    "        self.quitButton.pack()\n",
    "\n",
    "if __name__ ==\"__main__\":\n",
    "    app = Application()\n",
    "    # 设置窗口标题:\n",
    "    app.master.title('Hello World')\n",
    "\n",
    "    app.master.geometry(\"600x400+100+400\")#长x宽+x+y\n",
    "    # 主消息循环:\n",
    "    app.mainloop()"
   ]
  },
  {
   "cell_type": "code",
   "execution_count": 19,
   "metadata": {
    "collapsed": true
   },
   "outputs": [],
   "source": [
    "%exec_py src/firstGUI.py"
   ]
  },
  {
   "cell_type": "markdown",
   "metadata": {},
   "source": [
    "运行后出现如图小对话框\n",
    "\n",
    "![]()\n",
    "\n",
    "\n",
    "可以看出,应用类继承自Frame基类\n",
    "\n",
    "每个Button、Label、输入框等，都是一个Widget.Frame则是可以容纳其他Widget的Widget,所有的Widget组合起来就是一棵树.\n",
    "\n",
    "`pack()`方法把Widget加入到父容器中,并实现布局.`pack()`是最简单的布局,`grid()`可以实现更复杂的布局.\n",
    "\n",
    "在`createWidgets()`方法中，我们创建一个`Label`和一个`Button`,当`Button`被点击时，触发`self.quit()`使程序退出"
   ]
  },
  {
   "cell_type": "markdown",
   "metadata": {},
   "source": [
    "### ttk中的帧\n",
    "\n",
    "使用ttk中的帧和在tk中差别不大"
   ]
  },
  {
   "cell_type": "code",
   "execution_count": 17,
   "metadata": {
    "collapsed": false
   },
   "outputs": [
    {
     "name": "stdout",
     "output_type": "stream",
     "text": [
      "Overwriting src/ttk_frame.py\n"
     ]
    }
   ],
   "source": [
    "%%writefile src/ttk_frame.py\n",
    "\n",
    "#coding:utf-8\n",
    "from tkinter.ttk import Frame,Label,Button,Style\n",
    "\n",
    "style = Style()\n",
    "style.configure(\"RW.TLabel\", foreground=\"red\", background=\"white\")\n",
    "\n",
    "class Application(Frame):\n",
    "    def __init__(self, master=None):\n",
    "        super().__init__(master)\n",
    "        #窗口大小位置\n",
    "        self.master.geometry(\"600x400+100+400\")#长x宽+x+y\n",
    "        self.pack()\n",
    "        self.createWidgets()\n",
    "\n",
    "    def createWidgets(self):\n",
    "        self.helloLabel = Label(self, text='Hello, world!')\n",
    "    \n",
    "        self.helloLabel.pack()\n",
    "        self.quitButton = Button(self,text='Quit',style=\"RW.TLabel\",command=self.quit)\n",
    "        self.quitButton.pack()\n",
    "\n",
    "if __name__ ==\"__main__\":\n",
    "    app = Application()\n",
    "    # 设置窗口标题:\n",
    "    app.master.title('Hello World')\n",
    "\n",
    "    app.master.geometry(\"600x400+100+400\")#长x宽+x+y\n",
    "    # 主消息循环:\n",
    "    app.mainloop()"
   ]
  },
  {
   "cell_type": "code",
   "execution_count": 20,
   "metadata": {
    "collapsed": true
   },
   "outputs": [],
   "source": [
    "%exec_py src/ttk_frame.py"
   ]
  },
  {
   "cell_type": "markdown",
   "metadata": {},
   "source": [
    "### LabelFrame\n",
    "\n",
    "labelFrame是frame的子类,区别在于这个的意思似乎更加接近`框架`它提供的是一个有边界的框,并且这个框可以使用`text`设置付名,其他额外的设置还有:\n",
    "\n"
   ]
  },
  {
   "cell_type": "code",
   "execution_count": 21,
   "metadata": {
    "collapsed": false
   },
   "outputs": [
    {
     "name": "stdout",
     "output_type": "stream",
     "text": [
      "Writing src/tklf.py\n"
     ]
    }
   ],
   "source": [
    "%%writefile src/tklf.py\n",
    "\n",
    "#coding:utf-8\n",
    "from tkinter import LabelFrame,Label,Button\n",
    "\n",
    "\n",
    "class Application(LabelFrame):\n",
    "    def __init__(self, master=None):\n",
    "        super().__init__(master)\n",
    "        #窗口大小位置\n",
    "        self.master.geometry(\"600x400+100+400\")#长x宽+x+y\n",
    "        self.pack()\n",
    "        self.createWidgets()\n",
    "\n",
    "    def createWidgets(self):\n",
    "        self.helloLabel = Label(self, text='Hello, world!')\n",
    "    \n",
    "        self.helloLabel.pack()\n",
    "        self.quitButton = Button(self, text='Quit',fg=\"red\", command=self.quit)\n",
    "        self.quitButton.pack()\n",
    "\n",
    "if __name__ ==\"__main__\":\n",
    "    app = Application()\n",
    "    # 设置窗口标题:\n",
    "    app.master.title('Hello World')\n",
    "\n",
    "    app.master.geometry(\"600x400+100+400\")#长x宽+x+y\n",
    "    # 主消息循环:\n",
    "    app.mainloop()"
   ]
  },
  {
   "cell_type": "code",
   "execution_count": 22,
   "metadata": {
    "collapsed": true
   },
   "outputs": [],
   "source": [
    "%exec_py src/tklf.py"
   ]
  },
  {
   "cell_type": "markdown",
   "metadata": {},
   "source": [
    "## 菜单 Menu\n",
    "\n",
    "Menu 和其他的组件一样,第一个是 parent,这里通常可以为窗口。\n",
    "\n",
    "然后我们可以用 add_commmand 方法来为它添加菜单项, 如果该菜单是顶层菜单,则添加的菜单项依次向右添加。 如果该菜单时顶层菜单的一个菜单项,则它添加的是下拉菜单的菜单项。\n",
    "add_command 中的参数常用的有:\n",
    "\n",
    "+ label 属性,用来指定的是菜单项的名称\n",
    "+ command 属性用来指定被点击的时候调用的方法\n",
    "+ acceletor 属性指定的是快捷键 \n",
    "+ underline 属性 是是否拥有下划线。\n",
    "\n",
    "最后可以用窗口的 menu 属性指定我们使用哪一个作为它 的顶层菜单.\n",
    "\n",
    ">>子菜单\n",
    "\n",
    "如果有子菜单,我们需则需要使用 add_cascade\n",
    "\n",
    "cascade 可以理解为“级联”,即它 的作用只是为了引出后面的菜单。\n",
    "\n",
    "add_cascade属性:\n",
    "\n",
    "+ menu 属性,它指明了要把那个菜单级联到该菜单项上\n",
    "+ label 属性,用于指定该菜单项的名称。\n",
    "\n",
    "\n",
    ">>弹出菜单\n",
    "\n",
    "一般弹出菜单是右键点击后出现的菜单,tk中的弹出菜单比较原始的,具体思路是这样:\n",
    "\n",
    "+ 我们先新建一个菜单,\n",
    "+ 然后向菜单项中添加各种功能,\n",
    "+ 最后我们监听鼠标右键消息,如果是鼠标 右键被单击,\n",
    "+ 此时可以根据需要判断下鼠标位置来确定是哪个弹出菜单被弹出,\n",
    "+ 然后使用 Menu 类的 pop 方法来弹出 菜单。\n",
    "\n",
    "Menu 类里面有一个post方法,它接收两个参数,即 x 和 y 坐标,它会在相应的位置弹出菜单。\n",
    "\n",
    ">> 插入分割线\n",
    "\n",
    "    .add_separator()\n",
    "    \n",
    ">> 插入单选菜单和复选菜单\n",
    "\n",
    "单选菜单:\n",
    "\n",
    "    .add_radiobutton() \n",
    "    \n",
    "复选菜单:\n",
    "    \n",
    "    .add_checkbutton()\n",
    "\n",
    "例子: 一个菜单栏"
   ]
  },
  {
   "cell_type": "code",
   "execution_count": 18,
   "metadata": {
    "collapsed": false
   },
   "outputs": [
    {
     "name": "stdout",
     "output_type": "stream",
     "text": [
      "Overwriting src/menu.py\n"
     ]
    }
   ],
   "source": [
    "%%writefile src/menu.py\n",
    "\n",
    "from tkinter import Frame,Label,Button,Menu\n",
    "\n",
    "    \n",
    "class Application(Frame):\n",
    "    def __init__(self, master=None,):\n",
    "        Frame.__init__(self, master)\n",
    "        #窗口大小位置\n",
    "        self.pack()\n",
    "        self.createWidgets()\n",
    "        self.creatMenu()\n",
    "\n",
    "\n",
    "    def creatMenu(self):\n",
    "        #主菜单\n",
    "        menubar = Menu(self)\n",
    "        #子菜单\n",
    "        menufile = Menu(menubar)\n",
    "        for item in [\"新建\",\"打开\",\"保存\",\"另存为\"]:\n",
    "            menufile.add_radiobutton(label = item)\n",
    "        menuedit = Menu(menubar)\n",
    "        for item in [\"复制\",\"黏贴\",\"剪切\"]:\n",
    "            menuedit.add_checkbutton(label = item)\n",
    "        #子菜单与主菜单关联\n",
    "        for name,submenu in zip([\"文件\",\"编辑\"],[menufile,menuedit]):\n",
    "            menubar.add_cascade(label=name,menu=submenu)\n",
    "        #最关键的一步,主菜单与app关联\n",
    "        self.master.config(menu=menubar)\n",
    "        #右键菜单\n",
    "        menu = Menu(self.master)\n",
    "        for i in ('One', 'Two', 'Three'):\n",
    "            menu.add_command(label=i)\n",
    "        #插入分割线\n",
    "        menu.add_separator()\n",
    "\n",
    "        for i in ('1', '2', '3'):\n",
    "            menu.add_command(label=i)\n",
    "        #绑定鼠标右键呼出\n",
    "        if (self.master.tk.call('tk', 'windowingsystem')=='aqua'):\n",
    "            self.master.bind('<2>', lambda e: menu.post(e.x_root, e.y_root))\n",
    "            self.master.bind('<Control-1>', lambda e: menu.post(e.x_root, e.y_root))\n",
    "        else:\n",
    "            self.master.bind('<3>', lambda e: menu.post(e.x_root, e.y_root))\n",
    "\n",
    "\n",
    "\n",
    "    def createWidgets(self):\n",
    "        self.helloLabel = Label(self, text='Hello, world!')\n",
    "        self.helloLabel[\"background\"] =\"green\"\n",
    "        self.helloLabel.pack()\n",
    "        self.quitButton = Button(self, text='Quit',fg=\"red\", command=self.quit)\n",
    "        self.quitButton.pack()\n",
    "\n",
    "\n",
    "\n",
    "\n",
    "if __name__ ==\"__main__\":\n",
    "    app = Application()\n",
    "    # 设置窗口标题:\n",
    "    app.master.title('Hello World')\n",
    "    #app.master.geometry(\"600x400+100+400\")#长x宽+x+y\n",
    "    # 主消息循环:\n",
    "    app.mainloop()"
   ]
  },
  {
   "cell_type": "code",
   "execution_count": 19,
   "metadata": {
    "collapsed": true,
    "scrolled": false
   },
   "outputs": [],
   "source": [
    "%exec_py3 src/menu.py"
   ]
  },
  {
   "cell_type": "markdown",
   "metadata": {},
   "source": [
    "## 其他组件用法\n",
    "\n",
    "tkinter的控件上文中已有介绍,下面详细介绍各个组件的功能和设置方式."
   ]
  },
  {
   "cell_type": "markdown",
   "metadata": {},
   "source": [
    "### 标签 Label\n",
    "\n",
    "标签可以定义的属性主要有:\n",
    "\n",
    "+ text 标签的内容,文本信息\n",
    "+ font 字体\n",
    "+ background 背景色\n"
   ]
  },
  {
   "cell_type": "markdown",
   "metadata": {},
   "source": [
    "### 按钮 Button\n",
    "\n",
    "按钮算是最常用的控件之一了,它的属性主要有:\n",
    "\n",
    "+ 宽度 width\n",
    "+ 高度 height\n",
    "+ 背景色 background\n",
    "+ 显示文字 text \n",
    "\n",
    "但是说到按钮当然最重要的是触发事件了\n",
    "\n",
    "+ 命令 command 接受一个函数名,注意是函数名,没有括弧"
   ]
  },
  {
   "cell_type": "markdown",
   "metadata": {},
   "source": [
    "### 输入框 Entry\n",
    "\n",
    "属性:\n",
    "\n",
    "+ get() 获取输入(返回一个str)\n",
    "\n",
    "例:一个用户登录界面"
   ]
  },
  {
   "cell_type": "code",
   "execution_count": 5,
   "metadata": {
    "collapsed": false
   },
   "outputs": [
    {
     "name": "stdout",
     "output_type": "stream",
     "text": [
      "Overwriting src/entry.py\n"
     ]
    }
   ],
   "source": [
    "%%writefile src/entry.py\n",
    "\n",
    "from tkinter import Frame,Label,Button,Entry\n",
    "\n",
    "\n",
    "class Application(Frame):\n",
    "    def __init__(self, master=None):\n",
    "        Frame.__init__(self, master)\n",
    "        self.pack()\n",
    "        self.createWidgets()\n",
    "\n",
    "    def createWidgets(self):\n",
    "        self.userLabel = Label(self, text='用户名:')\n",
    "        self.userLabel.grid(row = 0,column = 0,sticky=\"w\")\n",
    "        self.userEntry = Entry(self)\n",
    "        self.userEntry.grid(row = 0,column = 1,sticky=\"e\")\n",
    "        self.pwLabel = Label(self, text='密码:')\n",
    "        self.pwLabel.grid(row = 1,column = 0,sticky=\"w\")\n",
    "        self.pwEntry = Entry(self)\n",
    "        self.pwEntry.grid(row = 1,column = 1,sticky=\"e\")\n",
    "\n",
    "        self.enterButton = Button(self,text = \"登录\",command = self.reg)\n",
    "        self.enterButton.grid(row = 2,column = 1,sticky = \"e\")\n",
    "\n",
    "        self.logLabel = Label(self, text='')\n",
    "        self.logLabel.grid(row = 3)\n",
    "\n",
    "    def reg(self):\n",
    "        s1 = self.userEntry.get()\n",
    "        s2 = self.pwEntry.get()\n",
    "        if s1 == \"www.google.com\" and s2 == \"www.bing.com\":\n",
    "            self.logLabel[\"text\"]=\"登录成功\"\n",
    "        else:\n",
    "            self.logLabel[\"text\"]=\"用户名或密码错误\"\n",
    "            self.userEntry.delete(0,len(s1))\n",
    "            self.pwEntry.delete(0,len(s1))\n",
    "\n",
    "if __name__ ==\"__main__\":\n",
    "    app = Application()\n",
    "    # 设置窗口标题:\n",
    "    app.master.title('登录界面')\n",
    "    #窗口大小位置\n",
    "    #app.master.geometry(\"600x400+100+400\")#长x宽+x+y\n",
    "    # 主消息循环:\n",
    "    app.mainloop()"
   ]
  },
  {
   "cell_type": "code",
   "execution_count": 6,
   "metadata": {
    "collapsed": true
   },
   "outputs": [],
   "source": [
    "%exec_py src/entry.py"
   ]
  },
  {
   "cell_type": "markdown",
   "metadata": {},
   "source": [
    "### 单选按钮 Radiobutton\n",
    "\n",
    "一般是几个里面选一个用\n",
    "\n",
    "直接看代码:\n",
    "\n"
   ]
  },
  {
   "cell_type": "code",
   "execution_count": 7,
   "metadata": {
    "collapsed": false
   },
   "outputs": [
    {
     "name": "stdout",
     "output_type": "stream",
     "text": [
      "Overwriting src/radiobutton.py\n"
     ]
    }
   ],
   "source": [
    "%%writefile src/radiobutton.py\n",
    "\n",
    "from tkinter import Frame,Label,Button,Radiobutton\n",
    "\n",
    "    \n",
    "class Application(Frame):\n",
    "    def __init__(self, master=None):\n",
    "        Frame.__init__(self, master)\n",
    "        #窗口大小位置\n",
    "        self.master.geometry(\"600x400+100+400\")#长x宽+x+y\n",
    "        self.pack()\n",
    "        self.createWidgets()\n",
    "    def createWidgets(self):\n",
    "        self.helloLabel = Label(self, text='Hello, world!\\n')\n",
    "        self.helloLabel.pack()\n",
    "\n",
    "        self.c1 = Radiobutton(self,text = \"1\",command = lambda : self.helloLabel.config(\n",
    "                                                                text = \"1被选中了奇数次\\n\") )\n",
    "        self.c1.pack()\n",
    "        self.c2 = Radiobutton(self,text = \"2\",command = lambda : self.helloLabel.config(\n",
    "                                                                text = \"2被选中了奇数次\\n\") )\n",
    "        self.c2.pack()\n",
    "        self.quitButton = Button(self, text='Quit',fg=\"red\", command=self.quit)\n",
    "        self.quitButton.pack()\n",
    "\n",
    "if __name__ ==\"__main__\":\n",
    "    app = Application()\n",
    "    # 设置窗口标题:\n",
    "    app.master.title('Hello World')\n",
    "\n",
    "    app.master.geometry(\"600x400+100+400\")#长x宽+x+y\n",
    "    # 主消息循环:\n",
    "    app.mainloop()"
   ]
  },
  {
   "cell_type": "code",
   "execution_count": 8,
   "metadata": {
    "collapsed": true
   },
   "outputs": [],
   "source": [
    "%exec_py3 src/radiobutton.py"
   ]
  },
  {
   "cell_type": "markdown",
   "metadata": {},
   "source": [
    "### 复选框 Checkbutton \n",
    "\n",
    "复选框通常是用来选择信息的时候的一种选择,它前面 有个小正方形的方块,如果选中则有一个对号,也可以再 次点击以取消该对号来取消选中。\n",
    "\n",
    "看个例子\n",
    "\n"
   ]
  },
  {
   "cell_type": "code",
   "execution_count": 9,
   "metadata": {
    "collapsed": false
   },
   "outputs": [
    {
     "name": "stdout",
     "output_type": "stream",
     "text": [
      "Overwriting src/checkbutton.py\n"
     ]
    }
   ],
   "source": [
    "%%writefile src/checkbutton.py\n",
    "from tkinter import Frame,Label,Button,Checkbutton\n",
    "    \n",
    "class Application(Frame):\n",
    "    def __init__(self, master=None):\n",
    "        Frame.__init__(self, master)\n",
    "        #窗口大小位置\n",
    "        self.master.geometry(\"600x400+100+400\")#长x宽+x+y\n",
    "        self.pack()\n",
    "        self.createWidgets()\n",
    "    def createWidgets(self):\n",
    "        self.helloLabel = Label(self, text='Hello, world!\\n')\n",
    "        self.helloLabel.pack()\n",
    "\n",
    "        self.c1 = Checkbutton(self,\n",
    "                              text = \"1\",\n",
    "                              command = lambda : self.helloLabel.config(\n",
    "                                  text = self.helloLabel[\"text\"]+\"1被选中了奇数次\\n\"))\n",
    "        self.c1.pack()\n",
    "        self.c2 = Checkbutton(self,\n",
    "                              text = \"2\",\n",
    "                              command = lambda : self.helloLabel.config(\n",
    "                                  text = self.helloLabel[\"text\"]+\"2被选中了奇数次\\n\"))\n",
    "        self.c2.pack()\n",
    "        self.quitButton = Button(self, text='Quit',fg=\"red\", command=self.quit)\n",
    "        self.quitButton.pack()\n",
    "\n",
    "if __name__ ==\"__main__\":\n",
    "    app = Application()\n",
    "    # 设置窗口标题:\n",
    "    app.master.title('Hello World')\n",
    "\n",
    "    app.master.geometry(\"600x400+100+400\")#长x宽+x+y\n",
    "    # 主消息循环:\n",
    "    app.mainloop()"
   ]
  },
  {
   "cell_type": "code",
   "execution_count": 10,
   "metadata": {
    "collapsed": true
   },
   "outputs": [],
   "source": [
    "%exec_py3 src/checkbutton.py"
   ]
  },
  {
   "cell_type": "markdown",
   "metadata": {},
   "source": [
    "### 文本域 Text\n",
    "\n",
    "也就是用来存放字符串的大空间\n",
    "\n",
    "基本的定义也就是宽度width和高度height了\n"
   ]
  },
  {
   "cell_type": "code",
   "execution_count": 11,
   "metadata": {
    "collapsed": false
   },
   "outputs": [
    {
     "name": "stdout",
     "output_type": "stream",
     "text": [
      "Overwriting src/text.py\n"
     ]
    }
   ],
   "source": [
    "%%writefile src/text.py\n",
    "\n",
    "from tkinter import *\n",
    "\n",
    "    \n",
    "root = Tk()\n",
    "\n",
    "text = Text(root)\n",
    "text.pack()\n",
    "\n",
    "# INSERT 索引表示插入光标当前的位置\n",
    "text.insert(INSERT, \"I love \")\n",
    "text.insert(END, \"Python!\")\n",
    "\n",
    "mainloop()"
   ]
  },
  {
   "cell_type": "code",
   "execution_count": 12,
   "metadata": {
    "collapsed": true
   },
   "outputs": [],
   "source": [
    "%exec_py3 src/text.py"
   ]
  },
  {
   "cell_type": "markdown",
   "metadata": {},
   "source": [
    "### 画布 Canvas\n",
    "\n",
    "和html5中的画布一样,tk中的画布也是用来绘图的,直接看代码吧:\n",
    "\n"
   ]
  },
  {
   "cell_type": "code",
   "execution_count": 13,
   "metadata": {
    "collapsed": false
   },
   "outputs": [
    {
     "name": "stdout",
     "output_type": "stream",
     "text": [
      "Overwriting src/canvas.py\n"
     ]
    }
   ],
   "source": [
    "%%writefile src/canvas.py\n",
    "\n",
    "from tkinter import Frame,Canvas\n",
    "\n",
    "    \n",
    "class Application(Frame):\n",
    "    def __init__(self, master=None):\n",
    "        Frame.__init__(self, master)\n",
    "        self.pack()\n",
    "        self.createWidgets()\n",
    "\n",
    "    def createWidgets(self):\n",
    "        self.can = Canvas(self,width = 400,height=300,bg = \"#233333\")\n",
    "        self.can.create_line((0,0),(200,200),width = 8)\n",
    "        self.can.create_text(300,30,text = \"一个画板\")\n",
    "        self.can.pack()\n",
    "if __name__ ==\"__main__\":\n",
    "    app = Application()\n",
    "    # 设置窗口标题:\n",
    "    app.master.title('Hello World')\n",
    "    # 主消息循环:\n",
    "    app.mainloop()"
   ]
  },
  {
   "cell_type": "code",
   "execution_count": 15,
   "metadata": {
    "collapsed": true
   },
   "outputs": [],
   "source": [
    "%exec_py3 src/canvas.py"
   ]
  },
  {
   "cell_type": "markdown",
   "metadata": {},
   "source": [
    ">对话框 Dialog 和消息盒子 messagebox\n",
    "\n",
    ">>对话框\n",
    "\n",
    "对话框就是那个点击以后跳出来的框框,让你选几个选项,选完给程序一个返回值,一般用来做问卷调查呀啥的,我们拿原来登录界面做做修改,把账号密码错误提示弄成对话框"
   ]
  },
  {
   "cell_type": "code",
   "execution_count": 20,
   "metadata": {
    "collapsed": false
   },
   "outputs": [
    {
     "name": "stdout",
     "output_type": "stream",
     "text": [
      "Overwriting src/dialog.py\n"
     ]
    }
   ],
   "source": [
    "%%writefile src/dialog.py\n",
    "\n",
    "from tkinter import Frame,Label,Button,Entry\n",
    "from tkinter.dialog import Dialog\n",
    "    \n",
    "\n",
    "    \n",
    "class Application(Frame):\n",
    "    def __init__(self, master=None):\n",
    "        Frame.__init__(self, master)\n",
    "        self.pack()\n",
    "        self.createWidgets()\n",
    "\n",
    "    def createWidgets(self):\n",
    "        self.userLabel = Label(self, text='用户名:')\n",
    "        self.userLabel.grid(row = 0,column = 0,sticky=\"w\")\n",
    "        self.userEntry = Entry(self)\n",
    "        self.userEntry.grid(row = 0,column = 1,sticky=\"e\")\n",
    "        self.pwLabel = Label(self, text='密码:')\n",
    "        self.pwLabel.grid(row = 1,column = 0,sticky=\"w\")\n",
    "        self.pwEntry = Entry(self)\n",
    "        self.pwEntry.grid(row = 1,column = 1,sticky=\"e\")\n",
    "\n",
    "        self.enterButton = Button(self,text = \"登录\",command = self.reg)\n",
    "        self.enterButton.grid(row = 2,column = 1,sticky = \"e\")\n",
    "\n",
    "        self.logLabel = Label(self, text='')\n",
    "        self.logLabel.grid(row = 3)\n",
    "\n",
    "    def reg(self):\n",
    "        s1 = self.userEntry.get()\n",
    "        s2 = self.pwEntry.get()\n",
    "        if s1 == \"www.google.com\" and s2 == \"www.bing.com\":\n",
    "            self.logLabel[\"text\"]=\"登录成功\"\n",
    "        else:\n",
    "            self.logLabel[\"text\"]=\"用户名或密码错误\"\n",
    "            self.userEntry.delete(0,len(s1))\n",
    "            self.pwEntry.delete(0,len(s1))\n",
    "            d = Dialog(None,title = \"错误信息\",text = \"用户名或密码错误\",\n",
    "                default=0,strings = (\"重来\",\"放弃\"))\n",
    "\n",
    "if __name__ ==\"__main__\":\n",
    "    app = Application()\n",
    "    # 设置窗口标题:\n",
    "    app.master.title('登录界面')\n",
    "    #窗口大小位置\n",
    "    #app.master.geometry(\"600x400+100+400\")#长x宽+x+y\n",
    "    # 主消息循环:\n",
    "    app.mainloop()"
   ]
  },
  {
   "cell_type": "code",
   "execution_count": 21,
   "metadata": {
    "collapsed": true
   },
   "outputs": [],
   "source": [
    "%exec_py3 src/dialog.py"
   ]
  },
  {
   "cell_type": "markdown",
   "metadata": {},
   "source": [
    ">>消息盒子\n",
    "\n",
    "消息盒子就是提示错误的那种弹窗,同样的还拿那个改"
   ]
  },
  {
   "cell_type": "code",
   "execution_count": 22,
   "metadata": {
    "collapsed": false
   },
   "outputs": [
    {
     "name": "stdout",
     "output_type": "stream",
     "text": [
      "Overwriting src/messagebox.py\n"
     ]
    }
   ],
   "source": [
    "%%writefile src/messagebox.py\n",
    "\n",
    "\n",
    "from tkinter import Frame,Label,Button,Entry\n",
    "from tkinter.messagebox import showinfo\n",
    "    \n",
    "\n",
    "class Application(Frame):\n",
    "    def __init__(self, master=None):\n",
    "        Frame.__init__(self, master)\n",
    "        self.pack()\n",
    "        self.createWidgets()\n",
    "\n",
    "    def createWidgets(self):\n",
    "        self.userLabel = Label(self, text='用户名:')\n",
    "        self.userLabel.grid(row = 0,column = 0,sticky=\"w\")\n",
    "        self.userEntry = Entry(self)\n",
    "        self.userEntry.grid(row = 0,column = 1,sticky=\"e\")\n",
    "        self.pwLabel = Label(self, text='密码:')\n",
    "        self.pwLabel.grid(row = 1,column = 0,sticky=\"w\")\n",
    "        self.pwEntry = Entry(self)\n",
    "        self.pwEntry.grid(row = 1,column = 1,sticky=\"e\")\n",
    "\n",
    "        self.enterButton = Button(self,text = \"登录\",command = self.reg)\n",
    "        self.enterButton.grid(row = 2,column = 1,sticky = \"e\")\n",
    "\n",
    "        self.logLabel = Label(self, text='')\n",
    "        self.logLabel.grid(row = 3)\n",
    "\n",
    "    def reg(self):\n",
    "        s1 = self.userEntry.get()\n",
    "        s2 = self.pwEntry.get()\n",
    "        if s1 == \"www.google.com\" and s2 == \"www.bing.com\":\n",
    "            self.logLabel[\"text\"]=\"登录成功\"\n",
    "        else:\n",
    "            self.logLabel[\"text\"]=\"用户名或密码错误\"\n",
    "            self.userEntry.delete(0,len(s1))\n",
    "            self.pwEntry.delete(0,len(s1))\n",
    "            showinfo(title = \"错误\",message=\"用户名或密码错误\")\n",
    "\n",
    "if __name__ ==\"__main__\":\n",
    "    app = Application()\n",
    "    # 设置窗口标题:\n",
    "    app.master.title('登录界面')\n",
    "    #窗口大小位置\n",
    "    #app.master.geometry(\"600x400+100+400\")#长x宽+x+y\n",
    "    # 主消息循环:\n",
    "    app.mainloop()"
   ]
  },
  {
   "cell_type": "code",
   "execution_count": 23,
   "metadata": {
    "collapsed": true
   },
   "outputs": [],
   "source": [
    "%exec_py src/messagebox.py"
   ]
  }
 ],
 "metadata": {
  "kernelspec": {
   "display_name": "Python 3",
   "language": "python",
   "name": "python3"
  },
  "language_info": {
   "codemirror_mode": {
    "name": "ipython",
    "version": 3
   },
   "file_extension": ".py",
   "mimetype": "text/x-python",
   "name": "python",
   "nbconvert_exporter": "python",
   "pygments_lexer": "ipython3",
   "version": "3.6.0"
  }
 },
 "nbformat": 4,
 "nbformat_minor": 1
}
