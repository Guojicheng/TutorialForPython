{
 "cells": [
  {
   "cell_type": "markdown",
   "metadata": {},
   "source": [
    "# GUI\n",
    "\n",
    "鼠标和微软苹带来了GUI这种交互方式,它的最大特点是图像化,依靠点击来选择指令,而且一般除了主页面外,还会有多层的子页面.交互模式开始复杂了起来.\n",
    "\n",
    "\n",
    "从GUI诞生开始,设计和美学开始进入这个领域,而对用户的友好程度成为了一个软件的衡量标准之一.\n",
    "\n",
    "本文的执行环境需要自己为`ipython notebook`编写的子进程执行魔术命令`%exec_py`,可以参考[这篇文章](http://blog.hszofficial.site/TutorialForJupyter/ipython%E4%B8%8E%E9%AD%94%E6%B3%95%E5%91%BD%E4%BB%A4/ipython%E4%B8%8E%E9%AD%94%E6%B3%95%E5%91%BD%E4%BB%A4.html)自行实现和配置.\n",
    "\n",
    "## GUI的设计原则\n",
    "\n",
    "GUI的图形化特点带了了用户学习难度的降低,因此GUI包括后来的各种交互模式的设计最重要的就是以人为本,关注用户体验\n",
    "\n",
    "+ 必须考虑目标用户群体是个什么样的群像\n",
    "\n",
    "+ 必须考虑用户的学习成本,突出简化最主要的需求的操作,并尽量让用户用更少的步骤完成需求\n",
    "\n",
    "+ 设计应该符合常识习惯\n",
    "\n",
    "+ 避免频繁的切换界面,界面间应该风格统一和谐"
   ]
  },
  {
   "cell_type": "markdown",
   "metadata": {},
   "source": [
    "## python的GUI编程(Tk)\n",
    "\n",
    "GUI也就是图形界面,Python有不少GUI框架,而tkinter是自带的,逻辑简单,模块少而够用.\n",
    "\n",
    "\n",
    "首先我们来明确几个单词以明确Gui编程语境下的基本上下文环境.\n",
    "\n",
    "+ `窗口(window)`\n",
    "    \n",
    "    就是在屏幕上打开一个窗口,GUI的最上层单元,实际上GUI程序就是一个循环,平时一直空转等待`事件`,当发生事件后就由`回调函数`执行对应操作.\n",
    "    窗口打开程序执行,窗口关闭程序退出.\n",
    "\n",
    "+ `帧(Frame)`\n",
    "    \n",
    "    就是屏幕上的一块矩形区域,多是用来作为容器(container)来布局窗口\n",
    "\n",
    "+ `控件(widget)`\n",
    "\n",
    "    就是具体的可操作可交互块,比如按钮,文本框,包括窗口,帧等都是.\n",
    "    \n",
    "+ `事件(event)`\n",
    "\n",
    "    指的是一个用于改变控件/帧/窗口等对象状态的触发信号\n",
    "    \n",
    "+ `回调函数(callback)`\n",
    "\n",
    "    指的是在外部定义好的控件/帧/窗口等在接收到事件后处理事件的方法.\n",
    "    \n",
    "+ `网格(grid)`\n",
    "    \n",
    "    指的是堆放控件的一种常用方式,控件可摆放的位置按从上到下,从左到右的顺序获得一个二维的编号,组件按照编号放置在网格对应的位置上.\n",
    "    \n",
    "+ `像素(pixel)`\n",
    "    \n",
    "    显示设备上用于显示图像的最小单位,每个像素就是一个发光点,GUI的图形本质上就是这些点的组合.\n"
   ]
  },
  {
   "cell_type": "markdown",
   "metadata": {},
   "source": [
    "## Tk的基本布局思路\n",
    "\n"
   ]
  },
  {
   "cell_type": "markdown",
   "metadata": {},
   "source": [
    "## tk控件概览\n",
    "\n",
    "在python标准库中有3个库提供了tk的控件,分别是\n",
    "\n",
    "+ tkinter\n",
    "\n",
    "tk的基本库,提供的控件包括:\n",
    "   \n",
    "控件名类型|意义\n",
    "---|---\n",
    "Button|按钮\n",
    "Canvas|画板\n",
    "Checkbutton|复选框\n",
    "Entry|输入框\n",
    "Frame|帧\n",
    "Label|标签\n",
    "LabelFrame|标签帧\n",
    "Listbox|列表框\n",
    "Menu|菜单栏\n",
    "Menubutton|菜单按钮\n",
    "Message|信息栏\n",
    "OptionMenu|选项菜单\n",
    "PanedWindow|中分栏窗口\n",
    "Radiobutton|单选框\n",
    "Scale|滑块\n",
    "Scrollbar|滚动条\n",
    "Spinbox|指定输入范围值的输入框\n",
    "Text|文本框\n",
    "Toplevel|顶层帧\n",
    "    \n",
    "+ tkinter.ttk\n",
    "\n",
    "一个tk的扩展库,提供了更多的样式和控件以及一些控件的美化版本.\n",
    "优化控件包括:\n",
    "    \n",
    "控件名|说明\n",
    "---|---\n",
    "Button|按钮\n",
    "Checkbutton|复选框\n",
    "Entry|输入框\n",
    "Frame|帧\n",
    "Label|标签\n",
    "LabelFrame|标签帧\n",
    "Menubutton|菜单按钮\n",
    "PanedWindow|中分栏窗口\n",
    "Radiobutton|单选框\n",
    "Scale|滑块\n",
    "Scrollbar|滚动条\n",
    "\n",
    "新增的控件包括:\n",
    "\n",
    "控件名|说明\n",
    "---|---\n",
    "Combobox|组合框,包含文本字段和一个包含可选值的下拉列表\n",
    "Notebook|标签页,形式参见chrome中的标签页\n",
    "Progressbar|进度条\n",
    "Separator|分离器,显示一个水平或垂直分隔条\n",
    "Sizegrip|控制TopLevel的窗口大小\n",
    "Treeview|TreeView控件显示一个项目的树状分层集合\n",
    "\n",
    "+ tkinter.scrolledtext\n",
    "\n",
    "单独的带滚动条的文本框,集成了文本框和滚动条,调用更加方便些\n",
    "\n",
    "\n",
    "\n",
    "另外还有两个第三方库可以使用,不过由于tk模块年深日久,第三方扩展也历史久远,现在只能直接下载源码使用`python setup.py install`安装.\n",
    "\n",
    "+ [Python megawidgets](https://sourceforge.net/projects/pmw/)提供了更多组件的第三方库\n",
    "+ [tkintertable](https://github.com/dmnfarrell/tkintertable)和[pandastable](https://github.com/dmnfarrell/pandastable)提供了对表格的支持.\n",
    "\n",
    "\n",
    "### 控件的基本设置方式\n",
    "\n",
    "在tkinter中每个控件都有一个`configure()`方法用于设置,当然也可以在控件实例化时使用对应字段进行设置.ttk的控件使用方式和tkinter一致,但设置方式使用`ttk.Style()`进行全局设置,而非直接在单独的控件中设置.\n",
    "\n",
    "比如同样是设置label,`tkinter`中设置方式如下:\n",
    "\n",
    "```python\n",
    "l1 = tkinter.Label(text=\"Test\", fg=\"black\", bg=\"white\")\n",
    "l2 = tkinter.Label(text=\"Test\", fg=\"black\", bg=\"white\")\n",
    "```\n",
    "而ttk中如下:\n",
    "\n",
    "```python\n",
    "style = ttk.Style()\n",
    "style.configure(\"BW.TLabel\", foreground=\"black\", background=\"white\")\n",
    "\n",
    "l1 = ttk.Label(text=\"Test\", style=\"BW.TLabel\")\n",
    "l2 = ttk.Label(text=\"Test\", style=\"BW.TLabel\")\n",
    "```"
   ]
  },
  {
   "cell_type": "markdown",
   "metadata": {},
   "source": [
    "### 第一个例子"
   ]
  },
  {
   "cell_type": "code",
   "execution_count": 1,
   "metadata": {
    "collapsed": false
   },
   "outputs": [
    {
     "name": "stdout",
     "output_type": "stream",
     "text": [
      "Overwriting src/first.py\n"
     ]
    }
   ],
   "source": [
    "%%writefile src/first.py\n",
    "import tkinter\n",
    "\n",
    "tkinter._test()"
   ]
  },
  {
   "cell_type": "code",
   "execution_count": 2,
   "metadata": {
    "collapsed": true
   },
   "outputs": [],
   "source": [
    "%exec_py src/first.py"
   ]
  },
  {
   "cell_type": "markdown",
   "metadata": {},
   "source": [
    "运行这个脚本,是不是跳出了一个小框.这是tk的自带例子"
   ]
  },
  {
   "cell_type": "markdown",
   "metadata": {},
   "source": [
    "## 窗口的构建,Toplevel和常用操作\n",
    "\n",
    "\n",
    "使用`tkinter`中窗口是一个隐含的对象,最低一层实际上是帧.构建窗口就是实例化一个`Tk`对象,一个`Tk`对象,一个`Tk`对象会实例化一个`Toplevel`控件,也就是一个包含窗口的帧.\n",
    "\n",
    "`Tk`实例可以有如下常用的属性和方法\n",
    "\n",
    "+ title(str) 窗口的标题\n",
    "\n",
    "+ geometry 定义窗口的长宽和出现位置,单位是像素,使用形如`\"600x400+100+400\"`的字符串设定表示长x宽+左上角x像素位+左上角y像素位\n",
    "\n",
    "+ mainloop() 主循环,执行则相当于启动窗口\n",
    "    \n",
    "+ attributes()设置window,这个参数的调用方式略奇葩,使用的是形如`attributes('-alpha',0.5)`的键值对式的格式,可选的参数包括\n",
    "\n",
    "字段|平台|意义\n",
    "---|---|---\n",
    "`alpha`|win,mac|透明度,范围是0~1之间,0代表完全透明年\n",
    "`disabled`|win|如果设置,则禁用这个窗口\n",
    "`modified`|mac|标记窗口为已修改\n",
    "`titlepath`|mac|窗口代理图标的路径\n",
    "`toolwindow`|win|设置窗口样式为工具窗口\n",
    "`topmost`|win|设置窗口总是在其他窗口前\n",
    "\n",
    "+ configure() 设置`Toplevel`控件,可以设置的内容主要包括\n",
    "\n",
    "字段|意义\n",
    "---|---\n",
    "`bd/borderwidth`|边框宽,默认是`o`\n",
    "`menu`|设置菜单`Menu`对象\n",
    "`relief`|边框样式,可选的`FLAT,SUNKEN,RAISED,GROOVE,RIDGE`默认为`FLAT`\n",
    "`background/bg`|背景色,可以是[这里](http://www.tcl.tk/man/tcl8.5/TkCmd/colors.htm)定义的字符串,也可以是`#FFFFFF`这样的RGB\n",
    "`colormap`|设置需要是`Colormap`的实例,\n",
    "`container`|设置需要是`Container`的实例\n",
    "`cursor`|鼠标光标在其中的位置\n",
    "`height`|高度\n",
    "`width`|宽度\n",
    "`highlightbackground`|要高亮的背景色\n",
    "`highlightcolor`|要高亮的颜色\n",
    "`highlightthickness`|高亮的宽度\n",
    "`padx`|水平padding\n",
    "`pady`|垂直padding\n",
    "`takefocus`|指示用户可以使用tab键移动到这个部件"
   ]
  },
  {
   "cell_type": "code",
   "execution_count": 32,
   "metadata": {
    "collapsed": false
   },
   "outputs": [
    {
     "name": "stdout",
     "output_type": "stream",
     "text": [
      "Overwriting src/first_window.py\n"
     ]
    }
   ],
   "source": [
    "%%writefile src/first_window.py\n",
    "from tkinter import Tk\n",
    "\n",
    "win = Tk()\n",
    "win.title(\"first window\")\n",
    "win.geometry(\"600x400+100+400\")\n",
    "win.configure(background=\"Blue\")\n",
    "win.attributes('-alpha',0.5)\n",
    "win.mainloop()"
   ]
  },
  {
   "cell_type": "code",
   "execution_count": 33,
   "metadata": {
    "collapsed": true
   },
   "outputs": [],
   "source": [
    "%exec_py src/first_window.py"
   ]
  },
  {
   "cell_type": "markdown",
   "metadata": {},
   "source": [
    "通常我们并不会直接实例化`Tk()`来显示地创建窗口,而是通过继承\"帧\"的方式来构建应用."
   ]
  },
  {
   "cell_type": "markdown",
   "metadata": {},
   "source": [
    "## 帧的构建和常用操作\n",
    "\n",
    "tk中的帧有两种:\n",
    "\n",
    "+ Frame\n",
    "\n",
    "    最基本的帧\n",
    "    \n",
    "+ LabelFrame\n",
    "\n",
    "    基本的帧的变体,它在它的子窗口周围绘制一个边框，并且它也可以显示标题\n",
    "    \n",
    "而ttk中也有`Frame`对象,Frame对象实例化需要传入一个`master`参数,这`master`可以是`None`或者一个它的父组件(通常是一个`Toplevel`对象).如果是空它则会自己实例化一个`Toplevel`作为其父组件.访问这个父组件可以使用`frame.master`.\n",
    "\n",
    "通常我们的app主体会继承一个`Frame`并以其为基本容器构建应用."
   ]
  },
  {
   "cell_type": "markdown",
   "metadata": {},
   "source": [
    "### 第一个例子 +\n",
    "\n",
    "我们来自己写个例子,体会下tk的逻辑"
   ]
  },
  {
   "cell_type": "code",
   "execution_count": 34,
   "metadata": {
    "collapsed": false
   },
   "outputs": [
    {
     "name": "stdout",
     "output_type": "stream",
     "text": [
      "Overwriting src/firstGUI.py\n"
     ]
    }
   ],
   "source": [
    "%%writefile src/firstGUI.py\n",
    "\n",
    "#coding:utf-8\n",
    "from tkinter import Frame,Label,Button\n",
    "\n",
    "\n",
    "class Application(Frame):\n",
    "    def __init__(self, master=None):\n",
    "        super().__init__(master)\n",
    "        #窗口大小位置\n",
    "        self.master.geometry(\"600x400+100+400\")#长x宽+x+y\n",
    "        self.pack()\n",
    "        self.createWidgets()\n",
    "\n",
    "    def createWidgets(self):\n",
    "        self.helloLabel = Label(self, text='Hello, world!')\n",
    "    \n",
    "        self.helloLabel.pack()\n",
    "        self.quitButton = Button(self, text='Quit',fg=\"red\", command=self.quit)\n",
    "        self.quitButton.pack()\n",
    "\n",
    "if __name__ ==\"__main__\":\n",
    "    app = Application()\n",
    "    # 设置窗口标题:\n",
    "    app.master.title('Hello World')\n",
    "\n",
    "    app.master.geometry(\"600x400+100+400\")#长x宽+x+y\n",
    "    # 主消息循环:\n",
    "    app.mainloop()"
   ]
  },
  {
   "cell_type": "code",
   "execution_count": 36,
   "metadata": {
    "collapsed": false
   },
   "outputs": [],
   "source": [
    "%exec_py src/firstGUI.py"
   ]
  },
  {
   "cell_type": "markdown",
   "metadata": {},
   "source": [
    "运行后出现如图小对话框\n",
    "\n",
    "![]()\n",
    "\n",
    "\n",
    "可以看出,应用类继承自Frame基类\n",
    "\n",
    "每个Button、Label、输入框等，都是一个Widget.Frame则是可以容纳其他Widget的Widget,所有的Widget组合起来就是一棵树.\n",
    "\n",
    "`pack()`方法把Widget加入到父容器中,并实现布局.`pack()`是最简单的布局,`grid()`可以实现更复杂的布局.\n",
    "\n",
    "在`createWidgets()`方法中，我们创建一个`Label`和一个`Button`,当`Button`被点击时，触发`self.quit()`使程序退出"
   ]
  },
  {
   "cell_type": "markdown",
   "metadata": {},
   "source": [
    "## 菜单 Menu\n",
    "\n",
    "Menu 和其他的组件一样,第一个是 parent,这里通常可以为窗口。\n",
    "\n",
    "然后我们可以用 add_commmand 方法来为它添加菜单项, 如果该菜单是顶层菜单,则添加的菜单项依次向右添加。 如果该菜单时顶层菜单的一个菜单项,则它添加的是下拉菜单的菜单项。\n",
    "add_command 中的参数常用的有:\n",
    "\n",
    "+ label 属性,用来指定的是菜单项的名称\n",
    "+ command 属性用来指定被点击的时候调用的方法\n",
    "+ acceletor 属性指定的是快捷键 \n",
    "+ underline 属性 是是否拥有下划线。\n",
    "\n",
    "最后可以用窗口的 menu 属性指定我们使用哪一个作为它 的顶层菜单.\n",
    "\n",
    ">>子菜单\n",
    "\n",
    "如果有子菜单,我们需则需要使用 add_cascade\n",
    "\n",
    "cascade 可以理解为“级联”,即它 的作用只是为了引出后面的菜单。\n",
    "\n",
    "add_cascade属性:\n",
    "\n",
    "+ menu 属性,它指明了要把那个菜单级联到该菜单项上\n",
    "+ label 属性,用于指定该菜单项的名称。\n",
    "\n",
    "\n",
    ">>弹出菜单\n",
    "\n",
    "一般弹出菜单是右键点击后出现的菜单,tk中的弹出菜单比较原始的,具体思路是这样:\n",
    "\n",
    "+ 我们先新建一个菜单,\n",
    "+ 然后向菜单项中添加各种功能,\n",
    "+ 最后我们监听鼠标右键消息,如果是鼠标 右键被单击,\n",
    "+ 此时可以根据需要判断下鼠标位置来确定是哪个弹出菜单被弹出,\n",
    "+ 然后使用 Menu 类的 pop 方法来弹出 菜单。\n",
    "\n",
    "Menu 类里面有一个post方法,它接收两个参数,即 x 和 y 坐标,它会在相应的位置弹出菜单。\n",
    "\n",
    ">> 插入分割线\n",
    "\n",
    "    .add_separator()\n",
    "    \n",
    ">> 插入单选菜单和复选菜单\n",
    "\n",
    "单选菜单:\n",
    "\n",
    "    .add_radiobutton() \n",
    "    \n",
    "复选菜单:\n",
    "    \n",
    "    .add_checkbutton()\n",
    "\n",
    "例子: 一个菜单栏"
   ]
  },
  {
   "cell_type": "code",
   "execution_count": 18,
   "metadata": {
    "collapsed": false
   },
   "outputs": [
    {
     "name": "stdout",
     "output_type": "stream",
     "text": [
      "Overwriting src/menu.py\n"
     ]
    }
   ],
   "source": [
    "%%writefile src/menu.py\n",
    "\n",
    "from tkinter import Frame,Label,Button,Menu\n",
    "\n",
    "    \n",
    "class Application(Frame):\n",
    "    def __init__(self, master=None,):\n",
    "        Frame.__init__(self, master)\n",
    "        #窗口大小位置\n",
    "        self.pack()\n",
    "        self.createWidgets()\n",
    "        self.creatMenu()\n",
    "\n",
    "\n",
    "    def creatMenu(self):\n",
    "        #主菜单\n",
    "        menubar = Menu(self)\n",
    "        #子菜单\n",
    "        menufile = Menu(menubar)\n",
    "        for item in [\"新建\",\"打开\",\"保存\",\"另存为\"]:\n",
    "            menufile.add_radiobutton(label = item)\n",
    "        menuedit = Menu(menubar)\n",
    "        for item in [\"复制\",\"黏贴\",\"剪切\"]:\n",
    "            menuedit.add_checkbutton(label = item)\n",
    "        #子菜单与主菜单关联\n",
    "        for name,submenu in zip([\"文件\",\"编辑\"],[menufile,menuedit]):\n",
    "            menubar.add_cascade(label=name,menu=submenu)\n",
    "        #最关键的一步,主菜单与app关联\n",
    "        self.master.config(menu=menubar)\n",
    "        #右键菜单\n",
    "        menu = Menu(self.master)\n",
    "        for i in ('One', 'Two', 'Three'):\n",
    "            menu.add_command(label=i)\n",
    "        #插入分割线\n",
    "        menu.add_separator()\n",
    "\n",
    "        for i in ('1', '2', '3'):\n",
    "            menu.add_command(label=i)\n",
    "        #绑定鼠标右键呼出\n",
    "        if (self.master.tk.call('tk', 'windowingsystem')=='aqua'):\n",
    "            self.master.bind('<2>', lambda e: menu.post(e.x_root, e.y_root))\n",
    "            self.master.bind('<Control-1>', lambda e: menu.post(e.x_root, e.y_root))\n",
    "        else:\n",
    "            self.master.bind('<3>', lambda e: menu.post(e.x_root, e.y_root))\n",
    "\n",
    "\n",
    "\n",
    "    def createWidgets(self):\n",
    "        self.helloLabel = Label(self, text='Hello, world!')\n",
    "        self.helloLabel[\"background\"] =\"green\"\n",
    "        self.helloLabel.pack()\n",
    "        self.quitButton = Button(self, text='Quit',fg=\"red\", command=self.quit)\n",
    "        self.quitButton.pack()\n",
    "\n",
    "\n",
    "\n",
    "\n",
    "if __name__ ==\"__main__\":\n",
    "    app = Application()\n",
    "    # 设置窗口标题:\n",
    "    app.master.title('Hello World')\n",
    "    #app.master.geometry(\"600x400+100+400\")#长x宽+x+y\n",
    "    # 主消息循环:\n",
    "    app.mainloop()"
   ]
  },
  {
   "cell_type": "code",
   "execution_count": 19,
   "metadata": {
    "collapsed": true,
    "scrolled": false
   },
   "outputs": [],
   "source": [
    "%exec_py3 src/menu.py"
   ]
  },
  {
   "cell_type": "markdown",
   "metadata": {},
   "source": [
    "## 其他组件用法\n",
    "\n",
    "tkinter的控件上文中已有介绍,下面详细介绍各个组件的功能和设置方式."
   ]
  },
  {
   "cell_type": "markdown",
   "metadata": {},
   "source": [
    "### 标签 Label\n",
    "\n",
    "标签可以定义的属性主要有:\n",
    "\n",
    "+ text 标签的内容,文本信息\n",
    "+ font 字体\n",
    "+ background 背景色\n"
   ]
  },
  {
   "cell_type": "markdown",
   "metadata": {},
   "source": [
    "### 按钮 Button\n",
    "\n",
    "按钮算是最常用的控件之一了,它的属性主要有:\n",
    "\n",
    "+ 宽度 width\n",
    "+ 高度 height\n",
    "+ 背景色 background\n",
    "+ 显示文字 text \n",
    "\n",
    "但是说到按钮当然最重要的是触发事件了\n",
    "\n",
    "+ 命令 command 接受一个函数名,注意是函数名,没有括弧"
   ]
  },
  {
   "cell_type": "markdown",
   "metadata": {},
   "source": [
    "### 输入框 Entry\n",
    "\n",
    "属性:\n",
    "\n",
    "+ get() 获取输入(返回一个str)\n",
    "\n",
    "例:一个用户登录界面"
   ]
  },
  {
   "cell_type": "code",
   "execution_count": 5,
   "metadata": {
    "collapsed": false
   },
   "outputs": [
    {
     "name": "stdout",
     "output_type": "stream",
     "text": [
      "Overwriting src/entry.py\n"
     ]
    }
   ],
   "source": [
    "%%writefile src/entry.py\n",
    "\n",
    "from tkinter import Frame,Label,Button,Entry\n",
    "\n",
    "\n",
    "class Application(Frame):\n",
    "    def __init__(self, master=None):\n",
    "        Frame.__init__(self, master)\n",
    "        self.pack()\n",
    "        self.createWidgets()\n",
    "\n",
    "    def createWidgets(self):\n",
    "        self.userLabel = Label(self, text='用户名:')\n",
    "        self.userLabel.grid(row = 0,column = 0,sticky=\"w\")\n",
    "        self.userEntry = Entry(self)\n",
    "        self.userEntry.grid(row = 0,column = 1,sticky=\"e\")\n",
    "        self.pwLabel = Label(self, text='密码:')\n",
    "        self.pwLabel.grid(row = 1,column = 0,sticky=\"w\")\n",
    "        self.pwEntry = Entry(self)\n",
    "        self.pwEntry.grid(row = 1,column = 1,sticky=\"e\")\n",
    "\n",
    "        self.enterButton = Button(self,text = \"登录\",command = self.reg)\n",
    "        self.enterButton.grid(row = 2,column = 1,sticky = \"e\")\n",
    "\n",
    "        self.logLabel = Label(self, text='')\n",
    "        self.logLabel.grid(row = 3)\n",
    "\n",
    "    def reg(self):\n",
    "        s1 = self.userEntry.get()\n",
    "        s2 = self.pwEntry.get()\n",
    "        if s1 == \"www.google.com\" and s2 == \"www.bing.com\":\n",
    "            self.logLabel[\"text\"]=\"登录成功\"\n",
    "        else:\n",
    "            self.logLabel[\"text\"]=\"用户名或密码错误\"\n",
    "            self.userEntry.delete(0,len(s1))\n",
    "            self.pwEntry.delete(0,len(s1))\n",
    "\n",
    "if __name__ ==\"__main__\":\n",
    "    app = Application()\n",
    "    # 设置窗口标题:\n",
    "    app.master.title('登录界面')\n",
    "    #窗口大小位置\n",
    "    #app.master.geometry(\"600x400+100+400\")#长x宽+x+y\n",
    "    # 主消息循环:\n",
    "    app.mainloop()"
   ]
  },
  {
   "cell_type": "code",
   "execution_count": 6,
   "metadata": {
    "collapsed": true
   },
   "outputs": [],
   "source": [
    "%exec_py src/entry.py"
   ]
  },
  {
   "cell_type": "markdown",
   "metadata": {},
   "source": [
    "### 单选按钮 Radiobutton\n",
    "\n",
    "一般是几个里面选一个用\n",
    "\n",
    "直接看代码:\n",
    "\n"
   ]
  },
  {
   "cell_type": "code",
   "execution_count": 7,
   "metadata": {
    "collapsed": false
   },
   "outputs": [
    {
     "name": "stdout",
     "output_type": "stream",
     "text": [
      "Overwriting src/radiobutton.py\n"
     ]
    }
   ],
   "source": [
    "%%writefile src/radiobutton.py\n",
    "\n",
    "from tkinter import Frame,Label,Button,Radiobutton\n",
    "\n",
    "    \n",
    "class Application(Frame):\n",
    "    def __init__(self, master=None):\n",
    "        Frame.__init__(self, master)\n",
    "        #窗口大小位置\n",
    "        self.master.geometry(\"600x400+100+400\")#长x宽+x+y\n",
    "        self.pack()\n",
    "        self.createWidgets()\n",
    "    def createWidgets(self):\n",
    "        self.helloLabel = Label(self, text='Hello, world!\\n')\n",
    "        self.helloLabel.pack()\n",
    "\n",
    "        self.c1 = Radiobutton(self,text = \"1\",command = lambda : self.helloLabel.config(\n",
    "                                                                text = \"1被选中了奇数次\\n\") )\n",
    "        self.c1.pack()\n",
    "        self.c2 = Radiobutton(self,text = \"2\",command = lambda : self.helloLabel.config(\n",
    "                                                                text = \"2被选中了奇数次\\n\") )\n",
    "        self.c2.pack()\n",
    "        self.quitButton = Button(self, text='Quit',fg=\"red\", command=self.quit)\n",
    "        self.quitButton.pack()\n",
    "\n",
    "if __name__ ==\"__main__\":\n",
    "    app = Application()\n",
    "    # 设置窗口标题:\n",
    "    app.master.title('Hello World')\n",
    "\n",
    "    app.master.geometry(\"600x400+100+400\")#长x宽+x+y\n",
    "    # 主消息循环:\n",
    "    app.mainloop()"
   ]
  },
  {
   "cell_type": "code",
   "execution_count": 8,
   "metadata": {
    "collapsed": true
   },
   "outputs": [],
   "source": [
    "%exec_py3 src/radiobutton.py"
   ]
  },
  {
   "cell_type": "markdown",
   "metadata": {},
   "source": [
    "### 复选框 Checkbutton \n",
    "\n",
    "复选框通常是用来选择信息的时候的一种选择,它前面 有个小正方形的方块,如果选中则有一个对号,也可以再 次点击以取消该对号来取消选中。\n",
    "\n",
    "看个例子\n",
    "\n"
   ]
  },
  {
   "cell_type": "code",
   "execution_count": 9,
   "metadata": {
    "collapsed": false
   },
   "outputs": [
    {
     "name": "stdout",
     "output_type": "stream",
     "text": [
      "Overwriting src/checkbutton.py\n"
     ]
    }
   ],
   "source": [
    "%%writefile src/checkbutton.py\n",
    "from tkinter import Frame,Label,Button,Checkbutton\n",
    "    \n",
    "class Application(Frame):\n",
    "    def __init__(self, master=None):\n",
    "        Frame.__init__(self, master)\n",
    "        #窗口大小位置\n",
    "        self.master.geometry(\"600x400+100+400\")#长x宽+x+y\n",
    "        self.pack()\n",
    "        self.createWidgets()\n",
    "    def createWidgets(self):\n",
    "        self.helloLabel = Label(self, text='Hello, world!\\n')\n",
    "        self.helloLabel.pack()\n",
    "\n",
    "        self.c1 = Checkbutton(self,\n",
    "                              text = \"1\",\n",
    "                              command = lambda : self.helloLabel.config(\n",
    "                                  text = self.helloLabel[\"text\"]+\"1被选中了奇数次\\n\"))\n",
    "        self.c1.pack()\n",
    "        self.c2 = Checkbutton(self,\n",
    "                              text = \"2\",\n",
    "                              command = lambda : self.helloLabel.config(\n",
    "                                  text = self.helloLabel[\"text\"]+\"2被选中了奇数次\\n\"))\n",
    "        self.c2.pack()\n",
    "        self.quitButton = Button(self, text='Quit',fg=\"red\", command=self.quit)\n",
    "        self.quitButton.pack()\n",
    "\n",
    "if __name__ ==\"__main__\":\n",
    "    app = Application()\n",
    "    # 设置窗口标题:\n",
    "    app.master.title('Hello World')\n",
    "\n",
    "    app.master.geometry(\"600x400+100+400\")#长x宽+x+y\n",
    "    # 主消息循环:\n",
    "    app.mainloop()"
   ]
  },
  {
   "cell_type": "code",
   "execution_count": 10,
   "metadata": {
    "collapsed": true
   },
   "outputs": [],
   "source": [
    "%exec_py3 src/checkbutton.py"
   ]
  },
  {
   "cell_type": "markdown",
   "metadata": {},
   "source": [
    "### 文本域 Text\n",
    "\n",
    "也就是用来存放字符串的大空间\n",
    "\n",
    "基本的定义也就是宽度width和高度height了\n"
   ]
  },
  {
   "cell_type": "code",
   "execution_count": 11,
   "metadata": {
    "collapsed": false
   },
   "outputs": [
    {
     "name": "stdout",
     "output_type": "stream",
     "text": [
      "Overwriting src/text.py\n"
     ]
    }
   ],
   "source": [
    "%%writefile src/text.py\n",
    "\n",
    "from tkinter import *\n",
    "\n",
    "    \n",
    "root = Tk()\n",
    "\n",
    "text = Text(root)\n",
    "text.pack()\n",
    "\n",
    "# INSERT 索引表示插入光标当前的位置\n",
    "text.insert(INSERT, \"I love \")\n",
    "text.insert(END, \"Python!\")\n",
    "\n",
    "mainloop()"
   ]
  },
  {
   "cell_type": "code",
   "execution_count": 12,
   "metadata": {
    "collapsed": true
   },
   "outputs": [],
   "source": [
    "%exec_py3 src/text.py"
   ]
  },
  {
   "cell_type": "markdown",
   "metadata": {},
   "source": [
    "### 画布 Canvas\n",
    "\n",
    "和html5中的画布一样,tk中的画布也是用来绘图的,直接看代码吧:\n",
    "\n"
   ]
  },
  {
   "cell_type": "code",
   "execution_count": 13,
   "metadata": {
    "collapsed": false
   },
   "outputs": [
    {
     "name": "stdout",
     "output_type": "stream",
     "text": [
      "Overwriting src/canvas.py\n"
     ]
    }
   ],
   "source": [
    "%%writefile src/canvas.py\n",
    "\n",
    "from tkinter import Frame,Canvas\n",
    "\n",
    "    \n",
    "class Application(Frame):\n",
    "    def __init__(self, master=None):\n",
    "        Frame.__init__(self, master)\n",
    "        self.pack()\n",
    "        self.createWidgets()\n",
    "\n",
    "    def createWidgets(self):\n",
    "        self.can = Canvas(self,width = 400,height=300,bg = \"#233333\")\n",
    "        self.can.create_line((0,0),(200,200),width = 8)\n",
    "        self.can.create_text(300,30,text = \"一个画板\")\n",
    "        self.can.pack()\n",
    "if __name__ ==\"__main__\":\n",
    "    app = Application()\n",
    "    # 设置窗口标题:\n",
    "    app.master.title('Hello World')\n",
    "    # 主消息循环:\n",
    "    app.mainloop()"
   ]
  },
  {
   "cell_type": "code",
   "execution_count": 15,
   "metadata": {
    "collapsed": true
   },
   "outputs": [],
   "source": [
    "%exec_py3 src/canvas.py"
   ]
  },
  {
   "cell_type": "markdown",
   "metadata": {},
   "source": [
    "> 多窗口 Toplevel"
   ]
  },
  {
   "cell_type": "code",
   "execution_count": 16,
   "metadata": {
    "collapsed": false
   },
   "outputs": [
    {
     "name": "stdout",
     "output_type": "stream",
     "text": [
      "Overwriting src/toplevel.py\n"
     ]
    }
   ],
   "source": [
    "%%writefile src/toplevel.py\n",
    "from tkinter import Frame,Label,Button,Toplevel\n",
    "\n",
    "    \n",
    "class Application(Frame):\n",
    "    def __init__(self, master=None):\n",
    "        Frame.__init__(self, master)\n",
    "        #窗口大小位置\n",
    "        self.pack()\n",
    "        self.createWidgets()\n",
    "\n",
    "    def createWidgets(self):\n",
    "        self.helloLabel = Label(self, text='Hello, world1!')\n",
    "\n",
    "        self.helloLabel.pack()\n",
    "class App2(Toplevel):\n",
    "    def __init__(self, master=None):\n",
    "        Toplevel.__init__(self, master)\n",
    "        self.createWidgets()\n",
    "\n",
    "    def createWidgets(self):\n",
    "        self.helloLabel = Label(self, text='Hello, world2!')\n",
    "        self.helloLabel.pack()\n",
    "\n",
    "if __name__ ==\"__main__\":\n",
    "    app1 = Application()\n",
    "    # 设置窗口标题:\n",
    "    app1.master.title('Hello World1')\n",
    "    app1.master.geometry(\"600x400+100+400\")#长x宽+x+y\n",
    "    # 主消息循环:\n",
    "    app2 = App2()\n",
    "    app2.title(\"helloword2\")\n",
    "    app1.mainloop()"
   ]
  },
  {
   "cell_type": "code",
   "execution_count": 17,
   "metadata": {
    "collapsed": true
   },
   "outputs": [],
   "source": [
    "%exec_py3 src/toplevel.py"
   ]
  },
  {
   "cell_type": "markdown",
   "metadata": {},
   "source": [
    ">对话框 Dialog 和消息盒子 messagebox\n",
    "\n",
    ">>对话框\n",
    "\n",
    "对话框就是那个点击以后跳出来的框框,让你选几个选项,选完给程序一个返回值,一般用来做问卷调查呀啥的,我们拿原来登录界面做做修改,把账号密码错误提示弄成对话框"
   ]
  },
  {
   "cell_type": "code",
   "execution_count": 20,
   "metadata": {
    "collapsed": false
   },
   "outputs": [
    {
     "name": "stdout",
     "output_type": "stream",
     "text": [
      "Overwriting src/dialog.py\n"
     ]
    }
   ],
   "source": [
    "%%writefile src/dialog.py\n",
    "\n",
    "from tkinter import Frame,Label,Button,Entry\n",
    "from tkinter.dialog import Dialog\n",
    "    \n",
    "\n",
    "    \n",
    "class Application(Frame):\n",
    "    def __init__(self, master=None):\n",
    "        Frame.__init__(self, master)\n",
    "        self.pack()\n",
    "        self.createWidgets()\n",
    "\n",
    "    def createWidgets(self):\n",
    "        self.userLabel = Label(self, text='用户名:')\n",
    "        self.userLabel.grid(row = 0,column = 0,sticky=\"w\")\n",
    "        self.userEntry = Entry(self)\n",
    "        self.userEntry.grid(row = 0,column = 1,sticky=\"e\")\n",
    "        self.pwLabel = Label(self, text='密码:')\n",
    "        self.pwLabel.grid(row = 1,column = 0,sticky=\"w\")\n",
    "        self.pwEntry = Entry(self)\n",
    "        self.pwEntry.grid(row = 1,column = 1,sticky=\"e\")\n",
    "\n",
    "        self.enterButton = Button(self,text = \"登录\",command = self.reg)\n",
    "        self.enterButton.grid(row = 2,column = 1,sticky = \"e\")\n",
    "\n",
    "        self.logLabel = Label(self, text='')\n",
    "        self.logLabel.grid(row = 3)\n",
    "\n",
    "    def reg(self):\n",
    "        s1 = self.userEntry.get()\n",
    "        s2 = self.pwEntry.get()\n",
    "        if s1 == \"www.google.com\" and s2 == \"www.bing.com\":\n",
    "            self.logLabel[\"text\"]=\"登录成功\"\n",
    "        else:\n",
    "            self.logLabel[\"text\"]=\"用户名或密码错误\"\n",
    "            self.userEntry.delete(0,len(s1))\n",
    "            self.pwEntry.delete(0,len(s1))\n",
    "            d = Dialog(None,title = \"错误信息\",text = \"用户名或密码错误\",\n",
    "                default=0,strings = (\"重来\",\"放弃\"))\n",
    "\n",
    "if __name__ ==\"__main__\":\n",
    "    app = Application()\n",
    "    # 设置窗口标题:\n",
    "    app.master.title('登录界面')\n",
    "    #窗口大小位置\n",
    "    #app.master.geometry(\"600x400+100+400\")#长x宽+x+y\n",
    "    # 主消息循环:\n",
    "    app.mainloop()"
   ]
  },
  {
   "cell_type": "code",
   "execution_count": 21,
   "metadata": {
    "collapsed": true
   },
   "outputs": [],
   "source": [
    "%exec_py3 src/dialog.py"
   ]
  },
  {
   "cell_type": "markdown",
   "metadata": {},
   "source": [
    ">>消息盒子\n",
    "\n",
    "消息盒子就是提示错误的那种弹窗,同样的还拿那个改"
   ]
  },
  {
   "cell_type": "code",
   "execution_count": 22,
   "metadata": {
    "collapsed": false
   },
   "outputs": [
    {
     "name": "stdout",
     "output_type": "stream",
     "text": [
      "Overwriting src/messagebox.py\n"
     ]
    }
   ],
   "source": [
    "%%writefile src/messagebox.py\n",
    "\n",
    "\n",
    "from tkinter import Frame,Label,Button,Entry\n",
    "from tkinter.messagebox import showinfo\n",
    "    \n",
    "\n",
    "class Application(Frame):\n",
    "    def __init__(self, master=None):\n",
    "        Frame.__init__(self, master)\n",
    "        self.pack()\n",
    "        self.createWidgets()\n",
    "\n",
    "    def createWidgets(self):\n",
    "        self.userLabel = Label(self, text='用户名:')\n",
    "        self.userLabel.grid(row = 0,column = 0,sticky=\"w\")\n",
    "        self.userEntry = Entry(self)\n",
    "        self.userEntry.grid(row = 0,column = 1,sticky=\"e\")\n",
    "        self.pwLabel = Label(self, text='密码:')\n",
    "        self.pwLabel.grid(row = 1,column = 0,sticky=\"w\")\n",
    "        self.pwEntry = Entry(self)\n",
    "        self.pwEntry.grid(row = 1,column = 1,sticky=\"e\")\n",
    "\n",
    "        self.enterButton = Button(self,text = \"登录\",command = self.reg)\n",
    "        self.enterButton.grid(row = 2,column = 1,sticky = \"e\")\n",
    "\n",
    "        self.logLabel = Label(self, text='')\n",
    "        self.logLabel.grid(row = 3)\n",
    "\n",
    "    def reg(self):\n",
    "        s1 = self.userEntry.get()\n",
    "        s2 = self.pwEntry.get()\n",
    "        if s1 == \"www.google.com\" and s2 == \"www.bing.com\":\n",
    "            self.logLabel[\"text\"]=\"登录成功\"\n",
    "        else:\n",
    "            self.logLabel[\"text\"]=\"用户名或密码错误\"\n",
    "            self.userEntry.delete(0,len(s1))\n",
    "            self.pwEntry.delete(0,len(s1))\n",
    "            showinfo(title = \"错误\",message=\"用户名或密码错误\")\n",
    "\n",
    "if __name__ ==\"__main__\":\n",
    "    app = Application()\n",
    "    # 设置窗口标题:\n",
    "    app.master.title('登录界面')\n",
    "    #窗口大小位置\n",
    "    #app.master.geometry(\"600x400+100+400\")#长x宽+x+y\n",
    "    # 主消息循环:\n",
    "    app.mainloop()"
   ]
  },
  {
   "cell_type": "code",
   "execution_count": 23,
   "metadata": {
    "collapsed": true
   },
   "outputs": [],
   "source": [
    "%exec_py3 src/messagebox.py"
   ]
  },
  {
   "cell_type": "markdown",
   "metadata": {},
   "source": [
    "## 大小和位置\n",
    "\n",
    "对于窗口,大小可以通过geometry函数来控制\n",
    "\n",
    "    'width x height + xoffset + yoffset'"
   ]
  },
  {
   "cell_type": "markdown",
   "metadata": {},
   "source": [
    "## 控件布局\n",
    "\n",
    "有3种方式可以为控件布局:\n",
    "\n",
    "+ pack()\n",
    "+ grid()\n",
    "+ place()\n",
    "\n",
    ">pack()\n",
    "pack()默认会一个一个从上往下堆叠,但同样也可以接受几个参数\n",
    "\n",
    "+ side (left,top,right,bottom)\n",
    "+ fill ( X,Y,BOTH 和 NONE)水平方向填充,竖直方向填充,水平和竖直方向填充和不填充。\n",
    "+ expand 参数可以是 YES 和 NO\n",
    "+ anchor (n, ne, e, se, s, sw, w, nw, or center)NESW 表示上右下左以及他们的组合或者是 CENTER(表示中 间)。\n",
    "+ ipadx 表示的是内边距的 x 方向\n",
    "+ ipady 表示 的是内边距的 y 方向\n",
    "+ padx 表示的是外边距的 x 方向\n",
    "+ pady 表示的是外边距的 y 方向。"
   ]
  },
  {
   "cell_type": "code",
   "execution_count": 24,
   "metadata": {
    "collapsed": false
   },
   "outputs": [
    {
     "name": "stdout",
     "output_type": "stream",
     "text": [
      "Overwriting src/pack.py\n"
     ]
    }
   ],
   "source": [
    "%%writefile src/pack.py\n",
    "\n",
    "from tkinter import Frame,Label,Button\n",
    "\n",
    "\n",
    "class Application(Frame):\n",
    "    def __init__(self, master=None):\n",
    "        Frame.__init__(self, master)\n",
    "        self.pack()\n",
    "        self.createWidgets()\n",
    "\n",
    "    def createWidgets(self):\n",
    "        self.LabelL = Label(self, text='左边')\n",
    "        self.LabelL.pack(side=\"left\")\n",
    "        self.LabelR = Label(self, text='右边')\n",
    "        self.LabelR.pack(side=\"right\")\n",
    "        self.LabelT = Label(self, text='顶')\n",
    "        self.LabelT.pack(side=\"top\")\n",
    "        self.LabelB = Label(self, text='底')\n",
    "        self.LabelB.pack(side=\"bottom\")\n",
    "\n",
    "        self.LabelN = Label(self, text='N')\n",
    "        self.LabelN.pack(anchor=\"n\")\n",
    "        self.LabelE = Label(self, text='E')\n",
    "        self.LabelE.pack(anchor=\"e\")\n",
    "        self.LabelS = Label(self, text='S')\n",
    "        self.LabelS.pack(anchor=\"s\")\n",
    "        self.LabelW= Label(self, text='W')\n",
    "        self.LabelW.pack(anchor=\"w\")\n",
    "        self.LabelCENTER= Label(self, text='CENTER')\n",
    "        self.LabelCENTER.pack(anchor=\"center\")\n",
    "\n",
    "\n",
    "        self.quitButton = Button(self, text='Quit',background=\"red\", command=self.quit)\n",
    "        self.quitButton.pack(side=\"bottom\")\n",
    "\n",
    "if __name__ ==\"__main__\":\n",
    "    app = Application()\n",
    "    # 设置窗口标题:\n",
    "    app.master.title('pack布局测试')\n",
    "    #窗口大小位置\n",
    "    #app.master.geometry(\"600x400+100+400\")#长x宽+x+y\n",
    "    # 主消息循环:\n",
    "    app.mainloop()"
   ]
  },
  {
   "cell_type": "code",
   "execution_count": 25,
   "metadata": {
    "collapsed": true
   },
   "outputs": [],
   "source": [
    "%exec_py3 src/pack.py"
   ]
  },
  {
   "cell_type": "markdown",
   "metadata": {},
   "source": [
    "> grid() 最常用布局\n",
    "\n",
    "grid()里的参数:\n",
    "\n",
    "+ row 表示行(从0开始)\n",
    "+ column 表示列(从0开始)\n",
    "+ sticky  (N,E,S,W) 表 示上右下左,它决定了这个组件是从哪个方向开始的\n",
    "+ ipadx,ipady,padx,pady,它们 的意思和 pack 函数是一样的,默认边距是 0。\n",
    "+ rowspan 表示跨越的行数 columnspan 表示跨越的列数。"
   ]
  },
  {
   "cell_type": "code",
   "execution_count": 26,
   "metadata": {
    "collapsed": false
   },
   "outputs": [
    {
     "name": "stdout",
     "output_type": "stream",
     "text": [
      "Overwriting src/grid.py\n"
     ]
    }
   ],
   "source": [
    "%%writefile src/grid.py\n",
    "\n",
    "from tkinter import Frame,Label,Button\n",
    "\n",
    "\n",
    "    \n",
    "class Application(Frame):\n",
    "    def __init__(self, master=None):\n",
    "        Frame.__init__(self, master)\n",
    "        self.pack()\n",
    "        self.createWidgets()\n",
    "\n",
    "    def createWidgets(self):\n",
    "        self.Label00 = Label(self, text='00')\n",
    "        self.Label00.grid(row=0,column=0)\n",
    "        self.Label10 = Label(self, text='10')\n",
    "        self.Label10.grid(row=1,column=0)\n",
    "        self.Label11 = Label(self, text='11')\n",
    "        self.Label11.grid(row=1,column=1)\n",
    "        self.Label30 = Label(self, text='30')\n",
    "        self.Label30.grid(row=3,column=0)\n",
    "\n",
    "\n",
    "        self.quitButton = Button(self, text='Quit',background=\"red\", command=self.quit)\n",
    "        self.quitButton.grid(row=2,column=2)\n",
    "\n",
    "if __name__ ==\"__main__\":\n",
    "    app = Application()\n",
    "    # 设置窗口标题:\n",
    "    app.master.title('pack布局测试')\n",
    "    #窗口大小位置\n",
    "    #app.master.geometry(\"600x400+100+400\")#长x宽+x+y\n",
    "    # 主消息循环:\n",
    "    app.mainloop()"
   ]
  },
  {
   "cell_type": "code",
   "execution_count": 27,
   "metadata": {
    "collapsed": true
   },
   "outputs": [],
   "source": [
    "%exec_py3 src/grid.py"
   ]
  },
  {
   "cell_type": "markdown",
   "metadata": {},
   "source": [
    "> place() 最好不要用....不优雅"
   ]
  },
  {
   "cell_type": "markdown",
   "metadata": {},
   "source": [
    "## 事件\n",
    "\n",
    "> 事件绑定和解绑 bind() unbind()\n",
    ">>绑定bind()\n",
    "\n",
    "bind 函数的调用规则: \n",
    "\n",
    "    窗体对象.bind(事件类型,回调函数)\n",
    "\n",
    "事件类型:\n",
    "\n",
    "事件类型是一组字符串,它采用的描述方式是这 样的:\n",
    "\n",
    "    <MODIFIER-MODIFIER-TYPE-DETAIL>\n",
    "    \n",
    "+ MODIFIER 即修饰符,它的全部取值如下:\n",
    "\n",
    "Control|Mod1, M1, Command\n",
    "---|---\n",
    "Alt|Mod2, M2, Option\n",
    "Shift|Mod3, M3\n",
    "Lock|Mod4, M4\n",
    "Extended|Mod5, M5\n",
    "Button1, B1|Meta, M\n",
    "Button2, B2|Double\n",
    "Button3, B3|Triple\n",
    "Button4, B4|Quadruple\n",
    "Button5, B5|---\n",
    "\n",
    "\n",
    "\n",
    "+ TYPE 表示类型,它的全部取值如下:\n",
    "\n",
    "Activate|Destroy|Map\n",
    "---|---|---\n",
    "ButtonPress, Button|Enter|MapRequest\n",
    "ButtonRelease|Expose|Motion\n",
    "Circulate|FocusIn|MouseWheel\n",
    "CirculateRequest|FocusOut|Property\n",
    "Colormap|Gravity|Reparent\n",
    "Configure|KeyPress, Key|ResizeRequest\n",
    "ConfigureRequest|KeyRelease|Unmap\n",
    "Create|Leave|Visibility\n",
    "Deactivate|---|---\n",
    "\n",
    "\n",
    "\n",
    "+ DETAIL 表示细节,其实也就是对第二个参数的一些辅助说明。\n",
    "    \n",
    "常用事件类型:\n",
    "\n",
    "+ `<Button-1>` 表示鼠标左键单击,其中的 1 换成 3 表示右 键被单击,为 2 的时候表示鼠标中键\n",
    "+ `<KeyPress-A>` 表示 A 键被按下,其中的 A 可以换成其他的键位。\n",
    "+ `<Control-V>` 表示按下的是 Ctrl 和 V 键,V 可以换成其他 键位。\n",
    "+ `<F1>`表示按下的是 F1 键,对于 Fn 系列的,都可以随便 换。\n",
    "\n",
    "更加具体的可以看<http://www.tcl.tk/man/tcl8.5/TkCmd/bind.htm#M23>\n",
    "\n",
    "bind()可以绑定所有继承自Misc类的组件,也就是说即便是标签也可以绑定动作.\n",
    "\n",
    "bind()有两个扩展\n",
    "\n",
    "\n",
    "+ 窗体对象.bind_all(事件类型,回调函数)全程序级别绑定事件\n",
    "\n",
    "+ 窗体对象.bind_class(类名,事件类型,回调函数)类级别绑定事件,比如所有标签这样\n",
    "\n",
    ">> 解绑 unbind()\n",
    "\n",
    "窗体对象.unbind(事件类型)"
   ]
  },
  {
   "cell_type": "markdown",
   "metadata": {},
   "source": [
    "## ttk\n",
    "\n",
    "ttk是tk的扩展,主要是美化和新增了几个控件\n",
    "\n",
    "还是看例子:\n"
   ]
  },
  {
   "cell_type": "code",
   "execution_count": 28,
   "metadata": {
    "collapsed": false
   },
   "outputs": [
    {
     "name": "stdout",
     "output_type": "stream",
     "text": [
      "Overwriting src/ttk.py\n"
     ]
    }
   ],
   "source": [
    "%%writefile src/ttk.py\n",
    "\n",
    "from tkinter import *\n",
    "from tkinter.ttk import *\n",
    "\n",
    "\n",
    "    \n",
    "class Application(Frame):\n",
    "    def __init__(self, master=None):\n",
    "        Frame.__init__(self, master)\n",
    "        #窗口大小位置\n",
    "        self.master.geometry(\"600x400+100+400\")#长x宽+x+y\n",
    "        self.pack()\n",
    "        self.createWidgets()\n",
    "\n",
    "    def createWidgets(self):\n",
    "        self.helloLabel = Label(self, text='Hello, world!')\n",
    "\n",
    "        self.helloLabel.pack()\n",
    "        self.quitButton = Button(self, text='Quit', command=self.quit)\n",
    "        self.quitButton.pack()\n",
    "\n",
    "if __name__ ==\"__main__\":\n",
    "    app = Application()\n",
    "    # 设置窗口标题:\n",
    "    app.master.title('Hello World')\n",
    "\n",
    "    app.master.geometry(\"600x400+100+400\")#长x宽+x+y\n",
    "    # 主消息循环:\n",
    "    app.mainloop()"
   ]
  },
  {
   "cell_type": "code",
   "execution_count": 29,
   "metadata": {
    "collapsed": true
   },
   "outputs": [],
   "source": [
    "%exec_py3 src/ttk.py"
   ]
  },
  {
   "cell_type": "markdown",
   "metadata": {
    "collapsed": true
   },
   "source": [
    "## gui 界的 helloworld, 一个记事本"
   ]
  },
  {
   "cell_type": "code",
   "execution_count": 30,
   "metadata": {
    "collapsed": false
   },
   "outputs": [
    {
     "name": "stdout",
     "output_type": "stream",
     "text": [
      "Overwriting src/editer.py\n"
     ]
    }
   ],
   "source": [
    "%%writefile src/editer.py\n",
    "\n",
    "import os\n",
    "\n",
    "from tkinter import *\n",
    "from tkinter.messagebox import *\n",
    "from tkinter.filedialog import *\n",
    "\n",
    "\n",
    "\n",
    "    \n",
    "class Application(Frame):\n",
    "    def __init__(self, master=None):\n",
    "        Frame.__init__(self, master)\n",
    "        #窗口大小位置\n",
    "        self.master.geometry(\"600x400+100+400\")#长x宽+x+y\n",
    "        self.pack()\n",
    "        self.filename = \"\"\n",
    "        self.creatMenu()\n",
    "        self.createWidgets()\n",
    "\n",
    "    def creatMenu(self):\n",
    "        #主菜单\n",
    "        menubar = Menu(self)\n",
    "        #子菜单\n",
    "        menufile = Menu(menubar)\n",
    "        menufile.add_command(label = \"打开\",accelerator = \"Ctrl + O\",command = self.myopen)\n",
    "        menufile.add_command(label = \"新建\",accelerator = \"Ctrl + N\",command = self.new)\n",
    "        menufile.add_command(label = \"保存\",accelerator = \"Ctrl + S\",command = self.save)\n",
    "        menufile.add_command(label = \"另存为\",accelerator = \"Ctrl + Shift + S\",command = self.saveas)\n",
    "\n",
    "        menuedit = Menu(menubar)\n",
    "        menuedit.add_command(label = \"剪切\",accelerator = \"Ctrl + X\",command = self.cut)\n",
    "        menuedit.add_command(label = \"复制\",accelerator = \"Ctrl + C\",command = self.copy)\n",
    "        menuedit.add_command(label = \"黏贴\",accelerator = \"Ctrl + V\",command = self.paste)\n",
    "        menuedit.add_separator()\n",
    "        menuedit.add_command(label = \"全选\",accelerator = \"Ctrl + A\",\n",
    "                             command = lambda :self.textPad.tag_add('sel',1.0,\"end\"))\n",
    "\n",
    "        menuaboutme = Menu(menubar)\n",
    "        menuaboutme.add_command(label = \"作者\",command = self.author)\n",
    "        menuaboutme.add_command(label = \"版权\",command = self.power)\n",
    "\n",
    "        #子菜单与主菜单关联\n",
    "        for name,submenu in zip([\"文件\",\"编辑\",\"关于\"],[menufile,menuedit,menuaboutme]):\n",
    "            menubar.add_cascade(label=name,menu=submenu)\n",
    "        #最关键的一步,主菜单与app关联\n",
    "        self.master.config(menu=menubar)\n",
    "        #右键菜单\n",
    "        menu = Menu(self.master)\n",
    "        menu.add_command(label = \"剪切\",command = self.cut)\n",
    "        menu.add_command(label = \"复制\",command = self.copy)\n",
    "        menu.add_command(label = \"黏贴\",command = self.paste)\n",
    "        #绑定鼠标右键呼出\n",
    "        if (self.master.tk.call('tk', 'windowingsystem')=='aqua'):\n",
    "            self.master.bind('<2>', lambda e: menu.post(e.x_root, e.y_root))\n",
    "            self.master.bind('<Control-1>', lambda e: menu.post(e.x_root, e.y_root))\n",
    "        else:\n",
    "            self.master.bind('<3>', lambda e: menu.post(e.x_root, e.y_root))\n",
    "\n",
    "    def createWidgets(self):\n",
    "\n",
    "        self.shortcutbar = Frame(self,height = 25,bg = \"light sea green\")\n",
    "        self.shortcutbar.pack(expand = NO,fill =X)\n",
    "\n",
    "        self.lnlabel = Label(self,width = 2,bg = \"antique white\")\n",
    "        self.lnlabel.pack(side = LEFT,anchor = 'nw',fill = Y)\n",
    "\n",
    "        self.textPad = Text(self,bg = \"antique white\")\n",
    "        self.textPad.pack()\n",
    "        self.textPad.insert(INSERT,\"Hello\")\n",
    "        self.textPad.insert(END,\"world\")\n",
    "\n",
    "\n",
    "        self.textPad.bind(\"<Control-N>\",self.new)\n",
    "        self.textPad.bind(\"<Control-n>\",self.new)\n",
    "        self.textPad.bind(\"<Control-O>\",self.myopen)\n",
    "        self.textPad.bind(\"<Control-o>\",self.myopen)\n",
    "        self.textPad.bind(\"<Control-S>\",self.save)\n",
    "        self.textPad.bind(\"<Control-s>\",self.save)\n",
    "        self.textPad.bind(\"<Control-A>\",lambda : self.textPad.tag_add('sel',1.0,\"end\"))\n",
    "        self.textPad.bind(\"<Control-a>\",lambda : self.textPad.tag_add('sel',1.0,\"end\"))\n",
    "\n",
    "    def  myopen(self):\n",
    "        self.filename = askopenfilename(defaultextension = \".txt\")\n",
    "        if self.filename == \"\":\n",
    "            self.filename = None\n",
    "        else:\n",
    "            self.master.title(\"一个记事本\"+os.path.basename(self.filename))\n",
    "            self.textPad.delete(\"1.0\",\"end\")\n",
    "            with open(self.filename,\"r\") as f:\n",
    "                s = f.read()\n",
    "                self.textPad.insert(\"1.0\",s)\n",
    "\n",
    "    def new(self):\n",
    "        self.master.title(\"未命名文件\")\n",
    "        self.filename = None\n",
    "        self.textPad.delete(\"1.0\",END)\n",
    "\n",
    "    def save(self):\n",
    "        try:\n",
    "            with open(self.filename,\"w\") as f:\n",
    "                msg = self.textPad.get(1.0,\"end\")\n",
    "                f.write(msg)\n",
    "        except :\n",
    "            self.saveas()\n",
    "\n",
    "    def saveas(self):\n",
    "        f = asksaveasfilename(initialfile = \"未命名. txt\",defaultextension = \".txt\")\n",
    "        self.filename = f\n",
    "        with open(f,\"w\") as fh:\n",
    "            msg = self.textPad.get(1.0,\"end\")\n",
    "            fh.write(msg)\n",
    "        self.master.title(\"一个记事本\"+os.path.basename(f))\n",
    "\n",
    "    def cut(self):\n",
    "        self.textPad.event_generate(\"<<Cut>>\")\n",
    "\n",
    "    def copy(self):\n",
    "        self.textPad.event_generate(\"<<Copy>>\")\n",
    "\n",
    "    def paste(self):\n",
    "        self.textPad.event_generate(\"<<Paste>>\")\n",
    "\n",
    "    def author(self):\n",
    "        self.shouinfo(\"作者黄思喆\")\n",
    "\n",
    "    def power(self):\n",
    "        self.showinfo(\"本软件使用BSD许可证\")\n",
    "\n",
    "\n",
    "if __name__ ==\"__main__\":\n",
    "    app = Application()\n",
    "    # 设置窗口标题:\n",
    "    app.master.title('一个记事本')\n",
    "\n",
    "    #app.master.geometry(\"300x300+100+100\")#长x宽+x+y\n",
    "    # 主消息循环:\n",
    "    app.mainloop()"
   ]
  },
  {
   "cell_type": "code",
   "execution_count": 31,
   "metadata": {
    "collapsed": true
   },
   "outputs": [],
   "source": [
    "%exec_py src/editer.py"
   ]
  }
 ],
 "metadata": {
  "kernelspec": {
   "display_name": "Python 3",
   "language": "python",
   "name": "python3"
  },
  "language_info": {
   "codemirror_mode": {
    "name": "ipython",
    "version": 3
   },
   "file_extension": ".py",
   "mimetype": "text/x-python",
   "name": "python",
   "nbconvert_exporter": "python",
   "pygments_lexer": "ipython3",
   "version": "3.6.0"
  }
 },
 "nbformat": 4,
 "nbformat_minor": 1
}
