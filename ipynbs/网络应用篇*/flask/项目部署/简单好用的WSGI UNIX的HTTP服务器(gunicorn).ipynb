{
 "cells": [
  {
   "cell_type": "markdown",
   "metadata": {},
   "source": [
    "[gunicorn](https://github.com/benoitc/gunicorn)应该是python上最简单好部署的专业服务器了.它的定位就和apache一样,服务器"
   ]
  },
  {
   "cell_type": "markdown",
   "metadata": {},
   "source": [
    "安装:\n",
    "\n",
    "    pip install gunicorn"
   ]
  },
  {
   "cell_type": "markdown",
   "metadata": {},
   "source": [
    "> 运行"
   ]
  },
  {
   "cell_type": "code",
   "execution_count": 1,
   "metadata": {
    "collapsed": false
   },
   "outputs": [
    {
     "name": "stdout",
     "output_type": "stream",
     "text": [
      "from flask import Flask\r\n",
      "app = Flask(__name__)\r\n",
      "app.debug = True\r\n",
      "\r\n",
      "@app.route('/')\r\n",
      "def hello():\r\n",
      "    return \"Hello, world! - Flask\"\r\n",
      "\r\n",
      "if __name__ == '__main__':\r\n",
      "    app.run()"
     ]
    }
   ],
   "source": [
    "!cat firstapp.py"
   ]
  },
  {
   "cell_type": "markdown",
   "metadata": {},
   "source": [
    "> 多进程多worker工作"
   ]
  },
  {
   "cell_type": "code",
   "execution_count": 4,
   "metadata": {
    "collapsed": false,
    "scrolled": true
   },
   "outputs": [
    {
     "name": "stdout",
     "output_type": "stream",
     "text": [
      "[2016-02-26 14:54:33 +0800] [13686] [INFO] Starting gunicorn 19.4.5\n",
      "[2016-02-26 14:54:33 +0800] [13686] [INFO] Listening at: http://127.0.0.1:8000 (13686)\n",
      "[2016-02-26 14:54:33 +0800] [13686] [INFO] Using worker: sync\n",
      "[2016-02-26 14:54:33 +0800] [13689] [INFO] Booting worker with pid: 13689\n",
      "[2016-02-26 14:54:33 +0800] [13690] [INFO] Booting worker with pid: 13690\n",
      "^C[2016-02-26 14:56:40 +0800] [13686] [INFO] Handling signal: int\n",
      "\n",
      "[2016-02-26 14:56:40 +0800] [13689] [INFO] Worker exiting (pid: 13689)\n",
      "[2016-02-26 14:56:40 +0800] [13690] [INFO] Worker exiting (pid: 13690)\n",
      "[2016-02-26 14:56:40 +0800] [13686] [INFO] Shutting down: Master\n"
     ]
    }
   ],
   "source": [
    "!gunicorn --w 2 firstapp:app"
   ]
  },
  {
   "cell_type": "markdown",
   "metadata": {},
   "source": [
    "> 用gevent做异步服务器,现在也支持eventlent和tornado了"
   ]
  },
  {
   "cell_type": "code",
   "execution_count": 5,
   "metadata": {
    "collapsed": false
   },
   "outputs": [
    {
     "name": "stdout",
     "output_type": "stream",
     "text": [
      "[2016-02-26 15:00:29 +0800] [13742] [INFO] Starting gunicorn 19.4.5\n",
      "[2016-02-26 15:00:29 +0800] [13742] [INFO] Listening at: http://127.0.0.1:8000 (13742)\n",
      "[2016-02-26 15:00:29 +0800] [13742] [INFO] Using worker: gevent\n",
      "[2016-02-26 15:00:29 +0800] [13745] [INFO] Booting worker with pid: 13745\n",
      "^C[2016-02-26 15:00:36 +0800] [13742] [INFO] Handling signal: int\n",
      "\n",
      "[2016-02-26 15:00:37 +0800] [13745] [INFO] Worker exiting (pid: 13745)\n",
      "[2016-02-26 15:00:37 +0800] [13742] [INFO] Shutting down: Master\n"
     ]
    }
   ],
   "source": [
    "!gunicorn -k gevent firstapp:app"
   ]
  },
  {
   "cell_type": "markdown",
   "metadata": {},
   "source": [
    ">作为守护进程使用 -D"
   ]
  },
  {
   "cell_type": "markdown",
   "metadata": {},
   "source": [
    "> 设置ip地址和端口 -b 绑定"
   ]
  },
  {
   "cell_type": "markdown",
   "metadata": {},
   "source": [
    "    gunicorn -b 192.168.0.123:8080 firstapp:app"
   ]
  },
  {
   "cell_type": "markdown",
   "metadata": {},
   "source": [
    "其他大量的设置可以在[这边](http://docs.gunicorn.org/en/stable/settings.html)看到"
   ]
  },
  {
   "cell_type": "markdown",
   "metadata": {},
   "source": [
    "> 设置文档 \n",
    "\n",
    "    --config CONFIG"
   ]
  },
  {
   "cell_type": "markdown",
   "metadata": {},
   "source": [
    "配置nginx反向代理"
   ]
  },
  {
   "cell_type": "markdown",
   "metadata": {},
   "source": [
    "    location / {\n",
    "            try_files $uri @test;\n",
    "        }\n",
    "\n",
    "        location @test {\n",
    "            proxy_set_header X-Forwarded-For $proxy_add_x_forwarded_for;\n",
    "            proxy_set_header Host $http_host;\n",
    "            proxy_pass http://127.0.0.1:8000;\n",
    "        } \n"
   ]
  },
  {
   "cell_type": "markdown",
   "metadata": {},
   "source": [
    "## 如何选择多少个worker\n",
    "\n",
    "一般是\n",
    "\n",
    "$$ (2 * $num\\_cores) + 1 $$"
   ]
  }
 ],
 "metadata": {
  "kernelspec": {
   "display_name": "Python 2",
   "language": "python",
   "name": "python2"
  },
  "language_info": {
   "codemirror_mode": {
    "name": "ipython",
    "version": 2
   },
   "file_extension": ".py",
   "mimetype": "text/x-python",
   "name": "python",
   "nbconvert_exporter": "python",
   "pygments_lexer": "ipython2",
   "version": "2.7.11"
  }
 },
 "nbformat": 4,
 "nbformat_minor": 0
}
