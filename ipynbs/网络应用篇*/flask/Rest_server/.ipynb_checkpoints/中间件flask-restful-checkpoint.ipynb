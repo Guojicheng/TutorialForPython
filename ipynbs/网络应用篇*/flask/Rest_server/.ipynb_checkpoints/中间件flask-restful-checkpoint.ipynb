{
 "cells": [
  {
   "cell_type": "markdown",
   "metadata": {},
   "source": [
    "# 中间件flask-restful\n",
    "\n",
    "前面我们手工写api,绑定view,然后返回一个json,这种方式相当原始,\n",
    "\n",
    "我们可以用[`flask-restful`](http://flask-restful.readthedocs.org/en/latest/index.html)来创建api,它可以直接pip安装"
   ]
  },
  {
   "cell_type": "markdown",
   "metadata": {},
   "source": [
    "Flask-RESTful 提供的最主要的基础就是资源(resources)。资源(Resources)是构建在 Flask 可拔插视图 之上，只要在你的资源(resource)上定义方法就能够容易地访问多个 HTTP 方法。一个待办事项应用程序的基本的 CRUD 资源看起来像这样:"
   ]
  },
  {
   "cell_type": "code",
   "execution_count": 2,
   "metadata": {
    "collapsed": false
   },
   "outputs": [
    {
     "name": "stdout",
     "output_type": "stream",
     "text": [
      "Overwriting codes/c4/app.py\n"
     ]
    }
   ],
   "source": [
    "%%writefile codes/c4/app.py\n",
    "# --*-- coding:utf-8 --*--\n",
    "from flask import Flask,request,jsonify\n",
    "from flask_restful import Api,Resource\n",
    "from functools import reduce\n",
    "app = Flask(__name__)\n",
    "api = Api(app)\n",
    "todos = {\"+\":lambda *x:sum(x),\n",
    "        \"-\":lambda *x:reduce(lambda i,j:i-j,x),\n",
    "        \"*\":lambda *x:sum(x),\n",
    "        \"/\":lambda *x:reduce(lambda i,j:i/j,x)\n",
    "        }\n",
    "\n",
    "class TodoSimple(Resource):\n",
    "         \n",
    "    def get(self,todo_id):\n",
    "        return jsonify({todo_id:todos.get(todo_id,lambda x,y: \"undefined\")(10,5)})\n",
    "         \n",
    "    def put(self, todo_id):\n",
    "        todos[todo_id] = eval(str(request.form['data']))\n",
    "        return {todo_id: str(request.form['data'])}\n",
    "\n",
    "api.add_resource(TodoSimple, '/<string:todo_id>')\n",
    "\n",
    "if __name__ == '__main__':\n",
    "    app.run(debug=True)\n",
    "\n"
   ]
  },
  {
   "cell_type": "code",
   "execution_count": 1,
   "metadata": {
    "collapsed": false
   },
   "outputs": [],
   "source": [
    "from requests import put, get,delete,post"
   ]
  },
  {
   "cell_type": "code",
   "execution_count": 2,
   "metadata": {
    "collapsed": false
   },
   "outputs": [
    {
     "data": {
      "text/plain": [
       "{u'+': 15}"
      ]
     },
     "execution_count": 2,
     "metadata": {},
     "output_type": "execute_result"
    }
   ],
   "source": [
    "get('http://localhost:5000/+').json()"
   ]
  },
  {
   "cell_type": "code",
   "execution_count": 3,
   "metadata": {
    "collapsed": false
   },
   "outputs": [
    {
     "data": {
      "text/plain": [
       "{u'-': 5}"
      ]
     },
     "execution_count": 3,
     "metadata": {},
     "output_type": "execute_result"
    }
   ],
   "source": [
    "get('http://localhost:5000/-').json()"
   ]
  },
  {
   "cell_type": "code",
   "execution_count": 4,
   "metadata": {
    "collapsed": false
   },
   "outputs": [
    {
     "data": {
      "text/plain": [
       "{u'%': u'lambda *x: reduce(lambda i,j:i%j,x)'}"
      ]
     },
     "execution_count": 4,
     "metadata": {},
     "output_type": "execute_result"
    }
   ],
   "source": [
    "put('http://localhost:5000/%', data={'data': 'lambda *x: reduce(lambda i,j:i%j,x)'}).json()"
   ]
  },
  {
   "cell_type": "code",
   "execution_count": 5,
   "metadata": {
    "collapsed": false
   },
   "outputs": [
    {
     "data": {
      "text/plain": [
       "{u'%': 0}"
      ]
     },
     "execution_count": 5,
     "metadata": {},
     "output_type": "execute_result"
    }
   ],
   "source": [
    "get('http://localhost:5000/%').json()"
   ]
  },
  {
   "cell_type": "markdown",
   "metadata": {},
   "source": [
    "## 多url共用api"
   ]
  },
  {
   "cell_type": "code",
   "execution_count": 7,
   "metadata": {
    "collapsed": false
   },
   "outputs": [
    {
     "name": "stdout",
     "output_type": "stream",
     "text": [
      "Overwriting codes/c4/app2.py\n"
     ]
    }
   ],
   "source": [
    "%%writefile codes/c4/app2.py\n",
    "# --*-- coding:utf-8 --*--\n",
    "from flask import Flask,request,jsonify\n",
    "from flask_restful import Api,Resource\n",
    "from functools import reduce\n",
    "app = Flask(__name__)\n",
    "api = Api(app)\n",
    "todos = {\"+\":lambda *x:sum(x),\n",
    "        \"-\":lambda *x:reduce(lambda i,j:i-j,x),\n",
    "        \"*\":lambda *x:sum(x),\n",
    "        \"/\":lambda *x:reduce(lambda i,j:i/j,x)\n",
    "        }\n",
    "\n",
    "class TodoSimple(Resource):\n",
    "         \n",
    "    def get(self,todo_id):\n",
    "        return jsonify({todo_id:todos.get(todo_id,lambda x,y: \"undefined\")(10,5)})\n",
    "         \n",
    "    def put(self, todo_id):\n",
    "        todos[todo_id] = eval(str(request.form['data']))\n",
    "        return {todo_id: str(request.form['data'])}\n",
    "\n",
    "api.add_resource(TodoSimple,\n",
    "                 '/<string:todo_id>',\n",
    "                '/api/<string:todo_id>')\n",
    "\n",
    "if __name__ == '__main__':\n",
    "    app.run(debug=True)\n",
    "\n"
   ]
  },
  {
   "cell_type": "code",
   "execution_count": 8,
   "metadata": {
    "collapsed": false
   },
   "outputs": [
    {
     "data": {
      "text/plain": [
       "{u'-': 5}"
      ]
     },
     "execution_count": 8,
     "metadata": {},
     "output_type": "execute_result"
    }
   ],
   "source": [
    "get('http://localhost:5000/api/-').json()"
   ]
  },
  {
   "cell_type": "markdown",
   "metadata": {},
   "source": [
    "##  解析参数(post,put)\n",
    "\n",
    "尽管 Flask 能够简单地访问请求数据(比如查询字符串或者 POST 表单编码的数据)，验证表单数据仍然很痛苦。Flask-RESTful 内置了支持验证请求数据，它使用了一个类似 argparse 的库。\n",
    "\n",
    "需要注意地是与 argparse 模块不同，reqparse.RequestParser.parse_args() 返回一个 Python 字典而不是一个自定义的数据结构。\n",
    "\n",
    "使用 reqparse 模块同样可以自由地提供聪明的错误信息。如果参数没有通过验证，Flask-RESTful 将会以一个 400 错误请求以及高亮的错误信息回应。"
   ]
  },
  {
   "cell_type": "markdown",
   "metadata": {},
   "source": [
    "## 数据格式化\n",
    "\n",
    "默认情况下，在你的返回迭代中所有字段将会原样呈现。尽管当你刚刚处理 Python 数据结构的时候，觉得这是一个伟大的工作，但是当实际处理它们的时候，会觉得十分沮丧和枯燥。为了解决这个问题，Flask-RESTful 提供了 fields 模块和 marshal_with() 装饰器。类似 Django ORM 和 WTForm，你可以使用 fields 模块来在你的响应中格式化结构。"
   ]
  },
  {
   "cell_type": "code",
   "execution_count": 9,
   "metadata": {
    "collapsed": false
   },
   "outputs": [
    {
     "name": "stdout",
     "output_type": "stream",
     "text": [
      "Writing codes/c4/app3.py\n"
     ]
    }
   ],
   "source": [
    "%%writefile codes/c4/app3.py\n",
    "# --*-- coding:utf-8 --*--\n",
    "from flask import Flask\n",
    "from flask_restful import reqparse, abort, Api, Resource\n",
    "\n",
    "app = Flask(__name__)\n",
    "api = Api(app)\n",
    "\n",
    "TODOS = {\n",
    "    'todo1': {'task': 'build an API'},\n",
    "    'todo2': {'task': '?????'},\n",
    "    'todo3': {'task': 'profit!'},\n",
    "}\n",
    "\n",
    "\n",
    "def abort_if_todo_doesnt_exist(todo_id):\n",
    "    if todo_id not in TODOS:\n",
    "        abort(404, message=\"Todo {} doesn't exist\".format(todo_id))\n",
    "\n",
    "parser = reqparse.RequestParser()\n",
    "parser.add_argument('task', type=str)\n",
    "\n",
    "\n",
    "# Todo\n",
    "#   show a single todo item and lets you delete them\n",
    "class Todo(Resource):\n",
    "    def get(self, todo_id):\n",
    "        abort_if_todo_doesnt_exist(todo_id)\n",
    "        return TODOS[todo_id]\n",
    "\n",
    "    def delete(self, todo_id):\n",
    "        abort_if_todo_doesnt_exist(todo_id)\n",
    "        del TODOS[todo_id]\n",
    "        return '', 204\n",
    "\n",
    "    def put(self, todo_id):\n",
    "        args = parser.parse_args()\n",
    "        task = {'task': args['task']}\n",
    "        TODOS[todo_id] = task\n",
    "        return task, 201\n",
    "\n",
    "\n",
    "# TodoList\n",
    "#   shows a list of all todos, and lets you POST to add new tasks\n",
    "class TodoList(Resource):\n",
    "    def get(self):\n",
    "        return TODOS\n",
    "\n",
    "    def post(self):\n",
    "        args = parser.parse_args()\n",
    "        todo_id = int(max(TODOS.keys()).lstrip('todo')) + 1\n",
    "        todo_id = 'todo%i' % todo_id\n",
    "        TODOS[todo_id] = {'task': args['task']}\n",
    "        return TODOS[todo_id], 201\n",
    "\n",
    "##\n",
    "## Actually setup the Api resource routing here\n",
    "##\n",
    "api.add_resource(TodoList, '/todos')\n",
    "api.add_resource(Todo, '/todos/<todo_id>')\n",
    "\n",
    "\n",
    "if __name__ == '__main__':\n",
    "    app.run(debug=True)"
   ]
  },
  {
   "cell_type": "code",
   "execution_count": 10,
   "metadata": {
    "collapsed": false
   },
   "outputs": [
    {
     "data": {
      "text/plain": [
       "{u'todo1': {u'task': u'build an API'},\n",
       " u'todo2': {u'task': u'?????'},\n",
       " u'todo3': {u'task': u'profit!'}}"
      ]
     },
     "execution_count": 10,
     "metadata": {},
     "output_type": "execute_result"
    }
   ],
   "source": [
    "get('http://localhost:5000/todos').json()#查看全部"
   ]
  },
  {
   "cell_type": "code",
   "execution_count": 11,
   "metadata": {
    "collapsed": false
   },
   "outputs": [
    {
     "data": {
      "text/plain": [
       "{u'task': u'build an API'}"
      ]
     },
     "execution_count": 11,
     "metadata": {},
     "output_type": "execute_result"
    }
   ],
   "source": [
    "get('http://localhost:5000/todos/todo1').json()#查看单独"
   ]
  },
  {
   "cell_type": "code",
   "execution_count": 12,
   "metadata": {
    "collapsed": false
   },
   "outputs": [
    {
     "data": {
      "text/plain": [
       "<Response [204]>"
      ]
     },
     "execution_count": 12,
     "metadata": {},
     "output_type": "execute_result"
    }
   ],
   "source": [
    "delete('http://localhost:5000/todos/todo3')#删除"
   ]
  },
  {
   "cell_type": "code",
   "execution_count": 13,
   "metadata": {
    "collapsed": false
   },
   "outputs": [
    {
     "data": {
      "text/plain": [
       "{u'todo1': {u'task': u'build an API'}, u'todo2': {u'task': u'?????'}}"
      ]
     },
     "execution_count": 13,
     "metadata": {},
     "output_type": "execute_result"
    }
   ],
   "source": [
    "get('http://localhost:5000/todos').json()"
   ]
  },
  {
   "cell_type": "code",
   "execution_count": 14,
   "metadata": {
    "collapsed": false
   },
   "outputs": [
    {
     "data": {
      "text/plain": [
       "{u'task': u'something new'}"
      ]
     },
     "execution_count": 14,
     "metadata": {},
     "output_type": "execute_result"
    }
   ],
   "source": [
    "post('http://localhost:5000/todos',data={\"task\":\"something new\"}).json()#新增"
   ]
  },
  {
   "cell_type": "code",
   "execution_count": 15,
   "metadata": {
    "collapsed": false
   },
   "outputs": [
    {
     "data": {
      "text/plain": [
       "{u'todo1': {u'task': u'build an API'},\n",
       " u'todo2': {u'task': u'?????'},\n",
       " u'todo3': {u'task': u'something new'}}"
      ]
     },
     "execution_count": 15,
     "metadata": {},
     "output_type": "execute_result"
    }
   ],
   "source": [
    "get('http://localhost:5000/todos').json()"
   ]
  },
  {
   "cell_type": "code",
   "execution_count": 16,
   "metadata": {
    "collapsed": false
   },
   "outputs": [
    {
     "data": {
      "text/plain": [
       "<Response [201]>"
      ]
     },
     "execution_count": 16,
     "metadata": {},
     "output_type": "execute_result"
    }
   ],
   "source": [
    "put('http://localhost:5000/todos/todo3',data={'task':'something different'})#更新"
   ]
  },
  {
   "cell_type": "code",
   "execution_count": 17,
   "metadata": {
    "collapsed": false
   },
   "outputs": [
    {
     "data": {
      "text/plain": [
       "{u'todo1': {u'task': u'build an API'},\n",
       " u'todo2': {u'task': u'?????'},\n",
       " u'todo3': {u'task': u'something different'}}"
      ]
     },
     "execution_count": 17,
     "metadata": {},
     "output_type": "execute_result"
    }
   ],
   "source": [
    "get('http://localhost:5000/todos').json()"
   ]
  }
 ],
 "metadata": {
  "kernelspec": {
   "display_name": "Python 2",
   "language": "python",
   "name": "python2"
  },
  "language_info": {
   "codemirror_mode": {
    "name": "ipython",
    "version": 2
   },
   "file_extension": ".py",
   "mimetype": "text/x-python",
   "name": "python",
   "nbconvert_exporter": "python",
   "pygments_lexer": "ipython2",
   "version": "2.7.11"
  }
 },
 "nbformat": 4,
 "nbformat_minor": 0
}
