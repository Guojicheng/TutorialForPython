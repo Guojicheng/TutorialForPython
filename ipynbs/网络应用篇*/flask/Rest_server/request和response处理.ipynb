{
 "cells": [
  {
   "cell_type": "markdown",
   "metadata": {},
   "source": [
    "# request和response处理\n",
    "\n",
    "## request\n",
    "\n",
    "flask的request实际上就是Werkzeug中的request,它是一个上下文内容(类似在koa中的上下文)\n",
    "\n",
    "它常用的Api如下:\n",
    "\n",
    "API|说明\n",
    "---|---\n",
    "form|一个包含解析过的从 POST 或 PUT 请求发送的表单对象的 MultiDict 。请注意上传的文件不会在这里，而是在 files 属性中。\n",
    "args|一个包含解析过的查询字符串（ URL 中问号后的部分）内容的 MultiDict 。\n",
    "values|一个包含 form 和 args 全部内容的 CombinedMultiDict 。\n",
    "cookies|一个包含请求中传送的所有 cookie 内容的 dict 。\n",
    "stream|如果表单提交的数据没有以已知的 mimetype 编码，为性能考虑，数据会不经修改存储在这个流中。大多数情况下，使用可以把数据提供为字符串的 data 是更好的方法。流只返回一次数据。\n",
    "headers|进入请求的标头存为一个类似字典的对象。\n",
    "data|如果进入的请求数据是 Flask 不能处理的 mimetype ，数据将作为字符串存于此。\n",
    "files|一个包含 POST 和 PUT 请求中上传的文件的 MultiDict 。每个文件存储为 FileStorage 对象。其基本的行为类似你在 Python 中见到的标准文件对象，差异在于这个对象有一个 save() 方法可以把文件存储到文件系统上。\n",
    "method|当前请求的 HTTP 方法 (POST ， GET 等等)\n",
    "json|如果 mimetype 是` application/json`,这个参数将是传入的json数据,否则为空,可以用`get_json()`方法替代\n",
    "path|url的实际请求页面(类似文件)\n",
    "script_root|url的底层路由,不包含请求页面(类似文件夹)\n",
    "base_url|url的实际路由,不包含url参数\n",
    "url|全部url\n",
    "url_root|url实际url的底层路由,不包含请求页面(类似文件夹)"
   ]
  },
  {
   "cell_type": "markdown",
   "metadata": {},
   "source": [
    "## response\n",
    "\n",
    "相对而言,response就简单些,它负责设置返回的http内容,包括设置头,设置状态,设置内容,设置内容种类,设置cookie\n",
    "\n",
    "它的Api如下:\n",
    "\n",
    "API|说明\n",
    "---|---\n",
    "headers|Headers 对象表示响应的标头。\n",
    "status|字符串表示的响应状态。\n",
    "status_code|整数表示的响应状态。\n",
    "data|设置内容数据\n",
    "mimetype|设置mimetype\n",
    "set_cookie(key, value='', max_age=None, expires=None, path='/', domain=None, secure=None, httponly=False)|设置cookie<br>参数:<br>key – the key (name) of the cookie to be set.<br>value – the value of the cookie.<br>max_age – should be a number of seconds, or None (default) if the cookie should last only as long as the client’s browser session.<br>expires – should be a datetime object or UNIX timestamp.<br>domain – if you want to set a cross-domain cookie. For example, domain=\".example.com\" will set a cookie that is readable by the domain www.example.com, foo.example.com etc. Otherwise, a cookie will only be readable by the domain that set it.<br>path – limits the cookie to a given path, per default it will span the whole domain."
   ]
  }
 ],
 "metadata": {
  "kernelspec": {
   "display_name": "Python 2",
   "language": "python",
   "name": "python2"
  },
  "language_info": {
   "codemirror_mode": {
    "name": "ipython",
    "version": 2
   },
   "file_extension": ".py",
   "mimetype": "text/x-python",
   "name": "python",
   "nbconvert_exporter": "python",
   "pygments_lexer": "ipython2",
   "version": "2.7.11"
  }
 },
 "nbformat": 4,
 "nbformat_minor": 0
}
