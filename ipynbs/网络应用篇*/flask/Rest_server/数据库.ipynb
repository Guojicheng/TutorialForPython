{
 "cells": [
  {
   "cell_type": "markdown",
   "metadata": {},
   "source": [
    "# 数据库\n",
    "\n",
    "常见的数据库分为两种\n",
    "\n",
    "+ 非关系型数据库\n",
    "+ 关系数据库\n",
    "\n",
    "我们就分两块来研究"
   ]
  },
  {
   "cell_type": "markdown",
   "metadata": {},
   "source": [
    "## 关系数据库与orm\n",
    "\n",
    "关系数据库一般都是用orm来操作,毕竟这样更加直观,最常见的orm是sqlalchemy,但它太重了,这边就不讲了,我会介绍两个相对轻的orm"
   ]
  },
  {
   "cell_type": "markdown",
   "metadata": {},
   "source": [
    "### pony.orm\n",
    "\n",
    "[Pony](https://docs.ponyorm.com/firststeps.html)是一个独特的ORM,它提供了干净的接口和select表达式的列表解析式检索功能,非常的pythonic,更有卖点的是它还额外提供了一个根据类图直接生成代码的工具,非常适合原型开发."
   ]
  },
  {
   "cell_type": "code",
   "execution_count": 2,
   "metadata": {
    "collapsed": false
   },
   "outputs": [],
   "source": [
    "from pony import orm"
   ]
  },
  {
   "cell_type": "markdown",
   "metadata": {},
   "source": [
    "pony只支持绝对地址引入数据库"
   ]
  },
  {
   "cell_type": "code",
   "execution_count": 1,
   "metadata": {
    "collapsed": false
   },
   "outputs": [],
   "source": [
    "import os"
   ]
  },
  {
   "cell_type": "code",
   "execution_count": 3,
   "metadata": {
    "collapsed": false
   },
   "outputs": [],
   "source": [
    "db = orm.Database()"
   ]
  },
  {
   "cell_type": "code",
   "execution_count": 4,
   "metadata": {
    "collapsed": false
   },
   "outputs": [],
   "source": [
    "class User(db.Entity):\n",
    "    name = orm.Required(unicode)\n",
    "    password = orm.Required(unicode)\n",
    "    type = orm.Required(unicode,default=u\"local\")"
   ]
  },
  {
   "cell_type": "code",
   "execution_count": 5,
   "metadata": {
    "collapsed": false
   },
   "outputs": [
    {
     "name": "stdout",
     "output_type": "stream",
     "text": [
      "class User(Entity):\n",
      "    id = PrimaryKey(int, auto=True)\n",
      "    name = Required(unicode)\n",
      "    password = Required(unicode)\n",
      "    type = Required(unicode, default=u'local')\n"
     ]
    }
   ],
   "source": [
    "orm.show(User)"
   ]
  },
  {
   "cell_type": "markdown",
   "metadata": {},
   "source": [
    "与数据库文件绑定:"
   ]
  },
  {
   "cell_type": "code",
   "execution_count": 6,
   "metadata": {
    "collapsed": false
   },
   "outputs": [],
   "source": [
    "db.bind('sqlite', os.path.abspath(\"codes/c6/pony_db.sqlite\"),create_db=True)"
   ]
  },
  {
   "cell_type": "markdown",
   "metadata": {},
   "source": [
    "建立映射:"
   ]
  },
  {
   "cell_type": "code",
   "execution_count": 7,
   "metadata": {
    "collapsed": true
   },
   "outputs": [],
   "source": [
    "db.generate_mapping(create_tables=True)"
   ]
  },
  {
   "cell_type": "markdown",
   "metadata": {},
   "source": [
    "#### 创建表格\n",
    "\n",
    "> 新增数据"
   ]
  },
  {
   "cell_type": "code",
   "execution_count": 8,
   "metadata": {
    "collapsed": false
   },
   "outputs": [],
   "source": [
    "p1 = User(name='John',password=\"1234\")\n",
    "p2 = User(name='Mary', password=\"2234\")\n",
    "p3 = User(name='Bob',password=\"3234\")"
   ]
  },
  {
   "cell_type": "code",
   "execution_count": 9,
   "metadata": {
    "collapsed": true
   },
   "outputs": [],
   "source": [
    "orm.commit()"
   ]
  },
  {
   "cell_type": "markdown",
   "metadata": {},
   "source": [
    "#### 查询"
   ]
  },
  {
   "cell_type": "code",
   "execution_count": 10,
   "metadata": {
    "collapsed": false
   },
   "outputs": [
    {
     "data": {
      "text/plain": [
       "[User[1], User[2], User[3]]"
      ]
     },
     "execution_count": 10,
     "metadata": {},
     "output_type": "execute_result"
    }
   ],
   "source": [
    "orm.select(p for p in User)[:]"
   ]
  },
  {
   "cell_type": "code",
   "execution_count": 11,
   "metadata": {
    "collapsed": false
   },
   "outputs": [
    {
     "name": "stdout",
     "output_type": "stream",
     "text": [
      "id|name|password|type \n",
      "--+----+--------+-----\n",
      "1 |John|1234    |local\n",
      "2 |Mary|2234    |local\n",
      "3 |Bob |3234    |local\n"
     ]
    }
   ],
   "source": [
    "orm.select(p for p in User).show()"
   ]
  },
  {
   "cell_type": "code",
   "execution_count": 12,
   "metadata": {
    "collapsed": false
   },
   "outputs": [
    {
     "name": "stdout",
     "output_type": "stream",
     "text": [
      "id|name|password|type \n",
      "--+----+--------+-----\n",
      "1 |John|1234    |local\n",
      "2 |Mary|2234    |local\n",
      "3 |Bob |3234    |local\n"
     ]
    }
   ],
   "source": [
    "User.select().show()"
   ]
  },
  {
   "cell_type": "code",
   "execution_count": 13,
   "metadata": {
    "collapsed": false
   },
   "outputs": [
    {
     "data": {
      "text/plain": [
       "User[1]"
      ]
     },
     "execution_count": 13,
     "metadata": {},
     "output_type": "execute_result"
    }
   ],
   "source": [
    "User.get(name=\"John\")"
   ]
  },
  {
   "cell_type": "markdown",
   "metadata": {},
   "source": [
    "#### 更新数据"
   ]
  },
  {
   "cell_type": "code",
   "execution_count": 14,
   "metadata": {
    "collapsed": true
   },
   "outputs": [],
   "source": [
    "User.get(name=\"John\").password=\"4234\""
   ]
  },
  {
   "cell_type": "code",
   "execution_count": 15,
   "metadata": {
    "collapsed": true
   },
   "outputs": [],
   "source": [
    "orm.commit()"
   ]
  },
  {
   "cell_type": "code",
   "execution_count": 16,
   "metadata": {
    "collapsed": false
   },
   "outputs": [
    {
     "data": {
      "text/plain": [
       "u'4234'"
      ]
     },
     "execution_count": 16,
     "metadata": {},
     "output_type": "execute_result"
    }
   ],
   "source": [
    "User.get(name=\"John\").password"
   ]
  },
  {
   "cell_type": "markdown",
   "metadata": {},
   "source": [
    "#### 删除数据"
   ]
  },
  {
   "cell_type": "code",
   "execution_count": 17,
   "metadata": {
    "collapsed": true
   },
   "outputs": [],
   "source": [
    "User.get(id=3).delete()\n",
    "orm.commit()"
   ]
  },
  {
   "cell_type": "code",
   "execution_count": 18,
   "metadata": {
    "collapsed": false
   },
   "outputs": [
    {
     "name": "stdout",
     "output_type": "stream",
     "text": [
      "id|name|password|type \n",
      "--+----+--------+-----\n",
      "1 |John|4234    |local\n",
      "2 |Mary|2234    |local\n"
     ]
    }
   ],
   "source": [
    "User.select().show()"
   ]
  },
  {
   "cell_type": "markdown",
   "metadata": {},
   "source": [
    "#### 定义关系"
   ]
  },
  {
   "cell_type": "markdown",
   "metadata": {},
   "source": [
    "> 一对一\n",
    "\n",
    "一对一关系有两种:\n",
    "\n",
    "+ Optional-Required:\n",
    "\n",
    "+ Optional-Optional:"
   ]
  },
  {
   "cell_type": "markdown",
   "metadata": {},
   "source": [
    "```python\n",
    "class Person(db.Entity):\n",
    "    passport = orm.Optional(\"Passport\")\n",
    "class Passport(db.Entity):\n",
    "    person = orm.Required(\"Person\")\n",
    "```"
   ]
  },
  {
   "cell_type": "markdown",
   "metadata": {},
   "source": [
    "> 一对多\n",
    "\n",
    "一对多也是两种可能\n",
    "\n",
    "+ Set-Required\n",
    "\n",
    "+ Set-Optional\n",
    "\n",
    "\n",
    "   \n",
    "```python   \n",
    "class Order(db.Entity):\n",
    "    items = Set(\"OrderItem\")\n",
    "\n",
    "class OrderItem(db.Entity):\n",
    "    order = Required(Order)\n",
    "```"
   ]
  },
  {
   "cell_type": "markdown",
   "metadata": {},
   "source": [
    "> 多对多\n",
    "\n",
    "多对多就是用Set\n",
    "\n",
    "```python\n",
    "class Product(db.Entity):\n",
    "    tags = Set(\"Tag\")\n",
    "\n",
    "class Tag(db.Entity):\n",
    "    products = Set(Product)\n",
    "        \n",
    "```"
   ]
  },
  {
   "cell_type": "markdown",
   "metadata": {},
   "source": [
    "> 提及自己\n",
    "\n",
    "这种类型分为堆成关系和非对称关系,比如你是你妈妈的孩子,你妈妈不是你的孩子,这种就是非对称关系,比如你是你老婆的配偶 ,你老婆也是你的配偶,这就是对称关系,这两种又可以分成一对多,一对一这两种,也就是一共四种关系模型\n",
    "\n",
    "```python\n",
    "class Person(db.Entity):\n",
    "    name = Required(str)\n",
    "    spouse = Optional(\"Person\", reverse=\"spouse\") # 配偶在Person中找,是一对一(要不就犯法了),对称关系\n",
    "    friends = Set(\"Person\", reverse=\"friends\")    # 好友也在Person中找,是一对多,对称关系\n",
    "    manager = Optional(\"Person\", reverse=\"employees\") # 主管,一对一,非对称\n",
    "    employees = Set(\"Person\", reverse=\"manager\") # 员工,一对多,非对称\n",
    "\n",
    "```"
   ]
  },
  {
   "cell_type": "markdown",
   "metadata": {},
   "source": [
    "> 多重关系\n",
    "\n",
    "多重关系比较复杂了,像下面这个推特的模型,用户写的推特和用户之间的关系就要像如下的定义方式\n",
    "\n",
    "```python\n",
    "class User(db.Entity):\n",
    "    tweets = Set(\"Tweet\", reverse=\"author\")\n",
    "    favorites = Set(\"Tweet\", reverse=\"favorited\")\n",
    "\n",
    "class Tweet(db.Entity):\n",
    "    author = Required(User, reverse=\"tweets\")\n",
    "    favorited = Set(User, reverse=\"favorites\")\n",
    "```"
   ]
  },
  {
   "cell_type": "markdown",
   "metadata": {},
   "source": [
    "注意:\n",
    "\n",
    "在非交互环境下,所有增删改查操作必须在`db_session`中进行,可以使用`with db_session`或者将其作为修饰符"
   ]
  },
  {
   "cell_type": "markdown",
   "metadata": {},
   "source": [
    "#### ER图原型设计\n",
    "\n",
    "pony官方还给了一个原型设计的工具https://editor.ponyorm.com/"
   ]
  },
  {
   "cell_type": "markdown",
   "metadata": {},
   "source": [
    "##### 用pony改造uesr的增删改查操作"
   ]
  },
  {
   "cell_type": "code",
   "execution_count": 19,
   "metadata": {
    "collapsed": false
   },
   "outputs": [
    {
     "name": "stdout",
     "output_type": "stream",
     "text": [
      "Overwriting codes/c6/app.py\n"
     ]
    }
   ],
   "source": [
    "%%writefile codes/c6/app.py\n",
    "# --*-- coding:utf-8 --*--\n",
    "from flask import Flask,request,jsonify\n",
    "from flask_restful import Api,Resource\n",
    "import json\n",
    "\n",
    "app = Flask(__name__)\n",
    "api = Api(app)\n",
    "\n",
    "import os\n",
    "\n",
    "from pony import orm\n",
    "\n",
    "db = orm.Database()\n",
    "class User(db.Entity):\n",
    "    name = orm.Required(unicode)\n",
    "    password = orm.Required(unicode)\n",
    "    type = orm.Required(unicode,default=u\"local\")\n",
    "    \n",
    "    def __str__(self):\n",
    "        return \"<USER: id-{self.id}--name-{self.name}>\".format(self=self)\n",
    "    def __repr__(self):\n",
    "        return self.__str__()\n",
    "    \n",
    "db.bind('sqlite', os.path.abspath(\"pony_db.sqlite\"),create_db=True)\n",
    "db.generate_mapping(create_tables=True)\n",
    "\n",
    "\n",
    "@app.errorhandler(404)\n",
    "def page_not_found(error):\n",
    "    return jsonify({\"message\":\"404 not found\",\"code\":404}), 404\n",
    "\n",
    "class UsersAPI(Resource):\n",
    "    \n",
    "    def get(self):\n",
    "        with orm.db_session :\n",
    "            result = map(lambda x:x.__str__(),User.select()[:])\n",
    "        return {\"result\":result}\n",
    "     \n",
    "    @orm.db_session\n",
    "    def post(self):\n",
    "        data = json.loads(request.data)\n",
    "        user = User(name = data.get(\"name\"),password =data.get(\"password\"))\n",
    "        return jsonify({\"result\":\"save {name} done!\".format(name=user.name)})\n",
    "    \n",
    "class UserAPI(Resource):\n",
    "    @orm.db_session\n",
    "    def get(self,user_id):\n",
    "        \n",
    "        user = User.get(id=user_id)\n",
    "        if not user:\n",
    "            abort(404)\n",
    "            \n",
    "        result = {\"name\":user.name,\"password\":user.password,\"type\":user.type}\n",
    "        return jsonify({\"result\":result})\n",
    "    \n",
    "    @orm.db_session   \n",
    "    def put(self,user_id):\n",
    "        data = request.args\n",
    "        user =User.get(id=user_id)\n",
    "        if request.args.get(\"name\"):\n",
    "            user.name=data.get(\"name\")\n",
    "        if request.args.get(\"password\"):\n",
    "            user.password=data.get(\"password\")\n",
    "        \n",
    "        return jsonify({\"result\":\"update {name} done!\".format(name=user_id)})  \n",
    "    @orm.db_session\n",
    "    def delete(self,user_id):\n",
    "        \n",
    "        User.get(id=user_id).delete()\n",
    "        return jsonify({\"result\":\"delete {id} done!\".format(id=user_id)})  \n",
    "    \n",
    "    \n",
    "api.add_resource(UsersAPI, '/users/')        \n",
    "api.add_resource(UserAPI, '/user/<int:user_id>')  \n",
    "\n",
    "if __name__ == '__main__':\n",
    "    app.run(debug=True)\n",
    "\n",
    "\n"
   ]
  },
  {
   "cell_type": "code",
   "execution_count": 1,
   "metadata": {
    "collapsed": true
   },
   "outputs": [],
   "source": [
    "import requests\n",
    "import json"
   ]
  },
  {
   "cell_type": "code",
   "execution_count": 2,
   "metadata": {
    "collapsed": false
   },
   "outputs": [
    {
     "data": {
      "text/plain": [
       "{u'result': u'save niuniu done!'}"
      ]
     },
     "execution_count": 2,
     "metadata": {},
     "output_type": "execute_result"
    }
   ],
   "source": [
    "requests.post(\"http://127.0.0.1:5000/users/\",data = json.dumps({\"name\":\"niuniu\",\"password\":\"qwe\"}),\n",
    "              headers={'content-type': 'application/json'}).json()"
   ]
  },
  {
   "cell_type": "code",
   "execution_count": 3,
   "metadata": {
    "collapsed": false
   },
   "outputs": [
    {
     "data": {
      "text/plain": [
       "{u'result': [u'<USER: id-1--name-John>',\n",
       "  u'<USER: id-2--name-Mary>',\n",
       "  u'<USER: id-4--name-niuniu>']}"
      ]
     },
     "execution_count": 3,
     "metadata": {},
     "output_type": "execute_result"
    }
   ],
   "source": [
    "requests.get(\"http://127.0.0.1:5000/users/\").json()"
   ]
  },
  {
   "cell_type": "code",
   "execution_count": 4,
   "metadata": {
    "collapsed": false
   },
   "outputs": [
    {
     "data": {
      "text/plain": [
       "{u'result': {u'name': u'Mary', u'password': u'2234', u'type': u'local'}}"
      ]
     },
     "execution_count": 4,
     "metadata": {},
     "output_type": "execute_result"
    }
   ],
   "source": [
    "requests.get(\"http://127.0.0.1:5000/user/2\").json()"
   ]
  },
  {
   "cell_type": "markdown",
   "metadata": {},
   "source": [
    "### peewee\n",
    "\n",
    "[peewee](http://docs.peewee-orm.com/en/latest/)是python的超轻量级ORM,它对数据库io效率的影响比较小,而且关键的接口干净,非常适合和写RESTFUL服务\n",
    "\n",
    "安装:\n",
    "\n",
    "pip install peewee"
   ]
  },
  {
   "cell_type": "markdown",
   "metadata": {},
   "source": [
    "### 数据库连接\n",
    "\n",
    "peewee支持主流的mysql,sqlite3,和postgresql基本功能,并且可以通过插件支持postgresql的全新json特性,也支持shema迁移等特性.\n",
    "\n",
    "以sqlite为例:"
   ]
  },
  {
   "cell_type": "code",
   "execution_count": 5,
   "metadata": {
    "collapsed": true
   },
   "outputs": [],
   "source": [
    "from peewee import SqliteDatabase\n",
    "import os"
   ]
  },
  {
   "cell_type": "code",
   "execution_count": 6,
   "metadata": {
    "collapsed": true
   },
   "outputs": [],
   "source": [
    "db = SqliteDatabase(os.path.abspath(\"codes/c6/peewee_db.sqlite\"))"
   ]
  },
  {
   "cell_type": "markdown",
   "metadata": {},
   "source": [
    "# 基本功能:\n",
    "\n",
    "创建映射类:\n",
    "\n",
    "映射类必须继承自Model或者它的子类,各个字段的定义也是直观的`XxxField()`的样式,定义的字段类型有:\n",
    "\n",
    "Field Type\t|Sqlite|\tPostgresql|\tMySQL\n",
    "---|---|---|---\n",
    "CharField\t|varchar\t|varchar|\tvarchar\n",
    "FixedCharField\t|char\t|char|\tchar\n",
    "TextField\t|text|\ttext\t|longtext\n",
    "DateTimeField|\tdatetime\t|timestamp|\tdatetime\n",
    "IntegerField\t|integer|\tinteger\t|integer\n",
    "BooleanField\t|integer|\tboolean|\tbool\n",
    "FloatField|\treal\t|real\t|real\n",
    "DoubleField\t|real\t|double precision|\tdouble precision\n",
    "BigIntegerField\t|integer|\tbigint|\tbigint\n",
    "SmallIntegerField\t|integer\t|smallint\t|smallint\n",
    "DecimalField\t|decimal|\tnumeric|\tnumeric\n",
    "PrimaryKeyField\t|integer|\tserial|\tinteger\n",
    "ForeignKeyField\t|integer|\tinteger|\tinteger\n",
    "DateField\t|date|\tdate\t|date\n",
    "TimeField\t|time\t|time\t|time\n",
    "BlobField\t|blob\t|bytea\t|blob\n",
    "UUIDField\t|text\t|uuid\t|varchar(40)\n",
    "BareField\t|untyped\t|not supported|\tnot supported\n",
    "\n",
    "里面可以选择是否加入参数说明\n",
    "\n",
    "通用的参数有:\n",
    "\n",
    "参数|取值|默认值|说明\n",
    "---|---|---\n",
    "null | 布尔值|False|是否可以为空\n",
    "index |布尔值|False|是否创建索引\n",
    "unique |布尔值| False|是否唯一 \n",
    "verbose_name |str|None|别名 \n",
    "help_text | str|None |帮助文档\n",
    "db_column|str| None | 数据库中的名字\n",
    "default|object|None|默认值 \n",
    "choices|tuple|None|可选值\n",
    "primary_key|布尔值|False|主键 \n",
    "sequence|---|None|序列,但必须要数据库本身支持\n",
    "constraints|---|None|限制,例子:[Check('price > 0')]\n",
    "schema |---| None |可选的schema名字,但必须要数据库本身支持\n",
    "\n",
    "特殊参数:\n",
    "\n",
    "Field type\t|Special Parameters\n",
    "---|---\n",
    "CharField|\tmax_length\n",
    "FixedCharField\t|max_length\n",
    "DateTimeField\t|formats\n",
    "DateField\t|formats\n",
    "TimeField\t|formats\n",
    "DecimalField\t|max_digits, decimal_places, auto_round, rounding\n",
    "ForeignKeyField\t|rel_model, related_name, to_field, on_delete, on_update, extra\n",
    "BareField\t|coerce\n",
    "\n"
   ]
  },
  {
   "cell_type": "code",
   "execution_count": 7,
   "metadata": {
    "collapsed": true
   },
   "outputs": [],
   "source": [
    "from peewee import Model,CharField,DateField,BooleanField,ForeignKeyField"
   ]
  },
  {
   "cell_type": "code",
   "execution_count": 8,
   "metadata": {
    "collapsed": false
   },
   "outputs": [],
   "source": [
    "class User(Model):\n",
    "    name = CharField()\n",
    "    password = CharField()\n",
    "    type = CharField(default=\"local\")\n",
    "\n",
    "    class Meta:\n",
    "        database = db # 确定使用的是哪个db,方便多种数据库配合使用"
   ]
  },
  {
   "cell_type": "markdown",
   "metadata": {},
   "source": [
    "#### 创建会话"
   ]
  },
  {
   "cell_type": "code",
   "execution_count": 9,
   "metadata": {
    "collapsed": true
   },
   "outputs": [],
   "source": [
    "db.connect()"
   ]
  },
  {
   "cell_type": "markdown",
   "metadata": {},
   "source": [
    "#### 创建对应的数据库"
   ]
  },
  {
   "cell_type": "code",
   "execution_count": 10,
   "metadata": {
    "collapsed": false
   },
   "outputs": [],
   "source": [
    "db.create_tables([User])"
   ]
  },
  {
   "cell_type": "markdown",
   "metadata": {},
   "source": [
    "#### 增删改查\n",
    "\n",
    "##### 增 "
   ]
  },
  {
   "cell_type": "code",
   "execution_count": 11,
   "metadata": {
    "collapsed": true
   },
   "outputs": [],
   "source": [
    "p1 = User(name='John',password=\"1234\")\n",
    "p2 = User(name='Mary', password=\"2234\")\n",
    "p3 = User(name='Bob',password=\"3234\")"
   ]
  },
  {
   "cell_type": "code",
   "execution_count": 12,
   "metadata": {
    "collapsed": false
   },
   "outputs": [
    {
     "data": {
      "text/plain": [
       "1"
      ]
     },
     "execution_count": 12,
     "metadata": {},
     "output_type": "execute_result"
    }
   ],
   "source": [
    "p1.save()\n",
    "p2.save()\n",
    "p3.save()"
   ]
  },
  {
   "cell_type": "markdown",
   "metadata": {},
   "source": [
    " 使用save()方法将会将这条数据保存到数据库,并返回它的主键,另一种方法是使用映射类的静态方法(`create()`)"
   ]
  },
  {
   "cell_type": "code",
   "execution_count": 13,
   "metadata": {
    "collapsed": false
   },
   "outputs": [
    {
     "data": {
      "text/plain": [
       "<__main__.User at 0x1065241d0>"
      ]
     },
     "execution_count": 13,
     "metadata": {},
     "output_type": "execute_result"
    }
   ],
   "source": [
    "User.create(name='Tom',password=\"4234\")"
   ]
  },
  {
   "cell_type": "markdown",
   "metadata": {},
   "source": [
    "##### 查"
   ]
  },
  {
   "cell_type": "code",
   "execution_count": 14,
   "metadata": {
    "collapsed": false
   },
   "outputs": [],
   "source": [
    "john = User.get(User.name=='John')"
   ]
  },
  {
   "cell_type": "code",
   "execution_count": 15,
   "metadata": {
    "collapsed": false
   },
   "outputs": [
    {
     "data": {
      "text/plain": [
       "u'John'"
      ]
     },
     "execution_count": 15,
     "metadata": {},
     "output_type": "execute_result"
    }
   ],
   "source": [
    "john.name"
   ]
  },
  {
   "cell_type": "code",
   "execution_count": 16,
   "metadata": {
    "collapsed": false
   },
   "outputs": [
    {
     "name": "stdout",
     "output_type": "stream",
     "text": [
      "John\n",
      "Mary\n",
      "Bob\n",
      "Tom\n"
     ]
    }
   ],
   "source": [
    "for user in User.select():\n",
    "    print user.name"
   ]
  },
  {
   "cell_type": "markdown",
   "metadata": {},
   "source": [
    "也可以用where方法来做筛选"
   ]
  },
  {
   "cell_type": "code",
   "execution_count": 17,
   "metadata": {
    "collapsed": false
   },
   "outputs": [
    {
     "data": {
      "text/plain": [
       "[u'Bob']"
      ]
     },
     "execution_count": 17,
     "metadata": {},
     "output_type": "execute_result"
    }
   ],
   "source": [
    "[p.name for p in User.select().where(User.name == 'Bob')]"
   ]
  },
  {
   "cell_type": "markdown",
   "metadata": {},
   "source": [
    "##### 改"
   ]
  },
  {
   "cell_type": "code",
   "execution_count": 18,
   "metadata": {
    "collapsed": false
   },
   "outputs": [
    {
     "data": {
      "text/plain": [
       "1"
      ]
     },
     "execution_count": 18,
     "metadata": {},
     "output_type": "execute_result"
    }
   ],
   "source": [
    "john = User.get(User.name=='John')\n",
    "john.password = \"5234\"\n",
    "john.save()"
   ]
  },
  {
   "cell_type": "markdown",
   "metadata": {},
   "source": [
    "直接修改属性就可以了"
   ]
  },
  {
   "cell_type": "markdown",
   "metadata": {},
   "source": [
    "##### 删"
   ]
  },
  {
   "cell_type": "code",
   "execution_count": 19,
   "metadata": {
    "collapsed": false
   },
   "outputs": [
    {
     "data": {
      "text/plain": [
       "1"
      ]
     },
     "execution_count": 19,
     "metadata": {},
     "output_type": "execute_result"
    }
   ],
   "source": [
    "john.delete_instance()"
   ]
  },
  {
   "cell_type": "code",
   "execution_count": 20,
   "metadata": {
    "collapsed": false,
    "scrolled": false
   },
   "outputs": [
    {
     "data": {
      "text/plain": [
       "[u'Mary', u'Bob', u'Tom']"
      ]
     },
     "execution_count": 20,
     "metadata": {},
     "output_type": "execute_result"
    }
   ],
   "source": [
    "[user.name for user in list(User.select())]"
   ]
  },
  {
   "cell_type": "markdown",
   "metadata": {},
   "source": [
    "##### 用peewee改造uesr的增删改查操作"
   ]
  },
  {
   "cell_type": "code",
   "execution_count": 1,
   "metadata": {
    "collapsed": false
   },
   "outputs": [
    {
     "name": "stdout",
     "output_type": "stream",
     "text": [
      "Overwriting codes/c6/app2.py\n"
     ]
    }
   ],
   "source": [
    "%%writefile codes/c6/app2.py\n",
    "# --*-- coding:utf-8 --*--\n",
    "from flask import Flask,request,jsonify\n",
    "from flask_restful import Api,Resource\n",
    "import json\n",
    "\n",
    "app = Flask(__name__)\n",
    "api = Api(app)\n",
    "\n",
    "import os\n",
    "\n",
    "from peewee import SqliteDatabase\n",
    "db = SqliteDatabase(os.path.abspath(\"peewee_db.sqlite\"))\n",
    "from peewee import Model,CharField,DateField,BooleanField,ForeignKeyField\n",
    "class User(Model):\n",
    "    name = CharField()\n",
    "    password = CharField()\n",
    "    type = CharField(default=\"local\")\n",
    "    def __str__(self):\n",
    "        return \"<USER: id-{self.id}--name-{self.name}>\".format(self=self)\n",
    "    def __repr__(self):\n",
    "        return self.__str__()\n",
    "    class Meta:\n",
    "        database = db # 确定使用的是哪个db,方便多种数据库配合使用\n",
    "        \n",
    "db.connect()    \n",
    "\n",
    "@app.errorhandler(404)\n",
    "def page_not_found(error):\n",
    "    return jsonify({\"message\":\"404 not found\",\"code\":404}), 404\n",
    "\n",
    "class UsersAPI(Resource):\n",
    "    \n",
    "    def get(self):\n",
    "        result = [user.__str__() for user in list(User.select())]\n",
    "        return {\"result\":result}\n",
    "\n",
    "    def post(self):\n",
    "        data = json.loads(request.data)\n",
    "        user = User(name = data.get(\"name\"),password =data.get(\"password\")).save()\n",
    "        return jsonify({\"result\":\"save {name} done!\".format(name=data.get(\"name\"))})\n",
    "    \n",
    "class UserAPI(Resource):\n",
    "\n",
    "    def get(self,user_id):\n",
    "        \n",
    "        user = User.get(User.id==user_id)\n",
    "        if not user:\n",
    "            abort(404)\n",
    "            \n",
    "        result = {\"name\":user.name,\"password\":user.password,\"type\":user.type}\n",
    "        return jsonify({\"result\":result})\n",
    "    \n",
    "  \n",
    "    def put(self,user_id):\n",
    "        data = request.args\n",
    "        user = User.get(User.id==user_id)\n",
    "        if request.args.get(\"name\"):\n",
    "            user.name=data.get(\"name\")\n",
    "        if request.args.get(\"password\"):\n",
    "            user.password=data.get(\"password\")\n",
    "        user.save()\n",
    "        \n",
    "        return jsonify({\"result\":\"update {name} done!\".format(name=user_id)})  \n",
    "\n",
    "    def delete(self,user_id):\n",
    "        \n",
    "        User.get(User.id==user_id).delete_instance() \n",
    "        return jsonify({\"result\":\"delete {id} done!\".format(id=user_id)})  \n",
    "    \n",
    "    \n",
    "api.add_resource(UsersAPI, '/users/')        \n",
    "api.add_resource(UserAPI, '/user/<int:user_id>')  \n",
    "\n",
    "if __name__ == '__main__':\n",
    "    app.run(debug=True)\n"
   ]
  },
  {
   "cell_type": "code",
   "execution_count": 29,
   "metadata": {
    "collapsed": true
   },
   "outputs": [],
   "source": [
    "import requests\n",
    "import json"
   ]
  },
  {
   "cell_type": "code",
   "execution_count": 30,
   "metadata": {
    "collapsed": false
   },
   "outputs": [
    {
     "data": {
      "text/plain": [
       "{u'result': u'save niuniu done!'}"
      ]
     },
     "execution_count": 30,
     "metadata": {},
     "output_type": "execute_result"
    }
   ],
   "source": [
    "requests.post(\"http://127.0.0.1:5000/users/\",data = json.dumps({\"name\":\"niuniu\",\"password\":\"qwe\"}),\n",
    "              headers={'content-type': 'application/json'}).json()"
   ]
  },
  {
   "cell_type": "code",
   "execution_count": 2,
   "metadata": {
    "collapsed": false
   },
   "outputs": [
    {
     "ename": "NameError",
     "evalue": "name 'requests' is not defined",
     "output_type": "error",
     "traceback": [
      "\u001b[0;31m---------------------------------------------------------------------------\u001b[0m",
      "\u001b[0;31mNameError\u001b[0m                                 Traceback (most recent call last)",
      "\u001b[0;32m<ipython-input-2-bae9d0a0066e>\u001b[0m in \u001b[0;36m<module>\u001b[0;34m()\u001b[0m\n\u001b[0;32m----> 1\u001b[0;31m \u001b[0mrequests\u001b[0m\u001b[0;34m.\u001b[0m\u001b[0mget\u001b[0m\u001b[0;34m(\u001b[0m\u001b[0;34m\"http://127.0.0.1:5000/users/\"\u001b[0m\u001b[0;34m)\u001b[0m\u001b[0;34m.\u001b[0m\u001b[0mjson\u001b[0m\u001b[0;34m(\u001b[0m\u001b[0;34m)\u001b[0m\u001b[0;34m\u001b[0m\u001b[0m\n\u001b[0m",
      "\u001b[0;31mNameError\u001b[0m: name 'requests' is not defined"
     ]
    }
   ],
   "source": [
    "requests.get(\"http://127.0.0.1:5000/users/\").json()"
   ]
  },
  {
   "cell_type": "code",
   "execution_count": 32,
   "metadata": {
    "collapsed": false
   },
   "outputs": [
    {
     "data": {
      "text/plain": [
       "{u'result': {u'name': u'Mary', u'password': u'2234', u'type': u'local'}}"
      ]
     },
     "execution_count": 32,
     "metadata": {},
     "output_type": "execute_result"
    }
   ],
   "source": [
    "requests.get(\"http://127.0.0.1:5000/user/2\").json()"
   ]
  },
  {
   "cell_type": "markdown",
   "metadata": {},
   "source": [
    "## 非关系数据库\n",
    "\n",
    "非关系数据库我们只讲最常用的redis和mongodb,他们适合独立使用"
   ]
  },
  {
   "cell_type": "markdown",
   "metadata": {},
   "source": [
    "### Redis\n",
    "\n",
    "[Redis](http://www.redis.net.cn/tutorial/3503.html)一般用于将数据保存在缓存中,是速度最快的非关系数据库之一,\n",
    "常用的库是redis\n",
    "\n",
    "查看redis是否开启可以使用`ps -ef | grep redis`命令,\n",
    "\n",
    "redis是键值对非关系数据库,详细的使用方法可以参考"
   ]
  },
  {
   "cell_type": "code",
   "execution_count": 35,
   "metadata": {
    "collapsed": true
   },
   "outputs": [],
   "source": [
    "import redis"
   ]
  },
  {
   "cell_type": "code",
   "execution_count": 36,
   "metadata": {
    "collapsed": false
   },
   "outputs": [],
   "source": [
    "User = redis.StrictRedis(host='localhost', port=6379, db=0)"
   ]
  },
  {
   "cell_type": "code",
   "execution_count": 37,
   "metadata": {
    "collapsed": false
   },
   "outputs": [
    {
     "data": {
      "text/plain": [
       "True"
      ]
     },
     "execution_count": 37,
     "metadata": {},
     "output_type": "execute_result"
    }
   ],
   "source": [
    "User.hmset(1,{\"name\":'John',\"password\":\"1234\",\"type\":\"local\"})\n",
    "User.hmset(2,{\"name\":'Mary', \"password\":\"2234\",\"type\":\"local\"})\n",
    "User.hmset(3,{\"name\":'Bob', \"password\":\"3234\",\"type\":\"local\"})"
   ]
  },
  {
   "cell_type": "code",
   "execution_count": 38,
   "metadata": {
    "collapsed": false
   },
   "outputs": [
    {
     "data": {
      "text/plain": [
       "{'name': 'John', 'password': '1234', 'type': 'local'}"
      ]
     },
     "execution_count": 38,
     "metadata": {},
     "output_type": "execute_result"
    }
   ],
   "source": [
    "User.hgetall(1)"
   ]
  },
  {
   "cell_type": "code",
   "execution_count": 39,
   "metadata": {
    "collapsed": false
   },
   "outputs": [
    {
     "data": {
      "text/plain": [
       "{'name': 'Mary', 'password': '2234', 'type': 'local'}"
      ]
     },
     "execution_count": 39,
     "metadata": {},
     "output_type": "execute_result"
    }
   ],
   "source": [
    "User.hgetall(2)"
   ]
  },
  {
   "cell_type": "code",
   "execution_count": 44,
   "metadata": {
    "collapsed": false
   },
   "outputs": [
    {
     "data": {
      "text/plain": [
       "['3', '2', '1']"
      ]
     },
     "execution_count": 44,
     "metadata": {},
     "output_type": "execute_result"
    }
   ],
   "source": [
    "User.keys()"
   ]
  },
  {
   "cell_type": "code",
   "execution_count": 47,
   "metadata": {
    "collapsed": false
   },
   "outputs": [
    {
     "data": {
      "text/plain": [
       "['1234', 'local', 'John']"
      ]
     },
     "execution_count": 47,
     "metadata": {},
     "output_type": "execute_result"
    }
   ],
   "source": [
    "User.hvals(1)"
   ]
  },
  {
   "cell_type": "code",
   "execution_count": 16,
   "metadata": {
    "collapsed": false
   },
   "outputs": [
    {
     "data": {
      "text/plain": [
       "True"
      ]
     },
     "execution_count": 16,
     "metadata": {},
     "output_type": "execute_result"
    }
   ],
   "source": [
    "User.hmset(1,{\"name\":'John',\"password\":\"12434\",\"type\":\"local\"})"
   ]
  },
  {
   "cell_type": "code",
   "execution_count": 17,
   "metadata": {
    "collapsed": false
   },
   "outputs": [
    {
     "data": {
      "text/plain": [
       "{'name': 'John', 'password': '12434', 'type': 'local'}"
      ]
     },
     "execution_count": 17,
     "metadata": {},
     "output_type": "execute_result"
    }
   ],
   "source": [
    "User.hgetall(1)"
   ]
  },
  {
   "cell_type": "markdown",
   "metadata": {},
   "source": [
    "#### 使用Redis作为数据库改造user增删改查服务"
   ]
  },
  {
   "cell_type": "code",
   "execution_count": 54,
   "metadata": {
    "collapsed": false
   },
   "outputs": [
    {
     "name": "stdout",
     "output_type": "stream",
     "text": [
      "Overwriting codes/c6/app3.py\n"
     ]
    }
   ],
   "source": [
    "%%writefile codes/c6/app3.py\n",
    "# --*-- coding:utf-8 --*--\n",
    "from flask import Flask,request,jsonify\n",
    "from flask_restful import Api,Resource\n",
    "import json\n",
    "\n",
    "app = Flask(__name__)\n",
    "api = Api(app)\n",
    "\n",
    "import redis\n",
    "User = redis.StrictRedis(host='localhost', port=6379, db=0)\n",
    "        \n",
    "@app.errorhandler(404)\n",
    "def page_not_found(error):\n",
    "    return jsonify({\"message\":\"404 not found\",\"code\":404}), 404\n",
    "\n",
    "class UsersAPI(Resource):\n",
    "    \n",
    "    def get(self):\n",
    "        result = zip(User.keys(),map(lambda x:User.hgetall(x),User.keys()))\n",
    "        return {\"result\":result}\n",
    "\n",
    "    def post(self):\n",
    "        _id = max(map(lambda x:int(x),User.keys()))+1\n",
    "        data = json.loads(request.data)\n",
    "        data[\"type\"]=\"local\"\n",
    "        User.hmset(_id,data)\n",
    "        return jsonify({\"result\":\"save {name} done!\".format(name=data.get(\"name\"))})\n",
    "    \n",
    "class UserAPI(Resource):\n",
    "\n",
    "    def get(self,user_id):\n",
    "        \n",
    "        user = User.hgetall(user_id)\n",
    "        if not user:\n",
    "            abort(404)\n",
    "            \n",
    "\n",
    "        return jsonify({\"result\":user})\n",
    "    \n",
    "  \n",
    "    def put(self,user_id):\n",
    "        data = request.args\n",
    "        user = User.hgetall(user_id)\n",
    "        if not request.args.get(\"name\"):\n",
    "            data[\"name\"]=user.get(\"name\")\n",
    "            \n",
    "        if not request.args.get(\"password\"):\n",
    "            data[\"password\"]=user.get(\"password\")\n",
    "            \n",
    "        User.hmset(user_id,data)\n",
    "        \n",
    "        return jsonify({\"result\":\"update {name} done!\".format(name=user_id)})  \n",
    "\n",
    "    def delete(self,user_id):\n",
    "        \n",
    "        User.delete(user_id)\n",
    "        return jsonify({\"result\":\"delete {id} done!\".format(id=user_id)})  \n",
    "    \n",
    "    \n",
    "api.add_resource(UsersAPI, '/users/')        \n",
    "api.add_resource(UserAPI, '/user/<int:user_id>')  \n",
    "\n",
    "if __name__ == '__main__':\n",
    "    app.run(debug=True)"
   ]
  },
  {
   "cell_type": "code",
   "execution_count": 50,
   "metadata": {
    "collapsed": true
   },
   "outputs": [],
   "source": [
    "import requests\n",
    "import json"
   ]
  },
  {
   "cell_type": "code",
   "execution_count": 51,
   "metadata": {
    "collapsed": false
   },
   "outputs": [
    {
     "data": {
      "text/plain": [
       "{u'result': u'save niuniu done!'}"
      ]
     },
     "execution_count": 51,
     "metadata": {},
     "output_type": "execute_result"
    }
   ],
   "source": [
    "requests.post(\"http://127.0.0.1:5000/users/\",data = json.dumps({\"name\":\"niuniu\",\"password\":\"qwe\"}),\n",
    "              headers={'content-type': 'application/json'}).json()"
   ]
  },
  {
   "cell_type": "code",
   "execution_count": 55,
   "metadata": {
    "collapsed": false
   },
   "outputs": [
    {
     "data": {
      "text/plain": [
       "{u'result': [[u'3',\n",
       "   {u'name': u'Bob', u'password': u'3234', u'type': u'local'}],\n",
       "  [u'2', {u'name': u'Mary', u'password': u'2234', u'type': u'local'}],\n",
       "  [u'4', {u'name': u'niuniu', u'password': u'qwe', u'type': u'local'}],\n",
       "  [u'1', {u'name': u'John', u'password': u'1234', u'type': u'local'}]]}"
      ]
     },
     "execution_count": 55,
     "metadata": {},
     "output_type": "execute_result"
    }
   ],
   "source": [
    "requests.get(\"http://127.0.0.1:5000/users/\").json()"
   ]
  },
  {
   "cell_type": "code",
   "execution_count": 53,
   "metadata": {
    "collapsed": false
   },
   "outputs": [
    {
     "data": {
      "text/plain": [
       "{u'result': {u'name': u'Mary', u'password': u'2234', u'type': u'local'}}"
      ]
     },
     "execution_count": 53,
     "metadata": {},
     "output_type": "execute_result"
    }
   ],
   "source": [
    "requests.get(\"http://127.0.0.1:5000/user/2\").json()"
   ]
  },
  {
   "cell_type": "markdown",
   "metadata": {},
   "source": [
    "### mongodb\n",
    "\n",
    "mongodb大名鼎鼎了,可以直接操作它的是[pymongo](https://api.mongodb.com/python/current/tutorial.html#querying-for-more-than-one-document)\n",
    "\n",
    "基本使用：\n",
    "\n",
    "首先是用`ps -ef | grep mongod`查看mongodb是否在运行,如果不在运行,先开服务\n",
    "\n",
    "#### 创建连接"
   ]
  },
  {
   "cell_type": "code",
   "execution_count": 1,
   "metadata": {
    "collapsed": true
   },
   "outputs": [],
   "source": [
    "from pymongo import MongoClient"
   ]
  },
  {
   "cell_type": "code",
   "execution_count": 2,
   "metadata": {
    "collapsed": false
   },
   "outputs": [],
   "source": [
    "client = MongoClient('mongodb://localhost:27017/')"
   ]
  },
  {
   "cell_type": "markdown",
   "metadata": {},
   "source": [
    "不加参数则是默认连接到本地默认端口"
   ]
  },
  {
   "cell_type": "markdown",
   "metadata": {},
   "source": [
    "#### 连接到数据库"
   ]
  },
  {
   "cell_type": "code",
   "execution_count": 3,
   "metadata": {
    "collapsed": true
   },
   "outputs": [],
   "source": [
    "db = client.User"
   ]
  },
  {
   "cell_type": "markdown",
   "metadata": {},
   "source": [
    "#### 连接到数据库的表(collection)"
   ]
  },
  {
   "cell_type": "code",
   "execution_count": 4,
   "metadata": {
    "collapsed": true
   },
   "outputs": [],
   "source": [
    "User = db.User"
   ]
  },
  {
   "cell_type": "markdown",
   "metadata": {},
   "source": [
    "#### 增加文档(一行数据)"
   ]
  },
  {
   "cell_type": "code",
   "execution_count": 65,
   "metadata": {
    "collapsed": false
   },
   "outputs": [
    {
     "data": {
      "text/plain": [
       "<pymongo.results.InsertManyResult at 0x106b28e60>"
      ]
     },
     "execution_count": 65,
     "metadata": {},
     "output_type": "execute_result"
    }
   ],
   "source": [
    "User.insert_many([{\"name\":'John',\"password\":\"1234\",\"type\":\"local\"},\n",
    "                 {\"name\":'Mary', \"password\":\"2234\",\"type\":\"local\"},\n",
    "                 {\"name\":'Bob', \"password\":\"3234\",\"type\":\"local\"}])"
   ]
  },
  {
   "cell_type": "markdown",
   "metadata": {},
   "source": [
    "#### 查看数据"
   ]
  },
  {
   "cell_type": "code",
   "execution_count": 5,
   "metadata": {
    "collapsed": false
   },
   "outputs": [
    {
     "data": {
      "text/plain": [
       "[{u'_id': ObjectId('574c2150b7e0c715d0b57bce'),\n",
       "  u'name': u'John',\n",
       "  u'password': u'1234',\n",
       "  u'type': u'local'},\n",
       " {u'_id': ObjectId('574c2150b7e0c715d0b57bcf'),\n",
       "  u'name': u'Mary',\n",
       "  u'password': u'2234',\n",
       "  u'type': u'local'}]"
      ]
     },
     "execution_count": 5,
     "metadata": {},
     "output_type": "execute_result"
    }
   ],
   "source": [
    "[i for i in User.find()]"
   ]
  },
  {
   "cell_type": "markdown",
   "metadata": {},
   "source": [
    "#### 修改数据"
   ]
  },
  {
   "cell_type": "code",
   "execution_count": 81,
   "metadata": {
    "collapsed": true
   },
   "outputs": [],
   "source": [
    "bob=User.find_one({\"name\":\"Bob\"})"
   ]
  },
  {
   "cell_type": "code",
   "execution_count": 82,
   "metadata": {
    "collapsed": true
   },
   "outputs": [],
   "source": [
    "bob[\"password\"]= \"12365\""
   ]
  },
  {
   "cell_type": "code",
   "execution_count": 83,
   "metadata": {
    "collapsed": false
   },
   "outputs": [
    {
     "data": {
      "text/plain": [
       "{u'_id': ObjectId('574c2150b7e0c715d0b57bd0'),\n",
       " u'name': u'Bob',\n",
       " u'password': '12365',\n",
       " u'type': u'local'}"
      ]
     },
     "execution_count": 83,
     "metadata": {},
     "output_type": "execute_result"
    }
   ],
   "source": [
    "bob"
   ]
  },
  {
   "cell_type": "code",
   "execution_count": 92,
   "metadata": {
    "collapsed": false
   },
   "outputs": [
    {
     "data": {
      "text/plain": [
       "{u'_id': ObjectId('574c2150b7e0c715d0b57bd0'),\n",
       " u'name': u'Bob',\n",
       " u'password': u'3234',\n",
       " u'type': u'local'}"
      ]
     },
     "execution_count": 92,
     "metadata": {},
     "output_type": "execute_result"
    }
   ],
   "source": [
    "User.find_one_and_replace({\"name\":'Bob'},{\"name\":'Bob', \"password\":\"123457\",\"type\":\"local\"})"
   ]
  },
  {
   "cell_type": "code",
   "execution_count": 93,
   "metadata": {
    "collapsed": false
   },
   "outputs": [
    {
     "data": {
      "text/plain": [
       "[{u'_id': ObjectId('574c2150b7e0c715d0b57bce'),\n",
       "  u'name': u'John',\n",
       "  u'password': u'1234',\n",
       "  u'type': u'local'},\n",
       " {u'_id': ObjectId('574c2150b7e0c715d0b57bcf'),\n",
       "  u'name': u'Mary',\n",
       "  u'password': u'2234',\n",
       "  u'type': u'local'},\n",
       " {u'_id': ObjectId('574c2150b7e0c715d0b57bd0'),\n",
       "  u'name': u'Bob',\n",
       "  u'password': u'123457',\n",
       "  u'type': u'local'}]"
      ]
     },
     "execution_count": 93,
     "metadata": {},
     "output_type": "execute_result"
    }
   ],
   "source": [
    "[i for i in User.find()]"
   ]
  },
  {
   "cell_type": "markdown",
   "metadata": {},
   "source": [
    "#### 删除数据"
   ]
  },
  {
   "cell_type": "code",
   "execution_count": 106,
   "metadata": {
    "collapsed": false
   },
   "outputs": [],
   "source": [
    "from bson.objectid import ObjectId "
   ]
  },
  {
   "cell_type": "code",
   "execution_count": 107,
   "metadata": {
    "collapsed": false
   },
   "outputs": [
    {
     "data": {
      "text/plain": [
       "{u'_id': ObjectId('574c2150b7e0c715d0b57bd0'),\n",
       " u'name': u'Bob',\n",
       " u'password': u'123457',\n",
       " u'type': u'local'}"
      ]
     },
     "execution_count": 107,
     "metadata": {},
     "output_type": "execute_result"
    }
   ],
   "source": [
    "User.find_one_and_delete({'_id':ObjectId('574c2150b7e0c715d0b57bd0')})"
   ]
  },
  {
   "cell_type": "code",
   "execution_count": 108,
   "metadata": {
    "collapsed": false
   },
   "outputs": [
    {
     "data": {
      "text/plain": [
       "[{u'_id': ObjectId('574c2150b7e0c715d0b57bce'),\n",
       "  u'name': u'John',\n",
       "  u'password': u'1234',\n",
       "  u'type': u'local'},\n",
       " {u'_id': ObjectId('574c2150b7e0c715d0b57bcf'),\n",
       "  u'name': u'Mary',\n",
       "  u'password': u'2234',\n",
       "  u'type': u'local'}]"
      ]
     },
     "execution_count": 108,
     "metadata": {},
     "output_type": "execute_result"
    }
   ],
   "source": [
    "[i for i in User.find()]"
   ]
  },
  {
   "cell_type": "markdown",
   "metadata": {},
   "source": [
    "#### 存储文件(GridFS)"
   ]
  },
  {
   "cell_type": "code",
   "execution_count": 6,
   "metadata": {
    "collapsed": true
   },
   "outputs": [],
   "source": [
    "import gridfs"
   ]
  },
  {
   "cell_type": "code",
   "execution_count": 7,
   "metadata": {
    "collapsed": true
   },
   "outputs": [],
   "source": [
    "db2 = client.Imgs"
   ]
  },
  {
   "cell_type": "code",
   "execution_count": 8,
   "metadata": {
    "collapsed": true
   },
   "outputs": [],
   "source": [
    "fs = gridfs.GridFS(db2)"
   ]
  },
  {
   "cell_type": "code",
   "execution_count": 54,
   "metadata": {
    "collapsed": false
   },
   "outputs": [],
   "source": [
    "with open(\"1.jpg\",\"rb\") as f:\n",
    "    data = f.read()\n",
    "a = fs.put(data,format=\"jpg\",filename=\"1.jpg\",owner=\"hsz\",content_type=\"image/jpeg\")"
   ]
  },
  {
   "cell_type": "code",
   "execution_count": 15,
   "metadata": {
    "collapsed": false
   },
   "outputs": [],
   "source": [
    "b =fs.get(a).read()"
   ]
  },
  {
   "cell_type": "code",
   "execution_count": 22,
   "metadata": {
    "collapsed": false
   },
   "outputs": [
    {
     "data": {
      "text/plain": [
       "True"
      ]
     },
     "execution_count": 22,
     "metadata": {},
     "output_type": "execute_result"
    }
   ],
   "source": [
    "fs.exists(filename=\"1.jpg\")"
   ]
  },
  {
   "cell_type": "code",
   "execution_count": 51,
   "metadata": {
    "collapsed": false
   },
   "outputs": [],
   "source": [
    "f2 = fs.find_one({\"filename\":\"1.jpg\"})"
   ]
  },
  {
   "cell_type": "code",
   "execution_count": 45,
   "metadata": {
    "collapsed": true
   },
   "outputs": [],
   "source": [
    "f3 = fs.find_one({\"filename\":\"12.jpg\"})"
   ]
  },
  {
   "cell_type": "code",
   "execution_count": 46,
   "metadata": {
    "collapsed": false
   },
   "outputs": [
    {
     "data": {
      "text/plain": [
       "False"
      ]
     },
     "execution_count": 46,
     "metadata": {},
     "output_type": "execute_result"
    }
   ],
   "source": [
    "True if f3 else False"
   ]
  },
  {
   "cell_type": "code",
   "execution_count": 52,
   "metadata": {
    "collapsed": false
   },
   "outputs": [],
   "source": [
    "f2.content_type"
   ]
  },
  {
   "cell_type": "code",
   "execution_count": 32,
   "metadata": {
    "collapsed": false
   },
   "outputs": [
    {
     "data": {
      "text/plain": [
       "u'jpg'"
      ]
     },
     "execution_count": 32,
     "metadata": {},
     "output_type": "execute_result"
    }
   ],
   "source": [
    "f2.format"
   ]
  },
  {
   "cell_type": "code",
   "execution_count": 30,
   "metadata": {
    "collapsed": false
   },
   "outputs": [],
   "source": [
    "data= f2.read()\n",
    "with open(\"2.jpg\",\"wb\") as f:\n",
    "    f.write(b)"
   ]
  },
  {
   "cell_type": "code",
   "execution_count": 34,
   "metadata": {
    "collapsed": false
   },
   "outputs": [
    {
     "data": {
      "text/plain": [
       "[u'1.jpg', u'11.jpg']"
      ]
     },
     "execution_count": 34,
     "metadata": {},
     "output_type": "execute_result"
    }
   ],
   "source": [
    "fs.list()"
   ]
  },
  {
   "cell_type": "code",
   "execution_count": 39,
   "metadata": {
    "collapsed": false
   },
   "outputs": [
    {
     "data": {
      "text/plain": [
       "u'1.jpg'"
      ]
     },
     "execution_count": 39,
     "metadata": {},
     "output_type": "execute_result"
    }
   ],
   "source": [
    "fs.find({\"owner\":\"hsz\"})[0].name"
   ]
  },
  {
   "cell_type": "markdown",
   "metadata": {
    "collapsed": true
   },
   "source": [
    "> 写一个图片存储的rest服务器"
   ]
  },
  {
   "cell_type": "code",
   "execution_count": 137,
   "metadata": {
    "collapsed": false
   },
   "outputs": [
    {
     "name": "stdout",
     "output_type": "stream",
     "text": [
      "Overwriting codes/c6/appImg.py\n"
     ]
    }
   ],
   "source": [
    "%%writefile codes/c6/appImg.py\n",
    "# --*-- coding:utf-8 --*--\n",
    "from flask import Flask,request,jsonify,make_response\n",
    "from flask_restful import Api,Resource\n",
    "import json\n",
    "\n",
    "app = Flask(__name__)\n",
    "api = Api(app)\n",
    "\n",
    "from pymongo import MongoClient\n",
    "import gridfs\n",
    "from bson.objectid import ObjectId \n",
    "\n",
    "client = MongoClient('mongodb://localhost:27017/')\n",
    "imgdb = client.Imgs\n",
    "fs = gridfs.GridFS(imgdb)\n",
    "@app.errorhandler(404)\n",
    "def page_not_found(error):\n",
    "    return jsonify({\"message\":\"404 not found\",\"code\":404}), 404\n",
    "\n",
    "content_types={\n",
    "    \"jpg\":\"image/jpeg\",\n",
    "    \"png\":\"image/png\",\n",
    "    \"bmp\":\"application/x-bmp\",\n",
    "    \"gif\":\"image/gif\"\n",
    "}\n",
    "\n",
    "class ImgsAPI(Resource):\n",
    "    \n",
    "    def get(self):\n",
    "        names = fs.list()\n",
    "        result = []\n",
    "        \n",
    "        objs = [fs.find_one({\"filename\":i}) for i in names]\n",
    "        for j in objs:\n",
    "            imginfo = {}\n",
    "            imginfo[\"filename\"]=j.name\n",
    "            imginfo[\"id\"]=str(j._id)\n",
    "            result.append(imginfo)\n",
    "        return {\"result\":result}\n",
    "\n",
    "    def post(self):\n",
    "        file_ = request.files['file']\n",
    "        filename = file_.filename\n",
    "        format_= filename.decode(\"utf-8\").split(\".\")[-1].encode(\"utf-8\")\n",
    "        fs.put(file_.read(),format=format_,filename=filename,owner=\"hsz\",content_type=content_types.get(format_))\n",
    "        return {\"result\":\"save {name} done!\".format(name=filename)}\n",
    "    \n",
    "class ImgAPI(Resource):\n",
    "\n",
    "    def get(self,filename):\n",
    "        \n",
    "        img = fs.find_one({\"filename\":filename})\n",
    "        if not img:\n",
    "            abort(404)\n",
    "            \n",
    "        imgdata = fs.get(img._id).read()\n",
    "        response = make_response(imgdata)\n",
    "        response.headers[\"Content-Disposition\"] = \"attachment; filename={filename}\".format(filename=filename)\n",
    "\n",
    "        return response\n",
    "        \n",
    "\n",
    "    def delete(self,filename):\n",
    "        \n",
    "        fs.delete(fs.find_one({\"filename\":filename})._id)\n",
    "        return {\"result\":\"delete {id} done!\".format(id=filename)}\n",
    "    \n",
    "    \n",
    "api.add_resource(ImgsAPI, '/api/imgs/')        \n",
    "api.add_resource(ImgAPI, '/api/img/<string:filename>')  \n",
    "\n",
    "if __name__ == '__main__':\n",
    "    app.run(host=\"0.0.0.0\",debug=True)"
   ]
  },
  {
   "cell_type": "code",
   "execution_count": 60,
   "metadata": {
    "collapsed": true
   },
   "outputs": [],
   "source": [
    "import requests\n",
    "import json"
   ]
  },
  {
   "cell_type": "code",
   "execution_count": 107,
   "metadata": {
    "collapsed": false
   },
   "outputs": [
    {
     "data": {
      "text/plain": [
       "{u'result': [{u'filename': u'1.jpg', u'id': u'574c2c40b7e0c717a6f6ae8f'},\n",
       "  {u'filename': u'11.jpg', u'id': u'574d1835b7e0c71df0bf68f3'},\n",
       "  {u'filename': u'111.jpg', u'id': u'574d34d1b7e0c72479811cb9'},\n",
       "  {u'filename': u'2.jpg', u'id': u'574d3002b7e0c7240819d40a'}]}"
      ]
     },
     "execution_count": 107,
     "metadata": {},
     "output_type": "execute_result"
    }
   ],
   "source": [
    "requests.get(\"http://127.0.0.1:5000/api/imgs/\").json()"
   ]
  },
  {
   "cell_type": "code",
   "execution_count": 105,
   "metadata": {
    "collapsed": true
   },
   "outputs": [],
   "source": [
    "files = {'file': (\"111.jpg\",open(\"1.jpg\",\"rb\"))}"
   ]
  },
  {
   "cell_type": "code",
   "execution_count": 106,
   "metadata": {
    "collapsed": false
   },
   "outputs": [
    {
     "data": {
      "text/plain": [
       "<Response [200]>"
      ]
     },
     "execution_count": 106,
     "metadata": {},
     "output_type": "execute_result"
    }
   ],
   "source": [
    "requests.post(\"http://127.0.0.1:5000/api/imgs/\",files=files)"
   ]
  },
  {
   "cell_type": "code",
   "execution_count": 127,
   "metadata": {
    "collapsed": false
   },
   "outputs": [
    {
     "data": {
      "text/plain": [
       "{u'result': [{u'filename': u'1.jpg', u'id': u'574c2c40b7e0c717a6f6ae8f'},\n",
       "  {u'filename': u'11.jpg', u'id': u'574d1835b7e0c71df0bf68f3'},\n",
       "  {u'filename': u'111.jpg', u'id': u'574d34d1b7e0c72479811cb9'},\n",
       "  {u'filename': u'2.jpg', u'id': u'574d3002b7e0c7240819d40a'}]}"
      ]
     },
     "execution_count": 127,
     "metadata": {},
     "output_type": "execute_result"
    }
   ],
   "source": [
    "requests.get(\"http://127.0.0.1:5000/api/imgs/\").json()"
   ]
  },
  {
   "cell_type": "code",
   "execution_count": 135,
   "metadata": {
    "collapsed": false
   },
   "outputs": [
    {
     "data": {
      "text/plain": [
       "{u'result': u'delete 2.jpg done!'}"
      ]
     },
     "execution_count": 135,
     "metadata": {},
     "output_type": "execute_result"
    }
   ],
   "source": [
    "requests.delete(\"http://127.0.0.1:5000/api/img/2.jpg\").json()"
   ]
  },
  {
   "cell_type": "code",
   "execution_count": 136,
   "metadata": {
    "collapsed": false
   },
   "outputs": [
    {
     "data": {
      "text/plain": [
       "{u'result': [{u'filename': u'1.jpg', u'id': u'574c2c40b7e0c717a6f6ae8f'},\n",
       "  {u'filename': u'11.jpg', u'id': u'574d1835b7e0c71df0bf68f3'},\n",
       "  {u'filename': u'111.jpg', u'id': u'574d34d1b7e0c72479811cb9'}]}"
      ]
     },
     "execution_count": 136,
     "metadata": {},
     "output_type": "execute_result"
    }
   ],
   "source": [
    "requests.get(\"http://127.0.0.1:5000/api/imgs/\").json()"
   ]
  }
 ],
 "metadata": {
  "kernelspec": {
   "display_name": "Python 2.7",
   "language": "python",
   "name": "python2.7"
  },
  "language_info": {
   "codemirror_mode": {
    "name": "ipython",
    "version": 2
   },
   "file_extension": ".py",
   "mimetype": "text/x-python",
   "name": "python",
   "nbconvert_exporter": "python",
   "pygments_lexer": "ipython2",
   "version": "2.7.11"
  }
 },
 "nbformat": 4,
 "nbformat_minor": 0
}
