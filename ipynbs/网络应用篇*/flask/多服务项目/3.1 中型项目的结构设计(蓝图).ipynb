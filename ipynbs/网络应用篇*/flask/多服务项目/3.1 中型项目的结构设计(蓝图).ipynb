{
 "cells": [
  {
   "cell_type": "markdown",
   "metadata": {},
   "source": [
    "在前面的部分我们已经介绍了微型app(一个py文件)和小型app(一个多py文件组成的单模块程序),现在我们来看看如何组织中型应用\n",
    "\n",
    "## 首先是文件组织结构\n",
    "\n",
    "\n",
    "\n",
    "        msgboard\\\n",
    "                |--app\\\n",
    "                |     |--__init__.py\n",
    "                |     |--static\\\n",
    "                |     |        |--js\\\n",
    "                |     |        |--css\\\n",
    "                |     |        |--img\\\n",
    "                |     |        |--fonts\\\n",
    "                |     |     \n",
    "                |     |--templates\\\n",
    "                |     |           |--base.html\n",
    "                |     |           |--blocks\\      \n",
    "                |     |           |--index.html\n",
    "                |     |--model.py\n",
    "                |     |--error.py\n",
    "                |     |--main\\\n",
    "                |     |      |--__init__.py\n",
    "                |     |      |--view.py\n",
    "                |     |      |--form.py\n",
    "                |     |      |--static\\\n",
    "                |     |      |         |--js\\\n",
    "                |     |      |         |--css\\\n",
    "                |     |      |         |--img\\\n",
    "                |     |      |\n",
    "                |     |      |--templates\\\n",
    "                |     |\n",
    "                |     \n",
    "                |--env\\\n",
    "                |--config.py\n",
    "                |--manager.py\n",
    "                |--test\\\n",
    "                |--License\n",
    "                |--requirement.txt\n",
    "            \n",
    "            \n",
    "           \n",
    "                        \n",
    "应对这种规模的代码我们已经不能靠jupyter来做编写工作啦,这个人时候是atom出场的时候啦                        "
   ]
  },
  {
   "cell_type": "markdown",
   "metadata": {},
   "source": [
    "这种结构有 4 个顶级文件夹:\n",
    "\n",
    "+ Flask 程序一般都保存在名为 app 的包中;\n",
    "+ 和之前一样,migrations 文件夹包含数据库迁移脚本;\n",
    "+ 单元测试编写在 test 包中;\n",
    "+ 和之前一样,venv 文件夹包含 Python 虚拟环境。"
   ]
  },
  {
   "cell_type": "markdown",
   "metadata": {},
   "source": [
    "> 工厂方法"
   ]
  },
  {
   "cell_type": "markdown",
   "metadata": {},
   "source": [
    "在单个文件中开发程序很方便,但却有个很大的缺点,因为程序在全局作用域中创建,所 以无法动态修改配置。\n",
    "运行脚本时,程序实例已经创建,再修改配置为时已晚。这一点对单元测试尤其重要,因为有时为了提高测试覆盖度,必须在不同的配置环境中运行程序。\n",
    "这个问题的解决方法是延迟创建程序实例,把创建过程移到可显式调用的工厂函数中。这种方法不仅可以给脚本留出配置程序的时间,还能够创建多个程序实例,这些实例有时在 测试中非常有用。\n",
    "\n",
    "程序的工厂函数在 app 包的构造文件中定义,\n",
    "构造文件导入了大多数正在使用的 Flask 扩展。由于尚未初始化所需的程序实例,所以没 有初始化扩展,创建扩展类时没有向构造函数传入参数。create_app() 函数就是程序的工 厂函数,接受一个参数,是程序使用的配置名。配置类在 config.py 文件中定义,其中保存 的配置可以使用 Flask app.config 配置对象提供的 from_object() 方法直接导入程序。至 于配置对象,则可以通过名字从 config 字典中选择。程序创建并配置好后,就能初始化 扩展了。在之前创建的扩展对象上调用 init_app() 可以完成初始化过程。\n",
    "\n",
    "`app/__init__.py`:\n",
    "\n",
    "```python\n",
    "from flask import Flask\n",
    "from config import config\n",
    "from flask_mail import Mail\n",
    "from flask_sqlalchemy import SQLAlchemy\n",
    "\n",
    "db = SQLAlchemy()\n",
    "appmail = Mail()\n",
    "def create_app(config_name):\n",
    "    app = Flask(__name__)\n",
    "    app.config.from_object(config[config_name])\n",
    "    config[config_name].init_app(app)\n",
    "    appmail.init_app(app)\n",
    "    db.init_app(app)\n",
    "    from .Main import main as main_blueprint\n",
    "    app.register_blueprint(main_blueprint)\n",
    "    from .Login import login as login_blueprint\n",
    "    app.register_blueprint(login_blueprint)\n",
    "\n",
    "    return app\n",
    "```"
   ]
  },
  {
   "cell_type": "markdown",
   "metadata": {
    "collapsed": true
   },
   "source": [
    "这个部分我们就讲讲怎么用蓝图吧\n",
    "\n",
    "> 蓝图的注册"
   ]
  },
  {
   "cell_type": "markdown",
   "metadata": {},
   "source": [
    "flask通过蓝图进行模块化,蓝图可以先生成再注册,只有注册到的蓝图才会被使用"
   ]
  },
  {
   "cell_type": "markdown",
   "metadata": {},
   "source": [
    "+ 定义蓝图,在app目录下的子模块中,我们一般在`__init__.py`中定义蓝图"
   ]
  },
  {
   "cell_type": "markdown",
   "metadata": {},
   "source": [
    "`app/Main/__init__.py`:\n",
    "\n",
    "```python\n",
    "from flask import Blueprint\n",
    "main = Blueprint('main', __name__,static_folder='static', static_url_path='/main',template_folder='templates')\n",
    "from . import view\n",
    "```"
   ]
  },
  {
   "cell_type": "markdown",
   "metadata": {},
   "source": [
    "其中要注意的是`static_folder='static'和template_folder='templates'`是将子模块中的对应文件夹也注册到静态文件夹或者模板文件夹中,在使用模板的时候,框架会先找默认的app下的模板,如果没有才去子模块中查找.因此要注意.\n",
    "\n",
    "而如果要用`url_for()`函数,则需要在其中注明所属的蓝图,比如:\n",
    "\n",
    "`url_for(\"main.index\",filename=xxxxx)`\n",
    "\n",
    "需要注意的是静态文件必须注册 `static_url_path='/main'`才能被找到\n",
    "\n",
    "在其中也可以增加一个`url_prefix开始x='/login'`,这样改蓝图中的所有view都将自动以对应的url_prefix开始"
   ]
  },
  {
   "cell_type": "markdown",
   "metadata": {},
   "source": [
    "定义好蓝图后就得在`app/__init__.py`下注册了,就如上面所见"
   ]
  },
  {
   "cell_type": "markdown",
   "metadata": {},
   "source": [
    "    \n",
    "        from .Main import main as main_blueprint\n",
    "        app.register_blueprint(main_blueprint)\n",
    "        from .Login import login as login_blueprint\n",
    "        app.register_blueprint(login_blueprint)"
   ]
  },
  {
   "cell_type": "markdown",
   "metadata": {},
   "source": [
    "+ 再定义view式我们要把`app.route()`修饰符换成`model.route()`\n",
    "\n",
    "\n",
    "```python\n",
    "\n",
    "@main.route('/')\n",
    "def index():\n",
    "    img_url = \"img/index/carousel\"\n",
    "    return render_template(\"index.html\", carousel=set_carousel(img_url))\n",
    "    \n",
    "```"
   ]
  }
 ],
 "metadata": {
  "kernelspec": {
   "display_name": "Python 2",
   "language": "python",
   "name": "python2"
  },
  "language_info": {
   "codemirror_mode": {
    "name": "ipython",
    "version": 2
   },
   "file_extension": ".py",
   "mimetype": "text/x-python",
   "name": "python",
   "nbconvert_exporter": "python",
   "pygments_lexer": "ipython2",
   "version": "2.7.11"
  }
 },
 "nbformat": 4,
 "nbformat_minor": 0
}
