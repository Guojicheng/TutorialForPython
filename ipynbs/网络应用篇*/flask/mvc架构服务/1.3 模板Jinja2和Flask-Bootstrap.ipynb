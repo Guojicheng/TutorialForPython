{
 "cells": [
  {
   "cell_type": "markdown",
   "metadata": {},
   "source": [
    "# 1.3 模板Jinja2和Flask-Bootstrap\n",
    "\n",
    "目前我们还没用html文件,几乎可以说,是个没前端的架子而已,flask的核心是没有模板这些前端的东西的,\n",
    "但它有个给力好伙伴可以帮他解决前端动态渲染的问题--同一个开发团队制作的模板工具Jinja2,这也是flask安装的\n",
    "时候会一并安装的."
   ]
  },
  {
   "cell_type": "markdown",
   "metadata": {},
   "source": [
    "## Jinjia2\n",
    "\n",
    "Jinja2和django的模板非常相似,这是[官网](http://jinja.pocoo.org/docs/dev/)这是[文档翻译](http://docs.jinkan.org/docs/jinja2/)\n",
    "\n",
    "要具体的学习该模板可以自己看文档,我这边只做简单介绍"
   ]
  },
  {
   "cell_type": "markdown",
   "metadata": {},
   "source": [
    "### 渲染模板\n",
    "\n",
    "默认情况下,Flask 在程序文件夹中的 templates 子文件夹中寻找模板\n",
    "要渲染模板需要调用`render_template()`方法\n",
    "\n",
    "    return render_template('index.html')"
   ]
  },
  {
   "cell_type": "markdown",
   "metadata": {},
   "source": [
    "> 我们将主页(url根目录)的返回改为一个html文件"
   ]
  },
  {
   "cell_type": "code",
   "execution_count": 11,
   "metadata": {
    "collapsed": false
   },
   "outputs": [
    {
     "name": "stdout",
     "output_type": "stream",
     "text": [
      "Overwriting ../codes/helloworld/templates/index.html\n"
     ]
    }
   ],
   "source": [
    "%%writefile ../codes/helloworld/templates/index.html\n",
    "<p>time:{{count}}</p>\n",
    "<h1>Hello, world! - flask</h1>\n",
    "<p>this document carries a cookie </p>\n",
    "<p>answer={{answer}}</p>"
   ]
  },
  {
   "cell_type": "code",
   "execution_count": 12,
   "metadata": {
    "collapsed": false
   },
   "outputs": [
    {
     "name": "stdout",
     "output_type": "stream",
     "text": [
      "Overwriting ../codes/helloworld/helloworld.py\n"
     ]
    }
   ],
   "source": [
    "%%writefile ../codes/helloworld/helloworld.py\n",
    "#coding:UTF-8\n",
    "from flask import Flask,request,g,make_response,abort,redirect,url_for,render_template\n",
    "from flask.ext.script import Manager\n",
    "import time\n",
    "\n",
    "app = Flask(__name__)\n",
    "app.debug = True\n",
    "manager = Manager(app)\n",
    "\n",
    "@app.before_request\n",
    "def before_request():\n",
    "        g.time = time.asctime()\n",
    "        if request.cookies.get('answer'):\n",
    "            g.answer = request.cookies.get('answer')\n",
    "        else:\n",
    "            g.answer = \"0\"\n",
    "##新增\n",
    "@app.errorhandler(404)\n",
    "def page_not_found(error):\n",
    "    return \"404,page not found!\",404,{\"a\":\"af\"}\n",
    "@app.route('/')\n",
    "def hello():\n",
    "    response = make_response(render_template('index.html',count=g.time,answer=g.answer))\n",
    "    response.set_cookie('answer', '42')\n",
    "    return response\n",
    "\n",
    "@app.route('/<name>')\n",
    "def name(name):\n",
    "    return \"time:{count} Hello, world! - {name}\".format(count=g.time,name=name)\n",
    "\n",
    "@app.route(\"/info\")\n",
    "def info():\n",
    "    user_agent = request.headers.get('User-Agent')\n",
    "    return '<p>time:{count}</p><p>Your browser is {agent}</p>'.format(count=g.time,agent=user_agent)\n",
    "\n",
    "@app.route('/login')\n",
    "def login():\n",
    "    abort(404)\n",
    "@app.route('/infos')\n",
    "def infos():\n",
    "    return redirect(url_for('info'))"
   ]
  },
  {
   "cell_type": "code",
   "execution_count": 13,
   "metadata": {
    "collapsed": false
   },
   "outputs": [
    {
     "name": "stdout",
     "output_type": "stream",
     "text": [
      " * Running on http://127.0.0.1:5000/ (Press CTRL+C to quit)\n",
      " * Restarting with stat\n",
      " * Debugger is active!\n",
      " * Debugger pin code: 258-121-533\n",
      "127.0.0.1 - - [19/Jan/2016 14:47:15] \"GET / HTTP/1.1\" 200 -\n",
      "127.0.0.1 - - [19/Jan/2016 14:47:15] \"GET /favicon.ico HTTP/1.1\" 200 -\n",
      "^C\n"
     ]
    }
   ],
   "source": [
    "!python ../codes/helloworld/manager.py runserver"
   ]
  },
  {
   "cell_type": "markdown",
   "metadata": {},
   "source": [
    "### 变量和过滤器:\n",
    "变量,包括列表,字典,类的实例和过滤器,都用\n",
    "\n",
    "    {{ }}\n",
    "\n",
    "来包裹\n",
    "\n",
    "如:`{{ var }}`,`{{ var|length }}`,`{{var.length}}`\n",
    "\n",
    "可以通过`app.template_filter()`装饰器定义过滤器,参数为过滤器的名字\n",
    "\n",
    "我们来自定义一个过滤器,比如说用来把阿拉伯数字转换为中文银行用的繁体数字\n"
   ]
  },
  {
   "cell_type": "markdown",
   "metadata": {},
   "source": [
    "### 渲染模板\n",
    "\n",
    "默认情况下,Flask 在程序文件夹中的 templates 子文件夹中寻找模板\n",
    "要渲染模板需要调用`render_template()`方法\n",
    "\n",
    "    return render_template('index.html')"
   ]
  },
  {
   "cell_type": "markdown",
   "metadata": {},
   "source": [
    "### 变量和过滤器:\n",
    "变量,包括列表,字典,类的实例和过滤器,都用\n",
    "\n",
    "    {{ }}\n",
    "\n",
    "来包裹\n",
    "\n",
    "如:`{{ var }}`,`{{ var|length }}`,`{{var.length}}`\n",
    "\n",
    "可以通过`app.template_filter()`装饰器定义过滤器,参数为过滤器的名字\n",
    "\n",
    "我们来自定义一个过滤器,比如说用来把一个数字自动换算成美元."
   ]
  },
  {
   "cell_type": "code",
   "execution_count": 21,
   "metadata": {
    "collapsed": false
   },
   "outputs": [
    {
     "name": "stdout",
     "output_type": "stream",
     "text": [
      "Overwriting ../codes/helloworld/helloworld.py\n"
     ]
    }
   ],
   "source": [
    "%%writefile ../codes/helloworld/helloworld.py\n",
    "#coding:UTF-8\n",
    "from flask import Flask,request,g,make_response,abort,redirect,url_for,render_template\n",
    "from flask.ext.script import Manager\n",
    "import time\n",
    "\n",
    "app = Flask(__name__)\n",
    "app.debug = True\n",
    "manager = Manager(app)\n",
    "\n",
    "##新增\n",
    "@app.template_filter('RMBtoUSD')\n",
    "def RMBtoUSD(text):\n",
    "    return \"$\"+str(round(float(text)*0.1520,2))\n",
    "\n",
    "\n",
    "@app.before_request\n",
    "def before_request():\n",
    "        g.time = time.asctime()\n",
    "        if request.cookies.get('answer'):\n",
    "            g.answer = request.cookies.get('answer')\n",
    "        else:\n",
    "            g.answer = \"0\"\n",
    "@app.errorhandler(404)\n",
    "def page_not_found(error):\n",
    "    return \"404,page not found!\",404,{\"a\":\"af\"}\n",
    "@app.route('/')\n",
    "def hello():\n",
    "    response = make_response(render_template('index.html',count=g.time,answer=g.answer,money=\"100\"))\n",
    "    response.set_cookie('answer', '42')\n",
    "    return response\n",
    "\n",
    "@app.route('/<name>')\n",
    "def name(name):\n",
    "    return \"time:{count} Hello, world! - {name}\".format(count=g.time,name=name)\n",
    "\n",
    "@app.route(\"/info\")\n",
    "def info():\n",
    "    user_agent = request.headers.get('User-Agent')\n",
    "    return '<p>time:{count}</p><p>Your browser is {agent}</p>'.format(count=g.time,agent=user_agent)\n",
    "\n",
    "@app.route('/login')\n",
    "def login():\n",
    "    abort(404)\n",
    "@app.route('/infos')\n",
    "def infos():\n",
    "    return redirect(url_for('info'))\n",
    "\n",
    "\n"
   ]
  },
  {
   "cell_type": "code",
   "execution_count": 22,
   "metadata": {
    "collapsed": false
   },
   "outputs": [
    {
     "name": "stdout",
     "output_type": "stream",
     "text": [
      "Overwriting ../codes/helloworld/templates/index.html\n"
     ]
    }
   ],
   "source": [
    "%%writefile ../codes/helloworld/templates/index.html\n",
    "<p>time:{{count}}</p>\n",
    "<h1>Hello, world! - flask</h1>\n",
    "<p>this document carries a cookie </p>\n",
    "<p>answer={{answer}}</p>\n",
    "<p>money={{money|RMBtoUSD}}</p>"
   ]
  },
  {
   "cell_type": "code",
   "execution_count": 23,
   "metadata": {
    "collapsed": false
   },
   "outputs": [
    {
     "name": "stdout",
     "output_type": "stream",
     "text": [
      " * Running on http://127.0.0.1:5000/ (Press CTRL+C to quit)\n",
      " * Restarting with stat\n",
      " * Debugger is active!\n",
      " * Debugger pin code: 258-121-533\n",
      "127.0.0.1 - - [19/Jan/2016 15:24:29] \"GET / HTTP/1.1\" 200 -\n",
      "127.0.0.1 - - [19/Jan/2016 15:24:29] \"GET /favicon.ico HTTP/1.1\" 200 -\n",
      "^C\n"
     ]
    }
   ],
   "source": [
    "!python ../codes/helloworld/manager.py runserver"
   ]
  },
  {
   "cell_type": "markdown",
   "metadata": {},
   "source": [
    "### 循环,判断等逻辑语句:\n",
    "\n",
    "循环,判断等逻辑控制语句都使用\n",
    "\n",
    "    {% %}\n",
    "\n",
    "来包裹\n",
    "\n",
    "例子:输出列表中的全部内容,如果小于5则不输出:\n",
    "\n",
    "\n",
    "    {% for i in List %}\n",
    "        {% if i >= 5 %}\n",
    "            {{ i }}\n",
    "        {% endif%}\n",
    "    {% endfor %}\n",
    "\n"
   ]
  },
  {
   "cell_type": "markdown",
   "metadata": {},
   "source": [
    "### 模板的继承和调用:\n",
    "\n",
    "既然是用模板了,那当然要可以继承和调用以实现复用了,\n",
    "\n",
    "+ 继承用关键字`block`和`extends`\n",
    "\n",
    " {% block content %}{% endblock %}\n",
    "\n",
    "+ 调用关键字`include`\n",
    "\n",
    "\n",
    "定义一个base.html作为模板的底层调用:"
   ]
  },
  {
   "cell_type": "code",
   "execution_count": 36,
   "metadata": {
    "collapsed": false
   },
   "outputs": [
    {
     "name": "stdout",
     "output_type": "stream",
     "text": [
      "Overwriting ../codes/helloworld/templates/base.html\n"
     ]
    }
   ],
   "source": [
    "%%writefile ../codes/helloworld/templates/base.html\n",
    "<!DOCTYPE HTML PUBLIC \"-//W3C//DTD HTML 4.01//EN\">\n",
    "<html>\n",
    "    <head>\n",
    "        <meta http-equiv=\"Content-Type\" content=\"text/html; charset=UTF-8\">\n",
    "        <title>{% block title %}{% endblock %}</title>\n",
    "    </head>\n",
    "    <body>\n",
    "        {% block content %}{% endblock %}\n",
    "        {% include \"blocks/footer.html\" %}\n",
    "    </body>\n",
    "</html>"
   ]
  },
  {
   "cell_type": "markdown",
   "metadata": {},
   "source": [
    "新建文件夹`includes`,添加我们的页脚部:"
   ]
  },
  {
   "cell_type": "code",
   "execution_count": 37,
   "metadata": {
    "collapsed": false
   },
   "outputs": [
    {
     "name": "stdout",
     "output_type": "stream",
     "text": [
      "Overwriting ../codes/helloworld/templates/blocks/footer.html\n"
     ]
    }
   ],
   "source": [
    "%%writefile ../codes/helloworld/templates/blocks/footer.html\n",
    "<footer>\n",
    "    <p>定义页脚</p>\n",
    "    <p>作者:黄思喆</p>\n",
    "</footer>"
   ]
  },
  {
   "cell_type": "markdown",
   "metadata": {},
   "source": [
    "之后将我们的主页修改成调用模板:"
   ]
  },
  {
   "cell_type": "code",
   "execution_count": 38,
   "metadata": {
    "collapsed": false
   },
   "outputs": [
    {
     "name": "stdout",
     "output_type": "stream",
     "text": [
      "Overwriting ../codes/helloworld/templates/myapp/index.html\n"
     ]
    }
   ],
   "source": [
    "%%writefile ../codes/helloworld/templates/myapp/index.html\n",
    "{% extends \"/base.html\" %}\n",
    "{% block title %}hello world!{% endblock %}\n",
    "{% block content %}\n",
    "  <p>time:{{count}}</p>\n",
    "  <h1>Hello, world! - flask</h1>\n",
    "  <p>this document carries a cookie </p>\n",
    "  <p>answer={{answer}}</p>\n",
    "  <p>money={{money|RMBtoUSD}}</p>\n",
    "{% endblock %}\n"
   ]
  },
  {
   "cell_type": "code",
   "execution_count": 39,
   "metadata": {
    "collapsed": false
   },
   "outputs": [
    {
     "name": "stdout",
     "output_type": "stream",
     "text": [
      "Overwriting ../codes/helloworld/helloworld.py\n"
     ]
    }
   ],
   "source": [
    "%%writefile ../codes/helloworld/helloworld.py\n",
    "#coding:UTF-8\n",
    "from flask import Flask,request,g,make_response,abort,redirect,url_for,render_template\n",
    "from flask.ext.script import Manager\n",
    "import time\n",
    "\n",
    "app = Flask(__name__)\n",
    "app.debug = True\n",
    "manager = Manager(app)\n",
    "\n",
    "##新增\n",
    "@app.template_filter('RMBtoUSD')\n",
    "def RMBtoUSD(text):\n",
    "    return \"$\"+str(round(float(text)*0.1520,2))\n",
    "\n",
    "\n",
    "@app.before_request\n",
    "def before_request():\n",
    "        g.time = time.asctime()\n",
    "        if request.cookies.get('answer'):\n",
    "            g.answer = request.cookies.get('answer')\n",
    "        else:\n",
    "            g.answer = \"0\"\n",
    "@app.errorhandler(404)\n",
    "def page_not_found(error):\n",
    "    return \"404,page not found!\",404,{\"a\":\"af\"}\n",
    "@app.route('/')\n",
    "def hello():\n",
    "    response = make_response(render_template('myapp/index.html',count=g.time,answer=g.answer,money=\"100\"))\n",
    "    response.set_cookie('answer', '42')\n",
    "    return response\n",
    "\n",
    "@app.route('/<name>')\n",
    "def name(name):\n",
    "    return \"time:{count} Hello, world! - {name}\".format(count=g.time,name=name)\n",
    "\n",
    "@app.route(\"/info\")\n",
    "def info():\n",
    "    user_agent = request.headers.get('User-Agent')\n",
    "    return '<p>time:{count}</p><p>Your browser is {agent}</p>'.format(count=g.time,agent=user_agent)\n",
    "\n",
    "@app.route('/login')\n",
    "def login():\n",
    "    abort(404)\n",
    "@app.route('/infos')\n",
    "def infos():\n",
    "    return redirect(url_for('info'))"
   ]
  },
  {
   "cell_type": "code",
   "execution_count": 40,
   "metadata": {
    "collapsed": false
   },
   "outputs": [
    {
     "name": "stdout",
     "output_type": "stream",
     "text": [
      " * Running on http://127.0.0.1:5000/ (Press CTRL+C to quit)\n",
      " * Restarting with stat\n",
      " * Debugger is active!\n",
      " * Debugger pin code: 258-121-533\n",
      "127.0.0.1 - - [19/Jan/2016 15:44:53] \"GET / HTTP/1.1\" 200 -\n",
      "127.0.0.1 - - [19/Jan/2016 15:44:53] \"GET /favicon.ico HTTP/1.1\" 200 -\n",
      "^C\n"
     ]
    }
   ],
   "source": [
    "!python ../codes/helloworld/manager.py runserver"
   ]
  },
  {
   "cell_type": "markdown",
   "metadata": {},
   "source": [
    "### 宏\n",
    "\n",
    "宏可以理解为函数\n",
    "\n",
    "定义宏在`macros/render_comment.html`:\n",
    "\n",
    "    {% macro render_comment(comment) %}\n",
    "        <li>{{ comment }}</li>\n",
    "    {% endmacro %}\n",
    "\n",
    "调用宏\n",
    "\n",
    "    {% import 'render_comment.html' as macros %} \n",
    "    <ul>\n",
    "    {% for comment in comments %}\n",
    "    {{ render_comment.render_comment(comment) }}\n",
    "    {% endfor %} \n",
    "    </ul>\n",
    "\n",
    "\n"
   ]
  },
  {
   "cell_type": "markdown",
   "metadata": {},
   "source": [
    "## 引入bootstrap\n",
    "\n",
    "要想在程序中集成 Bootstrap,显然要对模板做所有必要的改动。不过,更简单的方法是 使用一个名为\n",
    "`Flask-Bootstrap` 的 Flask 扩展,简化集成的过程。Flask-Bootstrap 使用 pip 安装:\n",
    "\n",
    "    $ pip install flask-bootstrap"
   ]
  },
  {
   "cell_type": "markdown",
   "metadata": {},
   "source": [
    "修改myapp.py"
   ]
  },
  {
   "cell_type": "code",
   "execution_count": 41,
   "metadata": {
    "collapsed": false
   },
   "outputs": [
    {
     "name": "stdout",
     "output_type": "stream",
     "text": [
      "Overwriting ../codes/helloworld/helloworld.py\n"
     ]
    }
   ],
   "source": [
    "%%writefile ../codes/helloworld/helloworld.py\n",
    "#coding:UTF-8\n",
    "from flask import Flask,request,g,make_response,abort,redirect,url_for,render_template\n",
    "from flask.ext.script import Manager\n",
    "from flask.ext.bootstrap import Bootstrap#新增\n",
    "import time\n",
    "\n",
    "app = Flask(__name__)\n",
    "app.debug = True\n",
    "bootstrap = Bootstrap(app)# 新增\n",
    "manager = Manager(app)\n",
    "\n",
    "\n",
    "@app.template_filter('RMBtoUSD')\n",
    "def RMBtoUSD(text):\n",
    "    return \"$\"+str(round(float(text)*0.1520,2))\n",
    "\n",
    "\n",
    "@app.before_request\n",
    "def before_request():\n",
    "        g.time = time.asctime()\n",
    "        if request.cookies.get('answer'):\n",
    "            g.answer = request.cookies.get('answer')\n",
    "        else:\n",
    "            g.answer = \"0\"\n",
    "@app.errorhandler(404)\n",
    "def page_not_found(error):\n",
    "    return \"404,page not found!\",404,{\"a\":\"af\"}\n",
    "@app.route('/')\n",
    "def hello():\n",
    "    response = make_response(render_template('myapp/index.html',count=g.time,answer=g.answer,money=\"100\"))\n",
    "    response.set_cookie('answer', '42')\n",
    "    return response\n",
    "\n",
    "@app.route('/<name>')\n",
    "def name(name):\n",
    "    return \"time:{count} Hello, world! - {name}\".format(count=g.time,name=name)\n",
    "\n",
    "@app.route(\"/info\")\n",
    "def info():\n",
    "    user_agent = request.headers.get('User-Agent')\n",
    "    return '<p>time:{count}</p><p>Your browser is {agent}</p>'.format(count=g.time,agent=user_agent)\n",
    "\n",
    "@app.route('/login')\n",
    "def login():\n",
    "    abort(404)\n",
    "@app.route('/infos')\n",
    "def infos():\n",
    "    return redirect(url_for('info'))"
   ]
  },
  {
   "cell_type": "markdown",
   "metadata": {},
   "source": [
    "修改之前的脚部内容:"
   ]
  },
  {
   "cell_type": "code",
   "execution_count": 42,
   "metadata": {
    "collapsed": false
   },
   "outputs": [
    {
     "name": "stdout",
     "output_type": "stream",
     "text": [
      "Overwriting ../codes/helloworld/templates/blocks/footer.html\n"
     ]
    }
   ],
   "source": [
    "%%writefile ../codes/helloworld/templates/blocks/footer.html\n",
    "<footer class=\"footer\">\n",
    "    <div class=\"container\">\n",
    "        <p>&copy;Huang Sizhe 2015</p>\n",
    "        <p>网站地图</p>\n",
    "        <p>版权声明>BSD le</a>.</p>\n",
    "    </div>\n",
    "</footer>"
   ]
  },
  {
   "cell_type": "markdown",
   "metadata": {},
   "source": [
    "新增导航栏:"
   ]
  },
  {
   "cell_type": "code",
   "execution_count": 43,
   "metadata": {
    "collapsed": false
   },
   "outputs": [
    {
     "name": "stdout",
     "output_type": "stream",
     "text": [
      "Writing ../codes/helloworld/templates/blocks/mainnavbar.html\n"
     ]
    }
   ],
   "source": [
    "%%writefile ../codes/helloworld/templates/blocks/mainnavbar.html\n",
    "    <nav class=\"navbar navbar-inverse navbar-fixed-top\"  role=\"navigation\">\n",
    "         <div class=\"container\">\n",
    "             <div class=\"navbar-header\">\n",
    "                 <button type=\"button\" class=\"navbar-toggle\" data-toggle=\"collapse\" data-target=\".navbar-collapse\">\n",
    "                     <span class=\"sr-only\">切换导航</span>\n",
    "                     <span class=\"icon-bar\"></span>\n",
    "                     <span class=\"icon-bar\"></span>\n",
    "                     <span class=\"icon-bar\"></span>\n",
    "                 </button>\n",
    "                 <a class=\"navbar-brand\" href=\"/\">Mysite</a>\n",
    "             </div>\n",
    "             <div class=\"navbar-collapse collapse\">\n",
    "                 <ul class=\"nav navbar-nav\">\n",
    "                     <li><a href=\"/\">Home</a></li>\n",
    "                 </ul>\n",
    "             </div>\n",
    "         </div>\n",
    "    </nav>"
   ]
  },
  {
   "cell_type": "markdown",
   "metadata": {},
   "source": [
    "修改base.html"
   ]
  },
  {
   "cell_type": "code",
   "execution_count": 44,
   "metadata": {
    "collapsed": false
   },
   "outputs": [
    {
     "name": "stdout",
     "output_type": "stream",
     "text": [
      "Overwriting ../codes/helloworld/templates/base.html\n"
     ]
    }
   ],
   "source": [
    "%%writefile ../codes/helloworld/templates/base.html\n",
    "{% extends \"bootstrap/base.html\" %}\n",
    "{% block styles%}\n",
    "    {{super()}}\n",
    "    <style>\n",
    "    body{\n",
    "        padding-top:50px;\n",
    "    }\n",
    "\n",
    "    </style>\n",
    "{% endblock%}\n",
    "\n",
    "{% block navbar %}\n",
    "    {% include 'blocks/mainnavbar.html' %}\n",
    "{% endblock %}\n",
    "{% block content %}\n",
    "    {% include \"blocks/footer.html\" %}\n",
    "{% endblock %}\n",
    "\n"
   ]
  },
  {
   "cell_type": "markdown",
   "metadata": {},
   "source": [
    "修改index.html:"
   ]
  },
  {
   "cell_type": "code",
   "execution_count": 45,
   "metadata": {
    "collapsed": false
   },
   "outputs": [
    {
     "name": "stdout",
     "output_type": "stream",
     "text": [
      "Overwriting ../codes/helloworld/templates/myapp/index.html\n"
     ]
    }
   ],
   "source": [
    "%%writefile ../codes/helloworld/templates/myapp/index.html\n",
    "{% extends \"/base.html\" %}\n",
    "{% block title %}hello world!{% endblock %}\n",
    "{% block content %}\n",
    "\n",
    "    <div class=\"container\">\n",
    "        <div class=\"page-header\">\n",
    "            <p>time:{{ count }}</p>\n",
    "            <h1>Hello, world! - flask</h1>\n",
    "        </div>\n",
    "        <p>answer={{answer}}</p>\n",
    "        <p>this document carries a cookie </p>\n",
    "        <p>money={{money|RMBtoUSD}}</p>\n",
    "        <p>this document carries a cookie </p>\n",
    "    </div>    \n",
    "{{ super() }}\n",
    "{% endblock %}"
   ]
  },
  {
   "cell_type": "code",
   "execution_count": 46,
   "metadata": {
    "collapsed": false
   },
   "outputs": [
    {
     "name": "stdout",
     "output_type": "stream",
     "text": [
      "Writing ../codes/helloworld/templates/myapp/info.html\n"
     ]
    }
   ],
   "source": [
    "%%writefile ../codes/helloworld/templates/myapp/info.html\n",
    "{% extends \"/base.html\" %}\n",
    "{% block title %}hello world!{% endblock %}\n",
    "{% block content %}\n",
    "<div class=\"container\">\n",
    "    <div class=\"page-header\">\n",
    "        <p>time:{{ count }}</p>\n",
    "        <h1>Your browser is :</h1>    \n",
    "    </div>\n",
    "    <p>{{agent}}</p>\n",
    "</div>\n",
    "    {{ super() }}\n",
    "{% endblock %}"
   ]
  },
  {
   "cell_type": "code",
   "execution_count": 47,
   "metadata": {
    "collapsed": false
   },
   "outputs": [
    {
     "name": "stdout",
     "output_type": "stream",
     "text": [
      " * Restarting with stat\n",
      " * Debugger is active!\n",
      " * Debugger pin code: 673-134-554\n",
      "127.0.0.1 - - [19/Jan/2016 16:07:51] \"GET / HTTP/1.1\" 200 -\n",
      "127.0.0.1 - - [19/Jan/2016 16:07:52] \"GET /favicon.ico HTTP/1.1\" 200 -\n",
      "^C\n"
     ]
    }
   ],
   "source": [
    "!python ../codes/helloworld/manager.py runserver"
   ]
  },
  {
   "cell_type": "markdown",
   "metadata": {},
   "source": [
    "是不是好看多了~\n",
    "\n",
    "\"bootstrap/base.html\"定义了以下可用于修改的块:\n",
    "\n",
    "\n",
    "块名|说明\n",
    "---|---\n",
    "doc |整个 HTML 文档\n",
    "html_attribs |`<html>` 标签的属性\n",
    "html |`<html>` 标签中的内容\n",
    "head |`<head>` 标签中的内容\n",
    "title |`<title>` 标签中的内容\n",
    "metas |一组 `<meta>` 标签\n",
    "styles |层叠样式表定义\n",
    "body_attribs |`<body>` 标签的属性\n",
    "body |`<body>` 标签中的内容\n",
    "navbar |用户定义的导航条\n",
    "content |用户定义的页面内容\n",
    "scripts |文档底部的 JavaScript 声明"
   ]
  },
  {
   "cell_type": "markdown",
   "metadata": {},
   "source": [
    "## 总结\n",
    "\n",
    "可以看到flask的模板jinja2和django的还是比较像的\n",
    "\n",
    "目前用到的包:\n",
    "\n",
    "包|作用\n",
    "---|---\n",
    "flask|flask web框架\n",
    "flask-script|flask的上下文shell\n",
    "jinja2|flask的默认模板\n",
    "flask-bootstrap|flask的bootstrap前端扩展"
   ]
  }
 ],
 "metadata": {
  "kernelspec": {
   "display_name": "Python 3",
   "language": "python",
   "name": "python3"
  },
  "language_info": {
   "codemirror_mode": {
    "name": "ipython",
    "version": 3
   },
   "file_extension": ".py",
   "mimetype": "text/x-python",
   "name": "python",
   "nbconvert_exporter": "python",
   "pygments_lexer": "ipython3",
   "version": "3.5.1"
  }
 },
 "nbformat": 4,
 "nbformat_minor": 0
}
