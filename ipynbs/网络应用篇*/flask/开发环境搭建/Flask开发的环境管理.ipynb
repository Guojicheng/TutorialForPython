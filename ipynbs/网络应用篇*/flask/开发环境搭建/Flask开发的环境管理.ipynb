{
 "cells": [
  {
   "cell_type": "markdown",
   "metadata": {},
   "source": [
    "# Flask开发的环境管理\n",
    "\n",
    "前面介绍了基本的工具,这一部分将细化开发环境的管理方案\n",
    "\n",
    "Flask大量依赖中间件,因此大家会时常要在许多功能相近的中间件中做选择,因此首先我们要为项目单独建立一个对应的虚拟环境.激活之后,我们可以先安装必要的开发工具,比如flask,和一些测试工具.并开始着手开发,如果看到有啥中间件可以为我们解决问题,那我们就去找到中间件安装使用,试了不行就删了,每次变化我们可以用pip的freeze命令将依赖记录在文件中,这样开发完成上传文件的时候我们就可以把虚拟环境文件删除,但保留依赖记录文件即可."
   ]
  },
  {
   "cell_type": "markdown",
   "metadata": {},
   "source": [
    "总结下环境管理的步骤如下:\n",
    "\n",
    "1. 建立虚拟环境\n",
    "2. 在虚拟环境中安装必要的工具,并用pip的freeze命令固化依赖\n",
    "3. 开始开发\n",
    "4. 开发中找合适的依赖,确定后用pip的freeze命令固化依赖\n",
    "5. 开发好测试好后固化依赖\n",
    "6. 删除虚拟环境\n",
    "7. 部署到服务器,用虚拟环境和pip工具安装依赖调试发布"
   ]
  }
 ],
 "metadata": {
  "kernelspec": {
   "display_name": "Python 2",
   "language": "python",
   "name": "pypy"
  },
  "language_info": {
   "codemirror_mode": {
    "name": "ipython",
    "version": 2
   },
   "file_extension": ".py",
   "mimetype": "text/x-python",
   "name": "python",
   "nbconvert_exporter": "python",
   "pygments_lexer": "ipython2",
   "version": "2.7.10"
  }
 },
 "nbformat": 4,
 "nbformat_minor": 0
}
