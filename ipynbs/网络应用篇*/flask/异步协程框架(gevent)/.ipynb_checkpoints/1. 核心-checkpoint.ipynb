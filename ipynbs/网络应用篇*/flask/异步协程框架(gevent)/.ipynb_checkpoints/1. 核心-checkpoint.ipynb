{
 "cells": [
  {
   "cell_type": "markdown",
   "metadata": {},
   "source": [
    "[gevent](http://xlambda.com/gevent-tutorial/#)是python中最简单易部署的异步框架,它通过greenlet来实现协程,它的基本思想是IO操作时自动使用greenlet,这样我们的程序就不用等待缓慢的IO操作了"
   ]
  },
  {
   "cell_type": "markdown",
   "metadata": {},
   "source": [
    "## 安装\n",
    "\n",
    "pip安装即可,注意这个库只能用在python2上\n",
    "    \n",
    "    pip install --pre gevent\n",
    "    \n",
    "现在他已经可以在pypy上使用了"
   ]
  },
  {
   "cell_type": "markdown",
   "metadata": {},
   "source": [
    "并发的核心思想是一个大的任务可以分解成多个子任务，这些子任务是相互独立的，因此可以异步运行 ，而不是同步执行。两个执行程序间的转换是一个关联转换。\n",
    "\n",
    "在gevent中一个关联转换可以通过 yielding 来实现.在这个例子,两个程序的转换是通过调用 gevent.sleep(0).\n",
    "\n",
    "> 一个例子"
   ]
  },
  {
   "cell_type": "code",
   "execution_count": 1,
   "metadata": {
    "collapsed": false
   },
   "outputs": [
    {
     "name": "stdout",
     "output_type": "stream",
     "text": [
      "Running in foo\n",
      "Explicit context to bar\n",
      "Explicit context switch to foo again\n",
      "Implicit context switch back to bar\n"
     ]
    },
    {
     "data": {
      "text/plain": [
       "[<Greenlet at 0x103f493d8>, <Greenlet at 0x103f49800>]"
      ]
     },
     "execution_count": 1,
     "metadata": {},
     "output_type": "execute_result"
    }
   ],
   "source": [
    "import gevent\n",
    "\n",
    "def foo():\n",
    "    print('Running in foo')\n",
    "    gevent.sleep(0)\n",
    "    print('Explicit context switch to foo again')\n",
    "\n",
    "def bar():\n",
    "    print('Explicit context to bar')\n",
    "    gevent.sleep(0)\n",
    "    print('Implicit context switch back to bar')\n",
    "\n",
    "gevent.joinall([\n",
    "    gevent.spawn(foo),\n",
    "    gevent.spawn(bar),\n",
    "])"
   ]
  },
  {
   "cell_type": "markdown",
   "metadata": {},
   "source": [
    "gevent真正的能力在于我们把它用于网络和IO相关的功能,这会让程序更好的运行而不浪费cpu性能在那边空等.\n",
    "\n",
    "上边的程序运行的顺序是这样的\n",
    "\n",
    "\n",
    "<img src=\"img/flow.gif\" />"
   ]
  },
  {
   "cell_type": "markdown",
   "metadata": {},
   "source": [
    "> select()轮询的阻塞调用"
   ]
  },
  {
   "cell_type": "code",
   "execution_count": 2,
   "metadata": {
    "collapsed": false
   },
   "outputs": [
    {
     "name": "stdout",
     "output_type": "stream",
     "text": [
      "Started Polling: at 0.0 seconds\n",
      "Started Polling: at 0.0 seconds\n",
      "Hey lets do some stuff while the greenlets poll, at 0.0 seconds\n",
      "Ended Polling: at 2.0 seconds\n",
      "Ended Polling: at 2.0 seconds\n"
     ]
    },
    {
     "data": {
      "text/plain": [
       "[<Greenlet at 0x103f49c28>,\n",
       " <Greenlet at 0x103f49a60>,\n",
       " <Greenlet at 0x103f49b90>]"
      ]
     },
     "execution_count": 2,
     "metadata": {},
     "output_type": "execute_result"
    }
   ],
   "source": [
    "import time\n",
    "import gevent\n",
    "from gevent import select\n",
    "\n",
    "start = time.time()\n",
    "tic = lambda: 'at %1.1f seconds' % (time.time() - start)\n",
    "\n",
    "def gr1():\n",
    "    # Busy waits for a second, but we don't want to stick around...\n",
    "    print('Started Polling: %s' % tic())\n",
    "    select.select([], [], [], 2)\n",
    "    print('Ended Polling: %s' % tic())\n",
    "\n",
    "def gr2():\n",
    "    # Busy waits for a second, but we don't want to stick around...\n",
    "    print('Started Polling: %s' % tic())\n",
    "    select.select([], [], [], 2)\n",
    "    print('Ended Polling: %s' % tic())\n",
    "\n",
    "def gr3():\n",
    "    print(\"Hey lets do some stuff while the greenlets poll, %s\" % tic())\n",
    "    gevent.sleep(1)\n",
    "\n",
    "gevent.joinall([\n",
    "    gevent.spawn(gr1),\n",
    "    gevent.spawn(gr2),\n",
    "    gevent.spawn(gr3),\n",
    "])"
   ]
  },
  {
   "cell_type": "markdown",
   "metadata": {},
   "source": [
    "下面是另外一个多少有点人造色彩的例子，定义一个非确定性的(non-deterministic) 的task函数(给定相同输入的情况下，它的输出不保证相同)。 此例中执行这个函数的副作用就是，每次task在它的执行过程中都会随机地停某些秒。\n",
    "\n",
    "> 随机睡眠一定秒数,观察同步与异步的不同"
   ]
  },
  {
   "cell_type": "code",
   "execution_count": 4,
   "metadata": {
    "collapsed": false
   },
   "outputs": [
    {
     "name": "stdout",
     "output_type": "stream",
     "text": [
      "Synchronous:\n",
      "Task 1 done\n",
      "Task 2 done\n",
      "Task 3 done\n",
      "Task 4 done\n",
      "Task 5 done\n",
      "Task 6 done\n",
      "Task 7 done\n",
      "Task 8 done\n",
      "Task 9 done\n",
      "Asynchronous:\n",
      "Task 0 done\n",
      "Task 1 done\n",
      "Task 3 done\n",
      "Task 8 done\n",
      "Task 4 done\n",
      "Task 5 done\n",
      "Task 7 done\n",
      "Task 2 done\n",
      "Task 6 done\n",
      "Task 9 done\n"
     ]
    }
   ],
   "source": [
    "import gevent\n",
    "import random\n",
    "\n",
    "def task(pid):\n",
    "    \"\"\"\n",
    "    Some non-deterministic task\n",
    "    \"\"\"\n",
    "    gevent.sleep(random.randint(0,2)*0.001)\n",
    "    print('Task %s done' % pid)\n",
    "\n",
    "def synchronous():\n",
    "    for i in range(1,10):\n",
    "        task(i)\n",
    "\n",
    "def asynchronous():\n",
    "    threads = [gevent.spawn(task, i) for i in range(10)]\n",
    "    gevent.joinall(threads)\n",
    "\n",
    "print('Synchronous:')\n",
    "synchronous()\n",
    "\n",
    "print('Asynchronous:')\n",
    "asynchronous()\n",
    "\n"
   ]
  },
  {
   "cell_type": "code",
   "execution_count": 5,
   "metadata": {
    "collapsed": false
   },
   "outputs": [
    {
     "name": "stdout",
     "output_type": "stream",
     "text": [
      "Task 1 done\n",
      "Task 2 done\n",
      "Task 3 done\n",
      "Task 4 done\n",
      "Task 5 done\n",
      "Task 6 done\n",
      "Task 7 done\n",
      "Task 8 done\n",
      "Task 9 done\n",
      "CPU times: user 1.24 ms, sys: 809 µs, total: 2.05 ms\n",
      "Wall time: 14.5 ms\n"
     ]
    }
   ],
   "source": [
    "%time synchronous()"
   ]
  },
  {
   "cell_type": "code",
   "execution_count": 6,
   "metadata": {
    "collapsed": false
   },
   "outputs": [
    {
     "name": "stdout",
     "output_type": "stream",
     "text": [
      "Task 0 done\n",
      "Task 1 done\n",
      "Task 3 done\n",
      "Task 4 done\n",
      "Task 6 done\n",
      "Task 7 done\n",
      "Task 9 done\n",
      "Task 2 done\n",
      "Task 5 done\n",
      "Task 8 done\n",
      "CPU times: user 1.01 ms, sys: 319 µs, total: 1.32 ms\n",
      "Wall time: 2.63 ms\n"
     ]
    }
   ],
   "source": [
    "%time asynchronous()"
   ]
  },
  {
   "cell_type": "markdown",
   "metadata": {},
   "source": [
    "上例中，在同步的部分，所有的task都同步的执行， 结果当每个task在执行时主流程被阻塞(主流程的执行暂时停住)。\n",
    "\n",
    "程序的重要部分是将task函数封装到Greenlet内部线程的gevent.spawn。 初始化的greenlet列表存放在数组threads中，此数组被传给gevent.joinall 函数，后者阻塞当前流程，并执行所有给定的greenlet。执行流程只会在 所有greenlet执行完后才会继续向下走。\n",
    "\n",
    "要重点留意的是，异步的部分本质上是随机的，而且异步部分的整体运行时间比同步 要大大减少。事实上，同步部分的最大运行时间，即是每个task停0.002秒，结果整个 队列要停0.02秒。而异步部分的最大运行时间大致为0.002秒，因为没有任何一个task会 阻塞其它task的执行。"
   ]
  },
  {
   "cell_type": "markdown",
   "metadata": {},
   "source": [
    "一个更常见的应用场景，如异步地向服务器取数据，取数据操作的执行时间 依赖于发起取数据请求时远端服务器的负载，各个请求的执行时间会有差别。"
   ]
  },
  {
   "cell_type": "code",
   "execution_count": 8,
   "metadata": {
    "collapsed": false
   },
   "outputs": [
    {
     "name": "stdout",
     "output_type": "stream",
     "text": [
      "Synchronous:\n",
      "stock:\"大秦铁路pid= 1\n",
      "stock:\"大秦铁路pid= 2\n",
      "stock:\"大秦铁路pid= 3\n",
      "stock:\"大秦铁路pid= 4\n",
      "stock:\"大秦铁路pid= 5\n",
      "stock:\"大秦铁路pid= 6\n",
      "stock:\"大秦铁路pid= 7\n",
      "stock:\"大秦铁路pid= 8\n",
      "stock:\"大秦铁路pid= 9\n",
      "Asynchronous:\n",
      "stock:\"大秦铁路pid= 1\n",
      "stock:\"大秦铁路pid= 3\n",
      "stock:\"大秦铁路pid= 9\n",
      "stock:\"大秦铁路pid= 2\n",
      "stock:\"大秦铁路pid= 4\n",
      "stock:\"大秦铁路pid= 5\n",
      "stock:\"大秦铁路pid= 6\n",
      "stock:\"大秦铁路pid= 7\n",
      "stock:\"大秦铁路pid= 8\n"
     ]
    }
   ],
   "source": [
    "import gevent.monkey\n",
    "gevent.monkey.patch_socket()\n",
    "\n",
    "import gevent\n",
    "import requests\n",
    "\n",
    "def fetch(pid):\n",
    "    result = requests.get(\"http://hq.sinajs.cn/list=sh601006\").text\n",
    "    stock = result.split(\",\")[0].split(\"=\")[1]\n",
    "    print('stock:'+stock+\"pid=\",pid)\n",
    "    return stock\n",
    "\n",
    "def synchronous():\n",
    "    for i in range(1,10):\n",
    "        fetch(i)\n",
    "\n",
    "def asynchronous():\n",
    "    threads = []\n",
    "    for i in range(1,10):\n",
    "        threads.append(gevent.spawn(fetch, i))\n",
    "    gevent.joinall(threads)\n",
    "\n",
    "print('Synchronous:')\n",
    "synchronous()\n",
    "\n",
    "print('Asynchronous:')\n",
    "asynchronous()"
   ]
  },
  {
   "cell_type": "markdown",
   "metadata": {},
   "source": [
    "## 确定性\n",
    "greenlet具有确定性。在相同配置相同输入的情况下，它们总是 会产生相同的输出。下面就有例子，我们在multiprocessing的pool之间执行一系列的 任务，与在gevent的pool之间执行作比较。"
   ]
  },
  {
   "cell_type": "code",
   "execution_count": 10,
   "metadata": {
    "collapsed": false
   },
   "outputs": [
    {
     "name": "stdout",
     "output_type": "stream",
     "text": [
      "False\n",
      "True\n"
     ]
    }
   ],
   "source": [
    "import time\n",
    "\n",
    "def echo(i):\n",
    "    time.sleep(0.001)\n",
    "    return i\n",
    "\n",
    "# Non Deterministic Process Pool\n",
    "\n",
    "from multiprocessing.pool import Pool\n",
    "\n",
    "p = Pool(10)\n",
    "run1 = [a for a in p.imap_unordered(echo, range(10))]\n",
    "run2 = [a for a in p.imap_unordered(echo, range(10))]\n",
    "run3 = [a for a in p.imap_unordered(echo, range(10))]\n",
    "run4 = [a for a in p.imap_unordered(echo, range(10))]\n",
    "\n",
    "print(run1 == run2 == run3 == run4)\n",
    "\n",
    "# Deterministic Gevent Pool\n",
    "\n",
    "from gevent.pool import Pool\n",
    "\n",
    "p = Pool(10)\n",
    "run1 = [a for a in p.imap_unordered(echo, range(10))]\n",
    "run2 = [a for a in p.imap_unordered(echo, range(10))]\n",
    "run3 = [a for a in p.imap_unordered(echo, range(10))]\n",
    "run4 = [a for a in p.imap_unordered(echo, range(10))]\n",
    "\n",
    "print(run1 == run2 == run3 == run4)"
   ]
  },
  {
   "cell_type": "markdown",
   "metadata": {},
   "source": [
    "即使gevent通常带有确定性，当开始与如socket或文件等外部服务交互时， 不确定性也可能溜进你的程序中。因此尽管gevent线程是一种“确定的并发”形式， 使用它仍然可能会遇到像使用POSIX线程或进程时遇到的那些问题。\n",
    "\n",
    "涉及并发长期存在的问题就是竞争条件(race condition)。简单来说， 当两个并发线程/进程都依赖于某个共享资源同时都尝试去修改它的时候， 就会出现竞争条件。这会导致资源修改的结果状态依赖于时间和执行顺序。 这是个问题，我们一般会做很多努力尝试避免竞争条件， 因为它会导致整个程序行为变得不确定。\n",
    "\n",
    "最好的办法是始终避免所有全局的状态。全局状态和导入时(import-time)副作用总是会 反咬你一口！\n",
    "\n"
   ]
  },
  {
   "cell_type": "markdown",
   "metadata": {},
   "source": [
    "## 创建Greenlets\n",
    "\n",
    "gevent对Greenlet初始化提供了一些封装，最常用的使用模板之一有"
   ]
  },
  {
   "cell_type": "code",
   "execution_count": 34,
   "metadata": {
    "collapsed": false
   },
   "outputs": [
    {
     "name": "stdout",
     "output_type": "stream",
     "text": [
      "Hello\n",
      "I live!\n"
     ]
    }
   ],
   "source": [
    "import gevent\n",
    "from gevent import Greenlet\n",
    "\n",
    "def foo(message, n):\n",
    "    \"\"\"\n",
    "    Each thread will be passed the message, and n arguments\n",
    "    in its initialization.\n",
    "    \"\"\"\n",
    "    gevent.sleep(n)\n",
    "    print(message)\n",
    "\n",
    "# Initialize a new Greenlet instance running the named function\n",
    "# foo\n",
    "thread1 = Greenlet.spawn(foo, \"Hello\", 1)\n",
    "\n",
    "# Wrapper for creating and running a new Greenlet from the named\n",
    "# function foo, with the passed arguments\n",
    "thread2 = gevent.spawn(foo, \"I live!\", 2)\n",
    "\n",
    "# Lambda expressions\n",
    "thread3 = gevent.spawn(lambda x: (x+1), 2)\n",
    "\n",
    "threads = [thread1, thread2, thread3]\n",
    "\n",
    "# Block until all threads complete.\n",
    "gevent.joinall(threads)\n"
   ]
  },
  {
   "cell_type": "markdown",
   "metadata": {},
   "source": [
    ">子类化Greenlet类，重载它的_run方法"
   ]
  },
  {
   "cell_type": "code",
   "execution_count": 35,
   "metadata": {
    "collapsed": false
   },
   "outputs": [
    {
     "name": "stdout",
     "output_type": "stream",
     "text": [
      "Hi there!\n"
     ]
    }
   ],
   "source": [
    "import gevent\n",
    "from gevent import Greenlet\n",
    "\n",
    "class MyGreenlet(Greenlet):\n",
    "\n",
    "    def __init__(self, message, n):\n",
    "        Greenlet.__init__(self)\n",
    "        self.message = message\n",
    "        self.n = n\n",
    "\n",
    "    def _run(self):\n",
    "        print(self.message)\n",
    "        gevent.sleep(self.n)\n",
    "\n",
    "g = MyGreenlet(\"Hi there!\", 3)\n",
    "g.start()\n",
    "g.join()"
   ]
  },
  {
   "cell_type": "markdown",
   "metadata": {},
   "source": [
    "## Greenlet状态"
   ]
  },
  {
   "cell_type": "markdown",
   "metadata": {},
   "source": [
    "就像任何其他成段代码，Greenlet也可能以不同的方式运行失败。 Greenlet可能未能成功抛出异常，不能停止运行，或消耗了太多的系统资源。\n",
    "\n",
    "一个greenlet的状态通常是一个依赖于时间的参数。在greenlet中有一些标志， 让你可以监视它的线程内部状态：\n",
    "\n",
    "状态|类型|说明\n",
    "---|---|---\n",
    "started | Boolean|指示此Greenlet是否已经启动\n",
    "ready()| Boolean|指示此Greenlet是否已经停止\n",
    "successful() |Boolean|指示此Greenlet是否已经停止而且没抛异常\n",
    "value | 任意值|此Greenlet代码返回的值\n",
    "exception|异常|此Greenlet内抛出的未捕获异常\n"
   ]
  },
  {
   "cell_type": "code",
   "execution_count": 36,
   "metadata": {
    "collapsed": false
   },
   "outputs": [
    {
     "name": "stdout",
     "output_type": "stream",
     "text": [
      "True\n",
      "True\n",
      "You win!\n",
      "None\n",
      "True\n",
      "True\n",
      "True\n",
      "False\n",
      "You fail at failing.\n"
     ]
    },
    {
     "name": "stderr",
     "output_type": "stream",
     "text": [
      "Traceback (most recent call last):\n",
      "  File \"/Users/huangsizhe/Lib/conda/anaconda/lib/python2.7/site-packages/gevent/greenlet.py\", line 327, in run\n",
      "    result = self._run(*self.args, **self.kwargs)\n",
      "  File \"<ipython-input-36-f5e704eb2c3b>\", line 7, in fail\n",
      "    raise Exception('You fail at failing.')\n",
      "Exception: You fail at failing.\n",
      "<Greenlet at 0x103f324b0: fail> failed with Exception\n",
      "\n"
     ]
    }
   ],
   "source": [
    "import gevent\n",
    "\n",
    "def win():\n",
    "    return 'You win!'\n",
    "\n",
    "def fail():\n",
    "    raise Exception('You fail at failing.')\n",
    "\n",
    "winner = gevent.spawn(win)\n",
    "loser = gevent.spawn(fail)\n",
    "\n",
    "print(winner.started) # True\n",
    "print(loser.started)  # True\n",
    "\n",
    "# Exceptions raised in the Greenlet, stay inside the Greenlet.\n",
    "try:\n",
    "    gevent.joinall([winner, loser])\n",
    "except Exception as e:\n",
    "    print('This will never be reached')\n",
    "\n",
    "print(winner.value) # 'You win!'\n",
    "print(loser.value)  # None\n",
    "\n",
    "print(winner.ready()) # True\n",
    "print(loser.ready())  # True\n",
    "\n",
    "print(winner.successful()) # True\n",
    "print(loser.successful())  # False\n",
    "\n",
    "# The exception raised in fail, will not propogate outside the\n",
    "# greenlet. A stack trace will be printed to stdout but it\n",
    "# will not unwind the stack of the parent.\n",
    "\n",
    "print(loser.exception)\n",
    "\n",
    "# It is possible though to raise the exception again outside\n",
    "# raise loser.exception\n",
    "# or with\n",
    "# loser.get()"
   ]
  },
  {
   "cell_type": "markdown",
   "metadata": {},
   "source": [
    "# 程序停止\n",
    "\n",
    "当主程序(main program)收到一个SIGQUIT信号时，不能成功做yield操作的 Greenlet可能会令意外地挂起程序的执行。这导致了所谓的僵尸进程， 它需要在Python解释器之外被kill掉。\n",
    "\n",
    "对此，一个通用的处理模式就是在主程序中监听SIGQUIT信号，在程序退出 调用gevent.shutdown。\n",
    "\n"
   ]
  },
  {
   "cell_type": "code",
   "execution_count": 37,
   "metadata": {
    "collapsed": false
   },
   "outputs": [
    {
     "name": "stdout",
     "output_type": "stream",
     "text": [
      "Writing shutdownexp.py\n"
     ]
    }
   ],
   "source": [
    "%%writefile shutdownexp.py\n",
    "import gevent\n",
    "import signal\n",
    "\n",
    "def run_forever():\n",
    "    gevent.sleep(1000)\n",
    "\n",
    "if __name__ == '__main__':\n",
    "    gevent.signal(signal.SIGQUIT, gevent.shutdown)\n",
    "    thread = gevent.spawn(run_forever)\n",
    "    thread.join()"
   ]
  },
  {
   "cell_type": "markdown",
   "metadata": {},
   "source": [
    "## 超时\n",
    "超时是一种对一块代码或一个Greenlet的运行时间的约束。\n"
   ]
  },
  {
   "cell_type": "code",
   "execution_count": 38,
   "metadata": {
    "collapsed": false
   },
   "outputs": [
    {
     "name": "stdout",
     "output_type": "stream",
     "text": [
      "Could not complete\n"
     ]
    }
   ],
   "source": [
    "import gevent\n",
    "from gevent import Timeout\n",
    "\n",
    "seconds = 10\n",
    "\n",
    "timeout = Timeout(seconds)\n",
    "timeout.start()\n",
    "\n",
    "def wait():\n",
    "    gevent.sleep(10)\n",
    "\n",
    "try:\n",
    "    gevent.spawn(wait).join()\n",
    "except Timeout:\n",
    "    print('Could not complete')"
   ]
  },
  {
   "cell_type": "markdown",
   "metadata": {},
   "source": [
    "超时类也可以用在上下文管理器(context manager)中, 也就是with语句内。"
   ]
  },
  {
   "cell_type": "code",
   "execution_count": 39,
   "metadata": {
    "collapsed": false
   },
   "outputs": [
    {
     "ename": "TooLong",
     "evalue": "",
     "output_type": "error",
     "traceback": [
      "\u001b[0;31m---------------------------------------------------------------------------\u001b[0m",
      "\u001b[0;31mTooLong\u001b[0m                                   Traceback (most recent call last)",
      "\u001b[0;32m<ipython-input-39-b31086e237a0>\u001b[0m in \u001b[0;36m<module>\u001b[0;34m()\u001b[0m\n\u001b[1;32m      8\u001b[0m \u001b[0;34m\u001b[0m\u001b[0m\n\u001b[1;32m      9\u001b[0m \u001b[0;32mwith\u001b[0m \u001b[0mTimeout\u001b[0m\u001b[0;34m(\u001b[0m\u001b[0mtime_to_wait\u001b[0m\u001b[0;34m,\u001b[0m \u001b[0mTooLong\u001b[0m\u001b[0;34m)\u001b[0m\u001b[0;34m:\u001b[0m\u001b[0;34m\u001b[0m\u001b[0m\n\u001b[0;32m---> 10\u001b[0;31m     \u001b[0mgevent\u001b[0m\u001b[0;34m.\u001b[0m\u001b[0msleep\u001b[0m\u001b[0;34m(\u001b[0m\u001b[0;36m10\u001b[0m\u001b[0;34m)\u001b[0m\u001b[0;34m\u001b[0m\u001b[0m\n\u001b[0m",
      "\u001b[0;32m/Users/huangsizhe/Lib/conda/anaconda/lib/python2.7/site-packages/gevent/hub.pyc\u001b[0m in \u001b[0;36msleep\u001b[0;34m(seconds, ref)\u001b[0m\n\u001b[1;32m     73\u001b[0m         \u001b[0mwaiter\u001b[0m\u001b[0;34m.\u001b[0m\u001b[0mget\u001b[0m\u001b[0;34m(\u001b[0m\u001b[0;34m)\u001b[0m\u001b[0;34m\u001b[0m\u001b[0m\n\u001b[1;32m     74\u001b[0m     \u001b[0;32melse\u001b[0m\u001b[0;34m:\u001b[0m\u001b[0;34m\u001b[0m\u001b[0m\n\u001b[0;32m---> 75\u001b[0;31m         \u001b[0mhub\u001b[0m\u001b[0;34m.\u001b[0m\u001b[0mwait\u001b[0m\u001b[0;34m(\u001b[0m\u001b[0mloop\u001b[0m\u001b[0;34m.\u001b[0m\u001b[0mtimer\u001b[0m\u001b[0;34m(\u001b[0m\u001b[0mseconds\u001b[0m\u001b[0;34m,\u001b[0m \u001b[0mref\u001b[0m\u001b[0;34m=\u001b[0m\u001b[0mref\u001b[0m\u001b[0;34m)\u001b[0m\u001b[0;34m)\u001b[0m\u001b[0;34m\u001b[0m\u001b[0m\n\u001b[0m\u001b[1;32m     76\u001b[0m \u001b[0;34m\u001b[0m\u001b[0m\n\u001b[1;32m     77\u001b[0m \u001b[0;34m\u001b[0m\u001b[0m\n",
      "\u001b[0;32m/Users/huangsizhe/Lib/conda/anaconda/lib/python2.7/site-packages/gevent/hub.pyc\u001b[0m in \u001b[0;36mwait\u001b[0;34m(self, watcher)\u001b[0m\n\u001b[1;32m    339\u001b[0m         \u001b[0mwatcher\u001b[0m\u001b[0;34m.\u001b[0m\u001b[0mstart\u001b[0m\u001b[0;34m(\u001b[0m\u001b[0mwaiter\u001b[0m\u001b[0;34m.\u001b[0m\u001b[0mswitch\u001b[0m\u001b[0;34m,\u001b[0m \u001b[0munique\u001b[0m\u001b[0;34m)\u001b[0m\u001b[0;34m\u001b[0m\u001b[0m\n\u001b[1;32m    340\u001b[0m         \u001b[0;32mtry\u001b[0m\u001b[0;34m:\u001b[0m\u001b[0;34m\u001b[0m\u001b[0m\n\u001b[0;32m--> 341\u001b[0;31m             \u001b[0mresult\u001b[0m \u001b[0;34m=\u001b[0m \u001b[0mwaiter\u001b[0m\u001b[0;34m.\u001b[0m\u001b[0mget\u001b[0m\u001b[0;34m(\u001b[0m\u001b[0;34m)\u001b[0m\u001b[0;34m\u001b[0m\u001b[0m\n\u001b[0m\u001b[1;32m    342\u001b[0m             \u001b[0;32massert\u001b[0m \u001b[0mresult\u001b[0m \u001b[0;32mis\u001b[0m \u001b[0munique\u001b[0m\u001b[0;34m,\u001b[0m \u001b[0;34m'Invalid switch into %s: %r (expected %r)'\u001b[0m \u001b[0;34m%\u001b[0m \u001b[0;34m(\u001b[0m\u001b[0mgetcurrent\u001b[0m\u001b[0;34m(\u001b[0m\u001b[0;34m)\u001b[0m\u001b[0;34m,\u001b[0m \u001b[0mresult\u001b[0m\u001b[0;34m,\u001b[0m \u001b[0munique\u001b[0m\u001b[0;34m)\u001b[0m\u001b[0;34m\u001b[0m\u001b[0m\n\u001b[1;32m    343\u001b[0m         \u001b[0;32mfinally\u001b[0m\u001b[0;34m:\u001b[0m\u001b[0;34m\u001b[0m\u001b[0m\n",
      "\u001b[0;32m/Users/huangsizhe/Lib/conda/anaconda/lib/python2.7/site-packages/gevent/hub.pyc\u001b[0m in \u001b[0;36mget\u001b[0;34m(self)\u001b[0m\n\u001b[1;32m    566\u001b[0m             \u001b[0mself\u001b[0m\u001b[0;34m.\u001b[0m\u001b[0mgreenlet\u001b[0m \u001b[0;34m=\u001b[0m \u001b[0mgetcurrent\u001b[0m\u001b[0;34m(\u001b[0m\u001b[0;34m)\u001b[0m\u001b[0;34m\u001b[0m\u001b[0m\n\u001b[1;32m    567\u001b[0m             \u001b[0;32mtry\u001b[0m\u001b[0;34m:\u001b[0m\u001b[0;34m\u001b[0m\u001b[0m\n\u001b[0;32m--> 568\u001b[0;31m                 \u001b[0;32mreturn\u001b[0m \u001b[0mself\u001b[0m\u001b[0;34m.\u001b[0m\u001b[0mhub\u001b[0m\u001b[0;34m.\u001b[0m\u001b[0mswitch\u001b[0m\u001b[0;34m(\u001b[0m\u001b[0;34m)\u001b[0m\u001b[0;34m\u001b[0m\u001b[0m\n\u001b[0m\u001b[1;32m    569\u001b[0m             \u001b[0;32mfinally\u001b[0m\u001b[0;34m:\u001b[0m\u001b[0;34m\u001b[0m\u001b[0m\n\u001b[1;32m    570\u001b[0m                 \u001b[0mself\u001b[0m\u001b[0;34m.\u001b[0m\u001b[0mgreenlet\u001b[0m \u001b[0;34m=\u001b[0m \u001b[0mNone\u001b[0m\u001b[0;34m\u001b[0m\u001b[0m\n",
      "\u001b[0;32m/Users/huangsizhe/Lib/conda/anaconda/lib/python2.7/site-packages/gevent/hub.pyc\u001b[0m in \u001b[0;36mswitch\u001b[0;34m(self)\u001b[0m\n\u001b[1;32m    329\u001b[0m         \u001b[0;32mif\u001b[0m \u001b[0mswitch_out\u001b[0m \u001b[0;32mis\u001b[0m \u001b[0;32mnot\u001b[0m \u001b[0mNone\u001b[0m\u001b[0;34m:\u001b[0m\u001b[0;34m\u001b[0m\u001b[0m\n\u001b[1;32m    330\u001b[0m             \u001b[0mswitch_out\u001b[0m\u001b[0;34m(\u001b[0m\u001b[0;34m)\u001b[0m\u001b[0;34m\u001b[0m\u001b[0m\n\u001b[0;32m--> 331\u001b[0;31m         \u001b[0;32mreturn\u001b[0m \u001b[0mgreenlet\u001b[0m\u001b[0;34m.\u001b[0m\u001b[0mswitch\u001b[0m\u001b[0;34m(\u001b[0m\u001b[0mself\u001b[0m\u001b[0;34m)\u001b[0m\u001b[0;34m\u001b[0m\u001b[0m\n\u001b[0m\u001b[1;32m    332\u001b[0m \u001b[0;34m\u001b[0m\u001b[0m\n\u001b[1;32m    333\u001b[0m     \u001b[0;32mdef\u001b[0m \u001b[0mswitch_out\u001b[0m\u001b[0;34m(\u001b[0m\u001b[0mself\u001b[0m\u001b[0;34m)\u001b[0m\u001b[0;34m:\u001b[0m\u001b[0;34m\u001b[0m\u001b[0m\n",
      "\u001b[0;31mTooLong\u001b[0m: "
     ]
    }
   ],
   "source": [
    "import gevent\n",
    "from gevent import Timeout\n",
    "\n",
    "time_to_wait = 5 # seconds\n",
    "\n",
    "class TooLong(Exception):\n",
    "    pass\n",
    "\n",
    "with Timeout(time_to_wait, TooLong):\n",
    "    gevent.sleep(10)\n"
   ]
  },
  {
   "cell_type": "markdown",
   "metadata": {},
   "source": [
    "另外，对各种Greenlet和数据结构相关的调用，gevent也提供了超时参数。 例如："
   ]
  },
  {
   "cell_type": "code",
   "execution_count": 40,
   "metadata": {
    "collapsed": false
   },
   "outputs": [
    {
     "name": "stdout",
     "output_type": "stream",
     "text": [
      "Thread 1 timed out\n",
      "Thread 2 timed out\n",
      "Thread 3 timed out\n"
     ]
    }
   ],
   "source": [
    "import gevent\n",
    "from gevent import Timeout\n",
    "\n",
    "def wait():\n",
    "    gevent.sleep(2)\n",
    "\n",
    "timer = Timeout(1).start()\n",
    "thread1 = gevent.spawn(wait)\n",
    "\n",
    "try:\n",
    "    thread1.join(timeout=timer)\n",
    "except Timeout:\n",
    "    print('Thread 1 timed out')\n",
    "\n",
    "# --\n",
    "\n",
    "timer = Timeout.start_new(1)\n",
    "thread2 = gevent.spawn(wait)\n",
    "\n",
    "try:\n",
    "    thread2.get(timeout=timer)\n",
    "except Timeout:\n",
    "    print('Thread 2 timed out')\n",
    "\n",
    "# --\n",
    "\n",
    "try:\n",
    "    gevent.with_timeout(1, wait)\n",
    "except Timeout:\n",
    "    print('Thread 3 timed out')\n"
   ]
  },
  {
   "cell_type": "markdown",
   "metadata": {},
   "source": [
    "## Monkey patching\n",
    "我们现在来到gevent的死角了. 在此之前，我已经避免提到猴子补丁(monkey patching) 以尝试使gevent这个强大的协程模型变得生动有趣，但现在到了讨论猴子补丁的黑色艺术 的时候了。你之前可能注意到我们提到了monkey.patch_socket()这个命令，这个 纯粹副作用命令是用来改变标准socket库的。"
   ]
  },
  {
   "cell_type": "code",
   "execution_count": 41,
   "metadata": {
    "collapsed": false
   },
   "outputs": [
    {
     "name": "stdout",
     "output_type": "stream",
     "text": [
      "<class 'gevent.socket.socket'>\n",
      "After monkey patch\n",
      "<class 'gevent.socket.socket'>\n",
      "<built-in function select>\n",
      "After monkey patch\n",
      "<function select at 0x103f2f6e0>\n"
     ]
    }
   ],
   "source": [
    "import socket\n",
    "print(socket.socket)\n",
    "\n",
    "print(\"After monkey patch\")\n",
    "from gevent import monkey\n",
    "monkey.patch_socket()\n",
    "print(socket.socket)\n",
    "\n",
    "import select\n",
    "print(select.select)\n",
    "monkey.patch_select()\n",
    "print(\"After monkey patch\")\n",
    "print(select.select)"
   ]
  },
  {
   "cell_type": "markdown",
   "metadata": {},
   "source": [
    "Python的运行环境允许我们在运行时修改大部分的对象，包括模块，类甚至函数。 这是个一般说来令人惊奇的坏主意，因为它创造了“隐式的副作用”，如果出现问题 它很多时候是极难调试的。虽然如此，在极端情况下当一个库需要修改Python本身 的基础行为的时候，猴子补丁就派上用场了。在这种情况下，gevent能够 修改标准库里面大部分的阻塞式系统调用，包括socket、ssl、threading和 select等模块，而变为协作式运行。\n",
    "\n",
    "例如，Redis的python绑定一般使用常规的tcp socket来与redis-server实例通信。 通过简单地调用gevent.monkey.patch_all()，可以使得redis的绑定协作式的调度 请求，与gevent栈的其它部分一起工作。\n",
    "\n",
    "这让我们可以将一般不能与gevent共同工作的库结合起来，而不用写哪怕一行代码。 虽然猴子补丁仍然是邪恶的(evil)，但在这种情况下它是“有用的邪恶(useful evil)”。"
   ]
  },
  {
   "cell_type": "markdown",
   "metadata": {},
   "source": [
    "# 数据结构\n",
    "\n",
    "这部分不研究了,看到再查就行[地址](http://xlambda.com/gevent-tutorial/#_7)"
   ]
  },
  {
   "cell_type": "code",
   "execution_count": 23,
   "metadata": {
    "collapsed": false
   },
   "outputs": [
    {
     "name": "stdout",
     "output_type": "stream",
     "text": [
      "56\n",
      "12\n",
      "34\n",
      "a\n",
      "0\n",
      "1\n",
      "2\n",
      "3\n",
      "4\n",
      "5\n",
      "6\n",
      "7\n",
      "8\n",
      "9\n",
      "78\n"
     ]
    }
   ],
   "source": [
    "from greenlet import greenlet\n",
    "import gevent\n",
    "from time import sleep\n",
    "def test1():\n",
    "    print(12)\n",
    "    #gevent.sleep(2)\n",
    "    print(34)\n",
    "    return \"a\"\n",
    "\n",
    "def test2():\n",
    "    print(56)\n",
    "    gr1.switch()\n",
    "    #sleep(2)\n",
    "    gevent.sleep(2)\n",
    "    print(78)\n",
    "    return \"b\"\n",
    "def no():\n",
    "    for i in range(10):\n",
    "        print(i)\n",
    "\n",
    "gr1 = greenlet(test1)\n",
    "gr2 = greenlet(test2)\n",
    "r1 = gr2.switch()\n",
    "print(r1)\n",
    "no()\n",
    "r2 = gr2.switch()"
   ]
  },
  {
   "cell_type": "code",
   "execution_count": 24,
   "metadata": {
    "collapsed": false
   },
   "outputs": [
    {
     "data": {
      "text/plain": [
       "'b'"
      ]
     },
     "execution_count": 24,
     "metadata": {},
     "output_type": "execute_result"
    }
   ],
   "source": [
    "r2"
   ]
  },
  {
   "cell_type": "code",
   "execution_count": 32,
   "metadata": {
    "collapsed": false
   },
   "outputs": [
    {
     "name": "stderr",
     "output_type": "stream",
     "text": [
      "KeyboardInterrupt\n"
     ]
    },
    {
     "ename": "KeyboardInterrupt",
     "evalue": "",
     "output_type": "error",
     "traceback": [
      "\u001b[0;31m---------------------------------------------------------------------------\u001b[0m",
      "\u001b[0;31mKeyboardInterrupt\u001b[0m                         Traceback (most recent call last)",
      "\u001b[0;32m<ipython-input-32-3a54752c0db3>\u001b[0m in \u001b[0;36m<module>\u001b[0;34m()\u001b[0m\n\u001b[1;32m      7\u001b[0m \u001b[0;31m#gevent.signal(signal.SIGQUIT, gevent.shutdown)\u001b[0m\u001b[0;34m\u001b[0m\u001b[0;34m\u001b[0m\u001b[0m\n\u001b[1;32m      8\u001b[0m \u001b[0mthread\u001b[0m \u001b[0;34m=\u001b[0m \u001b[0mgevent\u001b[0m\u001b[0;34m.\u001b[0m\u001b[0mspawn\u001b[0m\u001b[0;34m(\u001b[0m\u001b[0mrun_forever\u001b[0m\u001b[0;34m)\u001b[0m\u001b[0;34m\u001b[0m\u001b[0m\n\u001b[0;32m----> 9\u001b[0;31m \u001b[0mthread\u001b[0m\u001b[0;34m.\u001b[0m\u001b[0mjoin\u001b[0m\u001b[0;34m(\u001b[0m\u001b[0;34m)\u001b[0m\u001b[0;34m\u001b[0m\u001b[0m\n\u001b[0m\u001b[1;32m     10\u001b[0m \u001b[0mgevent\u001b[0m\u001b[0;34m.\u001b[0m\u001b[0mkill\u001b[0m\u001b[0;34m(\u001b[0m\u001b[0mthread\u001b[0m\u001b[0;34m)\u001b[0m\u001b[0;34m\u001b[0m\u001b[0m\n\u001b[1;32m     11\u001b[0m \u001b[0;34m\u001b[0m\u001b[0m\n",
      "\u001b[0;32m/Library/Frameworks/Python.framework/Versions/3.5/lib/python3.5/site-packages/gevent/greenlet.py\u001b[0m in \u001b[0;36mjoin\u001b[0;34m(self, timeout)\u001b[0m\n\u001b[1;32m    480\u001b[0m             \u001b[0mt\u001b[0m \u001b[0;34m=\u001b[0m \u001b[0mTimeout\u001b[0m\u001b[0;34m.\u001b[0m\u001b[0m_start_new_or_dummy\u001b[0m\u001b[0;34m(\u001b[0m\u001b[0mtimeout\u001b[0m\u001b[0;34m)\u001b[0m\u001b[0;34m\u001b[0m\u001b[0m\n\u001b[1;32m    481\u001b[0m             \u001b[0;32mtry\u001b[0m\u001b[0;34m:\u001b[0m\u001b[0;34m\u001b[0m\u001b[0m\n\u001b[0;32m--> 482\u001b[0;31m                 \u001b[0mresult\u001b[0m \u001b[0;34m=\u001b[0m \u001b[0mself\u001b[0m\u001b[0;34m.\u001b[0m\u001b[0mparent\u001b[0m\u001b[0;34m.\u001b[0m\u001b[0mswitch\u001b[0m\u001b[0;34m(\u001b[0m\u001b[0;34m)\u001b[0m\u001b[0;34m\u001b[0m\u001b[0m\n\u001b[0m\u001b[1;32m    483\u001b[0m                 \u001b[0;32mif\u001b[0m \u001b[0mresult\u001b[0m \u001b[0;32mis\u001b[0m \u001b[0;32mnot\u001b[0m \u001b[0mself\u001b[0m\u001b[0;34m:\u001b[0m\u001b[0;34m\u001b[0m\u001b[0m\n\u001b[1;32m    484\u001b[0m                     \u001b[0;32mraise\u001b[0m \u001b[0mInvalidSwitchError\u001b[0m\u001b[0;34m(\u001b[0m\u001b[0;34m'Invalid switch into Greenlet.join(): %r'\u001b[0m \u001b[0;34m%\u001b[0m \u001b[0;34m(\u001b[0m\u001b[0mresult\u001b[0m\u001b[0;34m,\u001b[0m \u001b[0;34m)\u001b[0m\u001b[0;34m)\u001b[0m\u001b[0;34m\u001b[0m\u001b[0m\n",
      "\u001b[0;32m/Library/Frameworks/Python.framework/Versions/3.5/lib/python3.5/site-packages/gevent/hub.py\u001b[0m in \u001b[0;36mswitch\u001b[0;34m(self)\u001b[0m\n\u001b[1;32m    600\u001b[0m         \u001b[0;32mif\u001b[0m \u001b[0mswitch_out\u001b[0m \u001b[0;32mis\u001b[0m \u001b[0;32mnot\u001b[0m \u001b[0;32mNone\u001b[0m\u001b[0;34m:\u001b[0m\u001b[0;34m\u001b[0m\u001b[0m\n\u001b[1;32m    601\u001b[0m             \u001b[0mswitch_out\u001b[0m\u001b[0;34m(\u001b[0m\u001b[0;34m)\u001b[0m\u001b[0;34m\u001b[0m\u001b[0m\n\u001b[0;32m--> 602\u001b[0;31m         \u001b[0;32mreturn\u001b[0m \u001b[0mgreenlet\u001b[0m\u001b[0;34m.\u001b[0m\u001b[0mswitch\u001b[0m\u001b[0;34m(\u001b[0m\u001b[0mself\u001b[0m\u001b[0;34m)\u001b[0m\u001b[0;34m\u001b[0m\u001b[0m\n\u001b[0m\u001b[1;32m    603\u001b[0m \u001b[0;34m\u001b[0m\u001b[0m\n\u001b[1;32m    604\u001b[0m     \u001b[0;32mdef\u001b[0m \u001b[0mswitch_out\u001b[0m\u001b[0;34m(\u001b[0m\u001b[0mself\u001b[0m\u001b[0;34m)\u001b[0m\u001b[0;34m:\u001b[0m\u001b[0;34m\u001b[0m\u001b[0m\n",
      "\u001b[0;31mKeyboardInterrupt\u001b[0m: "
     ]
    }
   ],
   "source": [
    "import gevent\n",
    "import signal\n",
    "\n",
    "def run_forever():\n",
    "    gevent.sleep(1000)\n",
    "\n",
    "#gevent.signal(signal.SIGQUIT, gevent.shutdown)\n",
    "thread = gevent.spawn(run_forever)\n",
    "thread.join()\n",
    "gevent.kill(thread)\n",
    "\n",
    "    "
   ]
  }
 ],
 "metadata": {
  "kernelspec": {
   "display_name": "Python 3",
   "language": "python",
   "name": "python3"
  },
  "language_info": {
   "codemirror_mode": {
    "name": "ipython",
    "version": 3
   },
   "file_extension": ".py",
   "mimetype": "text/x-python",
   "name": "python",
   "nbconvert_exporter": "python",
   "pygments_lexer": "ipython3",
   "version": "3.5.1"
  }
 },
 "nbformat": 4,
 "nbformat_minor": 0
}
