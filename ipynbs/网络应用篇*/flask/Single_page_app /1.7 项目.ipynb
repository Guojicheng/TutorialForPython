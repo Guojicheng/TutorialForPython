{
 "cells": [
  {
   "cell_type": "markdown",
   "metadata": {},
   "source": [
    "# 1.7 项目\n",
    "\n",
    "一个计算英国,法国,日本,澳大利亚当前时间的app,项目将用到flask和datetime这三个库,我们还是用之前的模板,只是修改app文件和index"
   ]
  },
  {
   "cell_type": "code",
   "execution_count": 44,
   "metadata": {
    "collapsed": false
   },
   "outputs": [
    {
     "name": "stdout",
     "output_type": "stream",
     "text": [
      "Overwriting ../codes/worldtime/worldtime.py\n"
     ]
    }
   ],
   "source": [
    "%%writefile ../codes/worldtime/worldtime.py\n",
    "from flask import Flask,render_template,url_for,flash,redirect\n",
    "from flask.ext.script import Manager\n",
    "from flask.ext.bootstrap import Bootstrap\n",
    "\n",
    "\n",
    "from flask.ext.wtf import Form\n",
    "from wtforms import RadioField, SubmitField \n",
    "from wtforms.validators import Required\n",
    "  \n",
    "import time\n",
    "from datetime import timedelta, timezone,datetime\n",
    "\n",
    "app = Flask(__name__)\n",
    "app.config['SECRET_KEY'] = 'hard to guess string'# 新增\n",
    "app.debug = True\n",
    "bootstrap = Bootstrap(app)\n",
    "manager = Manager(app)\n",
    "\n",
    "#新增\n",
    "class TimeForm(Form):\n",
    "    country = RadioField(\"Which country? \", \n",
    "                      choices=[('Japan', 'Japan'), ('UK', 'UK'), ('France', 'France'),(\"Australia\",\"Australia\")],\n",
    "                      validators=[Required()])\n",
    "    submit = SubmitField('Submit')\n",
    "\n",
    "@app.template_filter('changeTime')\n",
    "def changeTime(text):\n",
    "    now_utc = datetime.utcnow().replace(tzinfo=timezone.utc)\n",
    "    return str(now_utc.astimezone(timezone(timedelta(hours=text))).strftime('%a, %b %d %H:%M'))    \n",
    "\n",
    "\n",
    "@app.route('/',methods = [\"POST\",\"GET\"])\n",
    "def worldtime():\n",
    "    timezones = {\n",
    "        \"China\":(8,u\"北京\"),\n",
    "        \"Japan\":(9,u\"东京\"),\n",
    "        \"UK\":(0,u\"伦敦\"),\n",
    "        \"France\":(2,u\"巴黎\"),\n",
    "        \"Australia\":(10,u\"悉尼\")\n",
    "    }\n",
    "    chinatimezone,chinacity = timezones.get(\"China\")\n",
    "    timezone = chinatimezone\n",
    "    city = chinacity\n",
    "    timeform = TimeForm()\n",
    "    if timeform.validate_on_submit():\n",
    "        country = timeform.country.data\n",
    "        if country:\n",
    "            country = str(timeform.country.data)\n",
    "            timezone,city = timezones.get(country)\n",
    "        else:\n",
    "            flash(\"Looks like there is something wrong!\")\n",
    "            return redirect(url_for('worldtime'))   \n",
    "    \n",
    "        \n",
    "    return render_template('myapp/index.html',timeform=timeform,\n",
    "                           chinacity = chinacity,\n",
    "                           chinatime=chinatimezone,\n",
    "                           city= city, \n",
    "                           timezone=timezone)\n"
   ]
  },
  {
   "cell_type": "code",
   "execution_count": 45,
   "metadata": {
    "collapsed": false
   },
   "outputs": [
    {
     "name": "stdout",
     "output_type": "stream",
     "text": [
      "Overwriting ../codes/worldtime/templates/myapp/index.html\n"
     ]
    }
   ],
   "source": [
    "%%writefile ../codes/worldtime/templates/myapp/index.html\n",
    "{% extends \"/base.html\" %}\n",
    "{% import \"bootstrap/wtf.html\" as wtf %}\n",
    "{% block title %}hello world!{% endblock %}\n",
    "{% block content %}\n",
    "\n",
    "    <div class=\"container\">\n",
    "        <div class=\"page-header\">\n",
    "            <h1>World's Time Welcome!</h1>\n",
    "            <p>{{chinacity}}时间: {{chinatime|changeTime}}</p>\n",
    "            {% if city != chinacity%}\n",
    "                <p>{{city}}时间:{{ timezone|changeTime }}</p>\n",
    "            {% endif%}\n",
    "            {{ wtf.quick_form( timeform,form_type='horizontal') }}\n",
    "            \n",
    "        </div>      \n",
    "    </div>    \n",
    "    \n",
    "{{ super() }}\n",
    "{% endblock %}"
   ]
  },
  {
   "cell_type": "code",
   "execution_count": 46,
   "metadata": {
    "collapsed": false
   },
   "outputs": [
    {
     "name": "stdout",
     "output_type": "stream",
     "text": [
      "Overwriting ../codes/worldtime/manager.py\n"
     ]
    }
   ],
   "source": [
    "%%writefile ../codes/worldtime/manager.py\n",
    "#coding:UTF-8\n",
    "import os\n",
    "import sys\n",
    "\n",
    "root = os.path.dirname(__file__)\n",
    "\n",
    "sys.path.insert(0, os.path.join(root, 'site-packages'))\n",
    "\n",
    "from worldtime import manager\n",
    "\n",
    "if __name__ == '__main__':\n",
    "    manager.run()"
   ]
  },
  {
   "cell_type": "code",
   "execution_count": 47,
   "metadata": {
    "collapsed": false,
    "scrolled": false
   },
   "outputs": [
    {
     "name": "stdout",
     "output_type": "stream",
     "text": [
      " * Running on http://127.0.0.1:5000/ (Press CTRL+C to quit)\n",
      " * Restarting with stat\n",
      " * Debugger is active!\n",
      " * Debugger pin code: 258-121-533\n",
      "127.0.0.1 - - [20/Jan/2016 15:57:34] \"POST / HTTP/1.1\" 200 -\n",
      "127.0.0.1 - - [20/Jan/2016 15:57:38] \"GET /favicon.ico HTTP/1.1\" 404 -\n",
      "127.0.0.1 - - [20/Jan/2016 15:57:40] \"POST / HTTP/1.1\" 200 -\n",
      "127.0.0.1 - - [20/Jan/2016 15:57:43] \"POST / HTTP/1.1\" 200 -\n",
      "127.0.0.1 - - [20/Jan/2016 15:57:46] \"POST / HTTP/1.1\" 200 -\n",
      "127.0.0.1 - - [20/Jan/2016 15:57:53] \"POST / HTTP/1.1\" 200 -\n",
      "127.0.0.1 - - [20/Jan/2016 15:57:57] \"POST / HTTP/1.1\" 200 -\n",
      "127.0.0.1 - - [20/Jan/2016 15:58:03] \"POST / HTTP/1.1\" 200 -\n",
      "127.0.0.1 - - [20/Jan/2016 15:58:05] \"POST / HTTP/1.1\" 200 -\n",
      "^C\n"
     ]
    }
   ],
   "source": [
    "!python3 ../codes/worldtime/manager.py runserver"
   ]
  },
  {
   "cell_type": "markdown",
   "metadata": {
    "collapsed": true
   },
   "source": [
    "# 总结\n",
    "\n",
    "用到的模块:\n",
    "\n",
    "包|作用\n",
    "---|---\n",
    "flask|flask web框架\n",
    "flask-script|flask的上下文shell\n",
    "jinja2|flask的默认模板\n",
    "flask-bootstrap|flask的bootstrap前端扩展\n",
    "flask-wtf|构建表单"
   ]
  }
 ],
 "metadata": {
  "kernelspec": {
   "display_name": "Python 3",
   "language": "python",
   "name": "python3"
  },
  "language_info": {
   "codemirror_mode": {
    "name": "ipython",
    "version": 3
   },
   "file_extension": ".py",
   "mimetype": "text/x-python",
   "name": "python",
   "nbconvert_exporter": "python",
   "pygments_lexer": "ipython3",
   "version": "3.5.1"
  }
 },
 "nbformat": 4,
 "nbformat_minor": 0
}
