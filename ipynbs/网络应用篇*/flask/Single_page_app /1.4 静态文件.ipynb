{
 "cells": [
  {
   "cell_type": "markdown",
   "metadata": {},
   "source": [
    "# 1.4 静态文件\n",
    "\n",
    "我们如果要使用自己定义的css,js文件,或者需要调用图片,音频,视频等资源,就需要使用静态文件了\n",
    "\n",
    "比如,flask中可以在模板中用{{ url_for('static', filename = 'jftw.jpg') }}来找到static文件夹下的jftw.jpg文件\n",
    "\n",
    "需要注意的是,如果你的路径中有中文,python2.7常常会出现编码问题解决办法是在你的 site-packages/flask文件夹也就是你存放flask包的文件夹下找到helper.py,找到所有os.path.abspath在后面加上.decode(\"utf-8\")"
   ]
  },
  {
   "cell_type": "markdown",
   "metadata": {},
   "source": [
    ">我们来为index.html插入一张图片"
   ]
  },
  {
   "cell_type": "code",
   "execution_count": 1,
   "metadata": {
    "collapsed": false
   },
   "outputs": [
    {
     "name": "stdout",
     "output_type": "stream",
     "text": [
      "Overwriting ../codes/helloworld/templates/myapp/index.html\n"
     ]
    }
   ],
   "source": [
    "%%writefile ../codes/helloworld/templates/myapp/index.html\n",
    "{% extends \"/base.html\" %}\n",
    "{% block title %}hello world!{% endblock %}\n",
    "{% block content %}\n",
    "    <div class=\"container\">\n",
    "        <div class=\"page-header\">\n",
    "            <p>time:{{ count }}</p>\n",
    "            <h1>Hello, world! - flask</h1>\n",
    "        </div>\n",
    "        <p>answer={{answer}}</p>\n",
    "        <p>this document carries a cookie </p>\n",
    "        <p>money={{money|RMBtoUSD}}</p>\n",
    "        <p>this document carries a cookie </p>\n",
    "        <img src=\"{{ url_for('static', filename = 'jftw.jpg') }}\"></img>\n",
    "    </div>    \n",
    "    {{ super() }}\n",
    "{% endblock %}"
   ]
  },
  {
   "cell_type": "code",
   "execution_count": 4,
   "metadata": {
    "collapsed": false
   },
   "outputs": [
    {
     "name": "stdout",
     "output_type": "stream",
     "text": [
      " * Running on http://127.0.0.1:5000/ (Press CTRL+C to quit)\n",
      " * Restarting with stat\n",
      " * Debugger is active!\n",
      " * Debugger pin code: 258-121-533\n",
      "127.0.0.1 - - [19/Jan/2016 16:17:22] \"GET / HTTP/1.1\" 200 -\n",
      "127.0.0.1 - - [19/Jan/2016 16:17:22] \"GET /static/jftw.jpg HTTP/1.1\" 200 -\n",
      "127.0.0.1 - - [19/Jan/2016 16:17:23] \"GET /favicon.ico HTTP/1.1\" 200 -\n",
      "^C\n"
     ]
    }
   ],
   "source": [
    "!python3 ../codes/helloworld/manager.py runserver"
   ]
  },
  {
   "cell_type": "markdown",
   "metadata": {},
   "source": [
    "## 用Flask-Assets管理静态文件\n",
    "\n",
    "[Flask-Assets](http://flask-assets.readthedocs.org/en/latest/)是一个管理静态文件的插件。它提供了两种非常有用的特性。首先，它允许你在Python代码中定义多组（bundles）可以同时插入你的模板的静态文件。其次，它允许你预处理这些文件。这意味着你可以合并并压缩你的CSS和Javascript文件，这样用户就会仅仅得到两个压缩后的文件（CSS和Javascript）而免于花费太多带宽。你甚至可以从Sass，Less，CoffeeScript或别的源码里编译出最终产物。在这版中我们没啥太多的静态文件需要管理所以不用这个.后面会讲到"
   ]
  }
 ],
 "metadata": {
  "kernelspec": {
   "display_name": "Python 3",
   "language": "python",
   "name": "python3"
  },
  "language_info": {
   "codemirror_mode": {
    "name": "ipython",
    "version": 3
   },
   "file_extension": ".py",
   "mimetype": "text/x-python",
   "name": "python",
   "nbconvert_exporter": "python",
   "pygments_lexer": "ipython3",
   "version": "3.5.1"
  }
 },
 "nbformat": 4,
 "nbformat_minor": 0
}
