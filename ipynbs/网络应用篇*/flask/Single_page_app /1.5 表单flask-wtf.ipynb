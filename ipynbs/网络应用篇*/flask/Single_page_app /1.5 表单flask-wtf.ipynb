{
 "cells": [
  {
   "cell_type": "markdown",
   "metadata": {},
   "source": [
    "# 1.5 表单flask-wtf\n",
    "\n",
    "浏览器对面的用户是如何与网站交互呢?一般有几种形式,最常用的就是表单了.表单是前端概念, 也就是说其实和flask本身关系不大,但因为有一个插件--[flask-wtf](http://docs.jinkan.org/docs/flask-wtf/)的存在,表单使用变得异常方便快捷.要了解更多,最好看看[wtf的文档](http://pythonhosted.org/WTForms/)"
   ]
  },
  {
   "cell_type": "markdown",
   "metadata": {},
   "source": [
    "## flask-wtf\n",
    "\n",
    "这个名字不是我取的...应该是作者的恶趣味,flask-wtf的安装可以用pip\n",
    "\n",
    "    pip install flask-wtf"
   ]
  },
  {
   "cell_type": "markdown",
   "metadata": {},
   "source": [
    "## 跨站请求伪造保护\n",
    "\n",
    "flask-wtf可以通过给app设置一个密码来防止CSRF(跨站请求攻击)\n",
    "\n",
    "helloworld.py:\n",
    "\n",
    "    #...\n",
    "    app = Flask(__name__)\n",
    "    app.config['SECRET_KEY'] = 'hard to guess string'\n",
    "    #...\n",
    "    \n",
    "    \n",
    "    \n",
    "## 定义表单类:\n",
    "\n",
    "    #...\n",
    "    from flask.ext.wtf import Form\n",
    "    from wtforms import StringField, SubmitField from wtforms.validators import Required\n",
    "    class NameForm(Form):\n",
    "        name = StringField('What is your name?', validators=[Required()])\n",
    "        submit = SubmitField('Submit')\n",
    "    #...\n",
    "    \n",
    "    \n",
    "可以看到定义一个表单基本流程是:\n",
    "\n",
    "1. 创建一个继承Form的类\n",
    "2. 定义字段类型变量\n",
    "3. 设定验证函数\n",
    "\n",
    "\n",
    "WTForms支持的HTML标准字段:\n",
    "\n",
    "字段类型|说明\n",
    "---|---\n",
    "StringField |文本字段\n",
    "TextAreaField |多行文本字段\n",
    "PasswordField |密码文本字段\n",
    "HiddenField |隐藏文本字段\n",
    "DateField |文本字段,值为 datetime.date 格式\n",
    "DateTimeField |文本字段,值为 datetime.datetime 格式\n",
    "IntegerField |文本字段,值为整数\n",
    "DecimalField |文本字段,值为 decimal.Decimal\n",
    "FloatField |文本字段,值为浮点数\n",
    "BooleanField |复选框,值为 True 和 False\n",
    "RadioField | 一组单选框\n",
    "SelectField | 下拉列表\n",
    "SelectMultipleField |下拉列表,可选择多个值\n",
    "FileField |文件上传字段\n",
    "SubmitField |表单提交按钮\n",
    "FormField|把表单作为字段嵌入另一个表单\n",
    "FieldList|一组指定类型的字段\n",
    "\n",
    "内置的验证函数:\n",
    "\n",
    "验证函数|说明\n",
    "---|---\n",
    "Email |验证电子邮件地址\n",
    "EqualTo |比较两个字段的值;常用于要求输入两次密码进行确认的情况 IPAddress 验证 IPv4 网络地址\n",
    "Length |验证输入字符串的长度\n",
    "NumberRange |验证输入的值在数字范围内\n",
    "Optional |无输入值时跳过其他验证函数\n",
    "Required |确保字段中有数据\n",
    "Regexp |使用正则表达式验证输入值\n",
    "URL |验证 URL\n",
    "AnyOf |确保输入值在可选值列表中\n",
    "NoneOf |确保输入值不在可选值列表中\n",
    "\n",
    "\n"
   ]
  },
  {
   "cell_type": "markdown",
   "metadata": {},
   "source": [
    "## 使用flask-bootstrap的wtf扩展渲染html:\n",
    "\n",
    "我们拿index做实验:"
   ]
  },
  {
   "cell_type": "code",
   "execution_count": 11,
   "metadata": {
    "collapsed": false
   },
   "outputs": [
    {
     "name": "stdout",
     "output_type": "stream",
     "text": [
      "Overwriting ../codes/helloworld/templates/myapp/index.html\n"
     ]
    }
   ],
   "source": [
    "%%writefile ../codes/helloworld/templates/myapp/index.html\n",
    "{% extends \"/base.html\" %}\n",
    "{% import \"bootstrap/wtf.html\" as wtf %}\n",
    "{% block title %}hello world!{% endblock %}\n",
    "{% block content %}\n",
    "    <div class=\"container\">\n",
    "        <div class=\"page-header\">\n",
    "            <p>time:{{ count }}</p>\n",
    "            <h1>Hello, world! - flask</h1>\n",
    "        </div>\n",
    "        <p>answer={{answer}}</p>\n",
    "        <p>this document carries a cookie </p>\n",
    "        <p>money={{money|RMBtoUSD}}</p>\n",
    "        <p>this document carries a cookie </p>\n",
    "        {{ wtf.quick_form(moneyform,form_type='horizontal') }}\n",
    "        <img src=\"{{ url_for('static', filename = 'jftw.jpg') }}\"></img>\n",
    "    </div>    \n",
    "    {{ super() }}\n",
    "{% endblock %}"
   ]
  },
  {
   "cell_type": "markdown",
   "metadata": {},
   "source": [
    "其中用到了一个宏`wtf.quick_form`,它的参数是这样的:\n",
    "\n",
    "    quick_form(form, action=\".\", method=\"post\", extra_classes=None, role=\"form\", form_type=\"basic\", horizontal_columns=('lg', 2, 10), enctype=None, button_map={}, id=\"\")\n",
    "\n",
    "参数说明:\n",
    "\n",
    "    form – The form to output.\n",
    "    method – <form> method attribute.\n",
    "    extra_classes – The classes to add to the <form>.\n",
    "    role – <form> role attribute.\n",
    "    form_type – One of basic, inline or horizontal. See the Bootstrap docs for details on different form layouts.\n",
    "    horizontal_columns – When using the horizontal layout, layout forms like this. Must be a 3-tuple of (column-type, left-column-size, right-colum-size).\n",
    "    enctype – <form> enctype attribute. If None, will automatically be set to multipart/form-data if a FileField is present in the form.\n",
    "    button_map – A dictionary, mapping button field names to names such as primary, danger or success. Buttons not found in the button_map will use the default type of button.\n",
    "    id – The <form> id attribute.\n"
   ]
  },
  {
   "cell_type": "code",
   "execution_count": 30,
   "metadata": {
    "collapsed": false
   },
   "outputs": [
    {
     "name": "stdout",
     "output_type": "stream",
     "text": [
      "Overwriting ../codes/helloworld/helloworld.py\n"
     ]
    }
   ],
   "source": [
    "%%writefile ../codes/helloworld/helloworld.py\n",
    "#coding:UTF-8\n",
    "from flask import Flask,request,g,make_response,abort,redirect,url_for,render_template\n",
    "from flask.ext.script import Manager\n",
    "from flask.ext.bootstrap import Bootstrap\n",
    "import time\n",
    "\n",
    "from flask.ext.wtf import Form\n",
    "from wtforms import StringField, SubmitField \n",
    "from wtforms.validators import Required\n",
    "\n",
    "app = Flask(__name__)\n",
    "app.config['SECRET_KEY'] = 'hard to guess string'# 新增\n",
    "app.debug = True\n",
    "bootstrap = Bootstrap(app)\n",
    "manager = Manager(app)\n",
    "\n",
    "#新增\n",
    "class MoneyForm(Form):\n",
    "    money = StringField('How much RMB to change?', validators=[Required()])\n",
    "    submit = SubmitField('Submit')\n",
    "\n",
    "@app.template_filter('RMBtoUSD')\n",
    "def RMBtoUSD(text):\n",
    "    return \"$\"+str(round(float(text)*0.1520,2))\n",
    "\n",
    "\n",
    "@app.before_request\n",
    "def before_request():\n",
    "        g.time = time.asctime()\n",
    "        if request.cookies.get('answer'):\n",
    "            g.answer = request.cookies.get('answer')\n",
    "        else:\n",
    "            g.answer = \"0\"\n",
    "@app.errorhandler(404)\n",
    "def page_not_found(error):\n",
    "    return \"404,page not found!\",404,{\"a\":\"af\"}\n",
    "#需要注册http方法\n",
    "@app.route('/',methods = [\"GET\",\"POST\"])\n",
    "def hello():\n",
    "    ##修改\n",
    "    money = 0\n",
    "    moneyform = MoneyForm()\n",
    "    if moneyform.validate_on_submit():\n",
    "        money = moneyform.money.data\n",
    "        if moneyform.money.data:\n",
    "            money = str(moneyform.money.data)\n",
    "        \n",
    "        moneyform.money.data =\"\"\n",
    "    response = make_response(render_template('myapp/index.html',count=g.time,moneyform=moneyform,answer=g.answer,money=money))\n",
    "    response.set_cookie('answer', money)\n",
    "    return response\n",
    "\n",
    "@app.route('/<name>')\n",
    "def name(name):\n",
    "    return \"time:{count} Hello, world! - {name}\".format(count=g.time,name=name)\n",
    "\n",
    "@app.route(\"/info\")\n",
    "def info():\n",
    "    user_agent = request.headers.get('User-Agent')\n",
    "    return '<p>time:{count}</p><p>Your browser is {agent}</p>'.format(count=g.time,agent=user_agent)\n",
    "\n",
    "@app.route('/login')\n",
    "def login():\n",
    "    abort(404)\n",
    "@app.route('/infos')\n",
    "def infos():\n",
    "    return redirect(url_for('info'))"
   ]
  },
  {
   "cell_type": "code",
   "execution_count": 31,
   "metadata": {
    "collapsed": false
   },
   "outputs": [
    {
     "name": "stdout",
     "output_type": "stream",
     "text": [
      " * Running on http://127.0.0.1:5000/ (Press CTRL+C to quit)\n",
      " * Restarting with stat\n",
      " * Debugger is active!\n",
      " * Debugger pin code: 258-121-533\n",
      "127.0.0.1 - - [19/Jan/2016 17:54:28] \"POST / HTTP/1.1\" 200 -\n",
      "127.0.0.1 - - [19/Jan/2016 17:54:28] \"GET /static/jftw.jpg HTTP/1.1\" 304 -\n",
      "127.0.0.1 - - [19/Jan/2016 17:54:28] \"GET /favicon.ico HTTP/1.1\" 200 -\n",
      "127.0.0.1 - - [19/Jan/2016 17:54:32] \"POST / HTTP/1.1\" 200 -\n",
      "127.0.0.1 - - [19/Jan/2016 17:54:32] \"GET /favicon.ico HTTP/1.1\" 200 -\n",
      "127.0.0.1 - - [19/Jan/2016 17:54:37] \"POST / HTTP/1.1\" 200 -\n",
      "127.0.0.1 - - [19/Jan/2016 17:54:38] \"GET /favicon.ico HTTP/1.1\" 200 -\n",
      "127.0.0.1 - - [19/Jan/2016 17:54:43] \"POST / HTTP/1.1\" 200 -\n",
      "127.0.0.1 - - [19/Jan/2016 17:54:44] \"GET /favicon.ico HTTP/1.1\" 200 -\n",
      "^C\n"
     ]
    }
   ],
   "source": [
    "!python3 ../codes/helloworld/manager.py runserver"
   ]
  },
  {
   "cell_type": "markdown",
   "metadata": {},
   "source": [
    "## 更通用的html表单渲染:\n",
    "\n",
    "`quick_form()`虽然简单好用,但定制性还是不太高,我们来手动实现一个吧"
   ]
  },
  {
   "cell_type": "code",
   "execution_count": 22,
   "metadata": {
    "collapsed": false
   },
   "outputs": [
    {
     "name": "stdout",
     "output_type": "stream",
     "text": [
      "Overwriting ../codes/helloworld/templates/myapp/index.html\n"
     ]
    }
   ],
   "source": [
    "%%writefile ../codes/helloworld/templates/myapp/index.html\n",
    "{% extends \"/base.html\" %}\n",
    "{% import \"bootstrap/wtf.html\" as wtf %}\n",
    "{% block title %}hello world!{% endblock %}\n",
    "{% block content %}\n",
    "\n",
    "    <div class=\"container\">\n",
    "        <div class=\"page-header\">\n",
    "            <p>time:{{ count }}</p>\n",
    "            <h1>Hello, world! - {{name}}</h1>\n",
    "        </div>\n",
    "        <p>answer={{answer}}</p>\n",
    "        <p>money={{money|RMBtoUSD}}</p>\n",
    "        <p>this document carries a cookie </p>\n",
    "        <form method=\"POST\" action=\"/\" class = \"form-inline\">\n",
    "            {{ moneyform.csrf_token }}\n",
    "            <div class=\"form-group\">\n",
    "                {{ moneyform.money.label(for=moneyform.money.id)|safe  }} \n",
    "                {{ moneyform.money(size=20,class=\"form-control\") }}\n",
    "            </div>\n",
    "            <input type=\"submit\" value=\"提交\" class=\"btn btn-default\">\n",
    "        </form>\n",
    "        <img src=\"{{ url_for('static', filename = 'jftw.jpg') }}\"></img>\n",
    "    </div>\n",
    "        {{ super() }}\n",
    "{% endblock %}"
   ]
  },
  {
   "cell_type": "code",
   "execution_count": 29,
   "metadata": {
    "collapsed": false
   },
   "outputs": [
    {
     "name": "stdout",
     "output_type": "stream",
     "text": [
      " * Running on http://127.0.0.1:5000/ (Press CTRL+C to quit)\n",
      " * Restarting with stat\n",
      " * Debugger is active!\n",
      " * Debugger pin code: 258-121-533\n",
      "127.0.0.1 - - [19/Jan/2016 17:33:52] \"POST / HTTP/1.1\" 200 -\n",
      "127.0.0.1 - - [19/Jan/2016 17:33:52] \"GET /static/jftw.jpg HTTP/1.1\" 304 -\n",
      "127.0.0.1 - - [19/Jan/2016 17:33:52] \"GET /favicon.ico HTTP/1.1\" 200 -\n",
      "127.0.0.1 - - [19/Jan/2016 17:33:56] \"POST / HTTP/1.1\" 200 -\n",
      "127.0.0.1 - - [19/Jan/2016 17:33:56] \"GET /favicon.ico HTTP/1.1\" 200 -\n",
      "127.0.0.1 - - [19/Jan/2016 17:34:00] \"POST / HTTP/1.1\" 200 -\n",
      "127.0.0.1 - - [19/Jan/2016 17:34:00] \"GET /favicon.ico HTTP/1.1\" 200 -\n",
      "127.0.0.1 - - [19/Jan/2016 17:34:23] \"POST / HTTP/1.1\" 200 -\n",
      "127.0.0.1 - - [19/Jan/2016 17:34:23] \"GET /favicon.ico HTTP/1.1\" 200 -\n",
      "^C\n"
     ]
    }
   ],
   "source": [
    "!python3 ../codes/helloworld/manager.py runserver"
   ]
  },
  {
   "cell_type": "markdown",
   "metadata": {},
   "source": [
    "## 用户会话\n",
    "\n",
    "以上的程序有个问题就是无法记录用户上次的信息,使用session可以做到这点\n",
    "\n",
    "    from flask import xxx...,session,url_for\n",
    "\n",
    "    #...\n",
    "    @app.route('/',methods=[\"GET\",\"POST\"])\n",
    "    def hello():\n",
    "        nameform = NameForm()\n",
    "        if nameform.validate_on_submit():\n",
    "            session['name'] = nameform.name.data\n",
    "            if nameform.money.data:\n",
    "                session['money']  = str(nameform.money.data)\n",
    "            else:session['money']  = \"0\"\n",
    "            return redirect(url_for('hello'))\n",
    "        if session.get('money'):\n",
    "            money = session.get('money')\n",
    "        else:\n",
    "            money =\"0\"\n",
    "        if session.get('name'):\n",
    "            name = session.get('name')\n",
    "        else:\n",
    "            name =\"flask\"\n",
    "\n",
    "        tem = render_template(\"myapp/index.html\",\n",
    "        count=g.time,nameform=nameform,name=name,money=money)se\n",
    "        return tem\n",
    "    #...\n"
   ]
  },
  {
   "cell_type": "markdown",
   "metadata": {},
   "source": [
    "## flash消息:\n",
    "\n",
    "请求完成后,有时需要让用户知道状态发生了变化。这里可以使用确认消息、警告或者错 误提醒。一个典型例子是,用户提交了有一项错误的登录表单后,服务器发回的响应重新 渲染了登录表单,并在表单上面显示一个消息,提示用户用户名或密码错误。\n",
    "这种功能是 Flask 的核心特性\n",
    "\n"
   ]
  },
  {
   "cell_type": "markdown",
   "metadata": {},
   "source": [
    ">我们来实现下session和flash"
   ]
  },
  {
   "cell_type": "code",
   "execution_count": 78,
   "metadata": {
    "collapsed": false
   },
   "outputs": [
    {
     "name": "stdout",
     "output_type": "stream",
     "text": [
      "Overwriting ../codes/helloworld/helloworld.py\n"
     ]
    }
   ],
   "source": [
    "%%writefile ../codes/helloworld/helloworld.py\n",
    "#coding:UTF-8\n",
    "from flask import Flask,request,g,make_response,abort,redirect,url_for,render_template,flash,session\n",
    "from flask.ext.script import Manager\n",
    "from flask.ext.bootstrap import Bootstrap\n",
    "import time\n",
    "\n",
    "from flask.ext.wtf import Form\n",
    "from wtforms import StringField, SubmitField \n",
    "from wtforms.validators import Required\n",
    "\n",
    "app = Flask(__name__)\n",
    "app.config['SECRET_KEY'] = 'hard to guess string'# 新增\n",
    "app.debug = True\n",
    "bootstrap = Bootstrap(app)\n",
    "manager = Manager(app)\n",
    "\n",
    "#新增\n",
    "class MoneyForm(Form):\n",
    "    money = StringField('How much RMB to change?', validators=[Required()])\n",
    "    submit = SubmitField('Submit')\n",
    "\n",
    "@app.template_filter('RMBtoUSD')\n",
    "def RMBtoUSD(text):\n",
    "    return \"$\"+str(round(float(text)*0.1520,2))\n",
    "\n",
    "\n",
    "@app.before_request\n",
    "def before_request():\n",
    "        g.time = time.asctime()\n",
    "#删除一些\n",
    "@app.errorhandler(404)\n",
    "def page_not_found(error):\n",
    "    return \"404,page not found!\",404,{\"a\":\"af\"}\n",
    "#需要注册http方法\n",
    "@app.route('/',methods = [\"GET\",\"POST\"])\n",
    "def hello():\n",
    "    ##修改\n",
    "    old_money = \"0\"\n",
    "    money = \"0\"\n",
    "    moneyform = MoneyForm()\n",
    "    if moneyform.validate_on_submit():\n",
    "        old_money = session.get('money')\n",
    "        \n",
    "        if moneyform.money.data:\n",
    "            money = str(moneyform.money.data)\n",
    "            session[\"money\"]=money\n",
    "        if money == \"0\":\n",
    "            flash(\"Looks like you entered 0\")\n",
    "            session[\"money\"]=money\n",
    "            return redirect(url_for('hello'))                   \n",
    "        moneyform.money.data =\"\"\n",
    "        \n",
    "    response = make_response(render_template('myapp/index.html',count=g.time,\n",
    "                                             moneyform=moneyform,\n",
    "                                             answer=old_money+\"元\",money=money))\n",
    "    response\n",
    "    return response\n",
    "\n",
    "@app.route('/<name>')\n",
    "def name(name):\n",
    "    return \"time:{count} Hello, world! - {name}\".format(count=g.time,name=name)\n",
    "\n",
    "@app.route(\"/info\")\n",
    "def info():\n",
    "    user_agent = request.headers.get('User-Agent')\n",
    "    return '<p>time:{count}</p><p>Your browser is {agent}</p>'.format(count=g.time,agent=user_agent)\n",
    "\n",
    "@app.route('/login')\n",
    "def login():\n",
    "    abort(404)\n",
    "@app.route('/infos')\n",
    "def infos():\n",
    "    return redirect(url_for('info'))"
   ]
  },
  {
   "cell_type": "code",
   "execution_count": 79,
   "metadata": {
    "collapsed": false
   },
   "outputs": [
    {
     "name": "stdout",
     "output_type": "stream",
     "text": [
      "Overwriting ../codes/helloworld/templates/myapp/index.html\n"
     ]
    }
   ],
   "source": [
    "%%writefile ../codes/helloworld/templates/myapp/index.html\n",
    "{% extends \"/base.html\" %}\n",
    "{% import \"bootstrap/wtf.html\" as wtf %}\n",
    "{% block title %}hello world!{% endblock %}\n",
    "{% block content %}\n",
    "\n",
    "    <div class=\"container\">\n",
    "        <div class=\"page-header\">\n",
    "            <p>time:{{ count }}</p>\n",
    "            <h1>Hello, world! - {{name}}</h1>\n",
    "        </div>\n",
    "        <p>上一次的输入={{answer}}</p>\n",
    "        {% for message in get_flashed_messages() %}\n",
    "        \n",
    "            <div class=\"alert alert-warning\">\n",
    "                  <button type=\"button\" class=\"close\" data-dismiss=\"alert\">&times;</button>\n",
    "                  {{ message }}\n",
    "            </div>\n",
    "        {% endfor %}\n",
    "        <p>可以换成:{{money|RMBtoUSD}}</p>\n",
    "        <form method=\"POST\" action=\"/\" class = \"form-inline\">\n",
    "            {{ moneyform.csrf_token }}\n",
    "            <div class=\"form-group\">\n",
    "                {{ moneyform.money.label(for=moneyform.money.id)|safe  }} \n",
    "                {{ moneyform.money(size=20,class=\"form-control\") }}\n",
    "            </div>\n",
    "            <input type=\"submit\" value=\"提交\" class=\"btn btn-default\">\n",
    "        </form>\n",
    "        <img src=\"{{ url_for('static', filename = 'jftw.jpg') }}\"></img>\n",
    "    </div>\n",
    "        {{ super() }}\n",
    "{% endblock %}"
   ]
  },
  {
   "cell_type": "code",
   "execution_count": 80,
   "metadata": {
    "collapsed": false
   },
   "outputs": [
    {
     "name": "stdout",
     "output_type": "stream",
     "text": [
      " * Running on http://127.0.0.1:5000/ (Press CTRL+C to quit)\n",
      " * Restarting with stat\n",
      " * Debugger is active!\n",
      " * Debugger pin code: 258-121-533\n",
      "127.0.0.1 - - [19/Jan/2016 21:09:19] \"POST / HTTP/1.1\" 200 -\n",
      "127.0.0.1 - - [19/Jan/2016 21:09:19] \"GET /static/jftw.jpg HTTP/1.1\" 304 -\n",
      "127.0.0.1 - - [19/Jan/2016 21:09:19] \"GET /favicon.ico HTTP/1.1\" 200 -\n",
      "127.0.0.1 - - [19/Jan/2016 21:09:22] \"POST / HTTP/1.1\" 302 -\n",
      "127.0.0.1 - - [19/Jan/2016 21:09:22] \"GET / HTTP/1.1\" 200 -\n",
      "127.0.0.1 - - [19/Jan/2016 21:09:22] \"GET /favicon.ico HTTP/1.1\" 200 -\n",
      "127.0.0.1 - - [19/Jan/2016 21:09:28] \"POST / HTTP/1.1\" 200 -\n",
      "127.0.0.1 - - [19/Jan/2016 21:09:28] \"GET /favicon.ico HTTP/1.1\" 200 -\n",
      "127.0.0.1 - - [19/Jan/2016 21:09:31] \"POST / HTTP/1.1\" 200 -\n",
      "127.0.0.1 - - [19/Jan/2016 21:09:31] \"GET /favicon.ico HTTP/1.1\" 200 -\n",
      "127.0.0.1 - - [19/Jan/2016 21:09:34] \"POST / HTTP/1.1\" 302 -\n",
      "127.0.0.1 - - [19/Jan/2016 21:09:34] \"GET / HTTP/1.1\" 200 -\n",
      "127.0.0.1 - - [19/Jan/2016 21:09:34] \"GET /favicon.ico HTTP/1.1\" 200 -\n",
      "127.0.0.1 - - [19/Jan/2016 21:09:38] \"POST / HTTP/1.1\" 200 -\n",
      "127.0.0.1 - - [19/Jan/2016 21:09:38] \"GET /favicon.ico HTTP/1.1\" 200 -\n",
      "^C\n"
     ]
    }
   ],
   "source": [
    "!python3 ../codes/helloworld/manager.py runserver"
   ]
  },
  {
   "cell_type": "markdown",
   "metadata": {},
   "source": [
    "## 总结\n",
    "\n",
    "这块主要是前端技术,用wtf创建表单,用会话+重新定向达到纪录状态外带刷新页面的效果,用flash消息做提示\n",
    "\n",
    "目前用到的包:\n",
    "\n",
    "包|作用\n",
    "---|---\n",
    "flask|flask web框架\n",
    "flask-script|flask的上下文shell\n",
    "jinja2|flask的默认模板\n",
    "flask-bootstrap|flask的bootstrap前端扩展\n",
    "flask-wtf|构建表单\n"
   ]
  }
 ],
 "metadata": {
  "kernelspec": {
   "display_name": "Python 3",
   "language": "python",
   "name": "python3"
  },
  "language_info": {
   "codemirror_mode": {
    "name": "ipython",
    "version": 3
   },
   "file_extension": ".py",
   "mimetype": "text/x-python",
   "name": "python",
   "nbconvert_exporter": "python",
   "pygments_lexer": "ipython3",
   "version": "3.5.1"
  }
 },
 "nbformat": 4,
 "nbformat_minor": 0
}
