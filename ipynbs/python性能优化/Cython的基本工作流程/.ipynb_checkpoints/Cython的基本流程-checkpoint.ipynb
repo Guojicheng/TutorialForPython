{
 "cells": [
  {
   "cell_type": "markdown",
   "metadata": {},
   "source": [
    "# Cython的编译\n",
    "\n",
    "Cython是针对模块的,它并不使用jit技术,因此它的使用使用局限性的.\n",
    "\n",
    "Cython需要编译,本质上来说Cython只是把Cython代码编译成C/C++代码而已.\n",
    "\n",
    "## Cython项目的文件组成\n",
    "\n",
    "Cython解释器可以识别`.py`,`.cpp`,`.c`,`.h`,`.pyx`,`.pxd`,`.pxi`,其中\n",
    "\n",
    "+ `.py`是python的源码,一般用在纯净模式下\n",
    "+ `.cpp`,`.c`,`.h`是c/c++的源码,一般用在包装模式下\n",
    "+ `.pyx`,`.pxd`,`.pxi`是cython源文件,用在一般模式下.\n",
    "\n",
    "而cython源文件中\n",
    "\n",
    "+ `.pyx` 为实现文件\n",
    "\n",
    "    \n",
    "+ `pxd`为申明文件\n",
    "\n",
    "    申明文件可以包含:\n",
    "    \n",
    "    + 任何一种C型声明\n",
    "    + extern C函数或变量声明\n",
    "    + 模块实现的声明\n",
    "    + 扩展类型的定义部分\n",
    "    + 外部函数库的所有声明等\n",
    "    \n",
    "    \n",
    "    申明文件不能包含:\n",
    "    \n",
    "    + 任何非外部C变量声明\n",
    "    + C或Python功能的实现\n",
    "    + Python类定义和Python可执行语句\n",
    "    + 任何被定义为公共的声明即申明可以被其他Cython模块访问.这是没有必要的，因为它是自动的.而且公共声明只需要使外部C代码可以访问.\n",
    "    \n",
    "+ `.pxi`为包含文件\n",
    "    任何Cython代码,因为整个文件都是文字嵌入在引入处的位置,类似于c++中`#include`的机制\n",
    "\n",
    "\n",
    "## Cython项目的基本流程\n",
    "\n",
    "Cython语法上像python,但执行上更像C++它基本上有如下几个步骤:\n",
    "\n",
    "1. 编写符合Cython语法的`.pyx`源文件\n",
    "2. (可选)用`.pxd`申明`.pyx`源文件或者`c++`源文件的接口,它类似`c++`中的`.h`文件\n",
    "3. 编写`setup.py`安装文件,其中使用`Cython.Build.cythonize`函数构建模块\n",
    "4. 命令行使用`python setup.py build_ext --inplace`来编译源文件生成模块\n",
    "5. 使用模块只需要正常的使用`import`语句即可\n",
    "\n",
    "## hellowold"
   ]
  },
  {
   "cell_type": "code",
   "execution_count": 1,
   "metadata": {
    "collapsed": false
   },
   "outputs": [
    {
     "name": "stdout",
     "output_type": "stream",
     "text": [
      "Overwriting helloworld.pyx\n"
     ]
    }
   ],
   "source": [
    "%%writefile helloworld.pyx\n",
    "def run():\n",
    "    print(\"Hello World\")\n",
    "    return True"
   ]
  },
  {
   "cell_type": "code",
   "execution_count": 2,
   "metadata": {
    "collapsed": false
   },
   "outputs": [
    {
     "name": "stdout",
     "output_type": "stream",
     "text": [
      "Overwriting setup.py\n"
     ]
    }
   ],
   "source": [
    "%%writefile setup.py\n",
    "\n",
    "from distutils.core import setup\n",
    "from Cython.Build import cythonize\n",
    "\n",
    "setup(\n",
    "    ext_modules = cythonize(\"helloworld.pyx\",language=\"c++\")\n",
    ")"
   ]
  },
  {
   "cell_type": "code",
   "execution_count": 3,
   "metadata": {
    "collapsed": false
   },
   "outputs": [
    {
     "name": "stdout",
     "output_type": "stream",
     "text": [
      "Please put \"# distutils: language=c++\" in your .pyx or .pxd file(s)\n",
      "Compiling helloworld.pyx because it changed.\n",
      "[1/1] Cythonizing helloworld.pyx\n",
      "running build_ext\n",
      "building 'helloworld' extension\n",
      "creating build\n",
      "creating build\\temp.win-amd64-3.6\n",
      "creating build\\temp.win-amd64-3.6\\Release\n",
      "C:\\Program Files (x86)\\Microsoft Visual Studio 14.0\\VC\\BIN\\x86_amd64\\cl.exe /c /nologo /Ox /W3 /GL /DNDEBUG /MD -IC:\\Users\\87\\Anaconda3\\include -IC:\\Users\\87\\Anaconda3\\include \"-IC:\\Program Files (x86)\\Microsoft Visual Studio 14.0\\VC\\INCLUDE\" \"-IC:\\Program Files (x86)\\Windows Kits\\10\\include\\10.0.10240.0\\ucrt\" \"-IC:\\Program Files (x86)\\Windows Kits\\8.1\\include\\shared\" \"-IC:\\Program Files (x86)\\Windows Kits\\8.1\\include\\um\" \"-IC:\\Program Files (x86)\\Windows Kits\\8.1\\include\\winrt\" /EHsc /Tphelloworld.cpp /Fobuild\\temp.win-amd64-3.6\\Release\\helloworld.obj\n",
      "helloworld.cpp\n",
      "C:\\Program Files (x86)\\Microsoft Visual Studio 14.0\\VC\\BIN\\x86_amd64\\link.exe /nologo /INCREMENTAL:NO /LTCG /DLL /MANIFEST:EMBED,ID=2 /MANIFESTUAC:NO /LIBPATH:C:\\Users\\87\\Anaconda3\\libs /LIBPATH:C:\\Users\\87\\Anaconda3\\PCbuild\\amd64 \"/LIBPATH:C:\\Program Files (x86)\\Microsoft Visual Studio 14.0\\VC\\LIB\\amd64\" \"/LIBPATH:C:\\Program Files (x86)\\Windows Kits\\10\\lib\\10.0.10240.0\\ucrt\\x64\" \"/LIBPATH:C:\\Program Files (x86)\\Windows Kits\\8.1\\lib\\winv6.3\\um\\x64\" /EXPORT:PyInit_helloworld build\\temp.win-amd64-3.6\\Release\\helloworld.obj /OUT:C:\\Users\\87\\Documents\\GitHub\\my\\TutorialForPython\\ipynbs\\python性能优化\\Cython的基本工作流程\\helloworld.cp36-win_amd64.pyd /IMPLIB:build\\temp.win-amd64-3.6\\Release\\helloworld.cp36-win_amd64.lib\n",
      "helloworld.obj : warning LNK4197: export 'PyInit_helloworld' specified multiple times; using first specification\n",
      "   Creating library build\\temp.win-amd64-3.6\\Release\\helloworld.cp36-win_amd64.lib and object build\\temp.win-amd64-3.6\\Release\\helloworld.cp36-win_amd64.exp\n",
      "Generating code\n",
      "Finished generating code\n"
     ]
    }
   ],
   "source": [
    "! python setup.py build_ext --inplace"
   ]
  },
  {
   "cell_type": "code",
   "execution_count": 4,
   "metadata": {
    "collapsed": true
   },
   "outputs": [],
   "source": [
    "import helloworld"
   ]
  },
  {
   "cell_type": "code",
   "execution_count": 5,
   "metadata": {
    "collapsed": false,
    "scrolled": true
   },
   "outputs": [
    {
     "name": "stdout",
     "output_type": "stream",
     "text": [
      "Hello World\n"
     ]
    },
    {
     "data": {
      "text/plain": [
       "True"
      ]
     },
     "execution_count": 5,
     "metadata": {},
     "output_type": "execute_result"
    }
   ],
   "source": [
    "helloworld.run()"
   ]
  },
  {
   "cell_type": "markdown",
   "metadata": {},
   "source": [
    "## 更加丰富的编译设置\n",
    "\n",
    "如果你的模块像上面的例子中只有一个源文件.那么`helloworld`中的`setup.py`就已经可以了,但如果不止一个,或者有一些针对编译器的设置,那么如下的写法是更好的选择"
   ]
  },
  {
   "cell_type": "code",
   "execution_count": 4,
   "metadata": {
    "collapsed": false
   },
   "outputs": [
    {
     "name": "stdout",
     "output_type": "stream",
     "text": [
      "Overwriting setup.py\n"
     ]
    }
   ],
   "source": [
    "%%writefile setup.py\n",
    "\n",
    "from distutils.core import setup\n",
    "from Cython.Build import cythonize\n",
    "from distutils.extension import Extension\n",
    "from Cython.Distutils import build_ext\n",
    "\n",
    "extension = Extension(\n",
    "           \"helloworld\",\n",
    "           sources=[\"helloworld.pyx\"],\n",
    "           #include_dirs=[numpy.get_include()], # 如果用到numpy\n",
    "           language=\"c++\",\n",
    "           language_level=3\n",
    ")\n",
    "\n",
    "setup(\n",
    "        cmdclass = {'build_ext': build_ext},\n",
    "        ext_modules = cythonize(extension),\n",
    ")\n"
   ]
  },
  {
   "cell_type": "code",
   "execution_count": 5,
   "metadata": {
    "collapsed": false
   },
   "outputs": [
    {
     "name": "stdout",
     "output_type": "stream",
     "text": [
      "running build_ext\n"
     ]
    },
    {
     "name": "stderr",
     "output_type": "stream",
     "text": [
      "C:\\Users\\87\\Anaconda3\\lib\\distutils\\extension.py:131: UserWarning: Unknown Extension options: 'compiler_directives'\n",
      "  warnings.warn(msg)\n"
     ]
    }
   ],
   "source": [
    "!python setup.py build_ext --inplace"
   ]
  },
  {
   "cell_type": "markdown",
   "metadata": {},
   "source": [
    "可选的编译器设置包括:\n",
    "\n",
    "+ cythonize 用来确定所要编译的内容,它的参数可以有:\n",
    "\n",
    "`ext_modules = cythonize(\"src/*.pyx\"[, include_path = [...][,compiler_directives={<option>=<value>}]])`\n",
    "\n",
    "+ `include_path`是编译所需的源文件,这里可以是`.py`文件,`.pyx`文件,`.pxd`文件,`.c`文件,`.h`文件等,也可以是几个扩展类 型`distutils.extension.Extension`的对象,而`Extension`对象又可以这样定义:\n",
    "\n",
    "```python\n",
    "\n",
    " Extension(name, [source...],\n",
    "        include_dirs = [...],\n",
    "        libraries = [...],\n",
    "        library_dirs = [...])\n",
    "```\n",
    "\n",
    "+ `compiler_directives`则是编译的选项,有如下关键字:\n",
    "\n",
    "    + boundscheck (True / False)\n",
    "    \n",
    "        如果设置为False，Cython可以自由地假定代码中的索引操作,将不会导致任何IndexErrors被抛出。\n",
    "        只有当索引可以被确定为非负数（或者wraparound为False），列表，元组和字符串才会受影响。\n",
    "        通常触发IndexError的条件可能会导致segfault或数据损坏，如果这被设置为False。\n",
    "        默认值为True。\n",
    "        \n",
    "    + wraparound (True / False)\n",
    "    \n",
    "        在Python中，数组可以相对于结束索引(负索引)。而在C中是不支持负索引的。\n",
    "        如果设置为False，Cython既不检查也不正确处理负索引，可能导致段错误或数据损坏。\n",
    "        默认值为True。\n",
    "        \n",
    "    + initializedcheck (True / False)\n",
    "    \n",
    "        如果设置为True，Cython会在访问或分配内存视图时检查它是否被初始化。\n",
    "        将此设置为False将禁用这些检查。\n",
    "        默认值为True。\n",
    "        \n",
    "    + nonecheck (True / False)\n",
    "    \n",
    "        如果设置为False，Cython可以自由地假定 对变量类型的本地字段访问为扩展类型,或者 当变量被设为None时,对缓冲区变量的缓冲区访问永远不会发生。否则插入一个检查并引发适当的异常。\n",
    "        \n",
    "        由于性能原因，默认情况下关闭。\n",
    "        默认值为False。\n",
    "        \n",
    "    + overflowcheck (True / False)\n",
    "    \n",
    "        如果设置为True，当溢出的C整数算术运算上引发了异常时，会执行适度的运行时惩罚,但即便如此还是比python的int运算快很多,默认为False\n",
    "        \n",
    "    + overflowcheck.fold (True / False)\n",
    "    \n",
    "        如果设置为True，并且overflowcheck为True，则检查嵌套的溢出位,和有副作用的算术表达式,而不是每个步骤都检查。\n",
    "        依赖于不同的编译器，体系结构和优化设置，这项选项可能有助于提高性能也可能损害性能。\n",
    "        默认值为True。\n",
    "        \n",
    "    + embedsignature (True / False)\n",
    "    \n",
    "        如果设置为True，Cython将在所有Python可见函数和类的docstring中嵌入调用签名的文本副本。\n",
    "        像IPython和epydoc这样的工具可以显示签名，否则编译后就无法检索。\n",
    "        默认值为False。\n",
    "        \n",
    "    + cdivision (True / False)\n",
    "    \n",
    "        如果设置为False，Cython将调整余数和商值运算符C类型以匹配Python的int（当操作数具有相反的符号时不同），并且当右操作数为0时产生ZeroDivisionError。这将会有超过35％的性能损失.\n",
    "        如果设置为True，则不执行任何检查。\n",
    "        \n",
    "    + cdivision_warnings (True / False)\n",
    "    \n",
    "        如果设置为True，当使用负操作数执行除法时，Cython将发出运行时警告。 默认值为False.\n",
    "        \n",
    "    + always_allow_keywords (True / False)\n",
    "    \n",
    "        在构造取零或一个参数的函数/方法时，METH_NOARGS和METH_O置空。\n",
    "        对具有多个参数的特殊方法和函数没有影响。\n",
    "        METH_NOARGS和METH_O签名提供了更快的调用约定，但不允许使用关键字\n",
    "        \n",
    "    + profile (True / False)\n",
    "    \n",
    "        为编译成的C代码写上python分析的钩子,默认为False\n",
    "        \n",
    "    + linetrace (True / False)\n",
    "    \n",
    "        为编译后的C代码写入Python分析器或覆盖报告的跟踪钩子。\n",
    "        这也会启用profile。\n",
    "        默认值为False。\n",
    "\n",
    "    + infer_types (True / False)\n",
    "    \n",
    "        推断函数体中未声明类型变量的类型。默认值为None，表示只允许安全（语义上不变的）推断。特别地，推断用于算术表达式中的变量的整数类型被认为是不安全的（由于可能的溢出），并且必须被明确请求。\n",
    "        \n",
    "    + language_level (2/3)\n",
    "    \n",
    "        全局设置要用于模块编译的Python语言级别。默认为与Python 2兼容。要启用Python 3源代码语义，请在模块开头将其设置为3，或将“-3”命令行选项传递给编译器。请注意，cimport和包含的源文件从正在编译的模块继承此设置，除非他们明确设置自己的语言级别。\n",
    "        \n",
    "    + c_string_type (bytes / str / unicode)\n",
    "    \n",
    "        从`char *`或`std :: string`全局设置隐式强制的类型\n",
    "        \n",
    "    + c_string_encoding (ascii, default, utf-8, etc.)\n",
    "    \n",
    "        全局设置在将`char *`或`std：string`隐式强制转化为unicode对象时使用的编码。从unicode对象到C类型的强制只允许设置为ascii或默认，后者意思是在Python 3中是utf-8\n",
    "        \n",
    "    + type_version_tag (True / False)\n",
    "    \n",
    "        通过设置类型标志Py_TPFLAGS_HAVE_VERSION_TAG，在CPython中启用扩展类型的属性缓存。\n",
    "        默认值为True，表示为Cython实现的类型启用了缓存。\n",
    "        在类型需要在内部与其tp_dict进行协调而不关注缓存一致性的罕见情况下禁用它，可以将此选项设置为False。\n",
    "        \n",
    "    + unraisable_tracebacks (True / False)\n",
    "    \n",
    "        是否在抑制不可取消的异常时打印回溯。\n",
    "        \n",
    "\n"
   ]
  },
  {
   "cell_type": "markdown",
   "metadata": {},
   "source": [
    "# 分析 Cython 程序瓶颈\n",
    "\n",
    "Cython 中类型声明非常重要，但是我们不加类型标注它依然是一个合法的Cython程序,所以自然而然地,我们会担心漏加类型声明.不过好在 Cython 提供了一个很好的工具,可以方便地检查 Cython 程序中哪里可能可以进一步优化."
   ]
  },
  {
   "cell_type": "code",
   "execution_count": 1,
   "metadata": {
    "collapsed": true
   },
   "outputs": [],
   "source": [
    "!cython -a helloworld.pyx"
   ]
  },
  {
   "cell_type": "markdown",
   "metadata": {},
   "source": [
    "之后我们的文件夹下就会看到一个html文件,其中黄色的部分就是与python交互的部分,也就是性能瓶颈"
   ]
  }
 ],
 "metadata": {
  "kernelspec": {
   "display_name": "Python 3",
   "language": "python",
   "name": "python3"
  },
  "language_info": {
   "codemirror_mode": {
    "name": "ipython",
    "version": 3
   },
   "file_extension": ".py",
   "mimetype": "text/x-python",
   "name": "python",
   "nbconvert_exporter": "python",
   "pygments_lexer": "ipython3",
   "version": "3.6.0"
  }
 },
 "nbformat": 4,
 "nbformat_minor": 2
}
