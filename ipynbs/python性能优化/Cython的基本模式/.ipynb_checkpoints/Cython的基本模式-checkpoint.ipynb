{
 "cells": [
  {
   "cell_type": "markdown",
   "metadata": {},
   "source": [
    "# 使用`.pyx`改写python程序\n",
    "\n",
    "在纯净模式中,我的代码实现手段很有限:\n",
    "\n",
    "1. 只能直接使用python模块和对象\n",
    "2. 无法使用c++的容器和算法\n",
    "3. 无法使用cimport"
   ]
  },
  {
   "cell_type": "code",
   "execution_count": 1,
   "metadata": {
    "collapsed": true
   },
   "outputs": [],
   "source": [
    "%load_ext Cython"
   ]
  },
  {
   "cell_type": "code",
   "execution_count": 2,
   "metadata": {
    "collapsed": false
   },
   "outputs": [],
   "source": [
    "%%cython\n",
    "# distutils: language=c++\n",
    "\n",
    "from libcpp.vector cimport vector\n",
    "from libcpp.string cimport string\n",
    "#from libc.stdio cimport printf\n",
    "\n",
    "cpdef print_vect(string content):\n",
    "    cdef vector[int] vect\n",
    "    cdef int i\n",
    "    for i in range(10):\n",
    "        vect.push_back(i)\n",
    "    for i in vect:\n",
    "        #printf(\"%d\",vect[i])\n",
    "        print(vect[i])\n",
    "    for i in content:\n",
    "        #printf(\"%d\",vect[i])\n",
    "        print(i)"
   ]
  },
  {
   "cell_type": "code",
   "execution_count": 3,
   "metadata": {
    "collapsed": false
   },
   "outputs": [
    {
     "name": "stdout",
     "output_type": "stream",
     "text": [
      "0\n",
      "1\n",
      "2\n",
      "3\n",
      "4\n",
      "5\n",
      "6\n",
      "7\n",
      "8\n",
      "9\n",
      "-23\n",
      "-69\n",
      "-111\n",
      "-23\n",
      "-66\n",
      "-103\n",
      "-26\n",
      "-79\n",
      "-97\n"
     ]
    }
   ],
   "source": [
    "print_vect(\"黑龙江\".encode())"
   ]
  },
  {
   "cell_type": "markdown",
   "metadata": {
    "collapsed": true
   },
   "source": [
    "# Cython语法\n",
    "\n",
    "Cython是python的超集,所以python解释器无法解释cython代码,必须编译才可以.\n"
   ]
  },
  {
   "cell_type": "markdown",
   "metadata": {},
   "source": [
    "## 静态化参数\n",
    "\n",
    "Cython是一个Python编译器。这意味着它可以编译普通的Python代码，而不会有任何改变（除了一些尚未支持的语言功能之外，还有一些明显的例外）.然而，对于性能关键代码，添加静态类型声明通常是有帮助的，因为它们将允许Cython退出Python代码的动态特性，并生成更简单更快的C代码.但是，必须注意的是，类型声明会使源代码更加冗长，因而可读性更低.因此，不要在没有正当理由的情况下使用它们，例如基准测试证明他们在性能关键部分真正使代码更快速地使用它们是不鼓励的.通常在正确的地方有几种类型可以走很长的路.所有C类型都可用于类型声明:整数和浮点类型，复数，结构体，联合和指针类型. Cython可以在分配类型之间自动正确地进行转换.这也包括Python的任意大小的整数类型，其中转换为C类型的值溢出会在运行时引发Python `OverflowError`.(但是，在进行算术时，不会检查是否溢出).在这种情况下，生成的C代码将正确安全地处理C类型的依赖于平台的大小.\n",
    "\n",
    "### 在python函数中使用c语言的类型指明翻译为C语言后的参数类型\n",
    "\n",
    "由于这些参数被传递到Python声明的函数中，它们会转换为指定的C类型值.但这只适用于数字和字符串类型"
   ]
  },
  {
   "cell_type": "code",
   "execution_count": 4,
   "metadata": {
    "collapsed": true
   },
   "outputs": [],
   "source": [
    "%%cython\n",
    "\n",
    "def f(double x):\n",
    "    return x**2-x\n",
    "\n",
    "def integrate_f(double a, double b, int N):\n",
    "    cdef int i\n",
    "    cdef double s, dx\n",
    "    s = 0\n",
    "    dx = (b-a)/N\n",
    "    for i in range(N):\n",
    "        s += f(a+i*dx)\n",
    "    return s * dx"
   ]
  },
  {
   "cell_type": "code",
   "execution_count": 5,
   "metadata": {
    "collapsed": false
   },
   "outputs": [
    {
     "data": {
      "text/plain": [
       "0.24"
      ]
     },
     "execution_count": 5,
     "metadata": {},
     "output_type": "execute_result"
    }
   ],
   "source": [
    "f(1.2)"
   ]
  },
  {
   "cell_type": "markdown",
   "metadata": {},
   "source": [
    "## C级别申明\n",
    "\n",
    "作为一种动态语言，Python鼓励了一种根据方法和属性考虑类和对象的编程风格，而不仅仅局限于类层次结构中.这可以使Python成为一种非常轻松和舒适的语言，用于快速开发，但有一个代价 -- 管理数据类型的\"繁文缛节\"被转储到翻译器上.在运行时，解释器在搜索命名空间，获取属性和解析参数和关键字元组方面做了大量工作。与\"早期绑定\"语言（如C++）相比，这种运行时\"后期绑定\"是Python相对较慢的主要原因.然而使用Cython可以通过使用\"早期绑定\"编程技术获得显着的加速.\n",
    "\n",
    "### `cdef`语句用于创建C级声明\n",
    "\n",
    "+ 申明变量\n",
    "\n",
    "```cython\n",
    "cdef int i, j, k\n",
    "cdef float f, g[42], *h\n",
    "```\n",
    "\n",
    "+ 申明结构体\n",
    "\n",
    "```cython\n",
    "cdef struct Grail:\n",
    "    int age\n",
    "    float volume\n",
    "```\n",
    "\n",
    "+ 申明联合体\n",
    "\n",
    "```cython\n",
    "cdef union Food:\n",
    "    char *spam\n",
    "    float *eggs\n",
    "```\n",
    "\n",
    "+ 申明枚举\n",
    "\n",
    "```cython\n",
    "cdef enum CheeseType:\n",
    "    cheddar, edam,\n",
    "    camembert\n",
    "```\n",
    "\n",
    "+ 申明函数\n",
    "\n",
    "```cython\n",
    "cdef int eggs(unsigned long l, float f):\n",
    "```\n",
    "\n",
    "`cdef`关键字指定早期绑定,默认是私有的,只有在申明时指定public才会暴露"
   ]
  },
  {
   "cell_type": "markdown",
   "metadata": {},
   "source": [
    "## 类型转换\n",
    "\n",
    "在cython中使用`<xxx>yyy`操作符来进行类型转换,其使用方式与C中类似.\n",
    "\n",
    "```cython\n",
    "cdef char *p, float *q\n",
    "p = <char*>q\n",
    "\n",
    "```\n",
    "\n",
    "值得注意的是cython中python的`bool`类型会转化为`bint`,而python中的自定义类的实例则对应的`object`\n",
    "\n",
    "### 类型检测\n",
    "\n",
    "和C中类似,类型转换时使用`<xxx?>yyy`会先进行检测"
   ]
  },
  {
   "cell_type": "markdown",
   "metadata": {},
   "source": [
    "## 字符串\n",
    "\n",
    "C级别无论是字符数组还是c++的string,都只接收python的bytes作为转换来源.返回的也只会转换为bytes.因此需要注意."
   ]
  },
  {
   "cell_type": "markdown",
   "metadata": {},
   "source": [
    "## 函数,方法申明\n",
    "\n",
    "Cython中有三种类型的函数声明.\n",
    "\n",
    "### Python的可调用对象(def)\n",
    "\n",
    "这种类型的函数特点:\n",
    "\n",
    "+ 使用`def`申明\n",
    "+ 可以被Python解释器调用\n",
    "+ 可以被Python对象调用\n",
    "+ 返回Python对象\n",
    "+ 参数可以静态化\n",
    "\n",
    "###  C的可调用对象 (cdef)\n",
    "\n",
    "这种类型的函数特点:\n",
    "\n",
    "+ 用`cdef`语句声明\n",
    "+ 无法在python解释器中访问\n",
    "+ 可以被Python对象或C值调用\n",
    "+ 内部变量必须申明\n",
    "+ 可以返回Python对象或C值\n",
    "\n",
    "### Python和C的可调用(cpdef)\n",
    "\n",
    "这种类型的函数特点:\n",
    "\n",
    "+ 用cpdef语句声明.\n",
    "+ 可以从任何地方调用\n",
    "+ 当从其他Cython代码调用时,使用更快的C调用约定\n",
    "\n",
    "\n",
    "### cython的内置函数\n",
    "\n",
    "\n",
    "Cython将对大多数内置函数的调用编译为对相应的Python / C API例程的直接调用,使它们特别快。\n",
    "只有使用这些名称的直接函数调用已优化.如果你使用这些名称中的一个假设它是一个Python对象，例如将它分配给一个Python变量，然后调用它，那么该调用将作为一个Python函数调用.\n",
    "\n",
    "内置函数|返回类型|相当于Python/C API中的类型\n",
    "---|---|---\n",
    "`abs(obj)`|\tobject, double, ...|PyNumber_Absolute, fabs, fabsf, ...\n",
    "`callable(obj)`|bint|PyObject_Callable\n",
    "`delattr(obj, name)`|None|PyObject_DelAttr\n",
    "`exec(code, [glob, [loc]])`|object\t\n",
    "`dir(obj)`|\tlist|PyObject_Dir\n",
    "`divmod(a, b)`|\ttuple|PyNumber_Divmod\n",
    "`getattr(obj, name, [default])`|object|PyObject_GetAttr\n",
    "`hasattr(obj, name)`|bint|PyObject_HasAttr\n",
    "`hash(obj)`|int / long|PyObject_Hash\n",
    "`intern(obj)`|object|`Py*_InternFromString`\n",
    "`isinstance(obj, type)`|bint|PyObject_IsInstance\n",
    "`issubclass(obj, type)`|bint|PyObject_IsSubclass\n",
    "`iter(obj, [sentinel])`|object|PyObject_GetIter\n",
    "`len(obj)`|\tPy_ssize_t|PyObject_Length\n",
    "`pow(x, y, [z])`|object|PyNumber_Power\n",
    "`reload(obj)`|object|PyImport_ReloadModule\n",
    "`repr(obj)`|object|PyObject_Repr\n",
    "`setattr(obj, name)`|void|PyObject_SetAttr"
   ]
  },
  {
   "cell_type": "markdown",
   "metadata": {},
   "source": [
    "## 类申明(扩展类型)\n",
    "\n",
    "cython扩展类型可以使用`cdef class`来定义.\n",
    "\n",
    "### 属性\n",
    "\n",
    "其中的元素可以使用`cdef`来定义,默认是私有的,但可以使用`public`或者`readonly`关键字指定其封装形式."
   ]
  },
  {
   "cell_type": "code",
   "execution_count": 6,
   "metadata": {
    "collapsed": false
   },
   "outputs": [],
   "source": [
    "%%cython\n",
    "cdef class Rectangle:\n",
    "    cdef public int x0\n",
    "    cdef readonly int y0\n",
    "    cdef int x1, y1\n",
    "    def __init__(self, int x0, int y0, int x1, int y1):\n",
    "        self.x0 = x0; self.y0 = y0; self.x1 = x1; self.y1 = y1\n",
    "        \n",
    "    cdef int _area(self):\n",
    "        cdef int area\n",
    "        area = (self.x1 - self.x0) * (self.y1 - self.y0)\n",
    "        if area < 0:\n",
    "            area = -area\n",
    "        return area\n",
    "\n",
    "    def area(self):\n",
    "        return self._area()\n",
    "       \n",
    "def rectArea(x0, y0, x1, y1):\n",
    "    rect = Rectangle(x0, y0, x1, y1)\n",
    "    return rect.area()"
   ]
  },
  {
   "cell_type": "code",
   "execution_count": 7,
   "metadata": {
    "collapsed": true
   },
   "outputs": [],
   "source": [
    "r = Rectangle(1, 2, 3, 1)"
   ]
  },
  {
   "cell_type": "code",
   "execution_count": 8,
   "metadata": {
    "collapsed": false
   },
   "outputs": [
    {
     "data": {
      "text/plain": [
       "1"
      ]
     },
     "execution_count": 8,
     "metadata": {},
     "output_type": "execute_result"
    }
   ],
   "source": [
    "r.x0"
   ]
  },
  {
   "cell_type": "code",
   "execution_count": 9,
   "metadata": {
    "collapsed": false
   },
   "outputs": [
    {
     "data": {
      "text/plain": [
       "2"
      ]
     },
     "execution_count": 9,
     "metadata": {},
     "output_type": "execute_result"
    }
   ],
   "source": [
    "r.y0"
   ]
  },
  {
   "cell_type": "code",
   "execution_count": 10,
   "metadata": {
    "collapsed": false
   },
   "outputs": [
    {
     "ename": "AttributeError",
     "evalue": "'_cython_magic_31443cea76eb5b8780ecd933e92cc406.Rec' object has no attribute 'x1'",
     "output_type": "error",
     "traceback": [
      "\u001b[0;31m---------------------------------------------------------------------------\u001b[0m",
      "\u001b[0;31mAttributeError\u001b[0m                            Traceback (most recent call last)",
      "\u001b[0;32m<ipython-input-10-1a1a3632ad5d>\u001b[0m in \u001b[0;36m<module>\u001b[0;34m()\u001b[0m\n\u001b[0;32m----> 1\u001b[0;31m \u001b[0mr\u001b[0m\u001b[1;33m.\u001b[0m\u001b[0mx1\u001b[0m\u001b[1;33m\u001b[0m\u001b[0m\n\u001b[0m",
      "\u001b[0;31mAttributeError\u001b[0m: '_cython_magic_31443cea76eb5b8780ecd933e92cc406.Rec' object has no attribute 'x1'"
     ]
    }
   ],
   "source": [
    "r.x1"
   ]
  },
  {
   "cell_type": "code",
   "execution_count": 11,
   "metadata": {
    "collapsed": false
   },
   "outputs": [
    {
     "data": {
      "text/plain": [
       "2"
      ]
     },
     "execution_count": 11,
     "metadata": {},
     "output_type": "execute_result"
    }
   ],
   "source": [
    "r.x0=2\n",
    "r.x0"
   ]
  },
  {
   "cell_type": "code",
   "execution_count": 12,
   "metadata": {
    "collapsed": false
   },
   "outputs": [
    {
     "ename": "AttributeError",
     "evalue": "attribute 'y0' of '_cython_magic_31443cea76eb5b8780ecd933e92cc406.Rectangle' objects is not writable",
     "output_type": "error",
     "traceback": [
      "\u001b[0;31m---------------------------------------------------------------------------\u001b[0m",
      "\u001b[0;31mAttributeError\u001b[0m                            Traceback (most recent call last)",
      "\u001b[0;32m<ipython-input-12-ba0ed4f3a4a8>\u001b[0m in \u001b[0;36m<module>\u001b[0;34m()\u001b[0m\n\u001b[0;32m----> 1\u001b[0;31m \u001b[0mr\u001b[0m\u001b[1;33m.\u001b[0m\u001b[0my0\u001b[0m \u001b[1;33m=\u001b[0m \u001b[1;36m4\u001b[0m\u001b[1;33m\u001b[0m\u001b[0m\n\u001b[0m",
      "\u001b[0;31mAttributeError\u001b[0m: attribute 'y0' of '_cython_magic_31443cea76eb5b8780ecd933e92cc406.Rectangle' objects is not writable"
     ]
    }
   ],
   "source": [
    "r.y0 = 4"
   ]
  },
  {
   "cell_type": "code",
   "execution_count": 13,
   "metadata": {
    "collapsed": false
   },
   "outputs": [
    {
     "data": {
      "text/plain": [
       "1"
      ]
     },
     "execution_count": 13,
     "metadata": {},
     "output_type": "execute_result"
    }
   ],
   "source": [
    "r.area()"
   ]
  },
  {
   "cell_type": "code",
   "execution_count": 14,
   "metadata": {
    "collapsed": false
   },
   "outputs": [
    {
     "ename": "AttributeError",
     "evalue": "'_cython_magic_31443cea76eb5b8780ecd933e92cc406.Rec' object has no attribute '_area'",
     "output_type": "error",
     "traceback": [
      "\u001b[0;31m---------------------------------------------------------------------------\u001b[0m",
      "\u001b[0;31mAttributeError\u001b[0m                            Traceback (most recent call last)",
      "\u001b[0;32m<ipython-input-14-91116c074669>\u001b[0m in \u001b[0;36m<module>\u001b[0;34m()\u001b[0m\n\u001b[0;32m----> 1\u001b[0;31m \u001b[0mr\u001b[0m\u001b[1;33m.\u001b[0m\u001b[0m_area\u001b[0m\u001b[1;33m(\u001b[0m\u001b[1;33m)\u001b[0m\u001b[1;33m\u001b[0m\u001b[0m\n\u001b[0m",
      "\u001b[0;31mAttributeError\u001b[0m: '_cython_magic_31443cea76eb5b8780ecd933e92cc406.Rec' object has no attribute '_area'"
     ]
    }
   ],
   "source": [
    "r._area()"
   ]
  },
  {
   "cell_type": "markdown",
   "metadata": {},
   "source": [
    "### 特性\n",
    "\n",
    "cython特性除了一般python语句一样的装饰器语法外,还可以使用如下特殊定义方式,两者效果一致.\n",
    "\n",
    "```cython\n",
    "cdef class Spam:\n",
    "\n",
    "    property cheese:\n",
    "\n",
    "        \"A doc string can go here.\"\n",
    "\n",
    "        def __get__(self):\n",
    "            # This is called when the property is read.\n",
    "            ...\n",
    "\n",
    "        def __set__(self, value):\n",
    "            # This is called when the property is written.\n",
    "            ...\n",
    "\n",
    "        def __del__(self):\n",
    "            # This is called when the property is deleted.\n",
    "```\n",
    "\n",
    "`__get__()`，`__set__()`和`__del__()`方法都是可选的.如果省略，属性访问会引发异常.\n",
    "\n",
    "\n",
    "不推荐这种写法,因为看起来和python差别太大"
   ]
  },
  {
   "cell_type": "code",
   "execution_count": 15,
   "metadata": {
    "collapsed": false
   },
   "outputs": [],
   "source": [
    "%%cython\n",
    "cdef class CheeseShop:\n",
    "\n",
    "    cdef object cheeses\n",
    "\n",
    "    def __cinit__(self):\n",
    "        self.cheeses = []\n",
    "\n",
    "    property cheese:   # note that this syntax is deprecated\n",
    "\n",
    "        def __get__(self):\n",
    "            return \"We don't have: %s\" % self.cheeses\n",
    "\n",
    "        def __set__(self, value):\n",
    "            self.cheeses.append(value)\n",
    "\n",
    "        def __del__(self):\n",
    "            del self.cheeses[:]"
   ]
  },
  {
   "cell_type": "code",
   "execution_count": 16,
   "metadata": {
    "collapsed": false
   },
   "outputs": [
    {
     "name": "stdout",
     "output_type": "stream",
     "text": [
      "We don't have: []\n",
      "We don't have: ['camembert']\n",
      "We don't have: ['camembert', 'cheddar']\n",
      "We don't have: []\n"
     ]
    }
   ],
   "source": [
    "shop = CheeseShop()\n",
    "print(shop.cheese)\n",
    "\n",
    "shop.cheese = \"camembert\"\n",
    "print(shop.cheese)\n",
    "\n",
    "shop.cheese = \"cheddar\"\n",
    "print(shop.cheese)\n",
    "\n",
    "del shop.cheese\n",
    "print(shop.cheese)"
   ]
  },
  {
   "cell_type": "markdown",
   "metadata": {},
   "source": [
    "### 方法\n",
    "\n",
    "`Rectangle`中`_area`是C级别的函数,不可被访问,所以需要使用`area`方法来封装.不过通常是使用`cpdef`直接实现的"
   ]
  },
  {
   "cell_type": "code",
   "execution_count": 17,
   "metadata": {
    "collapsed": true
   },
   "outputs": [],
   "source": [
    "%%cython\n",
    "cdef class Rectangle:\n",
    "    cdef int x0, y0\n",
    "    cdef int x1, y1\n",
    "    def __init__(self, int x0, int y0, int x1, int y1):\n",
    "        self.x0 = x0; self.y0 = y0; self.x1 = x1; self.y1 = y1\n",
    "        \n",
    "    cpdef int area(self):\n",
    "        cdef int area\n",
    "        area = (self.x1 - self.x0) * (self.y1 - self.y0)\n",
    "        if area < 0:\n",
    "            area = -area\n",
    "        return area\n",
    "\n",
    "def rectArea(x0, y0, x1, y1):\n",
    "    cdef Rectangle rect\n",
    "    rect = Rectangle(x0, y0, x1, y1)\n",
    "    return rect.area()"
   ]
  },
  {
   "cell_type": "code",
   "execution_count": 18,
   "metadata": {
    "collapsed": true
   },
   "outputs": [],
   "source": [
    "r = Rectangle(1, 2, 3, 1)"
   ]
  },
  {
   "cell_type": "markdown",
   "metadata": {},
   "source": [
    "### 方法重载\n",
    "\n",
    "在扩展类型中同一申明方式的可以相互重载,而不同申明方式的则有一套优先级:\n",
    "+ `cpdef`可以重载`cdef`,而反过来就不行\n",
    "+ `def`可以重载`cpdef`,而反过来就不行"
   ]
  },
  {
   "cell_type": "code",
   "execution_count": 19,
   "metadata": {
    "collapsed": false
   },
   "outputs": [],
   "source": [
    "%%cython\n",
    "cdef class A:\n",
    "    cdef foo(self):\n",
    "        print(\"A\")\n",
    "cdef class AA(A):\n",
    "    cdef foo(self):\n",
    "        print(\"AA\")\n",
    "    cpdef bar(self):\n",
    "        self.foo()\n",
    "        \n",
    "        "
   ]
  },
  {
   "cell_type": "code",
   "execution_count": 20,
   "metadata": {
    "collapsed": false
   },
   "outputs": [
    {
     "name": "stdout",
     "output_type": "stream",
     "text": [
      "AA\n"
     ]
    }
   ],
   "source": [
    "AA().bar()"
   ]
  },
  {
   "cell_type": "code",
   "execution_count": 21,
   "metadata": {
    "collapsed": false
   },
   "outputs": [],
   "source": [
    "%%cython\n",
    "cdef class A:\n",
    "    cdef foo(self):\n",
    "        print(\"A\")\n",
    "\n",
    "cdef class B(A):\n",
    "    cpdef foo(self, x=None):\n",
    "        print(\"B\", x)\n",
    "\n",
    "class C(B):\n",
    "    def foo(self, x=True, int k=3):\n",
    "        print(\"C\", x, k)"
   ]
  },
  {
   "cell_type": "code",
   "execution_count": 22,
   "metadata": {
    "collapsed": false
   },
   "outputs": [
    {
     "name": "stdout",
     "output_type": "stream",
     "text": [
      "B None\n"
     ]
    }
   ],
   "source": [
    "B(12).foo()"
   ]
  },
  {
   "cell_type": "code",
   "execution_count": 23,
   "metadata": {
    "collapsed": false
   },
   "outputs": [
    {
     "name": "stdout",
     "output_type": "stream",
     "text": [
      "C True 3\n"
     ]
    }
   ],
   "source": [
    "C().foo()"
   ]
  },
  {
   "cell_type": "markdown",
   "metadata": {},
   "source": [
    "## 继承\n",
    "\n",
    "基类的完整定义必须可用于Cython，因此如果基类是内置类型，它必须先前已声明为extern扩展类型.如果基类型在另一个Cython模块中定义，则必须声明为extern扩展类型或使用cimport语句导入.\n",
    "\n",
    "一个扩展类型只能有一个基类(cython的扩展类不支持多重继承).但可以被python类继承,这种继承支持多继承.\n",
    "\n",
    "有一种方法可以防止扩展类型在Python中被子类化.这是通过`final`指令完成的，通常使用装饰器在扩展类型上设置\n",
    "\n",
    "```cython\n",
    "cimport cython\n",
    " \n",
    "@cython.final\n",
    "cdef class Parrot:\n",
    "   def done(self): pass\n",
    "```"
   ]
  },
  {
   "cell_type": "markdown",
   "metadata": {},
   "source": [
    "## 扩展类型快速实例化\n",
    "\n",
    "Cython提供了两种方法来加速扩展类型的实例化.\n",
    "\n",
    "+ 第一个是直接调用`__new__()`特殊静态方法，如从Python中所知。对于例子扩展类型Penguin，可以使用以下代码："
   ]
  },
  {
   "cell_type": "code",
   "execution_count": 24,
   "metadata": {
    "collapsed": false
   },
   "outputs": [],
   "source": [
    "%%cython\n",
    "cdef class Penguin:\n",
    "    cdef public object food\n",
    " \n",
    "    def __cinit__(self, food):\n",
    "        self.food = food\n",
    " \n",
    "    def __init__(self, food):\n",
    "        print(\"eating!\")\n",
    "        "
   ]
  },
  {
   "cell_type": "code",
   "execution_count": 25,
   "metadata": {
    "collapsed": false
   },
   "outputs": [
    {
     "name": "stdout",
     "output_type": "stream",
     "text": [
      "eating!\n"
     ]
    }
   ],
   "source": [
    "normal_penguin = Penguin('fish')"
   ]
  },
  {
   "cell_type": "code",
   "execution_count": 26,
   "metadata": {
    "collapsed": false
   },
   "outputs": [
    {
     "data": {
      "text/plain": [
       "'fish'"
      ]
     },
     "execution_count": 26,
     "metadata": {},
     "output_type": "execute_result"
    }
   ],
   "source": [
    "normal_penguin.food"
   ]
  },
  {
   "cell_type": "code",
   "execution_count": 27,
   "metadata": {
    "collapsed": false
   },
   "outputs": [],
   "source": [
    "fast_penguin = Penguin.__new__(Penguin, 'wheat') "
   ]
  },
  {
   "cell_type": "code",
   "execution_count": 28,
   "metadata": {
    "collapsed": false
   },
   "outputs": [
    {
     "data": {
      "text/plain": [
       "'wheat'"
      ]
     },
     "execution_count": 28,
     "metadata": {},
     "output_type": "execute_result"
    }
   ],
   "source": [
    "fast_penguin.food"
   ]
  },
  {
   "cell_type": "markdown",
   "metadata": {},
   "source": [
    "`__new__()`实例化的对象会不运行`__init__()`只会运行`__cinit__()`"
   ]
  },
  {
   "cell_type": "markdown",
   "metadata": {},
   "source": [
    "+ 第二个性能改进适用于经常在一行中创建和删除的类型，以便他们可以从freelist中受益.\n",
    "\n",
    "    Cython为此提供了装饰器`@cython.freelist(N)`，它为给定类型创建了一个静态大小的N个实例的`freelist`.例："
   ]
  },
  {
   "cell_type": "code",
   "execution_count": 29,
   "metadata": {
    "collapsed": true
   },
   "outputs": [],
   "source": [
    "%%cython\n",
    "cimport cython\n",
    " \n",
    "@cython.freelist(8)\n",
    "cdef class Penguin:\n",
    "    cdef object food\n",
    "    def __cinit__(self, food):\n",
    "        self.food = food"
   ]
  },
  {
   "cell_type": "code",
   "execution_count": 30,
   "metadata": {
    "collapsed": false
   },
   "outputs": [],
   "source": [
    "penguin = Penguin('fish 1')"
   ]
  },
  {
   "cell_type": "code",
   "execution_count": 31,
   "metadata": {
    "collapsed": false
   },
   "outputs": [],
   "source": [
    "penguin = None\n",
    "penguin = Penguin('fish 2')"
   ]
  },
  {
   "cell_type": "markdown",
   "metadata": {},
   "source": [
    "## 特殊方法\n",
    "\n",
    "cython也支持特殊方法,它支持的特殊方法可在[这里看到](http://docs.cython.org/en/latest/src/reference/special_methods_table.html#special-methods-table)\n",
    "\n",
    "\n",
    "扩展类型的特殊方法必须用`def`，而不是`cdef`声明,这不会影响他们的性能 -- Python使用不同的调用约定来调用这些特殊方法.\n",
    "\n",
    "这边列举几个比较中要的:\n",
    "\n",
    "### 初始化方法：`__cinit __()` 和`__init __()`\n",
    "\n",
    "有两种方法与初始化对象有关.\n",
    "\n",
    "+ `__cinit__()`\n",
    "\n",
    "    方法是应该执行对象的基本C级初始化，包括对象将拥有的任何C数据结构的分配.你需要小心你在`__cinit__()`方法中做什么，因为对象可能还不是完全有效的Python对象.因此，你应该小心调用任何Python可能触摸对象的操作,特别是其方法.\n",
    "\n",
    "    在调用`__cinit__()`方法时，已经为对象分配了内存，并且任何C属性已初始化为0或null。(任何Python属性也被初始化为None，但是你可能不应该依赖它.)你的`__cinit__()`方法一定只会被调用一次.\n",
    "    \n",
    "    如果扩展类型有基类，那么在调用`__cinit __()`方法之前，将自动调用基类的`__cinit__()`方法,你不能显式调用基类的`__cinit__()`方法。如果需要将修改的参数列表传递给基类,则必须在`__init__()`方法中执行初始化的相关部分(其中调用继承方法的正常规则适用).\n",
    "\n",
    "+ `__init__()`\n",
    "\n",
    "    在`__cinit__()`方法中不能安全完成的任何初始化都应该在`__init__()`方法中完成.当调用`__init __()`时，对象是一个完全有效的Python对象，所有操作都是安全的.在某些情况下,`__init__()`可能被多次调用或根本不被调用.\n",
    "\n",
    "传递给构造函数的任何参数都将传递给`__cinit __()`方法和`__init__()`方法。如果你预计在Python中继承扩展类型,可能会将参数以`*和**参数`的形式传给`__cinit__()`方法，以便它可以接受和忽略额外的参数.否则，任何具有带有不同签名的`__init __()`的Python子类都必须覆盖`__new __()`以及`__init __()`，明显这样很不友好.或者，为了方便起见，如果你声明你的`__cinit__()`方法没有参数(除了`self`)，它将简单地忽略传递给构造函数的任何额外的参数.这种方式可能更加保险."
   ]
  },
  {
   "cell_type": "markdown",
   "metadata": {},
   "source": [
    "## 析构方法：`__dealloc __()`\n",
    "\n",
    "与`__cinit__()`方法的逆向方法是`__dealloc__()`方法。`__cinit__()`方法中显式分配内存的任何C数据(例如通过malloc分配的空间)应在`__dealloc__()`方法中释放.你需要小心你在`__dealloc __()`方法中的操作.在调用`__dealloc__()`方法时，对象可能已经被部分销毁，并且对于Python而言可能不处于有效状态，如果你坚持只是释放C数据是最好的选择.\n",
    "\n",
    "你不需要担心释放对象的Python属性，因为在`__dealloc __()`方法返回后，它将由Cython完成.\n",
    "当子类化扩展类型时,请注意，超类的`__dealloc__()`方法将始终被调用，即使它被覆盖.这与典型的Python行为不同.\n",
    "\n",
    "\n",
    "注意：\n",
    "\n",
    "扩展类型没有`__del__()`方法。"
   ]
  },
  {
   "cell_type": "markdown",
   "metadata": {},
   "source": [
    "## 逻辑运算方法\n",
    "\n",
    "算术运算符方法(如`__add__()`)的行为与Python对应方法不同。这些方法没有单独的“反转”版本(`__radd __()`等).相反，如果第一个操作数不能执行操作，则调用第二个操作数的相同方法，操作数的顺序相同.\n",
    "\n",
    "\n",
    "## 运算比较操作\n",
    "\n",
    "对于不同的比较操作(`__eq__()`，`__le__()`等等)Cython没有单独的方法.而是有一个方法`__richcmp __()`，它接受一个整数，指示要执行哪种操作，如下所示:\n",
    "\n",
    "操作|指示\n",
    "---|---\n",
    "<|0\n",
    "==|2\n",
    ">|4\n",
    "<=|1\n",
    "!=|3\n",
    ">=|5"
   ]
  },
  {
   "cell_type": "markdown",
   "metadata": {},
   "source": [
    "## 错误处理\n",
    "\n",
    "如果你不做任何特殊的事情，用cdef声明的函数不返回任何Python对象，这样这个cdef函数就没有办法向其调用者报告其Python异常.如果在此类函数中检测到异常，则会打印一条警告消息，并忽略该异常.\n",
    "如果你想要一个不返回Python对象的C函数能够将异常传播给它的调用者，你需要声明一个异常值。这里是一个例子：\n",
    "\n",
    "```cython\n",
    "\n",
    "cdef int spam() except -1:\n",
    "    ...\n",
    "```\n",
    "\n",
    "使用此声明，每当`spam()`函数内发生异常时，它将立即返回值`-1`.此外，每当对`spam()`的调用返回`-1`时，将假定异常已经发生并将被传播.\n",
    "\n",
    "\n",
    "当为函数声明异常值时，不应显式或隐式返回该值.特别是，如果异常返回值是一个`False`值，那么你应该确保函数永远不会通过隐式或空返回终止.\n",
    "\n",
    "如果所有可能的返回值都是合法的，并且你不能完全保留一个用于信号错误，则可以使用异常值声明的替代形式：\n",
    "\n",
    "```cython\n",
    "cdef int spam() except? -1:\n",
    "    ...\n",
    "```\n",
    "\n",
    "'?'号表示-1是个异常值，在这种情况下，Cython通过生成一个函数`PyErr_Occurred()`进行返回，从而知道该函数发生了异常值.\n",
    "\n",
    "\n",
    "还有第三种定义方式：\n",
    "```cython\n",
    "cdef int spam() except *:\n",
    "    ...\n",
    "    \n",
    "```\n",
    "这种形式导致Cython在每次调用spam()后生成对`PyErr_Occurred()`的调用，而不管它返回什么值。如果你有一个函数返回void需要传播错误，你将不得不使用这种形式，因为没有任何返回值来测试.否则这种形式的定义应该尽量少用.\n",
    "\n",
    "需要注意的是：\n",
    "\n",
    "异常值只能为返回\n",
    "\n",
    "+ 整数，\n",
    "+ 枚举，\n",
    "+ 浮点\n",
    "+ 指针类型的函数声明.\n",
    "\n",
    "并且该值必须是常量表达式。\n",
    "\n",
    "void函数只能使用`except *`形式.\n",
    "\n",
    "异常值规范是函数签名的一部分。如果将指针作为参数传递给函数或将其指定给变量，则声明的参数或变量的类型必须具有相同的异常值规范(或缺少).下面是一个具有异常值的指针到函数声明的示例：\n",
    "\n",
    "```cython\n",
    "int (*grail)(int, char*) except -1\n",
    "```"
   ]
  },
  {
   "cell_type": "markdown",
   "metadata": {},
   "source": [
    "## 模块导入\n",
    "\n",
    "cython中的导入方式有3种:\n",
    "\n",
    "+ python的`import`\n",
    "\n",
    "    用于导入python模块,一般只在实现文件中导入\n",
    "\n",
    "+ cython的`cimport`\n",
    "\n",
    "    用于导入cpython中`.pxd`文件中申明的内容和一些cpython封装好的标准模块,可以在申明文件或者实现文件中导入\n",
    "\n",
    "+ cython的`include`\n",
    "\n",
    "    `include`语句用于导入`.pxi`文件.这种语法类似`C/C++`中的`#include`,是直接将目标文件内容复制到当前位置"
   ]
  }
 ],
 "metadata": {
  "kernelspec": {
   "display_name": "Python 3",
   "language": "python",
   "name": "python3"
  },
  "language_info": {
   "codemirror_mode": {
    "name": "ipython",
    "version": 3
   },
   "file_extension": ".py",
   "mimetype": "text/x-python",
   "name": "python",
   "nbconvert_exporter": "python",
   "pygments_lexer": "ipython3",
   "version": "3.6.0"
  }
 },
 "nbformat": 4,
 "nbformat_minor": 2
}
