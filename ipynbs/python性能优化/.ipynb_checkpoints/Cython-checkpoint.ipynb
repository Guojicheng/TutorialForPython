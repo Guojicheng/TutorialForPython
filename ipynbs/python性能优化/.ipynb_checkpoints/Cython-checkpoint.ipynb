{
 "cells": [
  {
   "cell_type": "markdown",
   "metadata": {},
   "source": [
    "# 用Cython为python写高性能C扩展\n",
    "\n",
    "[cython](http://docs.cython.org/src/tutorial/cython_tutorial.html#fibonacci-fun)的语法是python语言语法和c语言语法的混血,如果你有写python扩展模块的需求，那么Cython真的是一个很好的工具."
   ]
  },
  {
   "cell_type": "markdown",
   "metadata": {},
   "source": [
    "## 基本用法:编译为动态链接库\n",
    "\n",
    "例: helloworld"
   ]
  },
  {
   "cell_type": "code",
   "execution_count": 1,
   "metadata": {
    "collapsed": false
   },
   "outputs": [
    {
     "name": "stdout",
     "output_type": "stream",
     "text": [
      "Overwriting src/Cython/base/fac.pyx\n"
     ]
    }
   ],
   "source": [
    "%%writefile src/Cython/base/fac.pyx\n",
    "\n",
    "def fac(n):\n",
    "    if n<2 :\n",
    "        return 1\n",
    "    return n*fac(n-1)"
   ]
  },
  {
   "cell_type": "code",
   "execution_count": 2,
   "metadata": {
    "collapsed": false
   },
   "outputs": [
    {
     "name": "stdout",
     "output_type": "stream",
     "text": [
      "Overwriting src/Cython/base/setup.py\n"
     ]
    }
   ],
   "source": [
    "%%writefile src/Cython/base/setup.py\n",
    "#coding:utf-8\n",
    "from distutils.core import setup\n",
    "from distutils.extension import Extension\n",
    "from Cython.Build import cythonize\n",
    "import os\n",
    "realpath = os.path.split(os.path.realpath(__file__))[0] \n",
    "setup(\n",
    "  name = 'fac',\n",
    "  ext_modules=cythonize(realpath+\"/fac.pyx\")\n",
    ")"
   ]
  },
  {
   "cell_type": "markdown",
   "metadata": {},
   "source": [
    "注意目录和文件名都不能有中文\n",
    "\n",
    "其中\n",
    "+ cythonize 用来确定所要编译的内容,它的参数可以有:\n",
    "\n",
    "`ext_modules = cythonize(\"src/*.pyx\"[, include_path = [...][,compiler_directives={<option>=<value>}]])`\n",
    "\n",
    "+ `include_path`是编译所需的源文件,这里可以是`.py`文件,`.pyx`文件,`.pxd`文件,`.c`文件,`.h`文件等,也可以是几个扩展类 型`distutils.extension.Extension`的对象,而`Extension`对象又可以这样定义:\n",
    "\n",
    "```python\n",
    "\n",
    " Extension(name, [source...],\n",
    "        include_dirs = [...],\n",
    "        libraries = [...],\n",
    "        library_dirs = [...])\n",
    "```\n",
    "\n",
    "+ `compiler_directives`则是编译的选项,有如下关键字:\n",
    "\n",
    "    + boundscheck (True / False)\n",
    "        如果设置为False，Cython可以自由地假定代码中的索引操作,将不会导致任何IndexErrors被抛出。\n",
    "        只有当索引可以被确定为非负数（或者wraparound为False），列表，元组和字符串才会受影响。\n",
    "        通常触发IndexError的条件可能会导致segfault或数据损坏，如果这被设置为False。\n",
    "        默认值为True。\n",
    "    + wraparound (True / False)\n",
    "        在Python中，数组可以相对于结束索引(负索引)。而在C中是不支持负索引的。\n",
    "        如果设置为False，Cython既不检查也不正确处理负索引，可能导致段错误或数据损坏。\n",
    "        默认值为True。\n",
    "    + initializedcheck (True / False)\n",
    "        如果设置为True，Cython会在访问或分配内存视图时检查它是否被初始化。\n",
    "        将此设置为False将禁用这些检查。\n",
    "        默认值为True。\n",
    "    + nonecheck (True / False)\n",
    "        如果设置为False，Cython可以自由地假定 对变量类型的本地字段访问为扩展类型,或者 当变量被设为None时,对缓冲区变量的缓冲区访问永远不会发生。否则插入一个检查并引发适当的异常。\n",
    "        由于性能原因，默认情况下关闭。\n",
    "        默认值为False。\n",
    "    + overflowcheck (True / False)\n",
    "        如果设置为True，当溢出的C整数算术运算上引发了异常时，会执行适度的运行时惩罚,但即便如此还是比python的int运算快很多,默认为False\n",
    "    + overflowcheck.fold (True / False)\n",
    "        如果设置为True，并且overflowcheck为True，则检查嵌套的溢出位,和有副作用的算术表达式,而不是每个步骤都检查。\n",
    "        依赖于不同的编译器，体系结构和优化设置，这项选项可能有助于提高性能也可能损害性能。\n",
    "        默认值为True。\n",
    "    + embedsignature (True / False)\n",
    "        如果设置为True，Cython将在所有Python可见函数和类的docstring中嵌入调用签名的文本副本。\n",
    "        像IPython和epydoc这样的工具可以显示签名，否则编译后就无法检索。\n",
    "        默认值为False。\n",
    "    + cdivision (True / False)\n",
    "        如果设置为False，Cython将调整余数和商值运算符C类型以匹配Python的int（当操作数具有相反的符号时不同），并且当右操作数为0时产生ZeroDivisionError。这将会有超过35％的性能损失.\n",
    "        如果设置为True，则不执行任何检查。\n",
    "    + cdivision_warnings (True / False)\n",
    "        如果设置为True，当使用负操作数执行除法时，Cython将发出运行时警告。 默认值为False.\n",
    "    + always_allow_keywords (True / False)\n",
    "        在构造取零或一个参数的函数/方法时，METH_NOARGS和METH_O置空。\n",
    "        对具有多个参数的特殊方法和函数没有影响。\n",
    "        METH_NOARGS和METH_O签名提供了更快的调用约定，但不允许使用关键字\n",
    "    + profile (True / False)\n",
    "        为编译成的C代码写上python分析的钩子,默认为False\n",
    "    + linetrace (True / False)\n",
    "        为编译后的C代码写入Python分析器或覆盖报告的跟踪钩子。\n",
    "        这也会启用profile。\n",
    "        默认值为False。\n",
    "\n",
    "    + infer_types (True / False)\n",
    "        推断函数体中未声明类型变量的类型。默认值为None，表示只允许安全（语义上不变的）推断。特别地，推断用于算术表达式中的变量的整数类型被认为是不安全的（由于可能的溢出），并且必须被明确请求。\n",
    "    + language_level (2/3)\n",
    "        全局设置要用于模块编译的Python语言级别。默认为与Python 2兼容。要启用Python 3源代码语义，请在模块开头将其设置为3，或将“-3”命令行选项传递给编译器。请注意，cimport和包含的源文件从正在编译的模块继承此设置，除非他们明确设置自己的语言级别。\n",
    "    + c_string_type (bytes / str / unicode)\n",
    "        从`char *`或`std :: string`全局设置隐式强制的类型\n",
    "    + c_string_encoding (ascii, default, utf-8, etc.)\n",
    "        全局设置在将`char *`或`std：string`隐式强制转化为unicode对象时使用的编码。从unicode对象到C类型的强制只允许设置为ascii或默认，后者意思是在Python 3中是utf-8而在python2中几乎总是ascii\n",
    "    + type_version_tag (True / False)\n",
    "        通过设置类型标志Py_TPFLAGS_HAVE_VERSION_TAG，在CPython中启用扩展类型的属性缓存。\n",
    "        默认值为True，表示为Cython实现的类型启用了缓存。\n",
    "        在类型需要在内部与其tp_dict进行协调而不关注缓存一致性的罕见情况下禁用它，可以将此选项设置为False。\n",
    "    + unraisable_tracebacks (True / False)\n",
    "        是否在抑制不可取消的异常时打印回溯。\n",
    "\n"
   ]
  },
  {
   "cell_type": "code",
   "execution_count": 3,
   "metadata": {
    "collapsed": false,
    "scrolled": true
   },
   "outputs": [
    {
     "name": "stdout",
     "output_type": "stream",
     "text": [
      "Compiling /Users/huangsizhe/WORKSPACE/Blog/Docs/Python/Python_performance_optimization/src/Cython/base/fac.pyx because it changed.\n",
      "[1/1] Cythonizing /Users/huangsizhe/WORKSPACE/Blog/Docs/Python/Python_performance_optimization/src/Cython/base/fac.pyx\n",
      "running build_ext\n",
      "building 'fac' extension\n",
      "gcc -fno-strict-aliasing -I/Users/huangsizhe/LIB/CONDA/anaconda/include -arch x86_64 -DNDEBUG -g -fwrapv -O3 -Wall -Wstrict-prototypes -I/Users/huangsizhe/Lib/CONDA/anaconda/include/python2.7 -c /Users/huangsizhe/WORKSPACE/Blog/Docs/Python/Python_performance_optimization/src/Cython/base/fac.c -o src/Cython/base/build/Users/huangsizhe/WORKSPACE/Blog/Docs/Python/Python_performance_optimization/src/Cython/base/fac.o\n",
      "\u001b[1m/Users/huangsizhe/WORKSPACE/Blog/Docs/Python/Python_performance_optimization/src/Cython/base/fac.c:1777:28: \u001b[0m\u001b[0;1;35mwarning: \u001b[0m\u001b[1m\n",
      "      unused function '__Pyx_PyObject_AsString' [-Wunused-function]\u001b[0m\n",
      "static CYTHON_INLINE char* __Pyx_PyObject_AsString(PyObject* o) {\n",
      "\u001b[0;1;32m                           ^\n",
      "\u001b[0m\u001b[1m/Users/huangsizhe/WORKSPACE/Blog/Docs/Python/Python_performance_optimization/src/Cython/base/fac.c:1774:32: \u001b[0m\u001b[0;1;35mwarning: \u001b[0m\u001b[1m\n",
      "      unused function '__Pyx_PyUnicode_FromString' [-Wunused-function]\u001b[0m\n",
      "static CYTHON_INLINE PyObject* __Pyx_PyUnicode_FromString(const char* c_str) {\n",
      "\u001b[0;1;32m                               ^\n",
      "\u001b[0m\u001b[1m/Users/huangsizhe/WORKSPACE/Blog/Docs/Python/Python_performance_optimization/src/Cython/base/fac.c:331:29: \u001b[0m\u001b[0;1;35mwarning: \u001b[0m\u001b[1m\n",
      "      unused function '__Pyx_Py_UNICODE_strlen' [-Wunused-function]\u001b[0m\n",
      "static CYTHON_INLINE size_t __Pyx_Py_UNICODE_strlen(const Py_UNICODE *u)\n",
      "\u001b[0;1;32m                            ^\n",
      "\u001b[0m\u001b[1m/Users/huangsizhe/WORKSPACE/Blog/Docs/Python/Python_performance_optimization/src/Cython/base/fac.c:1889:33: \u001b[0m\u001b[0;1;35mwarning: \u001b[0m\u001b[1m\n",
      "      unused function '__Pyx_PyIndex_AsSsize_t' [-Wunused-function]\u001b[0m\n",
      "static CYTHON_INLINE Py_ssize_t __Pyx_PyIndex_AsSsize_t(PyObject* b) {\n",
      "\u001b[0;1;32m                                ^\n",
      "\u001b[0m\u001b[1m/Users/huangsizhe/WORKSPACE/Blog/Docs/Python/Python_performance_optimization/src/Cython/base/fac.c:1951:33: \u001b[0m\u001b[0;1;35mwarning: \u001b[0m\u001b[1m\n",
      "      unused function '__Pyx_PyInt_FromSize_t' [-Wunused-function]\u001b[0m\n",
      "static CYTHON_INLINE PyObject * __Pyx_PyInt_FromSize_t(size_t ival) {\n",
      "\u001b[0;1;32m                                ^\n",
      "\u001b[0m\u001b[1m/Users/huangsizhe/WORKSPACE/Blog/Docs/Python/Python_performance_optimization/src/Cython/base/fac.c:1314:32: \u001b[0m\u001b[0;1;35mwarning: \u001b[0m\u001b[1m\n",
      "      unused function '__Pyx_PyInt_From_long' [-Wunused-function]\u001b[0m\n",
      "static CYTHON_INLINE PyObject* __Pyx_PyInt_From_long(long value) {\n",
      "\u001b[0;1;32m                               ^\n",
      "\u001b[0m\u001b[1m/Users/huangsizhe/WORKSPACE/Blog/Docs/Python/Python_performance_optimization/src/Cython/base/fac.c:1361:27: \u001b[0m\u001b[0;1;35mwarning: \u001b[0m\u001b[1m\n",
      "      function '__Pyx_PyInt_As_long' is not needed and will not be emitted\n",
      "      [-Wunneeded-internal-declaration]\u001b[0m\n",
      "static CYTHON_INLINE long __Pyx_PyInt_As_long(PyObject *x) {\n",
      "\u001b[0;1;32m                          ^\n",
      "\u001b[0m\u001b[1m/Users/huangsizhe/WORKSPACE/Blog/Docs/Python/Python_performance_optimization/src/Cython/base/fac.c:1545:26: \u001b[0m\u001b[0;1;35mwarning: \u001b[0m\u001b[1m\n",
      "      function '__Pyx_PyInt_As_int' is not needed and will not be emitted\n",
      "      [-Wunneeded-internal-declaration]\u001b[0m\n",
      "static CYTHON_INLINE int __Pyx_PyInt_As_int(PyObject *x) {\n",
      "\u001b[0;1;32m                         ^\n",
      "\u001b[0m8 warnings generated.\n",
      "gcc -bundle -undefined dynamic_lookup -L/Users/huangsizhe/LIB/CONDA/anaconda/lib -arch x86_64 -arch x86_64 src/Cython/base/build/Users/huangsizhe/WORKSPACE/Blog/Docs/Python/Python_performance_optimization/src/Cython/base/fac.o -L/Users/huangsizhe/LIB/CONDA/anaconda/lib -o ./fac.so\n"
     ]
    }
   ],
   "source": [
    "!python src/Cython/base/setup.py build_ext --build-lib=./ --build-temp=src/Cython/base/build"
   ]
  },
  {
   "cell_type": "markdown",
   "metadata": {},
   "source": [
    "可以看到编译出来.so文件"
   ]
  },
  {
   "cell_type": "code",
   "execution_count": 4,
   "metadata": {
    "collapsed": false
   },
   "outputs": [
    {
     "data": {
      "text/plain": [
       "3628800"
      ]
     },
     "execution_count": 4,
     "metadata": {},
     "output_type": "execute_result"
    }
   ],
   "source": [
    "from fac import fac\n",
    "fac(10)"
   ]
  },
  {
   "cell_type": "code",
   "execution_count": 5,
   "metadata": {
    "collapsed": false
   },
   "outputs": [
    {
     "name": "stdout",
     "output_type": "stream",
     "text": [
      "The slowest run took 7.07 times longer than the fastest. This could mean that an intermediate result is being cached.\n",
      "1000000 loops, best of 3: 708 ns per loop\n"
     ]
    }
   ],
   "source": [
    "%timeit fac(10)"
   ]
  },
  {
   "cell_type": "code",
   "execution_count": 6,
   "metadata": {
    "collapsed": true
   },
   "outputs": [],
   "source": [
    "def fac_c(n):\n",
    "    if n<2 :\n",
    "        return 1\n",
    "    return n*fac_c(n-1)"
   ]
  },
  {
   "cell_type": "code",
   "execution_count": 7,
   "metadata": {
    "collapsed": false
   },
   "outputs": [
    {
     "name": "stdout",
     "output_type": "stream",
     "text": [
      "100000 loops, best of 3: 3.6 µs per loop\n"
     ]
    }
   ],
   "source": [
    "%timeit fac_c(10)"
   ]
  },
  {
   "cell_type": "markdown",
   "metadata": {},
   "source": [
    "Cython直接把python代码翻译成了C代码,这样大大提高了效率"
   ]
  },
  {
   "cell_type": "markdown",
   "metadata": {},
   "source": [
    "## 静态化变量\n",
    "\n",
    "我们可以把参数和变量静态化,来提高代码的运行效率"
   ]
  },
  {
   "cell_type": "code",
   "execution_count": 8,
   "metadata": {
    "collapsed": false
   },
   "outputs": [
    {
     "name": "stdout",
     "output_type": "stream",
     "text": [
      "Overwriting src/Cython/static_args/primes.pyx\n"
     ]
    }
   ],
   "source": [
    "%%writefile src/Cython/static_args/primes.pyx\n",
    "def primes(int kmax):\n",
    "    cdef int n, k, i\n",
    "    cdef int p[1000]\n",
    "    result = []\n",
    "    if kmax > 1000:\n",
    "        kmax = 1000\n",
    "    k = 0\n",
    "    n = 2\n",
    "    while k < kmax:\n",
    "        i = 0\n",
    "        while i < k and n % p[i] != 0:\n",
    "            i = i + 1\n",
    "        if i == k:\n",
    "            p[k] = n\n",
    "            k = k + 1\n",
    "            result.append(n)\n",
    "        n = n + 1\n",
    "    return result"
   ]
  },
  {
   "cell_type": "code",
   "execution_count": 9,
   "metadata": {
    "collapsed": false
   },
   "outputs": [
    {
     "name": "stdout",
     "output_type": "stream",
     "text": [
      "Overwriting src/Cython/static_args/setup.py\n"
     ]
    }
   ],
   "source": [
    "%%writefile src/Cython/static_args/setup.py\n",
    "#coding:utf-8\n",
    "from distutils.core import setup\n",
    "from distutils.extension import Extension\n",
    "from Cython.Build import cythonize\n",
    "import os\n",
    "realpath = os.path.split(os.path.realpath(__file__))[0] \n",
    "setup(\n",
    "  name = 'primes',\n",
    "  ext_modules=cythonize(realpath+\"/primes.pyx\")\n",
    ")"
   ]
  },
  {
   "cell_type": "code",
   "execution_count": 10,
   "metadata": {
    "collapsed": false
   },
   "outputs": [
    {
     "name": "stdout",
     "output_type": "stream",
     "text": [
      "Compiling /Users/huangsizhe/WORKSPACE/Blog/Docs/Python/Python_performance_optimization/src/Cython/static_args/primes.pyx because it changed.\n",
      "[1/1] Cythonizing /Users/huangsizhe/WORKSPACE/Blog/Docs/Python/Python_performance_optimization/src/Cython/static_args/primes.pyx\n",
      "running build_ext\n",
      "building 'primes' extension\n",
      "gcc -fno-strict-aliasing -I/Users/huangsizhe/LIB/CONDA/anaconda/include -arch x86_64 -DNDEBUG -g -fwrapv -O3 -Wall -Wstrict-prototypes -I/Users/huangsizhe/Lib/CONDA/anaconda/include/python2.7 -c /Users/huangsizhe/WORKSPACE/Blog/Docs/Python/Python_performance_optimization/src/Cython/static_args/primes.c -o src/Cython/static_args/build/Users/huangsizhe/WORKSPACE/Blog/Docs/Python/Python_performance_optimization/src/Cython/static_args/primes.o\n",
      "\u001b[1m/Users/huangsizhe/WORKSPACE/Blog/Docs/Python/Python_performance_optimization/src/Cython/static_args/primes.c:1716:28: \u001b[0m\u001b[0;1;35mwarning: \u001b[0m\u001b[1m\n",
      "      unused function '__Pyx_PyObject_AsString' [-Wunused-function]\u001b[0m\n",
      "static CYTHON_INLINE char* __Pyx_PyObject_AsString(PyObject* o) {\n",
      "\u001b[0;1;32m                           ^\n",
      "\u001b[0m\u001b[1m/Users/huangsizhe/WORKSPACE/Blog/Docs/Python/Python_performance_optimization/src/Cython/static_args/primes.c:1713:32: \u001b[0m\u001b[0;1;35mwarning: \u001b[0m\u001b[1m\n",
      "      unused function '__Pyx_PyUnicode_FromString' [-Wunused-function]\u001b[0m\n",
      "static CYTHON_INLINE PyObject* __Pyx_PyUnicode_FromString(const char* c_str) {\n",
      "\u001b[0;1;32m                               ^\n",
      "\u001b[0m\u001b[1m/Users/huangsizhe/WORKSPACE/Blog/Docs/Python/Python_performance_optimization/src/Cython/static_args/primes.c:331:29: \u001b[0m\u001b[0;1;35mwarning: \u001b[0m\u001b[1m\n",
      "      unused function '__Pyx_Py_UNICODE_strlen' [-Wunused-function]\u001b[0m\n",
      "static CYTHON_INLINE size_t __Pyx_Py_UNICODE_strlen(const Py_UNICODE *u)\n",
      "\u001b[0;1;32m                            ^\n",
      "\u001b[0m\u001b[1m/Users/huangsizhe/WORKSPACE/Blog/Docs/Python/Python_performance_optimization/src/Cython/static_args/primes.c:1778:26: \u001b[0m\u001b[0;1;35mwarning: \u001b[0m\u001b[1m\n",
      "      unused function '__Pyx_PyObject_IsTrue' [-Wunused-function]\u001b[0m\n",
      "static CYTHON_INLINE int __Pyx_PyObject_IsTrue(PyObject* x) {\n",
      "\u001b[0;1;32m                         ^\n",
      "\u001b[0m\u001b[1m/Users/huangsizhe/WORKSPACE/Blog/Docs/Python/Python_performance_optimization/src/Cython/static_args/primes.c:1828:33: \u001b[0m\u001b[0;1;35mwarning: \u001b[0m\u001b[1m\n",
      "      unused function '__Pyx_PyIndex_AsSsize_t' [-Wunused-function]\u001b[0m\n",
      "static CYTHON_INLINE Py_ssize_t __Pyx_PyIndex_AsSsize_t(PyObject* b) {\n",
      "\u001b[0;1;32m                                ^\n",
      "\u001b[0m\u001b[1m/Users/huangsizhe/WORKSPACE/Blog/Docs/Python/Python_performance_optimization/src/Cython/static_args/primes.c:1890:33: \u001b[0m\u001b[0;1;35mwarning: \u001b[0m\u001b[1m\n",
      "      unused function '__Pyx_PyInt_FromSize_t' [-Wunused-function]\u001b[0m\n",
      "static CYTHON_INLINE PyObject * __Pyx_PyInt_FromSize_t(size_t ival) {\n",
      "\u001b[0;1;32m                                ^\n",
      "\u001b[0m\u001b[1m/Users/huangsizhe/WORKSPACE/Blog/Docs/Python/Python_performance_optimization/src/Cython/static_args/primes.c:1458:32: \u001b[0m\u001b[0;1;35mwarning: \u001b[0m\u001b[1m\n",
      "      unused function '__Pyx_PyInt_From_long' [-Wunused-function]\u001b[0m\n",
      "static CYTHON_INLINE PyObject* __Pyx_PyInt_From_long(long value) {\n",
      "\u001b[0;1;32m                               ^\n",
      "\u001b[0m\u001b[1m/Users/huangsizhe/WORKSPACE/Blog/Docs/Python/Python_performance_optimization/src/Cython/static_args/primes.c:1484:27: \u001b[0m\u001b[0;1;35mwarning: \u001b[0m\u001b[1m\n",
      "      function '__Pyx_PyInt_As_long' is not needed and will not be emitted\n",
      "      [-Wunneeded-internal-declaration]\u001b[0m\n",
      "static CYTHON_INLINE long __Pyx_PyInt_As_long(PyObject *x) {\n",
      "\u001b[0;1;32m                          ^\n",
      "\u001b[0m8 warnings generated.\n",
      "gcc -bundle -undefined dynamic_lookup -L/Users/huangsizhe/LIB/CONDA/anaconda/lib -arch x86_64 -arch x86_64 src/Cython/static_args/build/Users/huangsizhe/WORKSPACE/Blog/Docs/Python/Python_performance_optimization/src/Cython/static_args/primes.o -L/Users/huangsizhe/LIB/CONDA/anaconda/lib -o ./primes.so\n"
     ]
    }
   ],
   "source": [
    "!python src/Cython/static_args/setup.py build_ext --build-lib=./ --build-temp=src/Cython/static_args/build"
   ]
  },
  {
   "cell_type": "code",
   "execution_count": 11,
   "metadata": {
    "collapsed": false
   },
   "outputs": [
    {
     "data": {
      "text/plain": [
       "[2, 3, 5, 7, 11, 13, 17, 19, 23, 29]"
      ]
     },
     "execution_count": 11,
     "metadata": {},
     "output_type": "execute_result"
    }
   ],
   "source": [
    "import primes\n",
    "primes.primes(10)"
   ]
  },
  {
   "cell_type": "code",
   "execution_count": 12,
   "metadata": {
    "collapsed": false
   },
   "outputs": [
    {
     "name": "stdout",
     "output_type": "stream",
     "text": [
      "The slowest run took 4.67 times longer than the fastest. This could mean that an intermediate result is being cached.\n",
      "1000000 loops, best of 3: 1.33 µs per loop\n"
     ]
    }
   ],
   "source": [
    "%timeit primes.primes(10)"
   ]
  },
  {
   "cell_type": "markdown",
   "metadata": {},
   "source": [
    "### 小福利:用python写可执行文件\n",
    "\n",
    "Cython本身是把python代码转译成C然后编译为动态链接库的工具,于是我们可以利用这个特性来为自己的python文件生成不依赖python环境的可执行文件."
   ]
  },
  {
   "cell_type": "markdown",
   "metadata": {},
   "source": [
    "+ ### 单文件编译,将前面的求质数函数改造成命令行工具"
   ]
  },
  {
   "cell_type": "code",
   "execution_count": 13,
   "metadata": {
    "collapsed": false
   },
   "outputs": [
    {
     "name": "stdout",
     "output_type": "stream",
     "text": [
      "Overwriting src/Cython/primes/primes.pyx\n"
     ]
    }
   ],
   "source": [
    "%%writefile src/Cython/primes/primes.pyx\n",
    "#coding:utf-8\n",
    "\n",
    "\n",
    "import argparse\n",
    "\n",
    "__version__=\"0.1.0\"\n",
    "\n",
    "def primes(kmax):\n",
    "    n=0\n",
    "    k=0\n",
    "    i=0\n",
    "    p=[0 for i in range(1000)]\n",
    "    #cdef int p[1000]\n",
    "    result = []\n",
    "    if kmax > 1000:\n",
    "        kmax = 1000\n",
    "    k = 0\n",
    "    n = 2\n",
    "    while k < kmax:\n",
    "        i = 0\n",
    "        while i < k and n % p[i] != 0:\n",
    "            i = i + 1\n",
    "        if i == k:\n",
    "            p[k] = n\n",
    "            k = k + 1\n",
    "            result.append(n)\n",
    "        n = n + 1\n",
    "    return result\n",
    "\n",
    "def version():\n",
    "    print(\"version:\"+__version__)\n",
    "    \n",
    "    \n",
    "def main():\n",
    "    parser = argparse.ArgumentParser()\n",
    "    parser.add_argument(\"number\", type=int,help=u\"求前n个的质数\")\n",
    "    parser.add_argument(\"-v\",\"--version\", help=u\"查看版本\",action=\"store_true\")\n",
    "\n",
    "    args = parser.parse_args()\n",
    "    if args.version:\n",
    "        version()\n",
    "    if args.number:\n",
    "        print primes(args.number)\n",
    "        \n",
    "if __name__ == \"__main__\":\n",
    "    \n",
    "    main()\n",
    "        \n",
    "    "
   ]
  },
  {
   "cell_type": "markdown",
   "metadata": {},
   "source": [
    "编译:\n",
    "\n",
    "要将它编译为二进制文件需要先把代码翻译成C语言,这就需要用Cython的`--embed`参数了,之后呢就是编译成.o文件,然后链接为可执行文件了\n"
   ]
  },
  {
   "cell_type": "code",
   "execution_count": 14,
   "metadata": {
    "collapsed": true
   },
   "outputs": [],
   "source": [
    "!Cython --embed src/Cython/primes/primes.pyx"
   ]
  },
  {
   "cell_type": "code",
   "execution_count": 15,
   "metadata": {
    "collapsed": false
   },
   "outputs": [],
   "source": [
    "!gcc -c -o src/Cython/primes/primes.o -I ~/LIB/CONDA/anaconda/include/python2.7 src/Cython/primes/primes.c "
   ]
  },
  {
   "cell_type": "code",
   "execution_count": 16,
   "metadata": {
    "collapsed": true
   },
   "outputs": [],
   "source": [
    "!gcc -o src/Cython/primes/primes src/Cython/primes/primes.o -I ~/LIB/CONDA/anaconda/include/python2.7 -lpython2.7"
   ]
  },
  {
   "cell_type": "markdown",
   "metadata": {},
   "source": [
    "或者:"
   ]
  },
  {
   "cell_type": "code",
   "execution_count": 17,
   "metadata": {
    "collapsed": false
   },
   "outputs": [],
   "source": [
    "!gcc -o src/Cython/primes/primes -I ~/LIB/CONDA/anaconda/include/python2.7 -lpython2.7 src/Cython/primes/primes.c "
   ]
  },
  {
   "cell_type": "markdown",
   "metadata": {},
   "source": [
    "测试"
   ]
  },
  {
   "cell_type": "code",
   "execution_count": 18,
   "metadata": {
    "collapsed": false
   },
   "outputs": [
    {
     "name": "stdout",
     "output_type": "stream",
     "text": [
      "[2, 3, 5, 7, 11, 13, 17, 19, 23, 29]\r\n"
     ]
    }
   ],
   "source": [
    "!./src/Cython/primes/primes 10"
   ]
  },
  {
   "cell_type": "code",
   "execution_count": 19,
   "metadata": {
    "collapsed": false
   },
   "outputs": [
    {
     "name": "stdout",
     "output_type": "stream",
     "text": [
      "usage: primes [-h] [-v] number\r\n",
      "\r\n",
      "positional arguments:\r\n",
      "  number         求前n个的质数\r\n",
      "\r\n",
      "optional arguments:\r\n",
      "  -h, --help     show this help message and exit\r\n",
      "  -v, --version  查看版本\r\n"
     ]
    }
   ],
   "source": [
    "!./src/Cython/primes/primes -h"
   ]
  },
  {
   "cell_type": "markdown",
   "metadata": {},
   "source": [
    "使用`\"setup.py\"`编译\n"
   ]
  },
  {
   "cell_type": "code",
   "execution_count": 20,
   "metadata": {
    "collapsed": false
   },
   "outputs": [
    {
     "name": "stdout",
     "output_type": "stream",
     "text": [
      "Overwriting src/Cython/primes/setup.py\n"
     ]
    }
   ],
   "source": [
    "%%writefile src/Cython/primes/setup.py\n",
    "#coding:utf-8\n",
    "\n",
    "from Cython.Build import cythonize\n",
    "from Cython.Compiler import Options\n",
    "import os\n",
    "import sh\n",
    "\n",
    "\n",
    "Includes = \"/Users/huangsizhe/LIB/CONDA/anaconda/include/python2.7\"\n",
    "realPath = os.path.split(os.path.realpath(__file__))[0]\n",
    "appName = \"primes\"\n",
    "\n",
    "Options.embed = \"main\"\n",
    " \n",
    "cythonize(realPath+\"/\"+appName+\".pyx\")\n",
    "sh.gcc(realPath+\"/\"+appName+\".c\",I=Includes,l=\"python2.7\",o=realPath+\"/\"+appName)\n",
    "print realPath+\"/\"+appName+\" done\""
   ]
  },
  {
   "cell_type": "code",
   "execution_count": 21,
   "metadata": {
    "collapsed": false
   },
   "outputs": [
    {
     "name": "stdout",
     "output_type": "stream",
     "text": [
      "/Users/huangsizhe/WORKSPACE/Blog/Docs/Python/Python_performance_optimization/src/Cython/primes/primes done\r\n"
     ]
    }
   ],
   "source": [
    "!python src/Cython/primes/setup.py"
   ]
  },
  {
   "cell_type": "code",
   "execution_count": 22,
   "metadata": {
    "collapsed": false
   },
   "outputs": [
    {
     "name": "stdout",
     "output_type": "stream",
     "text": [
      "[2, 3, 5, 7, 11, 13, 17, 19, 23, 29]\r\n"
     ]
    }
   ],
   "source": [
    "!src/Cython/primes/primes 10"
   ]
  },
  {
   "cell_type": "markdown",
   "metadata": {},
   "source": [
    "+ ### 多文件编译\n",
    "\n",
    "多文件编译需要用到申明文件来在编译时确定代码.我们用之前的fac函数来做测试,事实上多文件编译有这么几个方法:\n",
    "\n",
    "+ #### 使用iclude关键字将文件直接拷贝进主文件"
   ]
  },
  {
   "cell_type": "code",
   "execution_count": 23,
   "metadata": {
    "collapsed": false
   },
   "outputs": [
    {
     "name": "stdout",
     "output_type": "stream",
     "text": [
      "Overwriting src/Cython/fac/lib/fac.py\n"
     ]
    }
   ],
   "source": [
    "%%writefile src/Cython/fac/lib/fac.py\n",
    "# coding:utf-8\n",
    "def fac(n):\n",
    "    if n<2 :\n",
    "        return 1\n",
    "    return n*fac(n-1)"
   ]
  },
  {
   "cell_type": "code",
   "execution_count": 24,
   "metadata": {
    "collapsed": false
   },
   "outputs": [
    {
     "name": "stdout",
     "output_type": "stream",
     "text": [
      "Overwriting src/Cython/fac/main.pyx\n"
     ]
    }
   ],
   "source": [
    "%%writefile src/Cython/fac/main.pyx\n",
    "# coding:utf-8\n",
    "\n",
    "include \"lib/fac.py\"\n",
    "\n",
    "import argparse\n",
    "\n",
    "__version__=\"0.1.0\"\n",
    "\n",
    "def version():\n",
    "    print(\"version:\"+__version__)\n",
    "\n",
    "\n",
    "def main():\n",
    "    parser = argparse.ArgumentParser()\n",
    "    parser.add_argument(\"number\", type=int,help=u\"求这个数的阶乘\")\n",
    "    parser.add_argument(\"-v\",\"--version\", help=u\"查看版本\",action=\"store_true\")\n",
    "\n",
    "    args = parser.parse_args()\n",
    "    if args.version:\n",
    "        version()\n",
    "    if args.number:\n",
    "        print fac(args.number)\n",
    "\n",
    "if __name__ == \"__main__\":\n",
    "\n",
    "    main()"
   ]
  },
  {
   "cell_type": "code",
   "execution_count": 25,
   "metadata": {
    "collapsed": false,
    "scrolled": true
   },
   "outputs": [
    {
     "name": "stdout",
     "output_type": "stream",
     "text": [
      "Overwriting src/Cython/fac/setup.py\n"
     ]
    }
   ],
   "source": [
    "%%writefile src/Cython/fac/setup.py\n",
    "#coding:utf-8\n",
    "\n",
    "from Cython.Build import cythonize\n",
    "from distutils.extension import Extension\n",
    "from Cython.Compiler import Options\n",
    "import os\n",
    "import sh\n",
    "\n",
    "\n",
    "Includes = \"/Users/huangsizhe/LIB/CONDA/anaconda/include/python2.7\"\n",
    "realPath = os.path.split(os.path.realpath(__file__))[0]\n",
    "appName = \"fac\"\n",
    "mainName = \"main\"\n",
    "Options.embed = \"main\"\n",
    " \n",
    "extensions = [\n",
    "    Extension(mainName, [realPath+\"/main.pyx\"])\n",
    "]\n",
    "\n",
    "cythonize(extensions)\n",
    "sh.gcc(realPath+\"/\"+mainName+\".c\",I=Includes,l=\"python2.7\",o=realPath+\"/\"+appName)\n",
    "print realPath+\"/\"+appName+\" done\""
   ]
  },
  {
   "cell_type": "code",
   "execution_count": 26,
   "metadata": {
    "collapsed": false
   },
   "outputs": [
    {
     "name": "stdout",
     "output_type": "stream",
     "text": [
      "Compiling /Users/huangsizhe/WORKSPACE/Blog/Docs/Python/Python_performance_optimization/src/Cython/fac/main.pyx because it changed.\n",
      "[1/1] Cythonizing /Users/huangsizhe/WORKSPACE/Blog/Docs/Python/Python_performance_optimization/src/Cython/fac/main.pyx\n",
      "/Users/huangsizhe/WORKSPACE/Blog/Docs/Python/Python_performance_optimization/src/Cython/fac/fac done\n"
     ]
    }
   ],
   "source": [
    "!python src/Cython/fac/setup.py"
   ]
  },
  {
   "cell_type": "code",
   "execution_count": 27,
   "metadata": {
    "collapsed": false
   },
   "outputs": [
    {
     "name": "stdout",
     "output_type": "stream",
     "text": [
      "3628800\r\n"
     ]
    }
   ],
   "source": [
    "!src/Cython/fac/fac 10"
   ]
  },
  {
   "cell_type": "markdown",
   "metadata": {},
   "source": [
    "+ #### 分别编译主文件和执行文件\n"
   ]
  },
  {
   "cell_type": "code",
   "execution_count": 28,
   "metadata": {
    "collapsed": false
   },
   "outputs": [
    {
     "name": "stdout",
     "output_type": "stream",
     "text": [
      "Overwriting src/Cython/fac/lib/setup.py\n"
     ]
    }
   ],
   "source": [
    "%%writefile src/Cython/fac/lib/setup.py\n",
    "#coding:utf-8\n",
    "\n",
    "from distutils.core import setup\n",
    "from Cython.Build import cythonize\n",
    "from distutils.extension import Extension\n",
    "from Cython.Compiler import Options\n",
    "import os\n",
    "import sh\n",
    "\n",
    "\n",
    "Includes = \"/Users/huangsizhe/LIB/CONDA/anaconda/include/python2.7\"\n",
    "realPath = os.path.split(os.path.realpath(__file__))[0]\n",
    "libName = \"fac\"\n",
    " \n",
    "extensions = [\n",
    "    Extension(libName, [realPath+\"/\"+libName+\".py\"])\n",
    "]\n",
    "\n",
    "setup(\n",
    "  name = libName,\n",
    "  ext_modules=cythonize(extensions)\n",
    ")"
   ]
  },
  {
   "cell_type": "code",
   "execution_count": 29,
   "metadata": {
    "collapsed": false
   },
   "outputs": [
    {
     "name": "stdout",
     "output_type": "stream",
     "text": [
      "Compiling /Users/huangsizhe/WORKSPACE/Blog/Docs/Python/Python_performance_optimization/src/Cython/fac/lib/fac.py because it changed.\n",
      "[1/1] Cythonizing /Users/huangsizhe/WORKSPACE/Blog/Docs/Python/Python_performance_optimization/src/Cython/fac/lib/fac.py\n",
      "running build_ext\n",
      "building 'fac' extension\n",
      "gcc -fno-strict-aliasing -I/Users/huangsizhe/LIB/CONDA/anaconda/include -arch x86_64 -DNDEBUG -g -fwrapv -O3 -Wall -Wstrict-prototypes -I/Users/huangsizhe/Lib/CONDA/anaconda/include/python2.7 -c /Users/huangsizhe/WORKSPACE/Blog/Docs/Python/Python_performance_optimization/src/Cython/fac/lib/fac.c -o src/Cython/fac/lib/build/Users/huangsizhe/WORKSPACE/Blog/Docs/Python/Python_performance_optimization/src/Cython/fac/lib/fac.o\n",
      "\u001b[1m/Users/huangsizhe/WORKSPACE/Blog/Docs/Python/Python_performance_optimization/src/Cython/fac/lib/fac.c:2442:28: \u001b[0m\u001b[0;1;35mwarning: \u001b[0m\u001b[1m\n",
      "      unused function '__Pyx_PyObject_AsString' [-Wunused-function]\u001b[0m\n",
      "static CYTHON_INLINE char* __Pyx_PyObject_AsString(PyObject* o) {\n",
      "\u001b[0;1;32m                           ^\n",
      "\u001b[0m\u001b[1m/Users/huangsizhe/WORKSPACE/Blog/Docs/Python/Python_performance_optimization/src/Cython/fac/lib/fac.c:2439:32: \u001b[0m\u001b[0;1;35mwarning: \u001b[0m\u001b[1m\n",
      "      unused function '__Pyx_PyUnicode_FromString' [-Wunused-function]\u001b[0m\n",
      "static CYTHON_INLINE PyObject* __Pyx_PyUnicode_FromString(const char* c_str) {\n",
      "\u001b[0;1;32m                               ^\n",
      "\u001b[0m\u001b[1m/Users/huangsizhe/WORKSPACE/Blog/Docs/Python/Python_performance_optimization/src/Cython/fac/lib/fac.c:331:29: \u001b[0m\u001b[0;1;35mwarning: \u001b[0m\u001b[1m\n",
      "      unused function '__Pyx_Py_UNICODE_strlen' [-Wunused-function]\u001b[0m\n",
      "static CYTHON_INLINE size_t __Pyx_Py_UNICODE_strlen(const Py_UNICODE *u)\n",
      "\u001b[0;1;32m                            ^\n",
      "\u001b[0m\u001b[1m/Users/huangsizhe/WORKSPACE/Blog/Docs/Python/Python_performance_optimization/src/Cython/fac/lib/fac.c:2554:33: \u001b[0m\u001b[0;1;35mwarning: \u001b[0m\u001b[1m\n",
      "      unused function '__Pyx_PyIndex_AsSsize_t' [-Wunused-function]\u001b[0m\n",
      "static CYTHON_INLINE Py_ssize_t __Pyx_PyIndex_AsSsize_t(PyObject* b) {\n",
      "\u001b[0;1;32m                                ^\n",
      "\u001b[0m\u001b[1m/Users/huangsizhe/WORKSPACE/Blog/Docs/Python/Python_performance_optimization/src/Cython/fac/lib/fac.c:2616:33: \u001b[0m\u001b[0;1;35mwarning: \u001b[0m\u001b[1m\n",
      "      unused function '__Pyx_PyInt_FromSize_t' [-Wunused-function]\u001b[0m\n",
      "static CYTHON_INLINE PyObject * __Pyx_PyInt_FromSize_t(size_t ival) {\n",
      "\u001b[0;1;32m                                ^\n",
      "\u001b[0m\u001b[1m/Users/huangsizhe/WORKSPACE/Blog/Docs/Python/Python_performance_optimization/src/Cython/fac/lib/fac.c:1795:28: \u001b[0m\u001b[0;1;35mwarning: \u001b[0m\u001b[1m\n",
      "      unused function '__Pyx_CyFunction_InitDefaults' [-Wunused-function]\u001b[0m\n",
      "static CYTHON_INLINE void *__Pyx_CyFunction_InitDefaults(PyObject *func...\n",
      "\u001b[0;1;32m                           ^\n",
      "\u001b[0m\u001b[1m/Users/huangsizhe/WORKSPACE/Blog/Docs/Python/Python_performance_optimization/src/Cython/fac/lib/fac.c:1804:27: \u001b[0m\u001b[0;1;35mwarning: \u001b[0m\u001b[1m\n",
      "      unused function '__Pyx_CyFunction_SetDefaultsTuple' [-Wunused-function]\u001b[0m\n",
      "static CYTHON_INLINE void __Pyx_CyFunction_SetDefaultsTuple(PyObject *fu...\n",
      "\u001b[0;1;32m                          ^\n",
      "\u001b[0m\u001b[1m/Users/huangsizhe/WORKSPACE/Blog/Docs/Python/Python_performance_optimization/src/Cython/fac/lib/fac.c:1809:27: \u001b[0m\u001b[0;1;35mwarning: \u001b[0m\u001b[1m\n",
      "      unused function '__Pyx_CyFunction_SetDefaultsKwDict' [-Wunused-function]\u001b[0m\n",
      "static CYTHON_INLINE void __Pyx_CyFunction_SetDefaultsKwDict(PyObject *f...\n",
      "\u001b[0;1;32m                          ^\n",
      "\u001b[0m\u001b[1m/Users/huangsizhe/WORKSPACE/Blog/Docs/Python/Python_performance_optimization/src/Cython/fac/lib/fac.c:1814:27: \u001b[0m\u001b[0;1;35mwarning: \u001b[0m\u001b[1m\n",
      "      unused function '__Pyx_CyFunction_SetAnnotationsDict' [-Wunused-function]\u001b[0m\n",
      "static CYTHON_INLINE void __Pyx_CyFunction_SetAnnotationsDict(PyObject *...\n",
      "\u001b[0;1;32m                          ^\n",
      "\u001b[0m\u001b[1m/Users/huangsizhe/WORKSPACE/Blog/Docs/Python/Python_performance_optimization/src/Cython/fac/lib/fac.c:1979:32: \u001b[0m\u001b[0;1;35mwarning: \u001b[0m\u001b[1m\n",
      "      unused function '__Pyx_PyInt_From_long' [-Wunused-function]\u001b[0m\n",
      "static CYTHON_INLINE PyObject* __Pyx_PyInt_From_long(long value) {\n",
      "\u001b[0;1;32m                               ^\n",
      "\u001b[0m\u001b[1m/Users/huangsizhe/WORKSPACE/Blog/Docs/Python/Python_performance_optimization/src/Cython/fac/lib/fac.c:2026:27: \u001b[0m\u001b[0;1;35mwarning: \u001b[0m\u001b[1m\n",
      "      function '__Pyx_PyInt_As_long' is not needed and will not be emitted\n",
      "      [-Wunneeded-internal-declaration]\u001b[0m\n",
      "static CYTHON_INLINE long __Pyx_PyInt_As_long(PyObject *x) {\n",
      "\u001b[0;1;32m                          ^\n",
      "\u001b[0m\u001b[1m/Users/huangsizhe/WORKSPACE/Blog/Docs/Python/Python_performance_optimization/src/Cython/fac/lib/fac.c:2210:26: \u001b[0m\u001b[0;1;35mwarning: \u001b[0m\u001b[1m\n",
      "      function '__Pyx_PyInt_As_int' is not needed and will not be emitted\n",
      "      [-Wunneeded-internal-declaration]\u001b[0m\n",
      "static CYTHON_INLINE int __Pyx_PyInt_As_int(PyObject *x) {\n",
      "\u001b[0;1;32m                         ^\n",
      "\u001b[0m12 warnings generated.\n",
      "gcc -bundle -undefined dynamic_lookup -L/Users/huangsizhe/LIB/CONDA/anaconda/lib -arch x86_64 -arch x86_64 src/Cython/fac/lib/build/Users/huangsizhe/WORKSPACE/Blog/Docs/Python/Python_performance_optimization/src/Cython/fac/lib/fac.o -L/Users/huangsizhe/LIB/CONDA/anaconda/lib -o ./src/Cython/fac/fac.so\n"
     ]
    }
   ],
   "source": [
    "!python src/Cython/fac/lib/setup.py build_ext --build-lib=./src/Cython/fac --build-temp=src/Cython/fac/lib/build"
   ]
  },
  {
   "cell_type": "code",
   "execution_count": 30,
   "metadata": {
    "collapsed": false
   },
   "outputs": [
    {
     "name": "stdout",
     "output_type": "stream",
     "text": [
      "Overwriting src/Cython/fac/main_2.pyx\n"
     ]
    }
   ],
   "source": [
    "%%writefile src/Cython/fac/main_2.pyx\n",
    "# coding:utf-8\n",
    "\n",
    "from fac import fac\n",
    "import argparse\n",
    "\n",
    "__version__=\"0.1.0\"\n",
    "\n",
    "def version():\n",
    "    print(\"version:\"+__version__)\n",
    "\n",
    "\n",
    "def main():\n",
    "    parser = argparse.ArgumentParser()\n",
    "    parser.add_argument(\"number\", type=int,help=u\"求这个数的阶乘\")\n",
    "    parser.add_argument(\"-v\",\"--version\", help=u\"查看版本\",action=\"store_true\")\n",
    "\n",
    "    args = parser.parse_args()\n",
    "    if args.version:\n",
    "        version()\n",
    "    if args.number:\n",
    "        print fac(args.number)\n",
    "\n",
    "if __name__ == \"__main__\":\n",
    "    main()"
   ]
  },
  {
   "cell_type": "code",
   "execution_count": 31,
   "metadata": {
    "collapsed": false
   },
   "outputs": [
    {
     "name": "stdout",
     "output_type": "stream",
     "text": [
      "Overwriting src/Cython/fac/setup_2.py\n"
     ]
    }
   ],
   "source": [
    "%%writefile src/Cython/fac/setup_2.py\n",
    "#coding:utf-8\n",
    "\n",
    "from Cython.Build import cythonize\n",
    "from distutils.extension import Extension\n",
    "from Cython.Compiler import Options\n",
    "import os\n",
    "import sh\n",
    "\n",
    "\n",
    "Includes = \"/Users/huangsizhe/LIB/CONDA/anaconda/include/python2.7\"\n",
    "realPath = os.path.split(os.path.realpath(__file__))[0]\n",
    "appName = \"fac2\"\n",
    "mainName = \"main_2\"\n",
    "Options.embed = \"main\"\n",
    " \n",
    "extensions = [\n",
    "    Extension(mainName, [realPath+\"/main_2.pyx\"])\n",
    "]\n",
    "\n",
    "cythonize(extensions)\n",
    "sh.gcc(realPath+\"/\"+mainName+\".c\",I=Includes,l=\"python2.7\",o=realPath+\"/\"+appName)\n",
    "print realPath+\"/\"+appName+\" done\"\n",
    "sh.mv(realPath+\"/\"+appName,realPath+\"/bin/\"+appName)\n",
    "sh.mv(realPath+\"/\"+\"fac.so\",realPath+\"/bin/\"+\"fac.so\")"
   ]
  },
  {
   "cell_type": "code",
   "execution_count": 32,
   "metadata": {
    "collapsed": false,
    "scrolled": true
   },
   "outputs": [
    {
     "name": "stdout",
     "output_type": "stream",
     "text": [
      "Compiling /Users/huangsizhe/WORKSPACE/Blog/Docs/Python/Python_performance_optimization/src/Cython/fac/main_2.pyx because it changed.\n",
      "[1/1] Cythonizing /Users/huangsizhe/WORKSPACE/Blog/Docs/Python/Python_performance_optimization/src/Cython/fac/main_2.pyx\n",
      "/Users/huangsizhe/WORKSPACE/Blog/Docs/Python/Python_performance_optimization/src/Cython/fac/fac2 done\n"
     ]
    }
   ],
   "source": [
    "!python src/Cython/fac/setup_2.py"
   ]
  },
  {
   "cell_type": "code",
   "execution_count": 33,
   "metadata": {
    "collapsed": false
   },
   "outputs": [
    {
     "name": "stdout",
     "output_type": "stream",
     "text": [
      "3628800\r\n"
     ]
    }
   ],
   "source": [
    "!src/Cython/fac/bin/fac2 10"
   ]
  },
  {
   "cell_type": "markdown",
   "metadata": {},
   "source": [
    "用Cython做静态编译其实算是奇技淫巧,但它却是带来了好处\n",
    "\n",
    "优点:\n",
    "1. 模块中的代码提高了运行效率\n",
    "2. 隐藏了代码,代码将相对更加安全\n",
    "\n",
    "\n",
    "同时不足也是显而易见的\n",
    "不足:\n",
    "\n",
    "1. 需要修改代码,增加开发的复杂度\n",
    "2. 依然依赖libpython和包环境,并不是完全的静态\n",
    "3. 维护成本增加了\n"
   ]
  },
  {
   "cell_type": "markdown",
   "metadata": {},
   "source": [
    "## Cython的适用场景\n",
    "\n",
    "Cython的主要作用是提高代码运行效率,上面的小技巧只是一个比较旁门左道的用法,这边整理下适用场景,我们用ipython的魔术命令来看看效率的提升"
   ]
  },
  {
   "cell_type": "markdown",
   "metadata": {},
   "source": [
    "### 纯python代码环境下使用Cython提高代码效率\n",
    "\n",
    "即便不静态化,Cython也可以将纯python的效率提高很多,用法也很简单,直接编译就好\n"
   ]
  },
  {
   "cell_type": "code",
   "execution_count": 34,
   "metadata": {
    "collapsed": true
   },
   "outputs": [],
   "source": [
    "def fac(n):\n",
    "    if n<2 :\n",
    "        return 1\n",
    "    return n*fac(n-1)"
   ]
  },
  {
   "cell_type": "code",
   "execution_count": 35,
   "metadata": {
    "collapsed": false
   },
   "outputs": [
    {
     "name": "stdout",
     "output_type": "stream",
     "text": [
      "100000 loops, best of 3: 7.41 µs per loop\n"
     ]
    }
   ],
   "source": [
    "%timeit fac(20)"
   ]
  },
  {
   "cell_type": "code",
   "execution_count": 36,
   "metadata": {
    "collapsed": true
   },
   "outputs": [],
   "source": [
    "%load_ext Cython"
   ]
  },
  {
   "cell_type": "code",
   "execution_count": 37,
   "metadata": {
    "collapsed": true
   },
   "outputs": [],
   "source": [
    "%%cython\n",
    "\n",
    "def fac_cython(n):\n",
    "    if n<2 :\n",
    "        return 1\n",
    "    return n*fac_cython(n-1)"
   ]
  },
  {
   "cell_type": "code",
   "execution_count": 38,
   "metadata": {
    "collapsed": false
   },
   "outputs": [
    {
     "name": "stdout",
     "output_type": "stream",
     "text": [
      "1000000 loops, best of 3: 1.27 µs per loop\n"
     ]
    }
   ],
   "source": [
    "%timeit fac_cython(20)"
   ]
  },
  {
   "cell_type": "markdown",
   "metadata": {},
   "source": [
    "### 牺牲通用性静态化python代码\n",
    "\n",
    "我们可以通过给函数声明参数类型,通过将python类型替换为C中的类型来大幅提高代码效率"
   ]
  },
  {
   "cell_type": "code",
   "execution_count": 39,
   "metadata": {
    "collapsed": true
   },
   "outputs": [],
   "source": [
    "%%cython\n",
    "\n",
    "cpdef long fac_cython_st(long n):\n",
    "    if n<2 :\n",
    "        return 1\n",
    "    return n*fac_cython_st(n-1)"
   ]
  },
  {
   "cell_type": "code",
   "execution_count": 40,
   "metadata": {
    "collapsed": false
   },
   "outputs": [
    {
     "name": "stdout",
     "output_type": "stream",
     "text": [
      "The slowest run took 13.64 times longer than the fastest. This could mean that an intermediate result is being cached.\n",
      "1000000 loops, best of 3: 210 ns per loop\n"
     ]
    }
   ],
   "source": [
    "%timeit fac_cython_st(20)"
   ]
  },
  {
   "cell_type": "markdown",
   "metadata": {},
   "source": [
    "如果是已经写好的文件,我们不想修改原来的代码,那么我们可以使用Cython的\"头文件\",同名的`.pxd`来定义这个`.py`文件中定义了了的静态类型"
   ]
  },
  {
   "cell_type": "markdown",
   "metadata": {},
   "source": [
    "```Cython\n",
    "cpdef long fac_cython_st(long)\n",
    "```\n",
    "\n",
    "这样,编译起来效果就一样了"
   ]
  },
  {
   "cell_type": "markdown",
   "metadata": {},
   "source": [
    "### 调用现有的C库提高代码效率\n",
    "\n",
    "像numpyC,和C++语言中的标准库,Cython是直接可以使用cimport调用的,这种可以在<https://github.com/cython/cython/tree/master/Cython/Includes>中查看"
   ]
  },
  {
   "cell_type": "markdown",
   "metadata": {},
   "source": [
    "```python\n",
    "from clib.math cimport exp as clibexp\n",
    "cpdef int cexp(int a,int b):\n",
    "    return clibexp(a,b)\n",
    "```   "
   ]
  },
  {
   "cell_type": "markdown",
   "metadata": {},
   "source": [
    "在ipython中不能这么用,我们可以使用外部声明的方式来引用,只是要用的话要先声明下"
   ]
  },
  {
   "cell_type": "code",
   "execution_count": 41,
   "metadata": {
    "collapsed": false
   },
   "outputs": [
    {
     "name": "stdout",
     "output_type": "stream",
     "text": [
      "-0.544021110889\n"
     ]
    }
   ],
   "source": [
    "%%cython\n",
    "#coding:utf-8\n",
    "cdef extern from \"math.h\":\n",
    "      double sin(double x)\n",
    "print sin(10)"
   ]
  },
  {
   "cell_type": "markdown",
   "metadata": {},
   "source": [
    "### 与numpy结合实现高效的数组操作\n",
    "\n",
    "官方有个例子我们来看看,\n",
    "下面的代码做了一个图像与过滤器的二维离散卷积"
   ]
  },
  {
   "cell_type": "markdown",
   "metadata": {},
   "source": [
    "我们的原始版本"
   ]
  },
  {
   "cell_type": "code",
   "execution_count": 1,
   "metadata": {
    "collapsed": true
   },
   "outputs": [],
   "source": [
    "from __future__ import division\n",
    "import numpy as np\n",
    "def naive_convolve(f, g):\n",
    "    # f is an image and is indexed by (v, w)\n",
    "    # g is a filter kernel and is indexed by (s, t),\n",
    "    #   it needs odd dimensions\n",
    "    # h is the output image and is indexed by (x, y),\n",
    "    #   it is not cropped\n",
    "    if g.shape[0] % 2 != 1 or g.shape[1] % 2 != 1:\n",
    "        raise ValueError(\"Only odd dimensions on filter supported\")\n",
    "    # smid and tmid are number of pixels between the center pixel\n",
    "    # and the edge, ie for a 5x5 filter they will be 2.\n",
    "    #\n",
    "    # The output size is calculated by adding smid, tmid to each\n",
    "    # side of the dimensions of the input image.\n",
    "    vmax = f.shape[0]\n",
    "    wmax = f.shape[1]\n",
    "    smax = g.shape[0]\n",
    "    tmax = g.shape[1]\n",
    "    smid = smax // 2\n",
    "    tmid = tmax // 2\n",
    "    xmax = vmax + 2*smid\n",
    "    ymax = wmax + 2*tmid\n",
    "    # Allocate result image.\n",
    "    h = np.zeros([xmax, ymax], dtype=f.dtype)\n",
    "    # Do convolution\n",
    "    for x in range(xmax):\n",
    "        for y in range(ymax):\n",
    "            # Calculate pixel value for h at (x,y). Sum one component\n",
    "            # for each pixel (s, t) of the filter g.\n",
    "            s_from = max(smid - x, -smid)\n",
    "            s_to = min((xmax - x) - smid, smid + 1)\n",
    "            t_from = max(tmid - y, -tmid)\n",
    "            t_to = min((ymax - y) - tmid, tmid + 1)\n",
    "            value = 0\n",
    "            for s in range(s_from, s_to):\n",
    "                for t in range(t_from, t_to):\n",
    "                    v = x - smid + s\n",
    "                    w = y - tmid + t\n",
    "                    value += g[smid - s, tmid - t] * f[v, w]\n",
    "            h[x, y] = value\n",
    "    return h"
   ]
  },
  {
   "cell_type": "code",
   "execution_count": 2,
   "metadata": {
    "collapsed": false
   },
   "outputs": [],
   "source": [
    "N = 100\n",
    "f = np.arange(N*N, dtype=np.int).reshape((N,N))\n",
    "g = np.arange(81, dtype=np.int).reshape((9, 9))"
   ]
  },
  {
   "cell_type": "code",
   "execution_count": 44,
   "metadata": {
    "collapsed": false
   },
   "outputs": [
    {
     "data": {
      "text/plain": [
       "array([[      0,       0,       1, ...,    2056,    1477,     792],\n",
       "       [      0,     109,     329, ...,    8858,    6227,    3275],\n",
       "       [    900,    2127,    3684, ...,   23106,   16050,    8349],\n",
       "       ..., \n",
       "       [1850400, 3730389, 5639970, ..., 6230334, 4183464, 2106687],\n",
       "       [1329300, 2678435, 4047407, ..., 4445402, 2983649, 1501849],\n",
       "       [ 712800, 1435572, 2168317, ..., 2369524, 1589761,  799920]])"
      ]
     },
     "execution_count": 44,
     "metadata": {},
     "output_type": "execute_result"
    }
   ],
   "source": [
    "naive_convolve(f,g)"
   ]
  },
  {
   "cell_type": "code",
   "execution_count": 4,
   "metadata": {
    "collapsed": false
   },
   "outputs": [
    {
     "name": "stdout",
     "output_type": "stream",
     "text": [
      "10 loops, best of 3: 1.71 s per loop\n"
     ]
    }
   ],
   "source": [
    "%timeit -n10 naive_convolve(f,g)"
   ]
  },
  {
   "cell_type": "markdown",
   "metadata": {},
   "source": [
    "我们直接用Cython优化"
   ]
  },
  {
   "cell_type": "code",
   "execution_count": 5,
   "metadata": {
    "collapsed": false
   },
   "outputs": [
    {
     "name": "stderr",
     "output_type": "stream",
     "text": [
      "ERROR: Cell magic `%%cython` not found.\n"
     ]
    }
   ],
   "source": [
    "%%cython\n",
    "from __future__ import division\n",
    "import numpy as np\n",
    "def naive_convolve_1(f, g):\n",
    "    # f is an image and is indexed by (v, w)\n",
    "    # g is a filter kernel and is indexed by (s, t),\n",
    "    #   it needs odd dimensions\n",
    "    # h is the output image and is indexed by (x, y),\n",
    "    #   it is not cropped\n",
    "    if g.shape[0] % 2 != 1 or g.shape[1] % 2 != 1:\n",
    "        raise ValueError(\"Only odd dimensions on filter supported\")\n",
    "    # smid and tmid are number of pixels between the center pixel\n",
    "    # and the edge, ie for a 5x5 filter they will be 2.\n",
    "    #\n",
    "    # The output size is calculated by adding smid, tmid to each\n",
    "    # side of the dimensions of the input image.\n",
    "    vmax = f.shape[0]\n",
    "    wmax = f.shape[1]\n",
    "    smax = g.shape[0]\n",
    "    tmax = g.shape[1]\n",
    "    smid = smax // 2\n",
    "    tmid = tmax // 2\n",
    "    xmax = vmax + 2*smid\n",
    "    ymax = wmax + 2*tmid\n",
    "    # Allocate result image.\n",
    "    h = np.zeros([xmax, ymax], dtype=f.dtype)\n",
    "    # Do convolution\n",
    "    for x in range(xmax):\n",
    "        for y in range(ymax):\n",
    "            # Calculate pixel value for h at (x,y). Sum one component\n",
    "            # for each pixel (s, t) of the filter g.\n",
    "            s_from = max(smid - x, -smid)\n",
    "            s_to = min((xmax - x) - smid, smid + 1)\n",
    "            t_from = max(tmid - y, -tmid)\n",
    "            t_to = min((ymax - y) - tmid, tmid + 1)\n",
    "            value = 0\n",
    "            for s in range(s_from, s_to):\n",
    "                for t in range(t_from, t_to):\n",
    "                    v = x - smid + s\n",
    "                    w = y - tmid + t\n",
    "                    value += g[smid - s, tmid - t] * f[v, w]\n",
    "            h[x, y] = value\n",
    "    return h"
   ]
  },
  {
   "cell_type": "code",
   "execution_count": 47,
   "metadata": {
    "collapsed": false
   },
   "outputs": [
    {
     "data": {
      "text/plain": [
       "array([[      0,       0,       1, ...,    2056,    1477,     792],\n",
       "       [      0,     109,     329, ...,    8858,    6227,    3275],\n",
       "       [    900,    2127,    3684, ...,   23106,   16050,    8349],\n",
       "       ..., \n",
       "       [1850400, 3730389, 5639970, ..., 6230334, 4183464, 2106687],\n",
       "       [1329300, 2678435, 4047407, ..., 4445402, 2983649, 1501849],\n",
       "       [ 712800, 1435572, 2168317, ..., 2369524, 1589761,  799920]])"
      ]
     },
     "execution_count": 47,
     "metadata": {},
     "output_type": "execute_result"
    }
   ],
   "source": [
    "naive_convolve_1(f,g)"
   ]
  },
  {
   "cell_type": "code",
   "execution_count": 48,
   "metadata": {
    "collapsed": false,
    "scrolled": true
   },
   "outputs": [
    {
     "name": "stdout",
     "output_type": "stream",
     "text": [
      "1 loop, best of 3: 389 ms per loop\n"
     ]
    }
   ],
   "source": [
    "%timeit naive_convolve_1(f,g)"
   ]
  },
  {
   "cell_type": "markdown",
   "metadata": {},
   "source": [
    "为代码指定类型"
   ]
  },
  {
   "cell_type": "code",
   "execution_count": 49,
   "metadata": {
    "collapsed": false
   },
   "outputs": [],
   "source": [
    "%%cython\n",
    "#coding:utf-8\n",
    "from __future__ import division\n",
    "import numpy as np##必须为c类型和python类型的数据都申明一个np\n",
    "# \"cimport\" is used to import special compile-time information\n",
    "# about the numpy module (this is stored in a file numpy.pxd which is\n",
    "# currently part of the Cython distribution).\n",
    "cimport numpy as np\n",
    "# We now need to fix a datatype for our arrays. I've used the variable\n",
    "# DTYPE for this, which is assigned to the usual NumPy runtime\n",
    "# type info object.\n",
    "DTYPE = np.int\n",
    "# \"ctypedef\" assigns a corresponding compile-time type to DTYPE_t. For\n",
    "# every type in the numpy module there's a corresponding compile-time\n",
    "# type with a _t-suffix.\n",
    "ctypedef np.int_t DTYPE_t\n",
    "# \"def\" can type its arguments but not have a return type. The type of the\n",
    "# arguments for a \"def\" function is checked at run-time when entering the\n",
    "# function.\n",
    "#\n",
    "# The arrays f, g and h is typed as \"np.ndarray\" instances. The only effect\n",
    "# this has is to a) insert checks that the function arguments really are\n",
    "# NumPy arrays, and b) make some attribute access like f.shape[0] much\n",
    "# more efficient. (In this example this doesn't matter though.)\n",
    "def naive_convolve_2(np.ndarray f, np.ndarray g):\n",
    "    if g.shape[0] % 2 != 1 or g.shape[1] % 2 != 1:\n",
    "        raise ValueError(\"Only odd dimensions on filter supported\")\n",
    "    assert f.dtype == DTYPE and g.dtype == DTYPE\n",
    "    # The \"cdef\" keyword is also used within functions to type variables. It\n",
    "    # can only be used at the top indentation level (there are non-trivial\n",
    "    # problems with allowing them in other places, though we'd love to see\n",
    "    # good and thought out proposals for it).\n",
    "    #\n",
    "    # For the indices, the \"int\" type is used. This corresponds to a C int,\n",
    "    # other C types (like \"unsigned int\") could have been used instead.\n",
    "    # Purists could use \"Py_ssize_t\" which is the proper Python type for\n",
    "    # array indices.\n",
    "    cdef int vmax = f.shape[0]\n",
    "    cdef int wmax = f.shape[1]\n",
    "    cdef int smax = g.shape[0]\n",
    "    cdef int tmax = g.shape[1]\n",
    "    cdef int smid = smax // 2\n",
    "    cdef int tmid = tmax // 2\n",
    "    cdef int xmax = vmax + 2*smid\n",
    "    cdef int ymax = wmax + 2*tmid\n",
    "    cdef np.ndarray h = np.zeros([xmax, ymax], dtype=DTYPE)\n",
    "    cdef int x, y, s, t, v, w\n",
    "    # It is very important to type ALL your variables. You do not get any\n",
    "    # warnings if not, only much slower code (they are implicitly typed as\n",
    "    # Python objects).\n",
    "    cdef int s_from, s_to, t_from, t_to\n",
    "    # For the value variable, we want to use the same data type as is\n",
    "    # stored in the array, so we use \"DTYPE_t\" as defined above.\n",
    "    # NB! An important side-effect of this is that if \"value\" overflows its\n",
    "    # datatype size, it will simply wrap around like in C, rather than raise\n",
    "    # an error like in Python.\n",
    "    cdef DTYPE_t value\n",
    "    for x in range(xmax):\n",
    "        for y in range(ymax):\n",
    "            s_from = max(smid - x, -smid)\n",
    "            s_to = min((xmax - x) - smid, smid + 1)\n",
    "            t_from = max(tmid - y, -tmid)\n",
    "            t_to = min((ymax - y) - tmid, tmid + 1)\n",
    "            value = 0\n",
    "            for s in range(s_from, s_to):\n",
    "                for t in range(t_from, t_to):\n",
    "                    v = x - smid + s\n",
    "                    w = y - tmid + t\n",
    "                    value += g[smid - s, tmid - t] * f[v, w]\n",
    "            h[x, y] = value\n",
    "    return h"
   ]
  },
  {
   "cell_type": "code",
   "execution_count": 50,
   "metadata": {
    "collapsed": false
   },
   "outputs": [
    {
     "data": {
      "text/plain": [
       "array([[      0,       0,       1, ...,    2056,    1477,     792],\n",
       "       [      0,     109,     329, ...,    8858,    6227,    3275],\n",
       "       [    900,    2127,    3684, ...,   23106,   16050,    8349],\n",
       "       ..., \n",
       "       [1850400, 3730389, 5639970, ..., 6230334, 4183464, 2106687],\n",
       "       [1329300, 2678435, 4047407, ..., 4445402, 2983649, 1501849],\n",
       "       [ 712800, 1435572, 2168317, ..., 2369524, 1589761,  799920]])"
      ]
     },
     "execution_count": 50,
     "metadata": {},
     "output_type": "execute_result"
    }
   ],
   "source": [
    "naive_convolve_2(f,g)"
   ]
  },
  {
   "cell_type": "code",
   "execution_count": 51,
   "metadata": {
    "collapsed": false
   },
   "outputs": [
    {
     "name": "stdout",
     "output_type": "stream",
     "text": [
      "1 loop, best of 3: 368 ms per loop\n"
     ]
    }
   ],
   "source": [
    "%timeit naive_convolve_2(f,g)"
   ]
  },
  {
   "cell_type": "markdown",
   "metadata": {},
   "source": [
    "静态化后我们又快了20%"
   ]
  },
  {
   "cell_type": "markdown",
   "metadata": {},
   "source": [
    "提高np数组的效率,我们用一个特殊的“缓冲”语法来做到这一点，它必须告诉数据类型（第一个参数）和维数（“ndim”仅关键字参数，如果不提供，则假定一维"
   ]
  },
  {
   "cell_type": "code",
   "execution_count": 52,
   "metadata": {
    "collapsed": true
   },
   "outputs": [],
   "source": [
    "%%cython\n",
    "#coding:utf-8\n",
    "from __future__ import division\n",
    "import numpy as np##必须为c类型和python类型的数据都申明一个np\n",
    "# \"cimport\" is used to import special compile-time information\n",
    "# about the numpy module (this is stored in a file numpy.pxd which is\n",
    "# currently part of the Cython distribution).\n",
    "cimport numpy as np\n",
    "# We now need to fix a datatype for our arrays. I've used the variable\n",
    "# DTYPE for this, which is assigned to the usual NumPy runtime\n",
    "# type info object.\n",
    "DTYPE = np.int\n",
    "# \"ctypedef\" assigns a corresponding compile-time type to DTYPE_t. For\n",
    "# every type in the numpy module there's a corresponding compile-time\n",
    "# type with a _t-suffix.\n",
    "ctypedef np.int_t DTYPE_t\n",
    "# \"def\" can type its arguments but not have a return type. The type of the\n",
    "# arguments for a \"def\" function is checked at run-time when entering the\n",
    "# function.\n",
    "#\n",
    "# The arrays f, g and h is typed as \"np.ndarray\" instances. The only effect\n",
    "# this has is to a) insert checks that the function arguments really are\n",
    "# NumPy arrays, and b) make some attribute access like f.shape[0] much\n",
    "# more efficient. (In this example this doesn't matter though.)\n",
    "def naive_convolve_3(np.ndarray[DTYPE_t, ndim=2] f, np.ndarray[DTYPE_t, ndim=2] g):\n",
    "    if g.shape[0] % 2 != 1 or g.shape[1] % 2 != 1:\n",
    "        raise ValueError(\"Only odd dimensions on filter supported\")\n",
    "    assert f.dtype == DTYPE and g.dtype == DTYPE\n",
    "    # The \"cdef\" keyword is also used within functions to type variables. It\n",
    "    # can only be used at the top indentation level (there are non-trivial\n",
    "    # problems with allowing them in other places, though we'd love to see\n",
    "    # good and thought out proposals for it).\n",
    "    #\n",
    "    # For the indices, the \"int\" type is used. This corresponds to a C int,\n",
    "    # other C types (like \"unsigned int\") could have been used instead.\n",
    "    # Purists could use \"Py_ssize_t\" which is the proper Python type for\n",
    "    # array indices.\n",
    "    cdef int vmax = f.shape[0]\n",
    "    cdef int wmax = f.shape[1]\n",
    "    cdef int smax = g.shape[0]\n",
    "    cdef int tmax = g.shape[1]\n",
    "    cdef int smid = smax // 2\n",
    "    cdef int tmid = tmax // 2\n",
    "    cdef int xmax = vmax + 2*smid\n",
    "    cdef int ymax = wmax + 2*tmid\n",
    "    cdef np.ndarray[DTYPE_t, ndim=2] h = np.zeros([xmax, ymax], dtype=DTYPE)\n",
    "    cdef int x, y, s, t, v, w\n",
    "    # It is very important to type ALL your variables. You do not get any\n",
    "    # warnings if not, only much slower code (they are implicitly typed as\n",
    "    # Python objects).\n",
    "    cdef int s_from, s_to, t_from, t_to\n",
    "    # For the value variable, we want to use the same data type as is\n",
    "    # stored in the array, so we use \"DTYPE_t\" as defined above.\n",
    "    # NB! An important side-effect of this is that if \"value\" overflows its\n",
    "    # datatype size, it will simply wrap around like in C, rather than raise\n",
    "    # an error like in Python.\n",
    "    cdef DTYPE_t value\n",
    "    for x in range(xmax):\n",
    "        for y in range(ymax):\n",
    "            s_from = max(smid - x, -smid)\n",
    "            s_to = min((xmax - x) - smid, smid + 1)\n",
    "            t_from = max(tmid - y, -tmid)\n",
    "            t_to = min((ymax - y) - tmid, tmid + 1)\n",
    "            value = 0\n",
    "            for s in range(s_from, s_to):\n",
    "                for t in range(t_from, t_to):\n",
    "                    v = x - smid + s\n",
    "                    w = y - tmid + t\n",
    "                    value += g[smid - s, tmid - t] * f[v, w]\n",
    "            h[x, y] = value\n",
    "    return h"
   ]
  },
  {
   "cell_type": "code",
   "execution_count": 53,
   "metadata": {
    "collapsed": false
   },
   "outputs": [
    {
     "data": {
      "text/plain": [
       "array([[      0,       0,       1, ...,    2056,    1477,     792],\n",
       "       [      0,     109,     329, ...,    8858,    6227,    3275],\n",
       "       [    900,    2127,    3684, ...,   23106,   16050,    8349],\n",
       "       ..., \n",
       "       [1850400, 3730389, 5639970, ..., 6230334, 4183464, 2106687],\n",
       "       [1329300, 2678435, 4047407, ..., 4445402, 2983649, 1501849],\n",
       "       [ 712800, 1435572, 2168317, ..., 2369524, 1589761,  799920]])"
      ]
     },
     "execution_count": 53,
     "metadata": {},
     "output_type": "execute_result"
    }
   ],
   "source": [
    "naive_convolve_3(f,g)"
   ]
  },
  {
   "cell_type": "code",
   "execution_count": 54,
   "metadata": {
    "collapsed": false,
    "scrolled": true
   },
   "outputs": [
    {
     "name": "stdout",
     "output_type": "stream",
     "text": [
      "100 loops, best of 3: 2.25 ms per loop\n"
     ]
    }
   ],
   "source": [
    "%timeit naive_convolve_3(f,g)"
   ]
  },
  {
   "cell_type": "markdown",
   "metadata": {},
   "source": [
    "在通过调整cython设置进一步的提高数组效率"
   ]
  },
  {
   "cell_type": "code",
   "execution_count": 55,
   "metadata": {
    "collapsed": true
   },
   "outputs": [],
   "source": [
    "%%cython\n",
    "#coding:utf-8\n",
    "from __future__ import division\n",
    "import numpy as np##必须为c类型和python类型的数据都申明一个np\n",
    "# \"cimport\" is used to import special compile-time information\n",
    "# about the numpy module (this is stored in a file numpy.pxd which is\n",
    "# currently part of the Cython distribution).\n",
    "cimport numpy as np\n",
    "# We now need to fix a datatype for our arrays. I've used the variable\n",
    "# DTYPE for this, which is assigned to the usual NumPy runtime\n",
    "# type info object.\n",
    "DTYPE = np.int\n",
    "# \"ctypedef\" assigns a corresponding compile-time type to DTYPE_t. For\n",
    "# every type in the numpy module there's a corresponding compile-time\n",
    "# type with a _t-suffix.\n",
    "ctypedef np.int_t DTYPE_t\n",
    "# \"def\" can type its arguments but not have a return type. The type of the\n",
    "# arguments for a \"def\" function is checked at run-time when entering the\n",
    "# function.\n",
    "#\n",
    "# The arrays f, g and h is typed as \"np.ndarray\" instances. The only effect\n",
    "# this has is to a) insert checks that the function arguments really are\n",
    "# NumPy arrays, and b) make some attribute access like f.shape[0] much\n",
    "# more efficient. (In this example this doesn't matter though.)\n",
    "cimport cython\n",
    "@cython.boundscheck(False) # turn off bounds-checking for entire function\n",
    "@cython.wraparound(False)  # turn off negative index wrapping for entire function\n",
    "def naive_convolve_4(np.ndarray[DTYPE_t, ndim=2] f, np.ndarray[DTYPE_t, ndim=2] g):\n",
    "    if g.shape[0] % 2 != 1 or g.shape[1] % 2 != 1:\n",
    "        raise ValueError(\"Only odd dimensions on filter supported\")\n",
    "    assert f.dtype == DTYPE and g.dtype == DTYPE\n",
    "    # The \"cdef\" keyword is also used within functions to type variables. It\n",
    "    # can only be used at the top indentation level (there are non-trivial\n",
    "    # problems with allowing them in other places, though we'd love to see\n",
    "    # good and thought out proposals for it).\n",
    "    #\n",
    "    # For the indices, the \"int\" type is used. This corresponds to a C int,\n",
    "    # other C types (like \"unsigned int\") could have been used instead.\n",
    "    # Purists could use \"Py_ssize_t\" which is the proper Python type for\n",
    "    # array indices.\n",
    "    cdef int vmax = f.shape[0]\n",
    "    cdef int wmax = f.shape[1]\n",
    "    cdef int smax = g.shape[0]\n",
    "    cdef int tmax = g.shape[1]\n",
    "    cdef int smid = smax // 2\n",
    "    cdef int tmid = tmax // 2\n",
    "    cdef int xmax = vmax + 2*smid\n",
    "    cdef int ymax = wmax + 2*tmid\n",
    "    cdef np.ndarray[DTYPE_t, ndim=2] h = np.zeros([xmax, ymax], dtype=DTYPE)\n",
    "    cdef int x, y, s, t, v, w\n",
    "    # It is very important to type ALL your variables. You do not get any\n",
    "    # warnings if not, only much slower code (they are implicitly typed as\n",
    "    # Python objects).\n",
    "    cdef int s_from, s_to, t_from, t_to\n",
    "    # For the value variable, we want to use the same data type as is\n",
    "    # stored in the array, so we use \"DTYPE_t\" as defined above.\n",
    "    # NB! An important side-effect of this is that if \"value\" overflows its\n",
    "    # datatype size, it will simply wrap around like in C, rather than raise\n",
    "    # an error like in Python.\n",
    "    cdef DTYPE_t value\n",
    "    for x in range(xmax):\n",
    "        for y in range(ymax):\n",
    "            s_from = max(smid - x, -smid)\n",
    "            s_to = min((xmax - x) - smid, smid + 1)\n",
    "            t_from = max(tmid - y, -tmid)\n",
    "            t_to = min((ymax - y) - tmid, tmid + 1)\n",
    "            value = 0\n",
    "            for s in range(s_from, s_to):\n",
    "                for t in range(t_from, t_to):\n",
    "                    v = x - smid + s\n",
    "                    w = y - tmid + t\n",
    "                    value += g[smid - s, tmid - t] * f[v, w]\n",
    "            h[x, y] = value\n",
    "    return h"
   ]
  },
  {
   "cell_type": "code",
   "execution_count": 56,
   "metadata": {
    "collapsed": false
   },
   "outputs": [
    {
     "data": {
      "text/plain": [
       "array([[      0,       0,       1, ...,    2056,    1477,     792],\n",
       "       [      0,     109,     329, ...,    8858,    6227,    3275],\n",
       "       [    900,    2127,    3684, ...,   23106,   16050,    8349],\n",
       "       ..., \n",
       "       [1850400, 3730389, 5639970, ..., 6230334, 4183464, 2106687],\n",
       "       [1329300, 2678435, 4047407, ..., 4445402, 2983649, 1501849],\n",
       "       [ 712800, 1435572, 2168317, ..., 2369524, 1589761,  799920]])"
      ]
     },
     "execution_count": 56,
     "metadata": {},
     "output_type": "execute_result"
    }
   ],
   "source": [
    "naive_convolve_4(f,g)"
   ]
  },
  {
   "cell_type": "code",
   "execution_count": 57,
   "metadata": {
    "collapsed": false,
    "scrolled": true
   },
   "outputs": [
    {
     "name": "stdout",
     "output_type": "stream",
     "text": [
      "1000 loops, best of 3: 1.52 ms per loop\n"
     ]
    }
   ],
   "source": [
    "%timeit naive_convolve_4(f,g)"
   ]
  },
  {
   "cell_type": "markdown",
   "metadata": {},
   "source": [
    "从最原始的版本到最终的版本我们的的代码效率对比1.54s/1.84ms,几乎是1000倍的效率提高"
   ]
  },
  {
   "cell_type": "markdown",
   "metadata": {},
   "source": [
    "### 利用openmp突破gil限制\n",
    "\n",
    "Cython支持利用使用openmp突破gil限制,不过你得先有gil.我是mac,osx的clang默认不能使用openmp因此需要额外安装,有两个方案\n",
    "+ 一个是使用真正的gcc,用`brew install homebrew/versions/gcc48 --without-multilib`安装即可\n",
    "+ 支持openmp的clang,mac osx默认的是clang,linux 默认的是gcc,有强迫症的就这么装吧\n",
    "```\n",
    "brew install homebrew/boneyard/clang-omp \n",
    "brew install homebrew/boneyard/libiomp \n",
    "ln -s /usr/local/lib/libiomp<版本>.dylib /usr/local/lib/libgomp.dylib \n",
    "```\n",
    "\n",
    "然后是在你的home目录下编辑一个`.pydistutils.cfg`文件\n",
    "\n",
    "```shell\n",
    "[build]\n",
    "compiler = gcc-6\n",
    "```\n",
    "\n",
    "接着直接看例子,\n",
    "\n",
    "我们的notebook无法直接使用除默认编译器以外的编译器编译,所以只能写下来调用"
   ]
  },
  {
   "cell_type": "code",
   "execution_count": 59,
   "metadata": {
    "collapsed": false
   },
   "outputs": [
    {
     "name": "stdout",
     "output_type": "stream",
     "text": [
      "Overwriting src/Cython/omp/omp.pyx\n"
     ]
    }
   ],
   "source": [
    "%%writefile src/Cython/omp/omp.pyx\n",
    "from cython.parallel import prange\n",
    "import numpy as np\n",
    "cimport numpy as np\n",
    "\n",
    "from math import exp \n",
    "from libc.math cimport exp as c_exp\n",
    "\n",
    "def array_f(X):\n",
    "    \n",
    "    Y = np.zeros(X.shape)\n",
    "    index = X > 0.5\n",
    "    Y[index] = np.exp(X[index])\n",
    "\n",
    "    return Y\n",
    "\n",
    "def c_array_f(double[:] X):\n",
    "\n",
    "    cdef int N = X.shape[0]\n",
    "    cdef double[:] Y = np.zeros(N)\n",
    "    cdef int i\n",
    "\n",
    "    for i in range(N):\n",
    "        if X[i] > 0.5:\n",
    "            Y[i] = c_exp(X[i])\n",
    "        else:\n",
    "            Y[i] = 0\n",
    "\n",
    "    return Y\n",
    "\n",
    "def c_array_f_multi(double[:] X):\n",
    "\n",
    "    cdef int N = X.shape[0]\n",
    "    cdef double[:] Y = np.zeros(N)\n",
    "    cdef int i\n",
    "\n",
    "    for i in prange(N, nogil=True):\n",
    "        if X[i] > 0.5:\n",
    "            Y[i] = c_exp(X[i])\n",
    "        else:\n",
    "            Y[i] = 0\n",
    "\n",
    "    return Y\n"
   ]
  },
  {
   "cell_type": "code",
   "execution_count": 60,
   "metadata": {
    "collapsed": false
   },
   "outputs": [
    {
     "name": "stdout",
     "output_type": "stream",
     "text": [
      "Overwriting src/Cython/omp/setup.py\n"
     ]
    }
   ],
   "source": [
    "%%writefile src/Cython/omp/setup.py\n",
    "#coding:utf-8\n",
    "\n",
    "from distutils.core import setup\n",
    "from Cython.Build import cythonize\n",
    "from distutils.extension import Extension\n",
    "from Cython.Compiler import Options\n",
    "import numpy\n",
    "import os\n",
    "import sh\n",
    "#只能在setup.py中设定编译器\n",
    "os.environ[\"CC\"] = \"gcc-6\"\n",
    "os.environ[\"CXX\"] = \"gcc-6\"\n",
    "\n",
    "Includes = \"/Users/huangsizhe/LIB/CONDA/anaconda/include/python2.7\"\n",
    "realPath = os.path.split(os.path.realpath(__file__))[0]\n",
    "libName = \"omp\"\n",
    " \n",
    "extensions = [\n",
    "    Extension(libName, \n",
    "              [realPath+\"/\"+libName+\".pyx\"],\n",
    "              include_dirs=[numpy.get_include()],\n",
    "              extra_compile_args = [\"-O3\", \"-ffast-math\", \"-march=native\", \"-fopenmp\" ],\n",
    "              extra_link_args=['-fopenmp'])\n",
    "]\n",
    "\n",
    "setup(\n",
    "  name = libName,\n",
    "  ext_modules=cythonize(extensions)\n",
    ")"
   ]
  },
  {
   "cell_type": "code",
   "execution_count": 61,
   "metadata": {
    "collapsed": false,
    "scrolled": true
   },
   "outputs": [
    {
     "name": "stdout",
     "output_type": "stream",
     "text": [
      "Compiling /Users/huangsizhe/WORKSPACE/Blog/Docs/Python/Python_performance_optimization/src/Cython/omp/omp.pyx because it changed.\n",
      "[1/1] Cythonizing /Users/huangsizhe/WORKSPACE/Blog/Docs/Python/Python_performance_optimization/src/Cython/omp/omp.pyx\n",
      "warning: src/Cython/omp/omp.pyx:37:12: Use boundscheck(False) for faster access\n",
      "warning: src/Cython/omp/omp.pyx:38:13: Use boundscheck(False) for faster access\n",
      "warning: src/Cython/omp/omp.pyx:38:26: Use boundscheck(False) for faster access\n",
      "warning: src/Cython/omp/omp.pyx:40:13: Use boundscheck(False) for faster access\n",
      "running build_ext\n",
      "building 'omp' extension\n",
      "gcc-6 -fno-strict-aliasing -I/Users/huangsizhe/LIB/CONDA/anaconda/include -arch x86_64 -DNDEBUG -g -fwrapv -O3 -Wall -Wstrict-prototypes -I/Users/huangsizhe/Lib/CONDA/anaconda/lib/python2.7/site-packages/numpy/core/include -I/Users/huangsizhe/Lib/CONDA/anaconda/include/python2.7 -c /Users/huangsizhe/WORKSPACE/Blog/Docs/Python/Python_performance_optimization/src/Cython/omp/omp.c -o src/Cython/omp/build/Users/huangsizhe/WORKSPACE/Blog/Docs/Python/Python_performance_optimization/src/Cython/omp/omp.o -O3 -ffast-math -march=native -fopenmp\n",
      "In file included from \u001b[01m\u001b[K/Users/huangsizhe/Lib/CONDA/anaconda/lib/python2.7/site-packages/numpy/core/include/numpy/ndarraytypes.h:1777:0\u001b[m\u001b[K,\n",
      "                 from \u001b[01m\u001b[K/Users/huangsizhe/Lib/CONDA/anaconda/lib/python2.7/site-packages/numpy/core/include/numpy/ndarrayobject.h:18\u001b[m\u001b[K,\n",
      "                 from \u001b[01m\u001b[K/Users/huangsizhe/Lib/CONDA/anaconda/lib/python2.7/site-packages/numpy/core/include/numpy/arrayobject.h:4\u001b[m\u001b[K,\n",
      "                 from \u001b[01m\u001b[K/Users/huangsizhe/WORKSPACE/Blog/Docs/Python/Python_performance_optimization/src/Cython/omp/omp.c:265\u001b[m\u001b[K:\n",
      "\u001b[01m\u001b[K/Users/huangsizhe/Lib/CONDA/anaconda/lib/python2.7/site-packages/numpy/core/include/numpy/npy_1_7_deprecated_api.h:15:2:\u001b[m\u001b[K \u001b[01;35m\u001b[Kwarning: \u001b[m\u001b[K#warning \"Using deprecated NumPy API, disable it by \" \"#defining NPY_NO_DEPRECATED_API NPY_1_7_API_VERSION\" [\u001b[01;35m\u001b[K-Wcpp\u001b[m\u001b[K]\n",
      " #\u001b[01;35m\u001b[Kwarning\u001b[m\u001b[K \"Using deprecated NumPy API, disable it by \" \\\n",
      "  \u001b[01;35m\u001b[K^~~~~~~\u001b[m\u001b[K\n",
      "In file included from \u001b[01m\u001b[K/Users/huangsizhe/Lib/CONDA/anaconda/lib/python2.7/site-packages/numpy/core/include/numpy/ndarrayobject.h:27:0\u001b[m\u001b[K,\n",
      "                 from \u001b[01m\u001b[K/Users/huangsizhe/Lib/CONDA/anaconda/lib/python2.7/site-packages/numpy/core/include/numpy/arrayobject.h:4\u001b[m\u001b[K,\n",
      "                 from \u001b[01m\u001b[K/Users/huangsizhe/WORKSPACE/Blog/Docs/Python/Python_performance_optimization/src/Cython/omp/omp.c:265\u001b[m\u001b[K:\n",
      "\u001b[01m\u001b[K/Users/huangsizhe/Lib/CONDA/anaconda/lib/python2.7/site-packages/numpy/core/include/numpy/__multiarray_api.h:1448:1:\u001b[m\u001b[K \u001b[01;35m\u001b[Kwarning: \u001b[m\u001b[K'\u001b[01m\u001b[K_import_array\u001b[m\u001b[K' defined but not used [\u001b[01;35m\u001b[K-Wunused-function\u001b[m\u001b[K]\n",
      " \u001b[01;35m\u001b[K_import_array\u001b[m\u001b[K(void)\n",
      " \u001b[01;35m\u001b[K^~~~~~~~~~~~~\u001b[m\u001b[K\n",
      "gcc-6 -bundle -undefined dynamic_lookup -L/Users/huangsizhe/LIB/CONDA/anaconda/lib -arch x86_64 -arch x86_64 src/Cython/omp/build/Users/huangsizhe/WORKSPACE/Blog/Docs/Python/Python_performance_optimization/src/Cython/omp/omp.o -L/Users/huangsizhe/LIB/CONDA/anaconda/lib -o ./omp.so -fopenmp\n"
     ]
    }
   ],
   "source": [
    "!python src/Cython/omp/setup.py build_ext --build-lib=./ --build-temp=src/Cython/omp/build"
   ]
  },
  {
   "cell_type": "code",
   "execution_count": 62,
   "metadata": {
    "collapsed": true
   },
   "outputs": [],
   "source": [
    "from omp import c_array_f_multi,c_array_f"
   ]
  },
  {
   "cell_type": "code",
   "execution_count": 63,
   "metadata": {
    "collapsed": false
   },
   "outputs": [],
   "source": [
    "X = -1 + 2*np.random.rand(10000000) "
   ]
  },
  {
   "cell_type": "code",
   "execution_count": 64,
   "metadata": {
    "collapsed": false
   },
   "outputs": [
    {
     "name": "stdout",
     "output_type": "stream",
     "text": [
      "1 loop, best of 3: 135 ms per loop\n"
     ]
    }
   ],
   "source": [
    "%timeit c_array_f_multi(X)"
   ]
  },
  {
   "cell_type": "code",
   "execution_count": 65,
   "metadata": {
    "collapsed": false
   },
   "outputs": [
    {
     "name": "stdout",
     "output_type": "stream",
     "text": [
      "10 loops, best of 3: 94.7 ms per loop\n"
     ]
    }
   ],
   "source": [
    "%timeit c_array_f(X)"
   ]
  },
  {
   "cell_type": "markdown",
   "metadata": {},
   "source": [
    "## Cython的语法\n",
    "Cython的具体语法可以看[官方的说明](http://docs.cython.org/en/latest/src/userguide/language_basics.html#language-basics)\n",
    "\n",
    "有大神[翻译了一份中文版](http://lesliezhu.github.io/public/2014/10/25/cython-guide.html#sec-1),虽然目前还没有翻译完,但也可以作为参考.\n",
    "\n",
    "\n",
    "在上面的例子中我们可以看到定义一个C变量只要使用\n",
    "\n",
    "`cdef <type> <varname>`即可,而且,cdef允许定义结构体等C中的自定义类型"
   ]
  }
 ],
 "metadata": {
  "kernelspec": {
   "display_name": "Python 2",
   "language": "python",
   "name": "python2"
  },
  "language_info": {
   "codemirror_mode": {
    "name": "ipython",
    "version": 2
   },
   "file_extension": ".py",
   "mimetype": "text/x-python",
   "name": "python",
   "nbconvert_exporter": "python",
   "pygments_lexer": "ipython2",
   "version": "2.7.13"
  }
 },
 "nbformat": 4,
 "nbformat_minor": 0
}
