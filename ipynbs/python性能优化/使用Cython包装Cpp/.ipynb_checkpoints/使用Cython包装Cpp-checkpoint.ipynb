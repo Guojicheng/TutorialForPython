{
 "cells": [
  {
   "cell_type": "markdown",
   "metadata": {},
   "source": [
    "# Cython的包装模式\n",
    "\n",
    "Cython最大的作用是最为桥梁语言为python包装C/C++代码.Cython现在原生的支持大多数的C++语法。尤其是：\n",
    "现在可以使用`new`和`del`关键字动态分配C++对象.\n",
    "\n",
    "+ C++对象可以进行堆栈分配\n",
    "+ C++类可以使用新的关键字`cppclass`声明。\n",
    "+ 支持模板化类和函数。\n",
    "+ 支持重载函数。\n",
    "+ 支持C++操作符(例如operator +,operator [],...)的重载。\n",
    "\n",
    "## 封装步骤\n",
    "\n",
    "封装C++的步骤大致有如下几步:\n",
    "\n",
    "1. 在setup.py脚本中或在源文件中本地指定C ++语言。\n",
    "2. 使用`cdef extern from C++头文件`创建一个或多个`.pxd`文件.在pxd文件中，以`cdef cppclass`来声明类并且声明公共名称(变量,方法和构造函数）\n",
    "3. 通过`cimport`引入`pxd`文件，进行`pxd`的实现代码，也就是`.pyx`文件。\n"
   ]
  }
 ],
 "metadata": {
  "kernelspec": {
   "display_name": "Python 3",
   "language": "python",
   "name": "python3"
  },
  "language_info": {
   "codemirror_mode": {
    "name": "ipython",
    "version": 3
   },
   "file_extension": ".py",
   "mimetype": "text/x-python",
   "name": "python",
   "nbconvert_exporter": "python",
   "pygments_lexer": "ipython3",
   "version": "3.6.0"
  }
 },
 "nbformat": 4,
 "nbformat_minor": 2
}
