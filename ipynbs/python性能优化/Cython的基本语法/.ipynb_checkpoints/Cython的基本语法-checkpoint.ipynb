{
 "cells": [
  {
   "cell_type": "markdown",
   "metadata": {
    "collapsed": true
   },
   "source": [
    "# Cython语法\n",
    "\n",
    "Cython是python的超集,所以python解释器无法解释cython代码,必须编译才可以.\n"
   ]
  },
  {
   "cell_type": "code",
   "execution_count": 2,
   "metadata": {
    "collapsed": true
   },
   "outputs": [],
   "source": [
    "%load_ext Cython"
   ]
  },
  {
   "cell_type": "markdown",
   "metadata": {},
   "source": [
    "## 静态化python参数\n",
    "\n",
    "Cython是一个Python编译器。这意味着它可以编译普通的Python代码，而不会有任何改变（除了一些尚未支持的语言功能之外，还有一些明显的例外）.然而，对于性能关键代码，添加静态类型声明通常是有帮助的，因为它们将允许Cython退出Python代码的动态特性，并生成更简单更快的C代码.但是，必须注意的是，类型声明会使源代码更加冗长，因而可读性更低.因此，不要在没有正当理由的情况下使用它们，例如基准测试证明他们在性能关键部分真正使代码更快速地使用它们是不鼓励的.通常在正确的地方有几种类型可以走很长的路.所有C类型都可用于类型声明:整数和浮点类型，复数，结构体，联合和指针类型. Cython可以在分配类型之间自动正确地进行转换.这也包括Python的任意大小的整数类型，其中转换为C类型的值溢出会在运行时引发Python `OverflowError`.(但是，在进行算术时，不会检查是否溢出).在这种情况下，生成的C代码将正确安全地处理C类型的依赖于平台的大小.\n",
    "\n",
    "### 在python函数中使用c语言的类型指明翻译为C语言后的参数类型\n",
    "\n",
    "由于这些参数被传递到Python声明的函数中，它们会转换为指定的C类型值.但这只适用于数字和字符串类型"
   ]
  },
  {
   "cell_type": "code",
   "execution_count": 3,
   "metadata": {
    "collapsed": true
   },
   "outputs": [],
   "source": [
    "%%cython\n",
    "\n",
    "def f(double x):\n",
    "    return x**2-x\n",
    "\n",
    "def integrate_f(double a, double b, int N):\n",
    "    cdef int i\n",
    "    cdef double s, dx\n",
    "    s = 0\n",
    "    dx = (b-a)/N\n",
    "    for i in range(N):\n",
    "        s += f(a+i*dx)\n",
    "    return s * dx"
   ]
  },
  {
   "cell_type": "code",
   "execution_count": 4,
   "metadata": {
    "collapsed": false
   },
   "outputs": [
    {
     "data": {
      "text/plain": [
       "0.24"
      ]
     },
     "execution_count": 4,
     "metadata": {},
     "output_type": "execute_result"
    }
   ],
   "source": [
    "f(1.2)"
   ]
  },
  {
   "cell_type": "markdown",
   "metadata": {},
   "source": [
    "## C级别申明\n",
    "\n",
    "作为一种动态语言，Python鼓励了一种根据方法和属性考虑类和对象的编程风格，而不仅仅局限于类层次结构中.这可以使Python成为一种非常轻松和舒适的语言，用于快速开发，但有一个代价 -- 管理数据类型的\"繁文缛节\"被转储到翻译器上.在运行时，解释器在搜索命名空间，获取属性和解析参数和关键字元组方面做了大量工作。与\"早期绑定\"语言（如C++）相比，这种运行时\"后期绑定\"是Python相对较慢的主要原因.然而使用Cython可以通过使用\"早期绑定\"编程技术获得显着的加速.\n",
    "\n",
    "### `cdef`语句用于创建C级声明\n",
    "\n",
    "+ 申明变量\n",
    "\n",
    "```cython\n",
    "cdef int i, j, k\n",
    "cdef float f, g[42], *h\n",
    "```\n",
    "\n",
    "+ 申明结构体\n",
    "\n",
    "```cython\n",
    "cdef struct Grail:\n",
    "    int age\n",
    "    float volume\n",
    "```\n",
    "\n",
    "+ 申明联合体\n",
    "\n",
    "```cython\n",
    "cdef union Food:\n",
    "    char *spam\n",
    "    float *eggs\n",
    "```\n",
    "\n",
    "+ 申明枚举\n",
    "\n",
    "```cython\n",
    "cdef enum CheeseType:\n",
    "    cheddar, edam,\n",
    "    camembert\n",
    "```\n",
    "\n",
    "+ 申明函数\n",
    "\n",
    "```cython\n",
    "cdef int eggs(unsigned long l, float f):\n",
    "```\n",
    "\n",
    "`cdef`关键字指定早期绑定,默认是私有的,只有在申明时指定public才会暴露"
   ]
  },
  {
   "cell_type": "markdown",
   "metadata": {},
   "source": [
    "## 类型转换\n",
    "\n",
    "在cython中使用`<xxx>yyy`操作符来进行类型转换,其使用方式与C中类似.\n",
    "\n",
    "```cython\n",
    "cdef char *p, float *q\n",
    "p = <char*>q\n",
    "\n",
    "```\n",
    "\n",
    "### 类型检测\n",
    "\n",
    "和C中类似,类型转换时使用`<xxx?>yyy`会先进行检测"
   ]
  },
  {
   "cell_type": "markdown",
   "metadata": {},
   "source": [
    "## 函数,方法申明\n",
    "\n",
    "Cython中有三种类型的函数声明.\n",
    "\n",
    "### Python的可调用对象(def)\n",
    "\n",
    "这种类型的函数特点:\n",
    "\n",
    "+ 使用`def`申明\n",
    "+ 可以被Python解释器调用\n",
    "+ 可以被Python对象调用\n",
    "+ 返回Python对象\n",
    "+ 参数可以静态化\n",
    "\n",
    "###  C的可调用对象 (cdef)\n",
    "\n",
    "这种类型的函数特点:\n",
    "\n",
    "+ 用`cdef`语句声明\n",
    "+ 无法在python解释器中访问\n",
    "+ 可以被Python对象或C值调用\n",
    "+ 内部变量必须申明\n",
    "+ 可以返回Python对象或C值\n",
    "\n",
    "### Python和C的可调用(cpdef)\n",
    "\n",
    "这种类型的函数特点:\n",
    "\n",
    "+ 用cpdef语句声明.\n",
    "+ 可以从任何地方调用\n",
    "+ 当从其他Cython代码调用时,使用更快的C调用约定\n"
   ]
  },
  {
   "cell_type": "markdown",
   "metadata": {},
   "source": [
    "## 类申明(扩展类型)\n",
    "\n",
    "cython扩展类型可以使用`cdef class`来定义.\n",
    "\n",
    "### 元素\n",
    "\n",
    "其中的元素可以使用`cdef`来定义,默认是私有的,但可以使用`public`或者`readonly`关键字指定其封装形式."
   ]
  },
  {
   "cell_type": "code",
   "execution_count": 49,
   "metadata": {
    "collapsed": false
   },
   "outputs": [],
   "source": [
    "%%cython\n",
    "cdef class Rectangle:\n",
    "    cdef public int x0\n",
    "    cdef readonly int y0\n",
    "    cdef int x1, y1\n",
    "    def __init__(self, int x0, int y0, int x1, int y1):\n",
    "        self.x0 = x0; self.y0 = y0; self.x1 = x1; self.y1 = y1\n",
    "        \n",
    "    cdef int _area(self):\n",
    "        cdef int area\n",
    "        area = (self.x1 - self.x0) * (self.y1 - self.y0)\n",
    "        if area < 0:\n",
    "            area = -area\n",
    "        return area\n",
    "\n",
    "    def area(self):\n",
    "        return self._area()\n",
    "       \n",
    "def rectArea(x0, y0, x1, y1):\n",
    "    rect = Rectangle(x0, y0, x1, y1)\n",
    "    return rect.area()"
   ]
  },
  {
   "cell_type": "code",
   "execution_count": 50,
   "metadata": {
    "collapsed": true
   },
   "outputs": [],
   "source": [
    "r = Rectangle(1, 2, 3, 1)"
   ]
  },
  {
   "cell_type": "code",
   "execution_count": 51,
   "metadata": {
    "collapsed": false
   },
   "outputs": [
    {
     "data": {
      "text/plain": [
       "1"
      ]
     },
     "execution_count": 51,
     "metadata": {},
     "output_type": "execute_result"
    }
   ],
   "source": [
    "r.x0"
   ]
  },
  {
   "cell_type": "code",
   "execution_count": 52,
   "metadata": {
    "collapsed": false
   },
   "outputs": [
    {
     "data": {
      "text/plain": [
       "2"
      ]
     },
     "execution_count": 52,
     "metadata": {},
     "output_type": "execute_result"
    }
   ],
   "source": [
    "r.y0"
   ]
  },
  {
   "cell_type": "code",
   "execution_count": 53,
   "metadata": {
    "collapsed": false
   },
   "outputs": [
    {
     "ename": "AttributeError",
     "evalue": "'_cython_magic_31443cea76eb5b8780ecd933e92cc406.Rec' object has no attribute 'x1'",
     "output_type": "error",
     "traceback": [
      "\u001b[0;31m---------------------------------------------------------------------------\u001b[0m",
      "\u001b[0;31mAttributeError\u001b[0m                            Traceback (most recent call last)",
      "\u001b[0;32m<ipython-input-53-1a1a3632ad5d>\u001b[0m in \u001b[0;36m<module>\u001b[0;34m()\u001b[0m\n\u001b[0;32m----> 1\u001b[0;31m \u001b[0mr\u001b[0m\u001b[1;33m.\u001b[0m\u001b[0mx1\u001b[0m\u001b[1;33m\u001b[0m\u001b[0m\n\u001b[0m",
      "\u001b[0;31mAttributeError\u001b[0m: '_cython_magic_31443cea76eb5b8780ecd933e92cc406.Rec' object has no attribute 'x1'"
     ]
    }
   ],
   "source": [
    "r.x1"
   ]
  },
  {
   "cell_type": "code",
   "execution_count": 54,
   "metadata": {
    "collapsed": false
   },
   "outputs": [
    {
     "data": {
      "text/plain": [
       "2"
      ]
     },
     "execution_count": 54,
     "metadata": {},
     "output_type": "execute_result"
    }
   ],
   "source": [
    "r.x0=2\n",
    "r.x0"
   ]
  },
  {
   "cell_type": "code",
   "execution_count": 55,
   "metadata": {
    "collapsed": false
   },
   "outputs": [
    {
     "ename": "AttributeError",
     "evalue": "attribute 'y0' of '_cython_magic_31443cea76eb5b8780ecd933e92cc406.Rectangle' objects is not writable",
     "output_type": "error",
     "traceback": [
      "\u001b[0;31m---------------------------------------------------------------------------\u001b[0m",
      "\u001b[0;31mAttributeError\u001b[0m                            Traceback (most recent call last)",
      "\u001b[0;32m<ipython-input-55-ba0ed4f3a4a8>\u001b[0m in \u001b[0;36m<module>\u001b[0;34m()\u001b[0m\n\u001b[0;32m----> 1\u001b[0;31m \u001b[0mr\u001b[0m\u001b[1;33m.\u001b[0m\u001b[0my0\u001b[0m \u001b[1;33m=\u001b[0m \u001b[1;36m4\u001b[0m\u001b[1;33m\u001b[0m\u001b[0m\n\u001b[0m",
      "\u001b[0;31mAttributeError\u001b[0m: attribute 'y0' of '_cython_magic_31443cea76eb5b8780ecd933e92cc406.Rectangle' objects is not writable"
     ]
    }
   ],
   "source": [
    "r.y0 = 4"
   ]
  },
  {
   "cell_type": "code",
   "execution_count": 56,
   "metadata": {
    "collapsed": false
   },
   "outputs": [
    {
     "data": {
      "text/plain": [
       "1"
      ]
     },
     "execution_count": 56,
     "metadata": {},
     "output_type": "execute_result"
    }
   ],
   "source": [
    "r.area()"
   ]
  },
  {
   "cell_type": "code",
   "execution_count": 57,
   "metadata": {
    "collapsed": false
   },
   "outputs": [
    {
     "ename": "AttributeError",
     "evalue": "'_cython_magic_31443cea76eb5b8780ecd933e92cc406.Rec' object has no attribute '_area'",
     "output_type": "error",
     "traceback": [
      "\u001b[0;31m---------------------------------------------------------------------------\u001b[0m",
      "\u001b[0;31mAttributeError\u001b[0m                            Traceback (most recent call last)",
      "\u001b[0;32m<ipython-input-57-91116c074669>\u001b[0m in \u001b[0;36m<module>\u001b[0;34m()\u001b[0m\n\u001b[0;32m----> 1\u001b[0;31m \u001b[0mr\u001b[0m\u001b[1;33m.\u001b[0m\u001b[0m_area\u001b[0m\u001b[1;33m(\u001b[0m\u001b[1;33m)\u001b[0m\u001b[1;33m\u001b[0m\u001b[0m\n\u001b[0m",
      "\u001b[0;31mAttributeError\u001b[0m: '_cython_magic_31443cea76eb5b8780ecd933e92cc406.Rec' object has no attribute '_area'"
     ]
    }
   ],
   "source": [
    "r._area()"
   ]
  },
  {
   "cell_type": "markdown",
   "metadata": {},
   "source": [
    "### 特性\n",
    "\n",
    "cython特性使用如下特殊定义方式,其效果和python中的特性装饰器一致.\n",
    "\n",
    "```cython\n",
    "cdef class Spam:\n",
    "\n",
    "    property cheese:\n",
    "\n",
    "        \"A doc string can go here.\"\n",
    "\n",
    "        def __get__(self):\n",
    "            # This is called when the property is read.\n",
    "            ...\n",
    "\n",
    "        def __set__(self, value):\n",
    "            # This is called when the property is written.\n",
    "            ...\n",
    "\n",
    "        def __del__(self):\n",
    "            # This is called when the property is deleted.\n",
    "```\n",
    "\n",
    "`__get__()`，`__set__()`和`__del__()`方法都是可选的.如果省略，属性访问会引发异常.\n"
   ]
  },
  {
   "cell_type": "code",
   "execution_count": 38,
   "metadata": {
    "collapsed": false
   },
   "outputs": [],
   "source": [
    "%%cython\n",
    "cdef class CheeseShop:\n",
    "\n",
    "    cdef object cheeses\n",
    "\n",
    "    def __cinit__(self):\n",
    "        self.cheeses = []\n",
    "\n",
    "    property cheese:   # note that this syntax is deprecated\n",
    "\n",
    "        def __get__(self):\n",
    "            return \"We don't have: %s\" % self.cheeses\n",
    "\n",
    "        def __set__(self, value):\n",
    "            self.cheeses.append(value)\n",
    "\n",
    "        def __del__(self):\n",
    "            del self.cheeses[:]"
   ]
  },
  {
   "cell_type": "code",
   "execution_count": 39,
   "metadata": {
    "collapsed": false
   },
   "outputs": [
    {
     "name": "stdout",
     "output_type": "stream",
     "text": [
      "We don't have: []\n",
      "We don't have: ['camembert']\n",
      "We don't have: ['camembert', 'cheddar']\n",
      "We don't have: []\n"
     ]
    }
   ],
   "source": [
    "shop = CheeseShop()\n",
    "print(shop.cheese)\n",
    "\n",
    "shop.cheese = \"camembert\"\n",
    "print(shop.cheese)\n",
    "\n",
    "shop.cheese = \"cheddar\"\n",
    "print(shop.cheese)\n",
    "\n",
    "del shop.cheese\n",
    "print(shop.cheese)"
   ]
  },
  {
   "cell_type": "markdown",
   "metadata": {},
   "source": [
    "### 方法\n",
    "\n",
    "`Rectangle`中`_area`是C级别的函数,不可被访问,所以需要使用`area`方法来封装.不过通常是使用`cpdef`直接实现的"
   ]
  },
  {
   "cell_type": "code",
   "execution_count": 58,
   "metadata": {
    "collapsed": true
   },
   "outputs": [],
   "source": [
    "%%cython\n",
    "cdef class Rectangle:\n",
    "    cdef int x0, y0\n",
    "    cdef int x1, y1\n",
    "    def __init__(self, int x0, int y0, int x1, int y1):\n",
    "        self.x0 = x0; self.y0 = y0; self.x1 = x1; self.y1 = y1\n",
    "        \n",
    "    cpdef int area(self):\n",
    "        cdef int area\n",
    "        area = (self.x1 - self.x0) * (self.y1 - self.y0)\n",
    "        if area < 0:\n",
    "            area = -area\n",
    "        return area\n",
    "\n",
    "def rectArea(x0, y0, x1, y1):\n",
    "    cdef Rectangle rect\n",
    "    rect = Rectangle(x0, y0, x1, y1)\n",
    "    return rect.area()"
   ]
  },
  {
   "cell_type": "code",
   "execution_count": 59,
   "metadata": {
    "collapsed": true
   },
   "outputs": [],
   "source": [
    "r = Rectangle(1, 2, 3, 1)"
   ]
  },
  {
   "cell_type": "markdown",
   "metadata": {},
   "source": [
    "### 方法重载\n",
    "\n",
    "在扩展类型中同一申明方式的可以相互重载,而不同申明方式的则有一套优先级:\n",
    "+ `cpdef`可以重载`cdef`,而反过来就不行\n",
    "+ `def`可以重载`cpdef`,而反过来就不行"
   ]
  },
  {
   "cell_type": "code",
   "execution_count": 71,
   "metadata": {
    "collapsed": false
   },
   "outputs": [],
   "source": [
    "%%cython\n",
    "cdef class A:\n",
    "    cdef foo(self):\n",
    "        print(\"A\")\n",
    "cdef class AA(A):\n",
    "    cdef foo(self):\n",
    "        print(\"AA\")\n",
    "    cpdef bar(self):\n",
    "        self.foo()\n",
    "        \n",
    "        "
   ]
  },
  {
   "cell_type": "code",
   "execution_count": 72,
   "metadata": {
    "collapsed": false
   },
   "outputs": [
    {
     "name": "stdout",
     "output_type": "stream",
     "text": [
      "AA\n"
     ]
    }
   ],
   "source": [
    "AA().bar()"
   ]
  },
  {
   "cell_type": "code",
   "execution_count": 65,
   "metadata": {
    "collapsed": false
   },
   "outputs": [],
   "source": [
    "%%cython\n",
    "cdef class A:\n",
    "    cdef foo(self):\n",
    "        print(\"A\")\n",
    "\n",
    "cdef class B(A):\n",
    "    cpdef foo(self, x=None):\n",
    "        print(\"B\", x)\n",
    "\n",
    "class C(B):\n",
    "    def foo(self, x=True, int k=3):\n",
    "        print(\"C\", x, k)"
   ]
  },
  {
   "cell_type": "code",
   "execution_count": 68,
   "metadata": {
    "collapsed": false
   },
   "outputs": [
    {
     "name": "stdout",
     "output_type": "stream",
     "text": [
      "B None\n"
     ]
    }
   ],
   "source": [
    "B(12).foo()"
   ]
  },
  {
   "cell_type": "code",
   "execution_count": 69,
   "metadata": {
    "collapsed": false
   },
   "outputs": [
    {
     "name": "stdout",
     "output_type": "stream",
     "text": [
      "C True 3\n"
     ]
    }
   ],
   "source": [
    "C().foo()"
   ]
  },
  {
   "cell_type": "markdown",
   "metadata": {},
   "source": [
    "### 特殊方法\n",
    "\n",
    "cython也支持特殊方法,它支持的特殊方法可在[这里看到](http://docs.cython.org/en/latest/src/reference/special_methods_table.html#special-methods-table)\n",
    "\n",
    "这些特殊方法必须使用`def`定义,"
   ]
  },
  {
   "cell_type": "markdown",
   "metadata": {},
   "source": [
    "## 模块导入"
   ]
  }
 ],
 "metadata": {
  "kernelspec": {
   "display_name": "Python 3",
   "language": "python",
   "name": "python3"
  },
  "language_info": {
   "codemirror_mode": {
    "name": "ipython",
    "version": 3
   },
   "file_extension": ".py",
   "mimetype": "text/x-python",
   "name": "python",
   "nbconvert_exporter": "python",
   "pygments_lexer": "ipython3",
   "version": "3.6.0"
  }
 },
 "nbformat": 4,
 "nbformat_minor": 2
}
