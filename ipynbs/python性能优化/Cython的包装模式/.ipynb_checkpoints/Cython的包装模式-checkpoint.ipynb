{
 "cells": [
  {
   "cell_type": "markdown",
   "metadata": {},
   "source": [
    "# 用Cython包装C++代码\n",
    "\n",
    "Cython最大的作用其实是作为C++代码和python代码的桥梁,比如我们已经有一个C++写的程序了,但我们希望让python可以调用它,传统的做法是使用ctypes或者cffi作为桥,但这种方式需要有相当的C/C++知识.Cython的话基本可以无痛进行C++代码的包装,我们通过包装一个例子来看看cython是如何包装c++代码的,\n",
    "\n",
    "## 最简单的一个例子\n",
    "\n",
    "这个例子用来介绍Cython包装C/C++代码的步骤.例子是一个长方形类,C++代码部分如下:"
   ]
  },
  {
   "cell_type": "code",
   "execution_count": 15,
   "metadata": {
    "collapsed": false
   },
   "outputs": [
    {
     "name": "stdout",
     "output_type": "stream",
     "text": [
      "Overwriting Rectangle.h\n"
     ]
    }
   ],
   "source": [
    "%%writefile Rectangle.h\n",
    "\n",
    "namespace shapes {\n",
    "    class Rectangle {\n",
    "    public:\n",
    "        int x0, y0, x1, y1;\n",
    "        Rectangle();\n",
    "        Rectangle(int x0, int y0, int x1, int y1);\n",
    "        ~Rectangle();\n",
    "        int getArea();\n",
    "        void getSize(int* width, int* height);\n",
    "        void move(int dx, int dy);\n",
    "    };\n",
    "}"
   ]
  },
  {
   "cell_type": "code",
   "execution_count": 16,
   "metadata": {
    "collapsed": false,
    "scrolled": true
   },
   "outputs": [
    {
     "name": "stdout",
     "output_type": "stream",
     "text": [
      "Overwriting Rectangle.cpp\n"
     ]
    }
   ],
   "source": [
    "%%writefile Rectangle.cpp\n",
    "#include \"Rectangle.h\"\n",
    "\n",
    "namespace shapes {\n",
    "\n",
    "  Rectangle::Rectangle() { }\n",
    "\n",
    "    Rectangle::Rectangle(int X0, int Y0, int X1, int Y1) {\n",
    "        x0 = X0;\n",
    "        y0 = Y0;\n",
    "        x1 = X1;\n",
    "        y1 = Y1;\n",
    "    }\n",
    "\n",
    "    Rectangle::~Rectangle() { }\n",
    "\n",
    "    int Rectangle::getArea() {\n",
    "        return (x1 - x0) * (y1 - y0);\n",
    "    }\n",
    "\n",
    "    void Rectangle::getSize(int *width, int *height) {\n",
    "        (*width) = x1 - x0;\n",
    "        (*height) = y1 - y0;\n",
    "    }\n",
    "\n",
    "    void Rectangle::move(int dx, int dy) {\n",
    "        x0 += dx;\n",
    "        y0 += dy;\n",
    "        x1 += dx;\n",
    "        y1 += dy;\n",
    "    }\n",
    "\n",
    "}"
   ]
  },
  {
   "cell_type": "markdown",
   "metadata": {},
   "source": [
    "## 用于包装的pyx文件\n",
    "\n",
    "要包装C++文件,我们得先在cython中声明出这个C++的类,在cython中申明C或者C++的内容(接口)需要使用`cdef extern from ....`这种语法(外部声明).\n",
    "\n",
    "在"
   ]
  },
  {
   "cell_type": "code",
   "execution_count": 23,
   "metadata": {
    "collapsed": false
   },
   "outputs": [
    {
     "name": "stdout",
     "output_type": "stream",
     "text": [
      "Overwriting rect.pyd\n"
     ]
    }
   ],
   "source": [
    "%%writefile rect.pyd\n",
    "#cython: language_level=3\n",
    "# distutils: language = c++\n",
    "# distutils: sources = Rectangle.cpp\n",
    "\n"
   ]
  },
  {
   "cell_type": "code",
   "execution_count": 25,
   "metadata": {
    "collapsed": false
   },
   "outputs": [
    {
     "name": "stdout",
     "output_type": "stream",
     "text": [
      "Overwriting rect.pyx\n"
     ]
    }
   ],
   "source": [
    "%%writefile rect.pyx\n",
    "#cython: language_level=3\n",
    "# distutils: language = c++\n",
    "# distutils: sources = Rectangle.cpp\n",
    "\n",
    "cdef extern from \"Rectangle.h\" namespace \"shapes\":\n",
    "    cdef cppclass Rectangle:\n",
    "        Rectangle() except +\n",
    "        Rectangle(int, int, int, int) except +\n",
    "        int x0, y0, x1, y1\n",
    "        int getArea()\n",
    "        void getSize(int* width, int* height)\n",
    "        void move(int, int)\n",
    "\n",
    "cdef class PyRectangle:\n",
    "    cdef Rectangle c_rect      # hold a C++ instance which we're wrapping\n",
    "    def __cinit__(self, int x0, int y0, int x1, int y1):\n",
    "        self.c_rect = Rectangle(x0, y0, x1, y1)\n",
    "    def get_area(self):\n",
    "        return self.c_rect.getArea()\n",
    "    def get_size(self):\n",
    "        cdef int width, height\n",
    "        self.c_rect.getSize(&width, &height)\n",
    "        return width, height\n",
    "    def move(self, dx, dy):\n",
    "        self.c_rect.move(dx, dy)"
   ]
  },
  {
   "cell_type": "markdown",
   "metadata": {},
   "source": [
    "这样，我们就完成了C++的封装。而且从Python的开发角度来看，这个扩展类型看起来和感觉就像一个本地定义的Rectangle类。\n",
    "需要注意的是，如果我们需要额外的属性设置方法，可以自己再添加."
   ]
  },
  {
   "cell_type": "markdown",
   "metadata": {},
   "source": [
    "## setup.py的写法\n",
    "\n",
    "我们的setup.py和之前差不多的写法"
   ]
  },
  {
   "cell_type": "code",
   "execution_count": 26,
   "metadata": {
    "collapsed": false
   },
   "outputs": [
    {
     "name": "stdout",
     "output_type": "stream",
     "text": [
      "Overwriting setup.py\n"
     ]
    }
   ],
   "source": [
    "%%writefile setup.py\n",
    "\n",
    "from distutils.core import setup\n",
    "from Cython.Build import cythonize\n",
    " \n",
    "setup(\n",
    "    name = \"rectangleapp\",\n",
    "    ext_modules = cythonize('*.pyx')\n",
    ")"
   ]
  },
  {
   "cell_type": "code",
   "execution_count": 27,
   "metadata": {
    "collapsed": false,
    "scrolled": true
   },
   "outputs": [
    {
     "name": "stdout",
     "output_type": "stream",
     "text": [
      "Compiling rect.pyx because it changed.\n",
      "[1/1] Cythonizing rect.pyx\n",
      "running build_ext\n"
     ]
    },
    {
     "name": "stderr",
     "output_type": "stream",
     "text": [
      "Traceback (most recent call last):\n",
      "  File \"setup.py\", line 7, in <module>\n",
      "    ext_modules = cythonize('*.pyx')\n",
      "  File \"C:\\Users\\Administrator\\Anaconda3\\lib\\distutils\\core.py\", line 148, in setup\n",
      "    dist.run_commands()\n",
      "  File \"C:\\Users\\Administrator\\Anaconda3\\lib\\distutils\\dist.py\", line 955, in run_commands\n",
      "    self.run_command(cmd)\n",
      "  File \"C:\\Users\\Administrator\\Anaconda3\\lib\\distutils\\dist.py\", line 974, in run_command\n",
      "    cmd_obj.run()\n",
      "  File \"C:\\Users\\Administrator\\Anaconda3\\lib\\distutils\\command\\build_ext.py\", line 308, in run\n",
      "    force=self.force)\n",
      "  File \"C:\\Users\\Administrator\\Anaconda3\\lib\\distutils\\ccompiler.py\", line 1031, in new_compiler\n",
      "    return klass(None, dry_run, force)\n",
      "  File \"C:\\Users\\Administrator\\Anaconda3\\lib\\distutils\\cygwinccompiler.py\", line 282, in __init__\n",
      "    CygwinCCompiler.__init__ (self, verbose, dry_run, force)\n",
      "  File \"C:\\Users\\Administrator\\Anaconda3\\lib\\distutils\\cygwinccompiler.py\", line 157, in __init__\n",
      "    self.dll_libraries = get_msvcr()\n",
      "  File \"C:\\Users\\Administrator\\Anaconda3\\lib\\distutils\\cygwinccompiler.py\", line 86, in get_msvcr\n",
      "    raise ValueError(\"Unknown MS Compiler version %s \" % msc_ver)\n",
      "ValueError: Unknown MS Compiler version 1900 \n"
     ]
    }
   ],
   "source": [
    "!python setup.py build_ext --inplace"
   ]
  },
  {
   "cell_type": "code",
   "execution_count": null,
   "metadata": {
    "collapsed": true
   },
   "outputs": [],
   "source": []
  }
 ],
 "metadata": {
  "kernelspec": {
   "display_name": "Python 3",
   "language": "python",
   "name": "python3"
  },
  "language_info": {
   "codemirror_mode": {
    "name": "ipython",
    "version": 3
   },
   "file_extension": ".py",
   "mimetype": "text/x-python",
   "name": "python",
   "nbconvert_exporter": "python",
   "pygments_lexer": "ipython3",
   "version": "3.6.0"
  }
 },
 "nbformat": 4,
 "nbformat_minor": 2
}
