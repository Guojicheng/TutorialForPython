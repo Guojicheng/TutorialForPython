{
 "cells": [
  {
   "cell_type": "markdown",
   "metadata": {},
   "source": [
    "# 用Cython包装C++代码\n",
    "\n",
    "Cython最大的作用其实是作为C++代码和python代码的桥梁,比如我们已经有一个C++写的程序了,但我们希望让python可以调用它,传统的做法是使用ctypes或者cffi作为桥,但这种方式需要有相当的C/C++知识.Cython的话基本可以无痛进行C++代码的包装,我们通过包装一个例子来看看cython是如何包装c++代码的\n",
    "\n",
    "\n",
    "Cython现在原生的支持大多数的C++语法.\n",
    "尤其是:\n",
    "现在可以使用`new`和`del`关键字动态分配C++对象.\n",
    "\n",
    "+ C++对象可以进行堆栈分配\n",
    "+ C++类可以使用新的关键字`cppclass`声明。\n",
    "+ 支持模板化类和函数。\n",
    "+ 支持重载函数。\n",
    "+ 支持C++操作符(例如operator +,operator [],...)的重载。\n",
    "\n",
    "## 封装步骤\n",
    "\n",
    "封装C++的步骤大致有如下几步:\n",
    "\n",
    "1. 在setup.py脚本中或在源文件中本地指定C ++语言。\n",
    "2. 使用`cdef extern from C++头文件`创建一个或多个`.pxd`文件.在pxd文件中，以`cdef cppclass`来声明类并且声明公共名称(变量,方法和构造函数）\n",
    "3. 通过`cimport`引入`pxd`文件，进行`pxd`的实现代码，也就是`.pyx`文件。\n",
    "\n",
    "\n",
    "## 最简单的一个例子\n",
    "\n",
    "这个例子用来介绍Cython包装C/C++代码的步骤.例子是一个长方形类,C++代码部分如下:"
   ]
  },
  {
   "cell_type": "code",
   "execution_count": 1,
   "metadata": {},
   "outputs": [
    {
     "name": "stdout",
     "output_type": "stream",
     "text": [
      "Overwriting Rectangle.h\n"
     ]
    }
   ],
   "source": [
    "%%writefile Rectangle.h\n",
    "\n",
    "namespace shapes {\n",
    "    class Rectangle {\n",
    "    public:\n",
    "        int x0, y0, x1, y1;\n",
    "        Rectangle();\n",
    "        Rectangle(int x0, int y0, int x1, int y1);\n",
    "        ~Rectangle();\n",
    "        int getArea();\n",
    "        void getSize(int* width, int* height);\n",
    "        void move(int dx, int dy);\n",
    "    };\n",
    "}"
   ]
  },
  {
   "cell_type": "code",
   "execution_count": 2,
   "metadata": {
    "scrolled": true
   },
   "outputs": [
    {
     "name": "stdout",
     "output_type": "stream",
     "text": [
      "Overwriting Rectangle.cpp\n"
     ]
    }
   ],
   "source": [
    "%%writefile Rectangle.cpp\n",
    "#include \"Rectangle.h\"\n",
    "\n",
    "namespace shapes {\n",
    "\n",
    "  Rectangle::Rectangle() { }\n",
    "\n",
    "    Rectangle::Rectangle(int X0, int Y0, int X1, int Y1) {\n",
    "        x0 = X0;\n",
    "        y0 = Y0;\n",
    "        x1 = X1;\n",
    "        y1 = Y1;\n",
    "    }\n",
    "\n",
    "    Rectangle::~Rectangle() { }\n",
    "\n",
    "    int Rectangle::getArea() {\n",
    "        return (x1 - x0) * (y1 - y0);\n",
    "    }\n",
    "\n",
    "    void Rectangle::getSize(int *width, int *height) {\n",
    "        (*width) = x1 - x0;\n",
    "        (*height) = y1 - y0;\n",
    "    }\n",
    "\n",
    "    void Rectangle::move(int dx, int dy) {\n",
    "        x0 += dx;\n",
    "        y0 += dy;\n",
    "        x1 += dx;\n",
    "        y1 += dy;\n",
    "    }\n",
    "\n",
    "}"
   ]
  },
  {
   "cell_type": "markdown",
   "metadata": {},
   "source": [
    "## 用于包装的pyx文件\n",
    "\n",
    "要包装C++文件,我们得先在cython中声明出这个C++的类,在cython中申明C或者C++的内容(接口)需要使用`cdef extern from ....`这种语法(外部声明).\n",
    "\n",
    "在"
   ]
  },
  {
   "cell_type": "code",
   "execution_count": 7,
   "metadata": {},
   "outputs": [
    {
     "name": "stdout",
     "output_type": "stream",
     "text": [
      "Overwriting rect.pyx\n"
     ]
    }
   ],
   "source": [
    "%%writefile rect.pyx\n",
    "#cython: language_level=3\n",
    "# distutils: language = c++\n",
    "# distutils: sources = Rectangle.cpp\n",
    "\n",
    "\n",
    "cdef extern from \"Rectangle.h\" namespace \"shapes\":\n",
    "    cdef cppclass Rectangle:\n",
    "        Rectangle() except +\n",
    "        Rectangle(int, int, int, int) except +\n",
    "        int x0, y0, x1, y1\n",
    "        int getArea()\n",
    "        void getSize(int* width, int* height)\n",
    "        void move(int, int)\n",
    "cdef class PyRectangle:\n",
    "    cdef Rectangle c_rect      # hold a C++ instance which we're wrapping\n",
    "    def __cinit__(self, int x0, int y0, int x1, int y1):\n",
    "        self.c_rect = Rectangle(x0, y0, x1, y1)\n",
    "    def get_area(self):\n",
    "        return self.c_rect.getArea()\n",
    "    def get_size(self):\n",
    "        cdef int width, height\n",
    "        self.c_rect.getSize(&width, &height)\n",
    "        return width, height\n",
    "    def move(self, dx, dy):\n",
    "        self.c_rect.move(dx, dy)"
   ]
  },
  {
   "cell_type": "markdown",
   "metadata": {},
   "source": [
    "这样，我们就完成了C++的封装。而且从Python的开发角度来看，这个扩展类型看起来和感觉就像一个本地定义的Rectangle类。\n",
    "需要注意的是，如果我们需要额外的属性设置方法，可以自己再添加."
   ]
  },
  {
   "cell_type": "markdown",
   "metadata": {},
   "source": [
    "## setup.py的写法\n",
    "\n",
    "我们的setup.py和之前差不多的写法"
   ]
  },
  {
   "cell_type": "code",
   "execution_count": 8,
   "metadata": {},
   "outputs": [
    {
     "name": "stdout",
     "output_type": "stream",
     "text": [
      "Overwriting setup.py\n"
     ]
    }
   ],
   "source": [
    "%%writefile setup.py\n",
    "\n",
    "from distutils.core import setup\n",
    "from Cython.Build import cythonize\n",
    " \n",
    "setup(\n",
    "    name = \"rectangleapp\",\n",
    "    ext_modules = cythonize('*.pyx')\n",
    ")"
   ]
  },
  {
   "cell_type": "code",
   "execution_count": 9,
   "metadata": {
    "scrolled": true
   },
   "outputs": [
    {
     "name": "stdout",
     "output_type": "stream",
     "text": [
      "Compiling rect.pyx because it changed.\n",
      "[1/1] Cythonizing rect.pyx\n",
      "running build_ext\n",
      "building 'rect' extension\n",
      "creating build\n",
      "creating build/temp.macosx-10.7-x86_64-3.6\n",
      "gcc -Wno-unused-result -Wsign-compare -Wunreachable-code -DNDEBUG -g -fwrapv -O3 -Wall -Wstrict-prototypes -I/Users/huangsizhe/LIB/CONDA/anaconda/include -arch x86_64 -I/Users/huangsizhe/LIB/CONDA/anaconda/include -arch x86_64 -I/Users/huangsizhe/LIB/CONDA/anaconda/include/python3.6m -c rect.cpp -o build/temp.macosx-10.7-x86_64-3.6/rect.o\n",
      "gcc -Wno-unused-result -Wsign-compare -Wunreachable-code -DNDEBUG -g -fwrapv -O3 -Wall -Wstrict-prototypes -I/Users/huangsizhe/LIB/CONDA/anaconda/include -arch x86_64 -I/Users/huangsizhe/LIB/CONDA/anaconda/include -arch x86_64 -I/Users/huangsizhe/LIB/CONDA/anaconda/include/python3.6m -c Rectangle.cpp -o build/temp.macosx-10.7-x86_64-3.6/Rectangle.o\n",
      "g++ -bundle -undefined dynamic_lookup -L/Users/huangsizhe/LIB/CONDA/anaconda/lib -L/Users/huangsizhe/LIB/CONDA/anaconda/lib -arch x86_64 build/temp.macosx-10.7-x86_64-3.6/rect.o build/temp.macosx-10.7-x86_64-3.6/Rectangle.o -L/Users/huangsizhe/LIB/CONDA/anaconda/lib -o /Users/huangsizhe/WORKSPACE/Blog/Docs/Python/TutorialForPython/ipynbs/python性能优化/Cython的包装模式/rect.cpython-36m-darwin.so\n",
      "clang: \u001b[0;1;35mwarning: \u001b[0mlibstdc++ is deprecated; move to libc++ with a minimum deployment target of OS X 10.9\u001b[0m\n"
     ]
    }
   ],
   "source": [
    "!python setup.py build_ext --inplace"
   ]
  },
  {
   "cell_type": "code",
   "execution_count": 10,
   "metadata": {
    "collapsed": true
   },
   "outputs": [],
   "source": [
    "import rect"
   ]
  },
  {
   "cell_type": "code",
   "execution_count": 11,
   "metadata": {},
   "outputs": [
    {
     "name": "stdout",
     "output_type": "stream",
     "text": [
      "size: width = 200, height = 400\n"
     ]
    }
   ],
   "source": [
    "pyRect = rect.PyRectangle(100, 100, 300, 500)\n",
    "width, height = pyRect.get_size()\n",
    "print(\"size: width = %d, height = %d\" % (width, height))"
   ]
  },
  {
   "cell_type": "code",
   "execution_count": 12,
   "metadata": {},
   "outputs": [
    {
     "data": {
      "text/plain": [
       "80000"
      ]
     },
     "execution_count": 12,
     "metadata": {},
     "output_type": "execute_result"
    }
   ],
   "source": [
    "pyRect.get_area()"
   ]
  },
  {
   "cell_type": "markdown",
   "metadata": {},
   "source": [
    "## 预算符重载\n",
    "\n",
    "这个例子是一个vector2d,实现了加和乘.\n"
   ]
  },
  {
   "cell_type": "code",
   "execution_count": 89,
   "metadata": {},
   "outputs": [
    {
     "name": "stdout",
     "output_type": "stream",
     "text": [
      "Writing vector2d.h\n"
     ]
    }
   ],
   "source": [
    "%%writefile vector2d.h\n",
    "\n",
    "namespace algebra {\n",
    "    class Vec2d {\n",
    "    public:\n",
    "        double x, y;\n",
    "        Vec2d();\n",
    "        Vec2d(double x, double y);\n",
    "        ~Vec2d();\n",
    "        Vec2d operator+(const Vec2d& b);\n",
    "        Vec2d operator*(double k);\n",
    "        \n",
    "    };\n",
    "}"
   ]
  },
  {
   "cell_type": "code",
   "execution_count": 90,
   "metadata": {},
   "outputs": [
    {
     "name": "stdout",
     "output_type": "stream",
     "text": [
      "Writing vector2d.cpp\n"
     ]
    }
   ],
   "source": [
    "%%writefile vector2d.cpp\n",
    "#include \"vector2d.h\"\n",
    "\n",
    "namespace algebra {\n",
    "\n",
    "    Vec2d::Vec2d() {\n",
    "        x=0;\n",
    "        y=0;\n",
    "    }\n",
    "\n",
    "    Vec2d::Vec2d(double x, double y) {\n",
    "        this->x = x;\n",
    "        this->y = y;\n",
    "    }\n",
    "\n",
    "    Vec2d::~Vec2d() { }\n",
    "    \n",
    "    Vec2d Vec2d::operator+(const Vec2d& other){\n",
    "\n",
    "        Vec2d r = Vec2d(this->x+other.x,this->y+other.y);\n",
    "        return r;\n",
    "    }\n",
    "    Vec2d Vec2d::operator*(double k){\n",
    "        Vec2d r = Vec2d(this->x*k,this->y*k);\n",
    "        return r;\n",
    "    }\n",
    "}"
   ]
  },
  {
   "cell_type": "code",
   "execution_count": 95,
   "metadata": {},
   "outputs": [
    {
     "name": "stdout",
     "output_type": "stream",
     "text": [
      "Overwriting vec2d_main.cpp\n"
     ]
    }
   ],
   "source": [
    "%%writefile vec2d_main.cpp\n",
    "#include \"vector2d.h\"\n",
    "#include <iostream>\n",
    "using algebra::Vec2d;\n",
    "using std::cout;\n",
    "using std::endl;\n",
    "        \n",
    "int main(){\n",
    "    Vec2d v1 = Vec2d(2.1,2.2);\n",
    "    Vec2d v2 = Vec2d(2.3,2.4);\n",
    "    Vec2d v3 = v1+v2;\n",
    "    cout << v3.x<<endl;\n",
    "    cout << v3.y<<endl;\n",
    "}"
   ]
  },
  {
   "cell_type": "code",
   "execution_count": 96,
   "metadata": {},
   "outputs": [],
   "source": [
    "!g++-7 -o a.out vec2d_main.cpp vector2d.cpp "
   ]
  },
  {
   "cell_type": "code",
   "execution_count": 97,
   "metadata": {},
   "outputs": [
    {
     "name": "stdout",
     "output_type": "stream",
     "text": [
      "4.4\r\n",
      "4.6\r\n"
     ]
    }
   ],
   "source": [
    "!./a.out"
   ]
  },
  {
   "cell_type": "code",
   "execution_count": 111,
   "metadata": {},
   "outputs": [
    {
     "name": "stdout",
     "output_type": "stream",
     "text": [
      "Overwriting vec2d.pyx\n"
     ]
    }
   ],
   "source": [
    "%%writefile vec2d.pyx\n",
    "#cython: language_level=3\n",
    "# distutils: language = c++\n",
    "# distutils: sources = vector2d.cpp\n",
    "\n",
    "\n",
    "cdef extern from \"vector2d.h\" namespace \"algebra\":\n",
    "    cdef cppclass Vec2d:\n",
    "        Vec2d() except +\n",
    "        Vec2d(double, double) except +\n",
    "        double x, y\n",
    "        Vec2d operator+(Vec2d)\n",
    "        Vec2d operator*(float)\n",
    "\n",
    "cdef class PyVec2d:\n",
    "    cdef Vec2d c_vec2d      # hold a C++ instance which we're wrapping\n",
    "    def __cinit__(self, float x, float y):\n",
    "        self.c_vec2d = Vec2d(x, y)\n",
    "    @property\n",
    "    def x(self):\n",
    "        return self.c_vec2d.x\n",
    "    @property\n",
    "    def y(self):\n",
    "        return self.c_vec2d.y\n",
    "    \n",
    "    cpdef add(self,PyVec2d other):\n",
    "        cdef Vec2d c\n",
    "        c = self.c_vec2d+other.c_vec2d\n",
    "        return PyVec2d(c.x,c.y)\n",
    "    \n",
    "    cpdef mul(self,float k):\n",
    "        cdef Vec2d c\n",
    "        c = self.c_vec2d*k\n",
    "        return PyVec2d(c.x,c.y)\n",
    "    \n",
    "    def __add__(self,PyVec2d other):\n",
    "        return self.add(other)\n",
    "    \n",
    "    def __mul__(self,float k):\n",
    "        return self.mul(k)\n",
    "    "
   ]
  },
  {
   "cell_type": "code",
   "execution_count": 112,
   "metadata": {},
   "outputs": [
    {
     "name": "stdout",
     "output_type": "stream",
     "text": [
      "Overwriting setup.py\n"
     ]
    }
   ],
   "source": [
    "%%writefile setup.py\n",
    "\n",
    "from distutils.core import setup\n",
    "from Cython.Build import cythonize\n",
    " \n",
    "setup(\n",
    "    name = \"vec2dapp\",\n",
    "    ext_modules = cythonize('vec2d.pyx')\n",
    ")"
   ]
  },
  {
   "cell_type": "code",
   "execution_count": 113,
   "metadata": {},
   "outputs": [
    {
     "name": "stdout",
     "output_type": "stream",
     "text": [
      "Compiling vec2d.pyx because it changed.\n",
      "[1/1] Cythonizing vec2d.pyx\n",
      "running build_ext\n",
      "building 'vec2d' extension\n",
      "gcc -Wno-unused-result -Wsign-compare -Wunreachable-code -DNDEBUG -g -fwrapv -O3 -Wall -Wstrict-prototypes -I/Users/huangsizhe/LIB/CONDA/anaconda/include -arch x86_64 -I/Users/huangsizhe/LIB/CONDA/anaconda/include -arch x86_64 -I/Users/huangsizhe/LIB/CONDA/anaconda/include/python3.6m -c vec2d.cpp -o build/temp.macosx-10.7-x86_64-3.6/vec2d.o\n",
      "gcc -Wno-unused-result -Wsign-compare -Wunreachable-code -DNDEBUG -g -fwrapv -O3 -Wall -Wstrict-prototypes -I/Users/huangsizhe/LIB/CONDA/anaconda/include -arch x86_64 -I/Users/huangsizhe/LIB/CONDA/anaconda/include -arch x86_64 -I/Users/huangsizhe/LIB/CONDA/anaconda/include/python3.6m -c vector2d.cpp -o build/temp.macosx-10.7-x86_64-3.6/vector2d.o\n",
      "g++ -bundle -undefined dynamic_lookup -L/Users/huangsizhe/LIB/CONDA/anaconda/lib -L/Users/huangsizhe/LIB/CONDA/anaconda/lib -arch x86_64 build/temp.macosx-10.7-x86_64-3.6/vec2d.o build/temp.macosx-10.7-x86_64-3.6/vector2d.o -L/Users/huangsizhe/LIB/CONDA/anaconda/lib -o /Users/huangsizhe/WORKSPACE/Blog/Docs/Python/TutorialForPython/ipynbs/python性能优化/Cython的包装模式/vec2d.cpython-36m-darwin.so\n",
      "clang: \u001b[0;1;35mwarning: \u001b[0mlibstdc++ is deprecated; move to libc++ with a minimum deployment target of OS X 10.9\u001b[0m\n"
     ]
    }
   ],
   "source": [
    "!python setup.py build_ext --inplace"
   ]
  },
  {
   "cell_type": "code",
   "execution_count": 114,
   "metadata": {},
   "outputs": [],
   "source": [
    "import vec2d"
   ]
  },
  {
   "cell_type": "code",
   "execution_count": 116,
   "metadata": {},
   "outputs": [],
   "source": [
    "v1 = vec2d.PyVec2d(2.1,2.2)"
   ]
  },
  {
   "cell_type": "code",
   "execution_count": 117,
   "metadata": {
    "collapsed": true
   },
   "outputs": [],
   "source": [
    "v2 = vec2d.PyVec2d(2.3,2.4)"
   ]
  },
  {
   "cell_type": "code",
   "execution_count": 119,
   "metadata": {},
   "outputs": [
    {
     "data": {
      "text/plain": [
       "4.399999618530273"
      ]
     },
     "execution_count": 119,
     "metadata": {},
     "output_type": "execute_result"
    }
   ],
   "source": [
    "(v1+v2).x"
   ]
  },
  {
   "cell_type": "code",
   "execution_count": null,
   "metadata": {
    "collapsed": true
   },
   "outputs": [],
   "source": []
  }
 ],
 "metadata": {
  "kernelspec": {
   "display_name": "Python 3",
   "language": "python",
   "name": "python3"
  },
  "language_info": {
   "codemirror_mode": {
    "name": "ipython",
    "version": 3
   },
   "file_extension": ".py",
   "mimetype": "text/x-python",
   "name": "python",
   "nbconvert_exporter": "python",
   "pygments_lexer": "ipython3",
   "version": "3.6.0"
  }
 },
 "nbformat": 4,
 "nbformat_minor": 2
}
