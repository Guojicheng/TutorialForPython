{
 "cells": [
  {
   "cell_type": "markdown",
   "metadata": {},
   "source": [
    "# 数据压缩解压\n",
    "\n",
    "压缩和解压说白了就是时间换空间,运算换存储的一种解决方案,标准库中的zlib和bz2模块都是数据压缩解压工具,他们的主要应用场景是数据传输.\n",
    "\n",
    "注意压缩只能是bytes类型"
   ]
  },
  {
   "cell_type": "markdown",
   "metadata": {},
   "source": [
    "## zlib"
   ]
  },
  {
   "cell_type": "code",
   "execution_count": 1,
   "metadata": {
    "collapsed": true
   },
   "outputs": [],
   "source": [
    "import zlib"
   ]
  },
  {
   "cell_type": "code",
   "execution_count": 2,
   "metadata": {},
   "outputs": [],
   "source": [
    "exa_str=u\"\"\"\\\n",
    "网易体育1月5日报道：\n",
    "\n",
    "国际足球历史和统计联合会（IFFHS）今日凌晨在其官网上公布了2015年度世界最佳组织者的评选结果，\\\n",
    "巴塞罗那前锋梅西问鼎，这也是阿根廷人职业生涯首次当选年度最佳组织核心的荣誉。另外，梅西在巴萨的队友\\\n",
    "“小白”伊涅斯塔排在第二位，意大利球星皮尔洛力压切尔西王牌阿扎尔占据第三名的位置。值得一提的是，\\\n",
    "排名前十的球员中有3个来自于皇马。此外，还一同公布了最佳教练的评选，巴萨主帅恩里克力压瓜迪奥拉、阿莱格里等名帅当选。\n",
    "\"\"\""
   ]
  },
  {
   "cell_type": "markdown",
   "metadata": {},
   "source": [
    "### 压缩`compress(data[, level])`\n",
    "\n",
    "level是压缩等级(范围0~9),默认是6,1是最快单压缩最少的,9是最慢但压缩最多得,0表示不压缩"
   ]
  },
  {
   "cell_type": "code",
   "execution_count": 3,
   "metadata": {},
   "outputs": [],
   "source": [
    "z_str=zlib.compress(exa_str.encode())"
   ]
  },
  {
   "cell_type": "code",
   "execution_count": 4,
   "metadata": {},
   "outputs": [
    {
     "data": {
      "text/plain": [
       "0.7527910685805422"
      ]
     },
     "execution_count": 4,
     "metadata": {},
     "output_type": "execute_result"
    }
   ],
   "source": [
    "len(z_str)/len(exa_str.encode())"
   ]
  },
  {
   "cell_type": "markdown",
   "metadata": {},
   "source": [
    "可以看到默认level时压缩率在75%的样子"
   ]
  },
  {
   "cell_type": "markdown",
   "metadata": {},
   "source": [
    "### 解压"
   ]
  },
  {
   "cell_type": "code",
   "execution_count": 5,
   "metadata": {},
   "outputs": [
    {
     "data": {
      "text/plain": [
       "'网易体育1月5日报道：\\n\\n国际足球历史和统计联合会（IFFHS）今日凌晨在其官网上公布了2015年度世界最佳组织者的评选结果，巴塞罗那前锋梅西问鼎，这也是阿根廷人职业生涯首次当选年度最佳组织核心的荣誉。另外，梅西在巴萨的队友“小白”伊涅斯塔排在第二位，意大利球星皮尔洛力压切尔西王牌阿扎尔占据第三名的位置。值得一提的是，排名前十的球员中有3个来自于皇马。此外，还一同公布了最佳教练的评选，巴萨主帅恩里克力压瓜迪奥拉、阿莱格里等名帅当选。\\n'"
      ]
     },
     "execution_count": 5,
     "metadata": {},
     "output_type": "execute_result"
    }
   ],
   "source": [
    "zlib.decompress(z_str).decode(\"utf-8\")"
   ]
  },
  {
   "cell_type": "markdown",
   "metadata": {},
   "source": [
    "### 自定义压缩和解压器\n"
   ]
  },
  {
   "cell_type": "markdown",
   "metadata": {},
   "source": [
    "> 压缩器compressobj([level[, method[, wbits[, memLevel[, strategy]]]]])\n",
    "\n",
    "+ level 压缩等级,范围1~9,默认6\n",
    "+ method 压缩方法,目前只支持默认方法\n",
    "+ wbits  确定窗口缓冲区的大小,范围是8~15,越高效果越好,但占用内存越多\n",
    "+ memLevel 内部压缩状态存储等级,范围1~9,数值越大消耗内存越多,但更快压缩率更高\n",
    "+ strategy 压缩算法相关,可选值有`Z_DEFAULT_STRATEGY`, `Z_FILTERED`,` Z_HUFFMAN_ONLY`"
   ]
  },
  {
   "cell_type": "markdown",
   "metadata": {},
   "source": [
    "> 解压器decompressobj(wbits=15)\n",
    "\n"
   ]
  },
  {
   "cell_type": "markdown",
   "metadata": {},
   "source": [
    "## bz2\n",
    "\n",
    "bz2和zlib接口差不多,只是使用的不同的算法"
   ]
  },
  {
   "cell_type": "code",
   "execution_count": 6,
   "metadata": {
    "collapsed": true
   },
   "outputs": [],
   "source": [
    "import bz2"
   ]
  },
  {
   "cell_type": "markdown",
   "metadata": {},
   "source": [
    "### 压缩`compress(data[, level])`\n",
    "\n",
    "level是压缩等级(范围1~9),默认是9,1是最快单压缩最少的,9是最慢但压缩最多得"
   ]
  },
  {
   "cell_type": "code",
   "execution_count": 7,
   "metadata": {
    "collapsed": true
   },
   "outputs": [],
   "source": [
    "b_str = bz2.compress(exa_str.encode())"
   ]
  },
  {
   "cell_type": "code",
   "execution_count": 8,
   "metadata": {},
   "outputs": [
    {
     "data": {
      "text/plain": [
       "0.8309409888357256"
      ]
     },
     "execution_count": 8,
     "metadata": {},
     "output_type": "execute_result"
    }
   ],
   "source": [
    "len(b_str)/len(exa_str.encode())"
   ]
  },
  {
   "cell_type": "markdown",
   "metadata": {},
   "source": [
    "###  解压`decompress(data)`"
   ]
  },
  {
   "cell_type": "code",
   "execution_count": 9,
   "metadata": {},
   "outputs": [
    {
     "data": {
      "text/plain": [
       "'网易体育1月5日报道：\\n\\n国际足球历史和统计联合会（IFFHS）今日凌晨在其官网上公布了2015年度世界最佳组织者的评选结果，巴塞罗那前锋梅西问鼎，这也是阿根廷人职业生涯首次当选年度最佳组织核心的荣誉。另外，梅西在巴萨的队友“小白”伊涅斯塔排在第二位，意大利球星皮尔洛力压切尔西王牌阿扎尔占据第三名的位置。值得一提的是，排名前十的球员中有3个来自于皇马。此外，还一同公布了最佳教练的评选，巴萨主帅恩里克力压瓜迪奥拉、阿莱格里等名帅当选。\\n'"
      ]
     },
     "execution_count": 9,
     "metadata": {},
     "output_type": "execute_result"
    }
   ],
   "source": [
    "bz2.decompress(b_str).decode(\"utf-8\")"
   ]
  }
 ],
 "metadata": {
  "kernelspec": {
   "display_name": "Python 3",
   "language": "python",
   "name": "python3"
  },
  "language_info": {
   "codemirror_mode": {
    "name": "ipython",
    "version": 3
   },
   "file_extension": ".py",
   "mimetype": "text/x-python",
   "name": "python",
   "nbconvert_exporter": "python",
   "pygments_lexer": "ipython3",
   "version": "3.6.0"
  }
 },
 "nbformat": 4,
 "nbformat_minor": 1
}
