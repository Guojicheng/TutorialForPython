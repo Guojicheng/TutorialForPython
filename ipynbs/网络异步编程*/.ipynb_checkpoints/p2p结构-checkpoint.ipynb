{
 "cells": [
  {
   "cell_type": "markdown",
   "metadata": {},
   "source": [
    "# P2P结构\n",
    "\n",
    "p2p(peer to peer)可以定义成终端之间通过直接交换来共享计算机资源和服务,而无需经过服务器的中转.它的好处是显而易见的,不用服务器中转,不需要受限于服务器的带宽,而且大大减轻了服务器的压力.p2p的应用包括IM(qq，MSN),bittorrent等等.\n",
    "\n",
    "p2p是一种对等的结构.和客户端服务器结构不同,并没有先后顺序,也不通过某个权威(中间人)进行中转,因此p2p无法使用tcp协议.如果你看过我写的html5攻略,其中有一节webrtc就是一个典型的p2p协议.从中我们可以看到p2p的基本形态\n",
    "\n",
    "+ 每个节点都是单独的客户端\n",
    "+ 客户端之间可以直连\n",
    "+ 寻找客户端依靠一个叫STUN的服务器,STUN服务器只是类似信息交换墙的作用,而不负责中转信息\n",
    "\n",
    "\n",
    "在讲实现前我们先来看几个概念:\n",
    "\n",
    "+ NAT\n",
    "+ 打洞\n",
    "+ STUN"
   ]
  },
  {
   "cell_type": "markdown",
   "metadata": {},
   "source": [
    "## NAT\n",
    "\n",
    "NAT(Network Address Translation)是将IP数据包头中的IP地址转换为另一个IP地址的过程,通俗来讲,就是局域网公用一个public IP.我们可以很容易的检查到自己主机的ip地址和公网ip地址是不一致的,本机的ip地址可以使用`ifconfig(Unix)或ipconfig(windows)`查看,而公网的百度搜下`ip`就出来了.\n",
    "\n",
    "那NAT是用来解决什么问题的？\n",
    "\n",
    "上个世纪80年代,当时的人们在设计网络地址的时候,觉得再怎么样也不会有超过32bits位长即232台终端设备联入互联网,再加上增加ip的长度(即使是从4字节增到6字节)对当时设备的计算,存储,传输成本也是相当巨大的,想象当年的千年虫问题就是因为不存储年份的前两位导致的,现在想想,不就几个byte吗？我一顿饭不吃就省了好几个G了,但在当时的确是相当稀缺的资源.\n",
    "\n",
    "后来逐渐发现IP地址不够用了,然后就NAT就诞生了！(虽然ipv6也是解决办法,但始终普及不开来).NAT的本质就是让一群机器公用同一个IP.这样就暂时解决了IP短缺的问题.其实NAT还有一个重要的用途，就是保护NAT内的主机不受外界攻击,因为公网与内网不管怎么样都有个NAT服务器阻隔着,这样要暴露的信息或者接口就可控了.\n",
    "\n",
    "### NAT的类型\n",
    "\n",
    "NAT的作用就是通过映射的方式为内网和公网打开通路,\n",
    "假设路由器ip为`1.2.3.4`，公网服务器ip为`5.6.7.8`，内网机器`192.168.0.240:5060`首先发给路由器`1.2.3.4`,路由器分配一个端口，比如说`54333`，然后路由器代替内网机器发给服务器，即`1.2.3.4:54333 -> 5.6.7.8:80`,此时路由器会在映射表上留下一个\"洞\",来自`5.6.7.8:80`发送到`1.2.3.4:54333`的包都会转发到`192.168.0.250:5060`\n",
    "\n",
    "但不是所有发往`1.2.3.4:54333`的包都会被转发过去,不同的NAT类型做同样的事情会有不同的方法\n",
    "\n",
    "#### Full Cone全锥形NAT\n",
    "\n",
    "\n",
    "IP,端口都不受限.只要客户端由内到外打通一个洞(`NatIP:NatPort -> A:P1`)之后，其他IP的主机(`B`)或端口(`A:P2`)都可以使用这个洞发送数据到客户端。\n",
    "![](full_cone.png)\n",
    "\n",
    "\n",
    "#### Restricted Cone受限锥形NAT\n",
    "\n",
    "\n",
    "IP受限,端口不受限.当客户端由内到外打通一个洞(`NatIP:NatPort -> A:P1`)之后,A机器可以使用他的其他端口(`P2`)主动连接客户端,但B机器则不被允许.\n",
    "![](Restricted_Cone.png)\n",
    "\n",
    "\n",
    "#### Restricted Port Cone端口受限锥形NAT\n",
    "\n",
    "IP,端口都受限.返回的数据只接受曾经打洞成功的对象(`A:P1`),由`A:P2`,`B:P1`发起的数据将不被`NatIP:NatPort`接收.\n",
    "![](Restricted_Port_Cone.png)\n",
    "\n",
    "#### Symmetric NAT对称型NAT\n",
    "\n",
    "对称型NAT具有端口受限锥型的受限特性.但更重要的是,他对每个外部主机或端口的会话都会映射为不同的端口(洞).只有来自相同的内部地址(`IP:PORT`)并且发送到相同外部地址(`X:x`)的请求,在NAT上才映射为相同的外网端口,即相同的映射.\n",
    "\n",
    "举个例子：\n",
    "\n",
    "1. client访问`A:p1`是这样的路径：`Client --> NatIP:Pa1 --> A:P1`\n",
    "2. client访问`A:p2`是这样的路径：`Client --> NatIP:Pa2 --> A:P2`\n",
    "\n",
    "(而在前面的三种NAT中，只要client不变，那么留在路由器上的“洞”就不会变，symmetric NAT会变，端口变)\n",
    "\n",
    "\n",
    "### 怎么确定自己的NAT类型\n",
    "\n",
    "\n",
    "为什么要知道自己的NAT类型？这为之后的打洞做准备.RFC专门定义了一套协议来做这件事(RFC 5389),这个协议的名字叫STUN(Session Traversal Utilities for NAT),它的算法输出是:\n",
    "\n",
    "+ Public ip and port\n",
    "+ 防火墙是否设置\n",
    "+ 是否在NAT之后以及NAT的类型\n",
    "\n",
    "我们可以使用[pystun](https://github.com/jtriley/pystun)来查看自己的的NAT"
   ]
  },
  {
   "cell_type": "code",
   "execution_count": 1,
   "metadata": {
    "collapsed": false
   },
   "outputs": [
    {
     "ename": "TypeError",
     "evalue": "'dict_items' object does not support indexing",
     "output_type": "error",
     "traceback": [
      "\u001b[0;31m---------------------------------------------------------------------------\u001b[0m",
      "\u001b[0;31mTypeError\u001b[0m                                 Traceback (most recent call last)",
      "\u001b[0;32m<ipython-input-1-0e6c6c58c804>\u001b[0m in \u001b[0;36m<module>\u001b[0;34m()\u001b[0m\n\u001b[1;32m      1\u001b[0m \u001b[1;32mimport\u001b[0m \u001b[0mstun\u001b[0m\u001b[1;33m\u001b[0m\u001b[0m\n\u001b[0;32m----> 2\u001b[0;31m \u001b[0mnat_type\u001b[0m\u001b[1;33m,\u001b[0m \u001b[0mexternal_ip\u001b[0m\u001b[1;33m,\u001b[0m \u001b[0mexternal_port\u001b[0m \u001b[1;33m=\u001b[0m \u001b[0mstun\u001b[0m\u001b[1;33m.\u001b[0m\u001b[0mget_ip_info\u001b[0m\u001b[1;33m(\u001b[0m\u001b[1;33m)\u001b[0m\u001b[1;33m\u001b[0m\u001b[0m\n\u001b[0m",
      "\u001b[0;32mC:\\Users\\87\\Anaconda3\\lib\\site-packages\\stun\\__init__.py\u001b[0m in \u001b[0;36mget_ip_info\u001b[0;34m(source_ip, source_port, stun_host, stun_port)\u001b[0m\n\u001b[1;32m    251\u001b[0m     \u001b[0ms\u001b[0m\u001b[1;33m.\u001b[0m\u001b[0mbind\u001b[0m\u001b[1;33m(\u001b[0m\u001b[1;33m(\u001b[0m\u001b[0msource_ip\u001b[0m\u001b[1;33m,\u001b[0m \u001b[0msource_port\u001b[0m\u001b[1;33m)\u001b[0m\u001b[1;33m)\u001b[0m\u001b[1;33m\u001b[0m\u001b[0m\n\u001b[1;32m    252\u001b[0m     nat_type, nat = get_nat_type(s, source_ip, source_port,\n\u001b[0;32m--> 253\u001b[0;31m                                  stun_host=stun_host, stun_port=stun_port)\n\u001b[0m\u001b[1;32m    254\u001b[0m     \u001b[0mexternal_ip\u001b[0m \u001b[1;33m=\u001b[0m \u001b[0mnat\u001b[0m\u001b[1;33m[\u001b[0m\u001b[1;34m'ExternalIP'\u001b[0m\u001b[1;33m]\u001b[0m\u001b[1;33m\u001b[0m\u001b[0m\n\u001b[1;32m    255\u001b[0m     \u001b[0mexternal_port\u001b[0m \u001b[1;33m=\u001b[0m \u001b[0mnat\u001b[0m\u001b[1;33m[\u001b[0m\u001b[1;34m'ExternalPort'\u001b[0m\u001b[1;33m]\u001b[0m\u001b[1;33m\u001b[0m\u001b[0m\n",
      "\u001b[0;32mC:\\Users\\87\\Anaconda3\\lib\\site-packages\\stun\\__init__.py\u001b[0m in \u001b[0;36mget_nat_type\u001b[0;34m(s, source_ip, source_port, stun_host, stun_port)\u001b[0m\n\u001b[1;32m    184\u001b[0m \u001b[1;33m\u001b[0m\u001b[0m\n\u001b[1;32m    185\u001b[0m \u001b[1;32mdef\u001b[0m \u001b[0mget_nat_type\u001b[0m\u001b[1;33m(\u001b[0m\u001b[0ms\u001b[0m\u001b[1;33m,\u001b[0m \u001b[0msource_ip\u001b[0m\u001b[1;33m,\u001b[0m \u001b[0msource_port\u001b[0m\u001b[1;33m,\u001b[0m \u001b[0mstun_host\u001b[0m\u001b[1;33m=\u001b[0m\u001b[1;32mNone\u001b[0m\u001b[1;33m,\u001b[0m \u001b[0mstun_port\u001b[0m\u001b[1;33m=\u001b[0m\u001b[1;36m3478\u001b[0m\u001b[1;33m)\u001b[0m\u001b[1;33m:\u001b[0m\u001b[1;33m\u001b[0m\u001b[0m\n\u001b[0;32m--> 186\u001b[0;31m     \u001b[0m_initialize\u001b[0m\u001b[1;33m(\u001b[0m\u001b[1;33m)\u001b[0m\u001b[1;33m\u001b[0m\u001b[0m\n\u001b[0m\u001b[1;32m    187\u001b[0m     \u001b[0mport\u001b[0m \u001b[1;33m=\u001b[0m \u001b[0mstun_port\u001b[0m\u001b[1;33m\u001b[0m\u001b[0m\n\u001b[1;32m    188\u001b[0m     \u001b[0mlog\u001b[0m\u001b[1;33m.\u001b[0m\u001b[0mdebug\u001b[0m\u001b[1;33m(\u001b[0m\u001b[1;34m\"Do Test1\"\u001b[0m\u001b[1;33m)\u001b[0m\u001b[1;33m\u001b[0m\u001b[0m\n",
      "\u001b[0;32mC:\\Users\\87\\Anaconda3\\lib\\site-packages\\stun\\__init__.py\u001b[0m in \u001b[0;36m_initialize\u001b[0;34m()\u001b[0m\n\u001b[1;32m     91\u001b[0m     \u001b[0mitems\u001b[0m \u001b[1;33m=\u001b[0m \u001b[0mdictAttrToVal\u001b[0m\u001b[1;33m.\u001b[0m\u001b[0mitems\u001b[0m\u001b[1;33m(\u001b[0m\u001b[1;33m)\u001b[0m\u001b[1;33m\u001b[0m\u001b[0m\n\u001b[1;32m     92\u001b[0m     \u001b[1;32mfor\u001b[0m \u001b[0mi\u001b[0m \u001b[1;32min\u001b[0m \u001b[0mrange\u001b[0m\u001b[1;33m(\u001b[0m\u001b[0mlen\u001b[0m\u001b[1;33m(\u001b[0m\u001b[0mitems\u001b[0m\u001b[1;33m)\u001b[0m\u001b[1;33m)\u001b[0m\u001b[1;33m:\u001b[0m\u001b[1;33m\u001b[0m\u001b[0m\n\u001b[0;32m---> 93\u001b[0;31m         \u001b[0mdictValToAttr\u001b[0m\u001b[1;33m.\u001b[0m\u001b[0mupdate\u001b[0m\u001b[1;33m(\u001b[0m\u001b[1;33m{\u001b[0m\u001b[0mitems\u001b[0m\u001b[1;33m[\u001b[0m\u001b[0mi\u001b[0m\u001b[1;33m]\u001b[0m\u001b[1;33m[\u001b[0m\u001b[1;36m1\u001b[0m\u001b[1;33m]\u001b[0m\u001b[1;33m:\u001b[0m \u001b[0mitems\u001b[0m\u001b[1;33m[\u001b[0m\u001b[0mi\u001b[0m\u001b[1;33m]\u001b[0m\u001b[1;33m[\u001b[0m\u001b[1;36m0\u001b[0m\u001b[1;33m]\u001b[0m\u001b[1;33m}\u001b[0m\u001b[1;33m)\u001b[0m\u001b[1;33m\u001b[0m\u001b[0m\n\u001b[0m\u001b[1;32m     94\u001b[0m     \u001b[0mitems\u001b[0m \u001b[1;33m=\u001b[0m \u001b[0mdictMsgTypeToVal\u001b[0m\u001b[1;33m.\u001b[0m\u001b[0mitems\u001b[0m\u001b[1;33m(\u001b[0m\u001b[1;33m)\u001b[0m\u001b[1;33m\u001b[0m\u001b[0m\n\u001b[1;32m     95\u001b[0m     \u001b[1;32mfor\u001b[0m \u001b[0mi\u001b[0m \u001b[1;32min\u001b[0m \u001b[0mrange\u001b[0m\u001b[1;33m(\u001b[0m\u001b[0mlen\u001b[0m\u001b[1;33m(\u001b[0m\u001b[0mitems\u001b[0m\u001b[1;33m)\u001b[0m\u001b[1;33m)\u001b[0m\u001b[1;33m:\u001b[0m\u001b[1;33m\u001b[0m\u001b[0m\n",
      "\u001b[0;31mTypeError\u001b[0m: 'dict_items' object does not support indexing"
     ]
    }
   ],
   "source": [
    "import stun\n",
    "nat_type, external_ip, external_port = stun.get_ip_info()"
   ]
  },
  {
   "cell_type": "markdown",
   "metadata": {},
   "source": [
    "## \"打洞\"\n",
    "\n",
    "\n",
    "既然有NAT守关,那么我们如何才能够直接和远端通信呢?这就需要所谓的`打洞`.\n",
    "\n",
    "NAT内的设备怎么和公网服务器通信?\n",
    "\n"
   ]
  },
  {
   "cell_type": "code",
   "execution_count": null,
   "metadata": {
    "collapsed": true
   },
   "outputs": [],
   "source": []
  }
 ],
 "metadata": {
  "kernelspec": {
   "display_name": "Python 3",
   "language": "python",
   "name": "python3"
  },
  "language_info": {
   "codemirror_mode": {
    "name": "ipython",
    "version": 3
   },
   "file_extension": ".py",
   "mimetype": "text/x-python",
   "name": "python",
   "nbconvert_exporter": "python",
   "pygments_lexer": "ipython3",
   "version": "3.6.0"
  }
 },
 "nbformat": 4,
 "nbformat_minor": 2
}
