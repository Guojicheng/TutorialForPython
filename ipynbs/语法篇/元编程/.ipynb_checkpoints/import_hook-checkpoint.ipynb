{
 "cells": [
  {
   "cell_type": "markdown",
   "metadata": {},
   "source": [
    "# import_hook\n",
    "\n",
    "所谓`import hook`就是指直接自定义finder和loader,并将finder放入`sys.meta_path`中的过程.\n",
    "\n",
    "利用这个可以做到很多非常神奇的事情,比如\n",
    "\n",
    "+ import某个特定模块时触发某个回调函数来通知我们\n",
    "+ import一个远程服务器上的模块\n",
    "+ 直接import其他语言(比如fortran)的模块来使用\n",
    "\n",
    "本节需要的先验知识包括:\n",
    "\n",
    "+ [模块的导入方式]()\n",
    "+ [使用f2py为python嵌入fortran代码]()\n"
   ]
  },
  {
   "cell_type": "markdown",
   "metadata": {},
   "source": [
    "## import hook的基本形式\n",
    "\n",
    "import hook通常是以一个单文件模块的形式出现的,其中的过程说白了就是自定义finder和loader,因此自定义这两个类都是必须的,然后就是将定义的finder实例化,并将这个实例加入`sys.meta_path`.下面是模板代码.\n",
    "\n",
    "```python\n",
    "import importlib\n",
    "from importlib.abc import (\n",
    "    MetaPathFinder, \n",
    "    PathEntryFinder,\n",
    "    Loader\n",
    ")\n",
    "from importlib.machinery import ModuleSpec\n",
    "import sys\n",
    "from collections import defaultdict\n",
    "\n",
    "\n",
    "class ClientImportLoader(Loader):\n",
    "    @classmethod\n",
    "    def create_module(clz,spec):\n",
    "        \"\"\"用于创建模块的.\"\"\"\n",
    "        module = __create_module_from_spec(spec)\n",
    "        return module or None\n",
    "\n",
    "    @classmethod\n",
    "    def exec_module (clz, module):\n",
    "        \"\"\"每次执行引入模块或者重载模块时会执行的操作\"\"\"\n",
    "        pass\n",
    "\n",
    "loader= ClientImportLoader()\n",
    "    \n",
    "\n",
    "class ClientImportFinder(MetaPathFinder):\n",
    "\n",
    "    @classmethod\n",
    "    def find_spec (klass, full_name, paths=None, target=None):\n",
    "        \"\"\"查找模块的逻辑\"\"\"\n",
    "        pass\n",
    "        return ModuleSpec(full_name, loader, origin=module_full_path)\n",
    "    \n",
    "\n",
    "sys.meta_path.insert(0, ClientImportFinder())\n",
    "\n",
    "```\n",
    "\n",
    "\n",
    "当这个定义import hook的模块被加载后,他就可以正常的执行自己的功能了,因此通常这个import hook的模块需要优先加载.\n"
   ]
  },
  {
   "cell_type": "markdown",
   "metadata": {},
   "source": [
    "## import某个特定模块时触发某个回调函数来通知我们\n",
    "\n",
    "这个例子来自python cookbook,不过上面的代码已经比较过时了,这边给出python3.5+推荐的写法"
   ]
  },
  {
   "cell_type": "code",
   "execution_count": 1,
   "metadata": {},
   "outputs": [],
   "source": [
    "import importlib\n",
    "from importlib.abc import (\n",
    "    MetaPathFinder, \n",
    "    PathEntryFinder,\n",
    "    Loader\n",
    ")\n",
    "from importlib.machinery import ModuleSpec\n",
    "import sys\n",
    "from collections import defaultdict\n",
    "\n",
    "_post_import_hooks = defaultdict(list)\n",
    "\n",
    "class ClientImportLoader(Loader):\n",
    "    def __init__(self, finder):\n",
    "        self._finder = finder\n",
    "        \n",
    "\n",
    "    def create_module(self,spec):\n",
    "        \"\"\"这边只要调用父类的实现即可.\"\"\"\n",
    "        return super().create_module(spec)\n",
    "\n",
    "    def exec_module (self, module):\n",
    "        \"\"\"在_post_import_hooks中查找对应模块中的回调函数并执行.\"\"\"\n",
    "        for func in _post_import_hooks[module.__name__]:\n",
    "            func(module)\n",
    "        self._finder._skip.remove(module.__name__)\n",
    "        \n",
    "class ClientImportFinder(MetaPathFinder):\n",
    "    \n",
    "    def __init__(self):\n",
    "        self._skip = set()\n",
    "\n",
    "    def find_spec (self, full_name, paths=None, target=None):\n",
    "        \"\"\".\"\"\"\n",
    "        if full_name in self._skip:\n",
    "            return None\n",
    "        self._skip.add(full_name)\n",
    "        loader = ClientImportLoader(self)\n",
    "        return ModuleSpec(full_name, loader, origin=paths)\n",
    "        \n",
    "        \n",
    "def when_imported(fullname):\n",
    "    def decorate(func):\n",
    "        if fullname in sys.modules:\n",
    "            func(sys.modules[fullname])\n",
    "        else:\n",
    "            _post_import_hooks[fullname].append(func)\n",
    "        return func\n",
    "    return decorate\n",
    "\n",
    "finder = ClientImportFinder()\n",
    "sys.meta_path.insert(0, finder)"
   ]
  },
  {
   "cell_type": "code",
   "execution_count": 2,
   "metadata": {},
   "outputs": [],
   "source": [
    "@when_imported('numpy')\n",
    "def warn_numpy(mod):\n",
    "    print('numpy? Are you crazy?')\n"
   ]
  },
  {
   "cell_type": "code",
   "execution_count": 3,
   "metadata": {},
   "outputs": [
    {
     "name": "stdout",
     "output_type": "stream",
     "text": [
      "numpy? Are you crazy?\n"
     ]
    }
   ],
   "source": [
    "import numpy"
   ]
  },
  {
   "cell_type": "code",
   "execution_count": 4,
   "metadata": {},
   "outputs": [
    {
     "data": {
      "text/plain": [
       "set()"
      ]
     },
     "execution_count": 4,
     "metadata": {},
     "output_type": "execute_result"
    }
   ],
   "source": [
    "finder._skip"
   ]
  },
  {
   "cell_type": "markdown",
   "metadata": {},
   "source": [
    "为了避免陷入无线循环,ClientImportFinder维护了一个所有被加载过的模块集合`_skip`,如果一个模块在加载过程中又有另一个地方来加载,那么就会跳过这个加载器"
   ]
  },
  {
   "cell_type": "markdown",
   "metadata": {},
   "source": [
    "## import一个远程服务器上的模块\n",
    "\n",
    "\n",
    "这个例子主要是复写finder以可以查找到目标服务器上的模块文件.同时复写loader的create_module方法用远端的代码生成服务.\n",
    "\n",
    "我们的远程代码以http服务的形式放在静态服务器上\n",
    "```shell\n",
    "testcode-|\n",
    "         |-spam.py\n",
    "         |-fib.py\n",
    "         |-grok-|\n",
    "                |-__init__.py\n",
    "                |-blah.py\n",
    "```\n",
    "\n",
    "`spam.py`\n",
    "```python\n",
    "print(\"I'm spam\")\n",
    "\n",
    "def hello(name):\n",
    "    print('Hello %s' % name)\n",
    "```\n",
    "\n",
    "`fib.py`\n",
    "```python\n",
    "print(\"I'm fib\")\n",
    "\n",
    "def fib(n):\n",
    "    if n < 2:\n",
    "        return 1\n",
    "    else:\n",
    "        return fib(n-1) + fib(n-2)\n",
    "```\n",
    "\n",
    "`grok/__init__.py`\n",
    "\n",
    "```python\n",
    "print(\"I'm grok.__init__\")\n",
    "```\n",
    "`grok/blah.py`\n",
    "\n",
    "```python\n",
    "print(\"I'm grok.blah\")\n",
    "```\n",
    "使用python自带的http服务启动:\n",
    "\n",
    "```shell\n",
    "cd source/testcode\n",
    "python3 -m http.server 15000\n",
    "```"
   ]
  },
  {
   "cell_type": "code",
   "execution_count": 8,
   "metadata": {},
   "outputs": [
    {
     "name": "stdout",
     "output_type": "stream",
     "text": [
      "print(\"I'm fib\")\n",
      "\n",
      "def fib(n):\n",
      "    if n < 2:\n",
      "        return 1\n",
      "    else:\n",
      "        return fib(n-1) + fib(n-2)\n"
     ]
    }
   ],
   "source": [
    "import requests\n",
    "n = requests.get(\"http://localhost:15000/fib.py\")\n",
    "print(n.content.decode(\"utf-8\"))"
   ]
  },
  {
   "cell_type": "markdown",
   "metadata": {},
   "source": [
    "### 最简单的方法\n",
    "\n",
    "我们可以使用`imp.new_module`新建一个空的模块对象,再使用内置方法`compile()`将源码编译到一个代码对象中,然后在模块对象的字典中来执行它.\n",
    "这种方式没有嵌入到通常的import语句中,如果要支持更高级的结构比如包就需要更多的工作了.\n",
    "\n",
    "下面是使用这个函数的方式:"
   ]
  },
  {
   "cell_type": "code",
   "execution_count": 10,
   "metadata": {},
   "outputs": [],
   "source": [
    "import imp\n",
    "import urllib.request\n",
    "import sys\n",
    "\n",
    "def load_module(url):\n",
    "    u = urllib.request.urlopen(url)\n",
    "    source = u.read().decode('utf-8')\n",
    "    mod = sys.modules.setdefault(url, imp.new_module(url))\n",
    "    code = compile(source, url, 'exec')\n",
    "    mod.__file__ = url\n",
    "    mod.__package__ = ''\n",
    "    exec(code, mod.__dict__)\n",
    "    return mod"
   ]
  },
  {
   "cell_type": "code",
   "execution_count": 11,
   "metadata": {},
   "outputs": [
    {
     "name": "stdout",
     "output_type": "stream",
     "text": [
      "I'm fib\n"
     ]
    }
   ],
   "source": [
    "fib = load_module('http://localhost:15000/fib.py')"
   ]
  },
  {
   "cell_type": "code",
   "execution_count": 12,
   "metadata": {},
   "outputs": [
    {
     "data": {
      "text/plain": [
       "89"
      ]
     },
     "execution_count": 12,
     "metadata": {},
     "output_type": "execute_result"
    }
   ],
   "source": [
    "fib.fib(10)"
   ]
  },
  {
   "cell_type": "code",
   "execution_count": 13,
   "metadata": {},
   "outputs": [
    {
     "data": {
      "text/plain": [
       "<module 'http://localhost:15000/fib.py' from 'http://localhost:15000/fib.py'>"
      ]
     },
     "execution_count": 13,
     "metadata": {},
     "output_type": "execute_result"
    }
   ],
   "source": [
    "fib"
   ]
  },
  {
   "cell_type": "code",
   "execution_count": null,
   "metadata": {},
   "outputs": [],
   "source": []
  }
 ],
 "metadata": {
  "kernelspec": {
   "display_name": "Python 3",
   "language": "python",
   "name": "python3"
  },
  "language_info": {
   "codemirror_mode": {
    "name": "ipython",
    "version": 3
   },
   "file_extension": ".py",
   "mimetype": "text/x-python",
   "name": "python",
   "nbconvert_exporter": "python",
   "pygments_lexer": "ipython3",
   "version": "3.6.4"
  }
 },
 "nbformat": 4,
 "nbformat_minor": 2
}
