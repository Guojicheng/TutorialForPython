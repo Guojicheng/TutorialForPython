{
 "cells": [
  {
   "cell_type": "markdown",
   "metadata": {},
   "source": [
    "# import_hook\n",
    "\n",
    "所谓`import hook`就是指直接自定义finder和loader,并将finder放入`sys.meta_path`中的过程.\n",
    "\n",
    "利用这个可以做到很多非常神奇的事情,比如\n",
    "\n",
    "+ import某个特定模块时触发某个回调函数来通知我们\n",
    "+ import一个远程服务器上的模块\n",
    "+ 直接import其他语言(比如fortran)的模块来使用\n",
    "\n",
    "本节需要的先验知识包括:\n",
    "\n",
    "+ [模块的导入方式]()\n",
    "+ [使用f2py为python嵌入fortran代码]()\n"
   ]
  },
  {
   "cell_type": "markdown",
   "metadata": {},
   "source": [
    "## import hook的基本形式\n",
    "\n",
    "import hook通常是以一个单文件模块的形式出现的,其中的过程说白了就是自定义finder和loader,因此自定义这两个类都是必须的,然后就是将定义的finder实例化,并将这个实例加入`sys.meta_path`.下面是模板代码.\n",
    "\n",
    "```python\n",
    "import importlib\n",
    "from importlib.abc import (\n",
    "    MetaPathFinder, \n",
    "    PathEntryFinder,\n",
    "    Loader\n",
    ")\n",
    "from importlib.machinery import ModuleSpec\n",
    "import sys\n",
    "from collections import defaultdict\n",
    "\n",
    "\n",
    "class ClientImportLoader(Loader):\n",
    "    @classmethod\n",
    "    def create_module(clz,spec):\n",
    "        \"\"\"用于创建模块的.\"\"\"\n",
    "        module = __create_module_from_spec(spec)\n",
    "        return module or None\n",
    "\n",
    "    @classmethod\n",
    "    def exec_module (clz, module):\n",
    "        \"\"\"每次执行引入模块或者重载模块时会执行的操作\"\"\"\n",
    "        pass\n",
    "\n",
    "loader= ClientImportLoader()\n",
    "    \n",
    "\n",
    "class ClientImportFinder(MetaPathFinder):\n",
    "\n",
    "    @classmethod\n",
    "    def find_spec (klass, full_name, paths=None, target=None):\n",
    "        \"\"\"查找模块的逻辑\"\"\"\n",
    "        pass\n",
    "        return ModuleSpec(full_name, loader, origin=module_full_path)\n",
    "    \n",
    "\n",
    "sys.meta_path.insert(0, ClientImportFinder())\n",
    "\n",
    "```\n",
    "\n",
    "\n",
    "当这个定义import hook的模块被加载后,他就可以正常的执行自己的功能了,因此通常这个import hook的模块需要优先加载.\n"
   ]
  },
  {
   "cell_type": "markdown",
   "metadata": {},
   "source": [
    "## import某个特定模块时触发某个回调函数来通知我们\n",
    "\n",
    "这个例子来自python cookbook,不过上面的代码已经比较过时了,这边给出python3.5+推荐的写法"
   ]
  },
  {
   "cell_type": "code",
   "execution_count": 1,
   "metadata": {},
   "outputs": [],
   "source": [
    "import importlib\n",
    "from importlib.abc import (\n",
    "    MetaPathFinder, \n",
    "    PathEntryFinder,\n",
    "    Loader\n",
    ")\n",
    "from importlib.machinery import ModuleSpec\n",
    "import sys\n",
    "from collections import defaultdict\n",
    "\n",
    "_post_import_hooks = defaultdict(list)\n",
    "\n",
    "class ClientImportLoader(Loader):\n",
    "    def __init__(self, finder):\n",
    "        self._finder = finder\n",
    "        \n",
    "\n",
    "    def create_module(self,spec):\n",
    "        \"\"\"这边只要调用父类的实现即可.\"\"\"\n",
    "        return super().create_module(spec)\n",
    "\n",
    "    def exec_module (self, module):\n",
    "        \"\"\"在_post_import_hooks中查找对应模块中的回调函数并执行.\"\"\"\n",
    "        for func in _post_import_hooks[module.__name__]:\n",
    "            func(module)\n",
    "        self._finder._skip.remove(module.__name__)\n",
    "        \n",
    "class ClientImportFinder(MetaPathFinder):\n",
    "    \n",
    "    def __init__(self):\n",
    "        self._skip = set()\n",
    "\n",
    "    def find_spec (self, full_name, paths=None, target=None):\n",
    "        \"\"\".\"\"\"\n",
    "        if full_name in self._skip:\n",
    "            return None\n",
    "        self._skip.add(full_name)\n",
    "        loader = ClientImportLoader(self)\n",
    "        return ModuleSpec(full_name, loader, origin=paths)\n",
    "        \n",
    "        \n",
    "def when_imported(fullname):\n",
    "    def decorate(func):\n",
    "        if fullname in sys.modules:\n",
    "            func(sys.modules[fullname])\n",
    "        else:\n",
    "            _post_import_hooks[fullname].append(func)\n",
    "        return func\n",
    "    return decorate\n",
    "\n",
    "finder = ClientImportFinder()\n",
    "sys.meta_path.insert(0, finder)"
   ]
  },
  {
   "cell_type": "code",
   "execution_count": 2,
   "metadata": {},
   "outputs": [],
   "source": [
    "@when_imported('numpy')\n",
    "def warn_numpy(mod):\n",
    "    print('numpy? Are you crazy?')\n"
   ]
  },
  {
   "cell_type": "code",
   "execution_count": 3,
   "metadata": {},
   "outputs": [
    {
     "name": "stdout",
     "output_type": "stream",
     "text": [
      "numpy? Are you crazy?\n"
     ]
    }
   ],
   "source": [
    "import numpy"
   ]
  },
  {
   "cell_type": "code",
   "execution_count": 4,
   "metadata": {},
   "outputs": [
    {
     "data": {
      "text/plain": [
       "set()"
      ]
     },
     "execution_count": 4,
     "metadata": {},
     "output_type": "execute_result"
    }
   ],
   "source": [
    "finder._skip"
   ]
  },
  {
   "cell_type": "markdown",
   "metadata": {},
   "source": [
    "为了避免陷入无线循环,ClientImportFinder维护了一个所有被加载过的模块集合`_skip`,如果一个模块在加载过程中又有另一个地方来加载,那么就会跳过这个加载器"
   ]
  },
  {
   "cell_type": "markdown",
   "metadata": {},
   "source": [
    "## import一个远程服务器上的模块\n",
    "\n",
    "\n",
    "\n",
    "我们以导入github上我原来写的一个模块<https://raw.githubusercontent.com/Python-Tools/pypartten/master/pypartten/proxy.py>作为例子.\n",
    "\n",
    "这个例子主要是复写finder以可以查找到目标服务器上的模块文件.同时复写loader的create_module方法用远端的代码生成服务."
   ]
  },
  {
   "cell_type": "code",
   "execution_count": 1,
   "metadata": {},
   "outputs": [],
   "source": [
    "import requests"
   ]
  },
  {
   "cell_type": "code",
   "execution_count": 3,
   "metadata": {},
   "outputs": [],
   "source": [
    "n = requests.get(\"https://raw.githubusercontent.com/Python-Tools/pypartten/master/pypartten/proxy.py\")"
   ]
  },
  {
   "cell_type": "code",
   "execution_count": 4,
   "metadata": {},
   "outputs": [
    {
     "data": {
      "text/plain": [
       "200"
      ]
     },
     "execution_count": 4,
     "metadata": {},
     "output_type": "execute_result"
    }
   ],
   "source": [
    "n.status_code"
   ]
  },
  {
   "cell_type": "code",
   "execution_count": 6,
   "metadata": {},
   "outputs": [
    {
     "data": {
      "text/plain": [
       "'import abc\\nfrom typing import (\\n    Any\\n)\\n\\n\\nclass Proxy:\\n    \"\"\"代理.\\n\\n    用于作为占位符,在初始化后本身没有任何功能,但为其指定一个被代理对象后就可以通过访问代理来访问对象的内容了.\\n\\n    本代码来自peewee中的代理实现,个人认为非常简练好用,其意义在于:\\n    1. 屏蔽对对象直接的写操作,避免对象被篡改\\n    2. 重写__getattr__以提供一定的访问控制\\n\\n    用法:\\n\\n    >>> p = Proxy()\\n    >>> class A:\\n    ...     x=1\\n    ...     y=2\\n    >>> a = A()\\n    >>> p.attach_callback(lambda x: print(x.x**2))\\n    >>> p.attach_callback(lambda x: print(x.y**2))\\n    >>> p.initialize(a)\\n    1\\n    4\\n    >>> print(p.x)\\n    1\\n\\n    protected:\\n        _callbacks (List[function]): 保存要在调用了`initialize`后执行的回调函数,回调函数的参数都是`initialize`的参数.\\n\\n    \"\"\"\\n\\n    __slots__ = (\\'obj\\', \\'_callbacks\\')\\n\\n    def __init__(self):\\n        self._callbacks = []\\n        self.initialize(None)\\n\\n    def initialize(self, obj: Any):\\n        \"\"\"[summary]\\n\\n        Args:\\n            obj ([type]): [description]\\n        \"\"\"\\n\\n        self.obj = obj\\n        for callback in self._callbacks:\\n            callback(obj)\\n\\n    def attach_callback(self, callback):\\n        self._callbacks.append(callback)\\n\\n    def __getattr__(self, attr):\\n        if self.obj is None:\\n            raise AttributeError(\\'Cannot use uninitialized Proxy.\\')\\n        return getattr(self.obj, attr)\\n\\n    def __setattr__(self, attr, value):\\n        if attr not in self.__slots__:\\n            raise AttributeError(\\'Cannot set attribute on proxy.\\')\\n        return super().__setattr__(attr, value)\\n\\n\\n__all__=[\"Proxy\"]\\n\\nif __name__ == \\'__main__\\':\\n    import doctest\\n    doctest.testmod()\\n'"
      ]
     },
     "execution_count": 6,
     "metadata": {},
     "output_type": "execute_result"
    }
   ],
   "source": [
    "n.content.decode(\"utf-8\")"
   ]
  },
  {
   "cell_type": "code",
   "execution_count": 1,
   "metadata": {},
   "outputs": [],
   "source": [
    "import sys\n",
    "import importlib.abc\n",
    "import imp\n",
    "import requests\n",
    "\n",
    "\n",
    "# Module Loader for a URL\n",
    "class UrlModuleLoader(importlib.abc.SourceLoader):\n",
    "    def __init__(self, baseurl):\n",
    "        self._baseurl = baseurl\n",
    "        self._source_cache = {}\n",
    "    \n",
    "    def create_module(self,spec):\n",
    "        \"\"\"这边只要调用父类的实现即可.\"\"\"\n",
    "        code = self.get_code(spec.name)\n",
    "        mod = sys.modules.setdefault(spec.name, imp.new_module(fullname))\n",
    "        mod.__file__ = self.get_filename(fullname)\n",
    "        mod.__loader__ = self\n",
    "        mod.__package__ = spec.name.rpartition('.')[0]\n",
    "        exec(code, mod.__dict__)\n",
    "        return mod\n",
    "\n",
    "    def exec_module (self, module):\n",
    "        \"\"\"在_post_import_hooks中查找对应模块中的回调函数并执行.\"\"\"\n",
    "        return module\n",
    "\n",
    "    # Optional extensions\n",
    "    def get_code(self, fullname):\n",
    "        src = self.get_source(fullname)\n",
    "        return compile(src, self.get_filename(fullname), 'exec')\n",
    "\n",
    "    def get_data(self, path):\n",
    "        pass\n",
    "\n",
    "    def get_filename(self, fullname):\n",
    "        return self._baseurl + '/' + fullname.split('.')[-1] + '.py'\n",
    "    return self._baseurl + '/' + '__init__.py'\n",
    "\n",
    "    def get_source(self, fullname):\n",
    "        filename = self.get_filename(fullname)\n",
    "\n",
    "        if filename in self._source_cache:\n",
    "\n",
    "            return self._source_cache[filename]\n",
    "        try:\n",
    "            u = requests.get(filename)\n",
    "        except Exception as e:\n",
    "            raise ImportError(\"Can't load %s\" % filename)\n",
    "        if u.status_code == 200:\n",
    "            source = u.content.decode(\"utf-8\")\n",
    "            self._source_cache[filename] = source\n",
    "            return source\n",
    "        else:\n",
    "            raise ImportError(\"Can't load %s\" % filename)\n",
    "            \n",
    "    def is_package(self, fullname):\n",
    "        return False\n",
    "\n",
    "# Package loader for a URL\n",
    "class UrlPackageLoader(UrlModuleLoader):\n",
    "\n",
    "    def create_module(self,spec):\n",
    "        \"\"\"这边只要调用父类的实现即可.\"\"\"\n",
    "        mod = super().create_module(spec)\n",
    "        mod.__path__ = [ self._baseurl ]\n",
    "        mod.__package__ = fullname\n",
    "        return mod\n",
    "\n",
    "    def exec_module (self, module):\n",
    "        \"\"\"在_post_import_hooks中查找对应模块中的回调函数并执行.\"\"\"\n",
    "        return module\n",
    "\n",
    "    def get_filename(self, fullname):\n",
    "        return self._baseurl + '/' + '__init__.py'\n",
    "\n",
    "    def is_package(self, fullname):\n",
    "        return True\n",
    "    \n",
    "    \n",
    "\n",
    "class UrlMetaFinder(importlib.abc.MetaPathFinder):\n",
    "    def __init__(self, baseurl):\n",
    "        self._baseurl = baseurl\n",
    "        self._links = { }\n",
    "        self._loaders = { baseurl : UrlModuleLoader(baseurl) }\n",
    "\n",
    "    def find_spec (self, full_name, paths=None, target=None):\n",
    "        if paths is None:\n",
    "            baseurl = self._baseurl\n",
    "        else:\n",
    "            if not paths[0].startswith(self._baseurl):\n",
    "                return None\n",
    "            baseurl = paths[0]\n",
    "        parts = full_name.split('.')\n",
    "        basename = parts[-1]\n",
    "\n",
    "        # Check link cache\n",
    "        if basename not in self._links:\n",
    "            self._links[baseurl] = _get_links(baseurl)\n",
    "\n",
    "        # Check if it's a package\n",
    "        if basename in self._links[baseurl]:\n",
    "            fullurl = self._baseurl + '/' + basename\n",
    "            # Attempt to load the package (which accesses __init__.py)\n",
    "            loader = UrlPackageLoader(fullurl)\n",
    "            spec = ModuleSpec(full_name, loader, origin=paths)\n",
    "#             try:\n",
    "#                 loader.load_module(fullname)\n",
    "#                 self._links[fullurl] = _get_links(fullurl)\n",
    "#                 self._loaders[fullurl] = UrlModuleLoader(fullurl)\n",
    "#             except ImportError as e:\n",
    "#                 loader = None\n",
    "            return spec\n",
    "        # A normal module\n",
    "        filename = basename + '.py'\n",
    "        if filename in self._links[baseurl]:\n",
    "            return self._loaders[baseurl]\n",
    "        else:\n",
    "            return None\n",
    "\n",
    "    def invalidate_caches(self):\n",
    "        self._links.clear()\n",
    "\n",
    "\n",
    "\n",
    "# Utility functions for installing/uninstalling the loader\n",
    "_installed_meta_cache = { }\n",
    "def install_meta(address):\n",
    "    if address not in _installed_meta_cache:\n",
    "        finder = UrlMetaFinder(address)\n",
    "        _installed_meta_cache[address] = finder\n",
    "        sys.meta_path.append(finder)\n",
    "\n",
    "def remove_meta(address):\n",
    "    if address in _installed_meta_cache:\n",
    "        finder = _installed_meta_cache.pop(address)\n",
    "        sys.meta_path.remove(finder)"
   ]
  },
  {
   "cell_type": "code",
   "execution_count": 2,
   "metadata": {},
   "outputs": [],
   "source": [
    "install_meta('https://raw.githubusercontent.com/Python-Tools/pypartten/master/pypartten')"
   ]
  },
  {
   "cell_type": "code",
   "execution_count": 3,
   "metadata": {},
   "outputs": [
    {
     "ename": "ModuleNotFoundError",
     "evalue": "No module named 'proxy'",
     "output_type": "error",
     "traceback": [
      "\u001b[0;31m---------------------------------------------------------------------------\u001b[0m",
      "\u001b[0;31mModuleNotFoundError\u001b[0m                       Traceback (most recent call last)",
      "\u001b[0;32m<ipython-input-3-e05477524d2d>\u001b[0m in \u001b[0;36m<module>\u001b[0;34m()\u001b[0m\n\u001b[0;32m----> 1\u001b[0;31m \u001b[0;32mimport\u001b[0m \u001b[0mproxy\u001b[0m\u001b[0;34m\u001b[0m\u001b[0m\n\u001b[0m",
      "\u001b[0;31mModuleNotFoundError\u001b[0m: No module named 'proxy'"
     ]
    }
   ],
   "source": [
    "import proxy"
   ]
  },
  {
   "cell_type": "code",
   "execution_count": null,
   "metadata": {},
   "outputs": [],
   "source": []
  },
  {
   "cell_type": "code",
   "execution_count": null,
   "metadata": {},
   "outputs": [],
   "source": []
  },
  {
   "cell_type": "code",
   "execution_count": null,
   "metadata": {},
   "outputs": [],
   "source": []
  },
  {
   "cell_type": "code",
   "execution_count": null,
   "metadata": {},
   "outputs": [],
   "source": []
  },
  {
   "cell_type": "code",
   "execution_count": null,
   "metadata": {},
   "outputs": [],
   "source": []
  }
 ],
 "metadata": {
  "kernelspec": {
   "display_name": "Python 3",
   "language": "python",
   "name": "python3"
  },
  "language_info": {
   "codemirror_mode": {
    "name": "ipython",
    "version": 3
   },
   "file_extension": ".py",
   "mimetype": "text/x-python",
   "name": "python",
   "nbconvert_exporter": "python",
   "pygments_lexer": "ipython3",
   "version": "3.6.4"
  }
 },
 "nbformat": 4,
 "nbformat_minor": 2
}
