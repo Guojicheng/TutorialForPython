{
 "cells": [
  {
   "cell_type": "markdown",
   "metadata": {
    "collapsed": true
   },
   "source": [
    "# 客户端服务器结构\n",
    "\n",
    "客户端服务器结构是最常见的网络通讯结构,无论是http网站,网游,基本都是使用这个结构,它的特点是一个服务器主机可以同时和多个客户端主机交互,为客户端提供统一的功能.\n",
    "\n",
    "TCP协议的一般分为长连接和短链接,一般来说短链接就是:\n",
    "\n",
    "建立连接->请求->响应->关闭连接\n",
    "\n",
    "而长连接就是:\n",
    "\n",
    "建立连接-> 请求->响应->请求->响应....->关闭连接\n",
    "\n",
    "比如http协议就是短连接协议,而像mongodb,mysql这样的数据库协议一般都提供长连接协议和短链接协议两种.\n",
    "\n",
    "短链接比较好控制,但每次都要建立连接就比较消耗性能;而长连接不用频繁建立连接可以更加高效,但管理维护起来也更加麻烦."
   ]
  },
  {
   "cell_type": "markdown",
   "metadata": {},
   "source": [
    "## 短链接\n",
    "\n",
    "我们定义一个这样的简单应用层协议:\n",
    "\n",
    "1. 使用短链接,且由客户端主动断开连接\n",
    "2. 传输的数据第一位为a,b,c,而后面则是一个数必须为一个数.\n",
    "3. 响应为第一位d,后面为传入数的平方,立方,4次方,对应a,b,c3个第一位的请求\n",
    "\n",
    "### 服务端协议实现"
   ]
  },
  {
   "cell_type": "code",
   "execution_count": 1,
   "metadata": {
    "collapsed": false
   },
   "outputs": [
    {
     "name": "stdout",
     "output_type": "stream",
     "text": [
      "Overwriting short_server.py\n"
     ]
    }
   ],
   "source": [
    "%%writefile short_server.py\n",
    "import asyncio\n",
    "class MyServerProtocol(asyncio.Protocol):\n",
    "    HANDLERS = {\n",
    "        \"a\":lambda x:x**2,\n",
    "        \"b\":lambda x:x*x*x,\n",
    "        \"c\":lambda x:x*x*x*x,\n",
    "        \"d\":lambda x:x,\n",
    "    }\n",
    "    \n",
    "    def connection_made(self, transport):\n",
    "        peername = transport.get_extra_info('peername')\n",
    "        print('Connection from {}'.format(peername))\n",
    "        self.transport = transport\n",
    "        \n",
    "        \n",
    "    def _decoder(self,data):\n",
    "        message = data.decode()\n",
    "        result = self.HANDLERS.get(message[0])(float(message[1:]))\n",
    "        return result\n",
    "    \n",
    "    def _encoder(self,query,num):\n",
    "        message = query+str(num)\n",
    "        return message.encode()\n",
    "\n",
    "    def data_received(self, data):\n",
    "        result =self._decoder(data)\n",
    "        self.transport.write(self._encoder(\"d\",result))\n",
    "        \n",
    "    def connection_lost(self, exc):\n",
    "        print('The client closed the connection')\n",
    "\n",
    "if __name__==\"__main__\":\n",
    "    loop = asyncio.get_event_loop()\n",
    "    # Each client connection will create a new protocol instance\n",
    "    coro = loop.create_server(MyServerProtocol, '127.0.0.1', 5000)\n",
    "    server = loop.run_until_complete(coro)\n",
    "\n",
    "    # Serve requests until Ctrl+C is pressed\n",
    "    print('Serving on {}'.format(server.sockets[0].getsockname()))\n",
    "    try:\n",
    "        loop.run_forever()\n",
    "    except KeyboardInterrupt:\n",
    "        pass\n",
    "\n",
    "    # Close the server\n",
    "    server.close()"
   ]
  },
  {
   "cell_type": "markdown",
   "metadata": {},
   "source": [
    "### 客户端协议实现"
   ]
  },
  {
   "cell_type": "code",
   "execution_count": 2,
   "metadata": {
    "collapsed": false
   },
   "outputs": [
    {
     "name": "stdout",
     "output_type": "stream",
     "text": [
      "Connection from ('127.0.0.1', 5000)\n",
      "4.0\n",
      "Connection from ('127.0.0.1', 5000)\n",
      "8.0\n"
     ]
    }
   ],
   "source": [
    "import asyncio\n",
    "from functools import partial\n",
    "\n",
    "class MyClientProtocol(asyncio.Protocol):\n",
    "    HANDLERS = {\n",
    "        \"a\":lambda x:x**2,\n",
    "        \"b\":lambda x:x*x*x,\n",
    "        \"c\":lambda x:x*x*x*x,\n",
    "        \"d\":lambda x:x,\n",
    "    }\n",
    "    def __init__(self,loop=None):\n",
    "        self.loop = loop or asyncio.get_event_loop()\n",
    "        self.result = loop.create_future()\n",
    "    \n",
    "    def connection_made(self, transport):\n",
    "        peername = transport.get_extra_info('peername')\n",
    "        print('Connection to {}'.format(peername))\n",
    "        self.transport = transport\n",
    "        \n",
    "        \n",
    "    def _decoder(self,data):\n",
    "        message = data.decode()\n",
    "        result = self.HANDLERS.get(message[0])(float(message[1:]))\n",
    "        return result\n",
    "    \n",
    "    def _encoder(self,query,num):\n",
    "        message = query+str(num)\n",
    "        return message.encode()\n",
    "\n",
    "    def data_received(self, data):\n",
    "        result =self._decoder(data)\n",
    "        self.result.set_result(result)\n",
    "        self.transport.close()\n",
    "        \n",
    "        \n",
    "\n",
    "class Client:\n",
    "    @staticmethod\n",
    "    async def square(number,*,host= '127.0.0.1',port=5000,loop=None):\n",
    "        \n",
    "        prot_fac = partial(MyClientProtocol,loop=loop)\n",
    "        tra, pro = await loop.create_connection(prot_fac,host=host,port=port)\n",
    "        tra.write(pro._encoder(\"a\",number))\n",
    "        return await pro.result\n",
    "        \n",
    "        \n",
    "    @staticmethod\n",
    "    async def cube(number,*,host= '127.0.0.1',port=5000,loop=None):\n",
    "        prot_fac = partial(MyClientProtocol,loop=loop)\n",
    "        tra, pro = await loop.create_connection(prot_fac,host=host,port=port)\n",
    "        tra.write(pro._encoder(\"b\",number))\n",
    "        return await pro.result\n",
    "    \n",
    "    @staticmethod\n",
    "    async def four_square(number,*,host= '127.0.0.1',port=5000,loop=None):\n",
    "        prot_fac = partial(MyClientProtocol,loop=loop)\n",
    "        tra, pro = await loop.create_connection(prot_fac,host=host,port=port)\n",
    "        tra.write(pro._encoder(\"c\",number))\n",
    "        return await pro.result\n",
    "    \n",
    "async def main(loop):\n",
    "    print(await Client.square(2,loop=loop))\n",
    "    print(await Client.cube(2,loop=loop))\n",
    "    \n",
    "loop = asyncio.get_event_loop()\n",
    "loop.run_until_complete(main(loop))"
   ]
  },
  {
   "cell_type": "markdown",
   "metadata": {},
   "source": [
    "上面的例子是最简单的一个原型实现,没有做任何异常处理的工作.\n",
    "\n",
    "通常来说协议类比较适合写这种短链接的服务器和客户端,因为压根没用到tcp协议面向流的特性."
   ]
  },
  {
   "cell_type": "markdown",
   "metadata": {},
   "source": [
    "## 长连接\n",
    "\n",
    "长连接和适合用于需要维护用户状态的服务,也适合那种同一客户端频繁访问的服务.通常网络游戏就都是使用的长连接.接下来我们试着写一个最简单的网络游戏---猜拳.\n",
    "\n",
    "游戏规则:\n",
    "\n"
   ]
  },
  {
   "cell_type": "code",
   "execution_count": null,
   "metadata": {
    "collapsed": true
   },
   "outputs": [],
   "source": []
  },
  {
   "cell_type": "code",
   "execution_count": null,
   "metadata": {
    "collapsed": true
   },
   "outputs": [],
   "source": []
  },
  {
   "cell_type": "code",
   "execution_count": null,
   "metadata": {
    "collapsed": true
   },
   "outputs": [],
   "source": []
  },
  {
   "cell_type": "markdown",
   "metadata": {},
   "source": [
    "### 客户端协议实现"
   ]
  },
  {
   "cell_type": "code",
   "execution_count": null,
   "metadata": {
    "collapsed": true
   },
   "outputs": [],
   "source": [
    "class LongClient:\n",
    "     HANDLERS = {\n",
    "        \"a\":lambda x:x**2,\n",
    "        \"b\":lambda x:x*x*x,\n",
    "        \"c\":lambda x:x*x*x*x,\n",
    "        \"d\":lambda x:x,\n",
    "    }\n",
    "    \n",
    "    def __init__(self,loop):\n",
    "        self.loop=loop\n",
    "        \n",
    "    def _decoder(self,data):\n",
    "        message = data.decode()\n",
    "        result = self.HANDLERS.get(message[0])(message[1:])\n",
    "        return result\n",
    "    \n",
    "    def _encoder(self,query,num):\n",
    "        message = query+str(num)\n",
    "        return message.encode()\n",
    "        \n",
    "    async def __aenter__(self):\n",
    "        print('entering context')\n",
    "        await self.connect()\n",
    "        return self\n",
    "\n",
    "    async def __aexit__(self, exc_type, exc, tb):\n",
    "        print('exit context')\n",
    "        self.close()\n",
    "        \n",
    "    async def connect(self):\n",
    "        self.reader,self.writer = await asyncio.open_connection(host=\"0.0.0.0\", port=5000,loop=self.loop)\n",
    "        \n",
    "    async def close(self):\n",
    "        self.writer.close()\n",
    "        \n",
    "    async def square(self,number):\n",
    "        self.writer.write(self._encoder(\"a\",number))\n",
    "        await self.writer.drain()"
   ]
  }
 ],
 "metadata": {
  "kernelspec": {
   "display_name": "Python 3",
   "language": "python",
   "name": "python3"
  },
  "language_info": {
   "codemirror_mode": {
    "name": "ipython",
    "version": 3
   },
   "file_extension": ".py",
   "mimetype": "text/x-python",
   "name": "python",
   "nbconvert_exporter": "python",
   "pygments_lexer": "ipython3",
   "version": "3.6.0"
  }
 },
 "nbformat": 4,
 "nbformat_minor": 2
}
