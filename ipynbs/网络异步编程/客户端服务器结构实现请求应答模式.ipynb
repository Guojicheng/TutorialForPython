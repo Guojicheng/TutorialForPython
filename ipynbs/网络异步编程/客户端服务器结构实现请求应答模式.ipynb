{
 "cells": [
  {
   "cell_type": "markdown",
   "metadata": {
    "collapsed": true
   },
   "source": [
    "# 客户端服务器结构\n",
    "\n",
    "客户端服务器结构是最常见的网络通讯结构,无论是http网站,网游,基本都是使用这个结构,它的特点是一个服务器主机可以同时和多个客户端主机交互,为客户端提供统一的功能.\n",
    "\n",
    "TCP协议的一般分为长连接和短链接,一般来说短链接就是:\n",
    "\n",
    "建立连接->请求->响应->关闭连接\n",
    "\n",
    "而长连接就是:\n",
    "\n",
    "建立连接-> 请求->响应->请求->响应....->关闭连接\n",
    "\n",
    "比如http协议就是短连接协议,而像mongodb,mysql这样的数据库协议一般都提供长连接协议和短链接协议两种.\n",
    "\n",
    "短链接比较好控制,但每次都要建立连接就比较消耗性能;而长连接不用频繁建立连接可以更加高效,但管理维护起来也更加麻烦."
   ]
  },
  {
   "cell_type": "markdown",
   "metadata": {},
   "source": [
    "## 短链接\n",
    "\n",
    "我们定义一个这样的简单应用层协议:\n",
    "\n",
    "1. 使用短链接,且由客户端主动断开连接\n",
    "2. 传输的数据第一位为a,b,c,而后面则是一个数必须为一个数.\n",
    "3. 响应为第一位d,后面为传入数的平方,立方,4次方,对应a,b,c3个第一位的请求\n",
    "\n",
    "### 服务端协议实现"
   ]
  },
  {
   "cell_type": "code",
   "execution_count": 1,
   "metadata": {},
   "outputs": [
    {
     "name": "stdout",
     "output_type": "stream",
     "text": [
      "Overwriting short_server.py\n"
     ]
    }
   ],
   "source": [
    "%%writefile short_server.py\n",
    "import asyncio\n",
    "class MyServerProtocol(asyncio.Protocol):\n",
    "    HANDLERS = {\n",
    "        \"a\":lambda x:x**2,\n",
    "        \"b\":lambda x:x*x*x,\n",
    "        \"c\":lambda x:x*x*x*x,\n",
    "        \"d\":lambda x:x,\n",
    "    }\n",
    "    \n",
    "    def connection_made(self, transport):\n",
    "        peername = transport.get_extra_info('peername')\n",
    "        print('Connection from {}'.format(peername))\n",
    "        self.transport = transport\n",
    "        \n",
    "        \n",
    "    def _decoder(self,data):\n",
    "        message = data.decode()\n",
    "        result = self.HANDLERS.get(message[0])(float(message[1:]))\n",
    "        return result\n",
    "    \n",
    "    def _encoder(self,query,num):\n",
    "        message = query+str(num)\n",
    "        return message.encode()\n",
    "\n",
    "    def data_received(self, data):\n",
    "        result =self._decoder(data)\n",
    "        self.transport.write(self._encoder(\"d\",result))\n",
    "        \n",
    "    def connection_lost(self, exc):\n",
    "        print('The client closed the connection')\n",
    "\n",
    "if __name__==\"__main__\":\n",
    "    loop = asyncio.get_event_loop()\n",
    "    # Each client connection will create a new protocol instance\n",
    "    coro = loop.create_server(MyServerProtocol, '127.0.0.1', 5000)\n",
    "    server = loop.run_until_complete(coro)\n",
    "\n",
    "    # Serve requests until Ctrl+C is pressed\n",
    "    print('Serving on {}'.format(server.sockets[0].getsockname()))\n",
    "    try:\n",
    "        loop.run_forever()\n",
    "    except KeyboardInterrupt:\n",
    "        pass\n",
    "\n",
    "    # Close the server\n",
    "    server.close()"
   ]
  },
  {
   "cell_type": "markdown",
   "metadata": {},
   "source": [
    "### 客户端协议实现"
   ]
  },
  {
   "cell_type": "code",
   "execution_count": 2,
   "metadata": {},
   "outputs": [
    {
     "name": "stdout",
     "output_type": "stream",
     "text": [
      "Connection from ('127.0.0.1', 5000)\n",
      "4.0\n",
      "Connection from ('127.0.0.1', 5000)\n",
      "8.0\n"
     ]
    }
   ],
   "source": [
    "import asyncio\n",
    "from functools import partial\n",
    "\n",
    "class MyClientProtocol(asyncio.Protocol):\n",
    "    HANDLERS = {\n",
    "        \"a\":lambda x:x**2,\n",
    "        \"b\":lambda x:x*x*x,\n",
    "        \"c\":lambda x:x*x*x*x,\n",
    "        \"d\":lambda x:x,\n",
    "    }\n",
    "    def __init__(self,loop=None):\n",
    "        self.loop = loop or asyncio.get_event_loop()\n",
    "        self.result = loop.create_future()\n",
    "    \n",
    "    def connection_made(self, transport):\n",
    "        peername = transport.get_extra_info('peername')\n",
    "        print('Connection to {}'.format(peername))\n",
    "        self.transport = transport\n",
    "        \n",
    "        \n",
    "    def _decoder(self,data):\n",
    "        message = data.decode()\n",
    "        result = self.HANDLERS.get(message[0])(float(message[1:]))\n",
    "        return result\n",
    "    \n",
    "    def _encoder(self,query,num):\n",
    "        message = query+str(num)\n",
    "        return message.encode()\n",
    "\n",
    "    def data_received(self, data):\n",
    "        result =self._decoder(data)\n",
    "        self.result.set_result(result)\n",
    "        self.transport.close()\n",
    "        \n",
    "        \n",
    "\n",
    "class Client:\n",
    "    @staticmethod\n",
    "    async def square(number,*,host= '127.0.0.1',port=5000,loop=None):\n",
    "        \n",
    "        prot_fac = partial(MyClientProtocol,loop=loop)\n",
    "        tra, pro = await loop.create_connection(prot_fac,host=host,port=port)\n",
    "        tra.write(pro._encoder(\"a\",number))\n",
    "        return await pro.result\n",
    "        \n",
    "        \n",
    "    @staticmethod\n",
    "    async def cube(number,*,host= '127.0.0.1',port=5000,loop=None):\n",
    "        prot_fac = partial(MyClientProtocol,loop=loop)\n",
    "        tra, pro = await loop.create_connection(prot_fac,host=host,port=port)\n",
    "        tra.write(pro._encoder(\"b\",number))\n",
    "        return await pro.result\n",
    "    \n",
    "    @staticmethod\n",
    "    async def four_square(number,*,host= '127.0.0.1',port=5000,loop=None):\n",
    "        prot_fac = partial(MyClientProtocol,loop=loop)\n",
    "        tra, pro = await loop.create_connection(prot_fac,host=host,port=port)\n",
    "        tra.write(pro._encoder(\"c\",number))\n",
    "        return await pro.result\n",
    "    \n",
    "async def main(loop):\n",
    "    print(await Client.square(2,loop=loop))\n",
    "    print(await Client.cube(2,loop=loop))\n",
    "    \n",
    "loop = asyncio.get_event_loop()\n",
    "loop.run_until_complete(main(loop))"
   ]
  },
  {
   "cell_type": "markdown",
   "metadata": {},
   "source": [
    "上面的例子是最简单的一个原型实现,没有做任何异常处理的工作.\n",
    "\n",
    "通常来说协议类比较适合写这种短链接的服务器和客户端,因为压根没用到tcp协议面向流的特性."
   ]
  },
  {
   "cell_type": "markdown",
   "metadata": {},
   "source": [
    "## 长连接\n",
    "\n",
    "长连接和适合用于需要维护用户状态的服务,也适合那种同一客户端频繁访问的服务.通常网络游戏就都是使用的长连接.\n",
    "\n",
    "因为是处理流所以交互就需要知道流中哪一段是请求哪一段是响应,通常有两种方式:\n",
    "\n",
    "+ 使用帧\n",
    "\n",
    "    规定一段最小的字节流长度为一帧,比如说10个字符算一帧,而所有的操作都必须编码到这10个字符序列中.这种方式高效稳定但可读性较差.正规协议往往使用这种方式\n",
    "    \n",
    "+ 使用标识符字节串\n",
    "\n",
    "    另一种方式是规定每条指令以某个特定的字节串结尾,比如都用`##END##`每次读取数据就读到这个标识符就把它作为一个指令.这种方式是相对可读性强些,但这样一来这种字节串本身就补能用于传输了.\n",
    "\n",
    "接下来我们试着写一个最简单的网络游戏---猜拳.\n",
    "\n",
    "游戏规则:\n",
    "\n",
    "+ 通过房间确定参与者双方,房间要有创建,加入,退出操作\n",
    "+ 比赛分为动作阶段和结果阶段,动作阶段持续30s\n",
    "+ 如果有有一方30s内没有动作就判为输且没有动作的一方自动退出房间\n",
    "+ 如果双方30s内都没有动作就都自动退出房间\n",
    "+ 石头>剪刀,剪刀>布,布>石头,以此作为标准判断30s内都有动作的话的结果,\n",
    "\n",
    "\n",
    "协议内容:\n",
    "\n",
    "+ 使用长连接\n",
    "+ 规定一帧为1个字节,而所有操作按照如下编码方式来:\n",
    "    \n",
    "    + 动作:\n",
    "        + a代表创建房间\n",
    "        + b代表加入房间\n",
    "        + c代表退出房间\n",
    "        + d代表退出游戏\n",
    "    \n",
    "    + 指令:\n",
    "        + 1代表剪刀\n",
    "        + 2代表石头\n",
    "        + 3代表布\n",
    "    \n",
    "    + 结果:\n",
    "        + x代表被系统请出房间\n",
    "        + y代表获胜\n",
    "        + z代表失败\n",
    "\n"
   ]
  },
  {
   "cell_type": "markdown",
   "metadata": {
    "collapsed": true
   },
   "source": [
    "### 服务器实现\n",
    "\n",
    "长连接就比较适合使用读写流来实现了.这边使用`StreamReaderProtocol`作为父类做个示范"
   ]
  },
  {
   "cell_type": "code",
   "execution_count": null,
   "metadata": {
    "collapsed": true
   },
   "outputs": [],
   "source": [
    "%%writefile\n",
    "\n",
    "import asyncio\n",
    "\n",
    "class "
   ]
  },
  {
   "cell_type": "code",
   "execution_count": null,
   "metadata": {
    "collapsed": true
   },
   "outputs": [],
   "source": []
  },
  {
   "cell_type": "markdown",
   "metadata": {},
   "source": [
    "### 客户端协议实现"
   ]
  },
  {
   "cell_type": "code",
   "execution_count": null,
   "metadata": {
    "collapsed": true
   },
   "outputs": [],
   "source": [
    "class LongClient:\n",
    "     HANDLERS = {\n",
    "        \"a\":lambda x:x**2,\n",
    "        \"b\":lambda x:x*x*x,\n",
    "        \"c\":lambda x:x*x*x*x,\n",
    "        \"d\":lambda x:x,\n",
    "    }\n",
    "    \n",
    "    def __init__(self,loop):\n",
    "        self.loop=loop\n",
    "        \n",
    "    def _decoder(self,data):\n",
    "        message = data.decode()\n",
    "        result = self.HANDLERS.get(message[0])(message[1:])\n",
    "        return result\n",
    "    \n",
    "    def _encoder(self,query,num):\n",
    "        message = query+str(num)\n",
    "        return message.encode()\n",
    "        \n",
    "    async def __aenter__(self):\n",
    "        print('entering context')\n",
    "        await self.connect()\n",
    "        return self\n",
    "\n",
    "    async def __aexit__(self, exc_type, exc, tb):\n",
    "        print('exit context')\n",
    "        self.close()\n",
    "        \n",
    "    async def connect(self):\n",
    "        self.reader,self.writer = await asyncio.open_connection(host=\"0.0.0.0\", port=5000,loop=self.loop)\n",
    "        \n",
    "    async def close(self):\n",
    "        self.writer.close()\n",
    "        \n",
    "    async def square(self,number):\n",
    "        self.writer.write(self._encoder(\"a\",number))\n",
    "        await self.writer.drain()"
   ]
  }
 ],
 "metadata": {
  "kernelspec": {
   "display_name": "Python 3",
   "language": "python",
   "name": "python3"
  },
  "language_info": {
   "codemirror_mode": {
    "name": "ipython",
    "version": 3
   },
   "file_extension": ".py",
   "mimetype": "text/x-python",
   "name": "python",
   "nbconvert_exporter": "python",
   "pygments_lexer": "ipython3",
   "version": "3.6.0"
  }
 },
 "nbformat": 4,
 "nbformat_minor": 2
}
