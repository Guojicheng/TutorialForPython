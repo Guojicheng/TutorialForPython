{
 "cells": [
  {
   "cell_type": "code",
   "execution_count": 1,
   "metadata": {
    "collapsed": false
   },
   "outputs": [
    {
     "name": "stdout",
     "output_type": "stream",
     "text": [
      "Worker steve got task 1\n",
      "Worker john got task 2\n",
      "Worker nancy got task 3\n",
      "Worker steve got task 4\n",
      "Worker john got task 5\n",
      "Worker nancy got task 6\n",
      "Worker steve got task 7\n",
      "Worker john got task 8\n",
      "Worker nancy got task 9\n",
      "Worker steve got task 10\n",
      "Worker john got task 11\n",
      "Worker nancy got task 12\n",
      "Worker steve got task 13\n",
      "Worker john got task 14\n",
      "Worker nancy got task 15\n",
      "Worker steve got task 16\n",
      "Worker john got task 17\n",
      "Worker nancy got task 18\n",
      "Worker steve got task 19\n",
      "Worker john got task 20\n",
      "Worker nancy got task 21\n",
      "Worker steve got task 22\n",
      "Worker john got task 23\n",
      "Worker nancy got task 24\n",
      "Quitting time!\n",
      "Quitting time!\n",
      "Quitting time!\n"
     ]
    }
   ],
   "source": [
    "import gevent\n",
    "from gevent.queue import Queue\n",
    "\n",
    "tasks = Queue()\n",
    "\n",
    "def worker(n):\n",
    "    while not tasks.empty():\n",
    "        task = tasks.get()\n",
    "        print('Worker %s got task %s' % (n, task))\n",
    "        gevent.sleep(0)\n",
    "\n",
    "    print('Quitting time!')\n",
    "\n",
    "def boss():\n",
    "    for i in xrange(1,25):\n",
    "        tasks.put_nowait(i)\n",
    "\n",
    "gevent.spawn(boss).join()\n",
    "\n",
    "gevent.joinall([\n",
    "    gevent.spawn(worker, 'steve'),\n",
    "    gevent.spawn(worker, 'john'),\n",
    "    gevent.spawn(worker, 'nancy'),\n",
    "])"
   ]
  },
  {
   "cell_type": "code",
   "execution_count": 1,
   "metadata": {
    "collapsed": false
   },
   "outputs": [
    {
     "name": "stdout",
     "output_type": "stream",
     "text": [
      "A: Hey wait for me, I have to do something\n",
      "I'll wait for you\n",
      "I'll wait for you\n",
      "I'll wait for you\n",
      "I'll wait for you\n",
      "I'll wait for you\n",
      "Ok, I'm done\n",
      "It's about time\n",
      "It's about time\n",
      "It's about time\n",
      "It's about time\n",
      "It's about time\n"
     ]
    }
   ],
   "source": [
    "import gevent\n",
    "from gevent.event import Event\n",
    "\n",
    "'''\n",
    "Illustrates the use of events\n",
    "'''\n",
    "\n",
    "evt = Event()\n",
    "\n",
    "def setter():\n",
    "    '''After 3 seconds, wake all threads waiting on the value of evt'''\n",
    "    print('A: Hey wait for me, I have to do something')\n",
    "    gevent.sleep(3)\n",
    "    print(\"Ok, I'm done\")\n",
    "    evt.set()\n",
    "\n",
    "def waiter():\n",
    "    '''After 3 seconds the get call will unblock'''\n",
    "    print(\"I'll wait for you\")\n",
    "    evt.wait()  # blocking\n",
    "    print(\"It's about time\")\n",
    "\n",
    "def main():\n",
    "    gevent.joinall([\n",
    "        gevent.spawn(setter),\n",
    "        gevent.spawn(waiter),\n",
    "        gevent.spawn(waiter),\n",
    "        gevent.spawn(waiter),\n",
    "        gevent.spawn(waiter),\n",
    "        gevent.spawn(waiter)\n",
    "    ])\n",
    "\n",
    "if __name__ == '__main__': \n",
    "    main()\n"
   ]
  },
  {
   "cell_type": "code",
   "execution_count": 2,
   "metadata": {
    "collapsed": false
   },
   "outputs": [
    {
     "name": "stdout",
     "output_type": "stream",
     "text": [
      "Hello!\n"
     ]
    }
   ],
   "source": [
    "import gevent\n",
    "from gevent.event import AsyncResult\n",
    "a = AsyncResult()\n",
    "\n",
    "def setter():\n",
    "    \"\"\"\n",
    "    After 3 seconds set the result of a.\n",
    "    \"\"\"\n",
    "    gevent.sleep(3)\n",
    "    a.set('Hello!')\n",
    "\n",
    "def waiter():\n",
    "    \"\"\"\n",
    "    After 3 seconds the get call will unblock after the setter\n",
    "    puts a value into the AsyncResult.\n",
    "    \"\"\"\n",
    "    print(a.get())\n",
    "\n",
    "gevent.joinall([\n",
    "    gevent.spawn(setter),\n",
    "    gevent.spawn(waiter),\n",
    "])\n"
   ]
  },
  {
   "cell_type": "code",
   "execution_count": null,
   "metadata": {
    "collapsed": true
   },
   "outputs": [],
   "source": []
  }
 ],
 "metadata": {
  "kernelspec": {
   "display_name": "Python 2",
   "language": "python",
   "name": "python2"
  },
  "language_info": {
   "codemirror_mode": {
    "name": "ipython",
    "version": 2
   },
   "file_extension": ".py",
   "mimetype": "text/x-python",
   "name": "python",
   "nbconvert_exporter": "python",
   "pygments_lexer": "ipython2",
   "version": "2.7.11"
  }
 },
 "nbformat": 4,
 "nbformat_minor": 0
}
