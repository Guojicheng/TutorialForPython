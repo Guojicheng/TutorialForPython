{
 "cells": [
  {
   "cell_type": "markdown",
   "metadata": {},
   "source": [
    "我们的服务往往启动后如果关闭终端就会跟着关闭,这时候我们就需要把进程设置成守护进程,而[Supervisor](http://supervisord.org/)就是一个可以管理守护进程的工具.\n",
    "\n",
    "安装可以直接pip安装"
   ]
  },
  {
   "cell_type": "markdown",
   "metadata": {},
   "source": [
    "> 使用\n",
    "\n",
    "实际上supervisord是一个c/s结构的软件,我们要先来指定配置文档,\n",
    "\n",
    ",在配置文档中至少要有一个可运行的命令:\n",
    "\n",
    "    [program:foo]\n",
    "    command=/Users/huangsizhe/workspace/post/ComputerScience/CodingLanguages/Python_Total_Tutorial/常用的第三方库/系统工具/firstapp.py \n",
    "\n",
    "    \n",
    "一般的样例:\n",
    "\n",
    "    [program:bandwidth]\n",
    "    command=python26 /usr/local/bin/bandwidth.sh  ;需要执行的命令wd\n",
    "    user =root  ;默认是当前用户,如果需要可以改到root用户\n",
    "    autostart=true  ;是否在supervisord启动时自启动(default: true)\n",
    "    autorestart=true  ;可以设置是否自动重启,何时自动重启(default: unexpected)\n",
    "    startsecs=3  ;最大启动时间设置( def . 1)\n",
    "    stderr_logfile=/tmp/bandwidth_err.log  ;标准错误输出位置定向\n",
    "    stdout_logfile=/tmp/bandwidth.log  ;log输出位置定向\n",
    "    \n",
    "    \n",
    "    \n",
    "我们可以用\n",
    "\n",
    "    echo_supervisord_conf > supervisord.conf\n",
    "    \n",
    "来生成一个模板"
   ]
  },
  {
   "cell_type": "code",
   "execution_count": 18,
   "metadata": {
    "collapsed": true
   },
   "outputs": [],
   "source": [
    "!echo_supervisord_conf > supervisord.conf"
   ]
  },
  {
   "cell_type": "markdown",
   "metadata": {},
   "source": [
    "之后就可以用\n",
    "\n",
    "    supervisord -c supervisord.conf \n",
    "    \n",
    "来指定配置文档并启动了\n",
    "\n"
   ]
  },
  {
   "cell_type": "code",
   "execution_count": 19,
   "metadata": {
    "collapsed": false
   },
   "outputs": [],
   "source": [
    "!supervisord -c /Users/huangsizhe/workspace/Pythonspace/web/supervisord.conf"
   ]
  },
  {
   "cell_type": "markdown",
   "metadata": {},
   "source": [
    "于是它就开了"
   ]
  },
  {
   "cell_type": "markdown",
   "metadata": {},
   "source": [
    "> 要检测它需要用到supervisorctl这个客户端"
   ]
  },
  {
   "cell_type": "code",
   "execution_count": 23,
   "metadata": {
    "collapsed": false
   },
   "outputs": [
    {
     "name": "stdout",
     "output_type": "stream",
     "text": [
      "foo: stopped\r\n"
     ]
    }
   ],
   "source": [
    "!supervisorctl stop foo"
   ]
  }
 ],
 "metadata": {
  "kernelspec": {
   "display_name": "Python 2",
   "language": "python",
   "name": "python2"
  },
  "language_info": {
   "codemirror_mode": {
    "name": "ipython",
    "version": 2
   },
   "file_extension": ".py",
   "mimetype": "text/x-python",
   "name": "python",
   "nbconvert_exporter": "python",
   "pygments_lexer": "ipython2",
   "version": "2.7.11"
  }
 },
 "nbformat": 4,
 "nbformat_minor": 0
}
