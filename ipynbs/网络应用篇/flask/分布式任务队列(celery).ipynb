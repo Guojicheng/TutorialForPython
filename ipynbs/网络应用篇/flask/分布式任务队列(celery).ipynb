{
 "cells": [
  {
   "cell_type": "markdown",
   "metadata": {},
   "source": [
    "celery是python的分布式队列系统,它提供多线程管理追踪和集群管理功能.它的文档在[这里](http://docs.celeryproject.org/en/latest/getting-started/first-steps-with-celery.html)"
   ]
  },
  {
   "cell_type": "markdown",
   "metadata": {},
   "source": [
    "> 一个例子"
   ]
  },
  {
   "cell_type": "code",
   "execution_count": 1,
   "metadata": {
    "collapsed": false
   },
   "outputs": [
    {
     "name": "stdout",
     "output_type": "stream",
     "text": [
      "Overwriting task.py\n"
     ]
    }
   ],
   "source": [
    "%%writefile task.py\n",
    "import time\n",
    "from celery import Celery\n",
    "\n",
    "celery = Celery('tasks', broker='redis://localhost:6379/0')\n",
    "\n",
    "@celery.task\n",
    "def sendmail(mail):\n",
    "    print('sending mail to %s...' % mail['to'])\n",
    "    time.sleep(2.0)\n",
    "    print('mail sent.')"
   ]
  },
  {
   "cell_type": "markdown",
   "metadata": {
    "collapsed": false
   },
   "source": [
    "在目录下使用:\n",
    "    \n",
    "    celery -A task worker --loglevel=info"
   ]
  },
  {
   "cell_type": "code",
   "execution_count": 3,
   "metadata": {
    "collapsed": false
   },
   "outputs": [
    {
     "name": "stdout",
     "output_type": "stream",
     "text": [
      "/bin/sh: celerypypy: command not found\r\n"
     ]
    }
   ],
   "source": [
    "!celerypypy -A task worker --loglevel=info"
   ]
  },
  {
   "cell_type": "code",
   "execution_count": 4,
   "metadata": {
    "collapsed": true
   },
   "outputs": [],
   "source": [
    "from task import sendmail"
   ]
  },
  {
   "cell_type": "code",
   "execution_count": 5,
   "metadata": {
    "collapsed": false
   },
   "outputs": [
    {
     "data": {
      "text/plain": [
       "<AsyncResult: 9e106812-f185-4270-84fb-12f6539ed259>"
      ]
     },
     "execution_count": 5,
     "metadata": {},
     "output_type": "execute_result"
    }
   ],
   "source": [
    "sendmail.delay(dict(to='celery@python.org'))"
   ]
  },
  {
   "cell_type": "markdown",
   "metadata": {},
   "source": [
    "> 状态追踪"
   ]
  },
  {
   "cell_type": "markdown",
   "metadata": {},
   "source": [
    "在定义task的时候需要在装饰其中写上参数"
   ]
  },
  {
   "cell_type": "markdown",
   "metadata": {},
   "source": [
    "```python\n",
    "@celery.task(bind=True,track_started=True)\n",
    "def sendmail(self,mail):\n",
    "    print('sending mail to %s...' % mail['to'])\n",
    "    time.sleep(2.0)\n",
    "    print('mail sent.')\n",
    "```\n",
    "\n",
    "+ `bind=True` 绑定任务,这样就必须填入self作为参数,而你也可以利用self做一些针对这个task的工作方便调度\n",
    "\n",
    "+ `track_started=True` 允许追踪状态`started`"
   ]
  }
 ],
 "metadata": {
  "kernelspec": {
   "display_name": "Pypy",
   "language": "python",
   "name": "pypy"
  },
  "language_info": {
   "codemirror_mode": {
    "name": "ipython",
    "version": 2
   },
   "file_extension": ".py",
   "mimetype": "text/x-python",
   "name": "python",
   "nbconvert_exporter": "python",
   "pygments_lexer": "ipython2",
   "version": "2.7.10"
  }
 },
 "nbformat": 4,
 "nbformat_minor": 0
}
