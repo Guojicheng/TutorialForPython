{
 "cells": [
  {
   "cell_type": "markdown",
   "metadata": {},
   "source": [
    "# 异常抛出\n",
    "\n",
    "在路由控制中我们定义了对用户的怎删改查功能,但如果我们要对异常做定制要咋办呢?\n",
    "\n",
    "flask提供了重新定向和错误功能\n",
    "\n",
    "Api|说明\n",
    "---|---\n",
    "redirect()|重新定向\n",
    "abort()|放弃请求并返回错误代码\n",
    "\n",
    "如果要自定义错误输出,可以使用装饰器`render_template`来实现"
   ]
  },
  {
   "cell_type": "code",
   "execution_count": 18,
   "metadata": {
    "collapsed": false
   },
   "outputs": [
    {
     "name": "stdout",
     "output_type": "stream",
     "text": [
      "Overwriting codes/c3/app.py\n"
     ]
    }
   ],
   "source": [
    "%%writefile codes/c3/app.py\n",
    "# --*-- coding:utf-8 --*--\n",
    "from __future__ import print_function, unicode_literals, division\n",
    "\n",
    "from flask import Flask,jsonify,request,abort\n",
    "from flask.views import MethodView\n",
    "import json\n",
    "app = Flask(__name__)\n",
    "\n",
    "Userlist = []\n",
    "def inc(cls):\n",
    "    counter = {\"result\":0}\n",
    "    def wrap(*args):\n",
    "        counter[\"result\"]+=1\n",
    "        result = cls(counter[\"result\"],*args)\n",
    "        global Userlist\n",
    "        Userlist.append(result)\n",
    "        return result\n",
    "    return wrap\n",
    "@inc\n",
    "class User(object):\n",
    "    def __str__(self):\n",
    "        return \"<USER: id-{self._id}-{self.name}>\".format(self=self)\n",
    "    def __repr__(self):\n",
    "        return self.__str__()\n",
    "    def __init__(self,_id,name,password,type=\"local\"):\n",
    "        self._id=_id\n",
    "        self.name = name\n",
    "        self.password = password\n",
    "        self.type=type\n",
    "        \n",
    "        \n",
    "        \n",
    "@app.errorhandler(404)\n",
    "def page_not_found(error):\n",
    "    return jsonify({\"message\":\"404 not found\",\"code\":404}), 404\n",
    "\n",
    "class UsersAPI(MethodView):\n",
    "    \n",
    "    def get(self):\n",
    "        return jsonify({\"result\":map(lambda x:x.__str__(),Userlist)})\n",
    "        \n",
    "    def post(self):\n",
    "        data = json.loads(request.data)\n",
    "        user = User(data.get(\"name\"),data.get(\"password\"))\n",
    "        return jsonify({\"result\":\"save {name} done!\".format(name=user.name)})\n",
    "    \n",
    "class UserAPI(MethodView):\n",
    "    \n",
    "    def get(self,user_id):\n",
    "        try:\n",
    "            user = filter(lambda x:True if x._id==user_id else False,Userlist)[0]\n",
    "        except IndexError as e:\n",
    "            abort(404)\n",
    "            \n",
    "        result = {\"name\":user.name,\"password\":user.password,\"type\":user.type}\n",
    "        return jsonify({\"result\":result})\n",
    "        \n",
    "    def put(self,user_id):\n",
    "        data = request.args\n",
    "        user = filter(lambda x: True if x._id==user_id else False,Userlist)[0]\n",
    "        if request.args.get(\"name\"):\n",
    "            user.name=data.get(\"name\")\n",
    "        if request.args.get(\"password\"):\n",
    "            user.password=data.get(\"password\")\n",
    "        \n",
    "        return jsonify({\"result\":\"update {name} done!\".format(name=user_id)})    \n",
    "    def delete(self,user_id):\n",
    "        global Userlist\n",
    "        Userlist = filter(lambda x: False if x._id==user_id else True,Userlist)\n",
    "        return jsonify({\"result\":\"delete {id} done!\".format(id=user_id)})   \n",
    "        \n",
    "\n",
    "app.add_url_rule('/users/',view_func=UsersAPI.as_view('users'.encode(\"utf-8\")))\n",
    "app.add_url_rule('/user/<int:user_id>',view_func=UserAPI.as_view('user'.encode(\"utf-8\")))\n",
    "\n",
    "if __name__ == '__main__':\n",
    "    app.run(debug=True)"
   ]
  },
  {
   "cell_type": "code",
   "execution_count": 19,
   "metadata": {
    "collapsed": true
   },
   "outputs": [],
   "source": [
    "import requests\n",
    "import json"
   ]
  },
  {
   "cell_type": "code",
   "execution_count": 20,
   "metadata": {
    "collapsed": false
   },
   "outputs": [
    {
     "data": {
      "text/plain": [
       "{u'result': u'save niuniu done!'}"
      ]
     },
     "execution_count": 20,
     "metadata": {},
     "output_type": "execute_result"
    }
   ],
   "source": [
    "requests.post(\"http://127.0.0.1:5000/users/\",data = json.dumps({\"name\":\"niuniu\",\"password\":\"qwe\"}),\n",
    "              headers={'content-type': 'application/json'}).json()"
   ]
  },
  {
   "cell_type": "code",
   "execution_count": 21,
   "metadata": {
    "collapsed": false
   },
   "outputs": [
    {
     "data": {
      "text/plain": [
       "{u'result': [u'<USER: id-1-niuniu>']}"
      ]
     },
     "execution_count": 21,
     "metadata": {},
     "output_type": "execute_result"
    }
   ],
   "source": [
    "requests.get(\"http://127.0.0.1:5000/users/\").json()"
   ]
  },
  {
   "cell_type": "code",
   "execution_count": 22,
   "metadata": {
    "collapsed": false
   },
   "outputs": [
    {
     "data": {
      "text/plain": [
       "{u'code': 404, u'message': u'404 not found'}"
      ]
     },
     "execution_count": 22,
     "metadata": {},
     "output_type": "execute_result"
    }
   ],
   "source": [
    "requests.get(\"http://127.0.0.1:5000/user/2\").json()"
   ]
  }
 ],
 "metadata": {
  "kernelspec": {
   "display_name": "Python 2",
   "language": "python",
   "name": "python2"
  },
  "language_info": {
   "codemirror_mode": {
    "name": "ipython",
    "version": 2
   },
   "file_extension": ".py",
   "mimetype": "text/x-python",
   "name": "python",
   "nbconvert_exporter": "python",
   "pygments_lexer": "ipython2",
   "version": "2.7.11"
  }
 },
 "nbformat": 4,
 "nbformat_minor": 0
}
