{
 "cells": [
  {
   "cell_type": "markdown",
   "metadata": {},
   "source": [
    "# 安全与验证"
   ]
  },
  {
   "cell_type": "markdown",
   "metadata": {},
   "source": [
    "## 为你的密码加密\n",
    "\n",
    "用户密码不应该明文保存在数据库中,这样如果数据库登录权限出了问题我们还可以保住用户的密码信息,我们可以使用[`itsdangerous`](https://pythonhosted.org/itsdangerous/)来实现.\n",
    "\n",
    "我们使用`URLSafeSerializer`这个类来做密码的序列化和反序列化\n"
   ]
  },
  {
   "cell_type": "code",
   "execution_count": 1,
   "metadata": {
    "collapsed": true
   },
   "outputs": [],
   "source": [
    "from itsdangerous import URLSafeSerializer as USer"
   ]
  },
  {
   "cell_type": "code",
   "execution_count": 2,
   "metadata": {
    "collapsed": true
   },
   "outputs": [],
   "source": [
    "s1 = USer(\"secret\",salt=\"salt1\")"
   ]
  },
  {
   "cell_type": "code",
   "execution_count": 4,
   "metadata": {
    "collapsed": false
   },
   "outputs": [
    {
     "name": "stdout",
     "output_type": "stream",
     "text": [
      "Ijg4MTIzMjEi.fATSYUPXhGaeODWWVyYxGq7cNsE\n"
     ]
    }
   ],
   "source": [
    "ss = s1.dumps(\"8812321\")\n",
    "print ss"
   ]
  },
  {
   "cell_type": "code",
   "execution_count": 5,
   "metadata": {
    "collapsed": false
   },
   "outputs": [
    {
     "data": {
      "text/plain": [
       "u'8812321'"
      ]
     },
     "execution_count": 5,
     "metadata": {},
     "output_type": "execute_result"
    }
   ],
   "source": [
    "s1.loads(ss)"
   ]
  },
  {
   "cell_type": "markdown",
   "metadata": {},
   "source": [
    "我们来改造我们的用户服务"
   ]
  },
  {
   "cell_type": "code",
   "execution_count": 19,
   "metadata": {
    "collapsed": false
   },
   "outputs": [
    {
     "name": "stdout",
     "output_type": "stream",
     "text": [
      "Overwriting codes/c7/app.py\n"
     ]
    }
   ],
   "source": [
    "%%writefile codes/c7/app.py\n",
    "# --*-- coding:utf-8 --*--\n",
    "from flask import Flask,request,jsonify\n",
    "from flask_restful import Api,Resource\n",
    "import json\n",
    "from itsdangerous import URLSafeSerializer as USer\n",
    "\n",
    "app = Flask(__name__)\n",
    "api = Api(app)\n",
    "\n",
    "import os\n",
    "\n",
    "from peewee import SqliteDatabase\n",
    "db = SqliteDatabase(os.path.abspath(\"peewee_db.sqlite\"))\n",
    "from peewee import Model,CharField,DateField,BooleanField,ForeignKeyField\n",
    "class User(Model):\n",
    "    name = CharField()\n",
    "    password = CharField()\n",
    "    type = CharField(default=\"local\")\n",
    "    \n",
    "    SER = USer(\"secret\",salt=\"salt1\")\n",
    "    def __str__(self):\n",
    "        return \"<USER: id-{self.id}--name-{self.name}>\".format(self=self)\n",
    "    def __repr__(self):\n",
    "        return self.__str__()\n",
    "    \n",
    "    def verify_password(self,target):\n",
    "        return True if self.SER.loads(self.password) == target else False\n",
    "    @staticmethod\n",
    "    def hash_password(org):\n",
    "        return User.SER.dumps(org)\n",
    "    class Meta:\n",
    "        database = db # 确定使用的是哪个db,方便多种数据库配合使用\n",
    "        \n",
    "db.connect() \n",
    "try:\n",
    "    db.create_tables([User])\n",
    "except:\n",
    "    print \" * db is ready\"\n",
    "@app.errorhandler(404)\n",
    "def page_not_found(error):\n",
    "    return jsonify({\"message\":\"404 not found\",\"code\":404}), 404\n",
    "\n",
    "class UsersAPI(Resource):\n",
    "    \n",
    "    def get(self):\n",
    "        result = [user.__str__() for user in list(User.select())]\n",
    "        return {\"result\":result}\n",
    "\n",
    "    def post(self):\n",
    "        data = json.loads(request.data)\n",
    "        user = User(name = data.get(\"name\"),password =User.hash_password(data.get(\"password\"))).save()\n",
    "        return jsonify({\"result\":\"save {name} done!\".format(name=data.get(\"name\"))})\n",
    "    \n",
    "class UserAPI(Resource):\n",
    "\n",
    "    def get(self,user_id):\n",
    "        \n",
    "        user = User.get(User.id==user_id)\n",
    "        if not user:\n",
    "            abort(404)\n",
    "            \n",
    "        result = {\"name\":user.name,\"password\":user.password,\"type\":user.type}\n",
    "        return jsonify({\"result\":result})\n",
    "    \n",
    "  \n",
    "    def put(self,user_id):\n",
    "        data = request.args\n",
    "        user = User.get(User.id==user_id)\n",
    "        if request.args.get(\"name\"):\n",
    "            user.name=data.get(\"name\")\n",
    "        if request.args.get(\"password\"):\n",
    "            user.password=User.hash_password(data.get(\"password\"))\n",
    "        user.save()\n",
    "        \n",
    "        return jsonify({\"result\":\"update {name} done!\".format(name=user_id)})  \n",
    "\n",
    "    def delete(self,user_id):\n",
    "        \n",
    "        User.get(User.id==user_id).delete_instance() \n",
    "        return jsonify({\"result\":\"delete {id} done!\".format(id=user_id)})  \n",
    "    \n",
    "    \n",
    "api.add_resource(UsersAPI, '/users/')        \n",
    "api.add_resource(UserAPI, '/user/<int:user_id>')  \n",
    "\n",
    "if __name__ == '__main__':\n",
    "    app.run(debug=True)"
   ]
  },
  {
   "cell_type": "code",
   "execution_count": 9,
   "metadata": {
    "collapsed": true
   },
   "outputs": [],
   "source": [
    "import requests\n",
    "import json"
   ]
  },
  {
   "cell_type": "code",
   "execution_count": 20,
   "metadata": {
    "collapsed": false
   },
   "outputs": [
    {
     "data": {
      "text/plain": [
       "{u'result': [u'<USER: id-1--name-niuniu>']}"
      ]
     },
     "execution_count": 20,
     "metadata": {},
     "output_type": "execute_result"
    }
   ],
   "source": [
    "requests.get(\"http://127.0.0.1:5000/users/\").json()"
   ]
  },
  {
   "cell_type": "code",
   "execution_count": 16,
   "metadata": {
    "collapsed": false
   },
   "outputs": [
    {
     "data": {
      "text/plain": [
       "{u'result': u'save niuniu done!'}"
      ]
     },
     "execution_count": 16,
     "metadata": {},
     "output_type": "execute_result"
    }
   ],
   "source": [
    "requests.post(\"http://127.0.0.1:5000/users/\",data = json.dumps({\"name\":\"niuniu\",\"password\":\"qwe\"}),\n",
    "              headers={'content-type': 'application/json'}).json()"
   ]
  },
  {
   "cell_type": "code",
   "execution_count": 21,
   "metadata": {
    "collapsed": false
   },
   "outputs": [
    {
     "data": {
      "text/plain": [
       "{u'result': {u'name': u'niuniu',\n",
       "  u'password': u'InF3ZSI.3nj9apTCzTpZbqeMv5qiBEPCGPE',\n",
       "  u'type': u'local'}}"
      ]
     },
     "execution_count": 21,
     "metadata": {},
     "output_type": "execute_result"
    }
   ],
   "source": [
    "requests.get(\"http://127.0.0.1:5000/user/1\").json()"
   ]
  },
  {
   "cell_type": "markdown",
   "metadata": {},
   "source": [
    "我们的API服务的安全验证算是完成了,这个方法可以让你的用户登录信息不会暴露在外面,同时时间戳也让风险降低了许多.使用的时候步骤是这样的:\n",
    "\n",
    "先去/verify路径下提交登录信息,它会返回一个包含用户信息的token,之后每次操作的时候提交验证数据时只要第一位的user内放入token,并第二位的password放入空字符串即可,而如果password位有内容则说明是使用传统的用户密码登录.\n",
    "无论哪种方式登录,auth.me都将保存登录的用户名\n",
    "\n",
    "当然了一般来说我们需要使用数据库,这个例子中没用数据库,但改造起来很简单,有兴趣的可以尝试自己写写~"
   ]
  },
  {
   "cell_type": "markdown",
   "metadata": {},
   "source": [
    "# 总结\n",
    "\n",
    "用到的模块:\n",
    "\n",
    "包|作用\n",
    "---|---\n",
    "flask|flask web框架\n",
    "flask-restful|flask的restApi框架\n",
    "flask_httpauth|flask的http验证框架\n",
    "itsdangerous|加密及序列化模块\n",
    "datetime | 时间操作模块"
   ]
  }
 ],
 "metadata": {
  "kernelspec": {
   "display_name": "Python 2",
   "language": "python",
   "name": "python2"
  },
  "language_info": {
   "codemirror_mode": {
    "name": "ipython",
    "version": 2
   },
   "file_extension": ".py",
   "mimetype": "text/x-python",
   "name": "python",
   "nbconvert_exporter": "python",
   "pygments_lexer": "ipython2",
   "version": "2.7.11"
  }
 },
 "nbformat": 4,
 "nbformat_minor": 0
}
