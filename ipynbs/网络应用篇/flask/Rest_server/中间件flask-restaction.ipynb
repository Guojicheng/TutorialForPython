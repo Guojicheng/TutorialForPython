{
 "cells": [
  {
   "cell_type": "markdown",
   "metadata": {},
   "source": [
    "# 中间件flask-restaction\n",
    "\n",
    "flask-restful是比较老比较成熟的中间件了,而[`flask-restaction`](http://flask-restaction.readthedocs.io/zh/latest/quickstart.html)对其做了改进你并且更加优雅好用\n",
    "\n",
    "它的优势有:\n",
    "\n",
    "优势|说明\n",
    "---|---\n",
    "restaction 更灵活|restful 的方法只能是 http method，就是 get, post, put, delete 那几个，而 restaction 的方法除了 http method，还可以是任何以 http method 加下划线开头的方法。\n",
    "输入输出校验|restaction 是声明式的，简单明确,Request Parsing 很繁琐，并且不能很好的重用代码。restaction 的输出校验和输入校验差不多，不同的是可以校验自定义的 python 对象。` https://github.com/guyskk/validater#proxydict-validate-custome-type`, 而 reslful 校验输出更加繁琐！\n",
    "身份验证及权限控制|restaction 提供一个灵活的权限系统，身份验证基于 jwt(json web token)， 权限验证是通过json配置文件，而不是散布在代码中的装饰器(decorator)， 并且角色本身也是 resource，客户端可以通过 API 进行操作。\n",
    "自动生成文档，res.js和权限管理页面|用 res.js 可以方便的调用 api，还可以直接上传文件。\n"
   ]
  },
  {
   "cell_type": "markdown",
   "metadata": {},
   "source": [
    "> 使用`flask-restaction`改写user的增删改查服务"
   ]
  },
  {
   "cell_type": "code",
   "execution_count": 55,
   "metadata": {
    "collapsed": false
   },
   "outputs": [
    {
     "name": "stdout",
     "output_type": "stream",
     "text": [
      "Overwriting codes/c5/app.py\n"
     ]
    }
   ],
   "source": [
    "%%writefile codes/c5/app.py\n",
    "# --*-- coding:utf-8 --*--\n",
    "from __future__ import print_function, unicode_literals, division\n",
    "\n",
    "from flask import Flask,jsonify,request\n",
    "from flask_restaction import Resource, Api, Gen, Res\n",
    "import json\n",
    "\n",
    "app = Flask(__name__)\n",
    "api = Api(app)\n",
    "res = Res(api)\n",
    "\n",
    "Userlist = []\n",
    "def inc(cls):\n",
    "    counter = {\"result\":0}\n",
    "    def wrap(*args):\n",
    "        counter[\"result\"]+=1\n",
    "        result = cls(counter[\"result\"],*args)\n",
    "        global Userlist\n",
    "        Userlist.append(result)\n",
    "        return result\n",
    "    return wrap\n",
    "@inc\n",
    "class User(object):\n",
    "    def __str__(self):\n",
    "        return \"<USER: id-{self._id}-{self.name}>\".format(self=self)\n",
    "    def __repr__(self):\n",
    "        return self.__str__()\n",
    "    def __init__(self,_id,name,password,type=\"local\"):\n",
    "        self._id=_id\n",
    "        self.name = name\n",
    "        self.password = password\n",
    "        self.type=type\n",
    "             \n",
    "    def toDict(self):\n",
    "        return {\"id\": self._id,\n",
    "        \"name\": self.name,\n",
    "        \"password\": self.password,\n",
    "        \"type\":self.type}\n",
    "@app.errorhandler(404)\n",
    "def page_not_found(error):\n",
    "    return jsonify({\"message\":\"404 not found\",\"code\":404}), 404\n",
    "\n",
    "\n",
    "class Users(Resource):\n",
    "    paging = {\n",
    "        \"pagenum\": \"+int&default=1\",\n",
    "        \"pagesize\": \"int(5,50)&default=10\"\n",
    "    }\n",
    "    info = {\n",
    "        \"id\": \"+int&required\",\n",
    "        \"name\": \"safestr&required\",\n",
    "        \"password\": \"safestr&required\",\n",
    "        \"type\":\"safestr&required\"\n",
    "    }\n",
    "    schema_inputs = {\n",
    "        \"get\": {\"user_id\": \"+int&required\"},\n",
    "        \"post\": {\n",
    "            \"name\": (\"safestr&required\", \"your name\"),\n",
    "            \"password\":(\"safestr&required\", \"your password\")\n",
    "        },\n",
    "        \"put\": {\n",
    "            \"user_id\": \"+int&required\",\n",
    "            \"name\": \"safestr\",\n",
    "            \"password\": \"safestr\"\n",
    "        },\n",
    "        \"delete\": {\"user_id\": \"+int&required\"}\n",
    "    }\n",
    "    schema_outputs = {\n",
    "        \"get\": info,\n",
    "        \"get_list\": [info],\n",
    "        \"post\": info,\n",
    "        \"put\": info,\n",
    "        \"delete\": {\"message\": \"unicode\"}\n",
    "    }\n",
    "    def get(self,user_id):\n",
    "        try:\n",
    "            user = filter(lambda x:True if x._id==user_id else False,Userlist)[0]\n",
    "        except IndexError as e:\n",
    "            abort(404)\n",
    "        return user.toDict()\n",
    "    \n",
    "    def get_list(self):\n",
    "        return map(lambda x:x.toDict(),Userlist)\n",
    "        \n",
    "    def post(self,name,password):\n",
    "        print(name)\n",
    "        user = User(name,password)\n",
    "        return user.toDict()\n",
    "    \n",
    "     \n",
    "    def put(self,user_id,name,password):\n",
    "        user = filter(lambda x: True if x._id==user_id else False,Userlist)[0]\n",
    "        if name:\n",
    "            user.name=name\n",
    "        if password:\n",
    "            user.password=password\n",
    "        \n",
    "        return user.toDict()\n",
    "    def delete(self,user_id):\n",
    "        global Userlist\n",
    "        Userlist = filter(lambda x: False if x._id==user_id else True,Userlist)\n",
    "        return {\"message\": \"OK\"}\n",
    "        \n",
    "api.add_resource(Users)\n",
    "\n",
    "gen = Gen(api)\n",
    "gen.resjs('static/js/res.js')\n",
    "gen.resdocs('static/resdocs.html', resjs='/static/js/res.js',\n",
    "                bootstrap='/static/css/bootstrap.min.css')\n",
    "\n",
    "if __name__ == '__main__':\n",
    "    app.run(debug=True)\n"
   ]
  },
  {
   "cell_type": "code",
   "execution_count": 56,
   "metadata": {
    "collapsed": true
   },
   "outputs": [],
   "source": [
    "import requests\n",
    "import json"
   ]
  },
  {
   "cell_type": "code",
   "execution_count": 57,
   "metadata": {
    "collapsed": false
   },
   "outputs": [
    {
     "data": {
      "text/plain": [
       "{u'id': 1, u'name': u'niuniu', u'password': u'qwe', u'type': u'local'}"
      ]
     },
     "execution_count": 57,
     "metadata": {},
     "output_type": "execute_result"
    }
   ],
   "source": [
    "requests.post(\"http://127.0.0.1:5000/users\",data = json.dumps({\"name\":\"niuniu\",\"password\":\"qwe\"}),\n",
    "              headers={'content-type': 'application/json'}).json()"
   ]
  },
  {
   "cell_type": "code",
   "execution_count": 58,
   "metadata": {
    "collapsed": false
   },
   "outputs": [
    {
     "data": {
      "text/plain": [
       "{u'id': 2, u'name': u'baba', u'password': u'qwe', u'type': u'local'}"
      ]
     },
     "execution_count": 58,
     "metadata": {},
     "output_type": "execute_result"
    }
   ],
   "source": [
    "requests.post(\"http://127.0.0.1:5000/users\",data = json.dumps({\"name\":\"baba\",\"password\":\"qwe\"}),\n",
    "              headers={'content-type': 'application/json'}).json()"
   ]
  },
  {
   "cell_type": "code",
   "execution_count": 59,
   "metadata": {
    "collapsed": false
   },
   "outputs": [
    {
     "data": {
      "text/plain": [
       "{u'id': 3, u'name': u'lala', u'password': u'qwe', u'type': u'local'}"
      ]
     },
     "execution_count": 59,
     "metadata": {},
     "output_type": "execute_result"
    }
   ],
   "source": [
    "requests.post(\"http://127.0.0.1:5000/users\",data = json.dumps({\"name\":\"lala\",\"password\":\"qwe\"}),\n",
    "              headers={'content-type': 'application/json'}).json()"
   ]
  },
  {
   "cell_type": "code",
   "execution_count": 60,
   "metadata": {
    "collapsed": false
   },
   "outputs": [
    {
     "data": {
      "text/plain": [
       "{u'id': 4, u'name': u'nubo', u'password': u'qwe', u'type': u'local'}"
      ]
     },
     "execution_count": 60,
     "metadata": {},
     "output_type": "execute_result"
    }
   ],
   "source": [
    "requests.post(\"http://127.0.0.1:5000/users\",data = json.dumps({\"name\":\"nubo\",\"password\":\"qwe\"}),\n",
    "              headers={'content-type': 'application/json'}).json()"
   ]
  },
  {
   "cell_type": "code",
   "execution_count": 61,
   "metadata": {
    "collapsed": false
   },
   "outputs": [
    {
     "data": {
      "text/plain": [
       "[{u'id': 1, u'name': u'niuniu', u'password': u'qwe', u'type': u'local'},\n",
       " {u'id': 2, u'name': u'baba', u'password': u'qwe', u'type': u'local'},\n",
       " {u'id': 3, u'name': u'lala', u'password': u'qwe', u'type': u'local'},\n",
       " {u'id': 4, u'name': u'nubo', u'password': u'qwe', u'type': u'local'}]"
      ]
     },
     "execution_count": 61,
     "metadata": {},
     "output_type": "execute_result"
    }
   ],
   "source": [
    "requests.get(\"http://127.0.0.1:5000/users/list\").json()"
   ]
  },
  {
   "cell_type": "code",
   "execution_count": 62,
   "metadata": {
    "collapsed": false
   },
   "outputs": [
    {
     "data": {
      "text/plain": [
       "{u'id': 1, u'name': u'niuniu', u'password': u'qwe', u'type': u'local'}"
      ]
     },
     "execution_count": 62,
     "metadata": {},
     "output_type": "execute_result"
    }
   ],
   "source": [
    "requests.get(\"http://127.0.0.1:5000/users\",params={'user_id':1}).json()"
   ]
  },
  {
   "cell_type": "code",
   "execution_count": 63,
   "metadata": {
    "collapsed": false
   },
   "outputs": [
    {
     "data": {
      "text/plain": [
       "{u'id': 1, u'name': u'fadf', u'password': u'qwe', u'type': u'local'}"
      ]
     },
     "execution_count": 63,
     "metadata": {},
     "output_type": "execute_result"
    }
   ],
   "source": [
    "requests.put(\"http://127.0.0.1:5000/users\",\n",
    "             data = json.dumps({'user_id':1,\"name\":\"fadf\"}), \n",
    "             headers={'content-type': 'application/json'}).json()"
   ]
  },
  {
   "cell_type": "code",
   "execution_count": 64,
   "metadata": {
    "collapsed": false
   },
   "outputs": [
    {
     "data": {
      "text/plain": [
       "[{u'id': 1, u'name': u'fadf', u'password': u'qwe', u'type': u'local'},\n",
       " {u'id': 2, u'name': u'baba', u'password': u'qwe', u'type': u'local'},\n",
       " {u'id': 3, u'name': u'lala', u'password': u'qwe', u'type': u'local'},\n",
       " {u'id': 4, u'name': u'nubo', u'password': u'qwe', u'type': u'local'}]"
      ]
     },
     "execution_count": 64,
     "metadata": {},
     "output_type": "execute_result"
    }
   ],
   "source": [
    "requests.get(\"http://127.0.0.1:5000/users/list\").json()"
   ]
  },
  {
   "cell_type": "code",
   "execution_count": 65,
   "metadata": {
    "collapsed": false
   },
   "outputs": [
    {
     "data": {
      "text/plain": [
       "{u'message': u'OK'}"
      ]
     },
     "execution_count": 65,
     "metadata": {},
     "output_type": "execute_result"
    }
   ],
   "source": [
    "requests.delete(\"http://127.0.0.1:5000/users\",params={'user_id':1}).json()"
   ]
  },
  {
   "cell_type": "code",
   "execution_count": 66,
   "metadata": {
    "collapsed": false
   },
   "outputs": [
    {
     "data": {
      "text/plain": [
       "[{u'id': 2, u'name': u'baba', u'password': u'qwe', u'type': u'local'},\n",
       " {u'id': 3, u'name': u'lala', u'password': u'qwe', u'type': u'local'},\n",
       " {u'id': 4, u'name': u'nubo', u'password': u'qwe', u'type': u'local'}]"
      ]
     },
     "execution_count": 66,
     "metadata": {},
     "output_type": "execute_result"
    }
   ],
   "source": [
    "requests.get(\"http://127.0.0.1:5000/users/list\").json()"
   ]
  },
  {
   "cell_type": "code",
   "execution_count": null,
   "metadata": {
    "collapsed": true
   },
   "outputs": [],
   "source": []
  }
 ],
 "metadata": {
  "kernelspec": {
   "display_name": "Python 2",
   "language": "python",
   "name": "python2"
  },
  "language_info": {
   "codemirror_mode": {
    "name": "ipython",
    "version": 2
   },
   "file_extension": ".py",
   "mimetype": "text/x-python",
   "name": "python",
   "nbconvert_exporter": "python",
   "pygments_lexer": "ipython2",
   "version": "2.7.11"
  }
 },
 "nbformat": 4,
 "nbformat_minor": 0
}
