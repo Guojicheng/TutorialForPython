{
 "cells": [
  {
   "cell_type": "markdown",
   "metadata": {},
   "source": [
    "# 路由\n",
    "\n",
    "Flask提供了丰富的路由绑定方式,最适合Rest风格api服务的绑定方式是`基于方法调度`的绑定方式,它需要使用flask的`flask.views.MethodView`作为基类并使用app的`add_url_rule`方法来与url绑定\n",
    "\n",
    "其中,各个类的对应http方法的方法所定义的过程就是客户端用http对应方法访问时的处理过程"
   ]
  },
  {
   "cell_type": "markdown",
   "metadata": {},
   "source": [
    "> 例: 一个简单的helloworld服务"
   ]
  },
  {
   "cell_type": "code",
   "execution_count": 19,
   "metadata": {
    "collapsed": false
   },
   "outputs": [
    {
     "name": "stdout",
     "output_type": "stream",
     "text": [
      "Overwriting codes/c1/app.py\n"
     ]
    }
   ],
   "source": [
    "%%writefile codes/c1/app.py\n",
    "# --*-- coding:utf-8 --*--\n",
    "from __future__ import print_function, unicode_literals, division\n",
    "\n",
    "from flask import Flask,jsonify\n",
    "from flask.views import MethodView\n",
    "\n",
    "app = Flask(__name__)\n",
    "\n",
    "class HelloAPI(MethodView):\n",
    "    \n",
    "    def get(self):\n",
    "        return jsonify({\"result\":\"hello!\"})\n",
    "        \n",
    "\n",
    "app.add_url_rule('/hello/',view_func=HelloAPI.as_view('hello'.encode(\"utf-8\")))\n",
    "\n",
    "if __name__ == '__main__':\n",
    "    app.run(debug=True)"
   ]
  },
  {
   "cell_type": "markdown",
   "metadata": {},
   "source": [
    "这个程序的基本结构是\n",
    "\n",
    "1. 定义编写的编码和使用的特性\n",
    "2. 引入需要的依赖\n",
    "3. 定义app实例\n",
    "4. 定义view\n",
    "5. 绑定路由\n",
    "6. 定义如果是直接运行脚本,则使用测试服务器运行这\n",
    "\n",
    "我们可以在对应目录下运行这个脚本试试.默认端口是5000"
   ]
  },
  {
   "cell_type": "code",
   "execution_count": 4,
   "metadata": {
    "collapsed": true
   },
   "outputs": [],
   "source": [
    "import requests"
   ]
  },
  {
   "cell_type": "code",
   "execution_count": 28,
   "metadata": {
    "collapsed": false
   },
   "outputs": [
    {
     "data": {
      "text/plain": [
       "{u'result': u'hello!'}"
      ]
     },
     "execution_count": 28,
     "metadata": {},
     "output_type": "execute_result"
    }
   ],
   "source": [
    "requests.get(\"http://127.0.0.1:5000/hello/\").json()"
   ]
  },
  {
   "cell_type": "markdown",
   "metadata": {},
   "source": [
    "## rest API和复杂的路由\n",
    "\n",
    "Web API 的工作通常与 HTTP 动词方法紧密相关，所以这使得实现这样一个基于 MethodView 类的 API 很有意义。也就是说，你会注意到大多数时候， API 需要不同的 URL 规则来访问相同的方法视图。譬如，想象一种情况，你在 web 上暴露一个用户对象:\n",
    "\n",
    "\n",
    "URL\t|HTTP方法\t|描述\n",
    "---|---|---\n",
    "/users/|\tGET|\t获得全部用户的列表\n",
    "/users/\t|POST\t|创建一个新用户\n",
    "`/user/<id>`\t|GET\t|显示某个用户\n",
    "`/user/<id>`\t|PUT\t|更新某个用户\n",
    "`/user/<id>`\t|DELETE\t|删除某个用户\n",
    "\n",
    "让我们来实现这个视图的路由,我们先用字典描述数据"
   ]
  },
  {
   "cell_type": "code",
   "execution_count": 47,
   "metadata": {
    "collapsed": false
   },
   "outputs": [
    {
     "name": "stdout",
     "output_type": "stream",
     "text": [
      "Overwriting codes/c1/app2.py\n"
     ]
    }
   ],
   "source": [
    "%%writefile codes/c1/app2.py\n",
    "# --*-- coding:utf-8 --*--\n",
    "from __future__ import print_function, unicode_literals, division\n",
    "\n",
    "from flask import Flask,jsonify,request\n",
    "from flask.views import MethodView\n",
    "import json\n",
    "app = Flask(__name__)\n",
    "\n",
    "Userlist = []\n",
    "def inc(cls):\n",
    "    counter = {\"result\":0}\n",
    "    def wrap(*args):\n",
    "        counter[\"result\"]+=1\n",
    "        result = cls(counter[\"result\"],*args)\n",
    "        global Userlist\n",
    "        Userlist.append(result)\n",
    "        return result\n",
    "    return wrap\n",
    "@inc\n",
    "class User(object):\n",
    "    def __str__(self):\n",
    "        return \"<USER: id-{self._id}-{self.name}>\".format(self=self)\n",
    "    def __repr__(self):\n",
    "        return self.__str__()\n",
    "    def __init__(self,_id,name,password,type=\"local\"):\n",
    "        self._id=_id\n",
    "        self.name = name\n",
    "        self.password = password\n",
    "        self.type=type\n",
    "        \n",
    "class UsersAPI(MethodView):\n",
    "    \n",
    "    def get(self):\n",
    "        return jsonify({\"result\":map(lambda x:x.__str__(),Userlist)})\n",
    "        \n",
    "    def post(self):\n",
    "        data = json.loads(request.data)\n",
    "        user = User(data.get(\"name\"),data.get(\"password\"))\n",
    "        return jsonify({\"result\":\"save {name} done!\".format(name=user.name)})\n",
    "    \n",
    "class UserAPI(MethodView):\n",
    "    \n",
    "    def get(self,user_id):\n",
    "        user = filter(lambda x:True if x._id==user_id else False,Userlist)[0]\n",
    "        result = {\"name\":user.name,\"password\":user.password,\"type\":user.type}\n",
    "        return jsonify({\"result\":result})\n",
    "        \n",
    "    def put(self,user_id):\n",
    "        data = request.args\n",
    "        user = filter(lambda x: True if x._id==user_id else False,Userlist)[0]\n",
    "        if request.args.get(\"name\"):\n",
    "            user.name=data.get(\"name\")\n",
    "        if request.args.get(\"password\"):\n",
    "            user.password=data.get(\"password\")\n",
    "        \n",
    "        return jsonify({\"result\":\"update {name} done!\".format(name=user_id)})    \n",
    "    def delete(self,user_id):\n",
    "        global Userlist\n",
    "        Userlist = filter(lambda x: False if x._id==user_id else True,Userlist)\n",
    "        return jsonify({\"result\":\"delete {id} done!\".format(id=user_id)})   \n",
    "        \n",
    "\n",
    "app.add_url_rule('/users/',view_func=UsersAPI.as_view('users'.encode(\"utf-8\")))\n",
    "app.add_url_rule('/user/<int:user_id>',view_func=UserAPI.as_view('user'.encode(\"utf-8\")))\n",
    "\n",
    "if __name__ == '__main__':\n",
    "    app.run(debug=True)"
   ]
  },
  {
   "cell_type": "code",
   "execution_count": 48,
   "metadata": {
    "collapsed": true
   },
   "outputs": [],
   "source": [
    "import json"
   ]
  },
  {
   "cell_type": "code",
   "execution_count": 49,
   "metadata": {
    "collapsed": false
   },
   "outputs": [
    {
     "data": {
      "text/plain": [
       "{u'result': u'save niuniu done!'}"
      ]
     },
     "execution_count": 49,
     "metadata": {},
     "output_type": "execute_result"
    }
   ],
   "source": [
    "requests.post(\"http://127.0.0.1:5000/users/\",data = json.dumps({\"name\":\"niuniu\",\"password\":\"qwe\"}),\n",
    "              headers={'content-type': 'application/json'}).json()"
   ]
  },
  {
   "cell_type": "code",
   "execution_count": 50,
   "metadata": {
    "collapsed": false
   },
   "outputs": [
    {
     "data": {
      "text/plain": [
       "{u'result': [u'<USER: id-1-niuniu>']}"
      ]
     },
     "execution_count": 50,
     "metadata": {},
     "output_type": "execute_result"
    }
   ],
   "source": [
    "requests.get(\"http://127.0.0.1:5000/users/\").json()"
   ]
  },
  {
   "cell_type": "code",
   "execution_count": 51,
   "metadata": {
    "collapsed": false
   },
   "outputs": [
    {
     "data": {
      "text/plain": [
       "{u'result': {u'name': u'niuniu', u'password': u'qwe', u'type': u'local'}}"
      ]
     },
     "execution_count": 51,
     "metadata": {},
     "output_type": "execute_result"
    }
   ],
   "source": [
    "requests.get(\"http://127.0.0.1:5000/user/1\").json()"
   ]
  },
  {
   "cell_type": "code",
   "execution_count": 52,
   "metadata": {
    "collapsed": false
   },
   "outputs": [
    {
     "data": {
      "text/plain": [
       "{u'result': u'update 1 done!'}"
      ]
     },
     "execution_count": 52,
     "metadata": {},
     "output_type": "execute_result"
    }
   ],
   "source": [
    "requests.put(\"http://127.0.0.1:5000/user/1\",params={\"password\":\"1234\"}).json()"
   ]
  },
  {
   "cell_type": "code",
   "execution_count": 53,
   "metadata": {
    "collapsed": false
   },
   "outputs": [
    {
     "data": {
      "text/plain": [
       "{u'result': {u'name': u'niuniu', u'password': u'1234', u'type': u'local'}}"
      ]
     },
     "execution_count": 53,
     "metadata": {},
     "output_type": "execute_result"
    }
   ],
   "source": [
    "requests.get(\"http://127.0.0.1:5000/user/1\").json()"
   ]
  },
  {
   "cell_type": "code",
   "execution_count": 54,
   "metadata": {
    "collapsed": false
   },
   "outputs": [
    {
     "data": {
      "text/plain": [
       "{u'result': u'delete 1 done!'}"
      ]
     },
     "execution_count": 54,
     "metadata": {},
     "output_type": "execute_result"
    }
   ],
   "source": [
    "requests.delete(\"http://127.0.0.1:5000/user/1\").json()"
   ]
  },
  {
   "cell_type": "code",
   "execution_count": 55,
   "metadata": {
    "collapsed": false
   },
   "outputs": [
    {
     "data": {
      "text/plain": [
       "{u'result': []}"
      ]
     },
     "execution_count": 55,
     "metadata": {},
     "output_type": "execute_result"
    }
   ],
   "source": [
    "requests.get(\"http://127.0.0.1:5000/users/\").json()"
   ]
  }
 ],
 "metadata": {
  "kernelspec": {
   "display_name": "Python 2",
   "language": "python",
   "name": "python2"
  },
  "language_info": {
   "codemirror_mode": {
    "name": "ipython",
    "version": 2
   },
   "file_extension": ".py",
   "mimetype": "text/x-python",
   "name": "python",
   "nbconvert_exporter": "python",
   "pygments_lexer": "ipython2",
   "version": "2.7.11"
  }
 },
 "nbformat": 4,
 "nbformat_minor": 0
}
