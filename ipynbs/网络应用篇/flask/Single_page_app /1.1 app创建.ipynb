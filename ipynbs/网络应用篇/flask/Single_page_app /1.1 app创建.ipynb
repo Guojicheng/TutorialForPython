{
 "cells": [
  {
   "cell_type": "markdown",
   "metadata": {},
   "source": [
    "# 1.1 app创建\n",
    "\n",
    "python的发明人Guido van Rossum之前说过他最喜欢的webframework是django,但最近他改口了,现在他最喜欢flask!\n",
    "\n",
    "flask已经几乎成了现在最潮最流行的web框架,它与django的不同之处在于设计之初的思想.django是大而全,一个框架囊括所有.\n",
    "而flask是小而美,优雅的核心和社区提供的大量优质扩展成就了它.\n",
    "\n",
    "多数时候,我们用flask开发小型app,比如微信公众号呀,简单的博客呀啥的.所以我们会从单文件,到多文件,再到多app逐步扩展着学习flask.\n",
    "\n",
    "另外,有个有意思的项目,就是把flask扩展到桌面,用flask开发桌面程序,后面也会介绍到\n",
    "\n",
    "本篇使用Python3,主要是因为2.7版本会有中文路径的编码问题.当然只要路径是全英文其实就不会有问题,两个版本本来就没啥区别,利用Python3写的app只要注意好一些问题,都引用上`__future__`模块其实一样可以在2.7的环境中运行."
   ]
  },
  {
   "cell_type": "markdown",
   "metadata": {},
   "source": [
    "## 安装\n",
    "\n",
    "flask只要用 pip 安装即可:\n",
    "\n",
    "    $pip install flask\n"
   ]
  },
  {
   "cell_type": "markdown",
   "metadata": {},
   "source": [
    "## 构建第一个APP"
   ]
  },
  {
   "cell_type": "code",
   "execution_count": 1,
   "metadata": {
    "collapsed": false
   },
   "outputs": [
    {
     "name": "stdout",
     "output_type": "stream",
     "text": [
      "Overwriting ../codes/firstapp/firstapp.py\n"
     ]
    }
   ],
   "source": [
    "%%writefile ../codes/firstapp/firstapp.py\n",
    "from flask import Flask\n",
    "app = Flask(__name__)\n",
    "app.debug = True\n",
    "\n",
    "@app.route('/')\n",
    "def hello():\n",
    "    return \"Hello, world! - Flask\"\n",
    "\n",
    "if __name__ == '__main__':\n",
    "    app.run()"
   ]
  },
  {
   "cell_type": "code",
   "execution_count": 2,
   "metadata": {
    "collapsed": false,
    "scrolled": true
   },
   "outputs": [
    {
     "name": "stdout",
     "output_type": "stream",
     "text": [
      " * Restarting with stat\n",
      " * Debugger is active!\n",
      " * Debugger pin code: 673-134-554\n",
      "127.0.0.1 - - [19/Jan/2016 13:05:11] \"GET / HTTP/1.1\" 200 -\n",
      "127.0.0.1 - - [19/Jan/2016 13:05:11] \"GET /favicon.ico HTTP/1.1\" 404 -\n",
      "^C\n"
     ]
    }
   ],
   "source": [
    "!python ../codes/firstapp/firstapp.py runserver"
   ]
  },
  {
   "cell_type": "markdown",
   "metadata": {
    "collapsed": true
   },
   "source": [
    "在打开一个网页,在地址栏输入\"localhost:5000\"\n",
    "\n",
    "\n",
    "(不要看得时候记得把上面的运行进程给关了)"
   ]
  },
  {
   "cell_type": "markdown",
   "metadata": {},
   "source": [
    "## 使用Flask-Script支持命令行选项\n",
    "\n",
    "有时候管理app需要用到命令行,在命令行中调试,改进数据库等非常有用,这便有了这个插件Flask-Script\n",
    "\n",
    "    pip install flask-script\n",
    "\n",
    "修改之前的程序:"
   ]
  },
  {
   "cell_type": "code",
   "execution_count": 3,
   "metadata": {
    "collapsed": false
   },
   "outputs": [
    {
     "name": "stdout",
     "output_type": "stream",
     "text": [
      "Writing ../codes/firstapp/firstappplus.py\n"
     ]
    }
   ],
   "source": [
    "%%writefile ../codes/firstapp/firstappplus.py\n",
    "#coding:UTF-8\n",
    "from flask import Flask\n",
    "from flask.ext.script import Manager\n",
    "\n",
    "app = Flask(__name__)\n",
    "app.debug = True\n",
    "manager = Manager(app)\n",
    "\n",
    "@app.route('/')\n",
    "def hello():\n",
    "    return \"Hello, world! - flask\"\n",
    "\n",
    "@app.route('/<name>')\n",
    "def name(name):\n",
    "    return \"Hello, world! - {name}\".format(name=name)"
   ]
  },
  {
   "cell_type": "markdown",
   "metadata": {},
   "source": [
    "再新建一个叫manager.py的文件用于管理命令"
   ]
  },
  {
   "cell_type": "code",
   "execution_count": 4,
   "metadata": {
    "collapsed": false
   },
   "outputs": [
    {
     "name": "stdout",
     "output_type": "stream",
     "text": [
      "Writing ../codes/firstapp/manager.py\n"
     ]
    }
   ],
   "source": [
    "%%writefile ../codes/firstapp/manager.py\n",
    "#coding:UTF-8\n",
    "import os\n",
    "import sys\n",
    "\n",
    "root = os.path.dirname(__file__)\n",
    "\n",
    "sys.path.insert(0, os.path.join(root, 'site-packages'))\n",
    "\n",
    "from firstappplus import manager\n",
    "\n",
    "if __name__ == '__main__':\n",
    "    manager.run()"
   ]
  },
  {
   "cell_type": "code",
   "execution_count": 6,
   "metadata": {
    "collapsed": false
   },
   "outputs": [
    {
     "name": "stdout",
     "output_type": "stream",
     "text": [
      "usage: manager.py [-?] {shell,runserver} ...\r\n",
      "\r\n",
      "positional arguments:\r\n",
      "  {shell,runserver}\r\n",
      "    shell            Runs a Python shell inside Flask application context.\r\n",
      "    runserver        Runs the Flask development server i.e. app.run()\r\n",
      "\r\n",
      "optional arguments:\r\n",
      "  -?, --help         show this help message and exit\r\n"
     ]
    }
   ],
   "source": [
    "!python ../codes/firstapp/manager.py"
   ]
  },
  {
   "cell_type": "markdown",
   "metadata": {},
   "source": [
    "我们看到新增了一个命令行工具,它可以让我们进入shell直接管理我们的app.这个特性后面会用到"
   ]
  },
  {
   "cell_type": "markdown",
   "metadata": {},
   "source": [
    "## 总结\n",
    "\n",
    "平时构建app都会只用flask的测试服务器来测试,至于部署后面会统一说明\n",
    "\n",
    "目前用到的包:\n",
    "\n",
    "包|作用\n",
    "---|---\n",
    "flask|flask web框架\n",
    "flask-script|flask的上下文shell\n",
    "\n"
   ]
  }
 ],
 "metadata": {
  "kernelspec": {
   "display_name": "Python 3",
   "language": "python",
   "name": "python3"
  },
  "language_info": {
   "codemirror_mode": {
    "name": "ipython",
    "version": 3
   },
   "file_extension": ".py",
   "mimetype": "text/x-python",
   "name": "python",
   "nbconvert_exporter": "python",
   "pygments_lexer": "ipython3",
   "version": "3.5.1"
  }
 },
 "nbformat": 4,
 "nbformat_minor": 0
}
