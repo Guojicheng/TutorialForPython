{
 "cells": [
  {
   "cell_type": "markdown",
   "metadata": {},
   "source": [
    "# 1.6 Ajax\n",
    "其实ajax是前端技术,用的也基本是javascript.本来不该在这边说,不过现在流行这个,那就一道说了.\n",
    "\n",
    "所谓ajax是一种即时数据交换技术,通过js和xml让页面可以局部刷新.\n",
    "\n"
   ]
  },
  {
   "cell_type": "markdown",
   "metadata": {},
   "source": [
    "## CSRF 保护\n",
    "\n",
    "要对所有视图函数启用 CSRF 保护，你需要启用 CsrfProtect 模块:\n",
    "\n",
    "    from flask_wtf.csrf import CsrfProtect\n",
    "\n",
    "    CsrfProtect(app)\n",
    "\n",
    "\n",
    "如果模板中有表单，你不需要做任何事。与之前一样:\n",
    "\n",
    "    <form method=\"post\" action=\"/\">\n",
    "        {{ form.csrf_token }}\n",
    "    </form>\n",
    "\n",
    "但如果模板中没有表单，你仍需要 CSRF 令牌:\n",
    "\n",
    "    <form method=\"post\" action=\"/\">\n",
    "        <input type=\"hidden\" name=\"csrf_token\" value=\"{{ csrf_token() }}\" />\n",
    "    </form>\n",
    "\n",
    "无论何时未通过 CSRF 验证，都会返回 400 响应。你可以自定义这个错误响应:\n",
    "\n",
    "    @csrf.error_handler\n",
    "    def csrf_error(reason):\n",
    "        return render_template('csrf_error.html', reason=reason), 400\n",
    "\n",
    "将某些视图函数除外的途径:\n",
    "\n",
    "    @csrf.exempt\n",
    "    @app.route('/foo', methods=('GET', 'POST'))\n",
    "    def my_handler():\n",
    "        # ...\n",
    "        return 'ok'\n",
    "\n"
   ]
  },
  {
   "cell_type": "markdown",
   "metadata": {},
   "source": [
    "\n",
    "## AJAX\n",
    "\n",
    "通过 AJAX 发送 POST 请求并不需要表单。\n",
    "\n",
    "假设你已经使用了 CsrfProtect(app) ，你可以通过 {{ csrf_token() }} 获取 CSRF 令牌。这个方法在每个模板中都可以使用，你并不需要担心在没有表单时如何渲染 CSRF 令牌字段。\n",
    "\n",
    "我们推荐的方式是在 <meta> 标签中渲染 CSRF 令牌:\n",
    "\n",
    "    <meta name=\"csrf-token\" content=\"{{ csrf_token() }}\">\n",
    "\n",
    "\n",
    "在定义AJAX时要写入:\n",
    "\n",
    "    var csrftoken = $('meta[name=csrf-token]').attr('content')\n",
    "\n",
    "    $.ajaxSetup({\n",
    "        beforeSend: function(xhr, settings) {\n",
    "            if (!/^(GET|HEAD|OPTIONS|TRACE)$/i.test(settings.type)) {\n",
    "                xhr.setRequestHeader(\"X-CSRFToken\", csrftoken)\n",
    "            }\n",
    "        }\n",
    "    })\n",
    "\n"
   ]
  },
  {
   "cell_type": "markdown",
   "metadata": {},
   "source": [
    "> 例利用ajax修改主页,点击切换图片:"
   ]
  },
  {
   "cell_type": "code",
   "execution_count": 7,
   "metadata": {
    "collapsed": false
   },
   "outputs": [
    {
     "name": "stdout",
     "output_type": "stream",
     "text": [
      "Overwriting ../codes/ajax_simple/manager.py\n"
     ]
    }
   ],
   "source": [
    "%%writefile ../codes/ajax_simple/manager.py\n",
    "#coding:UTF-8\n",
    "import os\n",
    "import sys\n",
    "\n",
    "root = os.path.dirname(__file__)\n",
    "\n",
    "sys.path.insert(0, os.path.join(root, 'site-packages'))\n",
    "\n",
    "from app import manager\n",
    "\n",
    "if __name__ == '__main__':\n",
    "    manager.run()"
   ]
  },
  {
   "cell_type": "code",
   "execution_count": 12,
   "metadata": {
    "collapsed": false
   },
   "outputs": [
    {
     "name": "stdout",
     "output_type": "stream",
     "text": [
      "Overwriting ../codes/ajax_simple/app.py\n"
     ]
    }
   ],
   "source": [
    "%%writefile ../codes/ajax_simple/app.py\n",
    "#coding:UTF-8\n",
    "from flask import Flask,jsonify, render_template, request,url_for\n",
    "from flask.ext.script import Manager\n",
    "\n",
    "app = Flask(__name__)\n",
    "app.config['SECRET_KEY'] = 'hard to guess string'\n",
    "app.debug = True\n",
    "\n",
    "manager = Manager(app)\n",
    "\n",
    "\n",
    "\n",
    "@app.route('/',methods = [\"GET\",\"POST\"])\n",
    "def hello():\n",
    "    return render_template('index.html')\n",
    "\n",
    "@app.route('/ajax',methods = [\"GET\"])\n",
    "def ajax():\n",
    "    return jsonify({\"hello\":\"hello world !\"})"
   ]
  },
  {
   "cell_type": "code",
   "execution_count": 8,
   "metadata": {
    "collapsed": false
   },
   "outputs": [
    {
     "name": "stdout",
     "output_type": "stream",
     "text": [
      "Overwriting ../codes/ajax_simple/templates/layout.html\n"
     ]
    }
   ],
   "source": [
    "%%writefile ../codes/ajax_simple/templates/layout.html\n",
    "<!doctype html>\n",
    "<title>jQuery Example</title>\n",
    "<script type=text/javascript src=\"{{\n",
    "  url_for('static', filename='js/jquery.min.js') }}\"></script>\n",
    "<script type=\"text/javascript\">\n",
    "  var $SCRIPT_ROOT = {{ request.script_root|tojson|safe }};\n",
    "</script>\n",
    "{% block body %}{% endblock %}"
   ]
  },
  {
   "cell_type": "code",
   "execution_count": 14,
   "metadata": {
    "collapsed": false
   },
   "outputs": [
    {
     "name": "stdout",
     "output_type": "stream",
     "text": [
      "Overwriting ../codes/ajax_simple/templates/index.html\n"
     ]
    }
   ],
   "source": [
    "%%writefile ../codes/ajax_simple/templates/index.html\n",
    "{% extends \"layout.html\" %}\n",
    "{% block body %}\n",
    "<div id=\"result\"><p>here is the result</p></div>\n",
    "<button id=\"hello\">\n",
    "<h1>jQuery Example</h1>\n",
    "</button>\n",
    "<script type=\"text/javascript\">\n",
    "    $(\"#hello\").click(function() {\n",
    "        $.getJSON($SCRIPT_ROOT + '/ajax',\n",
    "                function(data) {\n",
    "                    $('#result').text(data.hello)\n",
    "                })\n",
    "        return false\n",
    "    })\n",
    "    \n",
    "</script>\n",
    "\n",
    "{% endblock %}"
   ]
  },
  {
   "cell_type": "code",
   "execution_count": 24,
   "metadata": {
    "collapsed": false
   },
   "outputs": [
    {
     "name": "stdout",
     "output_type": "stream",
     "text": [
      " * Running on http://127.0.0.1:5000/ (Press CTRL+C to quit)\n",
      " * Restarting with stat\n",
      " * Debugger is active!\n",
      " * Debugger pin code: 258-121-533\n",
      "127.0.0.1 - - [20/Jan/2016 00:17:37] \"GET / HTTP/1.1\" 200 -\n",
      "127.0.0.1 - - [20/Jan/2016 00:17:39] \"GET /changimg HTTP/1.1\" 200 -\n",
      "^C\n"
     ]
    }
   ],
   "source": [
    "!python3 ../codes/helloworld/manager.py runserver"
   ]
  },
  {
   "cell_type": "markdown",
   "metadata": {},
   "source": [
    "## Get方式接收传递参数\n",
    "\n",
    "如果使用get方式传递参数,后端获取参数要使用`request`变量,具体是:\n",
    "\n",
    "`password = request.args.get('password', 0, type=str)`\n",
    "\n",
    "其中get方法的第一位是传过来json的字段,第二位是默认值,第三位是给予的类型"
   ]
  },
  {
   "cell_type": "markdown",
   "metadata": {},
   "source": [
    "## Post方式接收传递参数\n",
    "\n",
    "如果使用post方式传递参数,后端获取参数要使用request变量,具体是:\n",
    "code = request.values.get('code')\n",
    "其中get方法的第一位是传过来json的字段,第二位是默认值,第三位是给予的类型和之前一样"
   ]
  },
  {
   "cell_type": "markdown",
   "metadata": {},
   "source": [
    "\n",
    "## 总结\n",
    "\n",
    "在flask中使用ajax最重要的是注意 CSRF 保护的问题,其他的和一般用ajax是一样的.\n",
    "\n"
   ]
  }
 ],
 "metadata": {
  "kernelspec": {
   "display_name": "Python 3",
   "language": "python",
   "name": "python3"
  },
  "language_info": {
   "codemirror_mode": {
    "name": "ipython",
    "version": 3
   },
   "file_extension": ".py",
   "mimetype": "text/x-python",
   "name": "python",
   "nbconvert_exporter": "python",
   "pygments_lexer": "ipython3",
   "version": "3.5.1"
  }
 },
 "nbformat": 4,
 "nbformat_minor": 0
}
