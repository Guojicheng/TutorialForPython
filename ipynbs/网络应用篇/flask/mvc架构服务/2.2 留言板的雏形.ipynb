{
 "cells": [
  {
   "cell_type": "markdown",
   "metadata": {},
   "source": [
    "# 2.2 留言板的雏形\n",
    "\n",
    "一个webapp往往是信息资讯的提供者和收集者.我们的项目是留言板,要做的是让用户可以输入想留下的信息并可以把所有信息展现在留言板上\n",
    "\n",
    "我们需要一个表单提交用户名和他的信息,然后把这些数据存入一个列表,而页面通过展现这一列表来显示留言.\n",
    "\n",
    "我们用一个全局变量来维护用户提交的数据,这样只要开启我们就可以正常使用了.\n"
   ]
  },
  {
   "cell_type": "code",
   "execution_count": 46,
   "metadata": {
    "collapsed": false
   },
   "outputs": [
    {
     "name": "stdout",
     "output_type": "stream",
     "text": [
      "Overwriting ../codes/msgboard/app.py\n"
     ]
    }
   ],
   "source": [
    "%%writefile ../codes/msgboard/app.py\n",
    "#--*--coding:utf-8 --*--\n",
    "from __future__ import absolute_import,division,print_function,unicode_literals\n",
    "\"\"\"\n",
    "A message board appliation.\n",
    "\n",
    "Author:Huang Sizhe\n",
    "Date:22/01/2016\n",
    "License:MIT\n",
    "======================================\n",
    "\n",
    "留言板应用\n",
    "\n",
    "作者:黄思喆\n",
    "日期:2016年1月22日\n",
    "本应用使用MIT许可证\n",
    "\n",
    "\"\"\"\n",
    "#=================导入模块=================\n",
    "from flask import Flask,render_template,make_response\n",
    "\n",
    "from flask.ext.bootstrap import Bootstrap\n",
    "\n",
    "from flask_wtf.csrf import CsrfProtect\n",
    "from flask.ext.wtf import Form\n",
    "from wtforms import StringField, SubmitField \n",
    "from wtforms.validators import Required\n",
    "\n",
    "#=================载入插件=================\n",
    "bootstrap = Bootstrap()\n",
    "csrf = CsrfProtect()\n",
    "\n",
    "#=================应用设置=================\n",
    "from config import config\n",
    "def create_app(config_name):\n",
    "    app = Flask(__name__)\n",
    "    app.config.from_object(config[config_name])\n",
    "    config[config_name].init_app(app)\n",
    "    bootstrap.init_app(app)\n",
    "    csrf.init_app(app)\n",
    "    return app\n",
    "\n",
    "import os\n",
    "app = create_app(os.getenv('FLASK_CONFIG') or 'default')    \n",
    "\n",
    "#================主体=====================\n",
    "\n",
    "MSG = []\n",
    "\n",
    "##----------------表单--------------------\n",
    "\n",
    "class MsgForm(Form):\n",
    "    name = StringField('Your name ?', validators=[Required()])\n",
    "    msg = StringField('The msg', validators=[Required()])\n",
    "    submit = SubmitField('Submit')\n",
    "\n",
    "\n",
    "##----------------view--------------------\n",
    "\n",
    "@app.route('/',methods = [\"GET\",\"POST\"])\n",
    "def hello():\n",
    "    msgform = MsgForm()\n",
    "    if msgform.validate_on_submit():\n",
    "        entry = dict(name=msgform.name.data,msg=msgform.msg.data)\n",
    "        MSG.append(entry)\n",
    "    response = make_response(render_template('app/index.html',msgform=msgform,MSG = MSG.reverse()))\n",
    "    return response\n",
    "\n",
    "\n"
   ]
  },
  {
   "cell_type": "code",
   "execution_count": 36,
   "metadata": {
    "collapsed": false
   },
   "outputs": [
    {
     "name": "stdout",
     "output_type": "stream",
     "text": [
      "Overwriting ../codes/msgboard/templates/app/index.html\n"
     ]
    }
   ],
   "source": [
    "%%writefile ../codes/msgboard/templates/app/index.html\n",
    "{% extends \"/base.html\" %}\n",
    "{% import \"bootstrap/wtf.html\" as wtf %}\n",
    "{% block title %}MSG BOARD{% endblock %}\n",
    "{% block content %}\n",
    "\n",
    "    <div class=\"container\">\n",
    "        <div class=\"page-header\">\n",
    "            <h1>MSG BOARD!</h1>\n",
    "            {{ wtf.quick_form(msgform,form_type='horizontal') }}\n",
    "            \n",
    "            <ul class=entries>\n",
    "              {% for entry in MSG %}\n",
    "                <li><h4>{{ entry.name  }} say:</h4><p>{{ entry.msg }}<p>\n",
    "              {% else %}\n",
    "                <li><em>Unbelievable.  No entries here so far</em>\n",
    "              {% endfor %}\n",
    "            </ul>\n",
    "            \n",
    "        </div>      \n",
    "    </div>    \n",
    "    \n",
    "{{ super() }}\n",
    "{% endblock %}"
   ]
  },
  {
   "cell_type": "code",
   "execution_count": 37,
   "metadata": {
    "collapsed": false
   },
   "outputs": [
    {
     "name": "stdout",
     "output_type": "stream",
     "text": [
      " * Running on http://127.0.0.1:5000/ (Press CTRL+C to quit)\n",
      " * Restarting with stat\n",
      " * Debugger is active!\n",
      " * Debugger pin code: 258-121-533\n",
      "{'msg': '5', 'name': 'hsz'}\n",
      "127.0.0.1 - - [23/Jan/2016 00:36:36] \"POST / HTTP/1.1\" 200 -\n",
      "{'msg': '5', 'name': 'hsz'}\n",
      "{'msg': '3', 'name': '1'}\n",
      "127.0.0.1 - - [23/Jan/2016 00:36:46] \"POST / HTTP/1.1\" 200 -\n",
      "^C\n"
     ]
    }
   ],
   "source": [
    "!python3 ../codes/msgboard/manager.py runserver"
   ]
  },
  {
   "cell_type": "code",
   "execution_count": null,
   "metadata": {
    "collapsed": true
   },
   "outputs": [],
   "source": []
  }
 ],
 "metadata": {
  "kernelspec": {
   "display_name": "Python 3",
   "language": "python",
   "name": "python3"
  },
  "language_info": {
   "codemirror_mode": {
    "name": "ipython",
    "version": 3
   },
   "file_extension": ".py",
   "mimetype": "text/x-python",
   "name": "python",
   "nbconvert_exporter": "python",
   "pygments_lexer": "ipython3",
   "version": "3.5.1"
  }
 },
 "nbformat": 4,
 "nbformat_minor": 0
}
