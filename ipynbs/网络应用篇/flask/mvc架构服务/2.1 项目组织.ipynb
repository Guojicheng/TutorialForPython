{
 "cells": [
  {
   "cell_type": "markdown",
   "metadata": {},
   "source": [
    "# 2.1 项目组织\n",
    "\n",
    "之前我们的项目基本没用到什么组织,无非不过是一个文件专注内容一个文件启动外带一些静态文件和模板而已.这样的组织结构已经可用,对于多数微型app来说也不会有啥不便,不过精益求精,我们来规范下项目目录"
   ]
  },
  {
   "cell_type": "markdown",
   "metadata": {},
   "source": [
    "这章节我们要做一个留言板,我们会根据实际遇到的需求一版一版的晚上这个app,最终让它确实可用.\n",
    "\n",
    "首先我们以之前的helloworld项目作为模板将其中的东西都拷贝进新建的项目msgboard中.\n",
    "并将所有文件都规范化,引入`__future__`模块,固定编码为utf-8,写下作者,日期和授权协议,并做好文档工作"
   ]
  },
  {
   "cell_type": "markdown",
   "metadata": {},
   "source": [
    "## 配置文件和结构\n",
    "\n",
    "\n",
    "我们的项目有时候会根据不同的环境改变配置,比如调试用的数据库和真正运行就不一样所以我们可以把配置数据放入一个专用的文件中,然后作为全局变量引入app来做设置"
   ]
  },
  {
   "cell_type": "code",
   "execution_count": 44,
   "metadata": {
    "collapsed": false
   },
   "outputs": [
    {
     "name": "stdout",
     "output_type": "stream",
     "text": [
      "Overwriting ../codes/msgboard/config.py\n"
     ]
    }
   ],
   "source": [
    "%%writefile ../codes/msgboard/config.py\n",
    "#--*--coding:utf-8 --*--\n",
    "from __future__ import absolute_import,division,print_function,unicode_literals\n",
    "\n",
    "import os\n",
    "basedir = os.path.abspath(os.path.dirname(__file__))\n",
    "\n",
    "class Config:\n",
    "    SECRET_KEY = os.environ.get('SECRET_KEY') or 'hard to guess string' \n",
    "    \n",
    "    @staticmethod\n",
    "    def init_app(app):\n",
    "        pass\n",
    "    \n",
    "\n",
    "class DevelopmentConfig(Config): \n",
    "    \n",
    "    DEBUG = True\n",
    "         \n",
    "class TestingConfig(Config): \n",
    "    TESTING = True\n",
    "    \n",
    "class ProductionConfig(Config):\n",
    "    pass\n",
    "\n",
    "config = {\n",
    "    'development': DevelopmentConfig,\n",
    "    'testing': TestingConfig, \n",
    "    'production': ProductionConfig,\n",
    "    'default': DevelopmentConfig\n",
    "}\n",
    "\n",
    "    \n",
    "    "
   ]
  },
  {
   "cell_type": "markdown",
   "metadata": {},
   "source": [
    "接着我们把之前的静态文件,模板都拷贝过去,并把文件的模板写好随时可以开始"
   ]
  },
  {
   "cell_type": "code",
   "execution_count": 60,
   "metadata": {
    "collapsed": false
   },
   "outputs": [
    {
     "name": "stdout",
     "output_type": "stream",
     "text": [
      "Overwriting ../codes/msgboard/manager.py\n"
     ]
    }
   ],
   "source": [
    "%%writefile ../codes/msgboard/manager.py\n",
    "#--*--coding:utf-8 --*--\n",
    "from __future__ import absolute_import,division,print_function,unicode_literals\n",
    "\"\"\"\n",
    "A startup manager of the application.\n",
    "\n",
    "Author:Huang Sizhe\n",
    "Date:22/01/2016\n",
    "License:MIT\n",
    "======================================\n",
    "\n",
    "应用的启动文件\n",
    "\n",
    "作者:黄思喆\n",
    "日期:2016年1月22日\n",
    "本应用使用MIT许可证\n",
    "\n",
    "\"\"\"\n",
    "\n",
    "__author__ = \"Huang Sizhe\"\n",
    "__date__ = \"22/01/2016\"\n",
    "\n",
    "import os\n",
    "import sys\n",
    "from flask.ext.script import Manager\n",
    "\n",
    "root = os.path.dirname(__file__)\n",
    "\n",
    "from app import app\n",
    "\n",
    "manager = Manager(app)\n",
    "\n",
    "if __name__ == '__main__':\n",
    "    manager.run()"
   ]
  },
  {
   "cell_type": "code",
   "execution_count": 75,
   "metadata": {
    "collapsed": false
   },
   "outputs": [
    {
     "name": "stdout",
     "output_type": "stream",
     "text": [
      "Overwriting ../codes/msgboard/app.py\n"
     ]
    }
   ],
   "source": [
    "%%writefile ../codes/msgboard/app.py\n",
    "#--*--coding:utf-8 --*--\n",
    "from __future__ import absolute_import,division,print_function,unicode_literals\n",
    "\"\"\"\n",
    "A message board appliation.\n",
    "\n",
    "Author:Huang Sizhe\n",
    "Date:22/01/2016\n",
    "License:MIT\n",
    "======================================\n",
    "\n",
    "留言板应用\n",
    "\n",
    "作者:黄思喆\n",
    "日期:2016年1月22日\n",
    "本应用使用MIT许可证\n",
    "\n",
    "\"\"\"\n",
    "#=================导入模块=================\n",
    "from flask import Flask,render_template,make_response\n",
    "\n",
    "from flask.ext.bootstrap import Bootstrap\n",
    "\n",
    "from flask_wtf.csrf import CsrfProtect\n",
    "from flask.ext.wtf import Form\n",
    "from wtforms import StringField, SubmitField \n",
    "from wtforms.validators import Required\n",
    "\n",
    "#=================载入插件=================\n",
    "bootstrap = Bootstrap()\n",
    "csrf = CsrfProtect()\n",
    "\n",
    "#=================应用设置=================\n",
    "from config import config\n",
    "def create_app(config_name):\n",
    "    app = Flask(__name__)\n",
    "    app.config.from_object(config[config_name])\n",
    "    config[config_name].init_app(app)\n",
    "    bootstrap.init_app(app)\n",
    "    csrf.init_app(app)\n",
    "    return app\n",
    "\n",
    "import os\n",
    "app = create_app(os.getenv('FLASK_CONFIG') or 'default')    \n",
    "\n",
    "#================主体=====================\n",
    "\n",
    "\n",
    "##----------------表单--------------------\n",
    "\n",
    "\"\"\"class aForm(Form):\n",
    "    string = StringField('How much RMB to change?', validators=[Required()])\n",
    "    submit = SubmitField('Submit')\"\"\"\n",
    "    \n",
    "##----------------模板过滤器---------------\n",
    "\n",
    "\"\"\"@app.template_filter('RMBtoUSD')\n",
    "def RMBtoUSD(text):\n",
    "    pass\"\"\"\n",
    "\n",
    "##----------------通用行为-----------------\n",
    "\n",
    "\"\"\"@app.before_request\n",
    "def before_request():\n",
    "    pass\n",
    "\"\"\"\n",
    "##----------------错误页面-----------------\n",
    "\"\"\"@app.errorhandler(404)\n",
    "def page_not_found(error):\n",
    "    return \"404,page not found!\",404,{\"a\":\"af\"}\"\"\"\n",
    "##----------------路由--------------------\n",
    "\n",
    "@app.route('/',methods = [\"GET\",\"POST\"])\n",
    "def hello():\n",
    "    \"\"\"aform = aForm()\n",
    "    \n",
    "    if aform.validate_on_submit():\n",
    "        pass\"\"\"\n",
    "    response = make_response(render_template('app/index.html'))\n",
    "    return response\n",
    "\n"
   ]
  },
  {
   "cell_type": "code",
   "execution_count": 73,
   "metadata": {
    "collapsed": false,
    "scrolled": true
   },
   "outputs": [
    {
     "name": "stdout",
     "output_type": "stream",
     "text": [
      "Overwriting ../codes/msgboard/templates/app/index.html\n"
     ]
    }
   ],
   "source": [
    "%%writefile ../codes/msgboard/templates/app/index.html\n",
    "{% extends \"/base.html\" %}\n",
    "{% block title %}MSG BOARD{% endblock %}\n",
    "{% block content %}\n",
    "\n",
    "    <div class=\"container\">\n",
    "        <div class=\"page-header\">\n",
    "            <h1>MSG BOARD!</h1>\n",
    "        </div>      \n",
    "    </div>    \n",
    "    \n",
    "{{ super() }}\n",
    "{% endblock %}"
   ]
  },
  {
   "cell_type": "code",
   "execution_count": 74,
   "metadata": {
    "collapsed": false,
    "scrolled": true
   },
   "outputs": [
    {
     "name": "stdout",
     "output_type": "stream",
     "text": [
      " * Running on http://127.0.0.1:5000/ (Press CTRL+C to quit)\n",
      " * Restarting with stat\n",
      " * Debugger is active!\n",
      " * Debugger pin code: 258-121-533\n",
      "127.0.0.1 - - [22/Jan/2016 16:21:03] \"GET / HTTP/1.1\" 200 -\n",
      "127.0.0.1 - - [22/Jan/2016 16:21:03] \"GET /favicon.ico HTTP/1.1\" 404 -\n",
      "127.0.0.1 - - [22/Jan/2016 16:21:03] \"GET /apple-touch-icon-precomposed.png HTTP/1.1\" 404 -\n",
      "127.0.0.1 - - [22/Jan/2016 16:21:03] \"GET /apple-touch-icon.png HTTP/1.1\" 404 -\n",
      "^C\n"
     ]
    }
   ],
   "source": [
    "!python3 ../codes/msgboard/manager.py runserver"
   ]
  },
  {
   "cell_type": "markdown",
   "metadata": {},
   "source": [
    "## 使用虚拟环境\n",
    "\n",
    "为啥要使用虚拟环境呢?因为这样的话便于固定使用环境,移植会方便许多.我们的项目最终目的都是希望放到服务器上为大众提供服务的,因此可移植性是非常重要的一个方面.打开`terminal`,使用pyvenv创建一个调试用的虚拟环境\n",
    "\n",
    "    cd your_path\n",
    "    pyvenv env\n",
    "  \n",
    "激活你的运行环境:\n",
    "\n",
    "    source env/bin/activate\n",
    "    \n",
    "接着为你的虚拟环境安装必要地包.可以参考之前微项目部分每章最后的总结\n",
    "\n",
    "目前用到的包有:\n",
    "\n",
    "包|作用\n",
    "---|---\n",
    "flask|flask web框架\n",
    "flask-script|flask的上下文shell\n",
    "jinja2|flask的默认模板\n",
    "flask-bootstrap|flask的bootstrap前端扩展\n",
    "flask-wtf|构建表单\n"
   ]
  },
  {
   "cell_type": "markdown",
   "metadata": {},
   "source": [
    "## 利用git做版本控制\n",
    "\n",
    "最简单的方法是使用\"github Desktop\"来做.毕竟有gui,选项又少,比较方便.具体的可以看各种教程,我之前也有写过一篇,可以作为参考"
   ]
  },
  {
   "cell_type": "markdown",
   "metadata": {},
   "source": [
    "## 确定使用的开源协议\n",
    "\n",
    "一般来说我们都用开源协议来规范后续开发者的行为(万一火了呢手动斜眼),常见的许可证有那么几种,我之前有文章提到过如何选择,总之找个放到文件根目录!\n",
    "我选择MIT许可证"
   ]
  },
  {
   "cell_type": "code",
   "execution_count": 21,
   "metadata": {
    "collapsed": false
   },
   "outputs": [
    {
     "name": "stdout",
     "output_type": "stream",
     "text": [
      "Writing ../codes/msgboard/License\n"
     ]
    }
   ],
   "source": [
    "%%writefile ../codes/msgboard/License\n",
    "\n",
    "Copyright (C) 22/01/2016 Huang Sizhe\n",
    "\n",
    "　　Permission is hereby granted, free of charge,to any person obtaining a copy of this software and associated documentation files (the \"Software\"), to deal in the Software without restriction, including without limitation the rights to use, copy, modify, merge, publish, distribute, sublicense, and/or sell copies of the Software, and to permit persons to whom the Software is furnished to do so, subject to the following conditions:\n",
    "　　\n",
    "　　The above copyright notice and this permission notice shall be included in all copies or substantial portions of the Software.\n",
    "THE SOFTWARE IS PROVIDED \"AS IS\", WITHOUT WARRANTY OF ANY KIND, EXPRESS OR IMPLIED, INCLUDING BUT NOT LIMITED TO THE WARRANTIES OF MERCHANTABILITY, FITNESS FOR A PARTICULAR PURPOSE AND NONINFRINGEMENT. IN NO EVENT SHALL THE AUTHORS OR COPYRIGHT HOLDERS BE LIABLE FOR ANY CLAIM, DAMAGES OR OTHER LIABILITY, WHETHER IN AN ACTION OF CONTRACT, TORT OR OTHERWISE, ARISING FROM, OUT OF OR IN CONNECTION WITH THE SOFTWARE OR THE USE OR OTHER DEALINGS IN THE SOFTWARE."
   ]
  },
  {
   "cell_type": "markdown",
   "metadata": {},
   "source": [
    "##  第三方包使用需求文档(requirement.txt)\n",
    "\n",
    "我们最好时常用pip工具固定下使用包的版本,这样才好更好的移植\n",
    "\n",
    "使用\n",
    "\n",
    "    $ pip freeze > requirements.txt \n",
    "    \n",
    "    \n",
    "来固定使用的包,下次移植的时候只要在新的环境中使用\n",
    "\n",
    "    $ pip install -r requirements.txt\n",
    "    \n",
    "就可以原样\n",
    "不变的安装需要的依赖了\n",
    "    "
   ]
  },
  {
   "cell_type": "markdown",
   "metadata": {},
   "source": [
    "## 测试文件\n",
    "\n",
    "为了找bug我们还应该有一个测试文件专门用来做测试(目前先不管这块,后面会一起讨论)"
   ]
  },
  {
   "cell_type": "code",
   "execution_count": 22,
   "metadata": {
    "collapsed": false
   },
   "outputs": [
    {
     "name": "stdout",
     "output_type": "stream",
     "text": [
      "Overwriting ../codes/msgboard/test.py\n"
     ]
    }
   ],
   "source": [
    "%%writefile ../codes/msgboard/test.py\n",
    "#--*--coding:utf-8 --*--\n",
    "from __future__ import absolute_import,division,print_function,unicode_literals\n",
    "\n",
    "import nose\n",
    "from app import app\n"
   ]
  },
  {
   "cell_type": "markdown",
   "metadata": {},
   "source": [
    "## 基本的组织形式:\n",
    "\n",
    "    msgboard\\\n",
    "            |--app.py\n",
    "            |--config.py\n",
    "            |--manager.py\n",
    "            |--test.py\n",
    "            |--License\n",
    "            |--requirement.txt\n",
    "            |--env\\\n",
    "            |--static\\\n",
    "            |--templates\\\n",
    "                        |--base.html\n",
    "                        |--blocks\\\n",
    "                        |        |--footer.html\n",
    "                        |        |--mainnavbar.html\n",
    "                        |\n",
    "                        |--index.html"
   ]
  }
 ],
 "metadata": {
  "kernelspec": {
   "display_name": "Python 3",
   "language": "python",
   "name": "python3"
  },
  "language_info": {
   "codemirror_mode": {
    "name": "ipython",
    "version": 3
   },
   "file_extension": ".py",
   "mimetype": "text/x-python",
   "name": "python",
   "nbconvert_exporter": "python",
   "pygments_lexer": "ipython3",
   "version": "3.5.1"
  }
 },
 "nbformat": 4,
 "nbformat_minor": 0
}
