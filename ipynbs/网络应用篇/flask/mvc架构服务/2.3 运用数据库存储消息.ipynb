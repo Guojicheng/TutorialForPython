{
 "cells": [
  {
   "cell_type": "markdown",
   "metadata": {},
   "source": [
    "# 2.3 运用数据库存储消息\n",
    "\n",
    "我们的留言板虽然可以使用了,但因为是由程序中的全局变量维护的数据,所以一旦关闭程序我们的留言板就会被清空.要解决这个问题我们需要使用数据库.在之前的数据库部分我们已经了解过SQLAlchemy,flask有个插件叫[flask-SQLAlchemy](http://www.pythondoc.com/flask-sqlalchemy/quickstart.html),我们打算用它来实现app的数据库操作\n",
    "\n",
    "我们只需要修改app.py和设置文件即可.\n",
    "\n",
    "我们呢首先要哦通过命令行把表建出来,所以也要修改manager.py"
   ]
  },
  {
   "cell_type": "code",
   "execution_count": 25,
   "metadata": {
    "collapsed": false
   },
   "outputs": [
    {
     "name": "stdout",
     "output_type": "stream",
     "text": [
      "Overwriting ../codes/msgboard/config.py\n"
     ]
    }
   ],
   "source": [
    "%%writefile ../codes/msgboard/config.py\n",
    "#--*--coding:utf-8 --*--\n",
    "from __future__ import absolute_import,division,print_function,unicode_literals\n",
    "\n",
    "import os\n",
    "basedir = os.path.abspath(os.path.dirname(__file__))\n",
    "\n",
    "class Config:\n",
    "    SECRET_KEY = os.environ.get('SECRET_KEY') or 'hard to guess string' \n",
    "    SQLALCHEMY_COMMIT_ON_TEARDOWN = True  \n",
    "    @staticmethod\n",
    "    def init_app(app):\n",
    "        pass\n",
    "    \n",
    "\n",
    "class DevelopmentConfig(Config): \n",
    "    SQLALCHEMY_DATABASE_URI = 'sqlite:///' + os.path.join(basedir, 'data.sqlite')#数据库位置\n",
    "    DEBUG = True\n",
    "         \n",
    "class TestingConfig(Config): \n",
    "    TESTING = True\n",
    "    \n",
    "class ProductionConfig(Config):\n",
    "    pass\n",
    "\n",
    "config = {\n",
    "    'development': DevelopmentConfig,\n",
    "    'testing': TestingConfig, \n",
    "    'production': ProductionConfig,\n",
    "    'default': DevelopmentConfig\n",
    "}\n",
    "\n",
    "    \n",
    "    "
   ]
  },
  {
   "cell_type": "code",
   "execution_count": 27,
   "metadata": {
    "collapsed": false
   },
   "outputs": [
    {
     "name": "stdout",
     "output_type": "stream",
     "text": [
      "Overwriting ../codes/msgboard/app.py\n"
     ]
    }
   ],
   "source": [
    "%%writefile ../codes/msgboard/app.py\n",
    "#--*--coding:utf-8 --*--\n",
    "from __future__ import absolute_import,division,print_function,unicode_literals\n",
    "\"\"\"\n",
    "A message board appliation.\n",
    "\n",
    "Author:Huang Sizhe\n",
    "Date:22/01/2016\n",
    "License:MIT\n",
    "======================================\n",
    "\n",
    "留言板应用\n",
    "\n",
    "作者:黄思喆\n",
    "日期:2016年1月22日\n",
    "本应用使用MIT许可证\n",
    "\n",
    "\"\"\"\n",
    "#=================导入模块=================\n",
    "from flask import Flask,render_template,make_response,redirect,url_for\n",
    "\n",
    "from flask.ext.bootstrap import Bootstrap\n",
    "\n",
    "from flask_wtf.csrf import CsrfProtect\n",
    "from flask.ext.wtf import Form\n",
    "from wtforms import StringField, SubmitField \n",
    "from wtforms.validators import Required\n",
    "\n",
    "from flask.ext.sqlalchemy import SQLAlchemy#导入ORM模块\n",
    "\n",
    "#=================载入插件=================\n",
    "bootstrap = Bootstrap()\n",
    "csrf = CsrfProtect()\n",
    "db = SQLAlchemy()# 实例化ORM对象\n",
    "#=================应用设置=================\n",
    "from config import config\n",
    "def create_app(config_name):\n",
    "    app = Flask(__name__)\n",
    "    app.config.from_object(config[config_name])\n",
    "    config[config_name].init_app(app)\n",
    "    bootstrap.init_app(app)\n",
    "    csrf.init_app(app)\n",
    "    db.init_app(app)#初始化数据库\n",
    "    return app\n",
    "\n",
    "import os\n",
    "app = create_app(os.getenv('FLASK_CONFIG') or 'default')    \n",
    "\n",
    "#================主体=====================\n",
    "\n",
    "#-----------------数据库对象---------------\n",
    "class MSG(db.Model):\n",
    "    __tablename__ = 'msgs'\n",
    "    id = db.Column(db.Integer, primary_key=True)\n",
    "    contents = db.Column(db.Text, unique=True)\n",
    "    author = db.Column(db.String(64), unique=True)\n",
    "\n",
    "    def __repr__(self):\n",
    "        return '<Msg {} {}>'.format(self.author,self.contents)\n",
    "\n",
    "\n",
    "\n",
    "##----------------表单--------------------\n",
    "\n",
    "class MsgForm(Form):\n",
    "    name = StringField('Your name ?', validators=[Required()])\n",
    "    msg = StringField('The msg', validators=[Required()])\n",
    "    submit = SubmitField('Submit')\n",
    "\n",
    "\n",
    "##----------------view--------------------\n",
    "\n",
    "@app.route('/',methods = [\"GET\",\"POST\"])\n",
    "def index():\n",
    "    msgform = MsgForm()\n",
    "    if msgform.validate_on_submit():\n",
    "        \n",
    "        msg = MSG(contents = msgform.msg.data,author = msgform.name.data)\n",
    "        db.session.add(msg)\n",
    "        db.session.commit()\n",
    "        msgform.msg.data = ''\n",
    "        msgform.name.data = ''\n",
    "        return redirect(url_for('index'))\n",
    "        MSG.query.all()\n",
    "    response = make_response(render_template('app/index.html',\n",
    "                                             msgform=msgform,\n",
    "                                             MSG = MSG.query.all()))\n",
    "    return response\n",
    "\n",
    "\n",
    "\n"
   ]
  },
  {
   "cell_type": "code",
   "execution_count": 30,
   "metadata": {
    "collapsed": false
   },
   "outputs": [
    {
     "name": "stdout",
     "output_type": "stream",
     "text": [
      "Overwriting ../codes/msgboard/templates/app/index.html\n"
     ]
    }
   ],
   "source": [
    "%%writefile ../codes/msgboard/templates/app/index.html\n",
    "{% extends \"/base.html\" %}\n",
    "{% import \"bootstrap/wtf.html\" as wtf %}\n",
    "{% block title %}MSG BOARD{% endblock %}\n",
    "{% block content %}\n",
    "\n",
    "    <div class=\"container\">\n",
    "        <div class=\"page-header\">\n",
    "            <h1>MSG BOARD!</h1>\n",
    "            {{ wtf.quick_form(msgform,form_type='horizontal') }}\n",
    "            \n",
    "            <ul class=entries>\n",
    "              {% for entry in MSG %}\n",
    "                <li><h4>{{ entry.author  }} say:</h4><p>{{ entry.contents }}<p>\n",
    "              {% else %}\n",
    "                <li><em>Unbelievable.  No entries here so far</em>\n",
    "              {% endfor %}\n",
    "            </ul>\n",
    "            \n",
    "        </div>      \n",
    "    </div>    \n",
    "    \n",
    "{{ super() }}\n",
    "{% endblock %}"
   ]
  },
  {
   "cell_type": "markdown",
   "metadata": {},
   "source": [
    "### 将数据库集成到shell\n",
    "\n",
    "每次启动 shell 会话都要导入数据库实例和模型,这真是份枯燥的工作。为了避免一直重复\n",
    "导入,我们可以做些配置,让 Flask-Script 的 shell 命令自动导入特定的对象。 若想把对象添加到导入列表中,我们要为 shell 命令注册一个 make_context 回调函数在其中注册好需要的变量即可,要在shell中操作数据库只要在再后面添加一句\n",
    "`manager.add_command(\"shell\", Shell(make_context=make_shell_context))`,运行的时候用shell作为参数即可"
   ]
  },
  {
   "cell_type": "code",
   "execution_count": 26,
   "metadata": {
    "collapsed": false
   },
   "outputs": [
    {
     "name": "stdout",
     "output_type": "stream",
     "text": [
      "Overwriting ../codes/msgboard/manager.py\n"
     ]
    }
   ],
   "source": [
    "%%writefile ../codes/msgboard/manager.py\n",
    "#--*--coding:utf-8 --*--\n",
    "from __future__ import absolute_import,division,print_function,unicode_literals\n",
    "\"\"\"\n",
    "A startup manager of the application.\n",
    "\n",
    "Author:Huang Sizhe\n",
    "Date:22/01/2016\n",
    "License:MIT\n",
    "======================================\n",
    "\n",
    "应用的启动文件\n",
    "\n",
    "作者:黄思喆\n",
    "日期:2016年1月22日\n",
    "本应用使用MIT许可证\n",
    "\n",
    "\"\"\"\n",
    "\n",
    "__author__ = \"Huang Sizhe\"\n",
    "__date__ = \"22/01/2016\"\n",
    "\n",
    "import os\n",
    "import sys\n",
    "from flask.ext.script import Manager,Shell\n",
    "\n",
    "root = os.path.dirname(__file__)\n",
    "\n",
    "from app import app,db,MSG\n",
    "\n",
    "manager = Manager(app)\n",
    "\n",
    "def make_shell_context():\n",
    "    return dict(app=app, db=db, MSG=MSG)\n",
    "manager.add_command(\"shell\", Shell(make_context=make_shell_context))\n",
    "\n",
    "if __name__ == '__main__':\n",
    "    manager.run()"
   ]
  },
  {
   "cell_type": "markdown",
   "metadata": {},
   "source": [
    "在自己的terminal里通过manager.py启动shell\n",
    "\n",
    "    \n",
    "    python3 ../codes/msgboard/manager.py shell\n",
    "    \n",
    "    \n",
    "进去后创建表\n",
    "\n",
    "    db.create_all()"
   ]
  },
  {
   "cell_type": "code",
   "execution_count": 31,
   "metadata": {
    "collapsed": false
   },
   "outputs": [
    {
     "name": "stdout",
     "output_type": "stream",
     "text": [
      "/Library/Frameworks/Python.framework/Versions/3.5/lib/python3.5/site-packages/flask_sqlalchemy/__init__.py:800: UserWarning: SQLALCHEMY_TRACK_MODIFICATIONS adds significant overhead and will be disabled by default in the future.  Set it to True to suppress this warning.\n",
      "  warnings.warn('SQLALCHEMY_TRACK_MODIFICATIONS adds significant overhead and will be disabled by default in the future.  Set it to True to suppress this warning.')\n",
      " * Running on http://127.0.0.1:5000/ (Press CTRL+C to quit)\n",
      " * Restarting with stat\n",
      "/Library/Frameworks/Python.framework/Versions/3.5/lib/python3.5/site-packages/flask_sqlalchemy/__init__.py:800: UserWarning: SQLALCHEMY_TRACK_MODIFICATIONS adds significant overhead and will be disabled by default in the future.  Set it to True to suppress this warning.\n",
      "  warnings.warn('SQLALCHEMY_TRACK_MODIFICATIONS adds significant overhead and will be disabled by default in the future.  Set it to True to suppress this warning.')\n",
      " * Debugger is active!\n",
      " * Debugger pin code: 258-121-533\n",
      "127.0.0.1 - - [25/Jan/2016 00:09:30] \"GET / HTTP/1.1\" 200 -\n",
      "127.0.0.1 - - [25/Jan/2016 00:09:43] \"POST / HTTP/1.1\" 302 -\n",
      "127.0.0.1 - - [25/Jan/2016 00:09:43] \"GET / HTTP/1.1\" 200 -\n",
      "^C\n"
     ]
    }
   ],
   "source": [
    "!python3 ../codes/msgboard/manager.py runserver"
   ]
  },
  {
   "cell_type": "markdown",
   "metadata": {},
   "source": [
    "# 总结 \n",
    "\n",
    "用到的模块:\n",
    "\n",
    "包|作用\n",
    "---|---\n",
    "flask|flask web框架\n",
    "flask-script|flask的上下文shell\n",
    "jinja2|flask的默认模板\n",
    "flask-bootstrap|flask的bootstrap前端扩展\n",
    "flask-wtf|构建表单\n",
    "flask-SQLAlchemy|关系数据库ORM"
   ]
  }
 ],
 "metadata": {
  "kernelspec": {
   "display_name": "Python 3",
   "language": "python",
   "name": "python3"
  },
  "language_info": {
   "codemirror_mode": {
    "name": "ipython",
    "version": 3
   },
   "file_extension": ".py",
   "mimetype": "text/x-python",
   "name": "python",
   "nbconvert_exporter": "python",
   "pygments_lexer": "ipython3",
   "version": "3.5.1"
  }
 },
 "nbformat": 4,
 "nbformat_minor": 0
}
