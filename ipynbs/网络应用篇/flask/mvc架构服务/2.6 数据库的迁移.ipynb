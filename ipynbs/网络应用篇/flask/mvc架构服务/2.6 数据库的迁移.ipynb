{
 "cells": [
  {
   "cell_type": "markdown",
   "metadata": {},
   "source": [
    "数据库的改动往往会引起数据的丢失等问题,而在开发阶段有不可避免的要对数据库进行修改这时候数据迁移技术就有用了"
   ]
  },
  {
   "cell_type": "markdown",
   "metadata": {},
   "source": [
    " [Alembic](https://alembic.readthedocs.org/en/latest/index.html)是常用的数据迁移框架,而[`Flask-Migrate`](http://flask-migrate.readthedocs.org/en/latest/)是一个对它的轻量级包装,我们可以直接用它在`Flask-Script`中实现数据库迁移."
   ]
  },
  {
   "cell_type": "code",
   "execution_count": 1,
   "metadata": {
    "collapsed": false
   },
   "outputs": [
    {
     "name": "stdout",
     "output_type": "stream",
     "text": [
      "Collecting flask-migrate\n",
      "  Downloading http://pypi.douban.com/packages/source/F/Flask-Migrate/Flask-Migrate-1.7.0.tar.gz\n",
      "Requirement already satisfied (use --upgrade to upgrade): Flask>=0.9 in /Library/Frameworks/Python.framework/Versions/3.5/lib/python3.5/site-packages (from flask-migrate)\n",
      "Requirement already satisfied (use --upgrade to upgrade): Flask-SQLAlchemy>=1.0 in /Library/Frameworks/Python.framework/Versions/3.5/lib/python3.5/site-packages (from flask-migrate)\n",
      "Collecting alembic>=0.6 (from flask-migrate)\n",
      "  Downloading http://pypi.douban.com/packages/source/a/alembic/alembic-0.8.4.tar.gz (950kB)\n",
      "\u001b[K    100% |████████████████████████████████| 954kB 444kB/s \n",
      "\u001b[?25hRequirement already satisfied (use --upgrade to upgrade): Flask-Script>=0.6 in /Library/Frameworks/Python.framework/Versions/3.5/lib/python3.5/site-packages (from flask-migrate)\n",
      "Requirement already satisfied (use --upgrade to upgrade): Werkzeug>=0.7 in /Library/Frameworks/Python.framework/Versions/3.5/lib/python3.5/site-packages (from Flask>=0.9->flask-migrate)\n",
      "Requirement already satisfied (use --upgrade to upgrade): Jinja2>=2.4 in /Library/Frameworks/Python.framework/Versions/3.5/lib/python3.5/site-packages (from Flask>=0.9->flask-migrate)\n",
      "Requirement already satisfied (use --upgrade to upgrade): itsdangerous>=0.21 in /Library/Frameworks/Python.framework/Versions/3.5/lib/python3.5/site-packages (from Flask>=0.9->flask-migrate)\n",
      "Requirement already satisfied (use --upgrade to upgrade): SQLAlchemy>=0.7 in /Library/Frameworks/Python.framework/Versions/3.5/lib/python3.5/site-packages (from Flask-SQLAlchemy>=1.0->flask-migrate)\n",
      "Collecting Mako (from alembic>=0.6->flask-migrate)\n",
      "  Downloading http://pypi.douban.com/packages/source/M/Mako/Mako-1.0.3.tar.gz (565kB)\n",
      "\u001b[K    100% |████████████████████████████████| 565kB 278kB/s \n",
      "\u001b[?25hCollecting python-editor>=0.3 (from alembic>=0.6->flask-migrate)\n",
      "  Downloading http://pypi.douban.com/packages/source/p/python-editor/python-editor-0.5.tar.gz\n",
      "Requirement already satisfied (use --upgrade to upgrade): MarkupSafe in /Library/Frameworks/Python.framework/Versions/3.5/lib/python3.5/site-packages (from Jinja2>=2.4->Flask>=0.9->flask-migrate)\n",
      "Installing collected packages: Mako, python-editor, alembic, flask-migrate\n",
      "  Running setup.py install for Mako\n",
      "  Running setup.py install for python-editor\n",
      "  Running setup.py install for alembic\n",
      "  Running setup.py install for flask-migrate\n",
      "Successfully installed Mako-1.0.3 alembic-0.8.4 flask-migrate-1.7.0 python-editor-0.5\n",
      "\u001b[33mYou are using pip version 7.1.2, however version 8.0.2 is available.\n",
      "You should consider upgrading via the 'pip install --upgrade pip' command.\u001b[0m\n"
     ]
    }
   ],
   "source": [
    "!pip3 install flask-migrate"
   ]
  },
  {
   "cell_type": "markdown",
   "metadata": {},
   "source": [
    "#  创建迁移仓库\n",
    "\n",
    "我们要做的只是把Migrate初始化,之后添加到manager的命令中"
   ]
  },
  {
   "cell_type": "code",
   "execution_count": 2,
   "metadata": {
    "collapsed": false
   },
   "outputs": [
    {
     "name": "stdout",
     "output_type": "stream",
     "text": [
      "Overwriting ../codes/msgboard/manager.py\n"
     ]
    }
   ],
   "source": [
    "%%writefile ../codes/msgboard/manager.py\n",
    "#--*--coding:utf-8 --*--\n",
    "from __future__ import absolute_import,division,print_function,unicode_literals\n",
    "\"\"\"\n",
    "A startup manager of the application.\n",
    "\n",
    "Author:Huang Sizhe\n",
    "Date:22/01/2016\n",
    "License:MIT\n",
    "======================================\n",
    "\n",
    "应用的启动文件\n",
    "\n",
    "作者:黄思喆\n",
    "日期:2016年1月22日\n",
    "本应用使用MIT许可证\n",
    "\n",
    "\"\"\"\n",
    "\n",
    "__author__ = \"Huang Sizhe\"\n",
    "__date__ = \"22/01/2016\"\n",
    "\n",
    "import os\n",
    "import sys\n",
    "from flask.ext.script import Manager,Shell\n",
    "from flask.ext.migrate import Migrate, MigrateCommand\n",
    "\n",
    "root = os.path.dirname(__file__)\n",
    "#把新加的表名放进去便于操作\n",
    "from app import app,db,Message,User,Role\n",
    "from config import AdminAccount\n",
    "\n",
    "manager = Manager(app)\n",
    "migrate = Migrate(app, db)# 初始化Migrate\n",
    "def init_db(db):\n",
    "    db.create_all()\n",
    "    admin_role = Role(name='Admin')\n",
    "    mod_role = Role(name='Moderator')\n",
    "    user_role = Role(name='User')\n",
    "    db.session.add_all([admin_role, mod_role, user_role])\n",
    "    for i in AdminAccount:\n",
    "        adminaccount = User(name=i[\"name\"] ,email=i[\"email\"],role =admin_role ,password = i[\"password\"])\n",
    "        db.session.add(adminaccount)\n",
    "    db.session.commit()\n",
    "\n",
    "\n",
    "def make_shell_context():\n",
    "    return dict(app=app, \n",
    "                db=db,\n",
    "                Message=Message,\n",
    "                User=User,\n",
    "                Role=Role,\n",
    "                init_db=init_db)\n",
    "\n",
    "manager.add_command(\"shell\", Shell(make_context=make_shell_context))\n",
    "manager.add_command('db', MigrateCommand)\n",
    "\n",
    "if __name__ == '__main__':\n",
    "    manager.run()"
   ]
  },
  {
   "cell_type": "markdown",
   "metadata": {},
   "source": [
    "为了导出数据库迁移命令,Flask-Migrate 提供了一个 MigrateCommand 类,可附加到 Flask- Script 的 manager 对象上。在这个例子中,MigrateCommand 类使用 db 命令附加。\n",
    "\n",
    "在维护数据库迁移之前,要使用 init 子命令创建迁移仓库:"
   ]
  },
  {
   "cell_type": "markdown",
   "metadata": {},
   "source": [
    "    python manager.py db init"
   ]
  },
  {
   "cell_type": "markdown",
   "metadata": {},
   "source": [
    "这个命令会创建 migrations 文件夹,所有迁移脚本都存放其中。数据库迁移仓库中的文件要和程序的其他文件一起纳入版本控制。"
   ]
  },
  {
   "cell_type": "markdown",
   "metadata": {},
   "source": [
    "# 创建迁移脚本 \n",
    "\n",
    "在 Alembic 中,数据库迁移用迁移脚本表示。脚本中有两个函数,分别是 upgrade() 和 downgrade()。upgrade() 函数把迁移中的改动应用到数据库中,downgrade() 函数则将改动 删除。Alembic 具有添加和删除改动的能力,因此数据库可重设到修改历史的任意一点。\n",
    "\n",
    "我们可以使用 revision 命令手动创建 Alembic 迁移,也可使用 migrate 命令自动创建。 手动创建的迁移只是一个骨架,upgrade() 和 downgrade() 函数都是空的,开发者要使用Alembic 提供的 Operations 对象指令实现具体操作。自动创建的迁移会根据模型定义和数 据库当前状态之间的差异生成 upgrade() 和 downgrade() 函数的内容。\n",
    "\n",
    "自动创建的迁移不一定总是正确的,有可能会漏掉一些细节。自动生成迁移 脚本后一定要进行检查。"
   ]
  },
  {
   "cell_type": "markdown",
   "metadata": {},
   "source": [
    "migrate 子命令用来自动创建迁移脚本:\n",
    "\n",
    "    python manager.py db migrate -m \"initial migration\""
   ]
  },
  {
   "cell_type": "markdown",
   "metadata": {},
   "source": [
    "# 更新数据库\n",
    "\n",
    "    python manager.py db upgrade"
   ]
  },
  {
   "cell_type": "markdown",
   "metadata": {},
   "source": [
    "# 总结\n",
    "\n",
    "这部分我们介绍了下数据库迁移\n",
    "\n",
    "用到的模块:\n",
    "\n",
    "包|作用\n",
    "---|---\n",
    "flask|flask web框架\n",
    "flask-script|flask的上下文shell\n",
    "jinja2|flask的默认模板\n",
    "flask-bootstrap|flask的bootstrap前端扩展\n",
    "flask-wtf|构建表单\n",
    "Flask-Bcrypt|密码加密\n",
    "flask-SQLAlchemy|关系数据库ORM\n",
    "Flask-Login|登录管理\n",
    "itsdangerous(flask自带)|生成验证token\n",
    "flask-mail(可选)|发送邮件\n",
    "Flask-Migrate|数据库迁移\n",
    "\n",
    "小型app的搭建攻略就到此为止了,这部分主要是介绍数据库操作和单app多文件的项目架构.学了这个,一般的小型app已经足够应付了,但也可以看到随着功能的增加,代码的增多,项目的复杂度变高了,可读性也变差了,之后的部分我们将学习如何用蓝图构建大中型项目,但在之前,让我们先扩展一下,用flask写个api服务(请看EX01)"
   ]
  }
 ],
 "metadata": {
  "kernelspec": {
   "display_name": "Python 3",
   "language": "python",
   "name": "python3"
  },
  "language_info": {
   "codemirror_mode": {
    "name": "ipython",
    "version": 3
   },
   "file_extension": ".py",
   "mimetype": "text/x-python",
   "name": "python",
   "nbconvert_exporter": "python",
   "pygments_lexer": "ipython3",
   "version": "3.5.1"
  }
 },
 "nbformat": 4,
 "nbformat_minor": 0
}
