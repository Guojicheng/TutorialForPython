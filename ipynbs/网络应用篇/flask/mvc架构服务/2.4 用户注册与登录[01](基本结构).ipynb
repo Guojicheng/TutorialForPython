{
 "cells": [
  {
   "cell_type": "markdown",
   "metadata": {},
   "source": [
    "# 2.4 用户注册与登录`[01]`(基本结构)\n",
    "\n",
    "一般留言板都会要收集用户信息,之前的版本中因为没有用户信息我们使用用户自己写名字的方式,这种明显是很不靠谱的,那么怎么做用户登录呢,首先从数据库的改造开始:\n",
    "\n",
    "我们把之前的一张表拆成两张,一张是Users,一张是Messages,以及一张users,messages间的关系表.\n",
    "\n",
    "User:\n",
    "\n",
    "字段|类型\n",
    "---|---\n",
    "id|int[pr]\n",
    "name|String(64)\n",
    "password|String(64)\n",
    "email|String(64)\n",
    "role_id|int[FK]\n",
    "\n",
    "Message:\n",
    "\n",
    "字段|类型\n",
    "---|---\n",
    "id|int[pr]\n",
    "content|text\n",
    "timestemp|datetime[idx]\n",
    "author_id|int[FK]\n",
    "\n",
    "\n",
    "关于用户,明显还有一张表就是用户权限表,用这个来保证不是所有人都可以操作网站.\n",
    "\n",
    "Role:\n",
    "\n",
    "字段|类型\n",
    "---|---\n",
    "Roleid|int[pr]\n",
    "name|String(64)[pr]\n",
    "\n",
    "\n",
    "\n",
    "\n",
    "然后我们需要给一个注册页面来让用户注册,当然配套的也要有注销的操作,要保存用户的登录信息,最简单的方式就是使用cookie,用户的密码信息最好先加密.我们使用[Flask-Bcrypt](http://flask-bcrypt.readthedocs.org/en/latest/)来加密,Flask-Bcrypt可以自定义一个数值然后通过多次迭代产生密码的散列,相对来说还是比较安全."
   ]
  },
  {
   "cell_type": "markdown",
   "metadata": {},
   "source": [
    "> 设置config,添加BCRYPT设置,新增管理员数据"
   ]
  },
  {
   "cell_type": "code",
   "execution_count": 75,
   "metadata": {
    "collapsed": false
   },
   "outputs": [
    {
     "name": "stdout",
     "output_type": "stream",
     "text": [
      "Overwriting ../codes/msgboard/config.py\n"
     ]
    }
   ],
   "source": [
    "%%writefile ../codes/msgboard/config.py\n",
    "#--*--coding:utf-8 --*--\n",
    "from __future__ import absolute_import,division,print_function,unicode_literals\n",
    "\n",
    "import os\n",
    "basedir = os.path.abspath(os.path.dirname(__file__))\n",
    "\n",
    "class Config:\n",
    "    SECRET_KEY = os.environ.get('SECRET_KEY') or 'hard to guess string' \n",
    "    BCRYPT_LEVEL = 10 # 配置Flask-Bcrypt拓展\n",
    "    @staticmethod\n",
    "    def init_app(app):\n",
    "        pass\n",
    "    \n",
    "\n",
    "class DevelopmentConfig(Config): \n",
    "    SQLALCHEMY_DATABASE_URI = 'sqlite:///' + os.path.join(basedir, 'data.sqlite')\n",
    "    DEBUG = True\n",
    "         \n",
    "class TestingConfig(Config): \n",
    "    TESTING = True\n",
    "    \n",
    "class ProductionConfig(Config):\n",
    "    pass\n",
    "\n",
    "config = {\n",
    "    'development': DevelopmentConfig,\n",
    "    'testing': TestingConfig, \n",
    "    'production': ProductionConfig,\n",
    "    'default': DevelopmentConfig\n",
    "}\n",
    "\n",
    "AdminAccount = [{\"name\":\"hsz\",\n",
    "                 \"email\":\"hsz1273327@sina.cn\",\n",
    "                 \"password\":\"hsz881224\"\n",
    "        }] \n",
    "\n",
    "BASE_URL = \"127.0.0.1:5000\""
   ]
  },
  {
   "cell_type": "markdown",
   "metadata": {},
   "source": [
    "> app主体\n",
    "\n",
    "新增注册,登录等页面,主页将只作为一个过渡如果我们的用户已经登录,那么直接进入我们的留言板,如果之前退出登录了那么会进如signin页面,如果是第一次过来我们才会把它指向主页,主页和signup页都可以实现注册.我们还要使用[Flask-Login](http://docs.jinkan.org/docs/flask-login/)来做用户登录验证."
   ]
  },
  {
   "cell_type": "code",
   "execution_count": 184,
   "metadata": {
    "collapsed": false,
    "scrolled": true
   },
   "outputs": [
    {
     "name": "stdout",
     "output_type": "stream",
     "text": [
      "Overwriting ../codes/msgboard/app.py\n"
     ]
    }
   ],
   "source": [
    "%%writefile ../codes/msgboard/app.py\n",
    "#--*--coding:utf-8 --*--\n",
    "from __future__ import absolute_import,division,print_function,unicode_literals\n",
    "\"\"\"\n",
    "A message board appliation.\n",
    "\n",
    "Author:Huang Sizhe\n",
    "Date:22/01/2016\n",
    "License:MIT\n",
    "======================================\n",
    "\n",
    "留言板应用\n",
    "\n",
    "作者:黄思喆\n",
    "日期:2016年1月22日\n",
    "本应用使用MIT许可证\n",
    "\n",
    "\"\"\"\n",
    "from datetime import datetime,timedelta, timezone\n",
    "#=================导入模块=================\n",
    "from flask import Flask,render_template,make_response,redirect,url_for,flash,request\n",
    "\n",
    "from flask.ext.bootstrap import Bootstrap\n",
    "\n",
    "from flask_wtf.csrf import CsrfProtect\n",
    "from flask.ext.wtf import Form\n",
    "from wtforms import StringField, SubmitField ,PasswordField\n",
    "from wtforms.validators import DataRequired, Email\n",
    "#导入ORM模块\n",
    "from flask.ext.sqlalchemy import SQLAlchemy\n",
    "#密码加密\n",
    "from flask.ext.bcrypt import Bcrypt,generate_password_hash \n",
    "from sqlalchemy.ext.hybrid import hybrid_property\n",
    "#login\n",
    "from flask.ext.login import UserMixin,LoginManager,login_user,logout_user,login_required,current_user\n",
    "\n",
    "\n",
    "#=================载入插件=================\n",
    "bootstrap = Bootstrap()\n",
    "csrf = CsrfProtect()\n",
    "\n",
    "db = SQLAlchemy()# 实例化ORM对象\n",
    "\n",
    "bcrypt = Bcrypt()#加密\n",
    "login_manager = LoginManager()\n",
    "\n",
    "\n",
    "#=================应用设置=================\n",
    "from config import config,BASE_URL\n",
    "def create_app(config_name):\n",
    "    app = Flask(__name__)\n",
    "    app.config.from_object(config[config_name])\n",
    "    config[config_name].init_app(app)\n",
    "    bootstrap.init_app(app)\n",
    "    csrf.init_app(app)\n",
    "    \n",
    "    db.init_app(app)#初始化数据库\n",
    "    bcrypt.init_app(app)#加密\n",
    "    #login\n",
    "    login_manager.init_app(app)\n",
    "    login_manager.login_view =  \"signin\"\n",
    "    return app\n",
    "\n",
    "import os\n",
    "app = create_app(os.getenv('FLASK_CONFIG') or 'default') \n",
    "\n",
    "#flask-login的回调函数,实现后可以使用current_user来代理访问以登录的用户\n",
    "@login_manager.user_loader\n",
    "def load_user(userid):\n",
    "    return User.query.filter(User.id == userid).first()\n",
    "\n",
    "#================主体=====================\n",
    "\n",
    "#---------------自定义表单验证--------------\n",
    "\n",
    "from wtforms.validators import ValidationError\n",
    "\n",
    "class Unique(object):\n",
    "    def __init__(self, model, field, message=u'Already exist !'):\n",
    "        self.model = model\n",
    "        self.field = field\n",
    "        self.message = message\n",
    "\n",
    "    def __call__(self, form, field):\n",
    "        check = self.model.query.filter(self.field == field.data).first()\n",
    "        if check:\n",
    "            raise ValidationError(self.message)\n",
    "\n",
    "#----------------自定义过滤器--------------\n",
    "\n",
    "\n",
    "\n",
    "#-----------------数据库对象---------------\n",
    "\n",
    "class Role(db.Model):\n",
    "    __tablename__ = 'role'\n",
    "    id = db.Column(db.Integer, primary_key=True)\n",
    "    name = db.Column(db.String(64), unique=True)\n",
    "    user = db.relationship('User', backref='role')\n",
    "    \n",
    "    def __repr__(self):\n",
    "        return '''<Role: {id} name: {name}>'''.format(id = self.id,\n",
    "                                  name = self.name)\n",
    "    \n",
    "#user用于登录还要继承UserMixin ,这样就不用自己写几个验证函数了\n",
    "class User(UserMixin,db.Model):\n",
    "    __tablename__ = 'user'\n",
    "    id = db.Column(db.Integer, primary_key=True)\n",
    "    name = db.Column(db.String(64), unique=True)\n",
    "    _password = db.Column(db.String(64), unique=True)\n",
    "    email = db.Column(db.String(64), unique=True)\n",
    "    role_id = db.Column(db.Integer, db.ForeignKey('role.id'))\n",
    "\n",
    "    message = db.relationship('Message', backref='user')\n",
    "    \n",
    "    #密码的写法:\n",
    "    @hybrid_property\n",
    "    def password(self):\n",
    "        return self._password\n",
    "    \n",
    "    @password.setter\n",
    "    def _set_password(self, plaintext):\n",
    "        self._password = bcrypt.generate_password_hash(plaintext)\n",
    "    \n",
    "\n",
    "    def __repr__(self):\n",
    "        return '''<User: {id} \n",
    "        name: {name}\n",
    "        role_id: {role_id}\n",
    "        email: {email}>'''.format(id = self.id,\n",
    "                                  name = self.name,\n",
    "                                 role_id = self.role_id,\n",
    "                                 email = self.email)\n",
    "    def is_correct_password(self, plaintext):\n",
    "        if bcrypt.check_password_hash(self._password, plaintext):\n",
    "            return True\n",
    "\n",
    "        return False\n",
    "    \n",
    "class Message(db.Model):\n",
    "    __tablename__ = 'message'\n",
    "    id = db.Column(db.Integer, primary_key=True)\n",
    "    content = db.Column(db.Text, unique=True)\n",
    "    timestamp = db.Column(db.DateTime, index=True, default=datetime.utcnow)\n",
    "    author_id = db.Column(db.Integer, db.ForeignKey('user.id'))\n",
    "    \n",
    "    def __repr__(self):\n",
    "        return '<message: {id} - {time} - {content}>'.format(id = self.id,\n",
    "                                                             time=self.timestamp,\n",
    "                                                             content = self.content)\n",
    "\n",
    "\n",
    "    \n",
    "##----------------主页--------------------------\n",
    "class SignUp_Form(Form):\n",
    "    email = StringField('Your e-mail', \n",
    "                        validators=[DataRequired(),\n",
    "                                    Email(), \n",
    "                                    Unique(User, \n",
    "                                           User.email, \n",
    "                                           message='This e-mail has been used. Please use another one.')])\n",
    "                        \n",
    "    username = StringField('Pickup a username', validators=[DataRequired()])\n",
    "    password = PasswordField('Password', validators=[DataRequired()])\n",
    "    submit = SubmitField('Sign Up for MSG Board')\n",
    "\n",
    "@app.route('/',methods = [\"GET\",\"POST\"])\n",
    "def index():\n",
    "    \n",
    "    if current_user.is_authenticated:\n",
    "        return redirect(url_for(\"msgboard\"))\n",
    "    if current_user.is_active:\n",
    "        return redirect(url_for(\"signin\"))\n",
    "    form = SignUp_Form()\n",
    "    if form.validate_on_submit():\n",
    "        user = User(name = form.username.data,\n",
    "                    password = form.password.data,\n",
    "                    email = form.email.data,\n",
    "                    role_id = Role.query.filter_by(name='User').first().id)\n",
    "        db.session.add(user)\n",
    "        db.session.commit()\n",
    "        return redirect(url_for('index'))\n",
    "    \n",
    "    return render_template('app/index.html', form=form)\n",
    "##----------------msgboard页--------------------\n",
    "\n",
    "@app.template_filter('AuthorName')\n",
    "def AuthorName(text):\n",
    "    return User.query.filter_by(id=int(text)).first().name\n",
    "\n",
    "@app.template_filter('LocalTime')\n",
    "def LocalTime(text):\n",
    "    #return text.replace(tzinfo=timezone.utc).astimezone(timezone(timedelta(hours=8)))\n",
    "    local_timezone = {\"zh-cn\":8}\n",
    "    return text.replace(tzinfo=timezone.utc).\\\n",
    "               astimezone(timezone(timedelta(hours=local_timezone.get(request.headers[\"Accept-Language\"],0))))\\\n",
    "    .strftime('%a, %b %d %H:%M')+\" in utc+\"+str(local_timezone.get(request.headers[\"Accept-Language\"],0))\n",
    "    \n",
    "\n",
    "class MsgForm(Form):\n",
    "    msg = StringField('The msg', validators=[DataRequired()])\n",
    "    submit = SubmitField('Submit')\n",
    "\n",
    "\n",
    "@app.route('/msgboard',methods = [\"GET\",\"POST\"])\n",
    "@login_required\n",
    "def msgboard():\n",
    "    msgform = MsgForm()\n",
    "    if msgform.validate_on_submit():\n",
    "        \n",
    "        msg = Message(content = msgform.msg.data,\n",
    "                      author_id=current_user.id)\n",
    "        db.session.add(msg)\n",
    "        db.session.commit()\n",
    "        msgform.msg.data = ''\n",
    "        return redirect(url_for('msgboard'))\n",
    "        \n",
    "    response = make_response(render_template('app/msgboard.html',\n",
    "                                             msgform=msgform,\n",
    "                                             MSG = Message.query.all()))\n",
    "    return response\n",
    "\n",
    "##----------------注册页--------------------v\n",
    "\n",
    "\n",
    "@app.route(\"/signup\",methods = [\"GET\",\"POST\"])\n",
    "def signup():\n",
    "    form = SignUp_Form()\n",
    "    if form.validate_on_submit():\n",
    "        user = User(name = form.username.data,\n",
    "                    password = form.password.data,\n",
    "                    email = form.email.data,\n",
    "                    role_id = Role.query.filter_by(name='User').first().id)\n",
    "        db.session.add(user)\n",
    "        db.session.commit()\n",
    "        return redirect(url_for('index'))\n",
    "\n",
    "    return render_template('app/signup.html', form=form)\n",
    "\n",
    "\n",
    "##----------------登录页--------------------v\n",
    "                        \n",
    "\n",
    "\n",
    "class SignIn_Form(Form):\n",
    "    email = StringField('Your e-mail', validators=[DataRequired()])\n",
    "    password = PasswordField('Password', validators=[DataRequired()])\n",
    "    submit = SubmitField('Sign In')\n",
    "@app.route(\"/signin\",methods = [\"GET\",\"POST\"])\n",
    "def signin():\n",
    "    form = SignIn_Form()\n",
    "\n",
    "    if form.validate_on_submit():\n",
    "        email = User.query.filter_by(email=form.email.data).first_or_404()\n",
    "        if email.is_correct_password(form.password.data):\n",
    "            login_user(email)\n",
    "\n",
    "            return redirect(url_for('index'))\n",
    "        else:\n",
    "            return redirect(url_for('signin'))\n",
    "    return render_template('app/signin.html', form=form)\n",
    "\n",
    "##---------------退出登录--------------------v\n",
    "                        \n",
    "@app.route('/signout')\n",
    "@login_required\n",
    "def signout():\n",
    "    logout_user()\n",
    "    flash('You have been signed out.')\n",
    "    return redirect(url_for('index'))"
   ]
  },
  {
   "cell_type": "markdown",
   "metadata": {},
   "source": [
    ">index.html"
   ]
  },
  {
   "cell_type": "code",
   "execution_count": 179,
   "metadata": {
    "collapsed": false
   },
   "outputs": [
    {
     "name": "stdout",
     "output_type": "stream",
     "text": [
      "Overwriting ../codes/msgboard/templates/app/index.html\n"
     ]
    }
   ],
   "source": [
    "%%writefile ../codes/msgboard/templates/app/index.html\n",
    "{% extends \"/base.html\" %}\n",
    "{% import \"bootstrap/wtf.html\" as wtf %}\n",
    "{% block title %}Sign Up Page{% endblock %}\n",
    "{% block content %}\n",
    "<div id=\"content\">\n",
    "    <div class=\"container\">\n",
    "        <div class=\"page-header\">\n",
    "            <h1>Welcome to this application!</h1>\n",
    "        </div>      \n",
    "        <div class=\"page-body\">\n",
    "            {{ wtf.quick_form(form,form_type='horizontal') }}\n",
    "            <p class=\"pull-right\">you already have a account? please <a href=\"{{ url_for('signin') }}\"}>sign in</a></p>\n",
    "        </div> \n",
    "        <div id=img>\n",
    "             <img src=\"{{ url_for('static', filename = 'jftw.jpg') }}\"></img>\n",
    "        </div>\n",
    "    </div>    \n",
    "</div>   \n",
    "{{ super() }}\n",
    "{% endblock %}"
   ]
  },
  {
   "cell_type": "markdown",
   "metadata": {},
   "source": [
    "> msgboard.html"
   ]
  },
  {
   "cell_type": "code",
   "execution_count": 164,
   "metadata": {
    "collapsed": false
   },
   "outputs": [
    {
     "name": "stdout",
     "output_type": "stream",
     "text": [
      "Overwriting ../codes/msgboard/templates/app/msgboard.html\n"
     ]
    }
   ],
   "source": [
    "%%writefile ../codes/msgboard/templates/app/msgboard.html\n",
    "{% extends \"/base.html\" %}\n",
    "{% import \"bootstrap/wtf.html\" as wtf %}\n",
    "{% block title %}MSG BOARD{% endblock %}\n",
    "{% block content %}\n",
    "\n",
    "    <div class=\"container\">\n",
    "        <div class=\"page-header\">\n",
    "            <h1>MSG BOARD!</h1>\n",
    "            {{ wtf.quick_form(msgform,form_type='horizontal') }}\n",
    "            \n",
    "            <ul class=entries>\n",
    "              {% for entry in MSG %}\n",
    "                <li><h4>{{ entry.author_id|AuthorName}} said at {{entry.timestamp|LocalTime }}:</h4><p>{{ entry.content }}<p></li>\n",
    "              {% else %}\n",
    "                <li><em>Unbelievable.  No messages here so far</em></li>\n",
    "              {% endfor %}\n",
    "            </ul>\n",
    "            \n",
    "        </div>      \n",
    "    </div>    \n",
    "    \n",
    "{{ super() }}\n",
    "{% endblock %}"
   ]
  },
  {
   "cell_type": "markdown",
   "metadata": {},
   "source": [
    "> signup.html"
   ]
  },
  {
   "cell_type": "code",
   "execution_count": 165,
   "metadata": {
    "collapsed": false
   },
   "outputs": [
    {
     "name": "stdout",
     "output_type": "stream",
     "text": [
      "Overwriting ../codes/msgboard/templates/app/signup.html\n"
     ]
    }
   ],
   "source": [
    "%%writefile ../codes/msgboard/templates/app/signup.html\n",
    "{% extends \"/base.html\" %}\n",
    "{% import \"bootstrap/wtf.html\" as wtf %}\n",
    "{% block title %}Sign Up Page{% endblock %}\n",
    "{% block content %}\n",
    "<div id=\"content\">\n",
    "    <div class=\"container\">\n",
    "        <div class=\"page-header\">\n",
    "            <h1>Sign Up Page</h1>\n",
    "        </div>      \n",
    "        <div class=\"page-body\">\n",
    "            {{ wtf.quick_form(form,form_type='horizontal') }}\n",
    "            <p class=\"pull-right\">you already have a account? please <a href=\"{{ url_for('signin') }}\"}>sign in</a></p>\n",
    "        </div> \n",
    "       \n",
    "    </div>    \n",
    "</div>   \n",
    "{{ super() }}\n",
    "{% endblock %}\n"
   ]
  },
  {
   "cell_type": "markdown",
   "metadata": {},
   "source": [
    "> signin.html"
   ]
  },
  {
   "cell_type": "code",
   "execution_count": 166,
   "metadata": {
    "collapsed": false
   },
   "outputs": [
    {
     "name": "stdout",
     "output_type": "stream",
     "text": [
      "Overwriting ../codes/msgboard/templates/app/signin.html\n"
     ]
    }
   ],
   "source": [
    "%%writefile ../codes/msgboard/templates/app/signin.html\n",
    "{% extends \"/base.html\" %}\n",
    "{% import \"bootstrap/wtf.html\" as wtf %}\n",
    "{% block title %}Sign In Page{% endblock %}\n",
    "{% block content %}\n",
    "<div id=\"content\">\n",
    "    <div class=\"container\">\n",
    "        <div class=\"page-header\">\n",
    "            <h1>SignIn Page</h1>\n",
    "        </div>      \n",
    "        <div class=\"page-body\">\n",
    "            {{ wtf.quick_form(form,form_type='horizontal') }}\n",
    "            <p class=\"pull-right\">you do not have a account? please click here <a href=\"{{ url_for('signup') }}\"> to create a account</a></p>\n",
    "        </div>  \n",
    "    </div>    \n",
    "</div>    \n",
    "{{ super() }}\n",
    "{% endblock %}"
   ]
  },
  {
   "cell_type": "markdown",
   "metadata": {},
   "source": [
    "> footer.html\n",
    "\n",
    "之前的我们内容多,所以不固定高度也还行,不过现在内容少我们就得定义页脚一直保持在页面底部."
   ]
  },
  {
   "cell_type": "code",
   "execution_count": 167,
   "metadata": {
    "collapsed": false
   },
   "outputs": [
    {
     "name": "stdout",
     "output_type": "stream",
     "text": [
      "Overwriting ../codes/msgboard/templates/blocks/footer.html\n"
     ]
    }
   ],
   "source": [
    "%%writefile ../codes/msgboard/templates/blocks/footer.html\n",
    "<footer class=\"footer\">\n",
    "    <div class=\"container navbar-fixed-bottom\">\n",
    "        <p>&copy;Huang Sizhe 2015</p>\n",
    "        <p>版权声明:MIT License</p>\n",
    "    </div>\n",
    "</footer>"
   ]
  },
  {
   "cell_type": "markdown",
   "metadata": {},
   "source": [
    "> mainnavbar.html\n",
    "\n",
    "导航栏需要修改为可以根据登录状况来判断显示什么连接,注意,current_user.is_authenticated是一个布尔值,不是方法\n",
    "\n",
    "要使导航条右对齐可以使用navbar-right"
   ]
  },
  {
   "cell_type": "code",
   "execution_count": 155,
   "metadata": {
    "collapsed": false
   },
   "outputs": [
    {
     "name": "stdout",
     "output_type": "stream",
     "text": [
      "Overwriting ../codes/msgboard/templates/blocks/mainnavbar.html\n"
     ]
    }
   ],
   "source": [
    "%%writefile ../codes/msgboard/templates/blocks/mainnavbar.html\n",
    "<nav class=\"navbar navbar-inverse navbar-fixed-top\"  role=\"navigation\">\n",
    "         <div class=\"container\">\n",
    "             <div class=\"navbar-header\">\n",
    "                 <button type=\"button\" class=\"navbar-toggle\" data-toggle=\"collapse\" data-target=\".navbar-collapse\">\n",
    "                     <span class=\"sr-only\">切换导航</span>\n",
    "                     <span class=\"icon-bar\"></span>\n",
    "                     <span class=\"icon-bar\"></span>\n",
    "                     <span class=\"icon-bar\"></span>\n",
    "                 </button>\n",
    "                 <a class=\"navbar-brand\" href=\"/\">MyAPP</a>\n",
    "             </div>\n",
    "             <div class=\"navbar-collapse collapse\">\n",
    "                 <ul class=\"nav navbar-nav\">\n",
    "                    <li><a href=\"{{url_for('msgboard')}}\">msg board</a></li>\n",
    "                 </ul>\n",
    "                 <ul class=\"nav navbar-nav navbar-right\">\n",
    "                    {% if current_user.is_authenticated %}{# is_authenticated判断用户是否已经登录#}\n",
    "                    <li><a href=\"{{url_for('signout') }}\">Sign Out</a></li>\n",
    "                    {% else %}\n",
    "                    <li><a href=\"{{ url_for('signin') }}\">signin</a></li>\n",
    "                    <li><a href=\"{{ url_for('signup') }}\">signup</a></li>\n",
    "                    {% endif %}\n",
    "                 </ul>\n",
    "             </div>\n",
    "            \n",
    "         </div>\n",
    "    </nav>"
   ]
  },
  {
   "cell_type": "markdown",
   "metadata": {},
   "source": [
    "> manager.py\n",
    "\n",
    "在启动脚本中把新加的数据库信息填上,并写一个初始化数据库的方法,方便初始化."
   ]
  },
  {
   "cell_type": "code",
   "execution_count": 156,
   "metadata": {
    "collapsed": false
   },
   "outputs": [
    {
     "name": "stdout",
     "output_type": "stream",
     "text": [
      "Overwriting ../codes/msgboard/manager.py\n"
     ]
    }
   ],
   "source": [
    "%%writefile ../codes/msgboard/manager.py\n",
    "#--*--coding:utf-8 --*--\n",
    "from __future__ import absolute_import,division,print_function,unicode_literals\n",
    "\"\"\"\n",
    "A startup manager of the application.\n",
    "\n",
    "Author:Huang Sizhe\n",
    "Date:22/01/2016\n",
    "License:MIT\n",
    "======================================\n",
    "\n",
    "应用的启动文件\n",
    "\n",
    "作者:黄思喆\n",
    "日期:2016年1月22日\n",
    "本应用使用MIT许可证\n",
    "\n",
    "\"\"\"\n",
    "\n",
    "__author__ = \"Huang Sizhe\"\n",
    "__date__ = \"22/01/2016\"\n",
    "\n",
    "import os\n",
    "import sys\n",
    "from flask.ext.script import Manager,Shell\n",
    "\n",
    "root = os.path.dirname(__file__)\n",
    "#把新加的表名放进去便于操作\n",
    "from app import app,db,Message,User,Role\n",
    "from config import AdminAccount\n",
    "\n",
    "manager = Manager(app)\n",
    "\n",
    "def init_db(db):\n",
    "    db.create_all()\n",
    "    admin_role = Role(name='Admin')\n",
    "    mod_role = Role(name='Moderator')\n",
    "    user_role = Role(name='User')\n",
    "    db.session.add_all([admin_role, mod_role, user_role])\n",
    "    for i in AdminAccount:\n",
    "        adminaccount = User(name=i[\"name\"] ,email=i[\"email\"],role =admin_role ,password = i[\"password\"])\n",
    "        db.session.add(adminaccount)\n",
    "    db.session.commit()\n",
    "\n",
    "\n",
    "def make_shell_context():\n",
    "    return dict(app=app, \n",
    "                db=db,\n",
    "                Message=Message,\n",
    "                User=User,\n",
    "                Role=Role,\n",
    "                init_db=init_db)\n",
    "\n",
    "manager.add_command(\"shell\", Shell(make_context=make_shell_context))\n",
    "\n",
    "if __name__ == '__main__':\n",
    "    manager.run()"
   ]
  },
  {
   "cell_type": "code",
   "execution_count": 1,
   "metadata": {
    "collapsed": false,
    "scrolled": true
   },
   "outputs": [
    {
     "name": "stdout",
     "output_type": "stream",
     "text": [
      "Traceback (most recent call last):\r\n",
      "  File \"../codes/msgboard/manager.py\", line 28, in <module>\r\n",
      "    from app import app,db,Message,User,Role\r\n",
      "  File \"/Users/huangsizhe/workspace/post/ComputerScience/CodingLanguages/Python_Total_Tutorial/常用的第三方库/web框架/微框架(Flask)/codes/msgboard/app.py\", line 34\r\n",
      "    from flask.ext.login import UserMixin,LoginManager,login_user,logout_user,\r\n",
      "                               ^\r\n",
      "SyntaxError: trailing comma not allowed without surrounding parentheses\r\n"
     ]
    }
   ],
   "source": [
    "!python3 ../codes/msgboard/manager.py runserver"
   ]
  },
  {
   "cell_type": "markdown",
   "metadata": {},
   "source": [
    "# 总结\n",
    "\n",
    "这部分我们够建立一个可用的留言板,他有基本的用户注册,用户登录,用户注销功能,并有写留言的功能.该留言板还附带每条消息的时间戳.在下一部分我们会继续完善它的功能,包括消息的显示顺序,新增用户编辑留言功能,用户换邮箱,改密码等操作,以及邮箱验证等,还有评论功能等\n",
    "\n",
    "用到的模块:\n",
    "\n",
    "包|作用\n",
    "---|---\n",
    "flask|flask web框架\n",
    "flask-script|flask的上下文shell\n",
    "jinja2|flask的默认模板\n",
    "flask-bootstrap|flask的bootstrap前端扩展\n",
    "flask-wtf|构建表单\n",
    "Flask-Bcrypt|密码加密\n",
    "flask-SQLAlchemy|关系数据库ORM\n",
    "Flask-Login|登录管理\n"
   ]
  }
 ],
 "metadata": {
  "kernelspec": {
   "display_name": "Python 3",
   "language": "python",
   "name": "python3"
  },
  "language_info": {
   "codemirror_mode": {
    "name": "ipython",
    "version": 3
   },
   "file_extension": ".py",
   "mimetype": "text/x-python",
   "name": "python",
   "nbconvert_exporter": "python",
   "pygments_lexer": "ipython3",
   "version": "3.5.1"
  }
 },
 "nbformat": 4,
 "nbformat_minor": 0
}
