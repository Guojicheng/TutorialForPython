{
 "cells": [
  {
   "cell_type": "markdown",
   "metadata": {},
   "source": [
    "Celery是python的任务调度利器,它可以绕开GIL通过多进程的方式实现任务调度.非常适合比如发邮件哇什么的并发任务.更关键的是它可以和flask无缝衔接,这样我们的app可以只负责一层路由,而业务将都可以分布式的完成.看两个例子[来自github](https://github.com/miguelgrinberg/flask-celery-example)"
   ]
  },
  {
   "cell_type": "markdown",
   "metadata": {},
   "source": [
    "> 例: 邮件发送服务\n",
    "\n",
    "这是最基础的使用方法,丢个任务给celery然后就不管了,它发送成功没只能在celery的shell中看到,或者去邮箱确认"
   ]
  },
  {
   "cell_type": "code",
   "execution_count": 4,
   "metadata": {
    "collapsed": false
   },
   "outputs": [
    {
     "name": "stdout",
     "output_type": "stream",
     "text": [
      "Overwriting ../codes/Celery_email/app.py\n"
     ]
    }
   ],
   "source": [
    "%%writefile ../codes/Celery_email/app.py\n",
    "\n",
    "import os\n",
    "from flask import Flask, request, render_template, session, flash\n",
    "from flask.ext.mail import Mail, Message\n",
    "from celery import Celery\n",
    "\n",
    "app = Flask(__name__)\n",
    "app.config['SECRET_KEY'] = 'top-secret!'\n",
    "\n",
    "# Flask-Mail configuration\n",
    "app.config['MAIL_SERVER'] = 'smtp.qq.com'\n",
    "app.config['MAIL_PORT'] = 465\n",
    "app.config['MAIL_USE_TLS'] = False\n",
    "app.config['MAIL_USE_SSL'] = True\n",
    "app.config['MAIL_USERNAME'] = '2891631337@qq.com'\n",
    "app.config['MAIL_PASSWORD'] = 'vmgktweolycmddaj'\n",
    "app.config['MAIL_DEFAULT_SENDER'] = '2891631337@qq.com'\n",
    "\n",
    "# Celery configuration\n",
    "app.config['CELERY_BROKER_URL'] = 'redis://localhost:6379/0'\n",
    "app.config['CELERY_RESULT_BACKEND'] = 'redis://localhost:6379/0'\n",
    "\n",
    "\n",
    "# Initialize extensions\n",
    "mail = Mail(app)\n",
    "\n",
    "# Initialize Celery\n",
    "celery = Celery(app.name, broker=app.config['CELERY_BROKER_URL'])\n",
    "celery.conf.update(app.config)\n",
    "\n",
    "\n",
    "@celery.task\n",
    "def send_async_email(msg):\n",
    "    \"\"\"Background task to send an email with Flask-Mail.\"\"\"\n",
    "    with app.app_context():\n",
    "        mail.send(msg)\n",
    "\n",
    "@app.route('/', methods=['GET', 'POST'])\n",
    "def index():\n",
    "    if request.method == 'GET':\n",
    "        return render_template('index.html', email=session.get('email', ''))\n",
    "    email = request.form['email']\n",
    "    session['email'] = email\n",
    "\n",
    "    # send the email\n",
    "    msg = Message('Hello from Flask',\n",
    "                  recipients=[request.form['email']])\n",
    "    msg.body = 'This is a test email sent from a background Celery task.'\n",
    "    if request.form['submit'] == 'Send':\n",
    "        # send right away\n",
    "        send_async_email.delay(msg)\n",
    "        flash('Sending email to {0}'.format(email))\n",
    "    else:\n",
    "        # send in one minute\n",
    "        send_async_email.apply_async(args=[msg], countdown=60)\n",
    "        flash('An email will be sent to {0} in one minute'.format(email))\n",
    "\n",
    "    return redirect(url_for('index'))\n",
    "\n",
    "\n",
    "\n",
    "\n",
    "if __name__ == '__main__':\n",
    "    app.run(debug=True)"
   ]
  },
  {
   "cell_type": "code",
   "execution_count": 3,
   "metadata": {
    "collapsed": false
   },
   "outputs": [
    {
     "name": "stdout",
     "output_type": "stream",
     "text": [
      "Writing ../codes/Celery_email/templates/index.html\n"
     ]
    }
   ],
   "source": [
    "%%writefile ../codes/Celery_email/templates/index.html\n",
    "\n",
    "<html>\n",
    "  <head>\n",
    "    <title>Flask + Celery Examples</title>\n",
    "    <style>\n",
    "        .progress {\n",
    "            width: 100%;\n",
    "            text-align: center;\n",
    "        }\n",
    "    </style>\n",
    "  </head>\n",
    "  <body>\n",
    "    <h1>Flask + Celery Examples</h1>\n",
    "    <h2>Example 1: Send Asynchronous Email</h2>\n",
    "    {% for message in get_flashed_messages() %}\n",
    "    <p style=\"color: red;\">{{ message }}</p>\n",
    "    {% endfor %}\n",
    "    <form method=\"POST\">\n",
    "      <p>Send test email to: <input type=\"text\" name=\"email\" value=\"{{ email }}\"></p>\n",
    "      <input type=\"submit\" name=\"submit\" value=\"Send\">\n",
    "      <input type=\"submit\" name=\"submit\" value=\"Send in 1 minute\">\n",
    "    </form>\n",
    "  </body>\n",
    "</html>\n"
   ]
  },
  {
   "cell_type": "markdown",
   "metadata": {},
   "source": [
    "打开一个新的teminal来打开redis:\n",
    "\n",
    "`redis-server`\n",
    "再一个新的terminal开启worker:\n",
    "`celery worker -A app.celery --loglevel=info`\n",
    "\n",
    "之后就可以试试了,打开`localhost:5000`,之后写个邮箱发来看看"
   ]
  },
  {
   "cell_type": "markdown",
   "metadata": {},
   "source": [
    "> 例2: 监测状态\n",
    "\n",
    "我们模拟一个长任务,要实现对其追踪.通过在装饰器中加入参数`bind=True`来让它返回一个self参数,这个self和类定义中的self意义一样,表示这个任务本身.我们这就可以调用它的方法\n",
    "```\n",
    "update_state(state='PROGRESS',\n",
    "                          meta={'current': i, 'total': total,\n",
    "                                'status': message})\n",
    "```\n",
    "来对状态赋值了,而ajax中使用setTimeout方法每隔2s访问一次\n",
    "        "
   ]
  },
  {
   "cell_type": "code",
   "execution_count": 8,
   "metadata": {
    "collapsed": false
   },
   "outputs": [
    {
     "name": "stdout",
     "output_type": "stream",
     "text": [
      "Overwriting ../codes/Celery_longprocess/app.py\n"
     ]
    }
   ],
   "source": [
    "%%writefile ../codes/Celery_longprocess/app.py\n",
    "\n",
    "import os\n",
    "import random\n",
    "import time\n",
    "from flask import Flask, request, render_template, session, flash, redirect,url_for, jsonify\n",
    "from flask.ext.mail import Mail, Message\n",
    "from celery import Celery\n",
    "\n",
    "app = Flask(__name__)\n",
    "app.config['SECRET_KEY'] = 'top-secret!'\n",
    "\n",
    "# Celery configuration\n",
    "app.config['CELERY_BROKER_URL'] = 'redis://localhost:6379/0'\n",
    "app.config['CELERY_RESULT_BACKEND'] = 'redis://localhost:6379/0'\n",
    "\n",
    "\n",
    "# Initialize extensions\n",
    "mail = Mail(app)\n",
    "\n",
    "# Initialize Celery\n",
    "celery = Celery(app.name, broker=app.config['CELERY_BROKER_URL'])\n",
    "celery.conf.update(app.config)\n",
    "\n",
    "@celery.task(bind=True)\n",
    "def long_task(self):\n",
    "    \"\"\"Background task that runs a long function with progress reports.\"\"\"\n",
    "    verb = ['Starting up', 'Booting', 'Repairing', 'Loading', 'Checking']\n",
    "    adjective = ['master', 'radiant', 'silent', 'harmonic', 'fast']\n",
    "    noun = ['solar array', 'particle reshaper', 'cosmic ray', 'orbiter', 'bit']\n",
    "    message = ''\n",
    "    total = random.randint(10, 50)\n",
    "    for i in range(total):\n",
    "        if not message or random.random() < 0.25:\n",
    "            message = '{0} {1} {2}...'.format(random.choice(verb),\n",
    "                                              random.choice(adjective),\n",
    "                                              random.choice(noun))\n",
    "        self.update_state(state='PROGRESS',\n",
    "                          meta={'current': i, 'total': total,\n",
    "                                'status': message})\n",
    "        time.sleep(1)\n",
    "    return {'current': 100, 'total': 100, 'status': 'Task completed!',\n",
    "            'result': 42}\n",
    "\n",
    "@app.route('/', methods=['GET', 'POST'])\n",
    "def index():\n",
    "    if request.method == 'GET':\n",
    "        return render_template('index.html', email=session.get('email', ''))\n",
    "\n",
    "    return redirect(url_for('index'))\n",
    "\n",
    "@app.route('/longtask', methods=['POST'])\n",
    "def longtask():\n",
    "    task = long_task.apply_async()\n",
    "    return jsonify({}), 202, {'Location': url_for('taskstatus',\n",
    "                                                  task_id=task.id)}\n",
    "\n",
    "\n",
    "@app.route('/status/<task_id>')\n",
    "def taskstatus(task_id):\n",
    "    task = long_task.AsyncResult(task_id)\n",
    "    if task.state == 'PENDING':\n",
    "        response = {\n",
    "            'state': task.state,\n",
    "            'current': 0,\n",
    "            'total': 1,\n",
    "            'status': 'Pending...'\n",
    "        }\n",
    "    elif task.state != 'FAILURE':\n",
    "        response = {\n",
    "            'state': task.state,\n",
    "            'current': task.info.get('current', 0),\n",
    "            'total': task.info.get('total', 1),\n",
    "            'status': task.info.get('status', '')\n",
    "        }\n",
    "        if 'result' in task.info:\n",
    "            response['result'] = task.info['result']\n",
    "    else:\n",
    "        # something went wrong in the background job\n",
    "        response = {\n",
    "            'state': task.state,\n",
    "            'current': 1,\n",
    "            'total': 1,\n",
    "            'status': str(task.info),  # this is the exception raised\n",
    "        }\n",
    "    return jsonify(response)\n",
    "\n",
    "\n",
    "if __name__ == '__main__':\n",
    "    app.run(debug=True)"
   ]
  },
  {
   "cell_type": "code",
   "execution_count": 9,
   "metadata": {
    "collapsed": false
   },
   "outputs": [
    {
     "name": "stdout",
     "output_type": "stream",
     "text": [
      "Overwriting ../codes/Celery_longprocess/templates/index.html\n"
     ]
    }
   ],
   "source": [
    "%%writefile ../codes/Celery_longprocess/templates/index.html\n",
    "\n",
    "<html>\n",
    "  <head>\n",
    "    <title>Flask + Celery Examples</title>\n",
    "    <style>\n",
    "        .progress {\n",
    "            width: 100%;\n",
    "            text-align: center;\n",
    "        }\n",
    "    </style>\n",
    "  </head>\n",
    "  <body>\n",
    "    <h2>Example 2: Long running task with progress updates</h2>\n",
    "    <!--<button onclick=\"start_long_task();\">Start Long Calculation</button><br><br>-->\n",
    "    <button id=\"start-bg-job\">Start Long Calculation</button><br><br>\n",
    "    <div id=\"progress\"></div>\n",
    "\n",
    "    <script src=\"//cdnjs.cloudflare.com/ajax/libs/nanobar/0.2.1/nanobar.min.js\"></script>\n",
    "    <script src=\"//cdnjs.cloudflare.com/ajax/libs/jquery/2.1.3/jquery.min.js\"></script>\n",
    "    <script>\n",
    "        function start_long_task() {\n",
    "            // add task status elements\n",
    "            div = $('<div class=\"progress\"><div></div><div>0%</div><div>...</div><div>&nbsp;</div></div><hr>');\n",
    "            $('#progress').append(div);\n",
    "            // create a progress bar\n",
    "            var nanobar = new Nanobar({\n",
    "                bg: '#44f',\n",
    "                target: div[0].childNodes[0]\n",
    "            });\n",
    "            // send ajax POST request to start background job\n",
    "            $.ajax({\n",
    "                type: 'POST',\n",
    "                url: '/longtask',\n",
    "                success: function(data, status, request) {\n",
    "                    status_url = request.getResponseHeader('Location');\n",
    "                    update_progress(status_url, nanobar, div[0]);\n",
    "                },\n",
    "                error: function() {\n",
    "                    alert('Unexpected error');\n",
    "                }\n",
    "            });\n",
    "        }\n",
    "        function update_progress(status_url, nanobar, status_div) {\n",
    "            // send GET request to status URL\n",
    "            $.getJSON(status_url, function(data) {\n",
    "                // update UI\n",
    "                percent = parseInt(data['current'] * 100 / data['total']);\n",
    "                nanobar.go(percent);\n",
    "                $(status_div.childNodes[1]).text(percent + '%');\n",
    "                $(status_div.childNodes[2]).text(data['status']);\n",
    "                if (data['state'] != 'PENDING' && data['state'] != 'PROGRESS') {\n",
    "                    if ('result' in data) {\n",
    "                        // show result\n",
    "                        $(status_div.childNodes[3]).text('Result: ' + data['result']);\n",
    "                    }\n",
    "                    else {\n",
    "                        // something unexpected happened\n",
    "                        $(status_div.childNodes[3]).text('Result: ' + data['state']);\n",
    "                    }\n",
    "                }\n",
    "                else {\n",
    "                    // rerun in 2 seconds\n",
    "                    setTimeout(function() {\n",
    "                        update_progress(status_url, nanobar, status_div);\n",
    "                    }, 2000);\n",
    "                }\n",
    "            });\n",
    "        }\n",
    "        $(function() {\n",
    "            $('#start-bg-job').click(start_long_task);\n",
    "        });\n",
    "    </script>\n",
    "  </body>\n",
    "</html>"
   ]
  },
  {
   "cell_type": "markdown",
   "metadata": {},
   "source": [
    "例2已经是一个相对比较完整的例子了,它不止可以分发任务,还可以检测状态,已经很接近实际应用了"
   ]
  }
 ],
 "metadata": {
  "kernelspec": {
   "display_name": "Python 2",
   "language": "python",
   "name": "python2"
  },
  "language_info": {
   "codemirror_mode": {
    "name": "ipython",
    "version": 2
   },
   "file_extension": ".py",
   "mimetype": "text/x-python",
   "name": "python",
   "nbconvert_exporter": "python",
   "pygments_lexer": "ipython2",
   "version": "2.7.11"
  }
 },
 "nbformat": 4,
 "nbformat_minor": 0
}
