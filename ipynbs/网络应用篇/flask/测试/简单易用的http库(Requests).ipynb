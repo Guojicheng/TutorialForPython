{
 "cells": [
  {
   "cell_type": "markdown",
   "metadata": {},
   "source": [
    "我们的要使用http功能时一般是用标准库的urllib,不过看过相关部分的人一定看出来了,它设计的并不人性化(python的多数库都是如此,顺带一提我觉得最人性化的库是jquery),[Requests](http://www.python-requests.org/en/master/)正如它的简介所说\"HTTP for Humans\",突出一个人性化!"
   ]
  },
  {
   "cell_type": "markdown",
   "metadata": {},
   "source": [
    "## 安装"
   ]
  },
  {
   "cell_type": "code",
   "execution_count": 3,
   "metadata": {
    "collapsed": false
   },
   "outputs": [
    {
     "name": "stdout",
     "output_type": "stream",
     "text": [
      "Collecting requests\n",
      "  Downloading http://pypi.douban.com/packages/2.7/r/requests/requests-2.9.1-py2.py3-none-any.whl (501kB)\n",
      "\u001b[K    100% |████████████████████████████████| 503kB 6.2MB/s \n",
      "\u001b[?25hInstalling collected packages: requests\n",
      "Successfully installed requests-2.9.1\n",
      "\u001b[33mYou are using pip version 7.1.2, however version 8.0.2 is available.\n",
      "You should consider upgrading via the 'pip install --upgrade pip' command.\u001b[0m\n"
     ]
    }
   ],
   "source": [
    "!pip3 install requests"
   ]
  },
  {
   "cell_type": "markdown",
   "metadata": {},
   "source": [
    "## 简单应用"
   ]
  },
  {
   "cell_type": "code",
   "execution_count": 2,
   "metadata": {
    "collapsed": true
   },
   "outputs": [],
   "source": [
    "import requests"
   ]
  },
  {
   "cell_type": "code",
   "execution_count": 7,
   "metadata": {
    "collapsed": true
   },
   "outputs": [],
   "source": [
    "r = requests.get('https://api.github.com/user', auth=('hsz1273327@gmail.com', 'pass'))"
   ]
  },
  {
   "cell_type": "code",
   "execution_count": 8,
   "metadata": {
    "collapsed": false
   },
   "outputs": [
    {
     "data": {
      "text/plain": [
       "200"
      ]
     },
     "execution_count": 8,
     "metadata": {},
     "output_type": "execute_result"
    }
   ],
   "source": [
    "r.status_code"
   ]
  },
  {
   "cell_type": "code",
   "execution_count": 9,
   "metadata": {
    "collapsed": false
   },
   "outputs": [
    {
     "data": {
      "text/plain": [
       "'application/json; charset=utf-8'"
      ]
     },
     "execution_count": 9,
     "metadata": {},
     "output_type": "execute_result"
    }
   ],
   "source": [
    "r.headers['content-type']"
   ]
  },
  {
   "cell_type": "code",
   "execution_count": 10,
   "metadata": {
    "collapsed": false
   },
   "outputs": [
    {
     "data": {
      "text/plain": [
       "'utf-8'"
      ]
     },
     "execution_count": 10,
     "metadata": {},
     "output_type": "execute_result"
    }
   ],
   "source": [
    "r.encoding"
   ]
  },
  {
   "cell_type": "code",
   "execution_count": 11,
   "metadata": {
    "collapsed": false
   },
   "outputs": [
    {
     "data": {
      "text/plain": [
       "'{\"login\":\"hsz1273327\",\"id\":7850148,\"avatar_url\":\"https://avatars.githubusercontent.com/u/7850148?v=3\",\"gravatar_id\":\"\",\"url\":\"https://api.github.com/users/hsz1273327\",\"html_url\":\"https://github.com/hsz1273327\",\"followers_url\":\"https://api.github.com/users/hsz1273327/followers\",\"following_url\":\"https://api.github.com/users/hsz1273327/following{/other_user}\",\"gists_url\":\"https://api.github.com/users/hsz1273327/gists{/gist_id}\",\"starred_url\":\"https://api.github.com/users/hsz1273327/starred{/owner}{/repo}\",\"subscriptions_url\":\"https://api.github.com/users/hsz1273327/subscriptions\",\"organizations_url\":\"https://api.github.com/users/hsz1273327/orgs\",\"repos_url\":\"https://api.github.com/users/hsz1273327/repos\",\"events_url\":\"https://api.github.com/users/hsz1273327/events{/privacy}\",\"received_events_url\":\"https://api.github.com/users/hsz1273327/received_events\",\"type\":\"User\",\"site_admin\":false,\"name\":\"HUANG SIZHE\",\"company\":null,\"blog\":null,\"location\":\"NANTONG,JIANGSU,CHINA \",\"email\":\"hsz1273327@gmail.com\",\"hireable\":true,\"bio\":null,\"public_repos\":6,\"public_gists\":0,\"followers\":0,\"following\":1,\"created_at\":\"2014-06-10T14:21:37Z\",\"updated_at\":\"2016-01-25T03:36:56Z\",\"private_gists\":0,\"total_private_repos\":0,\"owned_private_repos\":0,\"disk_usage\":33123,\"collaborators\":0,\"plan\":{\"name\":\"free\",\"space\":976562499,\"collaborators\":0,\"private_repos\":0}}'"
      ]
     },
     "execution_count": 11,
     "metadata": {},
     "output_type": "execute_result"
    }
   ],
   "source": [
    " r.text"
   ]
  },
  {
   "cell_type": "code",
   "execution_count": 12,
   "metadata": {
    "collapsed": false
   },
   "outputs": [
    {
     "data": {
      "text/plain": [
       "{'avatar_url': 'https://avatars.githubusercontent.com/u/7850148?v=3',\n",
       " 'bio': None,\n",
       " 'blog': None,\n",
       " 'collaborators': 0,\n",
       " 'company': None,\n",
       " 'created_at': '2014-06-10T14:21:37Z',\n",
       " 'disk_usage': 33123,\n",
       " 'email': 'hsz1273327@gmail.com',\n",
       " 'events_url': 'https://api.github.com/users/hsz1273327/events{/privacy}',\n",
       " 'followers': 0,\n",
       " 'followers_url': 'https://api.github.com/users/hsz1273327/followers',\n",
       " 'following': 1,\n",
       " 'following_url': 'https://api.github.com/users/hsz1273327/following{/other_user}',\n",
       " 'gists_url': 'https://api.github.com/users/hsz1273327/gists{/gist_id}',\n",
       " 'gravatar_id': '',\n",
       " 'hireable': True,\n",
       " 'html_url': 'https://github.com/hsz1273327',\n",
       " 'id': 7850148,\n",
       " 'location': 'NANTONG,JIANGSU,CHINA ',\n",
       " 'login': 'hsz1273327',\n",
       " 'name': 'HUANG SIZHE',\n",
       " 'organizations_url': 'https://api.github.com/users/hsz1273327/orgs',\n",
       " 'owned_private_repos': 0,\n",
       " 'plan': {'collaborators': 0,\n",
       "  'name': 'free',\n",
       "  'private_repos': 0,\n",
       "  'space': 976562499},\n",
       " 'private_gists': 0,\n",
       " 'public_gists': 0,\n",
       " 'public_repos': 6,\n",
       " 'received_events_url': 'https://api.github.com/users/hsz1273327/received_events',\n",
       " 'repos_url': 'https://api.github.com/users/hsz1273327/repos',\n",
       " 'site_admin': False,\n",
       " 'starred_url': 'https://api.github.com/users/hsz1273327/starred{/owner}{/repo}',\n",
       " 'subscriptions_url': 'https://api.github.com/users/hsz1273327/subscriptions',\n",
       " 'total_private_repos': 0,\n",
       " 'type': 'User',\n",
       " 'updated_at': '2016-01-25T03:36:56Z',\n",
       " 'url': 'https://api.github.com/users/hsz1273327'}"
      ]
     },
     "execution_count": 12,
     "metadata": {},
     "output_type": "execute_result"
    }
   ],
   "source": [
    "r.json()"
   ]
  },
  {
   "cell_type": "markdown",
   "metadata": {},
   "source": [
    "Requests 支持 HTTP 连接保持和连接池，支持使用 cookie 保持会话，支持文件上传，支持自动确定响应内容的编码，支持国际化的 URL 和 POST 数据自动编码。现代、国际化、人性化.基本上就是几乎啥都简单好用\n",
    "具体的可以看它的[官方文档](http://cn.python-requests.org/zh_CN/latest/user/quickstart.html),[认证相关](http://cn.python-requests.org/zh_CN/latest/user/authentication.html)和[高级用法](http://cn.python-requests.org/zh_CN/latest/user/advanced.html#advanced)"
   ]
  },
  {
   "cell_type": "code",
   "execution_count": null,
   "metadata": {
    "collapsed": true
   },
   "outputs": [],
   "source": []
  }
 ],
 "metadata": {
  "kernelspec": {
   "display_name": "Python 3",
   "language": "python",
   "name": "python3"
  },
  "language_info": {
   "codemirror_mode": {
    "name": "ipython",
    "version": 3
   },
   "file_extension": ".py",
   "mimetype": "text/x-python",
   "name": "python",
   "nbconvert_exporter": "python",
   "pygments_lexer": "ipython3",
   "version": "3.5.1"
  }
 },
 "nbformat": 4,
 "nbformat_minor": 0
}
