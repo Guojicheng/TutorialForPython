{
 "cells": [
  {
   "cell_type": "markdown",
   "metadata": {
    "collapsed": true
   },
   "source": [
    "# 生产者消费者模式\n",
    "\n",
    "是一种常见的并发模式,生产者将消息放入队列,而消费者则从队列中获取消息进行处理.通常处理好后的结果会放入另一队列或者一个收集服务中.\n",
    "\n",
    "生产者消费者模式和发布订阅模式通常都是用来解耦的.因为本质上都是执行者挂上某一个结构然后就会被发送任务,执行者的数量可以在资源允许的情况下任意扩展.只是发送消息的方式不同.\n",
    "\n",
    "传统的生产者消费者模式队列在中间人中,好处是可以统一管理调配,坏处呢就是一旦中间人崩了缓存的的任务就中断了.\n",
    "\n",
    "另一种生产消费模式是结合actor模型,将队列放入每个消费者中,中间人根据各个消费者队列的长度分配任务给不同的消费者,这样即便中间人崩了分配出去的任务也还能执行.\n",
    "\n",
    "下面我们改造发布订阅模式中的例子,让它也可以实现生产者消费者模式.这边就不给例子了."
   ]
  },
  {
   "cell_type": "code",
   "execution_count": null,
   "metadata": {
    "collapsed": true
   },
   "outputs": [],
   "source": []
  }
 ],
 "metadata": {
  "kernelspec": {
   "display_name": "Python 3",
   "language": "python",
   "name": "python3"
  },
  "language_info": {
   "codemirror_mode": {
    "name": "ipython",
    "version": 3
   },
   "file_extension": ".py",
   "mimetype": "text/x-python",
   "name": "python",
   "nbconvert_exporter": "python",
   "pygments_lexer": "ipython3",
   "version": "3.6.0"
  }
 },
 "nbformat": 4,
 "nbformat_minor": 2
}
