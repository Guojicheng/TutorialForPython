{
 "cells": [
  {
   "cell_type": "markdown",
   "metadata": {},
   "source": [
    "# 使用numpy做科学计算\n",
    "\n",
    "numpy自带了许多数学工具.scipy则是其补充.通常情况下,这numpy提供的函数已经足够相对复杂的算法来使用了"
   ]
  },
  {
   "cell_type": "code",
   "execution_count": 2,
   "metadata": {},
   "outputs": [],
   "source": [
    "import numpy as np\n",
    "import matplotlib.pyplot as plt"
   ]
  },
  {
   "cell_type": "code",
   "execution_count": 3,
   "metadata": {},
   "outputs": [],
   "source": [
    "%matplotlib inline"
   ]
  },
  {
   "cell_type": "markdown",
   "metadata": {},
   "source": [
    "## 精度\n",
    "\n",
    "科学计算的一个核心点在于精度,numpy的默认精度是64位的浮点数.最高的精度可以用`numpy.longdouble`(f16)表示，复数用`numpy.clongdouble`(c32)，但是这个具体能精确到多少是和你的电脑硬件相关的.\n",
    "\n",
    "通常我们并不需要最高精度,这时可以使用`numpy.around(a, decimals=0, out=None)`来控制精度,其中a为要固定精度的数组,decimals则是精确到小数点后多少位(四舍五入)."
   ]
  },
  {
   "cell_type": "code",
   "execution_count": 45,
   "metadata": {},
   "outputs": [
    {
     "name": "stdout",
     "output_type": "stream",
     "text": [
      "[-3.14159265 -1.88495559 -0.62831853  0.62831853  1.88495559  3.14159265]\n"
     ]
    }
   ],
   "source": [
    "x = np.linspace(-np.pi, np.pi, 6,endpoint=True)\n",
    "print(x)"
   ]
  },
  {
   "cell_type": "code",
   "execution_count": 46,
   "metadata": {},
   "outputs": [
    {
     "data": {
      "text/plain": [
       "array([-3., -2., -1.,  1.,  2.,  3.])"
      ]
     },
     "execution_count": 46,
     "metadata": {},
     "output_type": "execute_result"
    }
   ],
   "source": [
    "np.round(x)"
   ]
  },
  {
   "cell_type": "code",
   "execution_count": 47,
   "metadata": {},
   "outputs": [
    {
     "data": {
      "text/plain": [
       "array([-3.1, -1.9, -0.6,  0.6,  1.9,  3.1])"
      ]
     },
     "execution_count": 47,
     "metadata": {},
     "output_type": "execute_result"
    }
   ],
   "source": [
    "np.round(x,1)"
   ]
  },
  {
   "cell_type": "code",
   "execution_count": 48,
   "metadata": {},
   "outputs": [
    {
     "data": {
      "text/plain": [
       "array([-3.14, -1.88, -0.63,  0.63,  1.88,  3.14])"
      ]
     },
     "execution_count": 48,
     "metadata": {},
     "output_type": "execute_result"
    }
   ],
   "source": [
    "np.round(x,2)"
   ]
  },
  {
   "cell_type": "markdown",
   "metadata": {},
   "source": [
    "## 数值计算\n",
    "\n",
    "\n",
    "### 一元运算\n",
    "\n",
    "函数|说明\n",
    "---|---\n",
    "abs/fabs|绝对值\n",
    "sqrt|平方根\n",
    "square|平方\n",
    "exp|指数\n",
    "log/log10/log2/log1p|分别为自然对数(e为底数)/底数为10的log/底数为2的log/log(1+x)\n",
    "sign|求符号\n",
    "ceil|大于等于该值的最小整数\n",
    "floor|小于等于该值的最大整数\n",
    "rint|四舍五入到最近的整数,dtype不变\n",
    "modf|小数整数部分分离\n",
    "isnan|---\n",
    "isfinite/isinf|---\n",
    "sin/sinh/cos/cosh/tan/tanh|三角函数,双曲三角函数\n",
    "arcsin/arcsinh/arccos/arccosh/arctan/arctanh|反三角函数,反双曲三角函数\n",
    "logical_not|计算各元素not x的真值\n",
    "\n",
    "\n",
    "### 二元运算\n",
    "函数|说明\n",
    "---|---\n",
    "add|加\n",
    "subtract|减\n",
    "multiply|乘\n",
    "divide/floor_divide|除\n",
    "power|乘方\n",
    "maximun/fmax|最大值\n",
    "minimum/fmin|最小值\n",
    "mod|求模\n",
    "copysign|将后面的符号付给前面\n"
   ]
  },
  {
   "cell_type": "markdown",
   "metadata": {},
   "source": [
    "## 统计计算\n",
    "\n",
    "\n",
    "**统计运算**|说明\n",
    "---|---\n",
    "sum|统计求和\n",
    "mean|均值\n",
    "average|加权求均值\n",
    "median|中值\n",
    "std|标准差\n",
    "var|方差\n",
    "min|最小值\n",
    "argmin|最小值下标\n",
    "max|最大值\n",
    "argmax|最大值下标\n",
    "ptp|最大值和最小值之差\n",
    "sort|排序\n",
    "argsort|排序下标\n",
    "unique|找出所有整数(不会出现重复),并排序,</br>可选参数return_index=True,会额外返回一个记录下标的数组</br>可选return_inverse=True,会额外返回一个下标数组,数组长度为原始数组,表示原始数组中对应的下标\n",
    "bincount|对整数数组个元素出现次数统计,可选参数weight,可以对各个元素加权\n",
    "\n",
    "\n",
    "其中很多运算还有个`nanxxx`版本,用来求相应函数去掉nan值得结果"
   ]
  },
  {
   "cell_type": "markdown",
   "metadata": {},
   "source": [
    "### 统计频数bincount"
   ]
  },
  {
   "cell_type": "code",
   "execution_count": 56,
   "metadata": {},
   "outputs": [
    {
     "data": {
      "text/plain": [
       "array([4, 2, 1, 0, 4, 1, 2, 0, 0, 4])"
      ]
     },
     "execution_count": 56,
     "metadata": {},
     "output_type": "execute_result"
    }
   ],
   "source": [
    "a = np.random.randint(0,5,10)\n",
    "a"
   ]
  },
  {
   "cell_type": "code",
   "execution_count": 57,
   "metadata": {},
   "outputs": [
    {
     "data": {
      "text/plain": [
       "array([3, 2, 2, 0, 3])"
      ]
     },
     "execution_count": 57,
     "metadata": {},
     "output_type": "execute_result"
    }
   ],
   "source": [
    "np.bincount(a)"
   ]
  },
  {
   "cell_type": "code",
   "execution_count": 58,
   "metadata": {},
   "outputs": [
    {
     "data": {
      "text/plain": [
       "array([1.77790282, 1.54781066, 0.59637056, 0.        , 1.80685802])"
      ]
     },
     "execution_count": 58,
     "metadata": {},
     "output_type": "execute_result"
    }
   ],
   "source": [
    "np.bincount(a,np.random.rand(10))"
   ]
  },
  {
   "cell_type": "markdown",
   "metadata": {},
   "source": [
    "### 相关性\n",
    "\n",
    "numpy提供了3种算相关性的操作\n",
    "\n",
    "+ `orrcoef(x, y=None, rowvar=1)` Pearson乘积矩相关系数。\n",
    "\n",
    "其中rowvar=1表示向量是横置的,即每一列为向量的一个属性,每行是一个向量.为0则说明向量为竖置"
   ]
  },
  {
   "cell_type": "code",
   "execution_count": 59,
   "metadata": {},
   "outputs": [
    {
     "data": {
      "text/plain": [
       "array([[1.        , 0.61237244],\n",
       "       [0.61237244, 1.        ]])"
      ]
     },
     "execution_count": 59,
     "metadata": {},
     "output_type": "execute_result"
    }
   ],
   "source": [
    "np.corrcoef([[1,1,0,1,1],[0,1,0,1,1]])"
   ]
  },
  {
   "cell_type": "code",
   "execution_count": 60,
   "metadata": {},
   "outputs": [
    {
     "name": "stderr",
     "output_type": "stream",
     "text": [
      "/Users/huangsizhe/anaconda3/lib/python3.6/site-packages/numpy/lib/function_base.py:3183: RuntimeWarning: invalid value encountered in true_divide\n",
      "  c /= stddev[:, None]\n",
      "/Users/huangsizhe/anaconda3/lib/python3.6/site-packages/numpy/lib/function_base.py:3184: RuntimeWarning: invalid value encountered in true_divide\n",
      "  c /= stddev[None, :]\n"
     ]
    },
    {
     "data": {
      "text/plain": [
       "array([[ 1., nan, nan, nan, nan],\n",
       "       [nan, nan, nan, nan, nan],\n",
       "       [nan, nan, nan, nan, nan],\n",
       "       [nan, nan, nan, nan, nan],\n",
       "       [nan, nan, nan, nan, nan]])"
      ]
     },
     "execution_count": 60,
     "metadata": {},
     "output_type": "execute_result"
    }
   ],
   "source": [
    "np.corrcoef([[1,1,0,1,1],[0,1,0,1,1]],rowvar=0)"
   ]
  },
  {
   "cell_type": "markdown",
   "metadata": {},
   "source": [
    "+ `correlate(a, v, mode='valid')`\n",
    "\n",
    "两个1维序列的互相关。该函数计算信号处理文本中通常定义的相关性\n",
    "\n",
    "$$ c_{av}[k] = sum_n a[n+k] * conj(v[n]) $$\n",
    "\n",
    "其中a和v序列在必要时被填零，conj是共轭。mode 可选{‘valid’, ‘same’, ‘full’}"
   ]
  },
  {
   "cell_type": "code",
   "execution_count": 61,
   "metadata": {},
   "outputs": [
    {
     "data": {
      "text/plain": [
       "array([3.5])"
      ]
     },
     "execution_count": 61,
     "metadata": {},
     "output_type": "execute_result"
    }
   ],
   "source": [
    "np.correlate([1, 2, 3], [0, 1, 0.5])"
   ]
  },
  {
   "cell_type": "code",
   "execution_count": 62,
   "metadata": {},
   "outputs": [
    {
     "data": {
      "text/plain": [
       "array([2. , 3.5, 3. ])"
      ]
     },
     "execution_count": 62,
     "metadata": {},
     "output_type": "execute_result"
    }
   ],
   "source": [
    "np.correlate([1, 2, 3], [0, 1, 0.5], \"same\")"
   ]
  },
  {
   "cell_type": "code",
   "execution_count": 63,
   "metadata": {},
   "outputs": [
    {
     "data": {
      "text/plain": [
       "array([0.5, 2. , 3.5, 3. , 0. ])"
      ]
     },
     "execution_count": 63,
     "metadata": {},
     "output_type": "execute_result"
    }
   ],
   "source": [
    "np.correlate([1, 2, 3], [0, 1, 0.5], \"full\")"
   ]
  },
  {
   "cell_type": "markdown",
   "metadata": {},
   "source": [
    "+ `cov(m, y=None, rowvar=True, bias=False, ddof=None, fweights=None, aweights=None)`\n",
    "\n",
    "估计协方差矩阵,给定数据和权重.协方差表示两个变量一起变化的水平.如果我们检查N维样本,则协方差矩阵元素$C_{ij}$是$x_i$和$x_j$的协方差.$C_{ii}$元素是$x_i$的方差.其中rowvar一样是代表向量的是横置还是竖置\n",
    "    \n",
    "    \n",
    "在概率论和统计学中,协方差Cov(X,Y)用于衡量两个变量的总体误差.而方差是协方差的一种特殊情况,即当两个变量是相同的情况.\n",
    "\n",
    "期望值分别为$E(X)=\\mu$与$E(Y)=\\nu$的两个实数随机变量X 与Y 之间的协方差定义为:\n",
    "\n",
    "\n",
    "$$\\operatorname{cov}(X, Y) = \\operatorname{E}((X - \\mu) (Y - \\nu))$$\n",
    "\n",
    "$$\\operatorname{cov}(X, Y) = \\operatorname{E}(X \\cdot Y) - \\mu \\nu$$\n",
    "\n",
    "协方差矩阵是一个矩阵,其每个元素是各个向量元素之间的协方差.是从标量随机变量到高维度随机向量的自然推广."
   ]
  },
  {
   "cell_type": "code",
   "execution_count": 64,
   "metadata": {},
   "outputs": [
    {
     "data": {
      "text/plain": [
       "array([[175., 170., 180.],\n",
       "       [ 70.,  60.,  75.]], dtype=float32)"
      ]
     },
     "execution_count": 64,
     "metadata": {},
     "output_type": "execute_result"
    }
   ],
   "source": [
    "persontype=np.dtype({'names':['name','height','weight'],'formats':['S32','f','f']},align=True)\n",
    "a = np.array([(\"Huang\",175,70),(\"Hao\",170,60),(\"Li\",180,75)],dtype=persontype)\n",
    "data = np.array([a[\"height\"],a[\"weight\"]])\n",
    "data"
   ]
  },
  {
   "cell_type": "code",
   "execution_count": 65,
   "metadata": {},
   "outputs": [
    {
     "data": {
      "text/plain": [
       "array([[25.        , 37.5       ],\n",
       "       [37.5       , 58.33333333]])"
      ]
     },
     "execution_count": 65,
     "metadata": {},
     "output_type": "execute_result"
    }
   ],
   "source": [
    "data_cov = np.cov(data)\n",
    "data_cov #协方差矩阵"
   ]
  },
  {
   "cell_type": "code",
   "execution_count": 66,
   "metadata": {},
   "outputs": [
    {
     "data": {
      "text/plain": [
       "array([[1.        , 0.98198051],\n",
       "       [0.98198051, 1.        ]])"
      ]
     },
     "execution_count": 66,
     "metadata": {},
     "output_type": "execute_result"
    }
   ],
   "source": [
    "#相关系数矩阵\n",
    "data_corr = np.corrcoef(data)\n",
    "data_corr "
   ]
  },
  {
   "cell_type": "markdown",
   "metadata": {},
   "source": [
    "也就是说身高与体重相关系数高达98.19%"
   ]
  },
  {
   "cell_type": "markdown",
   "metadata": {},
   "source": [
    "### 直方图\n",
    "\n",
    "通常在统计分析中最常见的是使用直方图观察数据的分布,numpy中有函数直接支持这个操作"
   ]
  },
  {
   "cell_type": "markdown",
   "metadata": {},
   "source": [
    "+ 直方图统计histogram\n",
    "\n",
    "    最基础的直方图,计算一组数据各个区间中的数据统计\n",
    "\n",
    "    用法:\n",
    "\n",
    "    `histogram(a,bins=10,range=None,normed=False,weights=None)`\n",
    "\n",
    "    其中\n",
    "\n",
    "    + bin指定统计区间个数,\n",
    "\n",
    "    + range是一个长为2的元组,分别表示统计范围的最小值和最大值(None表示由数据决定)\n",
    "\n",
    "    + normed=False表示返回在每个区间的个数,为True则表示返回一个在各个区间的概率密度\n",
    "\n",
    "    + weight表示权值和前面一样用法\n"
   ]
  },
  {
   "cell_type": "code",
   "execution_count": 67,
   "metadata": {},
   "outputs": [
    {
     "data": {
      "image/png": "[encoded data removed]",
      "text/plain": [
       "<matplotlib.figure.Figure at 0x11a3f0c88>"
      ]
     },
     "metadata": {},
     "output_type": "display_data"
    }
   ],
   "source": [
    "c = np.random.rand(100)\n",
    "y,x = np.histogram(c,bins=5,range=(0,1))\n",
    "xticks = [str(x[i])+'~'+str(x[i+1]) for i in range(len(y))]\n",
    "plt.axes([0.025,0.025,0.95,0.95])\n",
    "plt.bar(range(len(y)), y, facecolor='#9999ff', edgecolor='white')\n",
    "for i,j in zip(range(len(y)), y):\n",
    "    plt.text(i,j,str(float(y[i])/sum(y)*100)+\"%\")\n",
    "\n",
    "plt.xlim(-0.4,5)\n",
    "plt.xticks(np.arange(5)+0.4,xticks)\n",
    "plt.show()"
   ]
  },
  {
   "cell_type": "markdown",
   "metadata": {},
   "source": [
    "+ `histogram2d(x, y[, bins, range, normed, weights])`\n",
    "\n",
    "计算两个数据样本的二维直方图。"
   ]
  },
  {
   "cell_type": "code",
   "execution_count": 68,
   "metadata": {},
   "outputs": [
    {
     "name": "stdout",
     "output_type": "stream",
     "text": [
      "[[13. 14. 15. 16.]\n",
      " [ 9. 10. 11. 12.]\n",
      " [ 5.  6.  7.  8.]\n",
      " [ 1.  2.  3.  4.]]\n"
     ]
    },
    {
     "data": {
      "image/png": "[encoded data removed]",
      "text/plain": [
       "<matplotlib.figure.Figure at 0x11a4994e0>"
      ]
     },
     "metadata": {},
     "output_type": "display_data"
    }
   ],
   "source": [
    "xedges = [0, 1, 1.5, 3, 5]\n",
    "yedges = [0, 2, 3, 4, 6]\n",
    "x = np.random.normal(3, 1, 100)\n",
    "y = np.random.normal(1, 1, 100)\n",
    "H, xedges, yedges = np.histogram2d(y, x, bins=(xedges, yedges))\n",
    "H = np.ones((4, 4)).cumsum().reshape(4, 4)\n",
    "print(H[::-1])\n",
    "fig = plt.figure(figsize=(7, 3))\n",
    "ax = fig.add_subplot(131)\n",
    "ax.set_title('imshow: equidistant')\n",
    "im = plt.imshow(H, interpolation='nearest', origin='low',extent=[xedges[0], xedges[-1], yedges[0], yedges[-1]])"
   ]
  },
  {
   "cell_type": "markdown",
   "metadata": {},
   "source": [
    "+ `histogramdd(sample, bins=10, range=None, normed=False, weights=None)`\n",
    "\n",
    "计算多维直方图"
   ]
  },
  {
   "cell_type": "code",
   "execution_count": 71,
   "metadata": {},
   "outputs": [
    {
     "data": {
      "text/plain": [
       "((5, 8, 4), 6, 9, 5)"
      ]
     },
     "execution_count": 71,
     "metadata": {},
     "output_type": "execute_result"
    }
   ],
   "source": [
    "r = np.random.randn(100,3)\n",
    "H, edges = np.histogramdd(r, bins = (5, 8, 4))\n",
    "H.shape, edges[0].size, edges[1].size, edges[2].size"
   ]
  },
  {
   "cell_type": "markdown",
   "metadata": {},
   "source": [
    "+ `digitize(x, bins, right=False)`\n",
    "\n",
    "返回输入数组中每个值所属的bin的索引"
   ]
  },
  {
   "cell_type": "code",
   "execution_count": 72,
   "metadata": {},
   "outputs": [
    {
     "data": {
      "text/plain": [
       "array([1, 4, 3, 2])"
      ]
     },
     "execution_count": 72,
     "metadata": {},
     "output_type": "execute_result"
    }
   ],
   "source": [
    "x = np.array([0.2, 6.4, 3.0, 1.6])\n",
    "bins = np.array([0.0, 1.0, 2.5, 4.0, 10.0])\n",
    "inds = np.digitize(x, bins)\n",
    "inds"
   ]
  },
  {
   "cell_type": "code",
   "execution_count": 73,
   "metadata": {},
   "outputs": [
    {
     "name": "stdout",
     "output_type": "stream",
     "text": [
      "0.0 <= 0.2 < 1.0\n",
      "4.0 <= 6.4 < 10.0\n",
      "2.5 <= 3.0 < 4.0\n",
      "1.0 <= 1.6 < 2.5\n"
     ]
    }
   ],
   "source": [
    "for n in range(x.size):\n",
    "    print(bins[inds[n]-1], \"<=\", x[n], \"<\", bins[inds[n]])"
   ]
  },
  {
   "cell_type": "code",
   "execution_count": 74,
   "metadata": {},
   "outputs": [
    {
     "data": {
      "text/plain": [
       "array([1, 2, 3, 4, 4])"
      ]
     },
     "execution_count": 74,
     "metadata": {},
     "output_type": "execute_result"
    }
   ],
   "source": [
    "x = np.array([1.2, 10.0, 12.4, 15.5, 20.])\n",
    "bins = np.array([0, 5, 10, 15, 20])\n",
    "np.digitize(x,bins,right=True)"
   ]
  },
  {
   "cell_type": "code",
   "execution_count": 75,
   "metadata": {},
   "outputs": [
    {
     "data": {
      "text/plain": [
       "array([1, 3, 3, 4, 5])"
      ]
     },
     "execution_count": 75,
     "metadata": {},
     "output_type": "execute_result"
    }
   ],
   "source": [
    "np.digitize(x,bins,right=False)"
   ]
  },
  {
   "cell_type": "markdown",
   "metadata": {},
   "source": [
    "## 多项式计算\n",
    "\n",
    "\n",
    "多项式函数是变量的整数次幂与系数的乘积之和\n",
    "\n",
    "$$ f(x)=a_nx^n+a_{n-1}x^{n-1}+...+a_2x^2+a_1x+a_0 $$\n",
    "\n",
    "在numpy中可以用一个一维数组表示x各项的系数\n",
    "\n",
    "numpy提供了`polynomial`模块专门处理多项式的"
   ]
  },
  {
   "cell_type": "markdown",
   "metadata": {},
   "source": [
    "### 基本用法\n",
    "\n",
    "多项式求值\n",
    "\n",
    "可以用polynomia.polynomia()将系数转化为一元多项式对象,之后就可以像用函数一样用它了,比如下面的函数:\n",
    "\n",
    "$$ f(x)=1+2x+3x^2 $$"
   ]
  },
  {
   "cell_type": "code",
   "execution_count": 80,
   "metadata": {},
   "outputs": [],
   "source": [
    "from numpy.polynomial import Polynomial as P"
   ]
  },
  {
   "cell_type": "code",
   "execution_count": 79,
   "metadata": {},
   "outputs": [],
   "source": [
    "v1 = np.array([1,2,3])\n",
    "p = P(v1)\n",
    "p"
   ]
  },
  {
   "cell_type": "markdown",
   "metadata": {},
   "source": [
    "注意,长版本的打印输出有三个部分.\n",
    "\n",
    "第一个是系数,第二个是域,第三个是窗口:他们分别可以通过访问属性`p.coef`,`p.domain`和`p.window`获得\n",
    "\n",
    "要求x在某个值时f(x)的值,只要简单的代入就行"
   ]
  },
  {
   "cell_type": "code",
   "execution_count": 83,
   "metadata": {},
   "outputs": [
    {
     "data": {
      "text/plain": [
       "1.0"
      ]
     },
     "execution_count": 83,
     "metadata": {},
     "output_type": "execute_result"
    }
   ],
   "source": [
    "p(0)"
   ]
  },
  {
   "cell_type": "code",
   "execution_count": 84,
   "metadata": {},
   "outputs": [
    {
     "data": {
      "text/plain": [
       "6.0"
      ]
     },
     "execution_count": 84,
     "metadata": {},
     "output_type": "execute_result"
    }
   ],
   "source": [
    "p(1)"
   ]
  },
  {
   "cell_type": "markdown",
   "metadata": {},
   "source": [
    "多项式是天生的universal function,他的参数可以是一个序列"
   ]
  },
  {
   "cell_type": "code",
   "execution_count": 85,
   "metadata": {},
   "outputs": [
    {
     "data": {
      "text/plain": [
       "array([ 6., 17., 34., 57.])"
      ]
     },
     "execution_count": 85,
     "metadata": {},
     "output_type": "execute_result"
    }
   ],
   "source": [
    "p(np.array([1,2,3,4]))"
   ]
  },
  {
   "cell_type": "markdown",
   "metadata": {},
   "source": [
    "## 多项式运算\n",
    "\n",
    "### 初等变换\n",
    "\n",
    "一个多项式可以通过与一个非字符串的数值序列相加或者乘以一个标量来获得一个新的多项式"
   ]
  },
  {
   "cell_type": "code",
   "execution_count": 86,
   "metadata": {},
   "outputs": [
    {
     "data": {
      "text/plain": [
       "Polynomial([2., 4., 6.], domain=[-1.,  1.], window=[-1.,  1.])"
      ]
     },
     "execution_count": 86,
     "metadata": {},
     "output_type": "execute_result"
    }
   ],
   "source": [
    "p*2 #与标量相乘,多项式系数全部与标量相乘,类似向量与标量乘法 "
   ]
  },
  {
   "cell_type": "code",
   "execution_count": 87,
   "metadata": {},
   "outputs": [
    {
     "data": {
      "text/plain": [
       "Polynomial([2., 4., 6.], domain=[-1.,  1.], window=[-1.,  1.])"
      ]
     },
     "execution_count": 87,
     "metadata": {},
     "output_type": "execute_result"
    }
   ],
   "source": [
    "p+p # 与多项式相加,对应系数相加"
   ]
  },
  {
   "cell_type": "code",
   "execution_count": 88,
   "metadata": {},
   "outputs": [
    {
     "data": {
      "text/plain": [
       "Polynomial([3., 7., 3.], domain=[-1.,  1.], window=[-1.,  1.])"
      ]
     },
     "execution_count": 88,
     "metadata": {},
     "output_type": "execute_result"
    }
   ],
   "source": [
    "p+(2,5) # 与另一个序列相加,相当于把序列作为多项式,对应系数相加"
   ]
  },
  {
   "cell_type": "code",
   "execution_count": 89,
   "metadata": {},
   "outputs": [
    {
     "data": {
      "text/plain": [
       "Polynomial([ 1.,  4., 10., 12.,  9.], domain=[-1.,  1.], window=[-1.,  1.])"
      ]
     },
     "execution_count": 89,
     "metadata": {},
     "output_type": "execute_result"
    }
   ],
   "source": [
    "p*p # 与多项式相乘各项一一相乘,然后相同次数的系数相加"
   ]
  },
  {
   "cell_type": "code",
   "execution_count": 90,
   "metadata": {},
   "outputs": [
    {
     "data": {
      "text/plain": [
       "Polynomial([ 1.,  4., 10., 12.,  9.], domain=[-1.,  1.], window=[-1.,  1.])"
      ]
     },
     "execution_count": 90,
     "metadata": {},
     "output_type": "execute_result"
    }
   ],
   "source": [
    "p**2 # 幂,与乘法规则相同"
   ]
  },
  {
   "cell_type": "markdown",
   "metadata": {},
   "source": [
    "除法:\n",
    "    \n",
    "`//`是多项式类的除法运算符，在这方面，多项式被视为整数.与之对应的是求余%,表示除后余下的项"
   ]
  },
  {
   "cell_type": "code",
   "execution_count": 91,
   "metadata": {},
   "outputs": [
    {
     "data": {
      "text/plain": [
       "Polynomial([5., 3.], domain=[-1.,  1.], window=[-1.,  1.])"
      ]
     },
     "execution_count": 91,
     "metadata": {},
     "output_type": "execute_result"
    }
   ],
   "source": [
    "p//P([-1,1]) #相当于多项式分解"
   ]
  },
  {
   "cell_type": "code",
   "execution_count": 92,
   "metadata": {},
   "outputs": [
    {
     "data": {
      "text/plain": [
       "Polynomial([6.], domain=[-1.,  1.], window=[-1.,  1.])"
      ]
     },
     "execution_count": 92,
     "metadata": {},
     "output_type": "execute_result"
    }
   ],
   "source": [
    "p%P([-1,1])"
   ]
  },
  {
   "cell_type": "code",
   "execution_count": 93,
   "metadata": {},
   "outputs": [
    {
     "data": {
      "text/plain": [
       "Polynomial([1., 2., 3.], domain=[-1.,  1.], window=[-1.,  1.])"
      ]
     },
     "execution_count": 93,
     "metadata": {},
     "output_type": "execute_result"
    }
   ],
   "source": [
    "P([ 5.,  3.])*P([-1,1])+[6]"
   ]
  },
  {
   "cell_type": "markdown",
   "metadata": {},
   "source": [
    "如果要一次求出,可以使用`divmod`方法"
   ]
  },
  {
   "cell_type": "code",
   "execution_count": 94,
   "metadata": {},
   "outputs": [],
   "source": [
    "quo, rem = divmod(p, P([-1, 1]))"
   ]
  },
  {
   "cell_type": "code",
   "execution_count": 95,
   "metadata": {},
   "outputs": [
    {
     "data": {
      "text/plain": [
       "Polynomial([5., 3.], domain=[-1.,  1.], window=[-1.,  1.])"
      ]
     },
     "execution_count": 95,
     "metadata": {},
     "output_type": "execute_result"
    }
   ],
   "source": [
    "quo"
   ]
  },
  {
   "cell_type": "code",
   "execution_count": 96,
   "metadata": {},
   "outputs": [
    {
     "data": {
      "text/plain": [
       "Polynomial([6.], domain=[-1.,  1.], window=[-1.,  1.])"
      ]
     },
     "execution_count": 96,
     "metadata": {},
     "output_type": "execute_result"
    }
   ],
   "source": [
    "rem"
   ]
  },
  {
   "cell_type": "markdown",
   "metadata": {},
   "source": [
    "### 多项式因式分解\n",
    "\n",
    "多项式的根可以使用`np.roots()`方法获得\n",
    "\n",
    "其意义是令该多项式等于0,则当变量为这些根时满足该等式"
   ]
  },
  {
   "cell_type": "code",
   "execution_count": 97,
   "metadata": {},
   "outputs": [
    {
     "data": {
      "text/plain": [
       "array([-0.33333333-0.47140452j, -0.33333333+0.47140452j])"
      ]
     },
     "execution_count": 97,
     "metadata": {},
     "output_type": "execute_result"
    }
   ],
   "source": [
    "r = p.roots()\n",
    "r"
   ]
  },
  {
   "cell_type": "code",
   "execution_count": 98,
   "metadata": {},
   "outputs": [
    {
     "data": {
      "text/plain": [
       "array([0.-2.77555756e-16j, 0.+2.77555756e-16j])"
      ]
     },
     "execution_count": 98,
     "metadata": {},
     "output_type": "execute_result"
    }
   ],
   "source": [
    "p(r)"
   ]
  },
  {
   "cell_type": "code",
   "execution_count": 99,
   "metadata": {},
   "outputs": [
    {
     "data": {
      "text/plain": [
       "array([1.        , 0.66666667, 0.33333333])"
      ]
     },
     "execution_count": 99,
     "metadata": {},
     "output_type": "execute_result"
    }
   ],
   "source": [
    "np.poly(r)"
   ]
  },
  {
   "cell_type": "markdown",
   "metadata": {},
   "source": [
    "### 多项式拟合\n",
    "\n",
    "多项式的拟合使用`Chebyshev`模块 的fit(x,y,deg),来做\n",
    "\n",
    "其中deg为最高次数\n",
    "我们用1000个在${-\\pi\\over 2} \\sim{\\pi \\over 2}$间的值拟合sin(x)"
   ]
  },
  {
   "cell_type": "code",
   "execution_count": 100,
   "metadata": {},
   "outputs": [],
   "source": [
    "from numpy.polynomial import Chebyshev as T"
   ]
  },
  {
   "cell_type": "code",
   "execution_count": 101,
   "metadata": {},
   "outputs": [
    {
     "data": {
      "image/png": "[encoded data removed]",
      "text/plain": [
       "<matplotlib.figure.Figure at 0x119f51240>"
      ]
     },
     "metadata": {},
     "output_type": "display_data"
    }
   ],
   "source": [
    "x = np.linspace(-np.pi/2,np.pi/2,20)\n",
    "y = np.sin(x)\n",
    "a = T.fit(x,y,5)\n",
    "xx,yy=a.linspace()\n",
    "plt.plot(x,y,'o',color=\"red\")\n",
    "plt.plot(xx,yy,\"--\",lw=2,color = \"blue\")\n",
    "plt.show()"
   ]
  },
  {
   "cell_type": "code",
   "execution_count": 102,
   "metadata": {},
   "outputs": [
    {
     "data": {
      "image/png": "[encoded data removed]",
      "text/plain": [
       "<matplotlib.figure.Figure at 0x11a3d1c88>"
      ]
     },
     "metadata": {},
     "output_type": "display_data"
    }
   ],
   "source": [
    "error = np.abs(a(x)-y)#polyval计算多项式的值\n",
    "plt.plot(x,error)\n",
    "plt.show()"
   ]
  },
  {
   "cell_type": "markdown",
   "metadata": {},
   "source": [
    "做3,5,7次多项式的拟合,比较结果误差"
   ]
  },
  {
   "cell_type": "code",
   "execution_count": 103,
   "metadata": {},
   "outputs": [
    {
     "data": {
      "image/png": "[encoded data removed]",
      "text/plain": [
       "<matplotlib.figure.Figure at 0x1199c5e48>"
      ]
     },
     "metadata": {},
     "output_type": "display_data"
    }
   ],
   "source": [
    "x = np.linspace(-np.pi/2,np.pi/2,1000)\n",
    "y = np.sin(x)\n",
    "for i in (3,5,7):\n",
    "    a = T.fit(x,y,i)\n",
    "    if i == 3: color = \"red\"\n",
    "    elif i == 5: color = \"blue\"\n",
    "    else : color = \"yellow\"\n",
    "    error = np.abs(a(x)-y)\n",
    "    plt.plot(x,error,color = color)\n",
    "plt.show()"
   ]
  },
  {
   "cell_type": "markdown",
   "metadata": {},
   "source": [
    "## 微积分\n",
    "\n",
    "用deriv()和integ()可以分别计算多项式的微分和积分\n",
    "\n",
    "$$ f(x)=3x^2+2x+1 $$\n",
    "\n",
    "做微分是\n",
    "\n",
    "$$ f^{'}(x)=6x+2 $$"
   ]
  },
  {
   "cell_type": "code",
   "execution_count": 104,
   "metadata": {},
   "outputs": [
    {
     "data": {
      "text/plain": [
       "Polynomial([1., 2., 3.], domain=[-1,  1], window=[-1,  1])"
      ]
     },
     "execution_count": 104,
     "metadata": {},
     "output_type": "execute_result"
    }
   ],
   "source": [
    "v1 = np.array([1,2,3])\n",
    "p = P(v1)\n",
    "p"
   ]
  },
  {
   "cell_type": "code",
   "execution_count": 105,
   "metadata": {},
   "outputs": [
    {
     "data": {
      "text/plain": [
       "Polynomial([2., 6.], domain=[-1.,  1.], window=[-1.,  1.])"
      ]
     },
     "execution_count": 105,
     "metadata": {},
     "output_type": "execute_result"
    }
   ],
   "source": [
    "p.deriv()"
   ]
  },
  {
   "cell_type": "code",
   "execution_count": 106,
   "metadata": {},
   "outputs": [],
   "source": [
    "p = P(v1)"
   ]
  },
  {
   "cell_type": "markdown",
   "metadata": {},
   "source": [
    "$$ f(x)=3x^2+2x+1 $$\n",
    "\n",
    "做积分是\n",
    "\n",
    "$$ F(x)=x^3+x^2+x+N $$\n",
    "\n",
    "N是无法预测的所以置0"
   ]
  },
  {
   "cell_type": "code",
   "execution_count": 107,
   "metadata": {},
   "outputs": [
    {
     "data": {
      "text/plain": [
       "Polynomial([0., 1., 1., 1.], domain=[-1.,  1.], window=[-1.,  1.])"
      ]
     },
     "execution_count": 107,
     "metadata": {},
     "output_type": "execute_result"
    }
   ],
   "source": [
    "p.integ()"
   ]
  },
  {
   "cell_type": "markdown",
   "metadata": {},
   "source": [
    "## 傅里叶变换\n",
    "\n",
    "\n",
    "将时域信号变换至频域加以分析的方法称为频谱分析.频谱分析的目的是把复杂的时间历程波形,经过傅里叶变换分解为若干单一的谐波分量来研究,以获得信号的频率结构以及各谐波和相位信息.\n",
    "\n",
    "对信号进行频谱分析可以获得更多有用信息,如求得动态信号中的各个频率成分和频率分布范围,求出各个频率成分的幅值分布和能量分布,从而得到主要幅度和能量分布的频率值.\n",
    "\n",
    "由时间函数求频谱函数的傅里叶变换公式就是将该时间函数乘以以频率为系数的指数函数之后,在负无限大到正无限大的整个区间内,对时间进行积分.这样就得到了与这个时间函数对应的.以频率为自变量的频谱函数.频谱函数是信号的频域表示方式.根据上述傅里叶变换公式,可以求出常数的频谱函数为频域中位于零频率处的一个冲激函数,表示直流信号就是一个频率等于零的信号.与此相反冲激函数的频谱函数等于常数,表示冲激函数含有无限多个、频率无限密集的正弦成分.同样的单个正弦波的频谱函数就是频域中位于该正弦波频率处的一对冲激函数.\n",
    "\n",
    "np中用`np.fft`模块可以做傅里叶变换\n",
    "\n",
    "### 傅里叶级数\n",
    "\n",
    "假设:关于一个变量的任意一个周期函数 $f(x)$ ，不论连续或不连续,且函数 $f(x)$ 必须平方可积的，则 $f(x)$ 都可以近似的展开为正弦函数的级数，而正弦函数的参数为变量的倍数,大约就是:\n",
    "\n",
    "$$f(x)=\\sum_k c_k sin kx$$\n",
    "\n",
    "#### 最常见的表达形式\n",
    "\n",
    "周期为T的函数f(x)有：\n",
    "\n",
    "$$\\begin{align}\n",
    "f(x)&=a_0+\\sum_{k=1}^\\infty{[a_k sin (k{2\\pi\\over T}x)+b_k cos(k{2\\pi\\over T}x)]}\\\\\n",
    "&=a_0+\\sum_{k=1}^\\infty{\\sqrt{a_k^2+b_k^2} [sin(k{2\\pi\\over T}x+\\theta)]}\n",
    "\\end{align}$$\n",
    "\n",
    "然后因为有欧拉公式:\n",
    "\n",
    "$$ cos x={ \\frac {e^{ix}+e^{-ix}} 2} $$\n",
    "\n",
    "$$ sin x={\\frac {e^{ix}-e^{-ix}} 2i} $$\n",
    "\n",
    "所以有:\n",
    "\n",
    "$$ f(x) = \\sum_{k=-\\infty}^{+\\infty}a_k e^{ik({2\\pi\\over T})t}$$\n",
    "\n",
    "\n",
    "### 傅里叶变换:\n",
    "\n",
    "假设一个函数（信号）是周期的，但是它的周期是无穷大,可以得出:\n",
    "\n",
    "傅里叶正变换:\n",
    "\n",
    "$$\n",
    "F(\\omega)=\\int_{-\\infty}^\\infty f(t) e^{-i\\omega t}dt\n",
    "$$\n",
    "\n",
    "傅里叶反变换:\n",
    "\n",
    "$$\n",
    "f(t)={1\\over {2\\pi}}\\int_{-\\infty}^\\infty F(\\omega) e^{-i\\omega t}d\\omega\n",
    "$$\n",
    "\n",
    "于是,我们可以利用傅里叶正变换变到分解状态（或者说频域），然后把它的分量分别处理，再利用反变换回去了.\n",
    "\n",
    "\n",
    "\n",
    "### numpy中的接口\n",
    "\n",
    "实域变频域后,函数表现形式有了变化,各个分量有了频率,周期.\n",
    "\n",
    "numpy中获取和处理频率的工具有\n",
    "\n",
    "+ fftfreq(n[, d])\n",
    "    获取连续傅里叶变换分量频率\n",
    "    \n",
    "+ rfftfreq(n[, d])\n",
    "    获取离散傅里叶变换分量频率\n",
    "    \n",
    "+ fftshift(x[, axes])\n",
    "    将0频分量移动到中心\n",
    "+ ifftshift(x[, axes])\tThe inverse of fftshift.\n",
    "     上一操作的反操作\n",
    "     \n",
    "### 离散时间信号\n",
    "\n",
    "在时间上依次出现的数值序列,例如，{…，0.5，1，2，-1，0，5，…}。相邻两个数之间的时间间隔可以是相等的，也可以是不等的。在前一情况下，设时间间隔为T秒,则离散信号可用符号x(nT)来表示（图1）。在间隔T归一化为1的条件下,T可以省略,即将x(nT)表示为x(n)。x(n)既可表示整个序列, 也可表示离散信号在nT瞬间的值。\n",
    "\n",
    "### 离散傅里叶变换\n",
    "\n",
    "简称DFT,\n",
    "\n",
    "python的numpy里的fft模块就是用的这种变换\n",
    "\n",
    "对于N点序列 $\\left\\{x[n]\\right\\}_{0\\le n <N}$，它的离散傅里叶变换（DFT）为:\n",
    "\n",
    "$$\\hat{x}[k]=\\sum_{n=0}^{N-1} e^{-i\\frac{2\\pi}{N}nk}x[n] \\qquad k = 0,1,\\ldots,N-1.$$\n",
    "\n",
    "其中i是虚数单位\n",
    "\n",
    "其逆变换为:\n",
    "\n",
    "$$x\\left[n\\right]={1 \\over N}\\sum_{k=0}^{N-1} e^{ i\\frac{2\\pi}{N}nk}\\hat{x}[k] \\qquad n = 0,1,\\ldots,N-1.$$\n",
    "\n",
    "\n",
    "\n",
    "### numpy中实现的标准快速傅里叶变换\n",
    "\n",
    "方法|说明\n",
    "---|---\n",
    "fft(a[, n, axis, norm])|\t一维空间离散傅里叶变换\n",
    "ifft(a[, n, axis, norm])|\t一维空间离散傅里叶反变换\n",
    "fft2(a[, s, axes, norm])|\t二维空间离散傅里叶变换\n",
    "ifft2(a[, s, axes, norm])|\t二维空间离散傅里叶反变换\n",
    "fftn(a[, s, axes, norm])|\tN维空间离散傅里叶变换\n",
    "ifftn(a[, s, axes, norm])|\tN维空间离散傅里叶反变换\n",
    "\n",
    "fft的参数是一个数组,这个数组可以理解为一个连续函数按一定周期采样的结果.而这个数组一般都是2的整数次幂.比如256,128,64这样\n",
    "\n",
    "以下是标准傅里叶变换的例子\n",
    "\n",
    "+ 一维空间\n",
    "\n",
    "我们以一个矩形波为例子"
   ]
  },
  {
   "cell_type": "code",
   "execution_count": 19,
   "metadata": {},
   "outputs": [
    {
     "data": {
      "image/png": "[encoded data removed]",
      "text/plain": [
       "<matplotlib.figure.Figure at 0x119b5af98>"
      ]
     },
     "metadata": {},
     "output_type": "display_data"
    }
   ],
   "source": [
    "t = np.linspace(-1, 1, 128,endpoint=True)\n",
    "tz = list(map(lambda x: 1 if (x > -0.5 and x<0.5) else 0,t))\n",
    "plt.plot(t,tz)\n",
    "plt.show()"
   ]
  },
  {
   "cell_type": "code",
   "execution_count": 20,
   "metadata": {},
   "outputs": [
    {
     "name": "stderr",
     "output_type": "stream",
     "text": [
      "/Users/huangsizhe/anaconda3/lib/python3.6/site-packages/numpy/core/numeric.py:492: ComplexWarning: Casting complex values to real discards the imaginary part\n",
      "  return array(a, dtype, copy=False, order=order)\n"
     ]
    },
    {
     "data": {
      "image/png": "[encoded data removed]",
      "text/plain": [
       "<matplotlib.figure.Figure at 0x119a1f908>"
      ]
     },
     "metadata": {},
     "output_type": "display_data"
    }
   ],
   "source": [
    "sp = np.fft.fft(tz)\n",
    "re = np.fft.ifft(sp)#傅里叶逆变换\n",
    "plt.plot(t,re)\n",
    "plt.show()"
   ]
  },
  {
   "cell_type": "code",
   "execution_count": 21,
   "metadata": {},
   "outputs": [
    {
     "data": {
      "image/png": "[encoded data removed]",
      "text/plain": [
       "<matplotlib.figure.Figure at 0x1192dd908>"
      ]
     },
     "metadata": {},
     "output_type": "display_data"
    }
   ],
   "source": [
    "freq = np.fft.fftfreq(t.shape[-1])#获取频率\n",
    "plt.plot(freq, sp.real)\n",
    "plt.show()"
   ]
  },
  {
   "cell_type": "code",
   "execution_count": 22,
   "metadata": {},
   "outputs": [
    {
     "data": {
      "image/png": "[encoded data removed]",
      "text/plain": [
       "<matplotlib.figure.Figure at 0x119e8c780>"
      ]
     },
     "metadata": {},
     "output_type": "display_data"
    }
   ],
   "source": [
    "plt.plot(freq, sp.imag)\n",
    "plt.show()"
   ]
  },
  {
   "cell_type": "markdown",
   "metadata": {},
   "source": [
    "+ 二维空间(常用图像处理)"
   ]
  },
  {
   "cell_type": "code",
   "execution_count": 23,
   "metadata": {},
   "outputs": [
    {
     "data": {
      "text/plain": [
       "array([[0, 0, 0, 0, 0],\n",
       "       [1, 1, 1, 1, 1],\n",
       "       [2, 2, 2, 2, 2],\n",
       "       [3, 3, 3, 3, 3],\n",
       "       [4, 4, 4, 4, 4]])"
      ]
     },
     "execution_count": 23,
     "metadata": {},
     "output_type": "execute_result"
    }
   ],
   "source": [
    "a = np.mgrid[:5, :5][0]\n",
    "a"
   ]
  },
  {
   "cell_type": "code",
   "execution_count": 24,
   "metadata": {},
   "outputs": [
    {
     "data": {
      "text/plain": [
       "array([[ 50.  +0.        j,   0.  +0.        j,   0.  +0.        j,\n",
       "          0.  +0.        j,   0.  +0.        j],\n",
       "       [-12.5+17.20477401j,   0.  +0.        j,   0.  +0.        j,\n",
       "          0.  +0.        j,   0.  +0.        j],\n",
       "       [-12.5 +4.0614962 j,   0.  +0.        j,   0.  +0.        j,\n",
       "          0.  +0.        j,   0.  +0.        j],\n",
       "       [-12.5 -4.0614962 j,   0.  +0.        j,   0.  +0.        j,\n",
       "          0.  +0.        j,   0.  +0.        j],\n",
       "       [-12.5-17.20477401j,   0.  +0.        j,   0.  +0.        j,\n",
       "          0.  +0.        j,   0.  +0.        j]])"
      ]
     },
     "execution_count": 24,
     "metadata": {},
     "output_type": "execute_result"
    }
   ],
   "source": [
    "np.fft.fft2(a)"
   ]
  },
  {
   "cell_type": "markdown",
   "metadata": {},
   "source": [
    "+ n维空间"
   ]
  },
  {
   "cell_type": "code",
   "execution_count": 25,
   "metadata": {},
   "outputs": [
    {
     "data": {
      "text/plain": [
       "array([[[0, 0, 0],\n",
       "        [0, 0, 0],\n",
       "        [0, 0, 0]],\n",
       "\n",
       "       [[1, 1, 1],\n",
       "        [1, 1, 1],\n",
       "        [1, 1, 1]],\n",
       "\n",
       "       [[2, 2, 2],\n",
       "        [2, 2, 2],\n",
       "        [2, 2, 2]]])"
      ]
     },
     "execution_count": 25,
     "metadata": {},
     "output_type": "execute_result"
    }
   ],
   "source": [
    "b = np.mgrid[:3, :3, :3][0]\n",
    "b"
   ]
  },
  {
   "cell_type": "code",
   "execution_count": 26,
   "metadata": {},
   "outputs": [
    {
     "data": {
      "text/plain": [
       "array([[[ 0.+0.j,  0.+0.j,  0.+0.j],\n",
       "        [ 0.+0.j,  0.+0.j,  0.+0.j],\n",
       "        [ 0.+0.j,  0.+0.j,  0.+0.j]],\n",
       "\n",
       "       [[ 9.+0.j,  0.+0.j,  0.+0.j],\n",
       "        [ 0.+0.j,  0.+0.j,  0.+0.j],\n",
       "        [ 0.+0.j,  0.+0.j,  0.+0.j]],\n",
       "\n",
       "       [[18.+0.j,  0.+0.j,  0.+0.j],\n",
       "        [ 0.+0.j,  0.+0.j,  0.+0.j],\n",
       "        [ 0.+0.j,  0.+0.j,  0.+0.j]]])"
      ]
     },
     "execution_count": 26,
     "metadata": {},
     "output_type": "execute_result"
    }
   ],
   "source": [
    "np.fft.fftn(b, axes=(1, 2))"
   ]
  },
  {
   "cell_type": "code",
   "execution_count": 27,
   "metadata": {},
   "outputs": [
    {
     "data": {
      "text/plain": [
       "array([[[ 2.+0.j,  2.+0.j,  2.+0.j],\n",
       "        [ 0.+0.j,  0.+0.j,  0.+0.j]],\n",
       "\n",
       "       [[-2.+0.j, -2.+0.j, -2.+0.j],\n",
       "        [ 0.+0.j,  0.+0.j,  0.+0.j]]])"
      ]
     },
     "execution_count": 27,
     "metadata": {},
     "output_type": "execute_result"
    }
   ],
   "source": [
    "np.fft.fftn(b, (2, 2), axes=(0, 1))"
   ]
  },
  {
   "cell_type": "code",
   "execution_count": 28,
   "metadata": {},
   "outputs": [
    {
     "data": {
      "image/png": "[encoded data removed]",
      "text/plain": [
       "<matplotlib.figure.Figure at 0x11a0de7f0>"
      ]
     },
     "metadata": {},
     "output_type": "display_data"
    }
   ],
   "source": [
    "[X, Y] = np.meshgrid(2 * np.pi * np.arange(200) / 12,\n",
    "                      2 * np.pi * np.arange(200) / 34)\n",
    "S = np.sin(X) + np.cos(Y) + np.random.uniform(0, 1, X.shape)\n",
    "FS = np.fft.fftn(S)\n",
    "plt.imshow(np.log(np.abs(np.fft.fftshift(FS))**2))\n",
    "plt.show()"
   ]
  },
  {
   "cell_type": "markdown",
   "metadata": {},
   "source": [
    "numpy中其他的傅里叶变换还有\n",
    "\n",
    "\n",
    "实数快速傅里叶变换:\n",
    "\n",
    "方法|说明\n",
    "---|---\n",
    "rfft(a[, n, axis, norm])|\t实数输入的一维空间离散傅里叶变换\n",
    "irfft(a[, n, axis, norm])|\t实数输入的一维空间离散傅里叶反变换\n",
    "rfft2(a[, s, axes, norm])|\t实数输入的二维空间离散傅里叶变换\n",
    "irfft2(a[, s, axes, norm])|\t实数输入的二维空间离散傅里叶反变换\n",
    "rfftn(a[, s, axes, norm])|\t实数输入的N维空间离散傅里叶变换\n",
    "irfftn(a[, s, axes, norm])|\t实数输入的N维空间离散傅里叶反变换\n",
    "\n",
    "\n",
    "Hermitian傅里叶变换:\n",
    "\n",
    "方法|说明\n",
    "---|---\n",
    "hfft(a[, n, axis, norm])|\t计算实域中埃尔米特对称的信号的快速傅里叶变换\n",
    "ihfft(a[, n, axis, norm])|\t计算实域中埃尔米特对称的信号的快速傅里叶反变换\n",
    "\n",
    "他们用法与上面的相同就不一一描述了"
   ]
  },
  {
   "cell_type": "markdown",
   "metadata": {},
   "source": [
    "## 窗口函数\n",
    "\n",
    "在信号处理中，窗函数(window function)是一种除在给定区间之外取值均为0的实函数。譬如：在给定区间内为常数而在区间外为0的窗函数被形象地称为矩形窗。任何函数与窗函数之积仍为窗函数，所以相乘的结果就像透过窗口“看”其他函数一样。窗函数在频谱分析、滤波器设计、波束形成、以及音频数据压缩（如在Ogg Vorbis音频格式中）等方面有广泛的应用。\n",
    "\n",
    "numpy中提供了几种常见的窗函数\n",
    "\n",
    "函数|说明\n",
    "---|---\n",
    "bartlett(M)\t|Bartlett窗口函数\n",
    "blackman(M)\t|Blackman 窗口函数\n",
    "hamming(M)\t|Hamming窗口函数\n",
    "hanning(M)\t|Hanning窗口函数\n",
    "kaiser(M, beta)\t|Kaiser窗口函数"
   ]
  },
  {
   "cell_type": "markdown",
   "metadata": {},
   "source": [
    "### bartlett窗\n",
    "\n",
    "$$ w(n)=\\frac{2}{N-1}\\cdot\\left(\\frac{N-1}{2}-\\left |n-\\frac{N-1}{2}\\right |\\right)\\, $$"
   ]
  },
  {
   "cell_type": "code",
   "execution_count": 29,
   "metadata": {},
   "outputs": [
    {
     "data": {
      "image/png": "[encoded data removed]",
      "text/plain": [
       "<matplotlib.figure.Figure at 0x119f01438>"
      ]
     },
     "metadata": {},
     "output_type": "display_data"
    }
   ],
   "source": [
    "window = np.bartlett(51)\n",
    "plt.plot(window)\n",
    "plt.title(\"Bartlett window\")\n",
    "plt.ylabel(\"Amplitude\")\n",
    "plt.xlabel(\"Sample\")\n",
    "plt.show()"
   ]
  },
  {
   "cell_type": "markdown",
   "metadata": {},
   "source": [
    "### Blackman窗\n",
    "\n",
    "$$ \n",
    "w(n)=a_0 - a_1 \\cos \\left ( \\frac{2 \\pi n}{N-1} \\right) + a_2 \\cos \\left ( \\frac{4 \\pi n}{N-1} \\right)\n",
    "$$\n",
    "$$\n",
    "{\\displaystyle a_{0}=0.42;\\quad a_{1}=0.5;\\quad a_{2}=0.08\\,} a_0=0.42;\\quad a_1=0.5;\\quad a_2=0.08\\,\n",
    "$$"
   ]
  },
  {
   "cell_type": "code",
   "execution_count": 30,
   "metadata": {},
   "outputs": [
    {
     "data": {
      "image/png": "[encoded data removed]",
      "text/plain": [
       "<matplotlib.figure.Figure at 0x11a10c0f0>"
      ]
     },
     "metadata": {},
     "output_type": "display_data"
    }
   ],
   "source": [
    "window = np.blackman(51)\n",
    "plt.plot(window)\n",
    "plt.title(\"Blackman window\")\n",
    "plt.ylabel(\"Amplitude\")\n",
    "plt.xlabel(\"Sample\")\n",
    "plt.show()"
   ]
  },
  {
   "cell_type": "markdown",
   "metadata": {},
   "source": [
    "### Hamming窗\n",
    "\n",
    "$$ w(n)=0.53836 - 0.46164\\; \\cos \\left ( \\frac{2 \\pi n}{N-1} \\right) $$"
   ]
  },
  {
   "cell_type": "code",
   "execution_count": 31,
   "metadata": {},
   "outputs": [
    {
     "data": {
      "image/png": "[encoded data removed]",
      "text/plain": [
       "<matplotlib.figure.Figure at 0x11a068898>"
      ]
     },
     "metadata": {},
     "output_type": "display_data"
    }
   ],
   "source": [
    "window = np.hamming(51)\n",
    "plt.plot(window)\n",
    "plt.title(\"Hamming window\")\n",
    "plt.ylabel(\"Amplitude\")\n",
    "plt.xlabel(\"Sample\")\n",
    "plt.show()"
   ]
  },
  {
   "cell_type": "markdown",
   "metadata": {},
   "source": [
    "### Hanning窗\n",
    "\n",
    "$$ w(n)= 0.5\\; \\left(1 - \\cos \\left ( \\frac{2 \\pi n}{N-1} \\right) \\right) $$"
   ]
  },
  {
   "cell_type": "code",
   "execution_count": 32,
   "metadata": {},
   "outputs": [
    {
     "data": {
      "image/png": "[encoded data removed]",
      "text/plain": [
       "<matplotlib.figure.Figure at 0x1192f9cf8>"
      ]
     },
     "metadata": {},
     "output_type": "display_data"
    }
   ],
   "source": [
    "window = np.hanning(51)\n",
    "plt.plot(window)\n",
    "plt.title(\"Hanning window\")\n",
    "plt.ylabel(\"Amplitude\")\n",
    "plt.xlabel(\"Sample\")\n",
    "plt.show()"
   ]
  },
  {
   "cell_type": "markdown",
   "metadata": {},
   "source": [
    "### Kaiser窗\n",
    "\n",
    "$$ w(n)=\\frac{I_0\\Bigg (\\pi\\alpha \\sqrt{1 - (\\begin{matrix} \\frac{2 n}{N-1} \\end{matrix}-1)^2}\\Bigg )} {I_0(\\pi\\alpha)} $$"
   ]
  },
  {
   "cell_type": "code",
   "execution_count": 33,
   "metadata": {},
   "outputs": [
    {
     "data": {
      "image/png": "[encoded data removed]",
      "text/plain": [
       "<matplotlib.figure.Figure at 0x112478240>"
      ]
     },
     "metadata": {},
     "output_type": "display_data"
    }
   ],
   "source": [
    "window = np.kaiser(51, 14)\n",
    "plt.plot(window)\n",
    "plt.title(\"Kaiser window\")\n",
    "plt.ylabel(\"Amplitude\")\n",
    "plt.xlabel(\"Sample\")\n",
    "plt.show()"
   ]
  },
  {
   "cell_type": "markdown",
   "metadata": {},
   "source": [
    "## 卷积\n",
    "\n",
    "卷积运算符经常出现在信号处理中,其中它模拟线性时不变系统对信号的影响.在概率理论中,两个独立随机变量的和根据它们各自的分布的卷积来分布.\n",
    "**离散**卷积运算定义为:\n",
    "\n",
    "$$ (a * v)[n] = \\sum_{m = -\\infty}^{\\infty} a[m] v[n - m] $$\n",
    "\n",
    "numpy提供了通用的卷积操作`convolve(a, v, mode='full')`\n",
    "\n",
    "\n",
    "其中前两个参数都是一维的输入向量,而mode则提供了可选的三种运算规则,它可以有3种选项\n",
    "\n",
    "+ full\n",
    "    默认情况下，模式为“full”。这在每个重叠点处返回卷积，其输出形状为(N M-1,).在卷积的端点，信号不完全重叠，并且可以看到边界效应。\n",
    "    \n",
    "+ same\n",
    "    模式same返回长度max（M，N）的输出。边界效应仍然可见。\n",
    "    \n",
    "+ valid\n",
    "    模式'valid'返回长度为max(M,N)-min(M,N)+1.卷积产物仅针对信号完全重叠的点给出。信号边界外的值没有效果。"
   ]
  },
  {
   "cell_type": "code",
   "execution_count": 76,
   "metadata": {},
   "outputs": [
    {
     "data": {
      "text/plain": [
       "array([0. , 1. , 2.5, 4. , 1.5])"
      ]
     },
     "execution_count": 76,
     "metadata": {},
     "output_type": "execute_result"
    }
   ],
   "source": [
    "np.convolve([1, 2, 3], [0, 1, 0.5])\n",
    "\n",
    "# a相当于[...0,0,1,2, 3 ,0,0,...]\n",
    "# v相当于[...0,0,0,1,0.5,0,0,...]\n",
    "# [0*0.5+0*1+1*0+2*0+3*0,\n",
    "# 0*0.5+1*1+2*0+3*0,\n",
    "# 1*0.5+2*1+3*0,\n",
    "# 1*0+2*0.5+3*1+0*0,\n",
    "# 1*0+2*0+3*0.5+0*1+0*0]"
   ]
  },
  {
   "cell_type": "code",
   "execution_count": 77,
   "metadata": {},
   "outputs": [
    {
     "data": {
      "text/plain": [
       "array([1. , 2.5, 4. ])"
      ]
     },
     "execution_count": 77,
     "metadata": {},
     "output_type": "execute_result"
    }
   ],
   "source": [
    "np.convolve([1,2,3],[0,1,0.5], 'same')"
   ]
  },
  {
   "cell_type": "code",
   "execution_count": 78,
   "metadata": {},
   "outputs": [
    {
     "data": {
      "text/plain": [
       "array([2.5])"
      ]
     },
     "execution_count": 78,
     "metadata": {},
     "output_type": "execute_result"
    }
   ],
   "source": [
    "np.convolve([1,2,3],[0,1,0.5], 'valid')"
   ]
  },
  {
   "cell_type": "markdown",
   "metadata": {},
   "source": [
    "## 财务函数\n",
    "\n",
    "numpy提供了简单的财务分析函数"
   ]
  },
  {
   "cell_type": "markdown",
   "metadata": {},
   "source": [
    "### `fv(rate, nper, pmt, pv[, when])`求按比率计算n步后的值\n",
    "\n",
    "例如:现在存100美元,且每月存100美元,假设利率是5%,6%,7%（每月）复利,求10年后的未来价值是多少\n"
   ]
  },
  {
   "cell_type": "code",
   "execution_count": 34,
   "metadata": {},
   "outputs": [
    {
     "data": {
      "text/plain": [
       "array([15692.92889434, 16569.87435405, 17509.44688102])"
      ]
     },
     "execution_count": 34,
     "metadata": {},
     "output_type": "execute_result"
    }
   ],
   "source": [
    "a = np.array((0.05, 0.06, 0.07))/12\n",
    "np.fv(a, 10*12, -100, -100)"
   ]
  },
  {
   "cell_type": "markdown",
   "metadata": {},
   "source": [
    "### `pv(rate, nper, pmt[, fv, when])`求按比率计算n步前的值\n",
    "\n",
    "其实就是前一函数的反函数"
   ]
  },
  {
   "cell_type": "code",
   "execution_count": 35,
   "metadata": {},
   "outputs": [
    {
     "data": {
      "text/plain": [
       "array([-100., -100., -100.])"
      ]
     },
     "execution_count": 35,
     "metadata": {},
     "output_type": "execute_result"
    }
   ],
   "source": [
    "b = np.array([ 15692.92889434,  16569.87435405,  17509.44688102])\n",
    "np.pv(a, 10*12, -100, b)"
   ]
  },
  {
   "cell_type": "markdown",
   "metadata": {},
   "source": [
    "### `npv(rate, values)`净现值\n",
    "\n",
    "values为现金流量时间序列的价值。\n",
    "现金流“事件”之间的（固定）时间间隔必须与给出费率的时间间隔相同（即，如果费率是每年，则恰好一年被理解为在每个现金流事件之间流逝）。\n",
    "按惯例，投资或“存款”是负数，收入或“提款”是正数;\n",
    "值必须以初始投资开始，因此值[0]通常为负值。\n",
    "\n",
    "净现值是一项投资所产生的未来现金流的折现值与项目投资成本之间的差值。\n",
    "净现值指标是反映项目投资获利能力的指标。\n",
    "\n",
    "+ 决策标准：\n",
    "    + 净现值≥0 方案可行；\n",
    "    + 净现值＜0 方案不可行；\n",
    "    + 净现值均＞0 净现值最大的方案为最优方案。\n",
    "+ 优点：\n",
    "    + 考虑了资金时间价值，增强了投资经济性的评价；\n",
    "    + 考虑了全过程的净现金流量，体现了流动性与收益性的统一；\n",
    "    + 考虑了投资风险，风险大则采用高折现率，风险小则采用低折现率。\n",
    "+ 缺点：\n",
    "    + 净现值的计算较麻烦，难掌握；\n",
    "    + 净现金流量的测量和折现率较难确定；\n",
    "    + 不能从动态角度直接反映投资项目的实际收益水平；\n",
    "    + 项目投资额不等时，无法准确判断方案的优劣。\n",
    "\n",
    "numpy中的净现值使用这个公式\n",
    "\n",
    "$$ \\sum_{t=0}^{M-1}{\\frac{values_t}{(1+rate)^{t}}}$$"
   ]
  },
  {
   "cell_type": "code",
   "execution_count": 36,
   "metadata": {},
   "outputs": [
    {
     "data": {
      "text/plain": [
       "-0.00847859163845488"
      ]
     },
     "execution_count": 36,
     "metadata": {},
     "output_type": "execute_result"
    }
   ],
   "source": [
    "np.npv(0.281,[-100, 39, 59, 55, 20])"
   ]
  },
  {
   "cell_type": "markdown",
   "metadata": {},
   "source": [
    "### `pmt(rate, nper, pv, fv=0, when='end')`计算贷款本金加利息的付款\n",
    "\n",
    "\n",
    "+ nper是计算次数\n",
    "+ pv是本金"
   ]
  },
  {
   "cell_type": "code",
   "execution_count": 37,
   "metadata": {},
   "outputs": [
    {
     "data": {
      "text/plain": [
       "-1854.0247200054619"
      ]
     },
     "execution_count": 37,
     "metadata": {},
     "output_type": "execute_result"
    }
   ],
   "source": [
    "np.pmt(0.075/12, 12*15, 200000)"
   ]
  },
  {
   "cell_type": "markdown",
   "metadata": {},
   "source": [
    "+ `ppmt(rate, per, nper, pv, fv=0.0, when='end')`\n",
    "计算贷款本金的付款。\n"
   ]
  },
  {
   "cell_type": "markdown",
   "metadata": {},
   "source": [
    "+ `ipmt(rate, per, nper, pv, fv=0.0, when='end')`\n",
    "计算付款的利息部分。"
   ]
  },
  {
   "cell_type": "markdown",
   "metadata": {},
   "source": [
    "### `irr(values)`返回内部收益率(IRR)\n",
    "\n",
    "numpy使用公式\n",
    "\n",
    "$$ \\sum_{t=0}^M{\\frac{v_t}{(1+irr)^{t}}} = 0 $$"
   ]
  },
  {
   "cell_type": "code",
   "execution_count": 39,
   "metadata": {},
   "outputs": [
    {
     "name": "stdout",
     "output_type": "stream",
     "text": [
      "0.28095\n",
      "-0.0955\n",
      "-0.0833\n",
      "0.06206\n",
      "0.0886\n"
     ]
    }
   ],
   "source": [
    "print(round(np.irr([-100, 39, 59, 55, 20]), 5))\n",
    "\n",
    "print(round(np.irr([-100, 0, 0, 74]), 5))\n",
    "\n",
    "print(round(np.irr([-100, 100, 0, -7]), 5))\n",
    "\n",
    "print(round(np.irr([-100, 100, 0, 7]), 5))\n",
    "\n",
    "print(round(np.irr([-5, 10.5, 1, -8, 1]), 5))"
   ]
  },
  {
   "cell_type": "markdown",
   "metadata": {},
   "source": [
    "### `mirr(values, finance_rate, reinvest_rate)`修改后的内部收益率。"
   ]
  },
  {
   "cell_type": "markdown",
   "metadata": {},
   "source": [
    "### `nper(rate, pmt, pv, fv=0, when='end')`计算定期付款的数量。\n",
    "\n",
    "计算公式为:\n",
    "\n",
    "$$ fv + pv*(1+rate)**nper + pmt*(1+rate*when)/rate*((1+rate)**nper-1) = 0 $$\n",
    "\n",
    "如果`rate = 0`,那么:\n",
    "\n",
    "$$ fv + pv + pmt*nper = 0 $$"
   ]
  },
  {
   "cell_type": "code",
   "execution_count": 42,
   "metadata": {},
   "outputs": [
    {
     "name": "stdout",
     "output_type": "stream",
     "text": [
      "64.07334877066185\n"
     ]
    }
   ],
   "source": [
    "print(np.nper(0.07/12, -150, 8000))"
   ]
  },
  {
   "cell_type": "markdown",
   "metadata": {},
   "source": [
    "### rate(nper, pmt, pv, fv, when='end', guess=0.1, tol=1e-06, maxiter=100)计算每个周期的利率。\n",
    "\n",
    "通过迭代求解(非线性)方程来计算利息率:\n",
    "\n",
    "\n",
    "$$ fv + pv*(1+rate)**nper + pmt*(1+rate*when)/rate * ((1+rate)**nper - 1) = 0 $$"
   ]
  },
  {
   "cell_type": "markdown",
   "metadata": {},
   "source": [
    "## 向量间计算\n",
    "\n",
    "向量间计算多数都是对应项操作,这个ufunc可以直接支持.比较特殊的操作是点乘和求夹角"
   ]
  },
  {
   "cell_type": "markdown",
   "metadata": {},
   "source": [
    "### 求模\n",
    "\n",
    "向量中模的定义为各个项的平方和开方\n",
    "\n",
    "$$ |v| = \\sqrt {\\sum_{i=0}^{N} {v_i^2}} $$\n",
    "\n",
    "numpy中使用`np.linalg.norm(v)`来计算"
   ]
  },
  {
   "cell_type": "code",
   "execution_count": 118,
   "metadata": {},
   "outputs": [
    {
     "name": "stdout",
     "output_type": "stream",
     "text": [
      "5.830951894845301\n"
     ]
    }
   ],
   "source": [
    "v_1 = np.array([3,5])\n",
    "l_v1 = np.linalg.norm(v_1)\n",
    "print(l_v1)"
   ]
  },
  {
   "cell_type": "markdown",
   "metadata": {},
   "source": [
    "### 叉乘(外积)\n",
    "\n",
    "$$ |C| = | v_1 \\times v_2 |= |v_1| |v_2|sin<a,b> $$\n",
    "\n",
    "\n",
    "C的方向用右手定则,右手4指从v_1不超过180度转向v_2时大拇指的方向即为C的方向.\n",
    "\n",
    "numpy中使用`np.linalg.dot`来计算其值,或者使用python3.6定义的矩阵乘法符号`@`来计算"
   ]
  },
  {
   "cell_type": "code",
   "execution_count": 121,
   "metadata": {},
   "outputs": [
    {
     "data": {
      "text/plain": [
       "22"
      ]
     },
     "execution_count": 121,
     "metadata": {},
     "output_type": "execute_result"
    }
   ],
   "source": [
    "v_1 = np.array([3,5])\n",
    "v_2 = np.array([4,2])\n",
    "v_1@v_2"
   ]
  },
  {
   "cell_type": "markdown",
   "metadata": {},
   "source": [
    "## 矩阵计算\n",
    "\n",
    "通常我们认为向量是一维的矩阵,"
   ]
  },
  {
   "cell_type": "code",
   "execution_count": null,
   "metadata": {},
   "outputs": [],
   "source": []
  },
  {
   "cell_type": "code",
   "execution_count": null,
   "metadata": {},
   "outputs": [],
   "source": []
  },
  {
   "cell_type": "code",
   "execution_count": null,
   "metadata": {},
   "outputs": [],
   "source": []
  },
  {
   "cell_type": "code",
   "execution_count": null,
   "metadata": {},
   "outputs": [],
   "source": []
  },
  {
   "cell_type": "code",
   "execution_count": null,
   "metadata": {},
   "outputs": [],
   "source": []
  },
  {
   "cell_type": "markdown",
   "metadata": {},
   "source": [
    "## 张量计算"
   ]
  }
 ],
 "metadata": {
  "kernelspec": {
   "display_name": "Python 3",
   "language": "python",
   "name": "python3"
  },
  "language_info": {
   "codemirror_mode": {
    "name": "ipython",
    "version": 3
   },
   "file_extension": ".py",
   "mimetype": "text/x-python",
   "name": "python",
   "nbconvert_exporter": "python",
   "pygments_lexer": "ipython3",
   "version": "3.6.4"
  }
 },
 "nbformat": 4,
 "nbformat_minor": 2
}
