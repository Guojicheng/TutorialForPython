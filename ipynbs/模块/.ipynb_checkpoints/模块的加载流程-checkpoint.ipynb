{
 "cells": [
  {
   "cell_type": "markdown",
   "metadata": {},
   "source": [
    "# 模块的加载流程\n",
    "\n",
    "前文有介绍过,python的加载通常使用`import`语句."
   ]
  },
  {
   "cell_type": "code",
   "execution_count": null,
   "metadata": {},
   "outputs": [],
   "source": [
    "## 导入时与运行时\n",
    "\n",
    "为了正确地做元编程，你必须知道Python解释器什么时候计算各个代码块.Python 程序员会区分“导入时”和“运行时”，不过这两个术语没有严格的定义，而且二者之间存在着灰色地带.\n",
    "\n",
    "在导入时，解释器会从上到下一次性解析完.py 模块的源码，然后生成用于执行的字节码。如果句法有错误，就在此时报告。如果本地的`__pycache__`文件夹中有最新的`.pyc` 文件，解释器会跳过上述步骤，因为已经有运行所需的字节码了.\n",
    "\n",
    "编译肯定是导入时的活动，不过那个时期还会做些其他事，因为Python 中的语句几乎都是可执行的，也就是说语句可能会运行用户代码，修改用户程序的状态。尤其是`import`语句，它不只是声明，在进程中首次导入模块时，还会运行所导入模块中的全部顶层代码——以后导入相同的模块则使用缓存，只做名称绑定。那些顶层代码可以做任何事，包括通常在“运行时”做的事，例如连接数据库. 因此，“导入时”与“运行时”之间的界线是模糊的：\n",
    "`import` 语句可以触发任何“运行时”行为。\n",
    "\n",
    "导入模块时，解释器会执行顶层的`def`语句，可是这么做有什么作用呢？解释器会编译函数的定义体(首次导入模块时)，把函数对象绑定到对应的全局名称上，但是显然解释器不会执行函数的定义体。通常这意味着解释器在导入时定义顶层函数，但是仅当在运行时调用函数时才会执行函数的定义体。\n",
    "\n",
    "对类来说，情况就不同了：在导入时，解释器会执行每个类的定义体，甚至会执行嵌套类\n",
    "的定义体。执行类定义体的结果是，定义了类的属性和方法，并构建了类对象。从这个意\n",
    "义上理解，类的定义体属于“顶层代码”，因为它在导入时运行。\n",
    "\n",
    "上述说明模糊又抽象，下面通过练习理解各个时期所做的事情。"
   ]
  },
  {
   "cell_type": "code",
   "execution_count": null,
   "metadata": {},
   "outputs": [],
   "source": []
  },
  {
   "cell_type": "code",
   "execution_count": null,
   "metadata": {},
   "outputs": [],
   "source": []
  },
  {
   "cell_type": "code",
   "execution_count": null,
   "metadata": {},
   "outputs": [],
   "source": []
  }
 ],
 "metadata": {
  "kernelspec": {
   "display_name": "Python 3",
   "language": "python",
   "name": "python3"
  },
  "language_info": {
   "codemirror_mode": {
    "name": "ipython",
    "version": 3
   },
   "file_extension": ".py",
   "mimetype": "text/x-python",
   "name": "python",
   "nbconvert_exporter": "python",
   "pygments_lexer": "ipython3",
   "version": "3.6.4"
  }
 },
 "nbformat": 4,
 "nbformat_minor": 2
}
