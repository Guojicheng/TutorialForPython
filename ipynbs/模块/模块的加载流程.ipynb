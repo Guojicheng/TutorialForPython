{
 "cells": [
  {
   "cell_type": "markdown",
   "metadata": {},
   "source": [
    "# 模块的加载流程\n",
    "\n",
    "前文有介绍过,python的加载通常使用`import`语句.`import`语句实际上只是一种加载方式,还可以使用内置函数`__import__(name:str, globals=None, locals=None, fromlist=(), level=0)`或者使用标准库`importlib.import_module(name:str, package=None)`"
   ]
  },
  {
   "cell_type": "code",
   "execution_count": 1,
   "metadata": {},
   "outputs": [],
   "source": [
    "import importlib"
   ]
  },
  {
   "cell_type": "code",
   "execution_count": 2,
   "metadata": {},
   "outputs": [],
   "source": [
    "module_test = importlib.import_module(\"module_test\") # 相当于 import module_test"
   ]
  },
  {
   "cell_type": "code",
   "execution_count": 3,
   "metadata": {},
   "outputs": [],
   "source": [
    "module_test = __import__('module_test') # 相当于 import module_test"
   ]
  },
  {
   "cell_type": "code",
   "execution_count": 4,
   "metadata": {},
   "outputs": [],
   "source": [
    "a = __import__('module_test.a',fromlist=[\"b\"]) # 相当于 from module_test import a,但是其下会将其子模块放入a的字段中"
   ]
  },
  {
   "cell_type": "code",
   "execution_count": 5,
   "metadata": {
    "scrolled": true
   },
   "outputs": [
    {
     "data": {
      "text/plain": [
       "1"
      ]
     },
     "execution_count": 5,
     "metadata": {},
     "output_type": "execute_result"
    }
   ],
   "source": [
    "a.b.func()"
   ]
  },
  {
   "cell_type": "markdown",
   "metadata": {},
   "source": [
    "## 加载机制\n",
    "\n",
    "模块的加载分为两种情况:\n",
    "\n",
    "1. 对未被加载过的模块进行加载\n",
    "\n",
    "2. 对已经加载过的模块进行加载\n",
    "\n",
    "当Python的解释器遇到`import`语句或者其他上述导入语句时,它会先去查看`sys.modules`中是否已经有同名模块被导入了,如果有就直接取来用;没有就去查阅`sys.path`里面所有已经储存的目录.这个列表初始化的时候,通常包含一些来自外部的库(external libraries)或者是来自操作系统的一些库,当然也会有一些类似于`dist-package`的标准库在里面.这些目录通常是被按照顺序或者是直接去搜索想要的--如果说他们当中的一个包含有期望的package或者是module,这个package或者是module将会在整个过程结束的时候被直接提取出来保存在`sys.modules`中(`sys.modules`是一个`模块名:模块对象`的字典结构).\n",
    "\n",
    "当在这些个地址中实在是找不着时,它就会抛出一个`ModuleNotFoundError`错误."
   ]
  },
  {
   "cell_type": "code",
   "execution_count": 6,
   "metadata": {},
   "outputs": [
    {
     "ename": "ModuleNotFoundError",
     "evalue": "No module named 'ujson'",
     "output_type": "error",
     "traceback": [
      "\u001b[0;31m---------------------------------------------------------------------------\u001b[0m",
      "\u001b[0;31mModuleNotFoundError\u001b[0m                       Traceback (most recent call last)",
      "\u001b[0;32m<ipython-input-6-e8d63ebeabc7>\u001b[0m in \u001b[0;36m<module>\u001b[0;34m()\u001b[0m\n\u001b[0;32m----> 1\u001b[0;31m \u001b[0;32mimport\u001b[0m \u001b[0mujson\u001b[0m\u001b[0;34m\u001b[0m\u001b[0m\n\u001b[0m",
      "\u001b[0;31mModuleNotFoundError\u001b[0m: No module named 'ujson'"
     ]
    }
   ],
   "source": [
    "import ujson"
   ]
  },
  {
   "cell_type": "markdown",
   "metadata": {},
   "source": [
    "这一机制常常被我们用来按环境加载相同功能的不同模块,以保证系统的鲁棒性"
   ]
  },
  {
   "cell_type": "code",
   "execution_count": 7,
   "metadata": {},
   "outputs": [],
   "source": [
    "try:\n",
    "    import ujson\n",
    "except ModuleNotFoundError:\n",
    "    import json as ujson"
   ]
  },
  {
   "cell_type": "markdown",
   "metadata": {},
   "source": [
    "### 导入顺序,`sys.path`和环境变量`PYTHONPATH`\n",
    "\n",
    "我们来实际看看`sys.path`的内容"
   ]
  },
  {
   "cell_type": "code",
   "execution_count": 8,
   "metadata": {},
   "outputs": [],
   "source": [
    "import sys"
   ]
  },
  {
   "cell_type": "code",
   "execution_count": 9,
   "metadata": {},
   "outputs": [
    {
     "data": {
      "text/plain": [
       "['',\n",
       " '/Users/hsz/anaconda3/lib/python36.zip',\n",
       " '/Users/hsz/anaconda3/lib/python3.6',\n",
       " '/Users/hsz/anaconda3/lib/python3.6/lib-dynload',\n",
       " '/Users/hsz/anaconda3/lib/python3.6/site-packages',\n",
       " '/Users/hsz/anaconda3/lib/python3.6/site-packages/aeosa',\n",
       " '/Users/hsz/anaconda3/lib/python3.6/site-packages/IPython/extensions',\n",
       " '/Users/hsz/.ipython']"
      ]
     },
     "execution_count": 9,
     "metadata": {},
     "output_type": "execute_result"
    }
   ],
   "source": [
    "sys.path"
   ]
  },
  {
   "cell_type": "markdown",
   "metadata": {},
   "source": [
    "可以看到第一位是个空字符串,代表的是相对路径下的当前目录.\n",
    "\n",
    "由于在导入模块的时候,解释器会按照列表的顺序搜索,直到找到第一个模块,所以优先导入的模块为同一目录下的模块.\n",
    "\n",
    "导入模块时搜索路径的顺序也可以改变.这里分两种情况:\n",
    "\n",
    "1. 通过`sys.path.append()`,`sys.path.insert()`等方法来改变,这种方法当重新启动解释器的时候,原来的设置会失效.\n",
    "\n",
    "2. 改变环境变量`PYTHONPATH`,这种设置方法随着环境变量的有效范围变化,只要启动python时先指定即可.\n",
    "\n",
    "我们写个脚本`pythonpath_test.py`测试下`PYTHONPATH`的效用\n",
    "\n",
    "```python\n",
    "import sys\n",
    "import pprint\n",
    "pprint.pprint(sys.path)\n",
    "```"
   ]
  },
  {
   "cell_type": "code",
   "execution_count": 10,
   "metadata": {},
   "outputs": [
    {
     "name": "stdout",
     "output_type": "stream",
     "text": [
      "['/Users/hsz/WorkSpace/hsz1273327/TutorialForPython/ipynbs/模块',\r\n",
      " '/Users/hsz/anaconda3/lib/python36.zip',\r\n",
      " '/Users/hsz/anaconda3/lib/python3.6',\r\n",
      " '/Users/hsz/anaconda3/lib/python3.6/lib-dynload',\r\n",
      " '/Users/hsz/anaconda3/lib/python3.6/site-packages',\r\n",
      " '/Users/hsz/anaconda3/lib/python3.6/site-packages/aeosa']\r\n"
     ]
    }
   ],
   "source": [
    "!python pythonpath_test.py"
   ]
  },
  {
   "cell_type": "code",
   "execution_count": 11,
   "metadata": {},
   "outputs": [
    {
     "name": "stdout",
     "output_type": "stream",
     "text": [
      "['/Users/hsz/WorkSpace/hsz1273327/TutorialForPython/ipynbs/模块',\r\n",
      " '/Users/hsz/WorkSpace/hsz1273327/TutorialForPython/ipynbs/模块/extension',\r\n",
      " '/Users/hsz/anaconda3/lib/python36.zip',\r\n",
      " '/Users/hsz/anaconda3/lib/python3.6',\r\n",
      " '/Users/hsz/anaconda3/lib/python3.6/lib-dynload',\r\n",
      " '/Users/hsz/anaconda3/lib/python3.6/site-packages',\r\n",
      " '/Users/hsz/anaconda3/lib/python3.6/site-packages/aeosa']\r\n"
     ]
    }
   ],
   "source": [
    "!PYTHONPATH=extension python pythonpath_test.py"
   ]
  },
  {
   "cell_type": "markdown",
   "metadata": {},
   "source": [
    "可以看到,PYTHONPATH在第二位上将其值添加到了查找范围中."
   ]
  },
  {
   "cell_type": "markdown",
   "metadata": {},
   "source": [
    "### 关于`__path__`的更多细节\n",
    "\n",
    "上面提到的Python的import流在大多数情况下默认等行为就已经可以满足需求,但是事实上细节远不止这些.他省略了一些我们可以根据需要调节的地方.\n",
    "\n",
    "首先，`__path__`这个属性是我们可以在`__init__.py`里面去定义的.你可以认为他像一个`sys.path`的本地扩展并且只服务于我们导入的`<package>`的子模块.换句话说,它包含地址时时应该寻找一个`<package>`的子模块被导入.默认的情况下只有`__init__.py`的目录,但是他可以扩展到包含任何其他任何的路径.\n",
    "\n",
    "这个说的很绕,实际看段例子就可以看出来.\n",
    "\n",
    "通常`__path__`的扩展借助于标准库`pkgutil`,后文还会有对其使用的介绍,我们的例子也要借助这个工具.`pkgutil.extend_path(path, name)`的作用是在`sys.path`范围内查找与<name>同名的模块,将其地址也添加到本语句所在的模块的`__path__`中.\n",
    "\n",
    "我们的测试模块叫`demopkg1`其结构如下:\n",
    "\n",
    "```shell\n",
    "demopkg1-|\n",
    "         |-__init__.py\n",
    "         |-shared.py\n",
    "```\n",
    "\n",
    "测试模块的扩展叫`extension`,其结构如下:\n",
    "```shell\n",
    "extension=|\n",
    "          |-__init__.py\n",
    "          |-demopkg1-|\n",
    "                     |-__init__.py\n",
    "                     |-shared.py\n",
    "```\n",
    "\n",
    "`demopkg1`的`__init__.py`内容如下\n",
    "\n",
    "```python\n",
    "import pkgutil\n",
    "import pprint\n",
    "\n",
    "print('demopkg1.__path__ before:')\n",
    "pprint.pprint(__path__)\n",
    "print()\n",
    "\n",
    "__path__ = pkgutil.extend_path(__path__, __name__)\n",
    "\n",
    "print('demopkg1.__path__ after:')\n",
    "pprint.pprint(__path__)\n",
    "print()\n",
    "```\n",
    "这段代码作用是打印出模块加载后的`__path__`变化情况.\n",
    "\n",
    "我们的测试入口代码是`pkgutil_extend_path.py`,其内容如下:\n",
    "\n",
    "```python\n",
    "import demopkg1\n",
    "print('demopkg1           :', demopkg1.__file__)\n",
    "\n",
    "try:\n",
    "    import demopkg1.shared\n",
    "except Exception as err:\n",
    "    print('demopkg1.shared    : Not found ({})'.format(err))\n",
    "else:\n",
    "    print('demopkg1.shared    :', demopkg1.shared.__file__)\n",
    "\n",
    "try:\n",
    "    import demopkg1.not_shared\n",
    "except Exception as err:\n",
    "    print('demopkg1.not_shared: Not found ({})'.format(err))\n",
    "else:\n",
    "    print('demopkg1.not_shared:', demopkg1.not_shared.__file__)\n",
    "```\n",
    "\n",
    "这段代码是用于检测模块下则子模块都导入了哪些的.\n",
    "\n",
    "先来看直接执行"
   ]
  },
  {
   "cell_type": "code",
   "execution_count": 12,
   "metadata": {},
   "outputs": [
    {
     "name": "stdout",
     "output_type": "stream",
     "text": [
      "demopkg1.__path__ before:\r\n",
      "['/Users/hsz/WorkSpace/hsz1273327/TutorialForPython/ipynbs/模块/demopkg1']\r\n",
      "\r\n",
      "demopkg1.__path__ after:\r\n",
      "['/Users/hsz/WorkSpace/hsz1273327/TutorialForPython/ipynbs/模块/demopkg1']\r\n",
      "\r\n",
      "demopkg1           : /Users/hsz/WorkSpace/hsz1273327/TutorialForPython/ipynbs/模块/demopkg1/__init__.py\r\n",
      "demopkg1.shared    : /Users/hsz/WorkSpace/hsz1273327/TutorialForPython/ipynbs/模块/demopkg1/shared.py\r\n",
      "demopkg1.not_shared: Not found (No module named 'demopkg1.not_shared')\r\n"
     ]
    }
   ],
   "source": [
    "!python pkgutil_extend_path.py"
   ]
  },
  {
   "cell_type": "markdown",
   "metadata": {},
   "source": [
    "可以看到模块只是按默认的情况在执行,但如果先定义环境变量`PYTHONPATH=extension`再执行"
   ]
  },
  {
   "cell_type": "code",
   "execution_count": 13,
   "metadata": {},
   "outputs": [
    {
     "name": "stdout",
     "output_type": "stream",
     "text": [
      "demopkg1.__path__ before:\r\n",
      "['/Users/hsz/WorkSpace/hsz1273327/TutorialForPython/ipynbs/模块/demopkg1']\r\n",
      "\r\n",
      "demopkg1.__path__ after:\r\n",
      "['/Users/hsz/WorkSpace/hsz1273327/TutorialForPython/ipynbs/模块/demopkg1',\r\n",
      " '/Users/hsz/WorkSpace/hsz1273327/TutorialForPython/ipynbs/模块/extension/demopkg1']\r\n",
      "\r\n",
      "demopkg1           : /Users/hsz/WorkSpace/hsz1273327/TutorialForPython/ipynbs/模块/demopkg1/__init__.py\r\n",
      "demopkg1.shared    : /Users/hsz/WorkSpace/hsz1273327/TutorialForPython/ipynbs/模块/demopkg1/shared.py\r\n",
      "demopkg1.not_shared: /Users/hsz/WorkSpace/hsz1273327/TutorialForPython/ipynbs/模块/extension/demopkg1/not_shared.py\r\n"
     ]
    }
   ],
   "source": [
    "!PYTHONPATH=extension python3 pkgutil_extend_path.py"
   ]
  },
  {
   "cell_type": "markdown",
   "metadata": {},
   "source": [
    "可以看到`extension`中的`not_shared`也可以被导入了.由此可见`__path__`的一个很大的作用就是扩展其子模块的查找范围"
   ]
  },
  {
   "cell_type": "markdown",
   "metadata": {},
   "source": [
    "## 模块对象的生成\n",
    "\n",
    "无论使用哪种导入方法,最终我们获得的都是一个模块对象,那它是怎么生成的呢?实际上这有两个步骤:\n",
    "\n",
    "1. 使用模块查找器`finder`找到模块\n",
    "2. 使用模块加载器`loader`将模块载入内存.\n",
    "\n",
    "这两个的基类都可以在`importlib.abc`中找到"
   ]
  },
  {
   "cell_type": "markdown",
   "metadata": {},
   "source": [
    "### finder\n",
    "\n",
    "finder是一个模块查找器,默认的finder我们无法直接调用,我们总结它可以完成以下三件事中的任意一件：\n",
    "\n",
    "+ 抛出一个异常，然后完全取消所有的导入流程\n",
    "+ 返回一个None，意思是被导入的这个模块不能够被这个查找器所找到。但是他仍然可以被导入流的下一个阶段所找到，比如说一些自定义的查找器或者是Python的标准导入机制。\n",
    "+ 返回一个加载器对象用来加载实际的模块。"
   ]
  },
  {
   "cell_type": "code",
   "execution_count": null,
   "metadata": {},
   "outputs": [],
   "source": []
  }
 ],
 "metadata": {
  "kernelspec": {
   "display_name": "Python 3",
   "language": "python",
   "name": "python3"
  },
  "language_info": {
   "codemirror_mode": {
    "name": "ipython",
    "version": 3
   },
   "file_extension": ".py",
   "mimetype": "text/x-python",
   "name": "python",
   "nbconvert_exporter": "python",
   "pygments_lexer": "ipython3",
   "version": "3.6.4"
  }
 },
 "nbformat": 4,
 "nbformat_minor": 2
}
